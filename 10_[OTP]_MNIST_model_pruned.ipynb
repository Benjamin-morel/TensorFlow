{
  "nbformat": 4,
  "nbformat_minor": 0,
  "metadata": {
    "colab": {
      "provenance": [],
      "authorship_tag": "ABX9TyMFqkZsoI/d7xT/fdxAtzAh",
      "include_colab_link": true
    },
    "kernelspec": {
      "name": "python3",
      "display_name": "Python 3"
    },
    "language_info": {
      "name": "python"
    }
  },
  "cells": [
    {
      "cell_type": "markdown",
      "metadata": {
        "id": "view-in-github",
        "colab_type": "text"
      },
      "source": [
        "<a href=\"https://colab.research.google.com/github/Benjamin-morel/TensorFlow/blob/main/10_%5BOTP%5D_MNIST_model_pruned.ipynb\" target=\"_parent\"><img src=\"https://colab.research.google.com/assets/colab-badge.svg\" alt=\"Open In Colab\"/></a>"
      ]
    },
    {
      "cell_type": "markdown",
      "source": [
        "---\n",
        "\n",
        "\n",
        "# **ML Model: compress an image classification model**\n",
        "\n",
        "| | |\n",
        "|------|------|\n",
        "| Filename | 10_[OTP]_MNIST_model_pruned.ipynb |\n",
        "| Author(s) | Benjamin (contact.upside830@silomails.com) |\n",
        "| Date | February 18, 2025 |\n",
        "| Aim(s) | compress and quantize a model from a pruning method |\n",
        "| Dataset(s) | MNIST digit dataset [[1]](https://www.kaggle.com/datasets/hojjatk/mnist-dataset) |\n",
        "| Version | Python 3.10.12 - TensorFlow 2.17.1 |\n",
        "\n",
        "\n",
        "<br> **!!Read before running!!** <br>\n",
        "1. Fill in the inputs\n",
        "2. CPU execution is enough\n",
        "3. Run all and read comments\n",
        "\n",
        "---\n",
        "\n",
        "#### **Motivation**\n",
        "\n",
        "Optimize a neural network model by pruning and quantifying the model. The results of these 2 optimization techniques are studied.\n",
        "\n",
        "#### **Outline**\n",
        "\n",
        "* Python librairies & display utilities\n",
        "* Model creation and training\n",
        "* Fine-tune a pre-trained model with pruning\n",
        "* Quantization\n",
        "* Confrontation\n",
        "* References\n"
      ],
      "metadata": {
        "id": "v_VGe7_RaMgn"
      }
    },
    {
      "cell_type": "markdown",
      "source": [
        "---\n",
        "\n",
        "## **1. Python librairies & display utilities**"
      ],
      "metadata": {
        "id": "EX4YWSozbFi2"
      }
    },
    {
      "cell_type": "code",
      "source": [
        "# @title 1.1. Python librairies [RUN ME]\n",
        "\n",
        "! pip install -q tensorflow-model-optimization\n",
        "\n",
        "\"\"\"math\"\"\"\n",
        "import numpy as np\n",
        "\n",
        "\"\"\"file opening\"\"\"\n",
        "import os\n",
        "import tempfile\n",
        "import zipfile\n",
        "\n",
        "\"\"\"data\"\"\"\n",
        "import pandas as pd\n",
        "\n",
        "\"\"\"ML models\"\"\"\n",
        "import tensorflow as tf\n",
        "\n",
        "\"\"\"optimization package\"\"\"\n",
        "import tensorflow_model_optimization as tfmot\n",
        "from tensorflow_model_optimization.python.core.keras.compat import keras\n",
        "\n",
        "\"\"\"performances\"\"\"\n",
        "from time import time\n",
        "start = time()"
      ],
      "metadata": {
        "id": "MB_mAsO3bNF9",
        "cellView": "form"
      },
      "execution_count": 1,
      "outputs": []
    },
    {
      "cell_type": "markdown",
      "source": [
        "---\n",
        "\n",
        "\n",
        "## **2. Model creation and training**"
      ],
      "metadata": {
        "id": "N1i89dMtcLmG"
      }
    },
    {
      "cell_type": "markdown",
      "source": [
        "### 2.1. Data acquisition\n",
        "\n",
        "An initial model is trained using the MNIST database. This initial model has not yet been optimized."
      ],
      "metadata": {
        "id": "87EyXDhkiU7G"
      }
    },
    {
      "cell_type": "code",
      "source": [
        "def get_data_MNIST():\n",
        "  mnist = tf.keras.datasets.mnist # import MNIST build-in dataset\n",
        "  (x_train, y_train), (x_test, y_test) = mnist.load_data()\n",
        "  return x_train, y_train, x_test, y_test"
      ],
      "metadata": {
        "id": "ZV4Sl1nbcMQi"
      },
      "execution_count": 2,
      "outputs": []
    },
    {
      "cell_type": "code",
      "source": [
        "x_train, y_train, x_test, y_test = get_data_MNIST()\n",
        "x_train, x_test = x_train / 255.0, x_test / 255.0 # normalization"
      ],
      "metadata": {
        "id": "ZVyL_cnbcmts"
      },
      "execution_count": 3,
      "outputs": []
    },
    {
      "cell_type": "markdown",
      "source": [
        "### 2.2. Model architecture"
      ],
      "metadata": {
        "id": "uGpSdsihiZrV"
      }
    },
    {
      "cell_type": "code",
      "source": [
        "def create_model():\n",
        "  DR = 0.2 # according to [4]\n",
        "  model = keras.Sequential([\n",
        "      keras.layers.Flatten(input_shape=(28, 28)),\n",
        "      keras.layers.Dense(128, activation='relu'),\n",
        "      keras.layers.Dropout(DR),\n",
        "      keras.layers.Dense(10),\n",
        "      keras.layers.Softmax()\n",
        "      ])\n",
        "\n",
        "  loss_fn = keras.losses.SparseCategoricalCrossentropy(from_logits=False) # loss function (outputs are not logits but proba)\n",
        "  model.compile(optimizer=\"sgd\", loss=loss_fn, metrics=['accuracy'])\n",
        "\n",
        "  return model"
      ],
      "metadata": {
        "id": "zsqSw-FAcqjQ"
      },
      "execution_count": 4,
      "outputs": []
    },
    {
      "cell_type": "markdown",
      "source": [
        "### 2.3. Model training"
      ],
      "metadata": {
        "id": "U8VFe02kichB"
      }
    },
    {
      "cell_type": "code",
      "source": [
        "def train_model(model, features, labels, **kwargs):\n",
        "  kwargs.setdefault(\"epochs\", 5)\n",
        "  kwargs.setdefault(\"validation_split\", 0)\n",
        "  kwargs.setdefault(\"batch_size\", 32)\n",
        "  kwargs.setdefault(\"callbacks\", None)\n",
        "  kwargs.setdefault(\"verbose\", 2)\n",
        "  log = model.fit(features, labels, **kwargs)\n",
        "\n",
        "  return log.history[\"loss\"], log.history[\"accuracy\"], log.history[\"val_loss\"], log.history[\"val_accuracy\"]"
      ],
      "metadata": {
        "id": "IrIseumTcts4"
      },
      "execution_count": 5,
      "outputs": []
    },
    {
      "cell_type": "code",
      "source": [
        "epochs = 15\n",
        "validation_split = 0.2\n",
        "batch_size = 64\n",
        "\n",
        "model_MNIST = create_model()\n",
        "history = train_model(model_MNIST, x_train, y_train, validation_split=validation_split, epochs=epochs, batch_size=batch_size)"
      ],
      "metadata": {
        "colab": {
          "base_uri": "https://localhost:8080/"
        },
        "id": "E35iVcWzcvMt",
        "outputId": "d0c37c9e-688e-4ab5-8469-4d7c832f31af"
      },
      "execution_count": 6,
      "outputs": [
        {
          "output_type": "stream",
          "name": "stdout",
          "text": [
            "Epoch 1/15\n",
            "750/750 - 6s - loss: 1.0137 - accuracy: 0.7279 - val_loss: 0.5031 - val_accuracy: 0.8781 - 6s/epoch - 7ms/step\n",
            "Epoch 2/15\n",
            "750/750 - 5s - loss: 0.5169 - accuracy: 0.8566 - val_loss: 0.3832 - val_accuracy: 0.8995 - 5s/epoch - 7ms/step\n",
            "Epoch 3/15\n",
            "750/750 - 5s - loss: 0.4331 - accuracy: 0.8784 - val_loss: 0.3373 - val_accuracy: 0.9078 - 5s/epoch - 7ms/step\n",
            "Epoch 4/15\n",
            "750/750 - 6s - loss: 0.3899 - accuracy: 0.8887 - val_loss: 0.3107 - val_accuracy: 0.9122 - 6s/epoch - 8ms/step\n",
            "Epoch 5/15\n",
            "750/750 - 4s - loss: 0.3578 - accuracy: 0.8979 - val_loss: 0.2897 - val_accuracy: 0.9183 - 4s/epoch - 6ms/step\n",
            "Epoch 6/15\n",
            "750/750 - 5s - loss: 0.3364 - accuracy: 0.9043 - val_loss: 0.2739 - val_accuracy: 0.9227 - 5s/epoch - 7ms/step\n",
            "Epoch 7/15\n",
            "750/750 - 4s - loss: 0.3179 - accuracy: 0.9099 - val_loss: 0.2611 - val_accuracy: 0.9268 - 4s/epoch - 6ms/step\n",
            "Epoch 8/15\n",
            "750/750 - 2s - loss: 0.3031 - accuracy: 0.9142 - val_loss: 0.2501 - val_accuracy: 0.9301 - 2s/epoch - 3ms/step\n",
            "Epoch 9/15\n",
            "750/750 - 3s - loss: 0.2917 - accuracy: 0.9170 - val_loss: 0.2397 - val_accuracy: 0.9334 - 3s/epoch - 4ms/step\n",
            "Epoch 10/15\n",
            "750/750 - 3s - loss: 0.2775 - accuracy: 0.9213 - val_loss: 0.2317 - val_accuracy: 0.9348 - 3s/epoch - 4ms/step\n",
            "Epoch 11/15\n",
            "750/750 - 4s - loss: 0.2678 - accuracy: 0.9239 - val_loss: 0.2242 - val_accuracy: 0.9364 - 4s/epoch - 5ms/step\n",
            "Epoch 12/15\n",
            "750/750 - 2s - loss: 0.2599 - accuracy: 0.9268 - val_loss: 0.2177 - val_accuracy: 0.9389 - 2s/epoch - 3ms/step\n",
            "Epoch 13/15\n",
            "750/750 - 2s - loss: 0.2491 - accuracy: 0.9284 - val_loss: 0.2101 - val_accuracy: 0.9402 - 2s/epoch - 3ms/step\n",
            "Epoch 14/15\n",
            "750/750 - 3s - loss: 0.2420 - accuracy: 0.9308 - val_loss: 0.2041 - val_accuracy: 0.9431 - 3s/epoch - 3ms/step\n",
            "Epoch 15/15\n",
            "750/750 - 3s - loss: 0.2357 - accuracy: 0.9333 - val_loss: 0.1991 - val_accuracy: 0.9442 - 3s/epoch - 4ms/step\n"
          ]
        }
      ]
    },
    {
      "cell_type": "markdown",
      "source": [
        "### 2.4. Evaluation and saving\n",
        "\n",
        "In order to compare the initial and optimized/compressed models, model size and prediction accuracy are calculated. For this, predictions are computed with a test dataset labelled and model size is deducted after saving the model in *.keras* format."
      ],
      "metadata": {
        "id": "a1WF-JAPie4K"
      }
    },
    {
      "cell_type": "code",
      "source": [
        "def evaluate_model(model, features, labels):\n",
        "  start_interference = time()\n",
        "  loss, accuracy = model.evaluate(features, labels, verbose=0)\n",
        "  interference_time = time()-start_interference\n",
        "  print(\"Test loss value %0.1f \\nTest accuracy: %0.1f %%\" %(loss, 100*accuracy))\n",
        "  return accuracy, interference_time/len(features)"
      ],
      "metadata": {
        "id": "LtiEbq2khMBa"
      },
      "execution_count": 7,
      "outputs": []
    },
    {
      "cell_type": "code",
      "source": [
        "def save_model(model, path):\n",
        "  keras.models.save_model(model, path)\n",
        "  print(\"Model correcty saved\")"
      ],
      "metadata": {
        "id": "7KLxfrrphtzO"
      },
      "execution_count": 8,
      "outputs": []
    },
    {
      "cell_type": "code",
      "source": [
        "initial_accuracy, initiale_time_interf = evaluate_model(model_MNIST, x_test, y_test)"
      ],
      "metadata": {
        "colab": {
          "base_uri": "https://localhost:8080/"
        },
        "id": "sLsLJbk8h4sq",
        "outputId": "0530363b-3d21-4312-d6ab-92c6364ca2ce"
      },
      "execution_count": 9,
      "outputs": [
        {
          "output_type": "stream",
          "name": "stdout",
          "text": [
            "Test loss value 0.2 \n",
            "Test accuracy: 94.3 %\n"
          ]
        }
      ]
    },
    {
      "cell_type": "code",
      "source": [
        "path='10_MNIST_model_pruned_initial.keras'\n",
        "save_model(model_MNIST, path)\n",
        "initial_size = os.path.getsize(path)"
      ],
      "metadata": {
        "colab": {
          "base_uri": "https://localhost:8080/"
        },
        "id": "45DCAZIDh9y_",
        "outputId": "2c58d78b-fd33-4312-892b-ae3f453220a7"
      },
      "execution_count": 10,
      "outputs": [
        {
          "output_type": "stream",
          "name": "stdout",
          "text": [
            "Model correcty saved\n"
          ]
        }
      ]
    },
    {
      "cell_type": "markdown",
      "source": [
        "---\n",
        "\n",
        "\n",
        "## **3. Fine-tune pre-trained model with pruning**\n",
        "\n",
        "The pruning process is a technique used to reduce the size and complexity of the model by removing unnecessary weights while aiming to maintain the model's performance. The importance of a weight can be determined using various criteria, such as its magnitude (magnitude-based pruning) or its impact on the loss function.\n",
        "\n",
        "Pruning introduces sparsity into the model, meaning that many of the weights become zero. Here, the model starts its training with 50% sparsity (50% zeros in weights) and ends with 80% sparsity."
      ],
      "metadata": {
        "id": "R8ndTO7XiMgi"
      }
    },
    {
      "cell_type": "code",
      "source": [
        "def create_pruned_model(initial_model, end_step):\n",
        "  prune_low_magnitude = tfmot.sparsity.keras.prune_low_magnitude # pruning technique = magnitude-based pruning\n",
        "\n",
        "  pruning_params = {'pruning_schedule': tfmot.sparsity.keras.PolynomialDecay(initial_sparsity=0.50,\n",
        "                                                                             final_sparsity=0.80,\n",
        "                                                                             begin_step=0,\n",
        "                                                                             end_step=end_step)}\n",
        "\n",
        "  model_for_pruning = prune_low_magnitude(model_MNIST, **pruning_params)\n",
        "\n",
        "  model_for_pruning.compile(optimizer='sgd',\n",
        "                            loss=keras.losses.SparseCategoricalCrossentropy(from_logits=False),\n",
        "                            metrics=['accuracy'])\n",
        "\n",
        "  return model_for_pruning"
      ],
      "metadata": {
        "id": "2vyiFQdwmlkl"
      },
      "execution_count": 11,
      "outputs": []
    },
    {
      "cell_type": "code",
      "source": [
        "num_images = x_train.shape[0] * (1-validation_split)\n",
        "end_step = np.ceil(num_images / batch_size).astype(np.int32) * epochs\n",
        "\n",
        "model_for_pruning = create_pruned_model(model_MNIST, end_step)"
      ],
      "metadata": {
        "id": "6YYQnBbNd7V8"
      },
      "execution_count": 12,
      "outputs": []
    },
    {
      "cell_type": "markdown",
      "source": [
        "After pruning, the model is typically fine-tuned (retrained) to recover any loss in performance that may have occurred due to the removal of weights. This step helps the model to adapt to the new, sparser structure.\n",
        "\n",
        "This callback `tfmot.sparsity.keras.UpdatePruningStep()` is responsible for updating the pruning step during training. It ensures that the pruning schedule is followed correctly, adjusting the sparsity of the model according to the defined pruning parameters."
      ],
      "metadata": {
        "id": "HzLI27PCBZWI"
      }
    },
    {
      "cell_type": "code",
      "source": [
        "epochs = 5\n",
        "history_pruned = train_model(model_for_pruning, x_train, y_train, validation_split=validation_split, epochs=epochs, batch_size=batch_size, callbacks=tfmot.sparsity.keras.UpdatePruningStep())"
      ],
      "metadata": {
        "colab": {
          "base_uri": "https://localhost:8080/"
        },
        "id": "JynQfLckjDS5",
        "outputId": "f0dc0cc6-8f59-4284-ed6b-1087e0d6aeb7"
      },
      "execution_count": 13,
      "outputs": [
        {
          "output_type": "stream",
          "name": "stdout",
          "text": [
            "Epoch 1/5\n",
            "750/750 - 8s - loss: 0.2595 - accuracy: 0.9302 - val_loss: 0.2178 - val_accuracy: 0.9441 - 8s/epoch - 10ms/step\n",
            "Epoch 2/5\n",
            "750/750 - 7s - loss: 0.2588 - accuracy: 0.9305 - val_loss: 0.2156 - val_accuracy: 0.9443 - 7s/epoch - 9ms/step\n",
            "Epoch 3/5\n",
            "750/750 - 6s - loss: 0.2580 - accuracy: 0.9309 - val_loss: 0.2152 - val_accuracy: 0.9436 - 6s/epoch - 8ms/step\n",
            "Epoch 4/5\n",
            "750/750 - 4s - loss: 0.2634 - accuracy: 0.9290 - val_loss: 0.2172 - val_accuracy: 0.9417 - 4s/epoch - 5ms/step\n",
            "Epoch 5/5\n",
            "750/750 - 3s - loss: 0.2676 - accuracy: 0.9285 - val_loss: 0.2165 - val_accuracy: 0.9442 - 3s/epoch - 4ms/step\n"
          ]
        }
      ]
    },
    {
      "cell_type": "markdown",
      "source": [
        "Such as the initial model, the pruned model is saved to deduct its size and evaluate to compute the accuracy."
      ],
      "metadata": {
        "id": "eHXRTWONL6kk"
      }
    },
    {
      "cell_type": "code",
      "source": [
        "pruned_accuracy, pruned_time_interf = evaluate_model(model_for_pruning, x_test, y_test)"
      ],
      "metadata": {
        "colab": {
          "base_uri": "https://localhost:8080/"
        },
        "id": "lz6DQf30jiO6",
        "outputId": "0215830c-90b5-4877-e475-956df3646ca5"
      },
      "execution_count": 14,
      "outputs": [
        {
          "output_type": "stream",
          "name": "stdout",
          "text": [
            "Test loss value 0.2 \n",
            "Test accuracy: 94.2 %\n"
          ]
        }
      ]
    },
    {
      "cell_type": "code",
      "source": [
        "model_for_export = tfmot.sparsity.keras.strip_pruning(model_for_pruning)\n",
        "\n",
        "path='10_MNIST_model_pruned.keras'\n",
        "save_model(model_for_export, path)\n",
        "pruned_size = os.path.getsize(path)"
      ],
      "metadata": {
        "colab": {
          "base_uri": "https://localhost:8080/"
        },
        "id": "NZxOkZZ4jxC8",
        "outputId": "c5ef1c27-81c8-4722-ef5d-947f6a94e811"
      },
      "execution_count": 15,
      "outputs": [
        {
          "output_type": "stream",
          "name": "stdout",
          "text": [
            "Model correcty saved\n"
          ]
        }
      ]
    },
    {
      "cell_type": "markdown",
      "source": [
        "---\n",
        "\n",
        "\n",
        "## **4. Quantization**\n",
        "\n",
        "Quantization is a technique used to reduce the size and computational requirements of a neural network model by reducing the precision of the weights and activations."
      ],
      "metadata": {
        "id": "yioQ4Qxk_JfN"
      }
    },
    {
      "cell_type": "code",
      "source": [
        "quantized_model = tfmot.quantization.keras.quantize_model(model_MNIST)"
      ],
      "metadata": {
        "id": "vVknK6csJs48"
      },
      "execution_count": 16,
      "outputs": []
    },
    {
      "cell_type": "code",
      "source": [
        "quantized_model.compile(optimizer='sgd',\n",
        "                        loss=keras.losses.SparseCategoricalCrossentropy(from_logits=False),\n",
        "                        metrics=['accuracy'])\n",
        "\n",
        "epochs = 1\n",
        "history_quantized = train_model(quantized_model, x_train, y_train, validation_split=validation_split, epochs=epochs, batch_size=batch_size)"
      ],
      "metadata": {
        "colab": {
          "base_uri": "https://localhost:8080/"
        },
        "id": "a4b2AFRpJzYr",
        "outputId": "cd90ba39-0540-4937-96fc-b59bbf2e1be2"
      },
      "execution_count": 17,
      "outputs": [
        {
          "output_type": "stream",
          "name": "stdout",
          "text": [
            "750/750 - 5s - loss: 0.2625 - accuracy: 0.9291 - val_loss: 0.2042 - val_accuracy: 0.9455 - 5s/epoch - 6ms/step\n"
          ]
        }
      ]
    },
    {
      "cell_type": "code",
      "source": [
        "converter = tf.lite.TFLiteConverter.from_keras_model(quantized_model)\n",
        "converter.optimizations = [tf.lite.Optimize.DEFAULT]\n",
        "\n",
        "quantized_tflite_model = converter.convert()"
      ],
      "metadata": {
        "colab": {
          "base_uri": "https://localhost:8080/"
        },
        "id": "izPMtiSX1VTS",
        "outputId": "35aabe8b-1658-4ee3-b6b4-b54a1bb3b393"
      },
      "execution_count": 18,
      "outputs": [
        {
          "output_type": "stream",
          "name": "stderr",
          "text": [
            "/usr/local/lib/python3.11/dist-packages/tensorflow/lite/python/convert.py:997: UserWarning: Statistics for quantized inputs were expected, but not specified; continuing anyway.\n",
            "  warnings.warn(\n"
          ]
        }
      ]
    },
    {
      "cell_type": "code",
      "source": [
        "def evaluate_model(interpreter):\n",
        "  input_index = interpreter.get_input_details()[0][\"index\"]\n",
        "  output_index = interpreter.get_output_details()[0][\"index\"]\n",
        "\n",
        "  # Run predictions on every image in the \"test\" dataset.\n",
        "  prediction_digits = []\n",
        "  start_interference = time()\n",
        "  for i, test_image in enumerate(x_test):\n",
        "    if i % 1000 == 0:\n",
        "      print('Evaluated on {n} results so far.'.format(n=i))\n",
        "    # Pre-processing: add batch dimension and convert to float32 to match with\n",
        "    # the model's input data format.\n",
        "    test_image = np.expand_dims(test_image, axis=0).astype(np.float32)\n",
        "    interpreter.set_tensor(input_index, test_image)\n",
        "\n",
        "    # Run inference.\n",
        "    interpreter.invoke()\n",
        "\n",
        "    # Post-processing: remove batch dimension and find the digit with highest\n",
        "    # probability.\n",
        "    output = interpreter.tensor(output_index)\n",
        "    digit = np.argmax(output()[0])\n",
        "    prediction_digits.append(digit)\n",
        "\n",
        "  print('\\n')\n",
        "  # Compare prediction results with ground truth labels to calculate accuracy.\n",
        "  prediction_digits = np.array(prediction_digits)\n",
        "  accuracy = (prediction_digits == y_test).mean()\n",
        "  interference_time = time()-start_interference\n",
        "\n",
        "  return accuracy, interference_time/len(x_test)"
      ],
      "metadata": {
        "id": "vwJjBNJJ1XZO"
      },
      "execution_count": 19,
      "outputs": []
    },
    {
      "cell_type": "code",
      "source": [
        "interpreter = tf.lite.Interpreter(model_content=quantized_tflite_model)\n",
        "interpreter.allocate_tensors()\n",
        "\n",
        "quantized_accuracy, quantized_time_interf = evaluate_model(interpreter)"
      ],
      "metadata": {
        "colab": {
          "base_uri": "https://localhost:8080/"
        },
        "id": "T_x3Q2vu1ZSA",
        "outputId": "ae55cc6c-6e12-4398-d86e-0530cac1ac8f"
      },
      "execution_count": 20,
      "outputs": [
        {
          "output_type": "stream",
          "name": "stdout",
          "text": [
            "Evaluated on 0 results so far.\n",
            "Evaluated on 1000 results so far.\n",
            "Evaluated on 2000 results so far.\n",
            "Evaluated on 3000 results so far.\n",
            "Evaluated on 4000 results so far.\n",
            "Evaluated on 5000 results so far.\n",
            "Evaluated on 6000 results so far.\n",
            "Evaluated on 7000 results so far.\n",
            "Evaluated on 8000 results so far.\n",
            "Evaluated on 9000 results so far.\n",
            "\n",
            "\n"
          ]
        }
      ]
    },
    {
      "cell_type": "code",
      "source": [
        "path='10_MNIST_model_pruned_quantized.keras'\n",
        "\n",
        "with open(path, 'wb') as f:\n",
        "  f.write(quantized_tflite_model)\n",
        "  f.close()\n",
        "\n",
        "quantized_size = os.path.getsize(path)"
      ],
      "metadata": {
        "id": "m7-rnFWO1a_z"
      },
      "execution_count": 21,
      "outputs": []
    },
    {
      "cell_type": "markdown",
      "source": [
        "---\n",
        "\n",
        "\n",
        "## **5. Confrontation and conclusion**"
      ],
      "metadata": {
        "id": "fX9ITfpe1dAi"
      }
    },
    {
      "cell_type": "code",
      "source": [
        "def plot_comparison(size_initial, size_pruned, size_quantized, acc_initial, acc_pruned, acc_quantized, time_initial, time_pruned, time_quantized):\n",
        "  df = pd.DataFrame(columns=[\"model\", \"size\", \"accuracy\", \"time for interference\"])\n",
        "  df.loc[0] = ['', \"[bytes]\", \"[%]\", \"[ms]\"]\n",
        "  df.loc[1] = ['initial', \"%.0f\" % size_initial, \"%.1f\" % acc_initial, \"%.3f\" % time_initial]\n",
        "  df.loc[2] = ['pruned', \"%.0f\" % size_pruned, \"%.1f\" % acc_pruned, \"%.3f\" % time_pruned]\n",
        "  df.loc[3] = ['quantized', \"%.0f\" % size_quantized, \"%.1f\" % acc_quantized, \"%.3f\" % time_quantized]\n",
        "  return print(df)\n",
        "\n",
        "plot_comparison(initial_size, pruned_size, quantized_size, 100*initial_accuracy, 100*pruned_accuracy, 100*quantized_accuracy, 1000*initiale_time_interf, 1000*pruned_time_interf, 1000*quantized_time_interf)"
      ],
      "metadata": {
        "colab": {
          "base_uri": "https://localhost:8080/"
        },
        "id": "b3BVinBE1eB7",
        "outputId": "8042ca5b-de43-4091-80c9-a8b384db9955"
      },
      "execution_count": 22,
      "outputs": [
        {
          "output_type": "stream",
          "name": "stdout",
          "text": [
            "       model     size accuracy time for interference\n",
            "0             [bytes]      [%]                  [ms]\n",
            "1    initial   840351     94.3                 0.092\n",
            "2     pruned   423122     94.2                 0.076\n",
            "3  quantized   105064     94.3                 0.021\n"
          ]
        }
      ]
    },
    {
      "cell_type": "markdown",
      "source": [
        "Optimization of the neural network model by pruning and quantization showed very positive results in terms of model size, accuracy and inference time.\n",
        "\n",
        "The level of accuracy remains (almost) unchanged whatever the model. However, model size is divided by 2 after pruning and by 8 after pruning and quantization.\n",
        "\n",
        "The inference time of the quantized model was significantly reduced to 0.020 ms, around 4 times faster than the initial, pruned model. This is crucial for real-time applications where rapid inference is essential."
      ],
      "metadata": {
        "id": "02TKcOv5MLI0"
      }
    },
    {
      "cell_type": "markdown",
      "source": [
        "---\n",
        "\n",
        "\n",
        "## **6. References**\n",
        "\n",
        "\n",
        "| | | | | |\n",
        "|------|------|------|------|------|\n",
        "| Index | Title | Author(s) | Type | Comments |\n",
        "|[[1]](https://www.kaggle.com/datasets/hojjatk/mnist-dataset) | MNIST digit dataset | Y. LeCun, C. Cortes, C.J.C. Burges | dataset | - |\n",
        "|[[2]](https://www.tensorflow.org/model_optimization/guide/pruning/pruning_with_keras) | Pruning in Keras example | TensorFlow | Tutoriels | - |\n",
        "|[[3]](https://www.tensorflow.org/model_optimization/guide/quantization/training_example) | Quantization aware training in Keras example | TensorFlow | Tutoriels | - |"
      ],
      "metadata": {
        "id": "zmcksUNYK-lq"
      }
    },
    {
      "cell_type": "code",
      "source": [
        "print(\"Notebook run in %.1f seconds on %s\" % ((time() - start), tf.config.list_physical_devices(device_type=None)[-1][-1]))"
      ],
      "metadata": {
        "colab": {
          "base_uri": "https://localhost:8080/"
        },
        "id": "NdkghpqJ1iYi",
        "outputId": "fcdd1b04-69a1-4217-e36a-200cef1d87d6"
      },
      "execution_count": 23,
      "outputs": [
        {
          "output_type": "stream",
          "name": "stdout",
          "text": [
            "Notebook run in 116.6 seconds on CPU\n"
          ]
        }
      ]
    }
  ]
}