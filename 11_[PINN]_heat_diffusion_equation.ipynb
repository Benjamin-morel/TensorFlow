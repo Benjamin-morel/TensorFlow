{
  "nbformat": 4,
  "nbformat_minor": 0,
  "metadata": {
    "colab": {
      "provenance": [],
      "gpuType": "T4",
      "authorship_tag": "ABX9TyMb9qHCIwVPeZv7lnNhbB4u",
      "include_colab_link": true
    },
    "kernelspec": {
      "name": "python3",
      "display_name": "Python 3"
    },
    "language_info": {
      "name": "python"
    },
    "accelerator": "GPU"
  },
  "cells": [
    {
      "cell_type": "markdown",
      "metadata": {
        "id": "view-in-github",
        "colab_type": "text"
      },
      "source": [
        "<a href=\"https://colab.research.google.com/github/Benjamin-morel/TensorFlow/blob/main/11_%5BPINN%5D_heat_diffusion_equation.ipynb\" target=\"_parent\"><img src=\"https://colab.research.google.com/assets/colab-badge.svg\" alt=\"Open In Colab\"/></a>"
      ]
    },
    {
      "cell_type": "markdown",
      "source": [
        "\n",
        "\n",
        "---\n",
        "\n",
        "\n",
        "# **Machine Learning Model: physics-informed neural network and thermal diffusion**\n",
        "\n",
        "| | |\n",
        "|------|------|\n",
        "| Filename | 11_[PINN]_heat_diffusion_equation.ipynb |\n",
        "| Author(s) | Benjamin Morel (benjaminmorel27@gmail.com) |\n",
        "| Date | March 01, 2025 |\n",
        "| Aim(s) | Build and train a PINN model for solving a thermal diffusion problem |\n",
        "| Dataset(s) | - |\n",
        "| Version | Python 3.10.12 - TensorFlow 2.17.1 |\n",
        "\n",
        "\n",
        "<br> **!!Read before running!!** <br>\n",
        "1. Fill in the inputs\n",
        "2. GPU execution is recommended\n",
        "3. Run all and read comments"
      ],
      "metadata": {
        "id": "p9_7vTfRatCf"
      }
    },
    {
      "cell_type": "markdown",
      "source": [
        "---\n",
        "\n",
        "#### **Motivation**"
      ],
      "metadata": {
        "id": "mlOKdvYSax2l"
      }
    },
    {
      "cell_type": "markdown",
      "source": [
        "---\n",
        "\n",
        "## **0. Input section**"
      ],
      "metadata": {
        "id": "IEhUsU09a09T"
      }
    },
    {
      "cell_type": "code",
      "source": [
        "T_coffee = 100 # coffee temperature [°C]\n",
        "T_room = 19 # environement temperature [°C]\n",
        "t_cool = 15 # cooling time [min]"
      ],
      "metadata": {
        "id": "cT-8HQhIa11x"
      },
      "execution_count": 1,
      "outputs": []
    },
    {
      "cell_type": "markdown",
      "source": [
        "---\n",
        "\n",
        "## **1. Python librairies & display utilities**"
      ],
      "metadata": {
        "id": "IfKknh6sa5Mr"
      }
    },
    {
      "cell_type": "code",
      "execution_count": 2,
      "metadata": {
        "id": "5P7w44hYal2P"
      },
      "outputs": [],
      "source": [
        "# @title 1.1. Python librairies [RUN ME]\n",
        "\n",
        "\"\"\"math\"\"\"\n",
        "import numpy as np # linear algebra\n",
        "from functools import partial  # create a new function with pre-filled arguments\n",
        "\n",
        "\"\"\"ML models\"\"\"\n",
        "import tensorflow as tf # framework for ML/DL model\n",
        "from tensorflow import keras # API used to build model in tensorflow\n",
        "from keras import optimizers # optimization algorithms\n",
        "\n",
        "\"\"\"display\"\"\"\n",
        "import matplotlib.pyplot as plt # graphing package\n",
        "\n",
        "\"\"\"performances\"\"\"\n",
        "from time import time # timer\n",
        "start = time()\n",
        "\n",
        "DEVICE = tf.config.list_physical_devices(device_type=None)[-1][-1] # CPU or GPU"
      ]
    },
    {
      "cell_type": "code",
      "source": [
        "# @title 1.2. Import Github files [RUN ME]\n",
        "\n",
        "\"\"\"clone the Github repertory TensorFlow and import files (see section 3.3)\"\"\"\n"
      ],
      "metadata": {
        "colab": {
          "base_uri": "https://localhost:8080/",
          "height": 35
        },
        "id": "PFDspCYMbIt7",
        "outputId": "fed8fbf5-078c-43ec-8b6e-76903ddcce73"
      },
      "execution_count": 3,
      "outputs": [
        {
          "output_type": "execute_result",
          "data": {
            "text/plain": [
              "'clone the Github repertory TensorFlow and import files (see section 3.3)'"
            ],
            "application/vnd.google.colaboratory.intrinsic+json": {
              "type": "string"
            }
          },
          "metadata": {},
          "execution_count": 3
        }
      ]
    },
    {
      "cell_type": "code",
      "source": [
        "# @title 1.3. Figure plots [RUN ME]\n",
        "\n",
        "\"\"\"plot the temperature evolution according to the time (see section 2.1)\"\"\"\n",
        "def plot_evolution(t, T, t_data, T_data):\n",
        "    plt.plot(t, T) # temperature computed with physics laws\n",
        "    plt.plot(t_data, T_data, 'o') # temperature measured\n",
        "    plt.xlabel('Time [s]'), plt.ylabel('Temperature [°C]'), plt.legend(['Equation', 'Data'])\n",
        "\n",
        "def plot_predictions(model, t, T, t_data, T_data):\n",
        "    predictions = model.predict(t)\n",
        "    plot_evolution(t, T, t_data, T_data)\n",
        "    plt.plot(t, predictions, alpha=0.8)\n",
        "    plt.xlabel('Time [s]'), plt.ylabel('Temperature [°C]'), plt.legend(['Equation', 'Data', 'PINN'])"
      ],
      "metadata": {
        "id": "IdmYpTsDbJ5v"
      },
      "execution_count": 4,
      "outputs": []
    },
    {
      "cell_type": "markdown",
      "source": [
        "---\n",
        "\n",
        "\n",
        "## **2. Data generation and boundaries confiditions**"
      ],
      "metadata": {
        "id": "JoQSUlPgbMZb"
      }
    },
    {
      "cell_type": "code",
      "source": [
        "\"\"\"convert a NumPy array into a TensorFlow tensor\"\"\"\n",
        "def np_to_tf(x):\n",
        "    tensor = tf.convert_to_tensor(x, dtype=tf.float32)\n",
        "    tensor = tf.reshape(tensor, (len(x), -1)) # vertical tensor\n",
        "\n",
        "    with tf.device('/' + DEVICE + ':0'):\n",
        "        return tensor"
      ],
      "metadata": {
        "id": "zbtjO4yLbToP"
      },
      "execution_count": 5,
      "outputs": []
    },
    {
      "cell_type": "code",
      "source": [
        "\"\"\"give the temperature of the coffee at any time\"\"\"\n",
        "def physics_law(time, Tenv, T0, CR):\n",
        "    T = Tenv + (T0 - Tenv) * np.exp(-CR * time) # solution of the equation\n",
        "    return T # in °C"
      ],
      "metadata": {
        "id": "VI0FFTrVbUqo"
      },
      "execution_count": 6,
      "outputs": []
    },
    {
      "cell_type": "code",
      "source": [
        "np.random.seed(10)\n",
        "\n",
        "cooling_rate = 0.005 # cooling rate\n",
        "\n",
        "t = np.linspace(0, 60*t_cool, 60*t_cool)\n",
        "\n",
        "T = physics_law(t, T_room, T_coffee, cooling_rate)"
      ],
      "metadata": {
        "id": "rH8EeZ00bVq9"
      },
      "execution_count": 7,
      "outputs": []
    },
    {
      "cell_type": "code",
      "source": [
        "t_measured = np.linspace(0, int(t_cool/4)*60, 10)\n",
        "T_measured = physics_law(t_measured, T_room, T_coffee, cooling_rate) + 2 * np.random.randn(10)\n",
        "\n",
        "evolution = plot_evolution(t, T, t_measured, T_measured)"
      ],
      "metadata": {
        "colab": {
          "base_uri": "https://localhost:8080/",
          "height": 449
        },
        "id": "iNMPU6d9bXTo",
        "outputId": "915329e4-9f86-4274-cff2-4e5028eff812"
      },
      "execution_count": 8,
      "outputs": [
        {
          "output_type": "display_data",
          "data": {
            "text/plain": [
              "<Figure size 640x480 with 1 Axes>"
            ],
            "image/png": "[encoded data removed]"
          },
          "metadata": {}
        }
      ]
    },
    {
      "cell_type": "markdown",
      "source": [
        "---\n",
        "\n",
        "\n",
        "## **3. PINN model and physics loss**"
      ],
      "metadata": {
        "id": "H8_8sFrebZhC"
      }
    },
    {
      "cell_type": "code",
      "source": [
        "class create_PINN_model(keras.Model):\n",
        "    def __init__(self,\n",
        "                 input_dim,\n",
        "                 output_dim,\n",
        "                 n_units=100,\n",
        "                 epochs=1000,\n",
        "                 loss=keras.losses.MeanSquaredError(),\n",
        "                 lr=1e-3,\n",
        "                 loss2=None,\n",
        "                 loss2_weight=0.1):\n",
        "        super(create_PINN_model, self).__init__()\n",
        "\n",
        "        self.epochs = epochs\n",
        "        self.loss = loss\n",
        "        self.loss2 = loss2\n",
        "        self.loss2_weight = loss2_weight\n",
        "        self.lr = lr\n",
        "        self.n_units = n_units\n",
        "\n",
        "        self.layers_ = keras.Sequential([\n",
        "            keras.layers.Dense(input_dim, activation='sigmoid'),\n",
        "            keras.layers.Dense(self.n_units, activation='sigmoid'),\n",
        "            keras.layers.Dense(self.n_units, activation='sigmoid'),\n",
        "            keras.layers.Dense(self.n_units, activation='sigmoid'),\n",
        "            keras.layers.Dense(output_dim)\n",
        "        ])\n",
        "\n",
        "    def call(self, x):\n",
        "        return self.layers_(x)\n",
        "\n",
        "    def fit(self, X, y):\n",
        "        Xt = np_to_tf(X)\n",
        "        yt = np_to_tf(y)\n",
        "\n",
        "        optimizer = optimizers.Adam(learning_rate=self.lr)\n",
        "        losses = []\n",
        "\n",
        "        for epoch in range(self.epochs):\n",
        "            with tf.GradientTape() as tape:\n",
        "                outputs = self(Xt, training=True)\n",
        "                loss = self.loss(yt, outputs)\n",
        "                if self.loss2:\n",
        "                    loss += self.loss2_weight * self.loss2(self)\n",
        "\n",
        "            gradients = tape.gradient(loss, self.trainable_variables)\n",
        "            optimizer.apply_gradients(zip(gradients, self.trainable_variables))\n",
        "            losses.append(loss.numpy())\n",
        "\n",
        "            if epoch % int(self.epochs/10) == 0:\n",
        "                print(f\"Epoch {epoch}/{self.epochs}, loss: {losses[-1]:.2f}\")\n",
        "\n",
        "        return losses\n",
        "\n",
        "    def predict(self, X):\n",
        "        Xt = np_to_tf(X)\n",
        "        return self(Xt, training=False).numpy()\n"
      ],
      "metadata": {
        "id": "5GiOGeOmbbQz"
      },
      "execution_count": 9,
      "outputs": []
    },
    {
      "cell_type": "code",
      "source": [
        "def physics_loss(model):\n",
        "    ts = tf.linspace(0.0, t_cool*60, t_cool*60)[:, tf.newaxis]\n",
        "    ts = tf.Variable(ts, trainable=True) # 'ts' becomes differentiable\n",
        "\n",
        "    with tf.GradientTape() as tape:\n",
        "        tape.watch(ts)\n",
        "        T = model(ts)\n",
        "\n",
        "    dT = tape.gradient(T, ts) # get gradient of T according to ts\n",
        "\n",
        "    pde = cooling_rate * (T_room - T) - dT # partial differential equation\n",
        "\n",
        "    # Retourne la moyenne du carré de l'erreur\n",
        "    return tf.reduce_mean(pde**2)"
      ],
      "metadata": {
        "id": "OmI-vULNbctT"
      },
      "execution_count": 10,
      "outputs": []
    },
    {
      "cell_type": "markdown",
      "source": [
        "---\n",
        "\n",
        "\n",
        "## **4. Training and evaluation phase**"
      ],
      "metadata": {
        "id": "wSGA1OJnbeIK"
      }
    },
    {
      "cell_type": "code",
      "source": [
        "PINN_model = create_PINN_model(1,1, loss2 = physics_loss, epochs=10000, loss2_weight=1, lr=1e-5)\n",
        "\n",
        "PINN_model.compile(loss=keras.losses.MeanSquaredError(),\n",
        "                   optimizer=keras.optimizers.Adam(learning_rate=1e-5),\n",
        "                   metrics=None)\n",
        "\n",
        "history = PINN_model.fit(t, T)\n",
        "\n",
        "plt.plot(history)\n",
        "plt.yscale('log')"
      ],
      "metadata": {
        "colab": {
          "base_uri": "https://localhost:8080/"
        },
        "id": "VKdhRWshbfdF",
        "outputId": "24435e8b-c25b-49b5-b6b4-875d88c8ba8c"
      },
      "execution_count": null,
      "outputs": [
        {
          "output_type": "stream",
          "name": "stdout",
          "text": [
            "Epoch 0/10000, loss: 1789.26\n",
            "Epoch 1000/10000, loss: 1629.61\n",
            "Epoch 2000/10000, loss: 1487.92\n",
            "Epoch 3000/10000, loss: 1384.98\n",
            "Epoch 4000/10000, loss: 1314.21\n",
            "Epoch 5000/10000, loss: 1262.13\n",
            "Epoch 6000/10000, loss: 1218.73\n",
            "Epoch 7000/10000, loss: 1178.97\n",
            "Epoch 8000/10000, loss: 1141.50\n"
          ]
        }
      ]
    },
    {
      "cell_type": "code",
      "source": [
        "plot_predictions(PINN_model, t, T, t_measured, T_measured)"
      ],
      "metadata": {
        "colab": {
          "base_uri": "https://localhost:8080/",
          "height": 449
        },
        "id": "9EyHoWw_bjTc",
        "outputId": "ddbfbbf2-c7e8-487e-929a-b02d99188867"
      },
      "execution_count": 13,
      "outputs": [
        {
          "output_type": "display_data",
          "data": {
            "text/plain": [
              "<Figure size 640x480 with 1 Axes>"
            ],
            "image/png": "[encoded data removed]"
          },
          "metadata": {}
        }
      ]
    },
    {
      "cell_type": "markdown",
      "source": [
        "---\n",
        "\n",
        "\n",
        "## **5. Inverse problem**"
      ],
      "metadata": {
        "id": "5z7fEMkNblRh"
      }
    },
    {
      "cell_type": "code",
      "source": [
        "class create_PINN_model_parameter(keras.Model):\n",
        "    def __init__(self,\n",
        "                input_dim,\n",
        "                output_dim,\n",
        "                n_units=100,\n",
        "                epochs=1000,\n",
        "                loss=keras.losses.MeanSquaredError(),\n",
        "                lr=0.001,\n",
        "                loss2=None,\n",
        "                loss2_weight=0.1):\n",
        "        super(create_PINN_model_parameter, self).__init__()\n",
        "\n",
        "        self.epochs = epochs\n",
        "        self.loss = loss\n",
        "        self.loss2 = loss2\n",
        "        self.loss2_weight = loss2_weight\n",
        "        self.lr = lr\n",
        "        self.n_units = n_units\n",
        "\n",
        "        self.layers_ = keras.Sequential([\n",
        "            keras.layers.Dense(input_dim, activation='sigmoid'),\n",
        "            keras.layers.Dense(self.n_units, activation='sigmoid'),\n",
        "            keras.layers.Dense(self.n_units, activation='sigmoid'),\n",
        "            keras.layers.Dense(self.n_units, activation='sigmoid'),\n",
        "            keras.layers.Dense(output_dim)\n",
        "        ])\n",
        "\n",
        "        self.r = tf.Variable(initial_value=0.0, trainable=True, dtype=tf.float32)\n",
        "\n",
        "    def call(self, x):\n",
        "        return self.layers_(x)\n",
        "\n",
        "    def fit(self, X, y):\n",
        "        Xt = np_to_tf(X)\n",
        "        yt = np_to_tf(y)\n",
        "\n",
        "        optimizer = optimizers.Adam(learning_rate=self.lr)\n",
        "        losses = []\n",
        "\n",
        "        for epoch in range(self.epochs):\n",
        "            with tf.GradientTape() as tape:\n",
        "                outputs = self(Xt, training=True)\n",
        "                loss = self.loss(yt, outputs)\n",
        "                if self.loss2:\n",
        "                    loss += self.loss2_weight * self.loss2(self)\n",
        "\n",
        "            gradients = tape.gradient(loss, self.trainable_variables)\n",
        "            optimizer.apply_gradients(zip(gradients, self.trainable_variables))\n",
        "            losses.append(loss.numpy())\n",
        "\n",
        "            if epoch % int(self.epochs/10) == 0:\n",
        "                print(f\"Epoch {epoch}/{self.epochs}, loss: {losses[-1]:.2f}\")\n",
        "\n",
        "        return losses\n",
        "\n",
        "    def predict(self, X):\n",
        "        Xt = np_to_tf(X)\n",
        "        return self(Xt, training=False).numpy()\n"
      ],
      "metadata": {
        "id": "8qQ-c7axboFt"
      },
      "execution_count": null,
      "outputs": []
    },
    {
      "cell_type": "code",
      "source": [
        "def physics_loss_parameter(model):\n",
        "    # Crée un tenseur TensorFlow pour les valeurs de temps\n",
        "    ts = tf.linspace(0.0, t_cool*60, t_cool*60)[:, tf.newaxis]\n",
        "\n",
        "    # Rendre le tenseur 'ts' différentiable\n",
        "    ts = tf.Variable(ts, trainable=True)\n",
        "\n",
        "    # Utilise le modèle pour obtenir les prédictions\n",
        "    with tf.GradientTape() as tape:\n",
        "        tape.watch(ts)\n",
        "        temps = model(ts)\n",
        "\n",
        "    # Calcule le gradient de 'temps' par rapport à 'ts'\n",
        "    dT = tape.gradient(temps, ts)\n",
        "\n",
        "    # Calcule l'équation différentielle partielle (PDE)\n",
        "    pde = model.r * (T_room - temps) - dT\n",
        "\n",
        "    # Retourne la moyenne du carré de l'erreur\n",
        "    return tf.reduce_mean(pde**2)"
      ],
      "metadata": {
        "id": "en43KABFbpfE"
      },
      "execution_count": null,
      "outputs": []
    },
    {
      "cell_type": "code",
      "source": [
        "PINN_model_parameter = create_PINN_model_parameter(1, 1, loss2=physics_loss_parameter, loss2_weight=1, epochs=1000, lr= 5e-6)\n",
        "\n",
        "PINN_model_parameter.compile(loss=keras.losses.MeanSquaredError(),\n",
        "                             optimizer=keras.optimizers.Adam(learning_rate=1e-5),\n",
        "                             metrics=None)\n",
        "\n",
        "history = PINN_model_parameter.fit(t, T)\n",
        "plt.plot(history)\n",
        "plt.yscale('log')"
      ],
      "metadata": {
        "id": "AHje2-wqbsgV"
      },
      "execution_count": null,
      "outputs": []
    },
    {
      "cell_type": "code",
      "source": [
        "plot_predictions(PINN_model_parameter, t, T, t_measured, T_measured)"
      ],
      "metadata": {
        "id": "h8oQHRRobt7L"
      },
      "execution_count": null,
      "outputs": []
    }
  ]
}