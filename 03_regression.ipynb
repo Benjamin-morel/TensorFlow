{
  "nbformat": 4,
  "nbformat_minor": 0,
  "metadata": {
    "colab": {
      "provenance": [],
      "authorship_tag": "ABX9TyPraoVtTbcGVR3hN2mOlDfC",
      "include_colab_link": true
    },
    "kernelspec": {
      "name": "python3",
      "display_name": "Python 3"
    },
    "language_info": {
      "name": "python"
    }
  },
  "cells": [
    {
      "cell_type": "markdown",
      "metadata": {
        "id": "view-in-github",
        "colab_type": "text"
      },
      "source": [
        "<a href=\"https://colab.research.google.com/github/Benjamin-morel/TensorFlow/blob/main/03_regression.ipynb\" target=\"_parent\"><img src=\"https://colab.research.google.com/assets/colab-badge.svg\" alt=\"Open In Colab\"/></a>"
      ]
    },
    {
      "cell_type": "markdown",
      "source": [
        "---\n",
        "\n",
        "\n",
        "# **Machine Learning Model: regression and predictions**\n",
        "| | |\n",
        "|------|------|\n",
        "| Filename | 03_regression.ipynb |\n",
        "| Author(s) | Benjamin Morel (benjaminmorel27@gmail.com) |\n",
        "| Date | September 8, 2024 |\n",
        "| Aim(s) | Do regression tasks with a neural network machine learning model|\n",
        "| Dataset(s) | Auto MPG dataset from UC Irvine [[1]](https://archive.ics.uci.edu/dataset/9/auto+mpg) |\n",
        "| Version | Python 3.12 - TensorFlow 2.17.0 |\n",
        "\n",
        "\n",
        "<br> **!!Read before running!!** <br>\n",
        "1. Fill in the inputs\n",
        "2. CPU execution is enough\n",
        "3. Run all and read comments.\n",
        "\n",
        "\n",
        "---\n",
        "\n",
        "#### **Motivation**\n",
        "\n",
        "A car's fuel efficiency, i.e. the amount of fuel consumed by a car for a given distance, is a parameter that is difficult for car manufacturers to calculate. It depends on many factors: vehicle weight, power, engine volume, number of cylinders, technology used, etc.\n",
        "\n",
        "However, many authorities and organizations require exact fuel efficiency for all vehicles, in order to check whether the vehicle complies with pollution standards. With the Auto MPG datase from the UC Irvine university [[1]](https://archive.ics.uci.edu/dataset/9/auto+mpg), the neural network model used in this script will predict **fuel efficiency** of any 1970s / 1980s automobiles. A simple linear regression model will first be used, then compared with the predictions made by a second non-linear model."
      ],
      "metadata": {
        "id": "U2GVF6UjO9N0"
      }
    },
    {
      "cell_type": "markdown",
      "source": [
        "\n",
        "\n",
        "---\n",
        "\n",
        "\n",
        "#### **0. Input section**"
      ],
      "metadata": {
        "id": "7F9TsGwiRjAh"
      }
    },
    {
      "cell_type": "markdown",
      "source": [
        "The model has already been trained: **parameters** (weights and biases) of each neuron are already known according to the base dataset. The user can choose to keep these parameters and **not retrain the model** (No), or he can decide to repeat the **training phase** (Yes). Using a pre-trained model saves time, computer resources and CO2 emissions."
      ],
      "metadata": {
        "id": "XHGZZ-MMRgzB"
      }
    },
    {
      "cell_type": "code",
      "source": [
        "training_phase = 'No'"
      ],
      "metadata": {
        "id": "Fcu3GHX9Rlxe"
      },
      "execution_count": 1,
      "outputs": []
    },
    {
      "cell_type": "markdown",
      "source": [
        "---\n",
        "\n",
        "\n",
        "#### **1. Import libraries & prebuilt dataset**"
      ],
      "metadata": {
        "id": "hg2ublsvVQkc"
      }
    },
    {
      "cell_type": "markdown",
      "source": [
        "###### **1.1. Python librairies**"
      ],
      "metadata": {
        "id": "UCv-X0vN52i0"
      }
    },
    {
      "cell_type": "code",
      "source": [
        "from numpy import array, max, min                                   # scientific computing\n",
        "from pandas import read_csv, DataFrame                              # data manipulation tool\n",
        "from tensorflow import keras, optimizers, linspace                  # machine learning models\n",
        "from plotly.graph_objects import Figure, Splom, Scatter, Histogram  # graphing packages\n",
        "from plotly.subplots import make_subplots                           # graphing packages\n",
        "from time import thread_time                                        # timer"
      ],
      "metadata": {
        "id": "cZnJHF-T9tTh"
      },
      "execution_count": 2,
      "outputs": []
    },
    {
      "cell_type": "markdown",
      "source": [
        "###### **1.2. Github importations**"
      ],
      "metadata": {
        "id": "pxMG0kXS57k8"
      }
    },
    {
      "cell_type": "code",
      "source": [
        "def get_github_files():\n",
        "  !git clone https://github.com/Benjamin-morel/TensorFlow.git TensorFlow_duplicata # go to the Github repertory TensorFlow and clone it\n",
        "  model_L = keras.models.load_model('TensorFlow_duplicata/99_pre_trained_models/03_regression/Lmodel.keras') # pre-trained model\n",
        "  model_nL = keras.models.load_model('TensorFlow_duplicata/99_pre_trained_models/03_regression/nLmodel.keras')\n",
        "  model_DNN = keras.models.load_model('TensorFlow_duplicata/99_pre_trained_models/03_regression/DNNmodel.keras')\n",
        "  model_nDNN = keras.models.load_model('TensorFlow_duplicata/99_pre_trained_models/03_regression/nDNNmodel.keras')\n",
        "  performances_CSV = read_csv('TensorFlow_duplicata/99_pre_trained_models/03_regression/performances_regression.csv') # pre-trained model\n",
        "  !rm -rf TensorFlow_duplicata/ # delete the cloned repertory\n",
        "  return model_L, model_nL, model_DNN, model_nDNN, performances_CSV"
      ],
      "metadata": {
        "id": "LspmNkq_5-1R"
      },
      "execution_count": 3,
      "outputs": []
    },
    {
      "cell_type": "markdown",
      "source": [
        "###### **1.1. What is the dataset formed of?**\n",
        "\n",
        "The dataset used contains data about fuel efficiency for 398 car models, along with 8 characteristics of the cars:\n",
        "*   **displacement**: engine displacement (in^3)\n",
        "*   **cylinders**: number of cylinders in the engine\n",
        "*   **weight**: vehicle weight (lb)\n",
        "*   **model year**: car's model year\n",
        "*   **origin**: country of origin (1 = USA, 2 = Europe, 3 = Japan)\n",
        "*   **car name**: descriptive string containing the car’s name\n",
        "*   **acceleration**: time to accelerate from 0 to 60 mph (s)\n",
        "*   **horsepower**: engine power (some missing values)\n",
        "*   **mpg**: car's fuel efficiency (MPG=Miles Per Gallon)\n",
        "\n",
        "The target variable is the fuel efficiency **mpg**. The dataset is imported with *pandas* as a table with 398 rows and 9 columns. The function `tail` displays a part of this pandas table."
      ],
      "metadata": {
        "id": "3wwXrlPRRP7d"
      }
    },
    {
      "cell_type": "code",
      "source": [
        "url = 'http://archive.ics.uci.edu/ml/machine-learning-databases/auto-mpg/auto-mpg.data'\n",
        "column_names = ['MPG', 'Cylinders', 'Displacement', 'Horsepower',\n",
        "                'Weight', 'Acceleration', 'Model Year', 'Origin']               # MPG = fuel efficiency\n",
        "\n",
        "raw_dataset = read_csv(url, names=column_names,\n",
        "                          na_values='?',                                        # \"?\" values become a NaN value\n",
        "                          comment='\\t',                                         # elements following \\t are ignored\n",
        "                          sep=' ',                                              # columns are separating by spaces\n",
        "                          skipinitialspace=True)\n",
        "\n",
        "print(\"Summary of the dataset: \",\n",
        "      \"\\n\",\n",
        "      \"\\nNumber of rows in raw_dataset: \", len(raw_dataset), \"/ 398\",\n",
        "      \"\\nNumber of missing values: \", raw_dataset[\"Horsepower\"].isna().sum(),\n",
        "      \"/\", len(raw_dataset)*9)                                                  # horsepower NaN values\n",
        "\n",
        "raw_dataset.tail()"
      ],
      "metadata": {
        "colab": {
          "base_uri": "https://localhost:8080/",
          "height": 276
        },
        "id": "2CO6wSXf9zcn",
        "outputId": "a55abfed-90d8-4d41-a4b4-a465ecca6b63"
      },
      "execution_count": 4,
      "outputs": [
        {
          "output_type": "stream",
          "name": "stdout",
          "text": [
            "Summary of the dataset:  \n",
            " \n",
            "Number of rows in raw_dataset:  398 / 398 \n",
            "Number of missing values:  6 / 3582\n"
          ]
        },
        {
          "output_type": "execute_result",
          "data": {
            "text/plain": [
              "      MPG  Cylinders  Displacement  Horsepower  Weight  Acceleration  \\\n",
              "393  27.0          4         140.0        86.0  2790.0          15.6   \n",
              "394  44.0          4          97.0        52.0  2130.0          24.6   \n",
              "395  32.0          4         135.0        84.0  2295.0          11.6   \n",
              "396  28.0          4         120.0        79.0  2625.0          18.6   \n",
              "397  31.0          4         119.0        82.0  2720.0          19.4   \n",
              "\n",
              "     Model Year  Origin  \n",
              "393          82       1  \n",
              "394          82       2  \n",
              "395          82       1  \n",
              "396          82       1  \n",
              "397          82       1  "
            ],
            "text/html": [
              "\n",
              "  <div id=\"df-2ac010d6-7880-48ed-a9f1-725666d64a9e\" class=\"colab-df-container\">\n",
              "    <div>\n",
              "<style scoped>\n",
              "    .dataframe tbody tr th:only-of-type {\n",
              "        vertical-align: middle;\n",
              "    }\n",
              "\n",
              "    .dataframe tbody tr th {\n",
              "        vertical-align: top;\n",
              "    }\n",
              "\n",
              "    .dataframe thead th {\n",
              "        text-align: right;\n",
              "    }\n",
              "</style>\n",
              "<table border=\"1\" class=\"dataframe\">\n",
              "  <thead>\n",
              "    <tr style=\"text-align: right;\">\n",
              "      <th></th>\n",
              "      <th>MPG</th>\n",
              "      <th>Cylinders</th>\n",
              "      <th>Displacement</th>\n",
              "      <th>Horsepower</th>\n",
              "      <th>Weight</th>\n",
              "      <th>Acceleration</th>\n",
              "      <th>Model Year</th>\n",
              "      <th>Origin</th>\n",
              "    </tr>\n",
              "  </thead>\n",
              "  <tbody>\n",
              "    <tr>\n",
              "      <th>393</th>\n",
              "      <td>27.0</td>\n",
              "      <td>4</td>\n",
              "      <td>140.0</td>\n",
              "      <td>86.0</td>\n",
              "      <td>2790.0</td>\n",
              "      <td>15.6</td>\n",
              "      <td>82</td>\n",
              "      <td>1</td>\n",
              "    </tr>\n",
              "    <tr>\n",
              "      <th>394</th>\n",
              "      <td>44.0</td>\n",
              "      <td>4</td>\n",
              "      <td>97.0</td>\n",
              "      <td>52.0</td>\n",
              "      <td>2130.0</td>\n",
              "      <td>24.6</td>\n",
              "      <td>82</td>\n",
              "      <td>2</td>\n",
              "    </tr>\n",
              "    <tr>\n",
              "      <th>395</th>\n",
              "      <td>32.0</td>\n",
              "      <td>4</td>\n",
              "      <td>135.0</td>\n",
              "      <td>84.0</td>\n",
              "      <td>2295.0</td>\n",
              "      <td>11.6</td>\n",
              "      <td>82</td>\n",
              "      <td>1</td>\n",
              "    </tr>\n",
              "    <tr>\n",
              "      <th>396</th>\n",
              "      <td>28.0</td>\n",
              "      <td>4</td>\n",
              "      <td>120.0</td>\n",
              "      <td>79.0</td>\n",
              "      <td>2625.0</td>\n",
              "      <td>18.6</td>\n",
              "      <td>82</td>\n",
              "      <td>1</td>\n",
              "    </tr>\n",
              "    <tr>\n",
              "      <th>397</th>\n",
              "      <td>31.0</td>\n",
              "      <td>4</td>\n",
              "      <td>119.0</td>\n",
              "      <td>82.0</td>\n",
              "      <td>2720.0</td>\n",
              "      <td>19.4</td>\n",
              "      <td>82</td>\n",
              "      <td>1</td>\n",
              "    </tr>\n",
              "  </tbody>\n",
              "</table>\n",
              "</div>\n",
              "    <div class=\"colab-df-buttons\">\n",
              "\n",
              "  <div class=\"colab-df-container\">\n",
              "    <button class=\"colab-df-convert\" onclick=\"convertToInteractive('df-2ac010d6-7880-48ed-a9f1-725666d64a9e')\"\n",
              "            title=\"Convert this dataframe to an interactive table.\"\n",
              "            style=\"display:none;\">\n",
              "\n",
              "  <svg xmlns=\"http://www.w3.org/2000/svg\" height=\"24px\" viewBox=\"0 -960 960 960\">\n",
              "    <path d=\"M120-120v-720h720v720H120Zm60-500h600v-160H180v160Zm220 220h160v-160H400v160Zm0 220h160v-160H400v160ZM180-400h160v-160H180v160Zm440 0h160v-160H620v160ZM180-180h160v-160H180v160Zm440 0h160v-160H620v160Z\"/>\n",
              "  </svg>\n",
              "    </button>\n",
              "\n",
              "  <style>\n",
              "    .colab-df-container {\n",
              "      display:flex;\n",
              "      gap: 12px;\n",
              "    }\n",
              "\n",
              "    .colab-df-convert {\n",
              "      background-color: #E8F0FE;\n",
              "      border: none;\n",
              "      border-radius: 50%;\n",
              "      cursor: pointer;\n",
              "      display: none;\n",
              "      fill: #1967D2;\n",
              "      height: 32px;\n",
              "      padding: 0 0 0 0;\n",
              "      width: 32px;\n",
              "    }\n",
              "\n",
              "    .colab-df-convert:hover {\n",
              "      background-color: #E2EBFA;\n",
              "      box-shadow: 0px 1px 2px rgba(60, 64, 67, 0.3), 0px 1px 3px 1px rgba(60, 64, 67, 0.15);\n",
              "      fill: #174EA6;\n",
              "    }\n",
              "\n",
              "    .colab-df-buttons div {\n",
              "      margin-bottom: 4px;\n",
              "    }\n",
              "\n",
              "    [theme=dark] .colab-df-convert {\n",
              "      background-color: #3B4455;\n",
              "      fill: #D2E3FC;\n",
              "    }\n",
              "\n",
              "    [theme=dark] .colab-df-convert:hover {\n",
              "      background-color: #434B5C;\n",
              "      box-shadow: 0px 1px 3px 1px rgba(0, 0, 0, 0.15);\n",
              "      filter: drop-shadow(0px 1px 2px rgba(0, 0, 0, 0.3));\n",
              "      fill: #FFFFFF;\n",
              "    }\n",
              "  </style>\n",
              "\n",
              "    <script>\n",
              "      const buttonEl =\n",
              "        document.querySelector('#df-2ac010d6-7880-48ed-a9f1-725666d64a9e button.colab-df-convert');\n",
              "      buttonEl.style.display =\n",
              "        google.colab.kernel.accessAllowed ? 'block' : 'none';\n",
              "\n",
              "      async function convertToInteractive(key) {\n",
              "        const element = document.querySelector('#df-2ac010d6-7880-48ed-a9f1-725666d64a9e');\n",
              "        const dataTable =\n",
              "          await google.colab.kernel.invokeFunction('convertToInteractive',\n",
              "                                                    [key], {});\n",
              "        if (!dataTable) return;\n",
              "\n",
              "        const docLinkHtml = 'Like what you see? Visit the ' +\n",
              "          '<a target=\"_blank\" href=https://colab.research.google.com/notebooks/data_table.ipynb>data table notebook</a>'\n",
              "          + ' to learn more about interactive tables.';\n",
              "        element.innerHTML = '';\n",
              "        dataTable['output_type'] = 'display_data';\n",
              "        await google.colab.output.renderOutput(dataTable, element);\n",
              "        const docLink = document.createElement('div');\n",
              "        docLink.innerHTML = docLinkHtml;\n",
              "        element.appendChild(docLink);\n",
              "      }\n",
              "    </script>\n",
              "  </div>\n",
              "\n",
              "\n",
              "<div id=\"df-b5d59793-ecd2-4d01-a707-9bbf2a4894e2\">\n",
              "  <button class=\"colab-df-quickchart\" onclick=\"quickchart('df-b5d59793-ecd2-4d01-a707-9bbf2a4894e2')\"\n",
              "            title=\"Suggest charts\"\n",
              "            style=\"display:none;\">\n",
              "\n",
              "<svg xmlns=\"http://www.w3.org/2000/svg\" height=\"24px\"viewBox=\"0 0 24 24\"\n",
              "     width=\"24px\">\n",
              "    <g>\n",
              "        <path d=\"M19 3H5c-1.1 0-2 .9-2 2v14c0 1.1.9 2 2 2h14c1.1 0 2-.9 2-2V5c0-1.1-.9-2-2-2zM9 17H7v-7h2v7zm4 0h-2V7h2v10zm4 0h-2v-4h2v4z\"/>\n",
              "    </g>\n",
              "</svg>\n",
              "  </button>\n",
              "\n",
              "<style>\n",
              "  .colab-df-quickchart {\n",
              "      --bg-color: #E8F0FE;\n",
              "      --fill-color: #1967D2;\n",
              "      --hover-bg-color: #E2EBFA;\n",
              "      --hover-fill-color: #174EA6;\n",
              "      --disabled-fill-color: #AAA;\n",
              "      --disabled-bg-color: #DDD;\n",
              "  }\n",
              "\n",
              "  [theme=dark] .colab-df-quickchart {\n",
              "      --bg-color: #3B4455;\n",
              "      --fill-color: #D2E3FC;\n",
              "      --hover-bg-color: #434B5C;\n",
              "      --hover-fill-color: #FFFFFF;\n",
              "      --disabled-bg-color: #3B4455;\n",
              "      --disabled-fill-color: #666;\n",
              "  }\n",
              "\n",
              "  .colab-df-quickchart {\n",
              "    background-color: var(--bg-color);\n",
              "    border: none;\n",
              "    border-radius: 50%;\n",
              "    cursor: pointer;\n",
              "    display: none;\n",
              "    fill: var(--fill-color);\n",
              "    height: 32px;\n",
              "    padding: 0;\n",
              "    width: 32px;\n",
              "  }\n",
              "\n",
              "  .colab-df-quickchart:hover {\n",
              "    background-color: var(--hover-bg-color);\n",
              "    box-shadow: 0 1px 2px rgba(60, 64, 67, 0.3), 0 1px 3px 1px rgba(60, 64, 67, 0.15);\n",
              "    fill: var(--button-hover-fill-color);\n",
              "  }\n",
              "\n",
              "  .colab-df-quickchart-complete:disabled,\n",
              "  .colab-df-quickchart-complete:disabled:hover {\n",
              "    background-color: var(--disabled-bg-color);\n",
              "    fill: var(--disabled-fill-color);\n",
              "    box-shadow: none;\n",
              "  }\n",
              "\n",
              "  .colab-df-spinner {\n",
              "    border: 2px solid var(--fill-color);\n",
              "    border-color: transparent;\n",
              "    border-bottom-color: var(--fill-color);\n",
              "    animation:\n",
              "      spin 1s steps(1) infinite;\n",
              "  }\n",
              "\n",
              "  @keyframes spin {\n",
              "    0% {\n",
              "      border-color: transparent;\n",
              "      border-bottom-color: var(--fill-color);\n",
              "      border-left-color: var(--fill-color);\n",
              "    }\n",
              "    20% {\n",
              "      border-color: transparent;\n",
              "      border-left-color: var(--fill-color);\n",
              "      border-top-color: var(--fill-color);\n",
              "    }\n",
              "    30% {\n",
              "      border-color: transparent;\n",
              "      border-left-color: var(--fill-color);\n",
              "      border-top-color: var(--fill-color);\n",
              "      border-right-color: var(--fill-color);\n",
              "    }\n",
              "    40% {\n",
              "      border-color: transparent;\n",
              "      border-right-color: var(--fill-color);\n",
              "      border-top-color: var(--fill-color);\n",
              "    }\n",
              "    60% {\n",
              "      border-color: transparent;\n",
              "      border-right-color: var(--fill-color);\n",
              "    }\n",
              "    80% {\n",
              "      border-color: transparent;\n",
              "      border-right-color: var(--fill-color);\n",
              "      border-bottom-color: var(--fill-color);\n",
              "    }\n",
              "    90% {\n",
              "      border-color: transparent;\n",
              "      border-bottom-color: var(--fill-color);\n",
              "    }\n",
              "  }\n",
              "</style>\n",
              "\n",
              "  <script>\n",
              "    async function quickchart(key) {\n",
              "      const quickchartButtonEl =\n",
              "        document.querySelector('#' + key + ' button');\n",
              "      quickchartButtonEl.disabled = true;  // To prevent multiple clicks.\n",
              "      quickchartButtonEl.classList.add('colab-df-spinner');\n",
              "      try {\n",
              "        const charts = await google.colab.kernel.invokeFunction(\n",
              "            'suggestCharts', [key], {});\n",
              "      } catch (error) {\n",
              "        console.error('Error during call to suggestCharts:', error);\n",
              "      }\n",
              "      quickchartButtonEl.classList.remove('colab-df-spinner');\n",
              "      quickchartButtonEl.classList.add('colab-df-quickchart-complete');\n",
              "    }\n",
              "    (() => {\n",
              "      let quickchartButtonEl =\n",
              "        document.querySelector('#df-b5d59793-ecd2-4d01-a707-9bbf2a4894e2 button');\n",
              "      quickchartButtonEl.style.display =\n",
              "        google.colab.kernel.accessAllowed ? 'block' : 'none';\n",
              "    })();\n",
              "  </script>\n",
              "</div>\n",
              "\n",
              "    </div>\n",
              "  </div>\n"
            ],
            "application/vnd.google.colaboratory.intrinsic+json": {
              "type": "dataframe",
              "summary": "{\n  \"name\": \"raw_dataset\",\n  \"rows\": 5,\n  \"fields\": [\n    {\n      \"column\": \"MPG\",\n      \"properties\": {\n        \"dtype\": \"number\",\n        \"std\": 6.8044103344816005,\n        \"min\": 27.0,\n        \"max\": 44.0,\n        \"num_unique_values\": 5,\n        \"samples\": [\n          44.0,\n          31.0,\n          32.0\n        ],\n        \"semantic_type\": \"\",\n        \"description\": \"\"\n      }\n    },\n    {\n      \"column\": \"Cylinders\",\n      \"properties\": {\n        \"dtype\": \"number\",\n        \"std\": 0,\n        \"min\": 4,\n        \"max\": 4,\n        \"num_unique_values\": 1,\n        \"samples\": [\n          4\n        ],\n        \"semantic_type\": \"\",\n        \"description\": \"\"\n      }\n    },\n    {\n      \"column\": \"Displacement\",\n      \"properties\": {\n        \"dtype\": \"number\",\n        \"std\": 16.813684902483452,\n        \"min\": 97.0,\n        \"max\": 140.0,\n        \"num_unique_values\": 5,\n        \"samples\": [\n          97.0\n        ],\n        \"semantic_type\": \"\",\n        \"description\": \"\"\n      }\n    },\n    {\n      \"column\": \"Horsepower\",\n      \"properties\": {\n        \"dtype\": \"number\",\n        \"std\": 13.992855319769443,\n        \"min\": 52.0,\n        \"max\": 86.0,\n        \"num_unique_values\": 5,\n        \"samples\": [\n          52.0\n        ],\n        \"semantic_type\": \"\",\n        \"description\": \"\"\n      }\n    },\n    {\n      \"column\": \"Weight\",\n      \"properties\": {\n        \"dtype\": \"number\",\n        \"std\": 285.62650437240586,\n        \"min\": 2130.0,\n        \"max\": 2790.0,\n        \"num_unique_values\": 5,\n        \"samples\": [\n          2130.0\n        ],\n        \"semantic_type\": \"\",\n        \"description\": \"\"\n      }\n    },\n    {\n      \"column\": \"Acceleration\",\n      \"properties\": {\n        \"dtype\": \"number\",\n        \"std\": 4.81123684721507,\n        \"min\": 11.6,\n        \"max\": 24.6,\n        \"num_unique_values\": 5,\n        \"samples\": [\n          24.6\n        ],\n        \"semantic_type\": \"\",\n        \"description\": \"\"\n      }\n    },\n    {\n      \"column\": \"Model Year\",\n      \"properties\": {\n        \"dtype\": \"number\",\n        \"std\": 0,\n        \"min\": 82,\n        \"max\": 82,\n        \"num_unique_values\": 1,\n        \"samples\": [\n          82\n        ],\n        \"semantic_type\": \"\",\n        \"description\": \"\"\n      }\n    },\n    {\n      \"column\": \"Origin\",\n      \"properties\": {\n        \"dtype\": \"number\",\n        \"std\": 0,\n        \"min\": 1,\n        \"max\": 2,\n        \"num_unique_values\": 2,\n        \"samples\": [\n          2\n        ],\n        \"semantic_type\": \"\",\n        \"description\": \"\"\n      }\n    }\n  ]\n}"
            }
          },
          "metadata": {},
          "execution_count": 4
        }
      ]
    },
    {
      "cell_type": "markdown",
      "source": [
        "###### **1.2. Dataset cleaning**\n",
        "\n",
        "It is necessary to remove vehicles for which data is missing, especially for horsepower."
      ],
      "metadata": {
        "id": "ywn7Fk8oAqBR"
      }
    },
    {
      "cell_type": "code",
      "source": [
        "dataset = raw_dataset.copy() # copy of the original data before modification\n",
        "dataset = dataset.dropna() # remove rows containing NaN values\n",
        "\n",
        "print(\"Summary of the dataset after data cleaning: \",\n",
        "      \"\\n\",\n",
        "      \"\\nNumber of rows in the dataset cleaned: \", len(dataset), \"/\", len(raw_dataset),\n",
        "      \"\\nNumber of missing values: \", dataset[\"Horsepower\"].isna().sum(),\n",
        "      \"/\", len(dataset)*9) # horsepower NaN values"
      ],
      "metadata": {
        "colab": {
          "base_uri": "https://localhost:8080/"
        },
        "id": "aMU8g1HcRqpT",
        "outputId": "adcdec33-95ef-4fbc-b4f3-822060bb39ec"
      },
      "execution_count": 5,
      "outputs": [
        {
          "output_type": "stream",
          "name": "stdout",
          "text": [
            "Summary of the dataset after data cleaning:  \n",
            " \n",
            "Number of rows in the dataset cleaned:  392 / 398 \n",
            "Number of missing values:  0 / 3528\n"
          ]
        }
      ]
    },
    {
      "cell_type": "markdown",
      "source": [
        "---\n",
        "\n",
        "\n",
        "#### **2. Sample preparation & pre-processing**"
      ],
      "metadata": {
        "id": "pZY8PoR0VWUL"
      }
    },
    {
      "cell_type": "markdown",
      "source": [
        "###### **2.1. How are training and test sets formed?**\n",
        "\n",
        "The dataset is randomly split into 2 subsets: training (80%) and test (20%) [[2]](https://arxiv.org/pdf/2202.03326). Test set is used for a finale evaluation of the model. The function `plot_data`is used to check the data distribution according to 2 variables. The first line (MPG) suggests that this parameter depends on the others."
      ],
      "metadata": {
        "id": "q844rr7iWmKz"
      }
    },
    {
      "cell_type": "code",
      "source": [
        "train_dataset = dataset.sample(frac=0.8) # randomly draws 80% of dataset\n",
        "test_dataset = dataset.drop(train_dataset.index) # removes the rows selected for the training set from dataset\n",
        "\n",
        "print(\"# of the training set:\", len(train_dataset),\n",
        "      \"\\n# of the test set:\", len(test_dataset),\n",
        "      \"\\n# of the training and test sets:\", len(train_dataset)+len(test_dataset))"
      ],
      "metadata": {
        "colab": {
          "base_uri": "https://localhost:8080/"
        },
        "id": "tGKIZUmvVbfL",
        "outputId": "051d683c-dffd-4bdf-8b48-02ce6ce605a6"
      },
      "execution_count": 6,
      "outputs": [
        {
          "output_type": "stream",
          "name": "stdout",
          "text": [
            "# of the training set: 314 \n",
            "# of the test set: 78 \n",
            "# of the training and test sets: 392\n"
          ]
        }
      ]
    },
    {
      "cell_type": "code",
      "source": [
        "def plot_data(dataset):\n",
        "  df = dataset\n",
        "  fig = Figure(data=Splom(dimensions=[dict(label='MPG', values=df['MPG']),\n",
        "                                            dict(label='Displacement', values=df['Displacement']),\n",
        "                                            dict(label='Horsepower', values=df['Horsepower']),\n",
        "                                            dict(label='Weight', values=df['Weight'])],\n",
        "                                diagonal_visible=False)) # remove plots on diagonal\n",
        "  fig.update_layout(title=\"Some representations of the dataset\", width=1000, height=600)\n",
        "  fig.show()\n",
        "\n",
        "plot_data(train_dataset)"
      ],
      "metadata": {
        "colab": {
          "base_uri": "https://localhost:8080/",
          "height": 617
        },
        "id": "_RA_xmBMbN47",
        "outputId": "f3729beb-6ce9-4a60-8bb1-e78e15da03cb"
      },
      "execution_count": 7,
      "outputs": [
        {
          "output_type": "display_data",
          "data": {
            "text/html": [
              "<html>\n",
              "<head><meta charset=\"utf-8\" /></head>\n",
              "<body>\n",
              "    <div>            <script src=\"https://cdnjs.cloudflare.com/ajax/libs/mathjax/2.7.5/MathJax.js?config=TeX-AMS-MML_SVG\"></script><script type=\"text/javascript\">if (window.MathJax && window.MathJax.Hub && window.MathJax.Hub.Config) {window.MathJax.Hub.Config({SVG: {font: \"STIX-Web\"}});}</script>                <script type=\"text/javascript\">window.PlotlyConfig = {MathJaxConfig: 'local'};</script>\n",
              "        <script charset=\"utf-8\" src=\"https://cdn.plot.ly/plotly-2.35.2.min.js\"></script>                <div id=\"f1816268-8ac1-4b3b-83ce-3c139e6afce2\" class=\"plotly-graph-div\" style=\"height:600px; width:1000px;\"></div>            <script type=\"text/javascript\">                                    window.PLOTLYENV=window.PLOTLYENV || {};                                    if (document.getElementById(\"f1816268-8ac1-4b3b-83ce-3c139e6afce2\")) {                    Plotly.newPlot(                        \"f1816268-8ac1-4b3b-83ce-3c139e6afce2\",                        [{\"diagonal\":{\"visible\":false},\"dimensions\":[{\"label\":\"MPG\",\"values\":[22.0,20.6,15.0,11.0,13.0,26.0,28.0,18.1,32.0,19.2,28.0,17.7,13.0,12.0,29.5,19.0,14.0,29.8,32.0,18.6,21.5,38.0,14.5,22.5,39.4,32.0,29.0,26.0,22.0,19.0,24.0,34.1,31.0,23.9,25.0,34.4,20.2,23.0,16.0,26.0,18.2,34.7,31.5,24.0,23.2,30.0,30.5,19.2,15.0,32.1,15.5,13.0,16.0,19.0,14.0,26.0,14.0,28.0,29.0,15.0,17.0,23.9,29.0,29.9,31.0,44.0,28.0,16.5,19.0,22.0,27.2,27.2,26.0,13.0,20.6,20.3,31.3,20.8,22.3,23.0,25.4,18.0,29.0,13.0,22.4,12.0,29.0,15.0,18.0,30.0,36.0,38.1,23.5,25.8,19.0,32.3,32.2,36.0,26.4,31.8,20.0,14.0,36.0,18.5,21.5,34.2,21.0,19.1,13.0,16.0,15.5,10.0,16.0,31.0,18.0,13.0,29.5,21.0,19.0,26.0,23.0,28.0,15.0,20.0,18.5,28.4,30.0,10.0,26.0,22.0,16.0,19.0,29.0,18.0,14.0,16.2,33.5,19.0,22.0,20.0,27.0,32.4,19.2,26.0,13.0,35.1,25.5,13.0,16.0,25.4,26.6,13.0,16.0,30.0,34.1,31.9,24.3,13.0,31.0,22.0,18.0,12.0,27.0,11.0,27.0,28.0,29.8,21.0,26.0,17.5,19.4,34.3,32.4,14.0,31.6,25.0,18.0,16.0,26.6,44.6,15.0,38.0,28.0,24.0,17.5,16.0,27.0,24.0,20.0,37.0,17.0,32.8,24.0,23.8,24.0,19.0,31.0,20.5,29.0,36.1,18.0,24.0,9.0,13.0,24.0,38.0,16.5,25.0,27.0,34.5,16.5,28.8,20.2,38.0,18.0,36.0,14.0,14.0,37.0,18.0,29.0,27.0,14.0,30.9,32.0,15.0,13.0,33.0,26.0,22.0,15.0,39.0,20.5,21.6,14.0,24.0,46.6,25.0,33.7,24.0,28.0,23.0,16.9,15.0,14.0,20.2,24.0,36.0,17.5,15.5,12.0,17.0,14.0,14.0,11.0,32.9,36.1,14.0,17.0,22.0,18.1,25.0,24.5,21.0,14.0,43.1,20.2,15.5,19.4,27.4,16.0,21.0,26.0,28.0,32.0,43.4,20.0,15.0,17.5,13.0,16.0,28.0,25.0,17.6,32.7,18.0,15.0,25.5,21.1,39.1,37.3,15.0,23.0,28.1,19.0,35.7,27.0,13.0,20.0,41.5,18.0,17.6,13.0,20.0,23.0,19.0,19.0,18.5,20.0,23.0,36.0,11.0,17.5,15.0]},{\"label\":\"Displacement\",\"values\":[250.0,231.0,350.0,318.0,350.0,97.0,112.0,258.0,135.0,305.0,120.0,231.0,400.0,400.0,97.0,250.0,318.0,134.0,91.0,225.0,121.0,91.0,351.0,232.0,85.0,71.0,90.0,79.0,146.0,122.0,113.0,91.0,119.0,260.0,113.0,98.0,232.0,120.0,225.0,97.0,318.0,105.0,89.0,120.0,156.0,79.0,97.0,231.0,304.0,98.0,318.0,318.0,318.0,120.0,351.0,98.0,455.0,140.0,97.0,302.0,305.0,119.0,97.0,98.0,79.0,97.0,116.0,350.0,225.0,198.0,119.0,141.0,121.0,318.0,225.0,131.0,120.0,200.0,140.0,140.0,183.0,250.0,98.0,351.0,231.0,429.0,90.0,383.0,232.0,97.0,135.0,89.0,173.0,156.0,225.0,97.0,108.0,120.0,140.0,85.0,140.0,440.0,98.0,250.0,80.0,105.0,231.0,225.0,400.0,304.0,351.0,360.0,250.0,71.0,171.0,302.0,98.0,200.0,250.0,97.0,122.0,98.0,350.0,114.0,360.0,151.0,111.0,307.0,96.0,232.0,400.0,156.0,68.0,232.0,400.0,163.0,151.0,70.0,225.0,262.0,97.0,108.0,267.0,156.0,350.0,81.0,122.0,307.0,302.0,168.0,151.0,400.0,400.0,98.0,86.0,89.0,151.0,440.0,76.0,108.0,232.0,455.0,140.0,350.0,151.0,90.0,89.0,155.0,108.0,305.0,232.0,97.0,107.0,340.0,120.0,140.0,225.0,250.0,350.0,91.0,250.0,262.0,107.0,113.0,318.0,400.0,97.0,119.0,130.0,85.0,260.0,78.0,134.0,151.0,116.0,232.0,91.0,200.0,135.0,98.0,199.0,200.0,304.0,360.0,140.0,105.0,351.0,121.0,97.0,105.0,168.0,173.0,302.0,91.0,258.0,107.0,302.0,351.0,119.0,250.0,85.0,151.0,302.0,105.0,83.0,250.0,350.0,105.0,122.0,121.0,400.0,86.0,225.0,121.0,455.0,107.0,86.0,104.0,107.0,121.0,151.0,140.0,350.0,390.0,318.0,200.0,90.0,105.0,250.0,350.0,383.0,163.0,400.0,350.0,429.0,119.0,91.0,318.0,231.0,140.0,302.0,181.0,151.0,122.0,351.0,90.0,200.0,304.0,318.0,121.0,258.0,120.0,97.0,97.0,85.0,90.0,198.0,429.0,305.0,360.0,351.0,97.0,97.5,225.0,168.0,250.0,258.0,140.0,134.0,79.0,91.0,318.0,350.0,141.0,232.0,98.0,97.0,302.0,225.0,98.0,307.0,302.0,400.0,156.0,120.0,121.0,232.0,250.0,232.0,97.0,79.0,400.0,258.0,318.0]},{\"label\":\"Horsepower\",\"values\":[105.0,105.0,165.0,210.0,155.0,78.0,88.0,120.0,84.0,145.0,79.0,165.0,170.0,167.0,71.0,100.0,150.0,90.0,67.0,110.0,110.0,67.0,152.0,90.0,70.0,65.0,70.0,67.0,97.0,85.0,95.0,68.0,82.0,90.0,95.0,65.0,90.0,97.0,105.0,46.0,135.0,63.0,71.0,97.0,105.0,70.0,78.0,105.0,150.0,70.0,145.0,150.0,150.0,88.0,148.0,90.0,225.0,90.0,75.0,130.0,130.0,97.0,78.0,65.0,67.0,52.0,90.0,180.0,95.0,95.0,97.0,71.0,113.0,150.0,110.0,103.0,75.0,85.0,88.0,78.0,77.0,105.0,83.0,158.0,110.0,198.0,70.0,170.0,100.0,67.0,84.0,60.0,110.0,92.0,100.0,67.0,75.0,88.0,88.0,65.0,90.0,215.0,70.0,110.0,110.0,70.0,110.0,90.0,190.0,150.0,142.0,215.0,100.0,65.0,97.0,140.0,68.0,85.0,88.0,75.0,86.0,80.0,145.0,91.0,150.0,90.0,80.0,200.0,69.0,112.0,230.0,108.0,49.0,100.0,175.0,133.0,90.0,97.0,100.0,110.0,60.0,75.0,125.0,92.0,175.0,60.0,96.0,130.0,140.0,116.0,84.0,175.0,170.0,68.0,65.0,71.0,90.0,215.0,52.0,94.0,100.0,225.0,86.0,180.0,90.0,75.0,62.0,107.0,93.0,145.0,90.0,78.0,72.0,160.0,74.0,75.0,105.0,100.0,105.0,67.0,72.0,85.0,86.0,95.0,140.0,180.0,88.0,97.0,102.0,65.0,110.0,52.0,96.0,85.0,75.0,100.0,68.0,95.0,84.0,66.0,97.0,81.0,193.0,175.0,92.0,63.0,138.0,115.0,88.0,70.0,120.0,115.0,139.0,67.0,110.0,75.0,137.0,153.0,92.0,78.0,52.0,90.0,140.0,75.0,61.0,72.0,145.0,74.0,80.0,76.0,150.0,64.0,100.0,115.0,225.0,90.0,65.0,95.0,75.0,110.0,90.0,83.0,155.0,190.0,150.0,88.0,75.0,74.0,110.0,170.0,180.0,125.0,175.0,165.0,208.0,100.0,60.0,150.0,110.0,72.0,139.0,110.0,88.0,86.0,153.0,48.0,85.0,120.0,140.0,80.0,110.0,87.0,46.0,75.0,70.0,48.0,95.0,198.0,140.0,170.0,149.0,92.0,80.0,85.0,132.0,88.0,110.0,89.0,95.0,58.0,69.0,150.0,125.0,80.0,100.0,80.0,88.0,129.0,100.0,76.0,130.0,129.0,150.0,122.0,88.0,112.0,90.0,98.0,100.0,54.0,58.0,150.0,95.0,150.0]},{\"label\":\"Weight\",\"values\":[3353.0,3380.0,3693.0,4382.0,4502.0,2300.0,2605.0,3410.0,2295.0,3425.0,2625.0,3445.0,4746.0,4906.0,1825.0,3282.0,4237.0,2711.0,1965.0,3620.0,2600.0,1995.0,4215.0,3085.0,2070.0,1836.0,1937.0,1963.0,2815.0,2310.0,2372.0,1985.0,2720.0,3420.0,2228.0,2045.0,3265.0,2506.0,3439.0,1950.0,3830.0,2215.0,1990.0,2489.0,2745.0,2074.0,2190.0,3535.0,3892.0,2120.0,4140.0,3755.0,4498.0,3270.0,4657.0,2265.0,4425.0,2264.0,2171.0,4295.0,3840.0,2405.0,1940.0,2380.0,2000.0,2130.0,2123.0,4380.0,3264.0,2833.0,2300.0,3190.0,2234.0,3940.0,3360.0,2830.0,2542.0,3070.0,2890.0,2592.0,3530.0,3459.0,2219.0,4363.0,3415.0,4952.0,1937.0,3563.0,2789.0,1985.0,2370.0,1968.0,2725.0,2620.0,3630.0,2065.0,2265.0,2160.0,2870.0,2020.0,2408.0,4312.0,2125.0,3645.0,2720.0,2200.0,3039.0,3381.0,4422.0,3433.0,4054.0,4615.0,3278.0,1773.0,2984.0,4294.0,2135.0,2587.0,3302.0,2265.0,2220.0,2164.0,4082.0,2582.0,3940.0,2670.0,2155.0,4376.0,2189.0,2835.0,4278.0,2930.0,1867.0,2945.0,4464.0,3410.0,2556.0,2330.0,3233.0,3221.0,1834.0,2350.0,3605.0,2585.0,4100.0,1760.0,2300.0,4098.0,4141.0,2900.0,2635.0,5140.0,4668.0,2155.0,1975.0,1925.0,3003.0,4735.0,1649.0,2379.0,3288.0,4951.0,2790.0,3664.0,2735.0,2125.0,1845.0,2472.0,2391.0,3880.0,3210.0,2188.0,2290.0,3609.0,2635.0,2542.0,3613.0,3781.0,3725.0,1850.0,3432.0,3015.0,2464.0,2278.0,4080.0,4220.0,2130.0,2545.0,3150.0,1975.0,4060.0,1985.0,2702.0,2855.0,2158.0,2901.0,1970.0,3155.0,2525.0,1800.0,2774.0,3012.0,4732.0,3821.0,2865.0,2125.0,3955.0,2671.0,2130.0,2150.0,3820.0,2595.0,3570.0,1965.0,2962.0,2205.0,4042.0,4129.0,2434.0,3574.0,2035.0,2950.0,4638.0,2230.0,2003.0,3158.0,4055.0,2190.0,2451.0,2511.0,3761.0,1875.0,3430.0,2795.0,3086.0,2430.0,2110.0,2375.0,2210.0,2660.0,2678.0,2639.0,4360.0,3850.0,4077.0,3060.0,2108.0,1980.0,3520.0,4165.0,4955.0,3140.0,4385.0,4209.0,4633.0,2615.0,1800.0,4096.0,3907.0,2408.0,3205.0,2945.0,2740.0,2226.0,4154.0,1985.0,2965.0,3962.0,3735.0,2670.0,3632.0,2979.0,1835.0,2155.0,1990.0,2335.0,3102.0,4341.0,4215.0,4654.0,4335.0,2288.0,2126.0,3465.0,2910.0,3139.0,3730.0,2755.0,2515.0,1755.0,2130.0,4135.0,3900.0,3230.0,2634.0,1915.0,2100.0,3169.0,3651.0,2144.0,3504.0,3725.0,4464.0,2807.0,2957.0,2868.0,3211.0,3525.0,2914.0,2254.0,1825.0,4997.0,3193.0,3777.0]}],\"type\":\"splom\"}],                        {\"template\":{\"data\":{\"histogram2dcontour\":[{\"type\":\"histogram2dcontour\",\"colorbar\":{\"outlinewidth\":0,\"ticks\":\"\"},\"colorscale\":[[0.0,\"#0d0887\"],[0.1111111111111111,\"#46039f\"],[0.2222222222222222,\"#7201a8\"],[0.3333333333333333,\"#9c179e\"],[0.4444444444444444,\"#bd3786\"],[0.5555555555555556,\"#d8576b\"],[0.6666666666666666,\"#ed7953\"],[0.7777777777777778,\"#fb9f3a\"],[0.8888888888888888,\"#fdca26\"],[1.0,\"#f0f921\"]]}],\"choropleth\":[{\"type\":\"choropleth\",\"colorbar\":{\"outlinewidth\":0,\"ticks\":\"\"}}],\"histogram2d\":[{\"type\":\"histogram2d\",\"colorbar\":{\"outlinewidth\":0,\"ticks\":\"\"},\"colorscale\":[[0.0,\"#0d0887\"],[0.1111111111111111,\"#46039f\"],[0.2222222222222222,\"#7201a8\"],[0.3333333333333333,\"#9c179e\"],[0.4444444444444444,\"#bd3786\"],[0.5555555555555556,\"#d8576b\"],[0.6666666666666666,\"#ed7953\"],[0.7777777777777778,\"#fb9f3a\"],[0.8888888888888888,\"#fdca26\"],[1.0,\"#f0f921\"]]}],\"heatmap\":[{\"type\":\"heatmap\",\"colorbar\":{\"outlinewidth\":0,\"ticks\":\"\"},\"colorscale\":[[0.0,\"#0d0887\"],[0.1111111111111111,\"#46039f\"],[0.2222222222222222,\"#7201a8\"],[0.3333333333333333,\"#9c179e\"],[0.4444444444444444,\"#bd3786\"],[0.5555555555555556,\"#d8576b\"],[0.6666666666666666,\"#ed7953\"],[0.7777777777777778,\"#fb9f3a\"],[0.8888888888888888,\"#fdca26\"],[1.0,\"#f0f921\"]]}],\"heatmapgl\":[{\"type\":\"heatmapgl\",\"colorbar\":{\"outlinewidth\":0,\"ticks\":\"\"},\"colorscale\":[[0.0,\"#0d0887\"],[0.1111111111111111,\"#46039f\"],[0.2222222222222222,\"#7201a8\"],[0.3333333333333333,\"#9c179e\"],[0.4444444444444444,\"#bd3786\"],[0.5555555555555556,\"#d8576b\"],[0.6666666666666666,\"#ed7953\"],[0.7777777777777778,\"#fb9f3a\"],[0.8888888888888888,\"#fdca26\"],[1.0,\"#f0f921\"]]}],\"contourcarpet\":[{\"type\":\"contourcarpet\",\"colorbar\":{\"outlinewidth\":0,\"ticks\":\"\"}}],\"contour\":[{\"type\":\"contour\",\"colorbar\":{\"outlinewidth\":0,\"ticks\":\"\"},\"colorscale\":[[0.0,\"#0d0887\"],[0.1111111111111111,\"#46039f\"],[0.2222222222222222,\"#7201a8\"],[0.3333333333333333,\"#9c179e\"],[0.4444444444444444,\"#bd3786\"],[0.5555555555555556,\"#d8576b\"],[0.6666666666666666,\"#ed7953\"],[0.7777777777777778,\"#fb9f3a\"],[0.8888888888888888,\"#fdca26\"],[1.0,\"#f0f921\"]]}],\"surface\":[{\"type\":\"surface\",\"colorbar\":{\"outlinewidth\":0,\"ticks\":\"\"},\"colorscale\":[[0.0,\"#0d0887\"],[0.1111111111111111,\"#46039f\"],[0.2222222222222222,\"#7201a8\"],[0.3333333333333333,\"#9c179e\"],[0.4444444444444444,\"#bd3786\"],[0.5555555555555556,\"#d8576b\"],[0.6666666666666666,\"#ed7953\"],[0.7777777777777778,\"#fb9f3a\"],[0.8888888888888888,\"#fdca26\"],[1.0,\"#f0f921\"]]}],\"mesh3d\":[{\"type\":\"mesh3d\",\"colorbar\":{\"outlinewidth\":0,\"ticks\":\"\"}}],\"scatter\":[{\"fillpattern\":{\"fillmode\":\"overlay\",\"size\":10,\"solidity\":0.2},\"type\":\"scatter\"}],\"parcoords\":[{\"type\":\"parcoords\",\"line\":{\"colorbar\":{\"outlinewidth\":0,\"ticks\":\"\"}}}],\"scatterpolargl\":[{\"type\":\"scatterpolargl\",\"marker\":{\"colorbar\":{\"outlinewidth\":0,\"ticks\":\"\"}}}],\"bar\":[{\"error_x\":{\"color\":\"#2a3f5f\"},\"error_y\":{\"color\":\"#2a3f5f\"},\"marker\":{\"line\":{\"color\":\"#E5ECF6\",\"width\":0.5},\"pattern\":{\"fillmode\":\"overlay\",\"size\":10,\"solidity\":0.2}},\"type\":\"bar\"}],\"scattergeo\":[{\"type\":\"scattergeo\",\"marker\":{\"colorbar\":{\"outlinewidth\":0,\"ticks\":\"\"}}}],\"scatterpolar\":[{\"type\":\"scatterpolar\",\"marker\":{\"colorbar\":{\"outlinewidth\":0,\"ticks\":\"\"}}}],\"histogram\":[{\"marker\":{\"pattern\":{\"fillmode\":\"overlay\",\"size\":10,\"solidity\":0.2}},\"type\":\"histogram\"}],\"scattergl\":[{\"type\":\"scattergl\",\"marker\":{\"colorbar\":{\"outlinewidth\":0,\"ticks\":\"\"}}}],\"scatter3d\":[{\"type\":\"scatter3d\",\"line\":{\"colorbar\":{\"outlinewidth\":0,\"ticks\":\"\"}},\"marker\":{\"colorbar\":{\"outlinewidth\":0,\"ticks\":\"\"}}}],\"scattermapbox\":[{\"type\":\"scattermapbox\",\"marker\":{\"colorbar\":{\"outlinewidth\":0,\"ticks\":\"\"}}}],\"scatterternary\":[{\"type\":\"scatterternary\",\"marker\":{\"colorbar\":{\"outlinewidth\":0,\"ticks\":\"\"}}}],\"scattercarpet\":[{\"type\":\"scattercarpet\",\"marker\":{\"colorbar\":{\"outlinewidth\":0,\"ticks\":\"\"}}}],\"carpet\":[{\"aaxis\":{\"endlinecolor\":\"#2a3f5f\",\"gridcolor\":\"white\",\"linecolor\":\"white\",\"minorgridcolor\":\"white\",\"startlinecolor\":\"#2a3f5f\"},\"baxis\":{\"endlinecolor\":\"#2a3f5f\",\"gridcolor\":\"white\",\"linecolor\":\"white\",\"minorgridcolor\":\"white\",\"startlinecolor\":\"#2a3f5f\"},\"type\":\"carpet\"}],\"table\":[{\"cells\":{\"fill\":{\"color\":\"#EBF0F8\"},\"line\":{\"color\":\"white\"}},\"header\":{\"fill\":{\"color\":\"#C8D4E3\"},\"line\":{\"color\":\"white\"}},\"type\":\"table\"}],\"barpolar\":[{\"marker\":{\"line\":{\"color\":\"#E5ECF6\",\"width\":0.5},\"pattern\":{\"fillmode\":\"overlay\",\"size\":10,\"solidity\":0.2}},\"type\":\"barpolar\"}],\"pie\":[{\"automargin\":true,\"type\":\"pie\"}]},\"layout\":{\"autotypenumbers\":\"strict\",\"colorway\":[\"#636efa\",\"#EF553B\",\"#00cc96\",\"#ab63fa\",\"#FFA15A\",\"#19d3f3\",\"#FF6692\",\"#B6E880\",\"#FF97FF\",\"#FECB52\"],\"font\":{\"color\":\"#2a3f5f\"},\"hovermode\":\"closest\",\"hoverlabel\":{\"align\":\"left\"},\"paper_bgcolor\":\"white\",\"plot_bgcolor\":\"#E5ECF6\",\"polar\":{\"bgcolor\":\"#E5ECF6\",\"angularaxis\":{\"gridcolor\":\"white\",\"linecolor\":\"white\",\"ticks\":\"\"},\"radialaxis\":{\"gridcolor\":\"white\",\"linecolor\":\"white\",\"ticks\":\"\"}},\"ternary\":{\"bgcolor\":\"#E5ECF6\",\"aaxis\":{\"gridcolor\":\"white\",\"linecolor\":\"white\",\"ticks\":\"\"},\"baxis\":{\"gridcolor\":\"white\",\"linecolor\":\"white\",\"ticks\":\"\"},\"caxis\":{\"gridcolor\":\"white\",\"linecolor\":\"white\",\"ticks\":\"\"}},\"coloraxis\":{\"colorbar\":{\"outlinewidth\":0,\"ticks\":\"\"}},\"colorscale\":{\"sequential\":[[0.0,\"#0d0887\"],[0.1111111111111111,\"#46039f\"],[0.2222222222222222,\"#7201a8\"],[0.3333333333333333,\"#9c179e\"],[0.4444444444444444,\"#bd3786\"],[0.5555555555555556,\"#d8576b\"],[0.6666666666666666,\"#ed7953\"],[0.7777777777777778,\"#fb9f3a\"],[0.8888888888888888,\"#fdca26\"],[1.0,\"#f0f921\"]],\"sequentialminus\":[[0.0,\"#0d0887\"],[0.1111111111111111,\"#46039f\"],[0.2222222222222222,\"#7201a8\"],[0.3333333333333333,\"#9c179e\"],[0.4444444444444444,\"#bd3786\"],[0.5555555555555556,\"#d8576b\"],[0.6666666666666666,\"#ed7953\"],[0.7777777777777778,\"#fb9f3a\"],[0.8888888888888888,\"#fdca26\"],[1.0,\"#f0f921\"]],\"diverging\":[[0,\"#8e0152\"],[0.1,\"#c51b7d\"],[0.2,\"#de77ae\"],[0.3,\"#f1b6da\"],[0.4,\"#fde0ef\"],[0.5,\"#f7f7f7\"],[0.6,\"#e6f5d0\"],[0.7,\"#b8e186\"],[0.8,\"#7fbc41\"],[0.9,\"#4d9221\"],[1,\"#276419\"]]},\"xaxis\":{\"gridcolor\":\"white\",\"linecolor\":\"white\",\"ticks\":\"\",\"title\":{\"standoff\":15},\"zerolinecolor\":\"white\",\"automargin\":true,\"zerolinewidth\":2},\"yaxis\":{\"gridcolor\":\"white\",\"linecolor\":\"white\",\"ticks\":\"\",\"title\":{\"standoff\":15},\"zerolinecolor\":\"white\",\"automargin\":true,\"zerolinewidth\":2},\"scene\":{\"xaxis\":{\"backgroundcolor\":\"#E5ECF6\",\"gridcolor\":\"white\",\"linecolor\":\"white\",\"showbackground\":true,\"ticks\":\"\",\"zerolinecolor\":\"white\",\"gridwidth\":2},\"yaxis\":{\"backgroundcolor\":\"#E5ECF6\",\"gridcolor\":\"white\",\"linecolor\":\"white\",\"showbackground\":true,\"ticks\":\"\",\"zerolinecolor\":\"white\",\"gridwidth\":2},\"zaxis\":{\"backgroundcolor\":\"#E5ECF6\",\"gridcolor\":\"white\",\"linecolor\":\"white\",\"showbackground\":true,\"ticks\":\"\",\"zerolinecolor\":\"white\",\"gridwidth\":2}},\"shapedefaults\":{\"line\":{\"color\":\"#2a3f5f\"}},\"annotationdefaults\":{\"arrowcolor\":\"#2a3f5f\",\"arrowhead\":0,\"arrowwidth\":1},\"geo\":{\"bgcolor\":\"white\",\"landcolor\":\"#E5ECF6\",\"subunitcolor\":\"white\",\"showland\":true,\"showlakes\":true,\"lakecolor\":\"white\"},\"title\":{\"x\":0.05},\"mapbox\":{\"style\":\"light\"}}},\"title\":{\"text\":\"Some representations of the dataset\"},\"width\":1000,\"height\":600},                        {\"responsive\": true}                    ).then(function(){\n",
              "                            \n",
              "var gd = document.getElementById('f1816268-8ac1-4b3b-83ce-3c139e6afce2');\n",
              "var x = new MutationObserver(function (mutations, observer) {{\n",
              "        var display = window.getComputedStyle(gd).display;\n",
              "        if (!display || display === 'none') {{\n",
              "            console.log([gd, 'removed!']);\n",
              "            Plotly.purge(gd);\n",
              "            observer.disconnect();\n",
              "        }}\n",
              "}});\n",
              "\n",
              "// Listen for the removal of the full notebook cells\n",
              "var notebookContainer = gd.closest('#notebook-container');\n",
              "if (notebookContainer) {{\n",
              "    x.observe(notebookContainer, {childList: true});\n",
              "}}\n",
              "\n",
              "// Listen for the clearing of the current output cell\n",
              "var outputEl = gd.closest('.output');\n",
              "if (outputEl) {{\n",
              "    x.observe(outputEl, {childList: true});\n",
              "}}\n",
              "\n",
              "                        })                };                            </script>        </div>\n",
              "</body>\n",
              "</html>"
            ]
          },
          "metadata": {}
        }
      ]
    },
    {
      "cell_type": "markdown",
      "source": [
        "###### **2.2. Training set handling**\n",
        "\n",
        "The next step is to arrange the label variables (those to be predicted) and the feature variables (those to be used for prediction). In this case, the fuel efficiency `MPG` is the label and the other data are the features."
      ],
      "metadata": {
        "id": "pgqCqFGj323h"
      }
    },
    {
      "cell_type": "code",
      "source": [
        "train_features, test_features = train_dataset.copy(), test_dataset.copy()\n",
        "train_labels, test_labels = train_features.pop('MPG'), test_features.pop('MPG')"
      ],
      "metadata": {
        "id": "7MiCcr6o-v8o"
      },
      "execution_count": 8,
      "outputs": []
    },
    {
      "cell_type": "markdown",
      "source": [
        "###### **2.3. Normalization step**\n",
        "\n",
        "The dataset is composed of quantities with different ranges and units. A good practice is to normalize the features so that the scale of the outputs and the scale of the gradients are not affected by the scale of the inputs. Models converge more stably with normalized features.\n",
        "\n",
        "For the following part of the script, the engine horsepower parameter `Horsepower` is used to predict the fuel efficiency of a vehicle. The variable `Horsepower` is kept in the dataset `train_features`. The mean value and standard deviation of this distribution are computed for the normalization layer. Since only one value is needed to predict an output, the input size `input_shape` is set to 1.\n"
      ],
      "metadata": {
        "id": "3FjdtVUpbhSW"
      }
    },
    {
      "cell_type": "code",
      "source": [
        "horsepower = array(train_features['Horsepower'])\n",
        "horsepower_normalizer = keras.layers.Normalization(input_shape=(1,), axis=None)\n",
        "horsepower_normalizer.adapt(horsepower) # fit to the data to compute the mean and standard deviation"
      ],
      "metadata": {
        "id": "Zf8YhKuU-3MX",
        "colab": {
          "base_uri": "https://localhost:8080/"
        },
        "outputId": "fcb787d2-b96a-40eb-9961-d1bd9fcce37c"
      },
      "execution_count": 9,
      "outputs": [
        {
          "output_type": "stream",
          "name": "stderr",
          "text": [
            "/usr/local/lib/python3.10/dist-packages/keras/src/layers/preprocessing/tf_data_layer.py:19: UserWarning:\n",
            "\n",
            "Do not pass an `input_shape`/`input_dim` argument to a layer. When using Sequential models, prefer using an `Input(shape)` object as the first layer in the model instead.\n",
            "\n"
          ]
        }
      ]
    },
    {
      "cell_type": "code",
      "source": [
        "def show_evolution(history):\n",
        "  history_dict = history.history\n",
        "  history_dict.keys()\n",
        "\n",
        "  fig = Figure()\n",
        "\n",
        "  acc_train, acc_val = history_dict['loss'], history_dict['val_loss']\n",
        "  epochs = array(range(1, len(acc_train) + 1))\n",
        "\n",
        "  fig.add_trace(Scatter(x=epochs, y=acc_train, mode='lines', name='loss'))\n",
        "  fig.add_trace(Scatter(x=epochs, y=acc_val, mode='lines', name='val_loss'))\n",
        "  fig.update_layout(legend=dict(x=0.02, y=0.98, xanchor='left', yanchor='top', bgcolor='rgba(255, 255, 255, 0.8)', bordercolor='black', borderwidth=1),\n",
        "                    width=500, height=500)\n",
        "  fig.update_xaxes(title = \"epochs\"), fig.update_yaxes(title = \"loss\")\n",
        "\n",
        "  fig.show()"
      ],
      "metadata": {
        "id": "2fy1PBxURS2Q"
      },
      "execution_count": 10,
      "outputs": []
    },
    {
      "cell_type": "markdown",
      "source": [
        "---\n",
        "\n",
        "\n",
        "#### **3. Linear regression model (L-model)**\n",
        "\n",
        "First model: a single-variable linear regression model to predict `MPG` from `Horsepower`. For this, two steps are done in this model:\n",
        "*   The feature `Horsepower` is normalized by using a specific preprocessing layer `norm` (then replaced by the one defined above).\n",
        "*   A linear transformation `y = ax + b` is applied with the layer `Dense` to produce 1 output.\n",
        "\n"
      ],
      "metadata": {
        "id": "2Sxygb4SXUEl"
      }
    },
    {
      "cell_type": "code",
      "source": [
        "def create_linear_model(norm):\n",
        "  model = keras.Sequential([norm, keras.layers.Dense(units=1)])\n",
        "  model.compile(optimizer=optimizers.Adam(learning_rate=0.1), loss='mean_absolute_error')\n",
        "  return model"
      ],
      "metadata": {
        "id": "_unS_mDqZkBk"
      },
      "execution_count": 11,
      "outputs": []
    },
    {
      "cell_type": "code",
      "source": [
        "linear_model = create_linear_model(horsepower_normalizer)\n",
        "\n",
        "if training_phase == 'Yes':\n",
        "  computation_time = {}\n",
        "  t0 = thread_time()\n",
        "  history = linear_model.fit(train_features['Horsepower'], train_labels, epochs=50, verbose=0, validation_split = 0.2)\n",
        "  t1 = thread_time()\n",
        "  computation_time['L-model'] = t1-t0 # save the computation time\n",
        "  linear_model.save('Lmodel.keras')\n",
        "  show_evolution(history)"
      ],
      "metadata": {
        "id": "Ef_uqoli_HEe"
      },
      "execution_count": 12,
      "outputs": []
    },
    {
      "cell_type": "code",
      "source": [
        "if training_phase == \"Yes\":\n",
        "  test_results = {}\n",
        "  test_results['L-model'] = linear_model.evaluate(test_features['Horsepower'], test_labels, verbose=0) # save the loss value for the test set"
      ],
      "metadata": {
        "id": "PD8KTQ6y_OT2"
      },
      "execution_count": 13,
      "outputs": []
    },
    {
      "cell_type": "markdown",
      "source": [
        "---\n",
        "\n",
        "\n",
        "#### **4. Multiple inputs linear regression model (nL-model)**\n",
        "\n",
        "Second model: a 8-variables linear regression model to predict `MPG` from `train_features`. For this, two steps are done in this model:\n",
        "*   The features `train_features` are normalized by using a specific preprocessing layer `norm`\n",
        "*   A linear transformation `y = Mx + v` is applied with the layer `Dense` to produce 1 output"
      ],
      "metadata": {
        "id": "HfzcZwNwHLUw"
      }
    },
    {
      "cell_type": "code",
      "source": [
        "normalizer_multiple = keras.layers.Normalization(axis=-1)\n",
        "normalizer_multiple.adapt(array(train_features))"
      ],
      "metadata": {
        "id": "FfIsf_BsH3h9"
      },
      "execution_count": 14,
      "outputs": []
    },
    {
      "cell_type": "code",
      "source": [
        "multiple_linear_model = create_linear_model(normalizer_multiple)\n",
        "if training_phase == \"Yes\":\n",
        "  t0 = thread_time()\n",
        "  history = multiple_linear_model.fit(train_features, train_labels, epochs=50, verbose=0, validation_split = 0.2)\n",
        "  t1 = thread_time()\n",
        "  multiple_linear_model.save('nLmodel.keras')\n",
        "  computation_time['nL-model'] = t1-t0\n",
        "  test_results['nL-model'] = multiple_linear_model.evaluate(test_features, test_labels, verbose=0) # save the loss value for the test set\n",
        "  show_evolution(history)"
      ],
      "metadata": {
        "id": "yrAa6_D8IIu1"
      },
      "execution_count": 15,
      "outputs": []
    },
    {
      "cell_type": "markdown",
      "source": [
        "---\n",
        "\n",
        "\n",
        "#### **5. Deep Neural Network model (DNN-model)**\n",
        "\n",
        "Third model: a deep network regression model to predict `MPG` from `Horsepower`. The model is composed of one pre-processing layer, 2 deep layers and one output layer:\n",
        "* The pre-processing layer `norm`\n",
        "* Two deep layers `Dense` with the non-linear function `ReLu` as activation function\n",
        "* One output layer `Dense` to compute an unique output\n"
      ],
      "metadata": {
        "id": "CZwQHnjIBtpc"
      }
    },
    {
      "cell_type": "code",
      "source": [
        "def DNN_model(norm):\n",
        "  model = keras.Sequential([\n",
        "      norm,\n",
        "      keras.layers.Dense(64, activation='relu'),\n",
        "      keras.layers.Dense(64, activation='relu'),\n",
        "      keras.layers.Dense(1)])\n",
        "\n",
        "  model.compile(loss='mean_absolute_error', optimizer=keras.optimizers.Adam(0.001))\n",
        "  return model"
      ],
      "metadata": {
        "id": "JejOC9uXeDXY"
      },
      "execution_count": 16,
      "outputs": []
    },
    {
      "cell_type": "code",
      "source": [
        "dnn_model = DNN_model(horsepower_normalizer)\n",
        "if training_phase == \"Yes\":\n",
        "  t0 = thread_time()\n",
        "  history = dnn_model.fit(train_features['Horsepower'], train_labels, epochs=50, validation_split=0.2, verbose=0)\n",
        "  t1 = thread_time()\n",
        "  computation_time['DNN-model'] = t1-t0\n",
        "  test_results['DNN-model'] = dnn_model.evaluate(test_features['Horsepower'], test_labels, verbose=0)\n",
        "  dnn_model.save('DNNmodel.keras')\n",
        "  show_evolution(history)"
      ],
      "metadata": {
        "id": "u2rF44E7ABhe"
      },
      "execution_count": 17,
      "outputs": []
    },
    {
      "cell_type": "markdown",
      "source": [
        "---\n",
        "\n",
        "\n",
        "#### **6. Multiple inputs deep Neural Network model (nDNN-model)**\n",
        "\n",
        "Last model: a deep network regression model with 8 inputs to predict `MPG` from `train_features`."
      ],
      "metadata": {
        "id": "ZX8fFojDKVoS"
      }
    },
    {
      "cell_type": "code",
      "source": [
        "multiple_dnn_model = DNN_model(normalizer_multiple)\n",
        "if training_phase == \"Yes\":\n",
        "  t0 = thread_time()\n",
        "  history = multiple_dnn_model.fit(train_features, train_labels, epochs=50, validation_split=0.2, verbose=0)\n",
        "  t1 = thread_time()\n",
        "  computation_time['nDNN-model'] = t1-t0\n",
        "  test_results['nDNN-model'] = multiple_dnn_model.evaluate(test_features, test_labels, verbose=0)\n",
        "  multiple_dnn_model.save('nDNNmodel.keras')\n",
        "  show_evolution(history)"
      ],
      "metadata": {
        "id": "ZQiIuBsZKaxk"
      },
      "execution_count": 18,
      "outputs": []
    },
    {
      "cell_type": "markdown",
      "source": [
        "---\n",
        "\n",
        "\n",
        "#### **7. Confrontation & comments**\n",
        "\n",
        "If the models have been trained, it is possible to compare the performance of each model. `nDNN_model` is the best in terms of minimizing the loss function, but also the longest in terms of computing time. Depending on performance, the function `plot_prediction` can be used to visualize predicted values as a function of true values (left graph) and error distribution (right graph)."
      ],
      "metadata": {
        "id": "wOPrGNokcalM"
      }
    },
    {
      "cell_type": "code",
      "source": [
        "if training_phase == \"Yes\":\n",
        "  performances = DataFrame([test_results, computation_time], index=['Mean absolute error [MPG]', \"Computation time [s]\"]).T\n",
        "  performances.to_csv('performances_regression.csv', index=False)\n",
        "else:\n",
        "  linear_model, multiple_linear_model, dnn_model, multiple_dnn_model, performances = get_github_files()"
      ],
      "metadata": {
        "id": "6xwr4-_XALPC",
        "colab": {
          "base_uri": "https://localhost:8080/"
        },
        "outputId": "e60838b4-8a76-4c61-e302-b1170bc82ce6"
      },
      "execution_count": 19,
      "outputs": [
        {
          "output_type": "stream",
          "name": "stdout",
          "text": [
            "Cloning into 'TensorFlow_duplicata'...\n",
            "remote: Enumerating objects: 312, done.\u001b[K\n",
            "remote: Counting objects: 100% (118/118), done.\u001b[K\n",
            "remote: Compressing objects: 100% (30/30), done.\u001b[K\n",
            "remote: Total 312 (delta 114), reused 88 (delta 88), pack-reused 194 (from 2)\u001b[K\n",
            "Receiving objects: 100% (312/312), 31.29 MiB | 19.77 MiB/s, done.\n",
            "Resolving deltas: 100% (154/154), done.\n"
          ]
        }
      ]
    },
    {
      "cell_type": "code",
      "source": [
        "print(performances)"
      ],
      "metadata": {
        "colab": {
          "base_uri": "https://localhost:8080/"
        },
        "id": "aVw7bdHq_rDF",
        "outputId": "a0edaa14-8236-4d52-aa4c-7b885d9080f6"
      },
      "execution_count": 20,
      "outputs": [
        {
          "output_type": "stream",
          "name": "stdout",
          "text": [
            "   Mean absolute error [MPG]  Computation time [s]\n",
            "0                   3.827374              4.595454\n",
            "1                   2.092484              3.868038\n",
            "2                   3.352383              5.078055\n",
            "3                   1.965180              4.296537\n"
          ]
        }
      ]
    },
    {
      "cell_type": "code",
      "source": [
        "all_model = {'L-model': linear_model, 'nL-model': multiple_linear_model, 'DNN-model': dnn_model, 'nDNN-model':\tmultiple_dnn_model}"
      ],
      "metadata": {
        "id": "Eeeagxgwd3zp"
      },
      "execution_count": 21,
      "outputs": []
    },
    {
      "cell_type": "code",
      "source": [
        "def plot_prediction(name):\n",
        "  model = all_model[name]\n",
        "  if name == 'L-model' or name == 'DNN-model':\n",
        "    predictions = model.predict(test_features[\"Horsepower\"], verbose=0).flatten()\n",
        "  else:\n",
        "    predictions = model.predict(test_features, verbose=0).flatten()\n",
        "  fig = make_subplots(rows=1, cols=2, subplot_titles=[\"Predicted values Vs. True values\", \"Error distribution\"])\n",
        "  # Subplot 1\n",
        "  fig.add_trace(Scatter(x=test_labels, y=predictions, mode='markers', marker_color='blue', showlegend=False), row=1, col=1)\n",
        "  xaxis = linspace(min(test_labels)*0.9,max(test_labels)*1.1,50)\n",
        "  fig.add_trace(Scatter(x=xaxis, y=xaxis, mode='lines', marker_color='red', showlegend=False), row=1, col=1) # line y=x\n",
        "  # Subplot 2\n",
        "  fig.add_trace(Histogram(x=predictions - test_labels, nbinsx=25, marker_color='blue', showlegend=False), row=1, col=2)\n",
        "  fig.update_yaxes(title_text=\"Predictions [MPG]\", row=1, col=1), fig.update_yaxes(title_text=\"Count\", range=[0, 25], row=1, col=2)\n",
        "  # Layout and axis\n",
        "  fig.update_layout(title=dict(text=name), width=900, height=500)\n",
        "  fig.update_xaxes(title_text=\"True values [MPG]\", row=1, col=1), fig.update_xaxes(title_text=\"Prediction error [MPG]\", row=1, col=2)\n",
        "  fig.show()"
      ],
      "metadata": {
        "id": "LCGE_pw-vdNT"
      },
      "execution_count": 22,
      "outputs": []
    },
    {
      "cell_type": "code",
      "source": [
        "plot_prediction('nDNN-model')"
      ],
      "metadata": {
        "id": "xmgZdKD6ypZh",
        "colab": {
          "base_uri": "https://localhost:8080/",
          "height": 517
        },
        "outputId": "f2481407-3282-49c9-b534-cd55d63463d5"
      },
      "execution_count": 23,
      "outputs": [
        {
          "output_type": "display_data",
          "data": {
            "text/html": [
              "<html>\n",
              "<head><meta charset=\"utf-8\" /></head>\n",
              "<body>\n",
              "    <div>            <script src=\"https://cdnjs.cloudflare.com/ajax/libs/mathjax/2.7.5/MathJax.js?config=TeX-AMS-MML_SVG\"></script><script type=\"text/javascript\">if (window.MathJax && window.MathJax.Hub && window.MathJax.Hub.Config) {window.MathJax.Hub.Config({SVG: {font: \"STIX-Web\"}});}</script>                <script type=\"text/javascript\">window.PlotlyConfig = {MathJaxConfig: 'local'};</script>\n",
              "        <script charset=\"utf-8\" src=\"https://cdn.plot.ly/plotly-2.35.2.min.js\"></script>                <div id=\"65a8536a-15dc-4e81-bc89-ad33857125b2\" class=\"plotly-graph-div\" style=\"height:500px; width:900px;\"></div>            <script type=\"text/javascript\">                                    window.PLOTLYENV=window.PLOTLYENV || {};                                    if (document.getElementById(\"65a8536a-15dc-4e81-bc89-ad33857125b2\")) {                    Plotly.newPlot(                        \"65a8536a-15dc-4e81-bc89-ad33857125b2\",                        [{\"marker\":{\"color\":\"blue\"},\"mode\":\"markers\",\"showlegend\":false,\"x\":[18.0,17.0,14.0,25.0,21.0,17.0,30.0,35.0,26.0,13.0,17.0,12.0,18.0,22.0,14.0,13.0,18.0,18.0,23.0,12.0,20.0,21.0,18.0,15.0,15.0,31.0,13.0,14.0,14.0,26.0,15.0,16.0,18.0,25.0,23.0,22.0,33.0,25.0,25.0,26.0,27.0,16.0,24.5,33.0,26.5,13.0,31.5,33.5,20.5,15.5,30.5,33.5,19.9,25.1,27.5,21.5,19.8,26.8,37.2,27.9,40.8,44.3,36.4,30.0,33.8,23.7,35.0,27.2,30.0,37.7,30.7,24.2,27.0,34.0,31.0,37.0,34.0,32.0],\"y\":[17.032745,18.425932,13.613022,21.96542,21.713903,16.945375,28.345476,31.465504,26.575462,13.479963,16.169275,12.828663,18.787062,24.27435,16.212763,14.630579,16.20763,18.036016,18.341969,12.58584,26.30695,22.861193,32.980797,17.173986,16.306635,30.861526,13.110162,13.9913025,13.775785,25.805937,14.393491,16.145819,17.53385,26.90968,21.54261,20.387636,33.025066,24.588837,24.23974,27.264326,26.242903,15.490439,28.495584,33.625637,28.196215,16.869486,31.450785,32.14424,17.5292,14.385538,31.61606,29.502666,21.3281,25.269072,26.744581,18.56804,21.727459,22.776262,35.55405,24.9117,35.14965,34.533043,25.963053,26.816694,34.30257,35.64865,27.644556,29.594667,32.725876,36.713142,23.248732,21.46026,29.528883,30.52859,30.974054,37.177116,35.471066,30.346783],\"type\":\"scatter\",\"xaxis\":\"x\",\"yaxis\":\"y\"},{\"marker\":{\"color\":\"red\"},\"mode\":\"lines\",\"showlegend\":false,\"x\":[10.8,11.574081,12.348164,13.122245,13.896327,14.670408,15.44449,16.21857,16.992653,17.766735,18.540817,19.3149,20.08898,20.863062,21.637142,22.411224,23.185307,23.959389,24.73347,25.507551,26.281633,27.055714,27.829796,28.603878,29.37796,30.152042,30.926125,31.700203,32.474285,33.248367,34.02245,34.79653,35.570614,36.344696,37.118774,37.892857,38.66694,39.44102,40.215103,40.989185,41.763268,42.537346,43.311428,44.08551,44.859592,45.633675,46.407757,47.181835,47.955917,48.73],\"y\":[10.8,11.574081,12.348164,13.122245,13.896327,14.670408,15.44449,16.21857,16.992653,17.766735,18.540817,19.3149,20.08898,20.863062,21.637142,22.411224,23.185307,23.959389,24.73347,25.507551,26.281633,27.055714,27.829796,28.603878,29.37796,30.152042,30.926125,31.700203,32.474285,33.248367,34.02245,34.79653,35.570614,36.344696,37.118774,37.892857,38.66694,39.44102,40.215103,40.989185,41.763268,42.537346,43.311428,44.08551,44.859592,45.633675,46.407757,47.181835,47.955917,48.73],\"type\":\"scatter\",\"xaxis\":\"x\",\"yaxis\":\"y\"},{\"marker\":{\"color\":\"blue\"},\"nbinsx\":25,\"showlegend\":false,\"x\":[-0.967254638671875,1.4259319305419922,-0.3869781494140625,-3.0345802307128906,0.7139034271240234,-0.05462455749511719,-1.6545238494873047,-3.534496307373047,0.5754623413085938,0.4799633026123047,-0.8307247161865234,0.8286628723144531,0.7870616912841797,2.2743492126464844,2.2127628326416016,1.6305789947509766,-1.7923698425292969,0.03601646423339844,-4.658031463623047,0.5858402252197266,6.306949615478516,1.8611927032470703,14.980796813964844,2.1739864349365234,1.3066349029541016,-0.1384735107421875,0.11016178131103516,-0.008697509765625,-0.2242145538330078,-0.1940631866455078,-0.6065092086791992,0.14581871032714844,-0.46615028381347656,1.9096794128417969,-1.4573898315429688,-1.6123638153076172,0.025066375732421875,-0.411163330078125,-0.7602596282958984,1.2643260955810547,-0.7570972442626953,-0.5095605850219727,3.995584487915039,0.6256370544433594,1.6962146759033203,3.869485855102539,-0.04921531677246094,-1.3557586669921875,-2.9708003997802734,-1.114461898803711,1.1160602569580078,-3.997333526611328,1.4281002044677749,0.16907157897949077,-0.7554187774658203,-2.9319591522216797,1.9274589538574212,-4.023737716674805,-1.6459495544433622,-2.9883007049560533,-5.650349426269528,-9.766957092285153,-10.43694725036621,-3.1833057403564453,0.502570343017581,11.948651123046876,-7.355443954467773,2.3946674346923835,2.7258758544921875,-0.9868576049804716,-7.45126838684082,-2.7397396087646477,2.5288829803466797,-3.4714107513427734,-0.025945663452148438,0.17711639404296875,1.4710655212402344,-1.6532173156738281],\"type\":\"histogram\",\"xaxis\":\"x2\",\"yaxis\":\"y2\"}],                        {\"template\":{\"data\":{\"histogram2dcontour\":[{\"type\":\"histogram2dcontour\",\"colorbar\":{\"outlinewidth\":0,\"ticks\":\"\"},\"colorscale\":[[0.0,\"#0d0887\"],[0.1111111111111111,\"#46039f\"],[0.2222222222222222,\"#7201a8\"],[0.3333333333333333,\"#9c179e\"],[0.4444444444444444,\"#bd3786\"],[0.5555555555555556,\"#d8576b\"],[0.6666666666666666,\"#ed7953\"],[0.7777777777777778,\"#fb9f3a\"],[0.8888888888888888,\"#fdca26\"],[1.0,\"#f0f921\"]]}],\"choropleth\":[{\"type\":\"choropleth\",\"colorbar\":{\"outlinewidth\":0,\"ticks\":\"\"}}],\"histogram2d\":[{\"type\":\"histogram2d\",\"colorbar\":{\"outlinewidth\":0,\"ticks\":\"\"},\"colorscale\":[[0.0,\"#0d0887\"],[0.1111111111111111,\"#46039f\"],[0.2222222222222222,\"#7201a8\"],[0.3333333333333333,\"#9c179e\"],[0.4444444444444444,\"#bd3786\"],[0.5555555555555556,\"#d8576b\"],[0.6666666666666666,\"#ed7953\"],[0.7777777777777778,\"#fb9f3a\"],[0.8888888888888888,\"#fdca26\"],[1.0,\"#f0f921\"]]}],\"heatmap\":[{\"type\":\"heatmap\",\"colorbar\":{\"outlinewidth\":0,\"ticks\":\"\"},\"colorscale\":[[0.0,\"#0d0887\"],[0.1111111111111111,\"#46039f\"],[0.2222222222222222,\"#7201a8\"],[0.3333333333333333,\"#9c179e\"],[0.4444444444444444,\"#bd3786\"],[0.5555555555555556,\"#d8576b\"],[0.6666666666666666,\"#ed7953\"],[0.7777777777777778,\"#fb9f3a\"],[0.8888888888888888,\"#fdca26\"],[1.0,\"#f0f921\"]]}],\"heatmapgl\":[{\"type\":\"heatmapgl\",\"colorbar\":{\"outlinewidth\":0,\"ticks\":\"\"},\"colorscale\":[[0.0,\"#0d0887\"],[0.1111111111111111,\"#46039f\"],[0.2222222222222222,\"#7201a8\"],[0.3333333333333333,\"#9c179e\"],[0.4444444444444444,\"#bd3786\"],[0.5555555555555556,\"#d8576b\"],[0.6666666666666666,\"#ed7953\"],[0.7777777777777778,\"#fb9f3a\"],[0.8888888888888888,\"#fdca26\"],[1.0,\"#f0f921\"]]}],\"contourcarpet\":[{\"type\":\"contourcarpet\",\"colorbar\":{\"outlinewidth\":0,\"ticks\":\"\"}}],\"contour\":[{\"type\":\"contour\",\"colorbar\":{\"outlinewidth\":0,\"ticks\":\"\"},\"colorscale\":[[0.0,\"#0d0887\"],[0.1111111111111111,\"#46039f\"],[0.2222222222222222,\"#7201a8\"],[0.3333333333333333,\"#9c179e\"],[0.4444444444444444,\"#bd3786\"],[0.5555555555555556,\"#d8576b\"],[0.6666666666666666,\"#ed7953\"],[0.7777777777777778,\"#fb9f3a\"],[0.8888888888888888,\"#fdca26\"],[1.0,\"#f0f921\"]]}],\"surface\":[{\"type\":\"surface\",\"colorbar\":{\"outlinewidth\":0,\"ticks\":\"\"},\"colorscale\":[[0.0,\"#0d0887\"],[0.1111111111111111,\"#46039f\"],[0.2222222222222222,\"#7201a8\"],[0.3333333333333333,\"#9c179e\"],[0.4444444444444444,\"#bd3786\"],[0.5555555555555556,\"#d8576b\"],[0.6666666666666666,\"#ed7953\"],[0.7777777777777778,\"#fb9f3a\"],[0.8888888888888888,\"#fdca26\"],[1.0,\"#f0f921\"]]}],\"mesh3d\":[{\"type\":\"mesh3d\",\"colorbar\":{\"outlinewidth\":0,\"ticks\":\"\"}}],\"scatter\":[{\"fillpattern\":{\"fillmode\":\"overlay\",\"size\":10,\"solidity\":0.2},\"type\":\"scatter\"}],\"parcoords\":[{\"type\":\"parcoords\",\"line\":{\"colorbar\":{\"outlinewidth\":0,\"ticks\":\"\"}}}],\"scatterpolargl\":[{\"type\":\"scatterpolargl\",\"marker\":{\"colorbar\":{\"outlinewidth\":0,\"ticks\":\"\"}}}],\"bar\":[{\"error_x\":{\"color\":\"#2a3f5f\"},\"error_y\":{\"color\":\"#2a3f5f\"},\"marker\":{\"line\":{\"color\":\"#E5ECF6\",\"width\":0.5},\"pattern\":{\"fillmode\":\"overlay\",\"size\":10,\"solidity\":0.2}},\"type\":\"bar\"}],\"scattergeo\":[{\"type\":\"scattergeo\",\"marker\":{\"colorbar\":{\"outlinewidth\":0,\"ticks\":\"\"}}}],\"scatterpolar\":[{\"type\":\"scatterpolar\",\"marker\":{\"colorbar\":{\"outlinewidth\":0,\"ticks\":\"\"}}}],\"histogram\":[{\"marker\":{\"pattern\":{\"fillmode\":\"overlay\",\"size\":10,\"solidity\":0.2}},\"type\":\"histogram\"}],\"scattergl\":[{\"type\":\"scattergl\",\"marker\":{\"colorbar\":{\"outlinewidth\":0,\"ticks\":\"\"}}}],\"scatter3d\":[{\"type\":\"scatter3d\",\"line\":{\"colorbar\":{\"outlinewidth\":0,\"ticks\":\"\"}},\"marker\":{\"colorbar\":{\"outlinewidth\":0,\"ticks\":\"\"}}}],\"scattermapbox\":[{\"type\":\"scattermapbox\",\"marker\":{\"colorbar\":{\"outlinewidth\":0,\"ticks\":\"\"}}}],\"scatterternary\":[{\"type\":\"scatterternary\",\"marker\":{\"colorbar\":{\"outlinewidth\":0,\"ticks\":\"\"}}}],\"scattercarpet\":[{\"type\":\"scattercarpet\",\"marker\":{\"colorbar\":{\"outlinewidth\":0,\"ticks\":\"\"}}}],\"carpet\":[{\"aaxis\":{\"endlinecolor\":\"#2a3f5f\",\"gridcolor\":\"white\",\"linecolor\":\"white\",\"minorgridcolor\":\"white\",\"startlinecolor\":\"#2a3f5f\"},\"baxis\":{\"endlinecolor\":\"#2a3f5f\",\"gridcolor\":\"white\",\"linecolor\":\"white\",\"minorgridcolor\":\"white\",\"startlinecolor\":\"#2a3f5f\"},\"type\":\"carpet\"}],\"table\":[{\"cells\":{\"fill\":{\"color\":\"#EBF0F8\"},\"line\":{\"color\":\"white\"}},\"header\":{\"fill\":{\"color\":\"#C8D4E3\"},\"line\":{\"color\":\"white\"}},\"type\":\"table\"}],\"barpolar\":[{\"marker\":{\"line\":{\"color\":\"#E5ECF6\",\"width\":0.5},\"pattern\":{\"fillmode\":\"overlay\",\"size\":10,\"solidity\":0.2}},\"type\":\"barpolar\"}],\"pie\":[{\"automargin\":true,\"type\":\"pie\"}]},\"layout\":{\"autotypenumbers\":\"strict\",\"colorway\":[\"#636efa\",\"#EF553B\",\"#00cc96\",\"#ab63fa\",\"#FFA15A\",\"#19d3f3\",\"#FF6692\",\"#B6E880\",\"#FF97FF\",\"#FECB52\"],\"font\":{\"color\":\"#2a3f5f\"},\"hovermode\":\"closest\",\"hoverlabel\":{\"align\":\"left\"},\"paper_bgcolor\":\"white\",\"plot_bgcolor\":\"#E5ECF6\",\"polar\":{\"bgcolor\":\"#E5ECF6\",\"angularaxis\":{\"gridcolor\":\"white\",\"linecolor\":\"white\",\"ticks\":\"\"},\"radialaxis\":{\"gridcolor\":\"white\",\"linecolor\":\"white\",\"ticks\":\"\"}},\"ternary\":{\"bgcolor\":\"#E5ECF6\",\"aaxis\":{\"gridcolor\":\"white\",\"linecolor\":\"white\",\"ticks\":\"\"},\"baxis\":{\"gridcolor\":\"white\",\"linecolor\":\"white\",\"ticks\":\"\"},\"caxis\":{\"gridcolor\":\"white\",\"linecolor\":\"white\",\"ticks\":\"\"}},\"coloraxis\":{\"colorbar\":{\"outlinewidth\":0,\"ticks\":\"\"}},\"colorscale\":{\"sequential\":[[0.0,\"#0d0887\"],[0.1111111111111111,\"#46039f\"],[0.2222222222222222,\"#7201a8\"],[0.3333333333333333,\"#9c179e\"],[0.4444444444444444,\"#bd3786\"],[0.5555555555555556,\"#d8576b\"],[0.6666666666666666,\"#ed7953\"],[0.7777777777777778,\"#fb9f3a\"],[0.8888888888888888,\"#fdca26\"],[1.0,\"#f0f921\"]],\"sequentialminus\":[[0.0,\"#0d0887\"],[0.1111111111111111,\"#46039f\"],[0.2222222222222222,\"#7201a8\"],[0.3333333333333333,\"#9c179e\"],[0.4444444444444444,\"#bd3786\"],[0.5555555555555556,\"#d8576b\"],[0.6666666666666666,\"#ed7953\"],[0.7777777777777778,\"#fb9f3a\"],[0.8888888888888888,\"#fdca26\"],[1.0,\"#f0f921\"]],\"diverging\":[[0,\"#8e0152\"],[0.1,\"#c51b7d\"],[0.2,\"#de77ae\"],[0.3,\"#f1b6da\"],[0.4,\"#fde0ef\"],[0.5,\"#f7f7f7\"],[0.6,\"#e6f5d0\"],[0.7,\"#b8e186\"],[0.8,\"#7fbc41\"],[0.9,\"#4d9221\"],[1,\"#276419\"]]},\"xaxis\":{\"gridcolor\":\"white\",\"linecolor\":\"white\",\"ticks\":\"\",\"title\":{\"standoff\":15},\"zerolinecolor\":\"white\",\"automargin\":true,\"zerolinewidth\":2},\"yaxis\":{\"gridcolor\":\"white\",\"linecolor\":\"white\",\"ticks\":\"\",\"title\":{\"standoff\":15},\"zerolinecolor\":\"white\",\"automargin\":true,\"zerolinewidth\":2},\"scene\":{\"xaxis\":{\"backgroundcolor\":\"#E5ECF6\",\"gridcolor\":\"white\",\"linecolor\":\"white\",\"showbackground\":true,\"ticks\":\"\",\"zerolinecolor\":\"white\",\"gridwidth\":2},\"yaxis\":{\"backgroundcolor\":\"#E5ECF6\",\"gridcolor\":\"white\",\"linecolor\":\"white\",\"showbackground\":true,\"ticks\":\"\",\"zerolinecolor\":\"white\",\"gridwidth\":2},\"zaxis\":{\"backgroundcolor\":\"#E5ECF6\",\"gridcolor\":\"white\",\"linecolor\":\"white\",\"showbackground\":true,\"ticks\":\"\",\"zerolinecolor\":\"white\",\"gridwidth\":2}},\"shapedefaults\":{\"line\":{\"color\":\"#2a3f5f\"}},\"annotationdefaults\":{\"arrowcolor\":\"#2a3f5f\",\"arrowhead\":0,\"arrowwidth\":1},\"geo\":{\"bgcolor\":\"white\",\"landcolor\":\"#E5ECF6\",\"subunitcolor\":\"white\",\"showland\":true,\"showlakes\":true,\"lakecolor\":\"white\"},\"title\":{\"x\":0.05},\"mapbox\":{\"style\":\"light\"}}},\"xaxis\":{\"anchor\":\"y\",\"domain\":[0.0,0.45],\"title\":{\"text\":\"True values [MPG]\"}},\"yaxis\":{\"anchor\":\"x\",\"domain\":[0.0,1.0],\"title\":{\"text\":\"Predictions [MPG]\"}},\"xaxis2\":{\"anchor\":\"y2\",\"domain\":[0.55,1.0],\"title\":{\"text\":\"Prediction error [MPG]\"}},\"yaxis2\":{\"anchor\":\"x2\",\"domain\":[0.0,1.0],\"title\":{\"text\":\"Count\"},\"range\":[0,25]},\"annotations\":[{\"font\":{\"size\":16},\"showarrow\":false,\"text\":\"Predicted values Vs. True values\",\"x\":0.225,\"xanchor\":\"center\",\"xref\":\"paper\",\"y\":1.0,\"yanchor\":\"bottom\",\"yref\":\"paper\"},{\"font\":{\"size\":16},\"showarrow\":false,\"text\":\"Error distribution\",\"x\":0.775,\"xanchor\":\"center\",\"xref\":\"paper\",\"y\":1.0,\"yanchor\":\"bottom\",\"yref\":\"paper\"}],\"title\":{\"text\":\"nDNN-model\"},\"width\":900,\"height\":500},                        {\"responsive\": true}                    ).then(function(){\n",
              "                            \n",
              "var gd = document.getElementById('65a8536a-15dc-4e81-bc89-ad33857125b2');\n",
              "var x = new MutationObserver(function (mutations, observer) {{\n",
              "        var display = window.getComputedStyle(gd).display;\n",
              "        if (!display || display === 'none') {{\n",
              "            console.log([gd, 'removed!']);\n",
              "            Plotly.purge(gd);\n",
              "            observer.disconnect();\n",
              "        }}\n",
              "}});\n",
              "\n",
              "// Listen for the removal of the full notebook cells\n",
              "var notebookContainer = gd.closest('#notebook-container');\n",
              "if (notebookContainer) {{\n",
              "    x.observe(notebookContainer, {childList: true});\n",
              "}}\n",
              "\n",
              "// Listen for the clearing of the current output cell\n",
              "var outputEl = gd.closest('.output');\n",
              "if (outputEl) {{\n",
              "    x.observe(outputEl, {childList: true});\n",
              "}}\n",
              "\n",
              "                        })                };                            </script>        </div>\n",
              "</body>\n",
              "</html>"
            ]
          },
          "metadata": {}
        }
      ]
    }
  ]
}