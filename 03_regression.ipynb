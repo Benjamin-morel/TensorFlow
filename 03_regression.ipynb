{
  "nbformat": 4,
  "nbformat_minor": 0,
  "metadata": {
    "colab": {
      "provenance": [],
      "authorship_tag": "ABX9TyMk/5fD9b1n/g8kAtcU3hGT",
      "include_colab_link": true
    },
    "kernelspec": {
      "name": "python3",
      "display_name": "Python 3"
    },
    "language_info": {
      "name": "python"
    }
  },
  "cells": [
    {
      "cell_type": "markdown",
      "metadata": {
        "id": "view-in-github",
        "colab_type": "text"
      },
      "source": [
        "<a href=\"https://colab.research.google.com/github/Benjamin-morel/TensorFlow/blob/main/03_regression.ipynb\" target=\"_parent\"><img src=\"https://colab.research.google.com/assets/colab-badge.svg\" alt=\"Open In Colab\"/></a>"
      ]
    },
    {
      "cell_type": "markdown",
      "source": [
        "---\n",
        "\n",
        "\n",
        "# **Machine Learning Model: regression and predictions**\n",
        "| | |\n",
        "|------|------|\n",
        "| Filename | 03_regression.ipynb |\n",
        "| Author(s) | Benjamin Morel (benjaminmorel27@gmail.com) |\n",
        "| Date | September 8, 2024 |\n",
        "| Aim(s) | Do regression tasks with a neural network machine learning model|\n",
        "| Dataset(s) | Auto MPG dataset from UC Irvine [[1]](https://archive.ics.uci.edu/dataset/9/auto+mpg) |\n",
        "| Version | Python 3.12 - TensorFlow 2.17.0 |\n",
        "\n",
        "\n",
        "<br> **!!Read before running!!** <br>\n",
        "1. Fill in the inputs\n",
        "2. CPU execution is enough\n",
        "3. Run all and read comments.\n",
        "\n",
        "\n",
        "---\n",
        "\n",
        "#### **Motivation**\n",
        "\n",
        "A car's fuel efficiency - i.e. the amount of fuel consumed by a car for a given distance - is a parameter that is difficult for car manufacturers to calculate. It depends on many factors: vehicle weight, power, engine volume, number of cylinders, technology used, etc.\n",
        "\n",
        "However, many authorities and organizations require exact fuel efficiency for all vehicles, in order to check whether the vehicle complies with pollution standards. With the Auto MPG datase from the UC Irvine university [[1]](https://archive.ics.uci.edu/dataset/9/auto+mpg), a neural network model is created and has to predict fuel efficiency of any 1970s / 1980s automobiles. Four regression models are created and then compared."
      ],
      "metadata": {
        "id": "U2GVF6UjO9N0"
      }
    },
    {
      "cell_type": "markdown",
      "source": [
        "\n",
        "\n",
        "---\n",
        "\n",
        "\n",
        "#### **0. Input section**"
      ],
      "metadata": {
        "id": "7F9TsGwiRjAh"
      }
    },
    {
      "cell_type": "markdown",
      "source": [
        "The model has already been trained and the user can choose to used a pre-trained model (No) or to repeat the training phase (Yes). Using a pre-trained model saves time, computer resources and CO2 emissions."
      ],
      "metadata": {
        "id": "XHGZZ-MMRgzB"
      }
    },
    {
      "cell_type": "code",
      "source": [
        "training_phase = 'No'"
      ],
      "metadata": {
        "id": "Fcu3GHX9Rlxe"
      },
      "execution_count": 1,
      "outputs": []
    },
    {
      "cell_type": "markdown",
      "source": [
        "---\n",
        "\n",
        "\n",
        "#### **1. Python librairies & display utilities [RUN ME]**"
      ],
      "metadata": {
        "id": "hg2ublsvVQkc"
      }
    },
    {
      "cell_type": "code",
      "source": [
        "from numpy import array, max, min                                   # scientific computing\n",
        "from pandas import read_csv, DataFrame                              # data manipulation tool\n",
        "from tensorflow import keras, optimizers, linspace                  # machine learning models\n",
        "from plotly.graph_objects import Figure, Splom, Scatter, Histogram  # graphing packages\n",
        "from plotly.subplots import make_subplots                           # graphing packages\n",
        "from time import thread_time                                        # timer"
      ],
      "metadata": {
        "id": "cZnJHF-T9tTh"
      },
      "execution_count": 2,
      "outputs": []
    },
    {
      "cell_type": "code",
      "source": [
        "# get the pre-trained model and training curves from the Github repertory TensorFlow\n",
        "# called when training_phase = \"No\" in section 0\n",
        "\n",
        "def get_github_files():\n",
        "  !git clone https://github.com/Benjamin-morel/TensorFlow.git TensorFlow_duplicata # go to the Github repertory TensorFlow and clone it\n",
        "  model_L = keras.models.load_model('TensorFlow_duplicata/99_pre_trained_models/03_regression/Lmodel.keras') # pre-trained model\n",
        "  model_nL = keras.models.load_model('TensorFlow_duplicata/99_pre_trained_models/03_regression/nLmodel.keras')\n",
        "  model_DNN = keras.models.load_model('TensorFlow_duplicata/99_pre_trained_models/03_regression/DNNmodel.keras')\n",
        "  model_nDNN = keras.models.load_model('TensorFlow_duplicata/99_pre_trained_models/03_regression/nDNNmodel.keras')\n",
        "  performances_CSV = read_csv('TensorFlow_duplicata/99_pre_trained_models/03_regression/performances_regression.csv') # pre-trained model\n",
        "  !rm -rf TensorFlow_duplicata/ # delete the cloned repertory\n",
        "  return model_L, model_nL, model_DNN, model_nDNN, performances_CSV"
      ],
      "metadata": {
        "id": "LspmNkq_5-1R"
      },
      "execution_count": 3,
      "outputs": []
    },
    {
      "cell_type": "code",
      "source": [
        "# plot a mosaic of variable_A Vs. variable_B graph\n",
        "\n",
        "def plot_data(dataset):\n",
        "  df = dataset\n",
        "  fig = Figure(data=Splom(dimensions=[dict(label='MPG', values=df['MPG']),\n",
        "                                            dict(label='Displacement', values=df['Displacement']),\n",
        "                                            dict(label='Horsepower', values=df['Horsepower']),\n",
        "                                            dict(label='Weight', values=df['Weight'])],\n",
        "                                diagonal_visible=False)) # remove plots on diagonal\n",
        "  fig.update_layout(title=\"Some representations of the dataset\", width=1000, height=600)\n",
        "  fig.show()"
      ],
      "metadata": {
        "id": "km_LIO6gduX0"
      },
      "execution_count": 4,
      "outputs": []
    },
    {
      "cell_type": "code",
      "source": [
        "# plot training curves\n",
        "\n",
        "def show_evolution(history):\n",
        "  history_dict = history.history\n",
        "  history_dict.keys()\n",
        "\n",
        "  fig = Figure()\n",
        "\n",
        "  acc_train, acc_val = history_dict['loss'], history_dict['val_loss']\n",
        "  epochs = array(range(1, len(acc_train) + 1))\n",
        "\n",
        "  fig.add_trace(Scatter(x=epochs, y=acc_train, mode='lines', name='loss'))\n",
        "  fig.add_trace(Scatter(x=epochs, y=acc_val, mode='lines', name='val_loss'))\n",
        "  fig.update_layout(legend=dict(x=0.02, y=0.98, xanchor='left', yanchor='top', bgcolor='rgba(255, 255, 255, 0.8)', bordercolor='black', borderwidth=1),\n",
        "                    width=500, height=500)\n",
        "  fig.update_xaxes(title = \"epochs\"), fig.update_yaxes(title = \"loss\")\n",
        "\n",
        "  fig.show()"
      ],
      "metadata": {
        "id": "JogtaxBndqa-"
      },
      "execution_count": 5,
      "outputs": []
    },
    {
      "cell_type": "code",
      "source": [
        "# plot analysis graphes for the last section\n",
        "\n",
        "def plot_prediction(name):\n",
        "  model = all_model[name]\n",
        "  if name == 'L-model' or name == 'DNN-model':\n",
        "    predictions = model.predict(test_features[\"Horsepower\"], verbose=0).flatten()\n",
        "  else:\n",
        "    predictions = model.predict(test_features, verbose=0).flatten()\n",
        "  fig = make_subplots(rows=1, cols=2, subplot_titles=[\"Predicted values Vs. True values\", \"Error distribution\"])\n",
        "  # Subplot 1\n",
        "  fig.add_trace(Scatter(x=test_labels, y=predictions, mode='markers', marker_color='blue', showlegend=False), row=1, col=1)\n",
        "  xaxis = linspace(min(test_labels)*0.9,max(test_labels)*1.1,50)\n",
        "  fig.add_trace(Scatter(x=xaxis, y=xaxis, mode='lines', marker_color='red', showlegend=False), row=1, col=1) # line y=x\n",
        "  # Subplot 2\n",
        "  fig.add_trace(Histogram(x=predictions - test_labels, nbinsx=25, marker_color='blue', showlegend=False), row=1, col=2)\n",
        "  fig.update_yaxes(title_text=\"Predictions [MPG]\", row=1, col=1), fig.update_yaxes(title_text=\"Count\", range=[0, 25], row=1, col=2)\n",
        "  # Layout and axis\n",
        "  fig.update_layout(title=dict(text=name), width=900, height=500)\n",
        "  fig.update_xaxes(title_text=\"True values [MPG]\", row=1, col=1), fig.update_xaxes(title_text=\"Prediction error [MPG]\", row=1, col=2)\n",
        "  fig.show()"
      ],
      "metadata": {
        "id": "4FM_Ya86edBR"
      },
      "execution_count": 6,
      "outputs": []
    },
    {
      "cell_type": "markdown",
      "source": [
        "---\n",
        "\n",
        "\n",
        "#### **2. Data retrieval and set generation**"
      ],
      "metadata": {
        "id": "xddfzpahZHan"
      }
    },
    {
      "cell_type": "markdown",
      "source": [
        "###### **2.1. Database presentation**\n",
        "\n",
        "The dataset used contains data about fuel efficiency for 398 car models, along with 8 characteristics of the cars. The target variable is the fuel efficiency `mpg`.\n",
        "\n",
        "| | | |\n",
        "|------|------|------|\n",
        "| displacement | engine displacement | [in^3] |\n",
        "| cylinders | number of cylinders | - |\n",
        "| weight | vehicle weight | [lb] |\n",
        "| model year | car's model year | - |\n",
        "| origin | 1 = USA, 2 = Europe, 3 = Japan | - |\n",
        "| car name | descriptive string | - |\n",
        "| acceleration | time to accelerate from 0 to 60 mph | [s] |\n",
        "| horsepower | engine power | - |\n",
        "| mpg | car's fuel efficiency | [mi/gal] |\n"
      ],
      "metadata": {
        "id": "3wwXrlPRRP7d"
      }
    },
    {
      "cell_type": "code",
      "source": [
        "url = 'http://archive.ics.uci.edu/ml/machine-learning-databases/auto-mpg/auto-mpg.data'\n",
        "column_names = ['MPG', 'Cylinders', 'Displacement', 'Horsepower',\n",
        "                'Weight', 'Acceleration', 'Model Year', 'Origin']\n",
        "\n",
        "raw_dataset = read_csv(url, names=column_names,\n",
        "                          na_values='?', # \"?\" values become a NaN value\n",
        "                          comment='\\t', # elements following \\t are ignored\n",
        "                          sep=' ', # columns are separating by spaces\n",
        "                          skipinitialspace=True)\n",
        "\n",
        "print(\"Summary of the dataset: \",\n",
        "      \"\\n\",\n",
        "      \"\\nNumber of rows in raw_dataset: \", len(raw_dataset), \"/ 398\",\n",
        "      \"\\nNumber of missing values: \", raw_dataset[\"Horsepower\"].isna().sum(),\n",
        "      \"/\", len(raw_dataset)*9) # horsepower NaN values"
      ],
      "metadata": {
        "colab": {
          "base_uri": "https://localhost:8080/"
        },
        "id": "2CO6wSXf9zcn",
        "outputId": "cb3e6073-2ddf-4c06-ef3c-4f44b034bc14"
      },
      "execution_count": 7,
      "outputs": [
        {
          "output_type": "stream",
          "name": "stdout",
          "text": [
            "Summary of the dataset:  \n",
            " \n",
            "Number of rows in raw_dataset:  398 / 398 \n",
            "Number of missing values:  6 / 3582\n"
          ]
        }
      ]
    },
    {
      "cell_type": "code",
      "source": [
        "raw_dataset.tail()"
      ],
      "metadata": {
        "colab": {
          "base_uri": "https://localhost:8080/",
          "height": 206
        },
        "id": "rteSjFDNbRN6",
        "outputId": "1d9b5a9f-fe76-4a57-acf7-093f39856ebe"
      },
      "execution_count": 8,
      "outputs": [
        {
          "output_type": "execute_result",
          "data": {
            "text/plain": [
              "      MPG  Cylinders  Displacement  Horsepower  Weight  Acceleration  \\\n",
              "393  27.0          4         140.0        86.0  2790.0          15.6   \n",
              "394  44.0          4          97.0        52.0  2130.0          24.6   \n",
              "395  32.0          4         135.0        84.0  2295.0          11.6   \n",
              "396  28.0          4         120.0        79.0  2625.0          18.6   \n",
              "397  31.0          4         119.0        82.0  2720.0          19.4   \n",
              "\n",
              "     Model Year  Origin  \n",
              "393          82       1  \n",
              "394          82       2  \n",
              "395          82       1  \n",
              "396          82       1  \n",
              "397          82       1  "
            ],
            "text/html": [
              "\n",
              "  <div id=\"df-7328203e-4358-4a47-b50d-6e0d8b2cff93\" class=\"colab-df-container\">\n",
              "    <div>\n",
              "<style scoped>\n",
              "    .dataframe tbody tr th:only-of-type {\n",
              "        vertical-align: middle;\n",
              "    }\n",
              "\n",
              "    .dataframe tbody tr th {\n",
              "        vertical-align: top;\n",
              "    }\n",
              "\n",
              "    .dataframe thead th {\n",
              "        text-align: right;\n",
              "    }\n",
              "</style>\n",
              "<table border=\"1\" class=\"dataframe\">\n",
              "  <thead>\n",
              "    <tr style=\"text-align: right;\">\n",
              "      <th></th>\n",
              "      <th>MPG</th>\n",
              "      <th>Cylinders</th>\n",
              "      <th>Displacement</th>\n",
              "      <th>Horsepower</th>\n",
              "      <th>Weight</th>\n",
              "      <th>Acceleration</th>\n",
              "      <th>Model Year</th>\n",
              "      <th>Origin</th>\n",
              "    </tr>\n",
              "  </thead>\n",
              "  <tbody>\n",
              "    <tr>\n",
              "      <th>393</th>\n",
              "      <td>27.0</td>\n",
              "      <td>4</td>\n",
              "      <td>140.0</td>\n",
              "      <td>86.0</td>\n",
              "      <td>2790.0</td>\n",
              "      <td>15.6</td>\n",
              "      <td>82</td>\n",
              "      <td>1</td>\n",
              "    </tr>\n",
              "    <tr>\n",
              "      <th>394</th>\n",
              "      <td>44.0</td>\n",
              "      <td>4</td>\n",
              "      <td>97.0</td>\n",
              "      <td>52.0</td>\n",
              "      <td>2130.0</td>\n",
              "      <td>24.6</td>\n",
              "      <td>82</td>\n",
              "      <td>2</td>\n",
              "    </tr>\n",
              "    <tr>\n",
              "      <th>395</th>\n",
              "      <td>32.0</td>\n",
              "      <td>4</td>\n",
              "      <td>135.0</td>\n",
              "      <td>84.0</td>\n",
              "      <td>2295.0</td>\n",
              "      <td>11.6</td>\n",
              "      <td>82</td>\n",
              "      <td>1</td>\n",
              "    </tr>\n",
              "    <tr>\n",
              "      <th>396</th>\n",
              "      <td>28.0</td>\n",
              "      <td>4</td>\n",
              "      <td>120.0</td>\n",
              "      <td>79.0</td>\n",
              "      <td>2625.0</td>\n",
              "      <td>18.6</td>\n",
              "      <td>82</td>\n",
              "      <td>1</td>\n",
              "    </tr>\n",
              "    <tr>\n",
              "      <th>397</th>\n",
              "      <td>31.0</td>\n",
              "      <td>4</td>\n",
              "      <td>119.0</td>\n",
              "      <td>82.0</td>\n",
              "      <td>2720.0</td>\n",
              "      <td>19.4</td>\n",
              "      <td>82</td>\n",
              "      <td>1</td>\n",
              "    </tr>\n",
              "  </tbody>\n",
              "</table>\n",
              "</div>\n",
              "    <div class=\"colab-df-buttons\">\n",
              "\n",
              "  <div class=\"colab-df-container\">\n",
              "    <button class=\"colab-df-convert\" onclick=\"convertToInteractive('df-7328203e-4358-4a47-b50d-6e0d8b2cff93')\"\n",
              "            title=\"Convert this dataframe to an interactive table.\"\n",
              "            style=\"display:none;\">\n",
              "\n",
              "  <svg xmlns=\"http://www.w3.org/2000/svg\" height=\"24px\" viewBox=\"0 -960 960 960\">\n",
              "    <path d=\"M120-120v-720h720v720H120Zm60-500h600v-160H180v160Zm220 220h160v-160H400v160Zm0 220h160v-160H400v160ZM180-400h160v-160H180v160Zm440 0h160v-160H620v160ZM180-180h160v-160H180v160Zm440 0h160v-160H620v160Z\"/>\n",
              "  </svg>\n",
              "    </button>\n",
              "\n",
              "  <style>\n",
              "    .colab-df-container {\n",
              "      display:flex;\n",
              "      gap: 12px;\n",
              "    }\n",
              "\n",
              "    .colab-df-convert {\n",
              "      background-color: #E8F0FE;\n",
              "      border: none;\n",
              "      border-radius: 50%;\n",
              "      cursor: pointer;\n",
              "      display: none;\n",
              "      fill: #1967D2;\n",
              "      height: 32px;\n",
              "      padding: 0 0 0 0;\n",
              "      width: 32px;\n",
              "    }\n",
              "\n",
              "    .colab-df-convert:hover {\n",
              "      background-color: #E2EBFA;\n",
              "      box-shadow: 0px 1px 2px rgba(60, 64, 67, 0.3), 0px 1px 3px 1px rgba(60, 64, 67, 0.15);\n",
              "      fill: #174EA6;\n",
              "    }\n",
              "\n",
              "    .colab-df-buttons div {\n",
              "      margin-bottom: 4px;\n",
              "    }\n",
              "\n",
              "    [theme=dark] .colab-df-convert {\n",
              "      background-color: #3B4455;\n",
              "      fill: #D2E3FC;\n",
              "    }\n",
              "\n",
              "    [theme=dark] .colab-df-convert:hover {\n",
              "      background-color: #434B5C;\n",
              "      box-shadow: 0px 1px 3px 1px rgba(0, 0, 0, 0.15);\n",
              "      filter: drop-shadow(0px 1px 2px rgba(0, 0, 0, 0.3));\n",
              "      fill: #FFFFFF;\n",
              "    }\n",
              "  </style>\n",
              "\n",
              "    <script>\n",
              "      const buttonEl =\n",
              "        document.querySelector('#df-7328203e-4358-4a47-b50d-6e0d8b2cff93 button.colab-df-convert');\n",
              "      buttonEl.style.display =\n",
              "        google.colab.kernel.accessAllowed ? 'block' : 'none';\n",
              "\n",
              "      async function convertToInteractive(key) {\n",
              "        const element = document.querySelector('#df-7328203e-4358-4a47-b50d-6e0d8b2cff93');\n",
              "        const dataTable =\n",
              "          await google.colab.kernel.invokeFunction('convertToInteractive',\n",
              "                                                    [key], {});\n",
              "        if (!dataTable) return;\n",
              "\n",
              "        const docLinkHtml = 'Like what you see? Visit the ' +\n",
              "          '<a target=\"_blank\" href=https://colab.research.google.com/notebooks/data_table.ipynb>data table notebook</a>'\n",
              "          + ' to learn more about interactive tables.';\n",
              "        element.innerHTML = '';\n",
              "        dataTable['output_type'] = 'display_data';\n",
              "        await google.colab.output.renderOutput(dataTable, element);\n",
              "        const docLink = document.createElement('div');\n",
              "        docLink.innerHTML = docLinkHtml;\n",
              "        element.appendChild(docLink);\n",
              "      }\n",
              "    </script>\n",
              "  </div>\n",
              "\n",
              "\n",
              "<div id=\"df-5544a29c-40e9-42f8-96c4-69f96fdfeeb2\">\n",
              "  <button class=\"colab-df-quickchart\" onclick=\"quickchart('df-5544a29c-40e9-42f8-96c4-69f96fdfeeb2')\"\n",
              "            title=\"Suggest charts\"\n",
              "            style=\"display:none;\">\n",
              "\n",
              "<svg xmlns=\"http://www.w3.org/2000/svg\" height=\"24px\"viewBox=\"0 0 24 24\"\n",
              "     width=\"24px\">\n",
              "    <g>\n",
              "        <path d=\"M19 3H5c-1.1 0-2 .9-2 2v14c0 1.1.9 2 2 2h14c1.1 0 2-.9 2-2V5c0-1.1-.9-2-2-2zM9 17H7v-7h2v7zm4 0h-2V7h2v10zm4 0h-2v-4h2v4z\"/>\n",
              "    </g>\n",
              "</svg>\n",
              "  </button>\n",
              "\n",
              "<style>\n",
              "  .colab-df-quickchart {\n",
              "      --bg-color: #E8F0FE;\n",
              "      --fill-color: #1967D2;\n",
              "      --hover-bg-color: #E2EBFA;\n",
              "      --hover-fill-color: #174EA6;\n",
              "      --disabled-fill-color: #AAA;\n",
              "      --disabled-bg-color: #DDD;\n",
              "  }\n",
              "\n",
              "  [theme=dark] .colab-df-quickchart {\n",
              "      --bg-color: #3B4455;\n",
              "      --fill-color: #D2E3FC;\n",
              "      --hover-bg-color: #434B5C;\n",
              "      --hover-fill-color: #FFFFFF;\n",
              "      --disabled-bg-color: #3B4455;\n",
              "      --disabled-fill-color: #666;\n",
              "  }\n",
              "\n",
              "  .colab-df-quickchart {\n",
              "    background-color: var(--bg-color);\n",
              "    border: none;\n",
              "    border-radius: 50%;\n",
              "    cursor: pointer;\n",
              "    display: none;\n",
              "    fill: var(--fill-color);\n",
              "    height: 32px;\n",
              "    padding: 0;\n",
              "    width: 32px;\n",
              "  }\n",
              "\n",
              "  .colab-df-quickchart:hover {\n",
              "    background-color: var(--hover-bg-color);\n",
              "    box-shadow: 0 1px 2px rgba(60, 64, 67, 0.3), 0 1px 3px 1px rgba(60, 64, 67, 0.15);\n",
              "    fill: var(--button-hover-fill-color);\n",
              "  }\n",
              "\n",
              "  .colab-df-quickchart-complete:disabled,\n",
              "  .colab-df-quickchart-complete:disabled:hover {\n",
              "    background-color: var(--disabled-bg-color);\n",
              "    fill: var(--disabled-fill-color);\n",
              "    box-shadow: none;\n",
              "  }\n",
              "\n",
              "  .colab-df-spinner {\n",
              "    border: 2px solid var(--fill-color);\n",
              "    border-color: transparent;\n",
              "    border-bottom-color: var(--fill-color);\n",
              "    animation:\n",
              "      spin 1s steps(1) infinite;\n",
              "  }\n",
              "\n",
              "  @keyframes spin {\n",
              "    0% {\n",
              "      border-color: transparent;\n",
              "      border-bottom-color: var(--fill-color);\n",
              "      border-left-color: var(--fill-color);\n",
              "    }\n",
              "    20% {\n",
              "      border-color: transparent;\n",
              "      border-left-color: var(--fill-color);\n",
              "      border-top-color: var(--fill-color);\n",
              "    }\n",
              "    30% {\n",
              "      border-color: transparent;\n",
              "      border-left-color: var(--fill-color);\n",
              "      border-top-color: var(--fill-color);\n",
              "      border-right-color: var(--fill-color);\n",
              "    }\n",
              "    40% {\n",
              "      border-color: transparent;\n",
              "      border-right-color: var(--fill-color);\n",
              "      border-top-color: var(--fill-color);\n",
              "    }\n",
              "    60% {\n",
              "      border-color: transparent;\n",
              "      border-right-color: var(--fill-color);\n",
              "    }\n",
              "    80% {\n",
              "      border-color: transparent;\n",
              "      border-right-color: var(--fill-color);\n",
              "      border-bottom-color: var(--fill-color);\n",
              "    }\n",
              "    90% {\n",
              "      border-color: transparent;\n",
              "      border-bottom-color: var(--fill-color);\n",
              "    }\n",
              "  }\n",
              "</style>\n",
              "\n",
              "  <script>\n",
              "    async function quickchart(key) {\n",
              "      const quickchartButtonEl =\n",
              "        document.querySelector('#' + key + ' button');\n",
              "      quickchartButtonEl.disabled = true;  // To prevent multiple clicks.\n",
              "      quickchartButtonEl.classList.add('colab-df-spinner');\n",
              "      try {\n",
              "        const charts = await google.colab.kernel.invokeFunction(\n",
              "            'suggestCharts', [key], {});\n",
              "      } catch (error) {\n",
              "        console.error('Error during call to suggestCharts:', error);\n",
              "      }\n",
              "      quickchartButtonEl.classList.remove('colab-df-spinner');\n",
              "      quickchartButtonEl.classList.add('colab-df-quickchart-complete');\n",
              "    }\n",
              "    (() => {\n",
              "      let quickchartButtonEl =\n",
              "        document.querySelector('#df-5544a29c-40e9-42f8-96c4-69f96fdfeeb2 button');\n",
              "      quickchartButtonEl.style.display =\n",
              "        google.colab.kernel.accessAllowed ? 'block' : 'none';\n",
              "    })();\n",
              "  </script>\n",
              "</div>\n",
              "\n",
              "    </div>\n",
              "  </div>\n"
            ],
            "application/vnd.google.colaboratory.intrinsic+json": {
              "type": "dataframe",
              "summary": "{\n  \"name\": \"raw_dataset\",\n  \"rows\": 5,\n  \"fields\": [\n    {\n      \"column\": \"MPG\",\n      \"properties\": {\n        \"dtype\": \"number\",\n        \"std\": 6.8044103344816005,\n        \"min\": 27.0,\n        \"max\": 44.0,\n        \"num_unique_values\": 5,\n        \"samples\": [\n          44.0,\n          31.0,\n          32.0\n        ],\n        \"semantic_type\": \"\",\n        \"description\": \"\"\n      }\n    },\n    {\n      \"column\": \"Cylinders\",\n      \"properties\": {\n        \"dtype\": \"number\",\n        \"std\": 0,\n        \"min\": 4,\n        \"max\": 4,\n        \"num_unique_values\": 1,\n        \"samples\": [\n          4\n        ],\n        \"semantic_type\": \"\",\n        \"description\": \"\"\n      }\n    },\n    {\n      \"column\": \"Displacement\",\n      \"properties\": {\n        \"dtype\": \"number\",\n        \"std\": 16.813684902483452,\n        \"min\": 97.0,\n        \"max\": 140.0,\n        \"num_unique_values\": 5,\n        \"samples\": [\n          97.0\n        ],\n        \"semantic_type\": \"\",\n        \"description\": \"\"\n      }\n    },\n    {\n      \"column\": \"Horsepower\",\n      \"properties\": {\n        \"dtype\": \"number\",\n        \"std\": 13.992855319769443,\n        \"min\": 52.0,\n        \"max\": 86.0,\n        \"num_unique_values\": 5,\n        \"samples\": [\n          52.0\n        ],\n        \"semantic_type\": \"\",\n        \"description\": \"\"\n      }\n    },\n    {\n      \"column\": \"Weight\",\n      \"properties\": {\n        \"dtype\": \"number\",\n        \"std\": 285.62650437240586,\n        \"min\": 2130.0,\n        \"max\": 2790.0,\n        \"num_unique_values\": 5,\n        \"samples\": [\n          2130.0\n        ],\n        \"semantic_type\": \"\",\n        \"description\": \"\"\n      }\n    },\n    {\n      \"column\": \"Acceleration\",\n      \"properties\": {\n        \"dtype\": \"number\",\n        \"std\": 4.81123684721507,\n        \"min\": 11.6,\n        \"max\": 24.6,\n        \"num_unique_values\": 5,\n        \"samples\": [\n          24.6\n        ],\n        \"semantic_type\": \"\",\n        \"description\": \"\"\n      }\n    },\n    {\n      \"column\": \"Model Year\",\n      \"properties\": {\n        \"dtype\": \"number\",\n        \"std\": 0,\n        \"min\": 82,\n        \"max\": 82,\n        \"num_unique_values\": 1,\n        \"samples\": [\n          82\n        ],\n        \"semantic_type\": \"\",\n        \"description\": \"\"\n      }\n    },\n    {\n      \"column\": \"Origin\",\n      \"properties\": {\n        \"dtype\": \"number\",\n        \"std\": 0,\n        \"min\": 1,\n        \"max\": 2,\n        \"num_unique_values\": 2,\n        \"samples\": [\n          2\n        ],\n        \"semantic_type\": \"\",\n        \"description\": \"\"\n      }\n    }\n  ]\n}"
            }
          },
          "metadata": {},
          "execution_count": 8
        }
      ]
    },
    {
      "cell_type": "markdown",
      "source": [
        "###### **2.2. Dataset cleaning**\n",
        "\n",
        "Vehicle models with missing data - horsepower - are removed."
      ],
      "metadata": {
        "id": "ywn7Fk8oAqBR"
      }
    },
    {
      "cell_type": "code",
      "source": [
        "dataset = raw_dataset.copy() # copy of the original data before modification\n",
        "dataset = dataset.dropna() # remove rows containing NaN values\n",
        "\n",
        "print(\"Summary of the dataset after data cleaning: \",\n",
        "      \"\\n\",\n",
        "      \"\\nNumber of rows in the dataset cleaned: \", len(dataset), \"/\", len(raw_dataset),\n",
        "      \"\\nNumber of missing values: \", dataset[\"Horsepower\"].isna().sum(),\n",
        "      \"/\", len(dataset)*9) # horsepower NaN values"
      ],
      "metadata": {
        "colab": {
          "base_uri": "https://localhost:8080/"
        },
        "id": "aMU8g1HcRqpT",
        "outputId": "99b72967-3491-48c3-8214-33b3f6f94995"
      },
      "execution_count": 9,
      "outputs": [
        {
          "output_type": "stream",
          "name": "stdout",
          "text": [
            "Summary of the dataset after data cleaning:  \n",
            " \n",
            "Number of rows in the dataset cleaned:  392 / 398 \n",
            "Number of missing values:  0 / 3528\n"
          ]
        }
      ]
    },
    {
      "cell_type": "markdown",
      "source": [
        "---\n",
        "\n",
        "\n",
        "#### **3. Sample preparation & pre-processing**"
      ],
      "metadata": {
        "id": "pZY8PoR0VWUL"
      }
    },
    {
      "cell_type": "markdown",
      "source": [
        "###### **3.1. Set generation**\n",
        "\n",
        "The dataset is randomly split into 2 subsets: training (80%) and test (20%) [[2]](https://arxiv.org/pdf/2202.03326). Test set is used for a finale evaluation of the model."
      ],
      "metadata": {
        "id": "q844rr7iWmKz"
      }
    },
    {
      "cell_type": "code",
      "source": [
        "train_dataset = dataset.sample(frac=0.8) # randomly draws 80% of dataset\n",
        "test_dataset = dataset.drop(train_dataset.index) # removes the rows selected for the training set from dataset\n",
        "\n",
        "print(\"# of the training set:\", len(train_dataset),\n",
        "      \"\\n# of the test set:\", len(test_dataset),\n",
        "      \"\\n# of the training and test sets:\", len(train_dataset)+len(test_dataset))"
      ],
      "metadata": {
        "colab": {
          "base_uri": "https://localhost:8080/"
        },
        "id": "tGKIZUmvVbfL",
        "outputId": "af1e5d2d-21ec-4519-dae2-337b265d4876"
      },
      "execution_count": 10,
      "outputs": [
        {
          "output_type": "stream",
          "name": "stdout",
          "text": [
            "# of the training set: 314 \n",
            "# of the test set: 78 \n",
            "# of the training and test sets: 392\n"
          ]
        }
      ]
    },
    {
      "cell_type": "markdown",
      "source": [
        "Fuel efficiency `MPG` is the only variable that is not linearly related to any other variable."
      ],
      "metadata": {
        "id": "kpO40-2JcGZX"
      }
    },
    {
      "cell_type": "code",
      "source": [
        "plot_data(train_dataset)"
      ],
      "metadata": {
        "colab": {
          "base_uri": "https://localhost:8080/",
          "height": 617
        },
        "id": "_RA_xmBMbN47",
        "outputId": "5ddb6728-631d-41da-b1ed-02474e8e759b"
      },
      "execution_count": 11,
      "outputs": [
        {
          "output_type": "display_data",
          "data": {
            "text/html": [
              "<html>\n",
              "<head><meta charset=\"utf-8\" /></head>\n",
              "<body>\n",
              "    <div>            <script src=\"https://cdnjs.cloudflare.com/ajax/libs/mathjax/2.7.5/MathJax.js?config=TeX-AMS-MML_SVG\"></script><script type=\"text/javascript\">if (window.MathJax && window.MathJax.Hub && window.MathJax.Hub.Config) {window.MathJax.Hub.Config({SVG: {font: \"STIX-Web\"}});}</script>                <script type=\"text/javascript\">window.PlotlyConfig = {MathJaxConfig: 'local'};</script>\n",
              "        <script charset=\"utf-8\" src=\"https://cdn.plot.ly/plotly-2.35.2.min.js\"></script>                <div id=\"9d86fdaf-44f5-4462-a23b-3763fe128b16\" class=\"plotly-graph-div\" style=\"height:600px; width:1000px;\"></div>            <script type=\"text/javascript\">                                    window.PLOTLYENV=window.PLOTLYENV || {};                                    if (document.getElementById(\"9d86fdaf-44f5-4462-a23b-3763fe128b16\")) {                    Plotly.newPlot(                        \"9d86fdaf-44f5-4462-a23b-3763fe128b16\",                        [{\"diagonal\":{\"visible\":false},\"dimensions\":[{\"label\":\"MPG\",\"values\":[44.6,15.5,33.5,20.0,40.8,15.5,26.0,21.0,43.1,32.7,13.0,13.0,18.0,20.0,35.0,26.0,22.0,14.0,23.0,25.8,21.0,25.0,27.2,19.0,35.7,22.0,17.0,26.0,32.1,38.0,32.4,25.0,37.0,19.0,33.8,17.0,18.5,16.5,28.0,28.0,23.9,15.0,27.0,23.0,26.6,28.0,17.0,23.0,22.0,26.0,25.5,24.0,23.0,15.0,27.9,30.0,14.0,16.0,29.0,31.0,16.0,28.0,24.0,37.0,13.0,24.0,23.9,17.0,39.4,30.5,34.1,31.5,13.0,33.0,15.0,29.5,13.0,33.5,27.0,38.0,15.0,18.5,24.0,15.0,32.0,14.5,18.5,15.0,24.0,14.0,13.0,15.0,31.0,19.0,14.0,26.8,23.0,18.0,14.0,18.6,28.0,18.0,26.0,20.6,44.3,13.0,13.0,33.0,23.7,20.3,20.0,27.0,38.0,26.0,13.0,31.0,23.0,24.0,25.0,19.1,12.0,30.0,31.0,28.1,26.0,15.5,16.0,28.0,21.0,17.5,29.0,28.0,13.0,21.6,20.5,15.0,17.0,18.0,26.6,26.0,13.0,13.0,36.4,32.2,25.0,19.2,30.5,18.0,35.0,26.4,33.7,27.0,22.0,32.3,15.0,27.0,19.0,34.1,29.8,25.0,14.0,24.5,16.9,27.5,13.0,19.4,14.0,25.4,36.0,39.1,37.0,17.0,18.1,30.0,14.0,11.0,16.0,34.0,19.0,31.3,24.0,20.0,32.0,29.0,44.0,26.5,30.0,14.0,18.0,37.3,25.0,11.0,13.0,28.4,10.0,15.0,32.0,29.0,30.0,15.5,25.0,14.0,19.0,13.0,18.0,21.0,10.0,16.5,36.0,23.2,28.0,26.0,18.0,22.0,34.4,13.0,20.8,26.0,21.0,36.1,20.0,21.0,14.0,22.0,27.0,14.0,37.7,26.0,28.0,32.9,18.0,23.5,27.0,27.2,14.0,9.0,28.0,29.8,29.0,20.0,25.5,30.9,14.0,30.0,15.0,34.5,38.0,20.0,24.3,22.0,18.0,29.9,19.0,17.5,16.0,23.0,16.0,24.5,27.0,36.0,16.0,14.0,17.6,14.0,12.0,16.0,36.0,21.1,32.0,19.0,31.8,24.0,34.3,19.8,25.0,15.0,15.0,36.0,32.8,46.6,43.4,12.0,18.2,24.0,17.7,18.0,12.0,18.1,31.6,30.0,13.0,17.0,12.0,20.2,20.2,34.0,18.0,31.0,33.5,18.0,25.0,31.9,29.0,23.0,26.0,16.2,18.0,13.0,21.5,11.0,41.5,18.0,16.0,22.3]},{\"label\":\"Displacement\",\"values\":[91.0,318.0,151.0,97.0,85.0,400.0,97.0,155.0,90.0,168.0,302.0,302.0,199.0,156.0,122.0,116.0,198.0,318.0,198.0,156.0,140.0,140.0,141.0,225.0,98.0,140.0,305.0,98.0,98.0,105.0,107.0,116.0,85.0,122.0,97.0,250.0,250.0,168.0,140.0,112.0,260.0,318.0,97.0,140.0,151.0,98.0,231.0,120.0,225.0,156.0,140.0,90.0,120.0,304.0,156.0,135.0,351.0,258.0,68.0,112.0,304.0,90.0,140.0,91.0,400.0,120.0,119.0,260.0,85.0,98.0,86.0,98.0,307.0,91.0,302.0,97.0,360.0,85.0,97.0,262.0,350.0,360.0,107.0,250.0,71.0,351.0,250.0,390.0,134.0,304.0,400.0,318.0,91.0,121.0,318.0,173.0,97.0,250.0,455.0,225.0,97.0,225.0,97.0,225.0,90.0,302.0,400.0,91.0,70.0,131.0,114.0,101.0,91.0,79.0,350.0,119.0,350.0,113.0,90.0,225.0,429.0,146.0,79.0,141.0,98.0,350.0,302.0,116.0,231.0,250.0,98.0,107.0,350.0,121.0,231.0,400.0,302.0,307.0,350.0,96.0,351.0,350.0,121.0,108.0,97.5,231.0,97.0,250.0,72.0,140.0,107.0,97.0,108.0,97.0,383.0,151.0,120.0,91.0,89.0,113.0,351.0,98.0,350.0,134.0,400.0,232.0,455.0,183.0,135.0,79.0,119.0,304.0,258.0,97.0,302.0,350.0,351.0,112.0,232.0,120.0,121.0,130.0,91.0,90.0,97.0,140.0,98.0,340.0,171.0,91.0,121.0,318.0,350.0,151.0,307.0,350.0,135.0,97.0,79.0,304.0,104.0,302.0,156.0,360.0,225.0,122.0,360.0,350.0,107.0,156.0,120.0,97.0,318.0,121.0,98.0,350.0,200.0,108.0,200.0,91.0,225.0,120.0,400.0,250.0,97.0,351.0,89.0,97.0,97.0,119.0,232.0,173.0,112.0,135.0,454.0,304.0,151.0,134.0,85.0,262.0,122.0,105.0,350.0,111.0,258.0,105.0,91.0,198.0,151.0,146.0,70.0,98.0,250.0,305.0,225.0,122.0,250.0,151.0,140.0,98.0,318.0,318.0,302.0,400.0,383.0,400.0,120.0,134.0,144.0,70.0,85.0,200.0,97.0,200.0,140.0,318.0,250.0,79.0,78.0,86.0,90.0,350.0,318.0,113.0,231.0,232.0,350.0,302.0,120.0,88.0,318.0,163.0,455.0,200.0,302.0,108.0,250.0,71.0,98.0,232.0,181.0,89.0,90.0,115.0,91.0,163.0,250.0,350.0,231.0,429.0,98.0,225.0,400.0,140.0]},{\"label\":\"Horsepower\",\"values\":[67.0,145.0,90.0,88.0,65.0,190.0,75.0,107.0,48.0,132.0,129.0,130.0,97.0,122.0,88.0,75.0,95.0,150.0,95.0,92.0,72.0,75.0,71.0,100.0,80.0,72.0,130.0,90.0,70.0,63.0,72.0,81.0,65.0,85.0,67.0,100.0,110.0,120.0,90.0,88.0,90.0,150.0,88.0,78.0,84.0,80.0,110.0,88.0,100.0,92.0,89.0,75.0,97.0,150.0,105.0,84.0,153.0,110.0,49.0,85.0,150.0,75.0,92.0,68.0,175.0,97.0,97.0,110.0,70.0,63.0,65.0,68.0,130.0,53.0,130.0,71.0,170.0,70.0,88.0,85.0,145.0,150.0,90.0,100.0,65.0,152.0,98.0,190.0,96.0,150.0,190.0,150.0,68.0,112.0,150.0,115.0,54.0,105.0,225.0,110.0,75.0,95.0,46.0,110.0,48.0,140.0,150.0,53.0,100.0,103.0,91.0,83.0,67.0,67.0,150.0,82.0,125.0,95.0,71.0,90.0,198.0,67.0,67.0,80.0,79.0,170.0,140.0,90.0,110.0,110.0,83.0,86.0,165.0,115.0,105.0,150.0,140.0,130.0,105.0,69.0,158.0,155.0,67.0,75.0,80.0,105.0,78.0,78.0,69.0,88.0,75.0,88.0,94.0,67.0,170.0,90.0,88.0,68.0,62.0,95.0,153.0,60.0,155.0,95.0,170.0,90.0,225.0,77.0,84.0,58.0,92.0,150.0,120.0,67.0,137.0,180.0,149.0,88.0,90.0,75.0,110.0,102.0,67.0,70.0,52.0,72.0,68.0,160.0,97.0,69.0,115.0,210.0,175.0,90.0,200.0,145.0,84.0,75.0,70.0,120.0,95.0,140.0,108.0,175.0,105.0,86.0,215.0,180.0,75.0,105.0,79.0,78.0,150.0,98.0,65.0,145.0,85.0,93.0,85.0,60.0,100.0,87.0,175.0,105.0,60.0,148.0,62.0,46.0,92.0,100.0,100.0,110.0,88.0,84.0,220.0,193.0,90.0,90.0,52.0,110.0,96.0,75.0,165.0,80.0,110.0,70.0,67.0,95.0,90.0,97.0,90.0,65.0,100.0,145.0,105.0,86.0,105.0,88.0,86.0,70.0,150.0,150.0,129.0,175.0,180.0,180.0,88.0,95.0,96.0,97.0,65.0,81.0,78.0,85.0,92.0,150.0,72.0,58.0,52.0,65.0,48.0,180.0,135.0,95.0,165.0,100.0,160.0,139.0,74.0,76.0,150.0,125.0,225.0,85.0,139.0,70.0,88.0,65.0,83.0,100.0,110.0,71.0,70.0,95.0,70.0,133.0,88.0,145.0,115.0,208.0,76.0,105.0,230.0,88.0]},{\"label\":\"Weight\",\"values\":[1850.0,4140.0,2556.0,2279.0,2110.0,4325.0,2265.0,2472.0,1985.0,2910.0,3169.0,3870.0,2774.0,2807.0,2500.0,2246.0,2833.0,4096.0,2904.0,2620.0,2401.0,2542.0,3190.0,3630.0,1915.0,2408.0,3840.0,2265.0,2120.0,2125.0,2290.0,2220.0,1975.0,2310.0,2145.0,3329.0,3645.0,3820.0,2264.0,2605.0,3420.0,4135.0,2130.0,2592.0,2635.0,2164.0,3907.0,2957.0,3233.0,2585.0,2755.0,2108.0,2506.0,3892.0,2800.0,2385.0,4154.0,3632.0,1867.0,2575.0,3433.0,2125.0,2865.0,2025.0,5140.0,2489.0,2405.0,4060.0,2070.0,2051.0,1975.0,2045.0,4098.0,1795.0,4295.0,1825.0,4654.0,1945.0,2130.0,3015.0,4440.0,3940.0,2430.0,3336.0,1836.0,4215.0,3525.0,3850.0,2702.0,3672.0,4422.0,3777.0,1970.0,2868.0,4457.0,2700.0,2254.0,3459.0,3086.0,3620.0,2155.0,3785.0,1950.0,3360.0,2085.0,4294.0,4464.0,1795.0,2420.0,2830.0,2582.0,2202.0,1995.0,1963.0,4699.0,2720.0,3900.0,2278.0,2223.0,3381.0,4952.0,3250.0,2000.0,3230.0,2255.0,4165.0,4141.0,2123.0,3039.0,3520.0,2219.0,2464.0,4274.0,2795.0,3425.0,3761.0,3449.0,3504.0,3725.0,2189.0,4363.0,4502.0,2950.0,2265.0,2126.0,3535.0,2190.0,3574.0,1613.0,2870.0,2210.0,2100.0,2379.0,2065.0,3563.0,2735.0,3270.0,1985.0,1845.0,2228.0,4129.0,2164.0,4360.0,2560.0,4746.0,3210.0,4425.0,3530.0,2370.0,1755.0,2434.0,3672.0,3410.0,1985.0,4042.0,3664.0,4335.0,2395.0,3211.0,2542.0,2660.0,3150.0,1965.0,1937.0,2130.0,2565.0,2155.0,3609.0,2984.0,2130.0,2671.0,4382.0,4100.0,2670.0,4376.0,4082.0,2295.0,2171.0,2074.0,3962.0,2375.0,4638.0,2930.0,3821.0,3121.0,2226.0,4615.0,4380.0,2205.0,2745.0,2625.0,2300.0,3436.0,2945.0,2045.0,4055.0,3070.0,2391.0,2587.0,1800.0,3651.0,2979.0,4464.0,3353.0,1834.0,4657.0,2050.0,1835.0,2288.0,2615.0,3288.0,2725.0,2640.0,2490.0,4354.0,4732.0,2678.0,2711.0,2035.0,3221.0,2300.0,2230.0,4209.0,2155.0,3730.0,2150.0,1965.0,3102.0,3003.0,2815.0,2124.0,2380.0,3282.0,3880.0,3439.0,2220.0,3897.0,2740.0,2790.0,2125.0,4190.0,4077.0,3725.0,4385.0,4955.0,4220.0,2160.0,2515.0,2665.0,2330.0,2020.0,3012.0,2188.0,2990.0,2572.0,3399.0,3158.0,1825.0,1985.0,2110.0,2335.0,4499.0,3830.0,2372.0,3445.0,2789.0,4456.0,3205.0,2635.0,2065.0,3940.0,3140.0,4951.0,2965.0,3570.0,2245.0,3139.0,1773.0,2075.0,2945.0,2945.0,1925.0,1937.0,2694.0,1955.0,3410.0,3021.0,3988.0,3245.0,4633.0,2144.0,3613.0,4278.0,2890.0]}],\"type\":\"splom\"}],                        {\"template\":{\"data\":{\"histogram2dcontour\":[{\"type\":\"histogram2dcontour\",\"colorbar\":{\"outlinewidth\":0,\"ticks\":\"\"},\"colorscale\":[[0.0,\"#0d0887\"],[0.1111111111111111,\"#46039f\"],[0.2222222222222222,\"#7201a8\"],[0.3333333333333333,\"#9c179e\"],[0.4444444444444444,\"#bd3786\"],[0.5555555555555556,\"#d8576b\"],[0.6666666666666666,\"#ed7953\"],[0.7777777777777778,\"#fb9f3a\"],[0.8888888888888888,\"#fdca26\"],[1.0,\"#f0f921\"]]}],\"choropleth\":[{\"type\":\"choropleth\",\"colorbar\":{\"outlinewidth\":0,\"ticks\":\"\"}}],\"histogram2d\":[{\"type\":\"histogram2d\",\"colorbar\":{\"outlinewidth\":0,\"ticks\":\"\"},\"colorscale\":[[0.0,\"#0d0887\"],[0.1111111111111111,\"#46039f\"],[0.2222222222222222,\"#7201a8\"],[0.3333333333333333,\"#9c179e\"],[0.4444444444444444,\"#bd3786\"],[0.5555555555555556,\"#d8576b\"],[0.6666666666666666,\"#ed7953\"],[0.7777777777777778,\"#fb9f3a\"],[0.8888888888888888,\"#fdca26\"],[1.0,\"#f0f921\"]]}],\"heatmap\":[{\"type\":\"heatmap\",\"colorbar\":{\"outlinewidth\":0,\"ticks\":\"\"},\"colorscale\":[[0.0,\"#0d0887\"],[0.1111111111111111,\"#46039f\"],[0.2222222222222222,\"#7201a8\"],[0.3333333333333333,\"#9c179e\"],[0.4444444444444444,\"#bd3786\"],[0.5555555555555556,\"#d8576b\"],[0.6666666666666666,\"#ed7953\"],[0.7777777777777778,\"#fb9f3a\"],[0.8888888888888888,\"#fdca26\"],[1.0,\"#f0f921\"]]}],\"heatmapgl\":[{\"type\":\"heatmapgl\",\"colorbar\":{\"outlinewidth\":0,\"ticks\":\"\"},\"colorscale\":[[0.0,\"#0d0887\"],[0.1111111111111111,\"#46039f\"],[0.2222222222222222,\"#7201a8\"],[0.3333333333333333,\"#9c179e\"],[0.4444444444444444,\"#bd3786\"],[0.5555555555555556,\"#d8576b\"],[0.6666666666666666,\"#ed7953\"],[0.7777777777777778,\"#fb9f3a\"],[0.8888888888888888,\"#fdca26\"],[1.0,\"#f0f921\"]]}],\"contourcarpet\":[{\"type\":\"contourcarpet\",\"colorbar\":{\"outlinewidth\":0,\"ticks\":\"\"}}],\"contour\":[{\"type\":\"contour\",\"colorbar\":{\"outlinewidth\":0,\"ticks\":\"\"},\"colorscale\":[[0.0,\"#0d0887\"],[0.1111111111111111,\"#46039f\"],[0.2222222222222222,\"#7201a8\"],[0.3333333333333333,\"#9c179e\"],[0.4444444444444444,\"#bd3786\"],[0.5555555555555556,\"#d8576b\"],[0.6666666666666666,\"#ed7953\"],[0.7777777777777778,\"#fb9f3a\"],[0.8888888888888888,\"#fdca26\"],[1.0,\"#f0f921\"]]}],\"surface\":[{\"type\":\"surface\",\"colorbar\":{\"outlinewidth\":0,\"ticks\":\"\"},\"colorscale\":[[0.0,\"#0d0887\"],[0.1111111111111111,\"#46039f\"],[0.2222222222222222,\"#7201a8\"],[0.3333333333333333,\"#9c179e\"],[0.4444444444444444,\"#bd3786\"],[0.5555555555555556,\"#d8576b\"],[0.6666666666666666,\"#ed7953\"],[0.7777777777777778,\"#fb9f3a\"],[0.8888888888888888,\"#fdca26\"],[1.0,\"#f0f921\"]]}],\"mesh3d\":[{\"type\":\"mesh3d\",\"colorbar\":{\"outlinewidth\":0,\"ticks\":\"\"}}],\"scatter\":[{\"fillpattern\":{\"fillmode\":\"overlay\",\"size\":10,\"solidity\":0.2},\"type\":\"scatter\"}],\"parcoords\":[{\"type\":\"parcoords\",\"line\":{\"colorbar\":{\"outlinewidth\":0,\"ticks\":\"\"}}}],\"scatterpolargl\":[{\"type\":\"scatterpolargl\",\"marker\":{\"colorbar\":{\"outlinewidth\":0,\"ticks\":\"\"}}}],\"bar\":[{\"error_x\":{\"color\":\"#2a3f5f\"},\"error_y\":{\"color\":\"#2a3f5f\"},\"marker\":{\"line\":{\"color\":\"#E5ECF6\",\"width\":0.5},\"pattern\":{\"fillmode\":\"overlay\",\"size\":10,\"solidity\":0.2}},\"type\":\"bar\"}],\"scattergeo\":[{\"type\":\"scattergeo\",\"marker\":{\"colorbar\":{\"outlinewidth\":0,\"ticks\":\"\"}}}],\"scatterpolar\":[{\"type\":\"scatterpolar\",\"marker\":{\"colorbar\":{\"outlinewidth\":0,\"ticks\":\"\"}}}],\"histogram\":[{\"marker\":{\"pattern\":{\"fillmode\":\"overlay\",\"size\":10,\"solidity\":0.2}},\"type\":\"histogram\"}],\"scattergl\":[{\"type\":\"scattergl\",\"marker\":{\"colorbar\":{\"outlinewidth\":0,\"ticks\":\"\"}}}],\"scatter3d\":[{\"type\":\"scatter3d\",\"line\":{\"colorbar\":{\"outlinewidth\":0,\"ticks\":\"\"}},\"marker\":{\"colorbar\":{\"outlinewidth\":0,\"ticks\":\"\"}}}],\"scattermapbox\":[{\"type\":\"scattermapbox\",\"marker\":{\"colorbar\":{\"outlinewidth\":0,\"ticks\":\"\"}}}],\"scatterternary\":[{\"type\":\"scatterternary\",\"marker\":{\"colorbar\":{\"outlinewidth\":0,\"ticks\":\"\"}}}],\"scattercarpet\":[{\"type\":\"scattercarpet\",\"marker\":{\"colorbar\":{\"outlinewidth\":0,\"ticks\":\"\"}}}],\"carpet\":[{\"aaxis\":{\"endlinecolor\":\"#2a3f5f\",\"gridcolor\":\"white\",\"linecolor\":\"white\",\"minorgridcolor\":\"white\",\"startlinecolor\":\"#2a3f5f\"},\"baxis\":{\"endlinecolor\":\"#2a3f5f\",\"gridcolor\":\"white\",\"linecolor\":\"white\",\"minorgridcolor\":\"white\",\"startlinecolor\":\"#2a3f5f\"},\"type\":\"carpet\"}],\"table\":[{\"cells\":{\"fill\":{\"color\":\"#EBF0F8\"},\"line\":{\"color\":\"white\"}},\"header\":{\"fill\":{\"color\":\"#C8D4E3\"},\"line\":{\"color\":\"white\"}},\"type\":\"table\"}],\"barpolar\":[{\"marker\":{\"line\":{\"color\":\"#E5ECF6\",\"width\":0.5},\"pattern\":{\"fillmode\":\"overlay\",\"size\":10,\"solidity\":0.2}},\"type\":\"barpolar\"}],\"pie\":[{\"automargin\":true,\"type\":\"pie\"}]},\"layout\":{\"autotypenumbers\":\"strict\",\"colorway\":[\"#636efa\",\"#EF553B\",\"#00cc96\",\"#ab63fa\",\"#FFA15A\",\"#19d3f3\",\"#FF6692\",\"#B6E880\",\"#FF97FF\",\"#FECB52\"],\"font\":{\"color\":\"#2a3f5f\"},\"hovermode\":\"closest\",\"hoverlabel\":{\"align\":\"left\"},\"paper_bgcolor\":\"white\",\"plot_bgcolor\":\"#E5ECF6\",\"polar\":{\"bgcolor\":\"#E5ECF6\",\"angularaxis\":{\"gridcolor\":\"white\",\"linecolor\":\"white\",\"ticks\":\"\"},\"radialaxis\":{\"gridcolor\":\"white\",\"linecolor\":\"white\",\"ticks\":\"\"}},\"ternary\":{\"bgcolor\":\"#E5ECF6\",\"aaxis\":{\"gridcolor\":\"white\",\"linecolor\":\"white\",\"ticks\":\"\"},\"baxis\":{\"gridcolor\":\"white\",\"linecolor\":\"white\",\"ticks\":\"\"},\"caxis\":{\"gridcolor\":\"white\",\"linecolor\":\"white\",\"ticks\":\"\"}},\"coloraxis\":{\"colorbar\":{\"outlinewidth\":0,\"ticks\":\"\"}},\"colorscale\":{\"sequential\":[[0.0,\"#0d0887\"],[0.1111111111111111,\"#46039f\"],[0.2222222222222222,\"#7201a8\"],[0.3333333333333333,\"#9c179e\"],[0.4444444444444444,\"#bd3786\"],[0.5555555555555556,\"#d8576b\"],[0.6666666666666666,\"#ed7953\"],[0.7777777777777778,\"#fb9f3a\"],[0.8888888888888888,\"#fdca26\"],[1.0,\"#f0f921\"]],\"sequentialminus\":[[0.0,\"#0d0887\"],[0.1111111111111111,\"#46039f\"],[0.2222222222222222,\"#7201a8\"],[0.3333333333333333,\"#9c179e\"],[0.4444444444444444,\"#bd3786\"],[0.5555555555555556,\"#d8576b\"],[0.6666666666666666,\"#ed7953\"],[0.7777777777777778,\"#fb9f3a\"],[0.8888888888888888,\"#fdca26\"],[1.0,\"#f0f921\"]],\"diverging\":[[0,\"#8e0152\"],[0.1,\"#c51b7d\"],[0.2,\"#de77ae\"],[0.3,\"#f1b6da\"],[0.4,\"#fde0ef\"],[0.5,\"#f7f7f7\"],[0.6,\"#e6f5d0\"],[0.7,\"#b8e186\"],[0.8,\"#7fbc41\"],[0.9,\"#4d9221\"],[1,\"#276419\"]]},\"xaxis\":{\"gridcolor\":\"white\",\"linecolor\":\"white\",\"ticks\":\"\",\"title\":{\"standoff\":15},\"zerolinecolor\":\"white\",\"automargin\":true,\"zerolinewidth\":2},\"yaxis\":{\"gridcolor\":\"white\",\"linecolor\":\"white\",\"ticks\":\"\",\"title\":{\"standoff\":15},\"zerolinecolor\":\"white\",\"automargin\":true,\"zerolinewidth\":2},\"scene\":{\"xaxis\":{\"backgroundcolor\":\"#E5ECF6\",\"gridcolor\":\"white\",\"linecolor\":\"white\",\"showbackground\":true,\"ticks\":\"\",\"zerolinecolor\":\"white\",\"gridwidth\":2},\"yaxis\":{\"backgroundcolor\":\"#E5ECF6\",\"gridcolor\":\"white\",\"linecolor\":\"white\",\"showbackground\":true,\"ticks\":\"\",\"zerolinecolor\":\"white\",\"gridwidth\":2},\"zaxis\":{\"backgroundcolor\":\"#E5ECF6\",\"gridcolor\":\"white\",\"linecolor\":\"white\",\"showbackground\":true,\"ticks\":\"\",\"zerolinecolor\":\"white\",\"gridwidth\":2}},\"shapedefaults\":{\"line\":{\"color\":\"#2a3f5f\"}},\"annotationdefaults\":{\"arrowcolor\":\"#2a3f5f\",\"arrowhead\":0,\"arrowwidth\":1},\"geo\":{\"bgcolor\":\"white\",\"landcolor\":\"#E5ECF6\",\"subunitcolor\":\"white\",\"showland\":true,\"showlakes\":true,\"lakecolor\":\"white\"},\"title\":{\"x\":0.05},\"mapbox\":{\"style\":\"light\"}}},\"title\":{\"text\":\"Some representations of the dataset\"},\"width\":1000,\"height\":600},                        {\"responsive\": true}                    ).then(function(){\n",
              "                            \n",
              "var gd = document.getElementById('9d86fdaf-44f5-4462-a23b-3763fe128b16');\n",
              "var x = new MutationObserver(function (mutations, observer) {{\n",
              "        var display = window.getComputedStyle(gd).display;\n",
              "        if (!display || display === 'none') {{\n",
              "            console.log([gd, 'removed!']);\n",
              "            Plotly.purge(gd);\n",
              "            observer.disconnect();\n",
              "        }}\n",
              "}});\n",
              "\n",
              "// Listen for the removal of the full notebook cells\n",
              "var notebookContainer = gd.closest('#notebook-container');\n",
              "if (notebookContainer) {{\n",
              "    x.observe(notebookContainer, {childList: true});\n",
              "}}\n",
              "\n",
              "// Listen for the clearing of the current output cell\n",
              "var outputEl = gd.closest('.output');\n",
              "if (outputEl) {{\n",
              "    x.observe(outputEl, {childList: true});\n",
              "}}\n",
              "\n",
              "                        })                };                            </script>        </div>\n",
              "</body>\n",
              "</html>"
            ]
          },
          "metadata": {}
        }
      ]
    },
    {
      "cell_type": "markdown",
      "source": [
        "###### **3.2. Training set handling**\n",
        "\n",
        "Training set is organized by arranging label variable and feature variables."
      ],
      "metadata": {
        "id": "pgqCqFGj323h"
      }
    },
    {
      "cell_type": "code",
      "source": [
        "train_features, test_features = train_dataset.copy(), test_dataset.copy()\n",
        "train_labels, test_labels = train_features.pop('MPG'), test_features.pop('MPG')"
      ],
      "metadata": {
        "id": "7MiCcr6o-v8o"
      },
      "execution_count": 12,
      "outputs": []
    },
    {
      "cell_type": "markdown",
      "source": [
        "###### **3.3. Normalization step**\n",
        "\n",
        "For the model, `Horsepower` is selected as the variable used to predict `MPG`. It is possible to use another variable. Therefore, `Horsepower` is kept in the dataset `train_features` and used to adapt the normalisation layer.\n"
      ],
      "metadata": {
        "id": "3FjdtVUpbhSW"
      }
    },
    {
      "cell_type": "code",
      "source": [
        "horsepower = array(train_features['Horsepower'])\n",
        "horsepower_normalizer = keras.layers.Normalization(input_shape=(1,), axis=None)\n",
        "horsepower_normalizer.adapt(horsepower) # fit to the data to compute the mean and standard deviation"
      ],
      "metadata": {
        "id": "Zf8YhKuU-3MX",
        "colab": {
          "base_uri": "https://localhost:8080/"
        },
        "outputId": "066afee3-d913-4b80-b717-72ef37b55e24"
      },
      "execution_count": 13,
      "outputs": [
        {
          "output_type": "stream",
          "name": "stderr",
          "text": [
            "/usr/local/lib/python3.10/dist-packages/keras/src/layers/preprocessing/tf_data_layer.py:19: UserWarning:\n",
            "\n",
            "Do not pass an `input_shape`/`input_dim` argument to a layer. When using Sequential models, prefer using an `Input(shape)` object as the first layer in the model instead.\n",
            "\n"
          ]
        }
      ]
    },
    {
      "cell_type": "markdown",
      "source": [
        "---\n",
        "\n",
        "\n",
        "#### **4. Linear regression model (L-model)**\n",
        "\n",
        "First model: a single-variable linear regression model to predict `MPG` from `Horsepower`. For this, two steps are done in this model:\n",
        "*   The feature `Horsepower` is normalized by using a specific preprocessing layer `norm` (then replaced by the one defined above).\n",
        "*   A linear transformation `y = ax + b` is applied with the layer `Dense` to produce 1 output.\n",
        "\n"
      ],
      "metadata": {
        "id": "2Sxygb4SXUEl"
      }
    },
    {
      "cell_type": "code",
      "source": [
        "def create_linear_model(norm):\n",
        "  model = keras.Sequential([norm, keras.layers.Dense(units=1)])\n",
        "  model.compile(optimizer=optimizers.Adam(learning_rate=0.1), loss='mean_absolute_error')\n",
        "  return model"
      ],
      "metadata": {
        "id": "_unS_mDqZkBk"
      },
      "execution_count": 14,
      "outputs": []
    },
    {
      "cell_type": "code",
      "source": [
        "linear_model = create_linear_model(horsepower_normalizer)\n",
        "\n",
        "if training_phase == 'Yes':\n",
        "  computation_time = {}\n",
        "  t0 = thread_time()\n",
        "  history = linear_model.fit(train_features['Horsepower'], train_labels, epochs=50, verbose=0, validation_split = 0.2)\n",
        "  t1 = thread_time()\n",
        "  computation_time['L-model'] = t1-t0 # save the computation time\n",
        "  linear_model.save('Lmodel.keras')\n",
        "  show_evolution(history)"
      ],
      "metadata": {
        "id": "Ef_uqoli_HEe"
      },
      "execution_count": 15,
      "outputs": []
    },
    {
      "cell_type": "code",
      "source": [
        "if training_phase == \"Yes\":\n",
        "  test_results = {}\n",
        "  test_results['L-model'] = linear_model.evaluate(test_features['Horsepower'], test_labels, verbose=0) # save the loss value for the test set"
      ],
      "metadata": {
        "id": "PD8KTQ6y_OT2"
      },
      "execution_count": 16,
      "outputs": []
    },
    {
      "cell_type": "markdown",
      "source": [
        "---\n",
        "\n",
        "\n",
        "#### **5. Multiple inputs linear regression model (nL-model)**\n",
        "\n",
        "Second model: a 8-variables linear regression model to predict `MPG` from `train_features`. For this, two steps are done in this model:\n",
        "*   The features `train_features` are normalized by using a specific preprocessing layer `norm`\n",
        "*   A linear transformation `y = Mx + v` is applied with the layer `Dense` to produce 1 output"
      ],
      "metadata": {
        "id": "HfzcZwNwHLUw"
      }
    },
    {
      "cell_type": "code",
      "source": [
        "normalizer_multiple = keras.layers.Normalization(axis=-1)\n",
        "normalizer_multiple.adapt(array(train_features))"
      ],
      "metadata": {
        "id": "FfIsf_BsH3h9"
      },
      "execution_count": 17,
      "outputs": []
    },
    {
      "cell_type": "code",
      "source": [
        "multiple_linear_model = create_linear_model(normalizer_multiple)\n",
        "if training_phase == \"Yes\":\n",
        "  t0 = thread_time()\n",
        "  history = multiple_linear_model.fit(train_features, train_labels, epochs=50, verbose=0, validation_split = 0.2)\n",
        "  t1 = thread_time()\n",
        "  multiple_linear_model.save('nLmodel.keras')\n",
        "  computation_time['nL-model'] = t1-t0\n",
        "  test_results['nL-model'] = multiple_linear_model.evaluate(test_features, test_labels, verbose=0) # save the loss value for the test set\n",
        "  show_evolution(history)"
      ],
      "metadata": {
        "id": "yrAa6_D8IIu1"
      },
      "execution_count": 18,
      "outputs": []
    },
    {
      "cell_type": "markdown",
      "source": [
        "---\n",
        "\n",
        "\n",
        "#### **6. Deep Neural Network model (DNN-model)**\n",
        "\n",
        "Third model: a deep network regression model to predict `MPG` from `Horsepower`. The model is composed of one pre-processing layer, 2 deep layers and one output layer:\n",
        "* The pre-processing layer `norm`\n",
        "* Two deep layers `Dense` with the non-linear function `ReLu` as activation function\n",
        "* One output layer `Dense` to compute an unique output\n"
      ],
      "metadata": {
        "id": "CZwQHnjIBtpc"
      }
    },
    {
      "cell_type": "code",
      "source": [
        "def DNN_model(norm):\n",
        "  model = keras.Sequential([\n",
        "      norm,\n",
        "      keras.layers.Dense(64, activation='relu'),\n",
        "      keras.layers.Dense(64, activation='relu'),\n",
        "      keras.layers.Dense(1)])\n",
        "\n",
        "  model.compile(loss='mean_absolute_error', optimizer=keras.optimizers.Adam(0.001))\n",
        "  return model"
      ],
      "metadata": {
        "id": "JejOC9uXeDXY"
      },
      "execution_count": 19,
      "outputs": []
    },
    {
      "cell_type": "code",
      "source": [
        "dnn_model = DNN_model(horsepower_normalizer)\n",
        "if training_phase == \"Yes\":\n",
        "  t0 = thread_time()\n",
        "  history = dnn_model.fit(train_features['Horsepower'], train_labels, epochs=50, validation_split=0.2, verbose=0)\n",
        "  t1 = thread_time()\n",
        "  computation_time['DNN-model'] = t1-t0\n",
        "  test_results['DNN-model'] = dnn_model.evaluate(test_features['Horsepower'], test_labels, verbose=0)\n",
        "  dnn_model.save('DNNmodel.keras')\n",
        "  show_evolution(history)"
      ],
      "metadata": {
        "id": "u2rF44E7ABhe"
      },
      "execution_count": 20,
      "outputs": []
    },
    {
      "cell_type": "markdown",
      "source": [
        "---\n",
        "\n",
        "\n",
        "#### **7. Multiple inputs deep Neural Network model (nDNN-model)**\n",
        "\n",
        "Last model: a deep network regression model with 8 inputs to predict `MPG` from `train_features`."
      ],
      "metadata": {
        "id": "ZX8fFojDKVoS"
      }
    },
    {
      "cell_type": "code",
      "source": [
        "multiple_dnn_model = DNN_model(normalizer_multiple)\n",
        "if training_phase == \"Yes\":\n",
        "  t0 = thread_time()\n",
        "  history = multiple_dnn_model.fit(train_features, train_labels, epochs=50, validation_split=0.2, verbose=0)\n",
        "  t1 = thread_time()\n",
        "  computation_time['nDNN-model'] = t1-t0\n",
        "  test_results['nDNN-model'] = multiple_dnn_model.evaluate(test_features, test_labels, verbose=0)\n",
        "  multiple_dnn_model.save('nDNNmodel.keras')\n",
        "  show_evolution(history)"
      ],
      "metadata": {
        "id": "ZQiIuBsZKaxk"
      },
      "execution_count": 21,
      "outputs": []
    },
    {
      "cell_type": "markdown",
      "source": [
        "---\n",
        "\n",
        "\n",
        "#### **8. Confrontation & comments**\n",
        "\n",
        "If the models have been trained, it is possible to compare the performance of each model. `nDNN_model` is the best in terms of minimizing the loss function, but also one of the longest in terms of computing time. Depending on performance, the function `plot_prediction` can be used to visualize predicted values as a function of true values (left graph) and error distribution (right graph)."
      ],
      "metadata": {
        "id": "wOPrGNokcalM"
      }
    },
    {
      "cell_type": "code",
      "source": [
        "if training_phase == \"Yes\":\n",
        "  performances = DataFrame([test_results, computation_time], index=['Mean absolute error [MPG]', \"Computation time [s]\"]).T\n",
        "  performances.to_csv('performances_regression.csv', index=False)\n",
        "else:\n",
        "  linear_model, multiple_linear_model, dnn_model, multiple_dnn_model, performances = get_github_files()"
      ],
      "metadata": {
        "id": "6xwr4-_XALPC",
        "colab": {
          "base_uri": "https://localhost:8080/"
        },
        "outputId": "1ef3891d-c680-4b67-ca22-ed01bf951770"
      },
      "execution_count": 22,
      "outputs": [
        {
          "output_type": "stream",
          "name": "stdout",
          "text": [
            "Cloning into 'TensorFlow_duplicata'...\n",
            "remote: Enumerating objects: 342, done.\u001b[K\n",
            "remote: Counting objects: 100% (148/148), done.\u001b[K\n",
            "remote: Compressing objects: 100% (60/60), done.\u001b[K\n",
            "remote: Total 342 (delta 128), reused 88 (delta 88), pack-reused 194 (from 2)\u001b[K\n",
            "Receiving objects: 100% (342/342), 31.39 MiB | 10.90 MiB/s, done.\n",
            "Resolving deltas: 100% (168/168), done.\n"
          ]
        }
      ]
    },
    {
      "cell_type": "code",
      "source": [
        "print(performances)"
      ],
      "metadata": {
        "colab": {
          "base_uri": "https://localhost:8080/"
        },
        "id": "aVw7bdHq_rDF",
        "outputId": "82d5368d-bde8-4a6b-b83f-91811a568f74"
      },
      "execution_count": 23,
      "outputs": [
        {
          "output_type": "stream",
          "name": "stdout",
          "text": [
            "   Mean absolute error [MPG]  Computation time [s]\n",
            "0                   3.827374              4.595454\n",
            "1                   2.092484              3.868038\n",
            "2                   3.352383              5.078055\n",
            "3                   1.965180              4.296537\n"
          ]
        }
      ]
    },
    {
      "cell_type": "code",
      "source": [
        "all_model = {'L-model': linear_model, 'nL-model': multiple_linear_model, 'DNN-model': dnn_model, 'nDNN-model':\tmultiple_dnn_model}"
      ],
      "metadata": {
        "id": "Eeeagxgwd3zp"
      },
      "execution_count": 24,
      "outputs": []
    },
    {
      "cell_type": "code",
      "source": [
        "plot_prediction('nDNN-model')"
      ],
      "metadata": {
        "id": "xmgZdKD6ypZh",
        "colab": {
          "base_uri": "https://localhost:8080/",
          "height": 517
        },
        "outputId": "ac0f338d-e047-49d0-b3d2-d2ad93b5d21f"
      },
      "execution_count": 25,
      "outputs": [
        {
          "output_type": "display_data",
          "data": {
            "text/html": [
              "<html>\n",
              "<head><meta charset=\"utf-8\" /></head>\n",
              "<body>\n",
              "    <div>            <script src=\"https://cdnjs.cloudflare.com/ajax/libs/mathjax/2.7.5/MathJax.js?config=TeX-AMS-MML_SVG\"></script><script type=\"text/javascript\">if (window.MathJax && window.MathJax.Hub && window.MathJax.Hub.Config) {window.MathJax.Hub.Config({SVG: {font: \"STIX-Web\"}});}</script>                <script type=\"text/javascript\">window.PlotlyConfig = {MathJaxConfig: 'local'};</script>\n",
              "        <script charset=\"utf-8\" src=\"https://cdn.plot.ly/plotly-2.35.2.min.js\"></script>                <div id=\"f37a2dcf-ab93-48a5-bdb8-f6d6015b8cfa\" class=\"plotly-graph-div\" style=\"height:500px; width:900px;\"></div>            <script type=\"text/javascript\">                                    window.PLOTLYENV=window.PLOTLYENV || {};                                    if (document.getElementById(\"f37a2dcf-ab93-48a5-bdb8-f6d6015b8cfa\")) {                    Plotly.newPlot(                        \"f37a2dcf-ab93-48a5-bdb8-f6d6015b8cfa\",                        [{\"marker\":{\"color\":\"blue\"},\"mode\":\"markers\",\"showlegend\":false,\"x\":[15.0,15.0,14.0,25.0,26.0,21.0,19.0,19.0,18.0,20.0,18.0,22.0,22.0,14.0,13.0,16.0,11.0,12.0,24.0,19.0,31.0,26.0,16.0,14.0,31.0,32.0,19.0,15.0,16.0,16.0,23.0,20.0,24.0,17.5,22.5,17.5,32.0,13.0,29.0,21.5,21.5,36.1,19.9,19.4,20.5,25.1,20.5,20.6,19.2,17.5,27.2,23.8,31.5,29.5,20.2,16.5,15.5,19.2,27.4,34.2,28.8,38.1,37.2,39.0,35.1,34.7,33.0,32.4,30.7,25.4,24.2,22.4,20.2,17.6,29.0,36.0,22.0,27.0],\"y\":[14.941423,13.387802,14.047878,21.96542,23.878036,21.713903,20.459288,18.372887,17.391531,20.395197,18.787062,22.164515,24.27435,13.565546,12.3000345,16.041086,12.470074,12.39559,25.012152,17.184511,30.861526,24.761374,15.96741,13.775785,34.3925,31.288755,17.674423,20.460234,13.618721,14.163544,22.99077,17.52713,24.691467,16.200764,18.606668,17.841516,31.291098,15.973553,29.673317,23.152546,30.10087,35.148247,21.3281,18.579657,19.722464,25.269072,18.857857,18.355106,18.958712,17.688946,27.889214,23.16147,31.499239,32.180878,20.739275,19.280405,18.370586,20.432913,28.83129,34.578533,25.270296,35.934788,35.554047,36.72962,38.357628,35.739193,33.300022,33.46065,23.248732,20.908548,21.46026,21.185999,23.624563,23.255217,30.248877,34.552917,23.590803,26.744873],\"type\":\"scatter\",\"xaxis\":\"x\",\"yaxis\":\"y\"},{\"marker\":{\"color\":\"red\"},\"mode\":\"lines\",\"showlegend\":false,\"x\":[9.9,10.573469,11.246939,11.920408,12.593877,13.267346,13.940816,14.6142845,15.287754,15.961224,16.634693,17.308163,17.981632,18.655102,19.328571,20.00204,20.67551,21.34898,22.02245,22.695917,23.369387,24.042856,24.716326,25.389795,26.063265,26.736734,27.410204,28.083672,28.757141,29.43061,30.10408,30.77755,31.45102,32.12449,32.79796,33.471428,34.144897,34.818367,35.491837,36.165306,36.838776,37.512245,38.185715,38.859184,39.532654,40.206123,40.879593,41.553062,42.226532,42.9],\"y\":[9.9,10.573469,11.246939,11.920408,12.593877,13.267346,13.940816,14.6142845,15.287754,15.961224,16.634693,17.308163,17.981632,18.655102,19.328571,20.00204,20.67551,21.34898,22.02245,22.695917,23.369387,24.042856,24.716326,25.389795,26.063265,26.736734,27.410204,28.083672,28.757141,29.43061,30.10408,30.77755,31.45102,32.12449,32.79796,33.471428,34.144897,34.818367,35.491837,36.165306,36.838776,37.512245,38.185715,38.859184,39.532654,40.206123,40.879593,41.553062,42.226532,42.9],\"type\":\"scatter\",\"xaxis\":\"x\",\"yaxis\":\"y\"},{\"marker\":{\"color\":\"blue\"},\"nbinsx\":25,\"showlegend\":false,\"x\":[-0.05857658386230469,-1.6121978759765625,0.047878265380859375,-3.0345802307128906,-2.1219635009765625,0.7139034271240234,1.4592876434326172,-0.6271133422851562,-0.6084690093994141,0.39519691467285156,0.7870616912841797,0.16451454162597656,2.2743492126464844,-0.43445396423339844,-0.6999654769897461,0.04108619689941406,1.4700736999511719,0.39558982849121094,1.0121517181396484,-1.8154888153076172,-0.1384735107421875,-1.238626480102539,-0.03258991241455078,-0.2242145538330078,3.3925018310546875,-0.7112445831298828,-1.3255767822265625,5.460233688354492,-2.3812789916992188,-1.836456298828125,-0.009229660034179688,-2.472869873046875,0.69146728515625,-1.2992362976074219,-3.893331527709961,0.34151649475097656,-0.7089023590087891,2.973552703857422,0.6733169555664062,1.6525459289550781,8.600870132446289,-0.9517532348632827,1.4281002044677749,-0.8203433990478501,-0.7775363922119141,0.16907157897949077,-1.6421432495117188,-2.244893646240236,-0.24128837585449148,0.18894577026367188,0.6892135620117195,-0.6385295867919929,-0.0007610321044921875,2.680877685546875,0.539274978637696,2.780405044555664,2.870586395263672,1.2329128265380866,1.4312892913818374,0.37853317260741903,-3.529703903198243,-2.165212249755861,-1.6459533691406278,-2.2703781127929688,3.2576278686523423,1.0391929626464815,0.3000221252441406,1.0606513977050795,-7.45126838684082,-4.4914516448974595,-2.7397396087646477,-1.214001083374022,3.4245632171630866,5.655216598510741,1.2488765716552734,-1.44708251953125,1.5908031463623047,-0.255126953125],\"type\":\"histogram\",\"xaxis\":\"x2\",\"yaxis\":\"y2\"}],                        {\"template\":{\"data\":{\"histogram2dcontour\":[{\"type\":\"histogram2dcontour\",\"colorbar\":{\"outlinewidth\":0,\"ticks\":\"\"},\"colorscale\":[[0.0,\"#0d0887\"],[0.1111111111111111,\"#46039f\"],[0.2222222222222222,\"#7201a8\"],[0.3333333333333333,\"#9c179e\"],[0.4444444444444444,\"#bd3786\"],[0.5555555555555556,\"#d8576b\"],[0.6666666666666666,\"#ed7953\"],[0.7777777777777778,\"#fb9f3a\"],[0.8888888888888888,\"#fdca26\"],[1.0,\"#f0f921\"]]}],\"choropleth\":[{\"type\":\"choropleth\",\"colorbar\":{\"outlinewidth\":0,\"ticks\":\"\"}}],\"histogram2d\":[{\"type\":\"histogram2d\",\"colorbar\":{\"outlinewidth\":0,\"ticks\":\"\"},\"colorscale\":[[0.0,\"#0d0887\"],[0.1111111111111111,\"#46039f\"],[0.2222222222222222,\"#7201a8\"],[0.3333333333333333,\"#9c179e\"],[0.4444444444444444,\"#bd3786\"],[0.5555555555555556,\"#d8576b\"],[0.6666666666666666,\"#ed7953\"],[0.7777777777777778,\"#fb9f3a\"],[0.8888888888888888,\"#fdca26\"],[1.0,\"#f0f921\"]]}],\"heatmap\":[{\"type\":\"heatmap\",\"colorbar\":{\"outlinewidth\":0,\"ticks\":\"\"},\"colorscale\":[[0.0,\"#0d0887\"],[0.1111111111111111,\"#46039f\"],[0.2222222222222222,\"#7201a8\"],[0.3333333333333333,\"#9c179e\"],[0.4444444444444444,\"#bd3786\"],[0.5555555555555556,\"#d8576b\"],[0.6666666666666666,\"#ed7953\"],[0.7777777777777778,\"#fb9f3a\"],[0.8888888888888888,\"#fdca26\"],[1.0,\"#f0f921\"]]}],\"heatmapgl\":[{\"type\":\"heatmapgl\",\"colorbar\":{\"outlinewidth\":0,\"ticks\":\"\"},\"colorscale\":[[0.0,\"#0d0887\"],[0.1111111111111111,\"#46039f\"],[0.2222222222222222,\"#7201a8\"],[0.3333333333333333,\"#9c179e\"],[0.4444444444444444,\"#bd3786\"],[0.5555555555555556,\"#d8576b\"],[0.6666666666666666,\"#ed7953\"],[0.7777777777777778,\"#fb9f3a\"],[0.8888888888888888,\"#fdca26\"],[1.0,\"#f0f921\"]]}],\"contourcarpet\":[{\"type\":\"contourcarpet\",\"colorbar\":{\"outlinewidth\":0,\"ticks\":\"\"}}],\"contour\":[{\"type\":\"contour\",\"colorbar\":{\"outlinewidth\":0,\"ticks\":\"\"},\"colorscale\":[[0.0,\"#0d0887\"],[0.1111111111111111,\"#46039f\"],[0.2222222222222222,\"#7201a8\"],[0.3333333333333333,\"#9c179e\"],[0.4444444444444444,\"#bd3786\"],[0.5555555555555556,\"#d8576b\"],[0.6666666666666666,\"#ed7953\"],[0.7777777777777778,\"#fb9f3a\"],[0.8888888888888888,\"#fdca26\"],[1.0,\"#f0f921\"]]}],\"surface\":[{\"type\":\"surface\",\"colorbar\":{\"outlinewidth\":0,\"ticks\":\"\"},\"colorscale\":[[0.0,\"#0d0887\"],[0.1111111111111111,\"#46039f\"],[0.2222222222222222,\"#7201a8\"],[0.3333333333333333,\"#9c179e\"],[0.4444444444444444,\"#bd3786\"],[0.5555555555555556,\"#d8576b\"],[0.6666666666666666,\"#ed7953\"],[0.7777777777777778,\"#fb9f3a\"],[0.8888888888888888,\"#fdca26\"],[1.0,\"#f0f921\"]]}],\"mesh3d\":[{\"type\":\"mesh3d\",\"colorbar\":{\"outlinewidth\":0,\"ticks\":\"\"}}],\"scatter\":[{\"fillpattern\":{\"fillmode\":\"overlay\",\"size\":10,\"solidity\":0.2},\"type\":\"scatter\"}],\"parcoords\":[{\"type\":\"parcoords\",\"line\":{\"colorbar\":{\"outlinewidth\":0,\"ticks\":\"\"}}}],\"scatterpolargl\":[{\"type\":\"scatterpolargl\",\"marker\":{\"colorbar\":{\"outlinewidth\":0,\"ticks\":\"\"}}}],\"bar\":[{\"error_x\":{\"color\":\"#2a3f5f\"},\"error_y\":{\"color\":\"#2a3f5f\"},\"marker\":{\"line\":{\"color\":\"#E5ECF6\",\"width\":0.5},\"pattern\":{\"fillmode\":\"overlay\",\"size\":10,\"solidity\":0.2}},\"type\":\"bar\"}],\"scattergeo\":[{\"type\":\"scattergeo\",\"marker\":{\"colorbar\":{\"outlinewidth\":0,\"ticks\":\"\"}}}],\"scatterpolar\":[{\"type\":\"scatterpolar\",\"marker\":{\"colorbar\":{\"outlinewidth\":0,\"ticks\":\"\"}}}],\"histogram\":[{\"marker\":{\"pattern\":{\"fillmode\":\"overlay\",\"size\":10,\"solidity\":0.2}},\"type\":\"histogram\"}],\"scattergl\":[{\"type\":\"scattergl\",\"marker\":{\"colorbar\":{\"outlinewidth\":0,\"ticks\":\"\"}}}],\"scatter3d\":[{\"type\":\"scatter3d\",\"line\":{\"colorbar\":{\"outlinewidth\":0,\"ticks\":\"\"}},\"marker\":{\"colorbar\":{\"outlinewidth\":0,\"ticks\":\"\"}}}],\"scattermapbox\":[{\"type\":\"scattermapbox\",\"marker\":{\"colorbar\":{\"outlinewidth\":0,\"ticks\":\"\"}}}],\"scatterternary\":[{\"type\":\"scatterternary\",\"marker\":{\"colorbar\":{\"outlinewidth\":0,\"ticks\":\"\"}}}],\"scattercarpet\":[{\"type\":\"scattercarpet\",\"marker\":{\"colorbar\":{\"outlinewidth\":0,\"ticks\":\"\"}}}],\"carpet\":[{\"aaxis\":{\"endlinecolor\":\"#2a3f5f\",\"gridcolor\":\"white\",\"linecolor\":\"white\",\"minorgridcolor\":\"white\",\"startlinecolor\":\"#2a3f5f\"},\"baxis\":{\"endlinecolor\":\"#2a3f5f\",\"gridcolor\":\"white\",\"linecolor\":\"white\",\"minorgridcolor\":\"white\",\"startlinecolor\":\"#2a3f5f\"},\"type\":\"carpet\"}],\"table\":[{\"cells\":{\"fill\":{\"color\":\"#EBF0F8\"},\"line\":{\"color\":\"white\"}},\"header\":{\"fill\":{\"color\":\"#C8D4E3\"},\"line\":{\"color\":\"white\"}},\"type\":\"table\"}],\"barpolar\":[{\"marker\":{\"line\":{\"color\":\"#E5ECF6\",\"width\":0.5},\"pattern\":{\"fillmode\":\"overlay\",\"size\":10,\"solidity\":0.2}},\"type\":\"barpolar\"}],\"pie\":[{\"automargin\":true,\"type\":\"pie\"}]},\"layout\":{\"autotypenumbers\":\"strict\",\"colorway\":[\"#636efa\",\"#EF553B\",\"#00cc96\",\"#ab63fa\",\"#FFA15A\",\"#19d3f3\",\"#FF6692\",\"#B6E880\",\"#FF97FF\",\"#FECB52\"],\"font\":{\"color\":\"#2a3f5f\"},\"hovermode\":\"closest\",\"hoverlabel\":{\"align\":\"left\"},\"paper_bgcolor\":\"white\",\"plot_bgcolor\":\"#E5ECF6\",\"polar\":{\"bgcolor\":\"#E5ECF6\",\"angularaxis\":{\"gridcolor\":\"white\",\"linecolor\":\"white\",\"ticks\":\"\"},\"radialaxis\":{\"gridcolor\":\"white\",\"linecolor\":\"white\",\"ticks\":\"\"}},\"ternary\":{\"bgcolor\":\"#E5ECF6\",\"aaxis\":{\"gridcolor\":\"white\",\"linecolor\":\"white\",\"ticks\":\"\"},\"baxis\":{\"gridcolor\":\"white\",\"linecolor\":\"white\",\"ticks\":\"\"},\"caxis\":{\"gridcolor\":\"white\",\"linecolor\":\"white\",\"ticks\":\"\"}},\"coloraxis\":{\"colorbar\":{\"outlinewidth\":0,\"ticks\":\"\"}},\"colorscale\":{\"sequential\":[[0.0,\"#0d0887\"],[0.1111111111111111,\"#46039f\"],[0.2222222222222222,\"#7201a8\"],[0.3333333333333333,\"#9c179e\"],[0.4444444444444444,\"#bd3786\"],[0.5555555555555556,\"#d8576b\"],[0.6666666666666666,\"#ed7953\"],[0.7777777777777778,\"#fb9f3a\"],[0.8888888888888888,\"#fdca26\"],[1.0,\"#f0f921\"]],\"sequentialminus\":[[0.0,\"#0d0887\"],[0.1111111111111111,\"#46039f\"],[0.2222222222222222,\"#7201a8\"],[0.3333333333333333,\"#9c179e\"],[0.4444444444444444,\"#bd3786\"],[0.5555555555555556,\"#d8576b\"],[0.6666666666666666,\"#ed7953\"],[0.7777777777777778,\"#fb9f3a\"],[0.8888888888888888,\"#fdca26\"],[1.0,\"#f0f921\"]],\"diverging\":[[0,\"#8e0152\"],[0.1,\"#c51b7d\"],[0.2,\"#de77ae\"],[0.3,\"#f1b6da\"],[0.4,\"#fde0ef\"],[0.5,\"#f7f7f7\"],[0.6,\"#e6f5d0\"],[0.7,\"#b8e186\"],[0.8,\"#7fbc41\"],[0.9,\"#4d9221\"],[1,\"#276419\"]]},\"xaxis\":{\"gridcolor\":\"white\",\"linecolor\":\"white\",\"ticks\":\"\",\"title\":{\"standoff\":15},\"zerolinecolor\":\"white\",\"automargin\":true,\"zerolinewidth\":2},\"yaxis\":{\"gridcolor\":\"white\",\"linecolor\":\"white\",\"ticks\":\"\",\"title\":{\"standoff\":15},\"zerolinecolor\":\"white\",\"automargin\":true,\"zerolinewidth\":2},\"scene\":{\"xaxis\":{\"backgroundcolor\":\"#E5ECF6\",\"gridcolor\":\"white\",\"linecolor\":\"white\",\"showbackground\":true,\"ticks\":\"\",\"zerolinecolor\":\"white\",\"gridwidth\":2},\"yaxis\":{\"backgroundcolor\":\"#E5ECF6\",\"gridcolor\":\"white\",\"linecolor\":\"white\",\"showbackground\":true,\"ticks\":\"\",\"zerolinecolor\":\"white\",\"gridwidth\":2},\"zaxis\":{\"backgroundcolor\":\"#E5ECF6\",\"gridcolor\":\"white\",\"linecolor\":\"white\",\"showbackground\":true,\"ticks\":\"\",\"zerolinecolor\":\"white\",\"gridwidth\":2}},\"shapedefaults\":{\"line\":{\"color\":\"#2a3f5f\"}},\"annotationdefaults\":{\"arrowcolor\":\"#2a3f5f\",\"arrowhead\":0,\"arrowwidth\":1},\"geo\":{\"bgcolor\":\"white\",\"landcolor\":\"#E5ECF6\",\"subunitcolor\":\"white\",\"showland\":true,\"showlakes\":true,\"lakecolor\":\"white\"},\"title\":{\"x\":0.05},\"mapbox\":{\"style\":\"light\"}}},\"xaxis\":{\"anchor\":\"y\",\"domain\":[0.0,0.45],\"title\":{\"text\":\"True values [MPG]\"}},\"yaxis\":{\"anchor\":\"x\",\"domain\":[0.0,1.0],\"title\":{\"text\":\"Predictions [MPG]\"}},\"xaxis2\":{\"anchor\":\"y2\",\"domain\":[0.55,1.0],\"title\":{\"text\":\"Prediction error [MPG]\"}},\"yaxis2\":{\"anchor\":\"x2\",\"domain\":[0.0,1.0],\"title\":{\"text\":\"Count\"},\"range\":[0,25]},\"annotations\":[{\"font\":{\"size\":16},\"showarrow\":false,\"text\":\"Predicted values Vs. True values\",\"x\":0.225,\"xanchor\":\"center\",\"xref\":\"paper\",\"y\":1.0,\"yanchor\":\"bottom\",\"yref\":\"paper\"},{\"font\":{\"size\":16},\"showarrow\":false,\"text\":\"Error distribution\",\"x\":0.775,\"xanchor\":\"center\",\"xref\":\"paper\",\"y\":1.0,\"yanchor\":\"bottom\",\"yref\":\"paper\"}],\"title\":{\"text\":\"nDNN-model\"},\"width\":900,\"height\":500},                        {\"responsive\": true}                    ).then(function(){\n",
              "                            \n",
              "var gd = document.getElementById('f37a2dcf-ab93-48a5-bdb8-f6d6015b8cfa');\n",
              "var x = new MutationObserver(function (mutations, observer) {{\n",
              "        var display = window.getComputedStyle(gd).display;\n",
              "        if (!display || display === 'none') {{\n",
              "            console.log([gd, 'removed!']);\n",
              "            Plotly.purge(gd);\n",
              "            observer.disconnect();\n",
              "        }}\n",
              "}});\n",
              "\n",
              "// Listen for the removal of the full notebook cells\n",
              "var notebookContainer = gd.closest('#notebook-container');\n",
              "if (notebookContainer) {{\n",
              "    x.observe(notebookContainer, {childList: true});\n",
              "}}\n",
              "\n",
              "// Listen for the clearing of the current output cell\n",
              "var outputEl = gd.closest('.output');\n",
              "if (outputEl) {{\n",
              "    x.observe(outputEl, {childList: true});\n",
              "}}\n",
              "\n",
              "                        })                };                            </script>        </div>\n",
              "</body>\n",
              "</html>"
            ]
          },
          "metadata": {}
        }
      ]
    }
  ]
}