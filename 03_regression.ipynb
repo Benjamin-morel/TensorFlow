{
  "nbformat": 4,
  "nbformat_minor": 0,
  "metadata": {
    "colab": {
      "provenance": [],
      "authorship_tag": "ABX9TyN260zjOOlmCSSwKNFxn1j8",
      "include_colab_link": true
    },
    "kernelspec": {
      "name": "python3",
      "display_name": "Python 3"
    },
    "language_info": {
      "name": "python"
    }
  },
  "cells": [
    {
      "cell_type": "markdown",
      "metadata": {
        "id": "view-in-github",
        "colab_type": "text"
      },
      "source": [
        "<a href=\"https://colab.research.google.com/github/Benjamin-morel/TensorFlow/blob/main/03_regression.ipynb\" target=\"_parent\"><img src=\"https://colab.research.google.com/assets/colab-badge.svg\" alt=\"Open In Colab\"/></a>"
      ]
    },
    {
      "cell_type": "markdown",
      "source": [
        "---\n",
        "\n",
        "\n",
        "# Machine Learning Model: regression and predictions\n",
        "| | |\n",
        "|------|------|\n",
        "| Filename | 03_regression.ipynb |\n",
        "| Author(s) | Benjamin Morel (benjaminmorel27@gmail.com) |\n",
        "| Date | September 8, 2024 |\n",
        "| Aim(s) | Do regression tasks with a neural network machine learning model|\n",
        "| Dataset(s) | Auto MPG dataset from UC Irvine [[1]](https://archive.ics.uci.edu/dataset/9/auto+mpg) |\n",
        "| Version | Python 3.12 - TensorFlow 2.17.0 |\n",
        "\n",
        "\n",
        "<br> **!!Read before running!!** <br>\n",
        "1. Fill in the inputs\n",
        "2. CPU execution is enough\n",
        "3. Run all and read comments.\n",
        "\n",
        "\n",
        "---\n",
        "\n",
        "#### **Motivation**\n",
        "\n",
        "A car's fuel efficiency, i.e. the amount of fuel consumed by a car for a given distance, is a parameter that is difficult for car manufacturers to calculate. It depends on many factors: vehicle weight, power, engine volume, number of cylinders, technology used, etc.\n",
        "\n",
        "However, many authorities and organizations require exact fuel efficiency for all vehicles, in order to check whether the vehicle complies with pollution standards. With the Auto MPG datase from the UC Irvine university [[1]](https://archive.ics.uci.edu/dataset/9/auto+mpg), the neural network model used in this script will predict **fuel efficiency** of any 1970s / 1980s automobiles. A simple linear regression model will first be used, then compared with the predictions made by a second non-linear model."
      ],
      "metadata": {
        "id": "U2GVF6UjO9N0"
      }
    },
    {
      "cell_type": "markdown",
      "source": [
        "\n",
        "\n",
        "---\n",
        "\n",
        "\n",
        "#### **0. Input section**"
      ],
      "metadata": {
        "id": "7F9TsGwiRjAh"
      }
    },
    {
      "cell_type": "markdown",
      "source": [
        "The model has already been trained: **parameters** (weights and biases) of each neuron are already known according to the base dataset. The user can choose to keep these parameters and **not retrain the model** (No), or he can decide to repeat the **training phase** (Yes). Using a pre-trained model saves time, computer resources and CO2 emissions."
      ],
      "metadata": {
        "id": "XHGZZ-MMRgzB"
      }
    },
    {
      "cell_type": "code",
      "source": [
        "training_phase = 'No'"
      ],
      "metadata": {
        "id": "Fcu3GHX9Rlxe"
      },
      "execution_count": 30,
      "outputs": []
    },
    {
      "cell_type": "markdown",
      "source": [
        "---\n",
        "\n",
        "\n",
        "#### **1. Import libraries & prebuilt dataset**"
      ],
      "metadata": {
        "id": "hg2ublsvVQkc"
      }
    },
    {
      "cell_type": "code",
      "source": [
        "from numpy import array, max, min                                   # scientific computing\n",
        "from pandas import read_csv, DataFrame                              # data manipulation tool\n",
        "from tensorflow import keras, optimizers, linspace                  # machine learning models\n",
        "from plotly.graph_objects import Figure, Splom, Scatter, Histogram  # graphing packages\n",
        "from plotly.subplots import make_subplots                           # graphing packages\n",
        "from time import thread_time                                        # timer"
      ],
      "metadata": {
        "id": "cZnJHF-T9tTh"
      },
      "execution_count": 31,
      "outputs": []
    },
    {
      "cell_type": "markdown",
      "source": [
        "###### **1.1. What is the dataset formed of?**\n",
        "\n",
        "The dataset used contains data about fuel efficiency for 398 car models, along with 8 characteristics of the cars:\n",
        "*   **displacement**: engine displacement (in^3)\n",
        "*   **cylinders**: number of cylinders in the engine\n",
        "*   **weight**: vehicle weight (lb)\n",
        "*   **model year**: car's model year\n",
        "*   **origin**: country of origin (1 = USA, 2 = Europe, 3 = Japan)\n",
        "*   **car name**: descriptive string containing the car’s name\n",
        "*   **acceleration**: time to accelerate from 0 to 60 mph (s)\n",
        "*   **horsepower**: engine power (some missing values)\n",
        "*   **mpg**: car's fuel efficiency (MPG=Miles Per Gallon)\n",
        "\n",
        "The target variable is the fuel efficiency **mpg**. The dataset is imported with *pandas* as a table with 398 rows and 9 columns. The function `tail` displays a part of this pandas table."
      ],
      "metadata": {
        "id": "3wwXrlPRRP7d"
      }
    },
    {
      "cell_type": "code",
      "source": [
        "url = 'http://archive.ics.uci.edu/ml/machine-learning-databases/auto-mpg/auto-mpg.data'\n",
        "column_names = ['MPG', 'Cylinders', 'Displacement', 'Horsepower',\n",
        "                'Weight', 'Acceleration', 'Model Year', 'Origin']               # MPG = fuel efficiency\n",
        "\n",
        "raw_dataset = read_csv(url, names=column_names,\n",
        "                          na_values='?',                                        # \"?\" values become a NaN value\n",
        "                          comment='\\t',                                         # elements following \\t are ignored\n",
        "                          sep=' ',                                              # columns are separating by spaces\n",
        "                          skipinitialspace=True)\n",
        "\n",
        "print(\"Summary of the dataset: \",\n",
        "      \"\\n\",\n",
        "      \"\\nNumber of rows in raw_dataset: \", len(raw_dataset), \"/ 398\",\n",
        "      \"\\nNumber of missing values: \", raw_dataset[\"Horsepower\"].isna().sum(),\n",
        "      \"/\", len(raw_dataset)*9)                                                  # horsepower NaN values\n",
        "\n",
        "raw_dataset.tail()"
      ],
      "metadata": {
        "colab": {
          "base_uri": "https://localhost:8080/",
          "height": 276
        },
        "id": "2CO6wSXf9zcn",
        "outputId": "7cace029-8598-44a6-ae64-4c54e3e27b7b"
      },
      "execution_count": 32,
      "outputs": [
        {
          "output_type": "stream",
          "name": "stdout",
          "text": [
            "Summary of the dataset:  \n",
            " \n",
            "Number of rows in raw_dataset:  398 / 398 \n",
            "Number of missing values:  6 / 3582\n"
          ]
        },
        {
          "output_type": "execute_result",
          "data": {
            "text/plain": [
              "      MPG  Cylinders  Displacement  Horsepower  Weight  Acceleration  \\\n",
              "393  27.0          4         140.0        86.0  2790.0          15.6   \n",
              "394  44.0          4          97.0        52.0  2130.0          24.6   \n",
              "395  32.0          4         135.0        84.0  2295.0          11.6   \n",
              "396  28.0          4         120.0        79.0  2625.0          18.6   \n",
              "397  31.0          4         119.0        82.0  2720.0          19.4   \n",
              "\n",
              "     Model Year  Origin  \n",
              "393          82       1  \n",
              "394          82       2  \n",
              "395          82       1  \n",
              "396          82       1  \n",
              "397          82       1  "
            ],
            "text/html": [
              "\n",
              "  <div id=\"df-1ae8d33a-2393-42e5-a5a4-26726f63e37b\" class=\"colab-df-container\">\n",
              "    <div>\n",
              "<style scoped>\n",
              "    .dataframe tbody tr th:only-of-type {\n",
              "        vertical-align: middle;\n",
              "    }\n",
              "\n",
              "    .dataframe tbody tr th {\n",
              "        vertical-align: top;\n",
              "    }\n",
              "\n",
              "    .dataframe thead th {\n",
              "        text-align: right;\n",
              "    }\n",
              "</style>\n",
              "<table border=\"1\" class=\"dataframe\">\n",
              "  <thead>\n",
              "    <tr style=\"text-align: right;\">\n",
              "      <th></th>\n",
              "      <th>MPG</th>\n",
              "      <th>Cylinders</th>\n",
              "      <th>Displacement</th>\n",
              "      <th>Horsepower</th>\n",
              "      <th>Weight</th>\n",
              "      <th>Acceleration</th>\n",
              "      <th>Model Year</th>\n",
              "      <th>Origin</th>\n",
              "    </tr>\n",
              "  </thead>\n",
              "  <tbody>\n",
              "    <tr>\n",
              "      <th>393</th>\n",
              "      <td>27.0</td>\n",
              "      <td>4</td>\n",
              "      <td>140.0</td>\n",
              "      <td>86.0</td>\n",
              "      <td>2790.0</td>\n",
              "      <td>15.6</td>\n",
              "      <td>82</td>\n",
              "      <td>1</td>\n",
              "    </tr>\n",
              "    <tr>\n",
              "      <th>394</th>\n",
              "      <td>44.0</td>\n",
              "      <td>4</td>\n",
              "      <td>97.0</td>\n",
              "      <td>52.0</td>\n",
              "      <td>2130.0</td>\n",
              "      <td>24.6</td>\n",
              "      <td>82</td>\n",
              "      <td>2</td>\n",
              "    </tr>\n",
              "    <tr>\n",
              "      <th>395</th>\n",
              "      <td>32.0</td>\n",
              "      <td>4</td>\n",
              "      <td>135.0</td>\n",
              "      <td>84.0</td>\n",
              "      <td>2295.0</td>\n",
              "      <td>11.6</td>\n",
              "      <td>82</td>\n",
              "      <td>1</td>\n",
              "    </tr>\n",
              "    <tr>\n",
              "      <th>396</th>\n",
              "      <td>28.0</td>\n",
              "      <td>4</td>\n",
              "      <td>120.0</td>\n",
              "      <td>79.0</td>\n",
              "      <td>2625.0</td>\n",
              "      <td>18.6</td>\n",
              "      <td>82</td>\n",
              "      <td>1</td>\n",
              "    </tr>\n",
              "    <tr>\n",
              "      <th>397</th>\n",
              "      <td>31.0</td>\n",
              "      <td>4</td>\n",
              "      <td>119.0</td>\n",
              "      <td>82.0</td>\n",
              "      <td>2720.0</td>\n",
              "      <td>19.4</td>\n",
              "      <td>82</td>\n",
              "      <td>1</td>\n",
              "    </tr>\n",
              "  </tbody>\n",
              "</table>\n",
              "</div>\n",
              "    <div class=\"colab-df-buttons\">\n",
              "\n",
              "  <div class=\"colab-df-container\">\n",
              "    <button class=\"colab-df-convert\" onclick=\"convertToInteractive('df-1ae8d33a-2393-42e5-a5a4-26726f63e37b')\"\n",
              "            title=\"Convert this dataframe to an interactive table.\"\n",
              "            style=\"display:none;\">\n",
              "\n",
              "  <svg xmlns=\"http://www.w3.org/2000/svg\" height=\"24px\" viewBox=\"0 -960 960 960\">\n",
              "    <path d=\"M120-120v-720h720v720H120Zm60-500h600v-160H180v160Zm220 220h160v-160H400v160Zm0 220h160v-160H400v160ZM180-400h160v-160H180v160Zm440 0h160v-160H620v160ZM180-180h160v-160H180v160Zm440 0h160v-160H620v160Z\"/>\n",
              "  </svg>\n",
              "    </button>\n",
              "\n",
              "  <style>\n",
              "    .colab-df-container {\n",
              "      display:flex;\n",
              "      gap: 12px;\n",
              "    }\n",
              "\n",
              "    .colab-df-convert {\n",
              "      background-color: #E8F0FE;\n",
              "      border: none;\n",
              "      border-radius: 50%;\n",
              "      cursor: pointer;\n",
              "      display: none;\n",
              "      fill: #1967D2;\n",
              "      height: 32px;\n",
              "      padding: 0 0 0 0;\n",
              "      width: 32px;\n",
              "    }\n",
              "\n",
              "    .colab-df-convert:hover {\n",
              "      background-color: #E2EBFA;\n",
              "      box-shadow: 0px 1px 2px rgba(60, 64, 67, 0.3), 0px 1px 3px 1px rgba(60, 64, 67, 0.15);\n",
              "      fill: #174EA6;\n",
              "    }\n",
              "\n",
              "    .colab-df-buttons div {\n",
              "      margin-bottom: 4px;\n",
              "    }\n",
              "\n",
              "    [theme=dark] .colab-df-convert {\n",
              "      background-color: #3B4455;\n",
              "      fill: #D2E3FC;\n",
              "    }\n",
              "\n",
              "    [theme=dark] .colab-df-convert:hover {\n",
              "      background-color: #434B5C;\n",
              "      box-shadow: 0px 1px 3px 1px rgba(0, 0, 0, 0.15);\n",
              "      filter: drop-shadow(0px 1px 2px rgba(0, 0, 0, 0.3));\n",
              "      fill: #FFFFFF;\n",
              "    }\n",
              "  </style>\n",
              "\n",
              "    <script>\n",
              "      const buttonEl =\n",
              "        document.querySelector('#df-1ae8d33a-2393-42e5-a5a4-26726f63e37b button.colab-df-convert');\n",
              "      buttonEl.style.display =\n",
              "        google.colab.kernel.accessAllowed ? 'block' : 'none';\n",
              "\n",
              "      async function convertToInteractive(key) {\n",
              "        const element = document.querySelector('#df-1ae8d33a-2393-42e5-a5a4-26726f63e37b');\n",
              "        const dataTable =\n",
              "          await google.colab.kernel.invokeFunction('convertToInteractive',\n",
              "                                                    [key], {});\n",
              "        if (!dataTable) return;\n",
              "\n",
              "        const docLinkHtml = 'Like what you see? Visit the ' +\n",
              "          '<a target=\"_blank\" href=https://colab.research.google.com/notebooks/data_table.ipynb>data table notebook</a>'\n",
              "          + ' to learn more about interactive tables.';\n",
              "        element.innerHTML = '';\n",
              "        dataTable['output_type'] = 'display_data';\n",
              "        await google.colab.output.renderOutput(dataTable, element);\n",
              "        const docLink = document.createElement('div');\n",
              "        docLink.innerHTML = docLinkHtml;\n",
              "        element.appendChild(docLink);\n",
              "      }\n",
              "    </script>\n",
              "  </div>\n",
              "\n",
              "\n",
              "<div id=\"df-ce817fd0-c27f-4bbd-a35b-7410a2398d75\">\n",
              "  <button class=\"colab-df-quickchart\" onclick=\"quickchart('df-ce817fd0-c27f-4bbd-a35b-7410a2398d75')\"\n",
              "            title=\"Suggest charts\"\n",
              "            style=\"display:none;\">\n",
              "\n",
              "<svg xmlns=\"http://www.w3.org/2000/svg\" height=\"24px\"viewBox=\"0 0 24 24\"\n",
              "     width=\"24px\">\n",
              "    <g>\n",
              "        <path d=\"M19 3H5c-1.1 0-2 .9-2 2v14c0 1.1.9 2 2 2h14c1.1 0 2-.9 2-2V5c0-1.1-.9-2-2-2zM9 17H7v-7h2v7zm4 0h-2V7h2v10zm4 0h-2v-4h2v4z\"/>\n",
              "    </g>\n",
              "</svg>\n",
              "  </button>\n",
              "\n",
              "<style>\n",
              "  .colab-df-quickchart {\n",
              "      --bg-color: #E8F0FE;\n",
              "      --fill-color: #1967D2;\n",
              "      --hover-bg-color: #E2EBFA;\n",
              "      --hover-fill-color: #174EA6;\n",
              "      --disabled-fill-color: #AAA;\n",
              "      --disabled-bg-color: #DDD;\n",
              "  }\n",
              "\n",
              "  [theme=dark] .colab-df-quickchart {\n",
              "      --bg-color: #3B4455;\n",
              "      --fill-color: #D2E3FC;\n",
              "      --hover-bg-color: #434B5C;\n",
              "      --hover-fill-color: #FFFFFF;\n",
              "      --disabled-bg-color: #3B4455;\n",
              "      --disabled-fill-color: #666;\n",
              "  }\n",
              "\n",
              "  .colab-df-quickchart {\n",
              "    background-color: var(--bg-color);\n",
              "    border: none;\n",
              "    border-radius: 50%;\n",
              "    cursor: pointer;\n",
              "    display: none;\n",
              "    fill: var(--fill-color);\n",
              "    height: 32px;\n",
              "    padding: 0;\n",
              "    width: 32px;\n",
              "  }\n",
              "\n",
              "  .colab-df-quickchart:hover {\n",
              "    background-color: var(--hover-bg-color);\n",
              "    box-shadow: 0 1px 2px rgba(60, 64, 67, 0.3), 0 1px 3px 1px rgba(60, 64, 67, 0.15);\n",
              "    fill: var(--button-hover-fill-color);\n",
              "  }\n",
              "\n",
              "  .colab-df-quickchart-complete:disabled,\n",
              "  .colab-df-quickchart-complete:disabled:hover {\n",
              "    background-color: var(--disabled-bg-color);\n",
              "    fill: var(--disabled-fill-color);\n",
              "    box-shadow: none;\n",
              "  }\n",
              "\n",
              "  .colab-df-spinner {\n",
              "    border: 2px solid var(--fill-color);\n",
              "    border-color: transparent;\n",
              "    border-bottom-color: var(--fill-color);\n",
              "    animation:\n",
              "      spin 1s steps(1) infinite;\n",
              "  }\n",
              "\n",
              "  @keyframes spin {\n",
              "    0% {\n",
              "      border-color: transparent;\n",
              "      border-bottom-color: var(--fill-color);\n",
              "      border-left-color: var(--fill-color);\n",
              "    }\n",
              "    20% {\n",
              "      border-color: transparent;\n",
              "      border-left-color: var(--fill-color);\n",
              "      border-top-color: var(--fill-color);\n",
              "    }\n",
              "    30% {\n",
              "      border-color: transparent;\n",
              "      border-left-color: var(--fill-color);\n",
              "      border-top-color: var(--fill-color);\n",
              "      border-right-color: var(--fill-color);\n",
              "    }\n",
              "    40% {\n",
              "      border-color: transparent;\n",
              "      border-right-color: var(--fill-color);\n",
              "      border-top-color: var(--fill-color);\n",
              "    }\n",
              "    60% {\n",
              "      border-color: transparent;\n",
              "      border-right-color: var(--fill-color);\n",
              "    }\n",
              "    80% {\n",
              "      border-color: transparent;\n",
              "      border-right-color: var(--fill-color);\n",
              "      border-bottom-color: var(--fill-color);\n",
              "    }\n",
              "    90% {\n",
              "      border-color: transparent;\n",
              "      border-bottom-color: var(--fill-color);\n",
              "    }\n",
              "  }\n",
              "</style>\n",
              "\n",
              "  <script>\n",
              "    async function quickchart(key) {\n",
              "      const quickchartButtonEl =\n",
              "        document.querySelector('#' + key + ' button');\n",
              "      quickchartButtonEl.disabled = true;  // To prevent multiple clicks.\n",
              "      quickchartButtonEl.classList.add('colab-df-spinner');\n",
              "      try {\n",
              "        const charts = await google.colab.kernel.invokeFunction(\n",
              "            'suggestCharts', [key], {});\n",
              "      } catch (error) {\n",
              "        console.error('Error during call to suggestCharts:', error);\n",
              "      }\n",
              "      quickchartButtonEl.classList.remove('colab-df-spinner');\n",
              "      quickchartButtonEl.classList.add('colab-df-quickchart-complete');\n",
              "    }\n",
              "    (() => {\n",
              "      let quickchartButtonEl =\n",
              "        document.querySelector('#df-ce817fd0-c27f-4bbd-a35b-7410a2398d75 button');\n",
              "      quickchartButtonEl.style.display =\n",
              "        google.colab.kernel.accessAllowed ? 'block' : 'none';\n",
              "    })();\n",
              "  </script>\n",
              "</div>\n",
              "\n",
              "    </div>\n",
              "  </div>\n"
            ],
            "application/vnd.google.colaboratory.intrinsic+json": {
              "type": "dataframe",
              "summary": "{\n  \"name\": \"raw_dataset\",\n  \"rows\": 5,\n  \"fields\": [\n    {\n      \"column\": \"MPG\",\n      \"properties\": {\n        \"dtype\": \"number\",\n        \"std\": 6.8044103344816005,\n        \"min\": 27.0,\n        \"max\": 44.0,\n        \"num_unique_values\": 5,\n        \"samples\": [\n          44.0,\n          31.0,\n          32.0\n        ],\n        \"semantic_type\": \"\",\n        \"description\": \"\"\n      }\n    },\n    {\n      \"column\": \"Cylinders\",\n      \"properties\": {\n        \"dtype\": \"number\",\n        \"std\": 0,\n        \"min\": 4,\n        \"max\": 4,\n        \"num_unique_values\": 1,\n        \"samples\": [\n          4\n        ],\n        \"semantic_type\": \"\",\n        \"description\": \"\"\n      }\n    },\n    {\n      \"column\": \"Displacement\",\n      \"properties\": {\n        \"dtype\": \"number\",\n        \"std\": 16.813684902483452,\n        \"min\": 97.0,\n        \"max\": 140.0,\n        \"num_unique_values\": 5,\n        \"samples\": [\n          97.0\n        ],\n        \"semantic_type\": \"\",\n        \"description\": \"\"\n      }\n    },\n    {\n      \"column\": \"Horsepower\",\n      \"properties\": {\n        \"dtype\": \"number\",\n        \"std\": 13.992855319769443,\n        \"min\": 52.0,\n        \"max\": 86.0,\n        \"num_unique_values\": 5,\n        \"samples\": [\n          52.0\n        ],\n        \"semantic_type\": \"\",\n        \"description\": \"\"\n      }\n    },\n    {\n      \"column\": \"Weight\",\n      \"properties\": {\n        \"dtype\": \"number\",\n        \"std\": 285.62650437240586,\n        \"min\": 2130.0,\n        \"max\": 2790.0,\n        \"num_unique_values\": 5,\n        \"samples\": [\n          2130.0\n        ],\n        \"semantic_type\": \"\",\n        \"description\": \"\"\n      }\n    },\n    {\n      \"column\": \"Acceleration\",\n      \"properties\": {\n        \"dtype\": \"number\",\n        \"std\": 4.81123684721507,\n        \"min\": 11.6,\n        \"max\": 24.6,\n        \"num_unique_values\": 5,\n        \"samples\": [\n          24.6\n        ],\n        \"semantic_type\": \"\",\n        \"description\": \"\"\n      }\n    },\n    {\n      \"column\": \"Model Year\",\n      \"properties\": {\n        \"dtype\": \"number\",\n        \"std\": 0,\n        \"min\": 82,\n        \"max\": 82,\n        \"num_unique_values\": 1,\n        \"samples\": [\n          82\n        ],\n        \"semantic_type\": \"\",\n        \"description\": \"\"\n      }\n    },\n    {\n      \"column\": \"Origin\",\n      \"properties\": {\n        \"dtype\": \"number\",\n        \"std\": 0,\n        \"min\": 1,\n        \"max\": 2,\n        \"num_unique_values\": 2,\n        \"samples\": [\n          2\n        ],\n        \"semantic_type\": \"\",\n        \"description\": \"\"\n      }\n    }\n  ]\n}"
            }
          },
          "metadata": {},
          "execution_count": 32
        }
      ]
    },
    {
      "cell_type": "markdown",
      "source": [
        "###### **1.2. Dataset cleaning**\n",
        "\n",
        "It is necessary to remove vehicles for which data is missing, especially for horsepower."
      ],
      "metadata": {
        "id": "ywn7Fk8oAqBR"
      }
    },
    {
      "cell_type": "code",
      "source": [
        "dataset = raw_dataset.copy() # copy of the original data before modification\n",
        "dataset = dataset.dropna() # remove rows containing NaN values\n",
        "\n",
        "print(\"Summary of the dataset after data cleaning: \",\n",
        "      \"\\n\",\n",
        "      \"\\nNumber of rows in the dataset cleaned: \", len(dataset), \"/\", len(raw_dataset),\n",
        "      \"\\nNumber of missing values: \", dataset[\"Horsepower\"].isna().sum(),\n",
        "      \"/\", len(dataset)*9) # horsepower NaN values"
      ],
      "metadata": {
        "colab": {
          "base_uri": "https://localhost:8080/"
        },
        "id": "aMU8g1HcRqpT",
        "outputId": "33146b92-89a6-47fe-c2fa-a284da6135a7"
      },
      "execution_count": 33,
      "outputs": [
        {
          "output_type": "stream",
          "name": "stdout",
          "text": [
            "Summary of the dataset after data cleaning:  \n",
            " \n",
            "Number of rows in the dataset cleaned:  392 / 398 \n",
            "Number of missing values:  0 / 3528\n"
          ]
        }
      ]
    },
    {
      "cell_type": "markdown",
      "source": [
        "---\n",
        "\n",
        "\n",
        "#### **2. Sample preparation & pre-processing**"
      ],
      "metadata": {
        "id": "pZY8PoR0VWUL"
      }
    },
    {
      "cell_type": "markdown",
      "source": [
        "###### **2.1. How are training and test sets formed?**\n",
        "\n",
        "The dataset is randomly split into 2 subsets: training (80%) and test (20%) [[2]](https://arxiv.org/pdf/2202.03326). Test set is used for a finale evaluation of the model. The function `plot_data`is used to check the data distribution according to 2 variables. The first line (MPG) suggests that this parameter depends on the others."
      ],
      "metadata": {
        "id": "q844rr7iWmKz"
      }
    },
    {
      "cell_type": "code",
      "source": [
        "train_dataset = dataset.sample(frac=0.8) # randomly draws 80% of dataset\n",
        "test_dataset = dataset.drop(train_dataset.index) # removes the rows selected for the training set from dataset\n",
        "\n",
        "print(\"# of the training set:\", len(train_dataset),\n",
        "      \"\\n# of the test set:\", len(test_dataset),\n",
        "      \"\\n# of the training and test sets:\", len(train_dataset)+len(test_dataset))"
      ],
      "metadata": {
        "colab": {
          "base_uri": "https://localhost:8080/"
        },
        "id": "tGKIZUmvVbfL",
        "outputId": "3bedb9c1-478a-4a89-d4b6-a7008374a92b"
      },
      "execution_count": 34,
      "outputs": [
        {
          "output_type": "stream",
          "name": "stdout",
          "text": [
            "# of the training set: 314 \n",
            "# of the test set: 78 \n",
            "# of the training and test sets: 392\n"
          ]
        }
      ]
    },
    {
      "cell_type": "code",
      "source": [
        "def plot_data(dataset):\n",
        "  df = dataset\n",
        "  fig = Figure(data=Splom(dimensions=[dict(label='MPG', values=df['MPG']),\n",
        "                                            dict(label='Displacement', values=df['Displacement']),\n",
        "                                            dict(label='Horsepower', values=df['Horsepower']),\n",
        "                                            dict(label='Weight', values=df['Weight'])],\n",
        "                                diagonal_visible=False)) # remove plots on diagonal\n",
        "  fig.update_layout(title=\"Some representations of the dataset\", width=1000, height=600)\n",
        "  fig.show()\n",
        "\n",
        "plot_data(train_dataset)"
      ],
      "metadata": {
        "colab": {
          "base_uri": "https://localhost:8080/",
          "height": 617
        },
        "id": "_RA_xmBMbN47",
        "outputId": "71afdd9e-bc10-468a-cd4d-c7c681edd3d7"
      },
      "execution_count": 35,
      "outputs": [
        {
          "output_type": "display_data",
          "data": {
            "text/html": [
              "<html>\n",
              "<head><meta charset=\"utf-8\" /></head>\n",
              "<body>\n",
              "    <div>            <script src=\"https://cdnjs.cloudflare.com/ajax/libs/mathjax/2.7.5/MathJax.js?config=TeX-AMS-MML_SVG\"></script><script type=\"text/javascript\">if (window.MathJax && window.MathJax.Hub && window.MathJax.Hub.Config) {window.MathJax.Hub.Config({SVG: {font: \"STIX-Web\"}});}</script>                <script type=\"text/javascript\">window.PlotlyConfig = {MathJaxConfig: 'local'};</script>\n",
              "        <script charset=\"utf-8\" src=\"https://cdn.plot.ly/plotly-2.35.2.min.js\"></script>                <div id=\"689bbeb8-9fc6-490a-b380-dee87355ced6\" class=\"plotly-graph-div\" style=\"height:600px; width:1000px;\"></div>            <script type=\"text/javascript\">                                    window.PLOTLYENV=window.PLOTLYENV || {};                                    if (document.getElementById(\"689bbeb8-9fc6-490a-b380-dee87355ced6\")) {                    Plotly.newPlot(                        \"689bbeb8-9fc6-490a-b380-dee87355ced6\",                        [{\"diagonal\":{\"visible\":false},\"dimensions\":[{\"label\":\"MPG\",\"values\":[16.0,25.5,26.6,34.1,20.0,11.0,17.0,25.0,20.0,23.0,23.0,24.0,14.0,17.0,38.0,16.0,15.0,16.0,32.0,20.5,19.0,28.0,30.7,26.6,13.0,12.0,25.1,35.0,17.5,14.0,26.8,26.0,27.4,16.0,10.0,20.0,37.0,17.5,21.0,22.0,44.0,19.2,21.5,26.0,19.8,34.0,19.0,24.0,14.0,19.2,30.0,30.0,15.0,13.0,36.1,21.0,19.0,29.0,35.1,32.2,36.0,19.0,21.6,32.8,28.0,20.6,37.0,13.0,18.6,15.0,27.2,39.1,24.0,14.0,29.0,10.0,39.0,25.5,25.0,14.0,19.0,15.0,22.0,27.0,17.0,23.0,12.0,33.0,20.2,27.2,41.5,16.0,32.0,14.5,33.7,24.0,26.0,23.8,27.5,31.9,19.0,16.2,14.0,11.0,29.0,18.0,29.5,27.0,24.3,29.0,18.0,27.0,30.0,14.0,16.9,16.0,18.2,13.0,21.1,25.0,29.5,36.0,17.5,13.0,16.0,31.5,30.0,37.3,14.0,31.3,23.7,25.0,15.0,22.0,15.5,25.0,26.0,27.9,26.0,38.0,19.1,21.0,32.9,22.3,31.6,23.0,27.0,32.0,24.2,40.8,34.1,15.0,14.0,15.0,11.0,23.0,18.0,44.3,15.5,24.5,17.7,28.0,36.1,26.0,23.9,20.3,25.0,20.5,19.0,23.0,32.0,21.0,24.0,26.0,28.4,24.0,18.0,32.3,25.0,38.0,27.0,18.0,31.0,27.0,33.0,17.6,13.0,19.4,37.7,16.5,17.5,20.2,34.5,44.6,20.0,25.8,20.6,16.5,25.0,33.5,28.0,28.0,34.2,22.0,14.0,21.5,21.0,15.0,31.5,26.4,29.0,37.2,20.0,14.0,21.0,19.0,29.8,38.0,30.5,21.0,36.4,22.5,23.2,28.0,15.5,17.0,22.4,19.9,16.0,13.0,34.7,14.0,17.0,28.1,25.4,22.0,19.0,24.0,13.0,18.1,17.0,20.2,14.0,28.0,28.0,12.0,14.0,15.0,18.0,18.0,29.0,19.0,16.0,18.0,22.0,31.0,22.0,18.0,13.0,37.0,35.0,22.0,34.4,13.0,18.0,23.0,20.5,38.1,15.0,28.0,13.0,15.0,39.4,13.0,15.0,34.0,26.0,23.9,23.0,16.0,26.0,15.0,27.0,29.0,30.0,30.5,23.5,15.0,26.0,33.5,15.0,15.5,12.0,17.5,17.6,31.0,33.5,18.5,13.0,20.0,23.0,18.0,12.0,24.0,35.7,24.0,24.0,20.0,14.0,18.5,32.7,24.5,11.0,14.0]},{\"label\":\"Displacement\",\"values\":[258.0,122.0,350.0,91.0,114.0,318.0,163.0,104.0,140.0,122.0,140.0,107.0,351.0,305.0,105.0,400.0,350.0,400.0,71.0,231.0,121.0,97.0,145.0,151.0,350.0,400.0,140.0,72.0,250.0,318.0,173.0,79.0,121.0,250.0,307.0,97.0,91.0,318.0,199.0,232.0,97.0,305.0,80.0,97.0,200.0,112.0,250.0,116.0,455.0,231.0,97.0,111.0,350.0,302.0,98.0,155.0,70.0,135.0,81.0,108.0,120.0,156.0,121.0,78.0,107.0,231.0,119.0,440.0,225.0,250.0,119.0,79.0,200.0,351.0,90.0,360.0,86.0,140.0,116.0,455.0,120.0,390.0,140.0,112.0,250.0,120.0,455.0,91.0,200.0,135.0,98.0,250.0,135.0,351.0,107.0,113.0,91.0,151.0,134.0,89.0,232.0,163.0,350.0,429.0,68.0,232.0,98.0,151.0,151.0,85.0,250.0,140.0,135.0,318.0,350.0,351.0,318.0,318.0,134.0,181.0,97.0,107.0,258.0,360.0,304.0,89.0,88.0,91.0,340.0,120.0,70.0,97.5,302.0,225.0,318.0,113.0,98.0,156.0,97.0,91.0,225.0,122.0,119.0,140.0,120.0,198.0,151.0,91.0,146.0,85.0,86.0,350.0,302.0,250.0,350.0,140.0,307.0,90.0,351.0,98.0,231.0,116.0,91.0,96.0,260.0,131.0,90.0,200.0,232.0,120.0,144.0,231.0,134.0,122.0,151.0,90.0,225.0,97.0,121.0,91.0,97.0,232.0,79.0,101.0,105.0,302.0,350.0,232.0,89.0,350.0,305.0,200.0,105.0,91.0,198.0,156.0,225.0,351.0,140.0,98.0,151.0,98.0,105.0,121.0,440.0,121.0,200.0,318.0,98.0,140.0,90.0,86.0,262.0,454.0,140.0,225.0,134.0,262.0,97.0,120.0,121.0,232.0,156.0,97.0,400.0,260.0,231.0,260.0,250.0,351.0,105.0,304.0,231.0,141.0,168.0,198.0,122.0,140.0,350.0,258.0,302.0,302.0,304.0,90.0,120.0,429.0,400.0,318.0,250.0,258.0,97.0,232.0,400.0,318.0,121.0,91.0,108.0,171.0,400.0,85.0,122.0,146.0,98.0,360.0,70.0,350.0,225.0,89.0,258.0,112.0,350.0,429.0,85.0,302.0,318.0,108.0,116.0,119.0,97.0,225.0,108.0,383.0,97.0,98.0,146.0,98.0,173.0,250.0,98.0,85.0,400.0,350.0,350.0,305.0,225.0,76.0,151.0,360.0,318.0,232.0,115.0,250.0,383.0,113.0,98.0,121.0,119.0,225.0,400.0,250.0,168.0,151.0,400.0,318.0]},{\"label\":\"Horsepower\",\"values\":[110.0,96.0,105.0,68.0,91.0,210.0,125.0,95.0,90.0,86.0,78.0,90.0,153.0,130.0,63.0,180.0,145.0,230.0,65.0,105.0,112.0,92.0,76.0,84.0,155.0,167.0,88.0,69.0,110.0,150.0,115.0,67.0,80.0,100.0,200.0,88.0,68.0,140.0,90.0,112.0,52.0,145.0,110.0,78.0,85.0,88.0,100.0,75.0,225.0,105.0,67.0,80.0,145.0,140.0,66.0,107.0,97.0,84.0,60.0,75.0,88.0,108.0,115.0,52.0,86.0,105.0,92.0,215.0,110.0,72.0,97.0,58.0,81.0,153.0,70.0,215.0,64.0,89.0,81.0,225.0,88.0,190.0,72.0,88.0,100.0,88.0,225.0,53.0,88.0,84.0,76.0,105.0,84.0,152.0,75.0,95.0,70.0,85.0,95.0,71.0,90.0,133.0,165.0,208.0,49.0,100.0,68.0,90.0,90.0,52.0,88.0,86.0,84.0,150.0,155.0,149.0,135.0,150.0,95.0,110.0,71.0,75.0,95.0,175.0,150.0,71.0,76.0,69.0,160.0,75.0,100.0,80.0,130.0,100.0,145.0,95.0,79.0,105.0,46.0,67.0,90.0,86.0,100.0,88.0,74.0,95.0,90.0,67.0,120.0,65.0,65.0,165.0,140.0,72.0,180.0,83.0,130.0,48.0,142.0,60.0,165.0,90.0,60.0,69.0,90.0,103.0,71.0,95.0,100.0,97.0,96.0,110.0,96.0,80.0,90.0,75.0,95.0,67.0,115.0,67.0,88.0,100.0,67.0,83.0,74.0,129.0,145.0,90.0,62.0,180.0,140.0,85.0,70.0,67.0,95.0,92.0,110.0,138.0,75.0,83.0,90.0,80.0,70.0,98.0,215.0,110.0,85.0,150.0,68.0,88.0,70.0,65.0,110.0,220.0,72.0,100.0,90.0,85.0,78.0,87.0,67.0,90.0,105.0,75.0,190.0,110.0,110.0,110.0,100.0,158.0,63.0,150.0,110.0,80.0,116.0,95.0,85.0,92.0,175.0,120.0,140.0,139.0,150.0,75.0,79.0,198.0,175.0,150.0,88.0,110.0,78.0,100.0,170.0,150.0,76.0,68.0,94.0,97.0,175.0,65.0,88.0,97.0,65.0,170.0,90.0,125.0,100.0,60.0,110.0,88.0,145.0,198.0,70.0,129.0,150.0,70.0,75.0,97.0,54.0,105.0,93.0,170.0,60.0,83.0,67.0,63.0,110.0,100.0,90.0,70.0,150.0,170.0,180.0,145.0,85.0,52.0,90.0,150.0,150.0,100.0,95.0,105.0,180.0,95.0,80.0,110.0,97.0,100.0,175.0,98.0,132.0,88.0,150.0,150.0]},{\"label\":\"Weight\",\"values\":[3632.0,2300.0,3725.0,1985.0,2582.0,4382.0,3140.0,2375.0,2408.0,2220.0,2592.0,2430.0,4154.0,3840.0,2125.0,4220.0,4440.0,4278.0,1836.0,3425.0,2868.0,2288.0,3160.0,2635.0,4502.0,4906.0,2720.0,1613.0,3520.0,4457.0,2700.0,1963.0,2670.0,3278.0,4376.0,2279.0,2025.0,4080.0,2648.0,2835.0,2130.0,3425.0,2720.0,2300.0,2990.0,2395.0,3282.0,2158.0,4425.0,3535.0,1985.0,2155.0,4082.0,4294.0,1800.0,2472.0,2330.0,2525.0,1760.0,2265.0,2160.0,2930.0,2795.0,1985.0,2464.0,3380.0,2434.0,4735.0,3620.0,3432.0,2300.0,1755.0,3012.0,4129.0,1937.0,4615.0,1875.0,2755.0,2220.0,3086.0,3270.0,3850.0,2408.0,2640.0,3329.0,2957.0,4951.0,1795.0,3060.0,2490.0,2144.0,3897.0,2295.0,4215.0,2210.0,2278.0,1955.0,2855.0,2560.0,1925.0,3211.0,3410.0,4209.0,4633.0,1867.0,2789.0,2135.0,2735.0,3003.0,2035.0,3139.0,2790.0,2385.0,4096.0,4360.0,4335.0,3830.0,3940.0,2515.0,2945.0,1825.0,2205.0,3193.0,3821.0,3433.0,1990.0,2065.0,2130.0,3609.0,2542.0,2420.0,2126.0,4295.0,3233.0,4140.0,2228.0,2255.0,2800.0,1950.0,1995.0,3381.0,2226.0,2615.0,2890.0,2635.0,2904.0,2950.0,1965.0,2930.0,2110.0,1975.0,3693.0,4638.0,3158.0,3664.0,2639.0,3504.0,2085.0,4054.0,2164.0,3445.0,2123.0,1800.0,2189.0,3420.0,2830.0,2223.0,3155.0,2901.0,2506.0,2665.0,3039.0,2702.0,2451.0,2670.0,2108.0,3785.0,2065.0,2671.0,1965.0,2100.0,3288.0,1950.0,2202.0,2190.0,3725.0,3988.0,3210.0,2050.0,4380.0,4215.0,2965.0,2150.0,1850.0,3102.0,2620.0,3360.0,3955.0,2542.0,2075.0,2678.0,2164.0,2200.0,2945.0,4312.0,2600.0,2587.0,3399.0,2045.0,2870.0,1937.0,2019.0,3221.0,4354.0,2401.0,3630.0,2711.0,3015.0,2190.0,2979.0,2950.0,3085.0,2745.0,2155.0,4325.0,4060.0,3415.0,3365.0,3781.0,4363.0,2215.0,4257.0,3907.0,3230.0,2900.0,2833.0,2310.0,2865.0,4100.0,3410.0,3449.0,3570.0,3672.0,2125.0,2625.0,4952.0,4464.0,3777.0,3021.0,2962.0,1940.0,2634.0,4668.0,3436.0,2511.0,1970.0,2379.0,2984.0,5140.0,1975.0,2500.0,2815.0,2045.0,4654.0,2124.0,3900.0,3430.0,1968.0,3730.0,2605.0,4055.0,4341.0,2070.0,3169.0,4135.0,2245.0,2246.0,2405.0,2254.0,3439.0,2391.0,3563.0,1834.0,2219.0,3250.0,2051.0,2725.0,3336.0,2265.0,1945.0,3761.0,4165.0,4499.0,3880.0,3465.0,1649.0,2556.0,3940.0,3755.0,2914.0,2694.0,3459.0,4955.0,2372.0,1915.0,2660.0,2545.0,3651.0,4385.0,3525.0,2910.0,2740.0,4997.0,4077.0]}],\"type\":\"splom\"}],                        {\"template\":{\"data\":{\"histogram2dcontour\":[{\"type\":\"histogram2dcontour\",\"colorbar\":{\"outlinewidth\":0,\"ticks\":\"\"},\"colorscale\":[[0.0,\"#0d0887\"],[0.1111111111111111,\"#46039f\"],[0.2222222222222222,\"#7201a8\"],[0.3333333333333333,\"#9c179e\"],[0.4444444444444444,\"#bd3786\"],[0.5555555555555556,\"#d8576b\"],[0.6666666666666666,\"#ed7953\"],[0.7777777777777778,\"#fb9f3a\"],[0.8888888888888888,\"#fdca26\"],[1.0,\"#f0f921\"]]}],\"choropleth\":[{\"type\":\"choropleth\",\"colorbar\":{\"outlinewidth\":0,\"ticks\":\"\"}}],\"histogram2d\":[{\"type\":\"histogram2d\",\"colorbar\":{\"outlinewidth\":0,\"ticks\":\"\"},\"colorscale\":[[0.0,\"#0d0887\"],[0.1111111111111111,\"#46039f\"],[0.2222222222222222,\"#7201a8\"],[0.3333333333333333,\"#9c179e\"],[0.4444444444444444,\"#bd3786\"],[0.5555555555555556,\"#d8576b\"],[0.6666666666666666,\"#ed7953\"],[0.7777777777777778,\"#fb9f3a\"],[0.8888888888888888,\"#fdca26\"],[1.0,\"#f0f921\"]]}],\"heatmap\":[{\"type\":\"heatmap\",\"colorbar\":{\"outlinewidth\":0,\"ticks\":\"\"},\"colorscale\":[[0.0,\"#0d0887\"],[0.1111111111111111,\"#46039f\"],[0.2222222222222222,\"#7201a8\"],[0.3333333333333333,\"#9c179e\"],[0.4444444444444444,\"#bd3786\"],[0.5555555555555556,\"#d8576b\"],[0.6666666666666666,\"#ed7953\"],[0.7777777777777778,\"#fb9f3a\"],[0.8888888888888888,\"#fdca26\"],[1.0,\"#f0f921\"]]}],\"heatmapgl\":[{\"type\":\"heatmapgl\",\"colorbar\":{\"outlinewidth\":0,\"ticks\":\"\"},\"colorscale\":[[0.0,\"#0d0887\"],[0.1111111111111111,\"#46039f\"],[0.2222222222222222,\"#7201a8\"],[0.3333333333333333,\"#9c179e\"],[0.4444444444444444,\"#bd3786\"],[0.5555555555555556,\"#d8576b\"],[0.6666666666666666,\"#ed7953\"],[0.7777777777777778,\"#fb9f3a\"],[0.8888888888888888,\"#fdca26\"],[1.0,\"#f0f921\"]]}],\"contourcarpet\":[{\"type\":\"contourcarpet\",\"colorbar\":{\"outlinewidth\":0,\"ticks\":\"\"}}],\"contour\":[{\"type\":\"contour\",\"colorbar\":{\"outlinewidth\":0,\"ticks\":\"\"},\"colorscale\":[[0.0,\"#0d0887\"],[0.1111111111111111,\"#46039f\"],[0.2222222222222222,\"#7201a8\"],[0.3333333333333333,\"#9c179e\"],[0.4444444444444444,\"#bd3786\"],[0.5555555555555556,\"#d8576b\"],[0.6666666666666666,\"#ed7953\"],[0.7777777777777778,\"#fb9f3a\"],[0.8888888888888888,\"#fdca26\"],[1.0,\"#f0f921\"]]}],\"surface\":[{\"type\":\"surface\",\"colorbar\":{\"outlinewidth\":0,\"ticks\":\"\"},\"colorscale\":[[0.0,\"#0d0887\"],[0.1111111111111111,\"#46039f\"],[0.2222222222222222,\"#7201a8\"],[0.3333333333333333,\"#9c179e\"],[0.4444444444444444,\"#bd3786\"],[0.5555555555555556,\"#d8576b\"],[0.6666666666666666,\"#ed7953\"],[0.7777777777777778,\"#fb9f3a\"],[0.8888888888888888,\"#fdca26\"],[1.0,\"#f0f921\"]]}],\"mesh3d\":[{\"type\":\"mesh3d\",\"colorbar\":{\"outlinewidth\":0,\"ticks\":\"\"}}],\"scatter\":[{\"fillpattern\":{\"fillmode\":\"overlay\",\"size\":10,\"solidity\":0.2},\"type\":\"scatter\"}],\"parcoords\":[{\"type\":\"parcoords\",\"line\":{\"colorbar\":{\"outlinewidth\":0,\"ticks\":\"\"}}}],\"scatterpolargl\":[{\"type\":\"scatterpolargl\",\"marker\":{\"colorbar\":{\"outlinewidth\":0,\"ticks\":\"\"}}}],\"bar\":[{\"error_x\":{\"color\":\"#2a3f5f\"},\"error_y\":{\"color\":\"#2a3f5f\"},\"marker\":{\"line\":{\"color\":\"#E5ECF6\",\"width\":0.5},\"pattern\":{\"fillmode\":\"overlay\",\"size\":10,\"solidity\":0.2}},\"type\":\"bar\"}],\"scattergeo\":[{\"type\":\"scattergeo\",\"marker\":{\"colorbar\":{\"outlinewidth\":0,\"ticks\":\"\"}}}],\"scatterpolar\":[{\"type\":\"scatterpolar\",\"marker\":{\"colorbar\":{\"outlinewidth\":0,\"ticks\":\"\"}}}],\"histogram\":[{\"marker\":{\"pattern\":{\"fillmode\":\"overlay\",\"size\":10,\"solidity\":0.2}},\"type\":\"histogram\"}],\"scattergl\":[{\"type\":\"scattergl\",\"marker\":{\"colorbar\":{\"outlinewidth\":0,\"ticks\":\"\"}}}],\"scatter3d\":[{\"type\":\"scatter3d\",\"line\":{\"colorbar\":{\"outlinewidth\":0,\"ticks\":\"\"}},\"marker\":{\"colorbar\":{\"outlinewidth\":0,\"ticks\":\"\"}}}],\"scattermapbox\":[{\"type\":\"scattermapbox\",\"marker\":{\"colorbar\":{\"outlinewidth\":0,\"ticks\":\"\"}}}],\"scatterternary\":[{\"type\":\"scatterternary\",\"marker\":{\"colorbar\":{\"outlinewidth\":0,\"ticks\":\"\"}}}],\"scattercarpet\":[{\"type\":\"scattercarpet\",\"marker\":{\"colorbar\":{\"outlinewidth\":0,\"ticks\":\"\"}}}],\"carpet\":[{\"aaxis\":{\"endlinecolor\":\"#2a3f5f\",\"gridcolor\":\"white\",\"linecolor\":\"white\",\"minorgridcolor\":\"white\",\"startlinecolor\":\"#2a3f5f\"},\"baxis\":{\"endlinecolor\":\"#2a3f5f\",\"gridcolor\":\"white\",\"linecolor\":\"white\",\"minorgridcolor\":\"white\",\"startlinecolor\":\"#2a3f5f\"},\"type\":\"carpet\"}],\"table\":[{\"cells\":{\"fill\":{\"color\":\"#EBF0F8\"},\"line\":{\"color\":\"white\"}},\"header\":{\"fill\":{\"color\":\"#C8D4E3\"},\"line\":{\"color\":\"white\"}},\"type\":\"table\"}],\"barpolar\":[{\"marker\":{\"line\":{\"color\":\"#E5ECF6\",\"width\":0.5},\"pattern\":{\"fillmode\":\"overlay\",\"size\":10,\"solidity\":0.2}},\"type\":\"barpolar\"}],\"pie\":[{\"automargin\":true,\"type\":\"pie\"}]},\"layout\":{\"autotypenumbers\":\"strict\",\"colorway\":[\"#636efa\",\"#EF553B\",\"#00cc96\",\"#ab63fa\",\"#FFA15A\",\"#19d3f3\",\"#FF6692\",\"#B6E880\",\"#FF97FF\",\"#FECB52\"],\"font\":{\"color\":\"#2a3f5f\"},\"hovermode\":\"closest\",\"hoverlabel\":{\"align\":\"left\"},\"paper_bgcolor\":\"white\",\"plot_bgcolor\":\"#E5ECF6\",\"polar\":{\"bgcolor\":\"#E5ECF6\",\"angularaxis\":{\"gridcolor\":\"white\",\"linecolor\":\"white\",\"ticks\":\"\"},\"radialaxis\":{\"gridcolor\":\"white\",\"linecolor\":\"white\",\"ticks\":\"\"}},\"ternary\":{\"bgcolor\":\"#E5ECF6\",\"aaxis\":{\"gridcolor\":\"white\",\"linecolor\":\"white\",\"ticks\":\"\"},\"baxis\":{\"gridcolor\":\"white\",\"linecolor\":\"white\",\"ticks\":\"\"},\"caxis\":{\"gridcolor\":\"white\",\"linecolor\":\"white\",\"ticks\":\"\"}},\"coloraxis\":{\"colorbar\":{\"outlinewidth\":0,\"ticks\":\"\"}},\"colorscale\":{\"sequential\":[[0.0,\"#0d0887\"],[0.1111111111111111,\"#46039f\"],[0.2222222222222222,\"#7201a8\"],[0.3333333333333333,\"#9c179e\"],[0.4444444444444444,\"#bd3786\"],[0.5555555555555556,\"#d8576b\"],[0.6666666666666666,\"#ed7953\"],[0.7777777777777778,\"#fb9f3a\"],[0.8888888888888888,\"#fdca26\"],[1.0,\"#f0f921\"]],\"sequentialminus\":[[0.0,\"#0d0887\"],[0.1111111111111111,\"#46039f\"],[0.2222222222222222,\"#7201a8\"],[0.3333333333333333,\"#9c179e\"],[0.4444444444444444,\"#bd3786\"],[0.5555555555555556,\"#d8576b\"],[0.6666666666666666,\"#ed7953\"],[0.7777777777777778,\"#fb9f3a\"],[0.8888888888888888,\"#fdca26\"],[1.0,\"#f0f921\"]],\"diverging\":[[0,\"#8e0152\"],[0.1,\"#c51b7d\"],[0.2,\"#de77ae\"],[0.3,\"#f1b6da\"],[0.4,\"#fde0ef\"],[0.5,\"#f7f7f7\"],[0.6,\"#e6f5d0\"],[0.7,\"#b8e186\"],[0.8,\"#7fbc41\"],[0.9,\"#4d9221\"],[1,\"#276419\"]]},\"xaxis\":{\"gridcolor\":\"white\",\"linecolor\":\"white\",\"ticks\":\"\",\"title\":{\"standoff\":15},\"zerolinecolor\":\"white\",\"automargin\":true,\"zerolinewidth\":2},\"yaxis\":{\"gridcolor\":\"white\",\"linecolor\":\"white\",\"ticks\":\"\",\"title\":{\"standoff\":15},\"zerolinecolor\":\"white\",\"automargin\":true,\"zerolinewidth\":2},\"scene\":{\"xaxis\":{\"backgroundcolor\":\"#E5ECF6\",\"gridcolor\":\"white\",\"linecolor\":\"white\",\"showbackground\":true,\"ticks\":\"\",\"zerolinecolor\":\"white\",\"gridwidth\":2},\"yaxis\":{\"backgroundcolor\":\"#E5ECF6\",\"gridcolor\":\"white\",\"linecolor\":\"white\",\"showbackground\":true,\"ticks\":\"\",\"zerolinecolor\":\"white\",\"gridwidth\":2},\"zaxis\":{\"backgroundcolor\":\"#E5ECF6\",\"gridcolor\":\"white\",\"linecolor\":\"white\",\"showbackground\":true,\"ticks\":\"\",\"zerolinecolor\":\"white\",\"gridwidth\":2}},\"shapedefaults\":{\"line\":{\"color\":\"#2a3f5f\"}},\"annotationdefaults\":{\"arrowcolor\":\"#2a3f5f\",\"arrowhead\":0,\"arrowwidth\":1},\"geo\":{\"bgcolor\":\"white\",\"landcolor\":\"#E5ECF6\",\"subunitcolor\":\"white\",\"showland\":true,\"showlakes\":true,\"lakecolor\":\"white\"},\"title\":{\"x\":0.05},\"mapbox\":{\"style\":\"light\"}}},\"title\":{\"text\":\"Some representations of the dataset\"},\"width\":1000,\"height\":600},                        {\"responsive\": true}                    ).then(function(){\n",
              "                            \n",
              "var gd = document.getElementById('689bbeb8-9fc6-490a-b380-dee87355ced6');\n",
              "var x = new MutationObserver(function (mutations, observer) {{\n",
              "        var display = window.getComputedStyle(gd).display;\n",
              "        if (!display || display === 'none') {{\n",
              "            console.log([gd, 'removed!']);\n",
              "            Plotly.purge(gd);\n",
              "            observer.disconnect();\n",
              "        }}\n",
              "}});\n",
              "\n",
              "// Listen for the removal of the full notebook cells\n",
              "var notebookContainer = gd.closest('#notebook-container');\n",
              "if (notebookContainer) {{\n",
              "    x.observe(notebookContainer, {childList: true});\n",
              "}}\n",
              "\n",
              "// Listen for the clearing of the current output cell\n",
              "var outputEl = gd.closest('.output');\n",
              "if (outputEl) {{\n",
              "    x.observe(outputEl, {childList: true});\n",
              "}}\n",
              "\n",
              "                        })                };                            </script>        </div>\n",
              "</body>\n",
              "</html>"
            ]
          },
          "metadata": {}
        }
      ]
    },
    {
      "cell_type": "markdown",
      "source": [
        "###### **2.2. Training set handling**\n",
        "\n",
        "The next step is to arrange the label variables (those to be predicted) and the feature variables (those to be used for prediction). In this case, the fuel efficiency `MPG` is the label and the other data are the features."
      ],
      "metadata": {
        "id": "pgqCqFGj323h"
      }
    },
    {
      "cell_type": "code",
      "source": [
        "train_features, test_features = train_dataset.copy(), test_dataset.copy()\n",
        "train_labels, test_labels = train_features.pop('MPG'), test_features.pop('MPG')"
      ],
      "metadata": {
        "id": "7MiCcr6o-v8o"
      },
      "execution_count": 36,
      "outputs": []
    },
    {
      "cell_type": "markdown",
      "source": [
        "###### **2.3. Normalization step**\n",
        "\n",
        "The dataset is composed of quantities with different ranges and units. A good practice is to normalize the features so that the scale of the outputs and the scale of the gradients are not affected by the scale of the inputs. Models converge more stably with normalized features.\n",
        "\n",
        "For the following part of the script, the engine horsepower parameter `Horsepower` is used to predict the fuel efficiency of a vehicle. The variable `Horsepower` is kept in the dataset `train_features`. The mean value and standard deviation of this distribution are computed for the normalization layer. Since only one value is needed to predict an output, the input size `input_shape` is set to 1.\n"
      ],
      "metadata": {
        "id": "3FjdtVUpbhSW"
      }
    },
    {
      "cell_type": "code",
      "source": [
        "horsepower = array(train_features['Horsepower'])\n",
        "horsepower_normalizer = keras.layers.Normalization(input_shape=(1,), axis=None)\n",
        "horsepower_normalizer.adapt(horsepower) # fit to the data to compute the mean and standard deviation"
      ],
      "metadata": {
        "id": "Zf8YhKuU-3MX",
        "colab": {
          "base_uri": "https://localhost:8080/"
        },
        "outputId": "7d95467f-53ce-4db0-d433-c255717a49de"
      },
      "execution_count": 37,
      "outputs": [
        {
          "output_type": "stream",
          "name": "stderr",
          "text": [
            "/usr/local/lib/python3.10/dist-packages/keras/src/layers/preprocessing/tf_data_layer.py:19: UserWarning:\n",
            "\n",
            "Do not pass an `input_shape`/`input_dim` argument to a layer. When using Sequential models, prefer using an `Input(shape)` object as the first layer in the model instead.\n",
            "\n"
          ]
        }
      ]
    },
    {
      "cell_type": "code",
      "source": [
        "def show_evolution(history):\n",
        "  history_dict = history.history\n",
        "  history_dict.keys()\n",
        "\n",
        "  fig = Figure()\n",
        "\n",
        "  acc_train, acc_val = history_dict['loss'], history_dict['val_loss']\n",
        "  epochs = array(range(1, len(acc_train) + 1))\n",
        "\n",
        "  fig.add_trace(Scatter(x=epochs, y=acc_train, mode='lines', name='loss'))\n",
        "  fig.add_trace(Scatter(x=epochs, y=acc_val, mode='lines', name='val_loss'))\n",
        "  fig.update_layout(legend=dict(x=0.02, y=0.98, xanchor='left', yanchor='top', bgcolor='rgba(255, 255, 255, 0.8)', bordercolor='black', borderwidth=1),\n",
        "                    width=500, height=500)\n",
        "  fig.update_xaxes(title = \"epochs\"), fig.update_yaxes(title = \"loss\")\n",
        "\n",
        "  fig.show()"
      ],
      "metadata": {
        "id": "2fy1PBxURS2Q"
      },
      "execution_count": 38,
      "outputs": []
    },
    {
      "cell_type": "markdown",
      "source": [
        "---\n",
        "\n",
        "\n",
        "#### **3. Linear regression model (L-model)**\n",
        "\n",
        "First model: a single-variable linear regression model to predict `MPG` from `Horsepower`. For this, two steps are done in this model:\n",
        "*   The feature `Horsepower` is normalized by using a specific preprocessing layer `norm` (then replaced by the one defined above).\n",
        "*   A linear transformation `y = ax + b` is applied with the layer `Dense` to produce 1 output.\n",
        "\n"
      ],
      "metadata": {
        "id": "2Sxygb4SXUEl"
      }
    },
    {
      "cell_type": "code",
      "source": [
        "def create_linear_model(norm):\n",
        "  model = keras.Sequential([norm, keras.layers.Dense(units=1)])\n",
        "  model.compile(optimizer=optimizers.Adam(learning_rate=0.1), loss='mean_absolute_error')\n",
        "  return model"
      ],
      "metadata": {
        "id": "_unS_mDqZkBk"
      },
      "execution_count": 39,
      "outputs": []
    },
    {
      "cell_type": "code",
      "source": [
        "linear_model = create_linear_model(horsepower_normalizer)\n",
        "\n",
        "if training_phase == 'Yes':\n",
        "  checkpoint_path = \"03_regression_Lmodel.weights.h5\"\n",
        "  cp_callback = keras.callbacks.ModelCheckpoint(filepath=checkpoint_path, save_weights_only=True, verbose=0)\n",
        "  computation_time = {}\n",
        "  t0 = thread_time()\n",
        "  history = linear_model.fit(train_features['Horsepower'], train_labels, epochs=50, verbose=0, validation_split = 0.2, callbacks=[cp_callback])\n",
        "  t1 = thread_time()\n",
        "  computation_time['L-model'] = t1-t0 # save the computation time\n",
        "  show_evolution(history)\n",
        "else:\n",
        "  !git clone https://github.com/Benjamin-morel/TensorFlow.git # go to the Github repertory TensorFlow and clone it\n",
        "  linear_model.fit(train_features['Horsepower'], train_labels, epochs=1, validation_split=0.2, verbose=0) # initialize the model before importing weights\n",
        "  linear_model.load_weights(\"TensorFlow/03_regression_Lmodel.weights.h5\") # import weights from the cloned repertory"
      ],
      "metadata": {
        "id": "Ef_uqoli_HEe",
        "colab": {
          "base_uri": "https://localhost:8080/"
        },
        "outputId": "5024295e-755c-4618-b353-4a077940b7c8"
      },
      "execution_count": 40,
      "outputs": [
        {
          "output_type": "stream",
          "name": "stdout",
          "text": [
            "fatal: destination path 'TensorFlow' already exists and is not an empty directory.\n"
          ]
        }
      ]
    },
    {
      "cell_type": "code",
      "source": [
        "if training_phase == \"Yes\":\n",
        "  test_results = {}\n",
        "  test_results['L-model'] = linear_model.evaluate(test_features['Horsepower'], test_labels, verbose=0) # save the loss value for the test set"
      ],
      "metadata": {
        "id": "PD8KTQ6y_OT2"
      },
      "execution_count": 41,
      "outputs": []
    },
    {
      "cell_type": "markdown",
      "source": [
        "---\n",
        "\n",
        "\n",
        "#### **4. Multiple inputs linear regression model (nL-model)**\n",
        "\n",
        "Second model: a 8-variables linear regression model to predict `MPG` from `train_features`. For this, two steps are done in this model:\n",
        "*   The features `train_features` are normalized by using a specific preprocessing layer `norm`\n",
        "*   A linear transformation `y = Mx + v` is applied with the layer `Dense` to produce 1 output"
      ],
      "metadata": {
        "id": "HfzcZwNwHLUw"
      }
    },
    {
      "cell_type": "code",
      "source": [
        "normalizer_multiple = keras.layers.Normalization(axis=-1)\n",
        "normalizer_multiple.adapt(array(train_features))"
      ],
      "metadata": {
        "id": "FfIsf_BsH3h9"
      },
      "execution_count": 42,
      "outputs": []
    },
    {
      "cell_type": "code",
      "source": [
        "multiple_linear_model = create_linear_model(normalizer_multiple)\n",
        "if training_phase == \"Yes\":\n",
        "  checkpoint_path = \"03_regression_nLmodel.weights.h5\"\n",
        "  cp_callback = keras.callbacks.ModelCheckpoint(filepath=checkpoint_path, save_weights_only=True, verbose=0)\n",
        "  t0 = thread_time()\n",
        "  history = multiple_linear_model.fit(train_features, train_labels, epochs=50, verbose=0, validation_split = 0.2, callbacks=[cp_callback])\n",
        "  t1 = thread_time()\n",
        "  computation_time['nL-model'] = t1-t0\n",
        "  test_results['nL-model'] = multiple_linear_model.evaluate(test_features, test_labels, verbose=0) # save the loss value for the test set\n",
        "  show_evolution(history)\n",
        "else:\n",
        "  multiple_linear_model.fit(train_features, train_labels, epochs=1, validation_split=0.2, verbose=0)\n",
        "  multiple_linear_model.load_weights(\"TensorFlow/03_regression_nLmodel.weights.h5\")"
      ],
      "metadata": {
        "id": "yrAa6_D8IIu1"
      },
      "execution_count": 43,
      "outputs": []
    },
    {
      "cell_type": "markdown",
      "source": [
        "---\n",
        "\n",
        "\n",
        "#### **5. Deep Neural Network model (DNN-model)**\n",
        "\n",
        "Third model: a deep network regression model to predict `MPG` from `Horsepower`. The model is composed of one pre-processing layer, 2 deep layers and one output layer:\n",
        "* The pre-processing layer `norm`\n",
        "* Two deep layers `Dense` with the non-linear function `ReLu` as activation function\n",
        "* One output layer `Dense` to compute an unique output\n"
      ],
      "metadata": {
        "id": "CZwQHnjIBtpc"
      }
    },
    {
      "cell_type": "code",
      "source": [
        "def DNN_model(norm):\n",
        "  model = keras.Sequential([\n",
        "      norm,\n",
        "      keras.layers.Dense(64, activation='relu'),\n",
        "      keras.layers.Dense(64, activation='relu'),\n",
        "      keras.layers.Dense(1)])\n",
        "\n",
        "  model.compile(loss='mean_absolute_error', optimizer=keras.optimizers.Adam(0.001))\n",
        "  return model"
      ],
      "metadata": {
        "id": "JejOC9uXeDXY"
      },
      "execution_count": 44,
      "outputs": []
    },
    {
      "cell_type": "code",
      "source": [
        "dnn_model = DNN_model(horsepower_normalizer)\n",
        "if training_phase == \"Yes\":\n",
        "  checkpoint_path = \"03_regression_DNNmodel.weights.h5\"\n",
        "  cp_callback = keras.callbacks.ModelCheckpoint(filepath=checkpoint_path, save_weights_only=True, verbose=0)\n",
        "  t0 = thread_time()\n",
        "  history = dnn_model.fit(train_features['Horsepower'], train_labels, epochs=50, validation_split=0.2, verbose=0, callbacks=[cp_callback])\n",
        "  t1 = thread_time()\n",
        "  computation_time['DNN-model'] = t1-t0\n",
        "  test_results['DNN-model'] = dnn_model.evaluate(test_features['Horsepower'], test_labels, verbose=0)\n",
        "  show_evolution(history)\n",
        "else:\n",
        "  dnn_model.fit(train_features['Horsepower'], train_labels, epochs=1, validation_split=0.2, verbose=0)\n",
        "  dnn_model.load_weights(\"TensorFlow/03_regression_DNNmodel.weights.h5\")"
      ],
      "metadata": {
        "id": "u2rF44E7ABhe"
      },
      "execution_count": 45,
      "outputs": []
    },
    {
      "cell_type": "markdown",
      "source": [
        "---\n",
        "\n",
        "\n",
        "#### **6. Multiple inputs deep Neural Network model (nDNN-model)**\n",
        "\n",
        "Last model: a deep network regression model with 8 inputs to predict `MPG` from `train_features`."
      ],
      "metadata": {
        "id": "ZX8fFojDKVoS"
      }
    },
    {
      "cell_type": "code",
      "source": [
        "multiple_dnn_model = DNN_model(normalizer_multiple)\n",
        "if training_phase == \"Yes\":\n",
        "  checkpoint_path = \"03_regression_nDNNmodel.weights.h5\"\n",
        "  cp_callback = keras.callbacks.ModelCheckpoint(filepath=checkpoint_path, save_weights_only=True, verbose=0)\n",
        "  t0 = thread_time()\n",
        "  history = multiple_dnn_model.fit(train_features, train_labels, epochs=50, validation_split=0.2, verbose=0, callbacks=[cp_callback])\n",
        "  t1 = thread_time()\n",
        "  computation_time['nDNN-model'] = t1-t0\n",
        "  test_results['nDNN-model'] = multiple_dnn_model.evaluate(test_features, test_labels, verbose=0)\n",
        "  show_evolution(history)\n",
        "else:\n",
        "  multiple_dnn_model.fit(train_features, train_labels, epochs=1, validation_split=0.2, verbose=0)\n",
        "  multiple_dnn_model.load_weights(\"TensorFlow/03_regression_nDNNmodel.weights.h5\")\n",
        "  !rm -rf TensorFlow/ # delete the cloned repertory"
      ],
      "metadata": {
        "id": "ZQiIuBsZKaxk"
      },
      "execution_count": 46,
      "outputs": []
    },
    {
      "cell_type": "markdown",
      "source": [
        "---\n",
        "\n",
        "\n",
        "#### **7. Confrontation & comments**\n",
        "\n",
        "If the models have been trained, it is possible to compare the performance of each model. `nDNN_model` is the best in terms of minimizing the loss function, but also the longest in terms of computing time. Depending on performance, the function `plot_prediction` can be used to visualize predicted values as a function of true values (left graph) and error distribution (right graph)."
      ],
      "metadata": {
        "id": "wOPrGNokcalM"
      }
    },
    {
      "cell_type": "code",
      "source": [
        "if training_phase == \"Yes\":\n",
        "  performances = DataFrame([test_results, computation_time], index=['Mean absolute error [MPG]', \"Computation time [s]\"]).T\n",
        "  print(performances)"
      ],
      "metadata": {
        "id": "6xwr4-_XALPC"
      },
      "execution_count": 47,
      "outputs": []
    },
    {
      "cell_type": "code",
      "source": [
        "all_model = {'L-model': linear_model, 'nL-model': multiple_linear_model, 'DNN-model': dnn_model, 'nDNN-model':\tmultiple_dnn_model}"
      ],
      "metadata": {
        "id": "Eeeagxgwd3zp"
      },
      "execution_count": 48,
      "outputs": []
    },
    {
      "cell_type": "code",
      "source": [
        "def plot_prediction(name):\n",
        "  model = all_model[name]\n",
        "  if name == 'L-model' or name == 'DNN-model':\n",
        "    predictions = model.predict(test_features[\"Horsepower\"], verbose=0).flatten()\n",
        "  else:\n",
        "    predictions = model.predict(test_features, verbose=0).flatten()\n",
        "  fig = make_subplots(rows=1, cols=2, subplot_titles=[\"Predicted values Vs. True values\", \"Error distribution\"])\n",
        "  # Subplot 1\n",
        "  fig.add_trace(Scatter(x=test_labels, y=predictions, mode='markers', marker_color='blue', showlegend=False), row=1, col=1)\n",
        "  xaxis = linspace(min(test_labels)*0.9,max(test_labels)*1.1,50)\n",
        "  fig.add_trace(Scatter(x=xaxis, y=xaxis, mode='lines', marker_color='red', showlegend=False), row=1, col=1) # line y=x\n",
        "  # Subplot 2\n",
        "  fig.add_trace(Histogram(x=predictions - test_labels, nbinsx=25, marker_color='blue', showlegend=False), row=1, col=2)\n",
        "  fig.update_yaxes(title_text=\"Predictions [MPG]\", row=1, col=1), fig.update_yaxes(title_text=\"Count\", range=[0, 25], row=1, col=2)\n",
        "  # Layout and axis\n",
        "  fig.update_layout(title=dict(text=name), width=900, height=500)\n",
        "  fig.update_xaxes(title_text=\"True values [MPG]\", row=1, col=1), fig.update_xaxes(title_text=\"Prediction error [MPG]\", row=1, col=2)\n",
        "  fig.show()"
      ],
      "metadata": {
        "id": "LCGE_pw-vdNT"
      },
      "execution_count": 49,
      "outputs": []
    },
    {
      "cell_type": "code",
      "source": [
        "plot_prediction('L-model')"
      ],
      "metadata": {
        "id": "xmgZdKD6ypZh",
        "colab": {
          "base_uri": "https://localhost:8080/",
          "height": 517
        },
        "outputId": "22a08be7-fea4-4cc7-f0da-c5cb767e84e2"
      },
      "execution_count": 50,
      "outputs": [
        {
          "output_type": "display_data",
          "data": {
            "text/html": [
              "<html>\n",
              "<head><meta charset=\"utf-8\" /></head>\n",
              "<body>\n",
              "    <div>            <script src=\"https://cdnjs.cloudflare.com/ajax/libs/mathjax/2.7.5/MathJax.js?config=TeX-AMS-MML_SVG\"></script><script type=\"text/javascript\">if (window.MathJax && window.MathJax.Hub && window.MathJax.Hub.Config) {window.MathJax.Hub.Config({SVG: {font: \"STIX-Web\"}});}</script>                <script type=\"text/javascript\">window.PlotlyConfig = {MathJaxConfig: 'local'};</script>\n",
              "        <script charset=\"utf-8\" src=\"https://cdn.plot.ly/plotly-2.35.2.min.js\"></script>                <div id=\"9887e4d8-b3be-4e7b-a5e0-3901a49c2949\" class=\"plotly-graph-div\" style=\"height:500px; width:900px;\"></div>            <script type=\"text/javascript\">                                    window.PLOTLYENV=window.PLOTLYENV || {};                                    if (document.getElementById(\"9887e4d8-b3be-4e7b-a5e0-3901a49c2949\")) {                    Plotly.newPlot(                        \"9887e4d8-b3be-4e7b-a5e0-3901a49c2949\",                        [{\"marker\":{\"color\":\"blue\"},\"mode\":\"markers\",\"showlegend\":false,\"x\":[18.0,27.0,26.0,25.0,26.0,9.0,27.0,28.0,19.0,13.0,30.0,31.0,13.0,17.0,12.0,13.0,15.0,13.0,18.0,22.0,14.0,13.0,14.0,18.0,18.0,20.0,18.0,16.0,13.0,32.0,24.0,31.0,19.0,16.0,14.0,29.0,33.0,25.0,16.0,15.5,22.0,18.0,18.5,32.0,26.5,20.0,16.5,13.0,36.0,26.0,43.1,19.4,20.8,18.1,30.0,30.9,21.5,20.2,19.2,25.4,27.2,31.8,28.8,32.1,34.3,46.6,43.4,33.8,29.8,32.4,29.9,32.4,31.0,36.0,36.0,26.0,36.0,31.0],\"y\":[24.386953,25.894033,32.92707,26.061487,21.7077,8.31144,25.894033,25.559128,25.894033,12.162865,28.908192,29.745459,13.000132,15.51193,13.837398,8.8138,15.51193,18.860996,21.875154,26.22894,17.688824,15.51193,15.51193,23.047327,23.884594,20.200623,23.047327,17.186462,15.51193,30.415272,24.386953,29.410553,24.72186,15.51193,15.846837,28.070927,31.754898,25.22422,15.51193,20.535528,23.047327,27.568565,22.210062,28.908192,28.573286,23.549688,20.535528,18.860996,30.917631,28.070927,32.592163,17.186462,26.396393,17.353916,29.2431,28.070927,21.372795,25.559128,19.698261,27.73602,28.740738,29.745459,21.372795,28.908192,27.568565,29.745459,32.592163,29.410553,30.247818,28.573286,29.745459,28.070927,26.396393,28.238379,28.908192,25.22422,26.563847,26.898754],\"type\":\"scatter\",\"xaxis\":\"x\",\"yaxis\":\"y\"},{\"marker\":{\"color\":\"red\"},\"mode\":\"lines\",\"showlegend\":false,\"x\":[8.1,8.980817,9.861633,10.742449,11.623265,12.504082,13.384897,14.265714,15.14653,16.027348,16.908163,17.788979,18.669796,19.550611,20.431427,21.312244,22.19306,23.073875,23.954693,24.835508,25.716326,26.597141,27.477957,28.358774,29.23959,30.120405,31.001223,31.882038,32.762856,33.64367,34.524487,35.405304,36.286118,37.166935,38.047752,38.928566,39.809387,40.6902,41.571014,42.451836,43.33265,44.213463,45.094284,45.975098,46.85591,47.736732,48.617546,49.49836,50.37918,51.26],\"y\":[8.1,8.980817,9.861633,10.742449,11.623265,12.504082,13.384897,14.265714,15.14653,16.027348,16.908163,17.788979,18.669796,19.550611,20.431427,21.312244,22.19306,23.073875,23.954693,24.835508,25.716326,26.597141,27.477957,28.358774,29.23959,30.120405,31.001223,31.882038,32.762856,33.64367,34.524487,35.405304,36.286118,37.166935,38.047752,38.928566,39.809387,40.6902,41.571014,42.451836,43.33265,44.213463,45.094284,45.975098,46.85591,47.736732,48.617546,49.49836,50.37918,51.26],\"type\":\"scatter\",\"xaxis\":\"x\",\"yaxis\":\"y\"},{\"marker\":{\"color\":\"blue\"},\"nbinsx\":25,\"showlegend\":false,\"x\":[6.386953353881836,-1.105966567993164,6.927070617675781,1.0614871978759766,-4.292299270629883,-0.6885595321655273,-1.105966567993164,-2.4408721923828125,6.894033432006836,-0.8371353149414062,-1.0918083190917969,-1.2545413970947266,0.0001316070556640625,-1.4880695343017578,1.837397575378418,-4.186200141906738,0.5119304656982422,5.860996246337891,3.875154495239258,4.228939056396484,3.688823699951172,2.511930465698242,1.5119304656982422,5.047327041625977,5.884593963623047,0.20062255859375,5.047327041625977,1.18646240234375,2.511930465698242,-1.5847282409667969,0.38695335388183594,-1.589447021484375,5.721860885620117,-0.4880695343017578,1.846837043762207,-0.9290733337402344,-1.2451019287109375,0.22422027587890625,-0.4880695343017578,5.035528182983398,1.0473270416259766,9.568565368652344,3.710062026977539,-3.091808319091797,2.0732860565185547,3.5496883392333984,4.035528182983398,5.860996246337891,-5.082368850708008,2.0709266662597656,-10.507836914062501,-2.2135375976562486,5.596392822265624,-0.7460838317871108,-0.7569007873535156,-2.829073333740233,-0.12720489501953125,5.359127807617188,0.49826126098632884,2.336019134521486,1.5407379150390632,-2.0545413970947273,-7.427204895019532,-3.1918083190917983,-6.731434631347653,-16.854541397094728,-10.807836914062499,-4.389447021484372,0.4478179931640618,-3.826713943481444,-0.15454139709472514,-4.329073333740233,-4.603607177734375,-7.761621475219727,-7.091808319091797,-0.7757797241210938,-9.436153411865234,-4.101245880126953],\"type\":\"histogram\",\"xaxis\":\"x2\",\"yaxis\":\"y2\"}],                        {\"template\":{\"data\":{\"histogram2dcontour\":[{\"type\":\"histogram2dcontour\",\"colorbar\":{\"outlinewidth\":0,\"ticks\":\"\"},\"colorscale\":[[0.0,\"#0d0887\"],[0.1111111111111111,\"#46039f\"],[0.2222222222222222,\"#7201a8\"],[0.3333333333333333,\"#9c179e\"],[0.4444444444444444,\"#bd3786\"],[0.5555555555555556,\"#d8576b\"],[0.6666666666666666,\"#ed7953\"],[0.7777777777777778,\"#fb9f3a\"],[0.8888888888888888,\"#fdca26\"],[1.0,\"#f0f921\"]]}],\"choropleth\":[{\"type\":\"choropleth\",\"colorbar\":{\"outlinewidth\":0,\"ticks\":\"\"}}],\"histogram2d\":[{\"type\":\"histogram2d\",\"colorbar\":{\"outlinewidth\":0,\"ticks\":\"\"},\"colorscale\":[[0.0,\"#0d0887\"],[0.1111111111111111,\"#46039f\"],[0.2222222222222222,\"#7201a8\"],[0.3333333333333333,\"#9c179e\"],[0.4444444444444444,\"#bd3786\"],[0.5555555555555556,\"#d8576b\"],[0.6666666666666666,\"#ed7953\"],[0.7777777777777778,\"#fb9f3a\"],[0.8888888888888888,\"#fdca26\"],[1.0,\"#f0f921\"]]}],\"heatmap\":[{\"type\":\"heatmap\",\"colorbar\":{\"outlinewidth\":0,\"ticks\":\"\"},\"colorscale\":[[0.0,\"#0d0887\"],[0.1111111111111111,\"#46039f\"],[0.2222222222222222,\"#7201a8\"],[0.3333333333333333,\"#9c179e\"],[0.4444444444444444,\"#bd3786\"],[0.5555555555555556,\"#d8576b\"],[0.6666666666666666,\"#ed7953\"],[0.7777777777777778,\"#fb9f3a\"],[0.8888888888888888,\"#fdca26\"],[1.0,\"#f0f921\"]]}],\"heatmapgl\":[{\"type\":\"heatmapgl\",\"colorbar\":{\"outlinewidth\":0,\"ticks\":\"\"},\"colorscale\":[[0.0,\"#0d0887\"],[0.1111111111111111,\"#46039f\"],[0.2222222222222222,\"#7201a8\"],[0.3333333333333333,\"#9c179e\"],[0.4444444444444444,\"#bd3786\"],[0.5555555555555556,\"#d8576b\"],[0.6666666666666666,\"#ed7953\"],[0.7777777777777778,\"#fb9f3a\"],[0.8888888888888888,\"#fdca26\"],[1.0,\"#f0f921\"]]}],\"contourcarpet\":[{\"type\":\"contourcarpet\",\"colorbar\":{\"outlinewidth\":0,\"ticks\":\"\"}}],\"contour\":[{\"type\":\"contour\",\"colorbar\":{\"outlinewidth\":0,\"ticks\":\"\"},\"colorscale\":[[0.0,\"#0d0887\"],[0.1111111111111111,\"#46039f\"],[0.2222222222222222,\"#7201a8\"],[0.3333333333333333,\"#9c179e\"],[0.4444444444444444,\"#bd3786\"],[0.5555555555555556,\"#d8576b\"],[0.6666666666666666,\"#ed7953\"],[0.7777777777777778,\"#fb9f3a\"],[0.8888888888888888,\"#fdca26\"],[1.0,\"#f0f921\"]]}],\"surface\":[{\"type\":\"surface\",\"colorbar\":{\"outlinewidth\":0,\"ticks\":\"\"},\"colorscale\":[[0.0,\"#0d0887\"],[0.1111111111111111,\"#46039f\"],[0.2222222222222222,\"#7201a8\"],[0.3333333333333333,\"#9c179e\"],[0.4444444444444444,\"#bd3786\"],[0.5555555555555556,\"#d8576b\"],[0.6666666666666666,\"#ed7953\"],[0.7777777777777778,\"#fb9f3a\"],[0.8888888888888888,\"#fdca26\"],[1.0,\"#f0f921\"]]}],\"mesh3d\":[{\"type\":\"mesh3d\",\"colorbar\":{\"outlinewidth\":0,\"ticks\":\"\"}}],\"scatter\":[{\"fillpattern\":{\"fillmode\":\"overlay\",\"size\":10,\"solidity\":0.2},\"type\":\"scatter\"}],\"parcoords\":[{\"type\":\"parcoords\",\"line\":{\"colorbar\":{\"outlinewidth\":0,\"ticks\":\"\"}}}],\"scatterpolargl\":[{\"type\":\"scatterpolargl\",\"marker\":{\"colorbar\":{\"outlinewidth\":0,\"ticks\":\"\"}}}],\"bar\":[{\"error_x\":{\"color\":\"#2a3f5f\"},\"error_y\":{\"color\":\"#2a3f5f\"},\"marker\":{\"line\":{\"color\":\"#E5ECF6\",\"width\":0.5},\"pattern\":{\"fillmode\":\"overlay\",\"size\":10,\"solidity\":0.2}},\"type\":\"bar\"}],\"scattergeo\":[{\"type\":\"scattergeo\",\"marker\":{\"colorbar\":{\"outlinewidth\":0,\"ticks\":\"\"}}}],\"scatterpolar\":[{\"type\":\"scatterpolar\",\"marker\":{\"colorbar\":{\"outlinewidth\":0,\"ticks\":\"\"}}}],\"histogram\":[{\"marker\":{\"pattern\":{\"fillmode\":\"overlay\",\"size\":10,\"solidity\":0.2}},\"type\":\"histogram\"}],\"scattergl\":[{\"type\":\"scattergl\",\"marker\":{\"colorbar\":{\"outlinewidth\":0,\"ticks\":\"\"}}}],\"scatter3d\":[{\"type\":\"scatter3d\",\"line\":{\"colorbar\":{\"outlinewidth\":0,\"ticks\":\"\"}},\"marker\":{\"colorbar\":{\"outlinewidth\":0,\"ticks\":\"\"}}}],\"scattermapbox\":[{\"type\":\"scattermapbox\",\"marker\":{\"colorbar\":{\"outlinewidth\":0,\"ticks\":\"\"}}}],\"scatterternary\":[{\"type\":\"scatterternary\",\"marker\":{\"colorbar\":{\"outlinewidth\":0,\"ticks\":\"\"}}}],\"scattercarpet\":[{\"type\":\"scattercarpet\",\"marker\":{\"colorbar\":{\"outlinewidth\":0,\"ticks\":\"\"}}}],\"carpet\":[{\"aaxis\":{\"endlinecolor\":\"#2a3f5f\",\"gridcolor\":\"white\",\"linecolor\":\"white\",\"minorgridcolor\":\"white\",\"startlinecolor\":\"#2a3f5f\"},\"baxis\":{\"endlinecolor\":\"#2a3f5f\",\"gridcolor\":\"white\",\"linecolor\":\"white\",\"minorgridcolor\":\"white\",\"startlinecolor\":\"#2a3f5f\"},\"type\":\"carpet\"}],\"table\":[{\"cells\":{\"fill\":{\"color\":\"#EBF0F8\"},\"line\":{\"color\":\"white\"}},\"header\":{\"fill\":{\"color\":\"#C8D4E3\"},\"line\":{\"color\":\"white\"}},\"type\":\"table\"}],\"barpolar\":[{\"marker\":{\"line\":{\"color\":\"#E5ECF6\",\"width\":0.5},\"pattern\":{\"fillmode\":\"overlay\",\"size\":10,\"solidity\":0.2}},\"type\":\"barpolar\"}],\"pie\":[{\"automargin\":true,\"type\":\"pie\"}]},\"layout\":{\"autotypenumbers\":\"strict\",\"colorway\":[\"#636efa\",\"#EF553B\",\"#00cc96\",\"#ab63fa\",\"#FFA15A\",\"#19d3f3\",\"#FF6692\",\"#B6E880\",\"#FF97FF\",\"#FECB52\"],\"font\":{\"color\":\"#2a3f5f\"},\"hovermode\":\"closest\",\"hoverlabel\":{\"align\":\"left\"},\"paper_bgcolor\":\"white\",\"plot_bgcolor\":\"#E5ECF6\",\"polar\":{\"bgcolor\":\"#E5ECF6\",\"angularaxis\":{\"gridcolor\":\"white\",\"linecolor\":\"white\",\"ticks\":\"\"},\"radialaxis\":{\"gridcolor\":\"white\",\"linecolor\":\"white\",\"ticks\":\"\"}},\"ternary\":{\"bgcolor\":\"#E5ECF6\",\"aaxis\":{\"gridcolor\":\"white\",\"linecolor\":\"white\",\"ticks\":\"\"},\"baxis\":{\"gridcolor\":\"white\",\"linecolor\":\"white\",\"ticks\":\"\"},\"caxis\":{\"gridcolor\":\"white\",\"linecolor\":\"white\",\"ticks\":\"\"}},\"coloraxis\":{\"colorbar\":{\"outlinewidth\":0,\"ticks\":\"\"}},\"colorscale\":{\"sequential\":[[0.0,\"#0d0887\"],[0.1111111111111111,\"#46039f\"],[0.2222222222222222,\"#7201a8\"],[0.3333333333333333,\"#9c179e\"],[0.4444444444444444,\"#bd3786\"],[0.5555555555555556,\"#d8576b\"],[0.6666666666666666,\"#ed7953\"],[0.7777777777777778,\"#fb9f3a\"],[0.8888888888888888,\"#fdca26\"],[1.0,\"#f0f921\"]],\"sequentialminus\":[[0.0,\"#0d0887\"],[0.1111111111111111,\"#46039f\"],[0.2222222222222222,\"#7201a8\"],[0.3333333333333333,\"#9c179e\"],[0.4444444444444444,\"#bd3786\"],[0.5555555555555556,\"#d8576b\"],[0.6666666666666666,\"#ed7953\"],[0.7777777777777778,\"#fb9f3a\"],[0.8888888888888888,\"#fdca26\"],[1.0,\"#f0f921\"]],\"diverging\":[[0,\"#8e0152\"],[0.1,\"#c51b7d\"],[0.2,\"#de77ae\"],[0.3,\"#f1b6da\"],[0.4,\"#fde0ef\"],[0.5,\"#f7f7f7\"],[0.6,\"#e6f5d0\"],[0.7,\"#b8e186\"],[0.8,\"#7fbc41\"],[0.9,\"#4d9221\"],[1,\"#276419\"]]},\"xaxis\":{\"gridcolor\":\"white\",\"linecolor\":\"white\",\"ticks\":\"\",\"title\":{\"standoff\":15},\"zerolinecolor\":\"white\",\"automargin\":true,\"zerolinewidth\":2},\"yaxis\":{\"gridcolor\":\"white\",\"linecolor\":\"white\",\"ticks\":\"\",\"title\":{\"standoff\":15},\"zerolinecolor\":\"white\",\"automargin\":true,\"zerolinewidth\":2},\"scene\":{\"xaxis\":{\"backgroundcolor\":\"#E5ECF6\",\"gridcolor\":\"white\",\"linecolor\":\"white\",\"showbackground\":true,\"ticks\":\"\",\"zerolinecolor\":\"white\",\"gridwidth\":2},\"yaxis\":{\"backgroundcolor\":\"#E5ECF6\",\"gridcolor\":\"white\",\"linecolor\":\"white\",\"showbackground\":true,\"ticks\":\"\",\"zerolinecolor\":\"white\",\"gridwidth\":2},\"zaxis\":{\"backgroundcolor\":\"#E5ECF6\",\"gridcolor\":\"white\",\"linecolor\":\"white\",\"showbackground\":true,\"ticks\":\"\",\"zerolinecolor\":\"white\",\"gridwidth\":2}},\"shapedefaults\":{\"line\":{\"color\":\"#2a3f5f\"}},\"annotationdefaults\":{\"arrowcolor\":\"#2a3f5f\",\"arrowhead\":0,\"arrowwidth\":1},\"geo\":{\"bgcolor\":\"white\",\"landcolor\":\"#E5ECF6\",\"subunitcolor\":\"white\",\"showland\":true,\"showlakes\":true,\"lakecolor\":\"white\"},\"title\":{\"x\":0.05},\"mapbox\":{\"style\":\"light\"}}},\"xaxis\":{\"anchor\":\"y\",\"domain\":[0.0,0.45],\"title\":{\"text\":\"True values [MPG]\"}},\"yaxis\":{\"anchor\":\"x\",\"domain\":[0.0,1.0],\"title\":{\"text\":\"Predictions [MPG]\"}},\"xaxis2\":{\"anchor\":\"y2\",\"domain\":[0.55,1.0],\"title\":{\"text\":\"Prediction error [MPG]\"}},\"yaxis2\":{\"anchor\":\"x2\",\"domain\":[0.0,1.0],\"title\":{\"text\":\"Count\"},\"range\":[0,25]},\"annotations\":[{\"font\":{\"size\":16},\"showarrow\":false,\"text\":\"Predicted values Vs. True values\",\"x\":0.225,\"xanchor\":\"center\",\"xref\":\"paper\",\"y\":1.0,\"yanchor\":\"bottom\",\"yref\":\"paper\"},{\"font\":{\"size\":16},\"showarrow\":false,\"text\":\"Error distribution\",\"x\":0.775,\"xanchor\":\"center\",\"xref\":\"paper\",\"y\":1.0,\"yanchor\":\"bottom\",\"yref\":\"paper\"}],\"title\":{\"text\":\"L-model\"},\"width\":900,\"height\":500},                        {\"responsive\": true}                    ).then(function(){\n",
              "                            \n",
              "var gd = document.getElementById('9887e4d8-b3be-4e7b-a5e0-3901a49c2949');\n",
              "var x = new MutationObserver(function (mutations, observer) {{\n",
              "        var display = window.getComputedStyle(gd).display;\n",
              "        if (!display || display === 'none') {{\n",
              "            console.log([gd, 'removed!']);\n",
              "            Plotly.purge(gd);\n",
              "            observer.disconnect();\n",
              "        }}\n",
              "}});\n",
              "\n",
              "// Listen for the removal of the full notebook cells\n",
              "var notebookContainer = gd.closest('#notebook-container');\n",
              "if (notebookContainer) {{\n",
              "    x.observe(notebookContainer, {childList: true});\n",
              "}}\n",
              "\n",
              "// Listen for the clearing of the current output cell\n",
              "var outputEl = gd.closest('.output');\n",
              "if (outputEl) {{\n",
              "    x.observe(outputEl, {childList: true});\n",
              "}}\n",
              "\n",
              "                        })                };                            </script>        </div>\n",
              "</body>\n",
              "</html>"
            ]
          },
          "metadata": {}
        }
      ]
    }
  ]
}