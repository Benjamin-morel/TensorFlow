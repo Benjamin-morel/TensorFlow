{
  "nbformat": 4,
  "nbformat_minor": 0,
  "metadata": {
    "colab": {
      "provenance": [],
      "authorship_tag": "ABX9TyMAE4SmD02yrQVHBirbRY6t",
      "include_colab_link": true
    },
    "kernelspec": {
      "name": "python3",
      "display_name": "Python 3"
    },
    "language_info": {
      "name": "python"
    }
  },
  "cells": [
    {
      "cell_type": "markdown",
      "metadata": {
        "id": "view-in-github",
        "colab_type": "text"
      },
      "source": [
        "<a href=\"https://colab.research.google.com/github/Benjamin-morel/TensorFlow/blob/main/03_regression.ipynb\" target=\"_parent\"><img src=\"https://colab.research.google.com/assets/colab-badge.svg\" alt=\"Open In Colab\"/></a>"
      ]
    },
    {
      "cell_type": "markdown",
      "source": [
        "---\n",
        "\n",
        "\n",
        "# Machine Learning Model: regression and predictions\n",
        "| | |\n",
        "|------|------|\n",
        "| Filename | 03_regression.ipynb |\n",
        "| Author(s) | Benjamin Morel (benjaminmorel27@gmail.com) |\n",
        "| Date | September 8, 2024 |\n",
        "| Aim(s) | Do regression tasks with a neural network machine learning model|\n",
        "| Dataset(s) | Auto MPG dataset from UC Irvine [[1]](https://archive.ics.uci.edu/dataset/9/auto+mpg) |\n",
        "| Version | Python 3.12 - TensorFlow 2.17.0 |\n",
        "\n",
        "\n",
        "<br> **!!Read before running!!** <br>\n",
        "1. CPU execution is enough\n",
        "2. Run all and read comments.\n",
        "\n",
        "\n",
        "---\n",
        "\n",
        "#### **Motivation**\n",
        "\n",
        "A car's fuel efficiency, i.e. the amount of fuel consumed by a car for a given distance, is a parameter that is difficult for car manufacturers to calculate. It depends on many factors: vehicle weight, power, engine volume, number of cylinders, technology used, etc.\n",
        "\n",
        "However, many authorities and organizations require exact fuel efficiency for all vehicles, in order to check whether the vehicle complies with pollution standards. With the Auto MPG datase from the UC Irvine university [[1]](https://archive.ics.uci.edu/dataset/9/auto+mpg), the neural network model used in this script will predict **fuel efficiency** of any 1970s / 1980s automobiles. A simple linear regression model will first be used, then compared with the predictions made by a second non-linear model."
      ],
      "metadata": {
        "id": "U2GVF6UjO9N0"
      }
    },
    {
      "cell_type": "markdown",
      "source": [
        "---\n",
        "\n",
        "\n",
        "#### **1. Import libraries & prebuilt dataset**"
      ],
      "metadata": {
        "id": "hg2ublsvVQkc"
      }
    },
    {
      "cell_type": "code",
      "source": [
        "import numpy as np # scientific computing\n",
        "import pandas as pd # data structures and data analysis tools\n",
        "import tensorflow as tf # machine learning models\n",
        "import plotly.graph_objects as go # graphing packages\n",
        "from plotly.subplots import make_subplots\n",
        "import time"
      ],
      "metadata": {
        "id": "cZnJHF-T9tTh"
      },
      "execution_count": 157,
      "outputs": []
    },
    {
      "cell_type": "markdown",
      "source": [
        "###### **1.1. What is the dataset formed of?**\n",
        "\n",
        "The dataset used contains data about fuel efficiency for 398 car models, along with 8 characteristics of the cars:\n",
        "*   **displacement**: engine displacement (in^3)\n",
        "*   **cylinders**: number of cylinders in the engine\n",
        "*   **weight**: vehicle weight (lb)\n",
        "*   **model year**: car's model year\n",
        "*   **origin**: country of origin (1 = USA, 2 = Europe, 3 = Japan)\n",
        "*   **car name**: descriptive string containing the car’s name\n",
        "*   **acceleration**: time to accelerate from 0 to 60 mph (s)\n",
        "*   **horsepower**: engine power (some missing values)\n",
        "*   **mpg**: car's fuel efficiency (MPG=Miles Per Gallon)\n",
        "\n",
        "The target variable is the fuel efficiency **mpg**. The dataset is imported with *pandas* as a table with 398 rows and 9 columns. The function `tail` displays a part of this pandas table."
      ],
      "metadata": {
        "id": "3wwXrlPRRP7d"
      }
    },
    {
      "cell_type": "code",
      "source": [
        "url = 'http://archive.ics.uci.edu/ml/machine-learning-databases/auto-mpg/auto-mpg.data'\n",
        "column_names = ['MPG', 'Cylinders', 'Displacement', 'Horsepower', 'Weight', 'Acceleration', 'Model Year', 'Origin'] # MPG = fuel efficiency\n",
        "\n",
        "raw_dataset = pd.read_csv(url, names=column_names,\n",
        "                          na_values='?', # \"?\" values become a NaN value\n",
        "                          comment='\\t', # elements following \\t are ignored\n",
        "                          sep=' ', # columns are separating by spaces\n",
        "                          skipinitialspace=True)\n",
        "\n",
        "print(\"Summary of the dataset: \",\n",
        "      \"\\n\",\n",
        "      \"\\nNumber of rows in raw_dataset: \", len(raw_dataset), \"/ 398\",\n",
        "      \"\\nNumber of missing values: \", raw_dataset[\"Horsepower\"].isna().sum(),\n",
        "      \"/\", len(raw_dataset)*9) # horsepower NaN values\n",
        "\n",
        "raw_dataset.tail()"
      ],
      "metadata": {
        "colab": {
          "base_uri": "https://localhost:8080/",
          "height": 276
        },
        "id": "2CO6wSXf9zcn",
        "outputId": "3099ede5-9b24-407b-bb65-73b8a4de3c51"
      },
      "execution_count": 158,
      "outputs": [
        {
          "output_type": "stream",
          "name": "stdout",
          "text": [
            "Summary of the dataset:  \n",
            " \n",
            "Number of rows in raw_dataset:  398 / 398 \n",
            "Number of missing values:  6 / 3582\n"
          ]
        },
        {
          "output_type": "execute_result",
          "data": {
            "text/plain": [
              "      MPG  Cylinders  Displacement  Horsepower  Weight  Acceleration  \\\n",
              "393  27.0          4         140.0        86.0  2790.0          15.6   \n",
              "394  44.0          4          97.0        52.0  2130.0          24.6   \n",
              "395  32.0          4         135.0        84.0  2295.0          11.6   \n",
              "396  28.0          4         120.0        79.0  2625.0          18.6   \n",
              "397  31.0          4         119.0        82.0  2720.0          19.4   \n",
              "\n",
              "     Model Year  Origin  \n",
              "393          82       1  \n",
              "394          82       2  \n",
              "395          82       1  \n",
              "396          82       1  \n",
              "397          82       1  "
            ],
            "text/html": [
              "\n",
              "  <div id=\"df-1f7d39c9-9ced-4fc9-8372-136ff8ed1c39\" class=\"colab-df-container\">\n",
              "    <div>\n",
              "<style scoped>\n",
              "    .dataframe tbody tr th:only-of-type {\n",
              "        vertical-align: middle;\n",
              "    }\n",
              "\n",
              "    .dataframe tbody tr th {\n",
              "        vertical-align: top;\n",
              "    }\n",
              "\n",
              "    .dataframe thead th {\n",
              "        text-align: right;\n",
              "    }\n",
              "</style>\n",
              "<table border=\"1\" class=\"dataframe\">\n",
              "  <thead>\n",
              "    <tr style=\"text-align: right;\">\n",
              "      <th></th>\n",
              "      <th>MPG</th>\n",
              "      <th>Cylinders</th>\n",
              "      <th>Displacement</th>\n",
              "      <th>Horsepower</th>\n",
              "      <th>Weight</th>\n",
              "      <th>Acceleration</th>\n",
              "      <th>Model Year</th>\n",
              "      <th>Origin</th>\n",
              "    </tr>\n",
              "  </thead>\n",
              "  <tbody>\n",
              "    <tr>\n",
              "      <th>393</th>\n",
              "      <td>27.0</td>\n",
              "      <td>4</td>\n",
              "      <td>140.0</td>\n",
              "      <td>86.0</td>\n",
              "      <td>2790.0</td>\n",
              "      <td>15.6</td>\n",
              "      <td>82</td>\n",
              "      <td>1</td>\n",
              "    </tr>\n",
              "    <tr>\n",
              "      <th>394</th>\n",
              "      <td>44.0</td>\n",
              "      <td>4</td>\n",
              "      <td>97.0</td>\n",
              "      <td>52.0</td>\n",
              "      <td>2130.0</td>\n",
              "      <td>24.6</td>\n",
              "      <td>82</td>\n",
              "      <td>2</td>\n",
              "    </tr>\n",
              "    <tr>\n",
              "      <th>395</th>\n",
              "      <td>32.0</td>\n",
              "      <td>4</td>\n",
              "      <td>135.0</td>\n",
              "      <td>84.0</td>\n",
              "      <td>2295.0</td>\n",
              "      <td>11.6</td>\n",
              "      <td>82</td>\n",
              "      <td>1</td>\n",
              "    </tr>\n",
              "    <tr>\n",
              "      <th>396</th>\n",
              "      <td>28.0</td>\n",
              "      <td>4</td>\n",
              "      <td>120.0</td>\n",
              "      <td>79.0</td>\n",
              "      <td>2625.0</td>\n",
              "      <td>18.6</td>\n",
              "      <td>82</td>\n",
              "      <td>1</td>\n",
              "    </tr>\n",
              "    <tr>\n",
              "      <th>397</th>\n",
              "      <td>31.0</td>\n",
              "      <td>4</td>\n",
              "      <td>119.0</td>\n",
              "      <td>82.0</td>\n",
              "      <td>2720.0</td>\n",
              "      <td>19.4</td>\n",
              "      <td>82</td>\n",
              "      <td>1</td>\n",
              "    </tr>\n",
              "  </tbody>\n",
              "</table>\n",
              "</div>\n",
              "    <div class=\"colab-df-buttons\">\n",
              "\n",
              "  <div class=\"colab-df-container\">\n",
              "    <button class=\"colab-df-convert\" onclick=\"convertToInteractive('df-1f7d39c9-9ced-4fc9-8372-136ff8ed1c39')\"\n",
              "            title=\"Convert this dataframe to an interactive table.\"\n",
              "            style=\"display:none;\">\n",
              "\n",
              "  <svg xmlns=\"http://www.w3.org/2000/svg\" height=\"24px\" viewBox=\"0 -960 960 960\">\n",
              "    <path d=\"M120-120v-720h720v720H120Zm60-500h600v-160H180v160Zm220 220h160v-160H400v160Zm0 220h160v-160H400v160ZM180-400h160v-160H180v160Zm440 0h160v-160H620v160ZM180-180h160v-160H180v160Zm440 0h160v-160H620v160Z\"/>\n",
              "  </svg>\n",
              "    </button>\n",
              "\n",
              "  <style>\n",
              "    .colab-df-container {\n",
              "      display:flex;\n",
              "      gap: 12px;\n",
              "    }\n",
              "\n",
              "    .colab-df-convert {\n",
              "      background-color: #E8F0FE;\n",
              "      border: none;\n",
              "      border-radius: 50%;\n",
              "      cursor: pointer;\n",
              "      display: none;\n",
              "      fill: #1967D2;\n",
              "      height: 32px;\n",
              "      padding: 0 0 0 0;\n",
              "      width: 32px;\n",
              "    }\n",
              "\n",
              "    .colab-df-convert:hover {\n",
              "      background-color: #E2EBFA;\n",
              "      box-shadow: 0px 1px 2px rgba(60, 64, 67, 0.3), 0px 1px 3px 1px rgba(60, 64, 67, 0.15);\n",
              "      fill: #174EA6;\n",
              "    }\n",
              "\n",
              "    .colab-df-buttons div {\n",
              "      margin-bottom: 4px;\n",
              "    }\n",
              "\n",
              "    [theme=dark] .colab-df-convert {\n",
              "      background-color: #3B4455;\n",
              "      fill: #D2E3FC;\n",
              "    }\n",
              "\n",
              "    [theme=dark] .colab-df-convert:hover {\n",
              "      background-color: #434B5C;\n",
              "      box-shadow: 0px 1px 3px 1px rgba(0, 0, 0, 0.15);\n",
              "      filter: drop-shadow(0px 1px 2px rgba(0, 0, 0, 0.3));\n",
              "      fill: #FFFFFF;\n",
              "    }\n",
              "  </style>\n",
              "\n",
              "    <script>\n",
              "      const buttonEl =\n",
              "        document.querySelector('#df-1f7d39c9-9ced-4fc9-8372-136ff8ed1c39 button.colab-df-convert');\n",
              "      buttonEl.style.display =\n",
              "        google.colab.kernel.accessAllowed ? 'block' : 'none';\n",
              "\n",
              "      async function convertToInteractive(key) {\n",
              "        const element = document.querySelector('#df-1f7d39c9-9ced-4fc9-8372-136ff8ed1c39');\n",
              "        const dataTable =\n",
              "          await google.colab.kernel.invokeFunction('convertToInteractive',\n",
              "                                                    [key], {});\n",
              "        if (!dataTable) return;\n",
              "\n",
              "        const docLinkHtml = 'Like what you see? Visit the ' +\n",
              "          '<a target=\"_blank\" href=https://colab.research.google.com/notebooks/data_table.ipynb>data table notebook</a>'\n",
              "          + ' to learn more about interactive tables.';\n",
              "        element.innerHTML = '';\n",
              "        dataTable['output_type'] = 'display_data';\n",
              "        await google.colab.output.renderOutput(dataTable, element);\n",
              "        const docLink = document.createElement('div');\n",
              "        docLink.innerHTML = docLinkHtml;\n",
              "        element.appendChild(docLink);\n",
              "      }\n",
              "    </script>\n",
              "  </div>\n",
              "\n",
              "\n",
              "<div id=\"df-3cc1f832-3ef2-4cd7-8efc-2c67a79f17a9\">\n",
              "  <button class=\"colab-df-quickchart\" onclick=\"quickchart('df-3cc1f832-3ef2-4cd7-8efc-2c67a79f17a9')\"\n",
              "            title=\"Suggest charts\"\n",
              "            style=\"display:none;\">\n",
              "\n",
              "<svg xmlns=\"http://www.w3.org/2000/svg\" height=\"24px\"viewBox=\"0 0 24 24\"\n",
              "     width=\"24px\">\n",
              "    <g>\n",
              "        <path d=\"M19 3H5c-1.1 0-2 .9-2 2v14c0 1.1.9 2 2 2h14c1.1 0 2-.9 2-2V5c0-1.1-.9-2-2-2zM9 17H7v-7h2v7zm4 0h-2V7h2v10zm4 0h-2v-4h2v4z\"/>\n",
              "    </g>\n",
              "</svg>\n",
              "  </button>\n",
              "\n",
              "<style>\n",
              "  .colab-df-quickchart {\n",
              "      --bg-color: #E8F0FE;\n",
              "      --fill-color: #1967D2;\n",
              "      --hover-bg-color: #E2EBFA;\n",
              "      --hover-fill-color: #174EA6;\n",
              "      --disabled-fill-color: #AAA;\n",
              "      --disabled-bg-color: #DDD;\n",
              "  }\n",
              "\n",
              "  [theme=dark] .colab-df-quickchart {\n",
              "      --bg-color: #3B4455;\n",
              "      --fill-color: #D2E3FC;\n",
              "      --hover-bg-color: #434B5C;\n",
              "      --hover-fill-color: #FFFFFF;\n",
              "      --disabled-bg-color: #3B4455;\n",
              "      --disabled-fill-color: #666;\n",
              "  }\n",
              "\n",
              "  .colab-df-quickchart {\n",
              "    background-color: var(--bg-color);\n",
              "    border: none;\n",
              "    border-radius: 50%;\n",
              "    cursor: pointer;\n",
              "    display: none;\n",
              "    fill: var(--fill-color);\n",
              "    height: 32px;\n",
              "    padding: 0;\n",
              "    width: 32px;\n",
              "  }\n",
              "\n",
              "  .colab-df-quickchart:hover {\n",
              "    background-color: var(--hover-bg-color);\n",
              "    box-shadow: 0 1px 2px rgba(60, 64, 67, 0.3), 0 1px 3px 1px rgba(60, 64, 67, 0.15);\n",
              "    fill: var(--button-hover-fill-color);\n",
              "  }\n",
              "\n",
              "  .colab-df-quickchart-complete:disabled,\n",
              "  .colab-df-quickchart-complete:disabled:hover {\n",
              "    background-color: var(--disabled-bg-color);\n",
              "    fill: var(--disabled-fill-color);\n",
              "    box-shadow: none;\n",
              "  }\n",
              "\n",
              "  .colab-df-spinner {\n",
              "    border: 2px solid var(--fill-color);\n",
              "    border-color: transparent;\n",
              "    border-bottom-color: var(--fill-color);\n",
              "    animation:\n",
              "      spin 1s steps(1) infinite;\n",
              "  }\n",
              "\n",
              "  @keyframes spin {\n",
              "    0% {\n",
              "      border-color: transparent;\n",
              "      border-bottom-color: var(--fill-color);\n",
              "      border-left-color: var(--fill-color);\n",
              "    }\n",
              "    20% {\n",
              "      border-color: transparent;\n",
              "      border-left-color: var(--fill-color);\n",
              "      border-top-color: var(--fill-color);\n",
              "    }\n",
              "    30% {\n",
              "      border-color: transparent;\n",
              "      border-left-color: var(--fill-color);\n",
              "      border-top-color: var(--fill-color);\n",
              "      border-right-color: var(--fill-color);\n",
              "    }\n",
              "    40% {\n",
              "      border-color: transparent;\n",
              "      border-right-color: var(--fill-color);\n",
              "      border-top-color: var(--fill-color);\n",
              "    }\n",
              "    60% {\n",
              "      border-color: transparent;\n",
              "      border-right-color: var(--fill-color);\n",
              "    }\n",
              "    80% {\n",
              "      border-color: transparent;\n",
              "      border-right-color: var(--fill-color);\n",
              "      border-bottom-color: var(--fill-color);\n",
              "    }\n",
              "    90% {\n",
              "      border-color: transparent;\n",
              "      border-bottom-color: var(--fill-color);\n",
              "    }\n",
              "  }\n",
              "</style>\n",
              "\n",
              "  <script>\n",
              "    async function quickchart(key) {\n",
              "      const quickchartButtonEl =\n",
              "        document.querySelector('#' + key + ' button');\n",
              "      quickchartButtonEl.disabled = true;  // To prevent multiple clicks.\n",
              "      quickchartButtonEl.classList.add('colab-df-spinner');\n",
              "      try {\n",
              "        const charts = await google.colab.kernel.invokeFunction(\n",
              "            'suggestCharts', [key], {});\n",
              "      } catch (error) {\n",
              "        console.error('Error during call to suggestCharts:', error);\n",
              "      }\n",
              "      quickchartButtonEl.classList.remove('colab-df-spinner');\n",
              "      quickchartButtonEl.classList.add('colab-df-quickchart-complete');\n",
              "    }\n",
              "    (() => {\n",
              "      let quickchartButtonEl =\n",
              "        document.querySelector('#df-3cc1f832-3ef2-4cd7-8efc-2c67a79f17a9 button');\n",
              "      quickchartButtonEl.style.display =\n",
              "        google.colab.kernel.accessAllowed ? 'block' : 'none';\n",
              "    })();\n",
              "  </script>\n",
              "</div>\n",
              "\n",
              "    </div>\n",
              "  </div>\n"
            ],
            "application/vnd.google.colaboratory.intrinsic+json": {
              "type": "dataframe",
              "summary": "{\n  \"name\": \"raw_dataset\",\n  \"rows\": 5,\n  \"fields\": [\n    {\n      \"column\": \"MPG\",\n      \"properties\": {\n        \"dtype\": \"number\",\n        \"std\": 6.8044103344816005,\n        \"min\": 27.0,\n        \"max\": 44.0,\n        \"num_unique_values\": 5,\n        \"samples\": [\n          44.0,\n          31.0,\n          32.0\n        ],\n        \"semantic_type\": \"\",\n        \"description\": \"\"\n      }\n    },\n    {\n      \"column\": \"Cylinders\",\n      \"properties\": {\n        \"dtype\": \"number\",\n        \"std\": 0,\n        \"min\": 4,\n        \"max\": 4,\n        \"num_unique_values\": 1,\n        \"samples\": [\n          4\n        ],\n        \"semantic_type\": \"\",\n        \"description\": \"\"\n      }\n    },\n    {\n      \"column\": \"Displacement\",\n      \"properties\": {\n        \"dtype\": \"number\",\n        \"std\": 16.813684902483452,\n        \"min\": 97.0,\n        \"max\": 140.0,\n        \"num_unique_values\": 5,\n        \"samples\": [\n          97.0\n        ],\n        \"semantic_type\": \"\",\n        \"description\": \"\"\n      }\n    },\n    {\n      \"column\": \"Horsepower\",\n      \"properties\": {\n        \"dtype\": \"number\",\n        \"std\": 13.992855319769443,\n        \"min\": 52.0,\n        \"max\": 86.0,\n        \"num_unique_values\": 5,\n        \"samples\": [\n          52.0\n        ],\n        \"semantic_type\": \"\",\n        \"description\": \"\"\n      }\n    },\n    {\n      \"column\": \"Weight\",\n      \"properties\": {\n        \"dtype\": \"number\",\n        \"std\": 285.62650437240586,\n        \"min\": 2130.0,\n        \"max\": 2790.0,\n        \"num_unique_values\": 5,\n        \"samples\": [\n          2130.0\n        ],\n        \"semantic_type\": \"\",\n        \"description\": \"\"\n      }\n    },\n    {\n      \"column\": \"Acceleration\",\n      \"properties\": {\n        \"dtype\": \"number\",\n        \"std\": 4.81123684721507,\n        \"min\": 11.6,\n        \"max\": 24.6,\n        \"num_unique_values\": 5,\n        \"samples\": [\n          24.6\n        ],\n        \"semantic_type\": \"\",\n        \"description\": \"\"\n      }\n    },\n    {\n      \"column\": \"Model Year\",\n      \"properties\": {\n        \"dtype\": \"number\",\n        \"std\": 0,\n        \"min\": 82,\n        \"max\": 82,\n        \"num_unique_values\": 1,\n        \"samples\": [\n          82\n        ],\n        \"semantic_type\": \"\",\n        \"description\": \"\"\n      }\n    },\n    {\n      \"column\": \"Origin\",\n      \"properties\": {\n        \"dtype\": \"number\",\n        \"std\": 0,\n        \"min\": 1,\n        \"max\": 2,\n        \"num_unique_values\": 2,\n        \"samples\": [\n          2\n        ],\n        \"semantic_type\": \"\",\n        \"description\": \"\"\n      }\n    }\n  ]\n}"
            }
          },
          "metadata": {},
          "execution_count": 158
        }
      ]
    },
    {
      "cell_type": "markdown",
      "source": [
        "###### **1.2. Dataset cleaning**\n",
        "\n",
        "It is necessary to remove vehicles for which data is missing, especially for horsepower."
      ],
      "metadata": {
        "id": "ywn7Fk8oAqBR"
      }
    },
    {
      "cell_type": "code",
      "source": [
        "dataset = raw_dataset.copy() # copy of the original data before modification\n",
        "dataset = dataset.dropna() # remove rows containing NaN values\n",
        "\n",
        "print(\"Summary of the dataset after data cleaning: \",\n",
        "      \"\\n\",\n",
        "      \"\\nNumber of rows in the dataset cleaned: \", len(dataset), \"/\", len(raw_dataset),\n",
        "      \"\\nNumber of missing values: \", dataset[\"Horsepower\"].isna().sum(),\n",
        "      \"/\", len(dataset)*9) # horsepower NaN values"
      ],
      "metadata": {
        "colab": {
          "base_uri": "https://localhost:8080/"
        },
        "id": "aMU8g1HcRqpT",
        "outputId": "b1d03cac-9ea6-4f55-c628-5ce6bcdaadd8"
      },
      "execution_count": 159,
      "outputs": [
        {
          "output_type": "stream",
          "name": "stdout",
          "text": [
            "Summary of the dataset after data cleaning:  \n",
            " \n",
            "Number of rows in the dataset cleaned:  392 / 398 \n",
            "Number of missing values:  0 / 3528\n"
          ]
        }
      ]
    },
    {
      "cell_type": "markdown",
      "source": [
        "---\n",
        "\n",
        "\n",
        "#### **2. Sample preparation & pre-processing**"
      ],
      "metadata": {
        "id": "pZY8PoR0VWUL"
      }
    },
    {
      "cell_type": "markdown",
      "source": [
        "###### **2.1. How are training and test sets formed?**\n",
        "\n",
        "The dataset is randomly split into 2 subsets: training (80%) and test (20%) [[2]](https://arxiv.org/pdf/2202.03326). Test set is used for a finale evaluation of the model. The function `plot_data`is used to check the data distribution according to 2 variables. The first line (MPG) suggests that this parameter depends on the others."
      ],
      "metadata": {
        "id": "q844rr7iWmKz"
      }
    },
    {
      "cell_type": "code",
      "source": [
        "train_dataset = dataset.sample(frac=0.8) # randomly draws 80% of dataset\n",
        "test_dataset = dataset.drop(train_dataset.index) # removes the rows selected for the training set from dataset\n",
        "\n",
        "print(\"# of the training set:\", len(train_dataset),\n",
        "      \"\\n# of the test set:\", len(test_dataset),\n",
        "      \"\\n# of the training and test sets:\", len(train_dataset)+len(test_dataset))"
      ],
      "metadata": {
        "colab": {
          "base_uri": "https://localhost:8080/"
        },
        "id": "tGKIZUmvVbfL",
        "outputId": "b1249113-8973-4716-9aad-a7379d8eaf4b"
      },
      "execution_count": 160,
      "outputs": [
        {
          "output_type": "stream",
          "name": "stdout",
          "text": [
            "# of the training set: 314 \n",
            "# of the test set: 78 \n",
            "# of the training and test sets: 392\n"
          ]
        }
      ]
    },
    {
      "cell_type": "code",
      "source": [
        "def plot_data(dataset):\n",
        "  df = dataset\n",
        "  fig = go.Figure(data=go.Splom(dimensions=[dict(label='MPG', values=df['MPG']),\n",
        "                                            dict(label='Displacement', values=df['Displacement']),\n",
        "                                            dict(label='Horsepower', values=df['Horsepower']),\n",
        "                                            dict(label='Weight', values=df['Weight'])],\n",
        "                                diagonal_visible=False)) # remove plots on diagonal\n",
        "  fig.update_layout(title=\"Some representations of the dataset\", width=1200, height=800)\n",
        "  fig.show()\n",
        "\n",
        "plot_data(train_dataset)"
      ],
      "metadata": {
        "colab": {
          "base_uri": "https://localhost:8080/",
          "height": 817
        },
        "id": "_RA_xmBMbN47",
        "outputId": "c86250f9-6f63-4ebc-9270-fcf97a5f6bb7"
      },
      "execution_count": 161,
      "outputs": [
        {
          "output_type": "display_data",
          "data": {
            "text/html": [
              "<html>\n",
              "<head><meta charset=\"utf-8\" /></head>\n",
              "<body>\n",
              "    <div>            <script src=\"https://cdnjs.cloudflare.com/ajax/libs/mathjax/2.7.5/MathJax.js?config=TeX-AMS-MML_SVG\"></script><script type=\"text/javascript\">if (window.MathJax && window.MathJax.Hub && window.MathJax.Hub.Config) {window.MathJax.Hub.Config({SVG: {font: \"STIX-Web\"}});}</script>                <script type=\"text/javascript\">window.PlotlyConfig = {MathJaxConfig: 'local'};</script>\n",
              "        <script charset=\"utf-8\" src=\"https://cdn.plot.ly/plotly-2.35.2.min.js\"></script>                <div id=\"b74aa599-93cb-4b7d-95c8-5ae1af907008\" class=\"plotly-graph-div\" style=\"height:800px; width:1200px;\"></div>            <script type=\"text/javascript\">                                    window.PLOTLYENV=window.PLOTLYENV || {};                                    if (document.getElementById(\"b74aa599-93cb-4b7d-95c8-5ae1af907008\")) {                    Plotly.newPlot(                        \"b74aa599-93cb-4b7d-95c8-5ae1af907008\",                        [{\"diagonal\":{\"visible\":false},\"dimensions\":[{\"label\":\"MPG\",\"values\":[23.0,22.0,16.9,17.6,23.8,18.0,21.0,32.0,24.0,25.1,27.0,14.0,12.0,25.4,27.0,36.0,29.8,25.0,30.0,26.0,29.9,19.0,35.7,17.5,19.8,20.6,18.5,27.2,26.0,14.0,46.6,15.0,16.5,16.0,20.0,18.1,37.7,33.0,14.0,18.1,25.0,19.0,15.5,14.0,15.0,29.0,18.0,14.0,27.4,26.0,13.0,18.0,23.0,30.0,22.0,26.0,19.0,40.8,34.2,23.2,12.0,32.3,13.0,20.8,19.0,24.5,13.0,28.0,33.8,32.0,32.1,17.5,13.0,15.0,20.6,32.0,26.0,21.1,36.0,28.4,28.0,32.7,18.0,27.9,26.0,23.5,19.0,26.0,27.0,19.9,39.0,24.2,27.2,33.5,13.0,44.0,22.0,20.0,36.1,24.0,13.0,28.0,9.0,27.2,13.0,24.0,27.0,22.5,25.0,25.8,18.0,21.0,31.0,21.5,21.6,16.0,22.0,18.0,34.0,13.0,24.0,10.0,29.0,28.0,25.0,21.0,17.0,31.9,19.0,14.0,33.0,14.0,19.2,14.5,11.0,19.0,25.0,16.0,14.0,31.0,18.0,15.0,21.0,15.5,16.0,37.3,17.0,31.8,14.0,30.0,26.8,14.0,33.7,26.0,20.0,26.0,16.0,15.0,37.2,22.0,32.2,24.0,23.0,22.0,26.5,43.4,38.0,31.0,27.5,22.4,23.9,15.0,29.0,38.0,24.0,18.0,11.0,37.0,11.0,17.0,13.0,22.0,20.0,20.5,17.6,13.0,20.2,13.0,15.0,21.0,21.0,26.0,26.0,15.5,14.0,13.0,29.0,27.0,20.3,37.0,16.0,14.0,32.0,23.0,31.0,29.0,32.0,11.0,13.0,16.0,20.0,19.0,26.0,39.1,30.0,16.5,16.0,18.0,29.0,26.6,26.4,34.5,33.5,19.0,19.2,19.2,24.0,13.0,22.0,30.9,34.7,12.0,29.0,12.0,25.0,21.0,20.5,24.0,20.2,44.3,20.0,24.5,27.0,18.0,18.0,23.0,17.0,20.0,31.0,32.8,18.5,33.5,26.0,36.0,18.0,30.0,13.0,30.5,25.0,35.0,17.5,36.0,38.0,18.5,29.0,24.3,16.0,19.1,25.0,17.0,15.0,20.2,15.0,36.0,32.9,37.0,23.9,14.0,17.0,31.0,13.0,15.0,32.4,12.0,25.5,27.0,17.0,34.1,14.0,29.5,28.0,33.0,28.0,17.7,28.1,19.0,30.0,13.0,19.4,19.0,38.1,36.1,15.0,15.0,15.5,43.1,31.5,28.0,35.0,14.0,28.0,16.0,13.0,30.0]},{\"label\":\"Displacement\",\"values\":[122.0,121.0,350.0,302.0,151.0,171.0,199.0,85.0,121.0,140.0,112.0,455.0,350.0,168.0,97.0,105.0,89.0,116.0,79.0,116.0,98.0,70.0,98.0,318.0,200.0,225.0,250.0,135.0,156.0,302.0,86.0,318.0,350.0,250.0,114.0,258.0,89.0,91.0,350.0,302.0,110.0,232.0,400.0,454.0,250.0,98.0,70.0,304.0,121.0,98.0,318.0,232.0,140.0,97.0,108.0,97.0,225.0,85.0,105.0,156.0,455.0,97.0,350.0,200.0,156.0,98.0,350.0,140.0,97.0,135.0,98.0,258.0,350.0,350.0,231.0,83.0,97.0,134.0,135.0,151.0,120.0,168.0,318.0,156.0,97.0,173.0,120.0,96.0,101.0,260.0,86.0,146.0,119.0,98.0,400.0,97.0,225.0,140.0,98.0,116.0,360.0,116.0,304.0,141.0,318.0,90.0,97.0,232.0,104.0,156.0,225.0,120.0,79.0,80.0,121.0,318.0,121.0,250.0,112.0,307.0,120.0,360.0,90.0,90.0,121.0,122.0,305.0,89.0,122.0,318.0,105.0,340.0,231.0,351.0,400.0,232.0,113.0,351.0,318.0,112.0,232.0,304.0,231.0,318.0,400.0,91.0,163.0,85.0,455.0,111.0,173.0,400.0,107.0,122.0,198.0,91.0,400.0,250.0,86.0,250.0,108.0,200.0,120.0,146.0,140.0,90.0,91.0,79.0,134.0,231.0,119.0,350.0,97.0,105.0,113.0,199.0,429.0,85.0,350.0,250.0,350.0,198.0,262.0,200.0,225.0,351.0,200.0,302.0,318.0,200.0,155.0,108.0,79.0,350.0,304.0,350.0,68.0,97.0,131.0,91.0,304.0,351.0,71.0,198.0,119.0,85.0,91.0,318.0,302.0,318.0,232.0,250.0,121.0,79.0,135.0,168.0,400.0,250.0,135.0,151.0,140.0,105.0,151.0,225.0,305.0,267.0,113.0,400.0,232.0,105.0,105.0,400.0,90.0,350.0,181.0,140.0,231.0,119.0,200.0,90.0,225.0,151.0,140.0,232.0,121.0,350.0,302.0,130.0,91.0,78.0,250.0,85.0,98.0,107.0,307.0,88.0,440.0,98.0,97.5,72.0,305.0,120.0,262.0,360.0,97.0,151.0,302.0,225.0,140.0,260.0,250.0,232.0,318.0,79.0,119.0,119.0,260.0,400.0,304.0,71.0,360.0,429.0,107.0,429.0,122.0,151.0,231.0,91.0,351.0,98.0,112.0,91.0,107.0,231.0,141.0,121.0,146.0,400.0,318.0,232.0,89.0,91.0,400.0,302.0,304.0,90.0,89.0,151.0,122.0,302.0,97.0,258.0,302.0,98.0]},{\"label\":\"Horsepower\",\"values\":[86.0,98.0,155.0,129.0,85.0,97.0,90.0,70.0,110.0,88.0,88.0,225.0,180.0,116.0,88.0,74.0,62.0,81.0,70.0,75.0,65.0,97.0,80.0,140.0,85.0,110.0,110.0,84.0,92.0,137.0,65.0,150.0,180.0,100.0,91.0,120.0,62.0,53.0,165.0,139.0,87.0,100.0,190.0,220.0,72.0,83.0,90.0,150.0,80.0,90.0,150.0,100.0,83.0,67.0,94.0,46.0,95.0,65.0,70.0,105.0,225.0,67.0,175.0,85.0,108.0,60.0,145.0,90.0,67.0,84.0,70.0,95.0,150.0,165.0,105.0,61.0,75.0,95.0,84.0,90.0,79.0,132.0,150.0,105.0,46.0,110.0,88.0,69.0,83.0,110.0,64.0,120.0,97.0,83.0,175.0,52.0,100.0,90.0,66.0,75.0,175.0,90.0,193.0,71.0,150.0,75.0,88.0,90.0,95.0,92.0,95.0,87.0,67.0,110.0,115.0,150.0,76.0,105.0,88.0,130.0,97.0,215.0,70.0,75.0,115.0,86.0,130.0,71.0,85.0,150.0,74.0,160.0,105.0,152.0,150.0,100.0,95.0,149.0,150.0,85.0,100.0,150.0,110.0,145.0,170.0,69.0,125.0,65.0,225.0,80.0,115.0,175.0,75.0,80.0,95.0,70.0,180.0,72.0,65.0,105.0,75.0,81.0,88.0,97.0,72.0,48.0,67.0,67.0,95.0,110.0,97.0,145.0,75.0,63.0,95.0,97.0,208.0,65.0,180.0,100.0,145.0,95.0,110.0,95.0,85.0,158.0,88.0,140.0,150.0,85.0,107.0,93.0,67.0,170.0,150.0,155.0,49.0,60.0,103.0,68.0,150.0,153.0,65.0,95.0,82.0,52.0,67.0,210.0,130.0,150.0,100.0,88.0,113.0,58.0,84.0,120.0,230.0,88.0,84.0,84.0,88.0,70.0,90.0,100.0,145.0,125.0,95.0,150.0,112.0,75.0,63.0,167.0,70.0,160.0,110.0,72.0,105.0,97.0,85.0,48.0,100.0,88.0,86.0,100.0,112.0,125.0,140.0,102.0,68.0,52.0,98.0,70.0,79.0,75.0,130.0,76.0,215.0,63.0,80.0,69.0,145.0,88.0,85.0,150.0,78.0,90.0,140.0,90.0,92.0,110.0,100.0,90.0,150.0,58.0,100.0,92.0,90.0,175.0,150.0,65.0,170.0,198.0,72.0,198.0,96.0,90.0,110.0,68.0,153.0,68.0,88.0,53.0,86.0,165.0,80.0,112.0,67.0,190.0,140.0,90.0,60.0,60.0,150.0,130.0,120.0,48.0,71.0,90.0,88.0,140.0,75.0,110.0,129.0,68.0]},{\"label\":\"Weight\",\"values\":[2220.0,2945.0,4360.0,3725.0,2855.0,2984.0,2648.0,1990.0,2660.0,2720.0,2640.0,3086.0,4499.0,2900.0,2100.0,1980.0,1845.0,2220.0,2074.0,2246.0,2380.0,2330.0,1915.0,4080.0,2990.0,3360.0,3645.0,2490.0,2585.0,4042.0,2110.0,3777.0,4380.0,3781.0,2582.0,3410.0,2050.0,1795.0,4209.0,3205.0,2672.0,2634.0,4325.0,4354.0,3158.0,2219.0,2124.0,3672.0,2670.0,2265.0,3755.0,2789.0,2639.0,1985.0,2379.0,1835.0,3264.0,2110.0,2200.0,2745.0,4951.0,2065.0,4100.0,3070.0,2930.0,2164.0,4055.0,2264.0,2145.0,2295.0,2120.0,3193.0,4699.0,3693.0,3380.0,2003.0,2265.0,2515.0,2370.0,2670.0,2625.0,2910.0,3436.0,2800.0,1950.0,2725.0,3270.0,2189.0,2202.0,3365.0,1875.0,2930.0,2300.0,2075.0,5140.0,2130.0,3233.0,2408.0,1800.0,2158.0,3821.0,2123.0,4732.0,3190.0,3940.0,2108.0,2130.0,3085.0,2375.0,2620.0,3785.0,2979.0,2000.0,2720.0,2795.0,4190.0,2511.0,3459.0,2395.0,4098.0,2489.0,4615.0,1937.0,2125.0,2671.0,2226.0,3840.0,1925.0,2310.0,4096.0,2190.0,3609.0,3535.0,4215.0,4997.0,2901.0,2228.0,4335.0,4077.0,2575.0,2945.0,3892.0,3039.0,4140.0,4668.0,2130.0,3140.0,2020.0,4425.0,2155.0,2700.0,4385.0,2210.0,2451.0,3102.0,1955.0,4220.0,3432.0,2019.0,3353.0,2265.0,3012.0,2957.0,2815.0,2565.0,2335.0,1965.0,1950.0,2560.0,3415.0,2405.0,4440.0,2171.0,2125.0,2278.0,2774.0,4633.0,1975.0,3664.0,3329.0,3988.0,2833.0,3221.0,3155.0,3465.0,4363.0,3060.0,4294.0,3399.0,2587.0,2472.0,2391.0,1963.0,4165.0,4257.0,4502.0,1867.0,1834.0,2830.0,2025.0,3433.0,4129.0,1836.0,2904.0,2720.0,2035.0,1965.0,4382.0,3870.0,4498.0,2914.0,3302.0,2234.0,1755.0,2385.0,3820.0,4278.0,3139.0,2525.0,2635.0,2870.0,2150.0,2556.0,3630.0,3425.0,3605.0,2372.0,4464.0,2835.0,2230.0,2215.0,4906.0,1937.0,4456.0,2945.0,2401.0,3425.0,2545.0,2965.0,2085.0,3651.0,2740.0,2790.0,3288.0,2933.0,3900.0,3449.0,3150.0,1970.0,1985.0,3525.0,1945.0,2255.0,2205.0,3504.0,2065.0,4735.0,2051.0,2126.0,1613.0,3880.0,2160.0,3015.0,3940.0,1940.0,3003.0,4141.0,3381.0,2572.0,4060.0,3336.0,3265.0,4135.0,1825.0,2615.0,2434.0,3420.0,4464.0,3672.0,1773.0,4654.0,4341.0,2290.0,4952.0,2300.0,2735.0,3907.0,1985.0,4154.0,2135.0,2605.0,1795.0,2464.0,3445.0,3230.0,2868.0,3250.0,4422.0,3735.0,3211.0,1968.0,1800.0,3761.0,4295.0,3962.0,1985.0,1990.0,2678.0,2500.0,4638.0,2155.0,3632.0,3169.0,2155.0]}],\"type\":\"splom\"}],                        {\"template\":{\"data\":{\"histogram2dcontour\":[{\"type\":\"histogram2dcontour\",\"colorbar\":{\"outlinewidth\":0,\"ticks\":\"\"},\"colorscale\":[[0.0,\"#0d0887\"],[0.1111111111111111,\"#46039f\"],[0.2222222222222222,\"#7201a8\"],[0.3333333333333333,\"#9c179e\"],[0.4444444444444444,\"#bd3786\"],[0.5555555555555556,\"#d8576b\"],[0.6666666666666666,\"#ed7953\"],[0.7777777777777778,\"#fb9f3a\"],[0.8888888888888888,\"#fdca26\"],[1.0,\"#f0f921\"]]}],\"choropleth\":[{\"type\":\"choropleth\",\"colorbar\":{\"outlinewidth\":0,\"ticks\":\"\"}}],\"histogram2d\":[{\"type\":\"histogram2d\",\"colorbar\":{\"outlinewidth\":0,\"ticks\":\"\"},\"colorscale\":[[0.0,\"#0d0887\"],[0.1111111111111111,\"#46039f\"],[0.2222222222222222,\"#7201a8\"],[0.3333333333333333,\"#9c179e\"],[0.4444444444444444,\"#bd3786\"],[0.5555555555555556,\"#d8576b\"],[0.6666666666666666,\"#ed7953\"],[0.7777777777777778,\"#fb9f3a\"],[0.8888888888888888,\"#fdca26\"],[1.0,\"#f0f921\"]]}],\"heatmap\":[{\"type\":\"heatmap\",\"colorbar\":{\"outlinewidth\":0,\"ticks\":\"\"},\"colorscale\":[[0.0,\"#0d0887\"],[0.1111111111111111,\"#46039f\"],[0.2222222222222222,\"#7201a8\"],[0.3333333333333333,\"#9c179e\"],[0.4444444444444444,\"#bd3786\"],[0.5555555555555556,\"#d8576b\"],[0.6666666666666666,\"#ed7953\"],[0.7777777777777778,\"#fb9f3a\"],[0.8888888888888888,\"#fdca26\"],[1.0,\"#f0f921\"]]}],\"heatmapgl\":[{\"type\":\"heatmapgl\",\"colorbar\":{\"outlinewidth\":0,\"ticks\":\"\"},\"colorscale\":[[0.0,\"#0d0887\"],[0.1111111111111111,\"#46039f\"],[0.2222222222222222,\"#7201a8\"],[0.3333333333333333,\"#9c179e\"],[0.4444444444444444,\"#bd3786\"],[0.5555555555555556,\"#d8576b\"],[0.6666666666666666,\"#ed7953\"],[0.7777777777777778,\"#fb9f3a\"],[0.8888888888888888,\"#fdca26\"],[1.0,\"#f0f921\"]]}],\"contourcarpet\":[{\"type\":\"contourcarpet\",\"colorbar\":{\"outlinewidth\":0,\"ticks\":\"\"}}],\"contour\":[{\"type\":\"contour\",\"colorbar\":{\"outlinewidth\":0,\"ticks\":\"\"},\"colorscale\":[[0.0,\"#0d0887\"],[0.1111111111111111,\"#46039f\"],[0.2222222222222222,\"#7201a8\"],[0.3333333333333333,\"#9c179e\"],[0.4444444444444444,\"#bd3786\"],[0.5555555555555556,\"#d8576b\"],[0.6666666666666666,\"#ed7953\"],[0.7777777777777778,\"#fb9f3a\"],[0.8888888888888888,\"#fdca26\"],[1.0,\"#f0f921\"]]}],\"surface\":[{\"type\":\"surface\",\"colorbar\":{\"outlinewidth\":0,\"ticks\":\"\"},\"colorscale\":[[0.0,\"#0d0887\"],[0.1111111111111111,\"#46039f\"],[0.2222222222222222,\"#7201a8\"],[0.3333333333333333,\"#9c179e\"],[0.4444444444444444,\"#bd3786\"],[0.5555555555555556,\"#d8576b\"],[0.6666666666666666,\"#ed7953\"],[0.7777777777777778,\"#fb9f3a\"],[0.8888888888888888,\"#fdca26\"],[1.0,\"#f0f921\"]]}],\"mesh3d\":[{\"type\":\"mesh3d\",\"colorbar\":{\"outlinewidth\":0,\"ticks\":\"\"}}],\"scatter\":[{\"fillpattern\":{\"fillmode\":\"overlay\",\"size\":10,\"solidity\":0.2},\"type\":\"scatter\"}],\"parcoords\":[{\"type\":\"parcoords\",\"line\":{\"colorbar\":{\"outlinewidth\":0,\"ticks\":\"\"}}}],\"scatterpolargl\":[{\"type\":\"scatterpolargl\",\"marker\":{\"colorbar\":{\"outlinewidth\":0,\"ticks\":\"\"}}}],\"bar\":[{\"error_x\":{\"color\":\"#2a3f5f\"},\"error_y\":{\"color\":\"#2a3f5f\"},\"marker\":{\"line\":{\"color\":\"#E5ECF6\",\"width\":0.5},\"pattern\":{\"fillmode\":\"overlay\",\"size\":10,\"solidity\":0.2}},\"type\":\"bar\"}],\"scattergeo\":[{\"type\":\"scattergeo\",\"marker\":{\"colorbar\":{\"outlinewidth\":0,\"ticks\":\"\"}}}],\"scatterpolar\":[{\"type\":\"scatterpolar\",\"marker\":{\"colorbar\":{\"outlinewidth\":0,\"ticks\":\"\"}}}],\"histogram\":[{\"marker\":{\"pattern\":{\"fillmode\":\"overlay\",\"size\":10,\"solidity\":0.2}},\"type\":\"histogram\"}],\"scattergl\":[{\"type\":\"scattergl\",\"marker\":{\"colorbar\":{\"outlinewidth\":0,\"ticks\":\"\"}}}],\"scatter3d\":[{\"type\":\"scatter3d\",\"line\":{\"colorbar\":{\"outlinewidth\":0,\"ticks\":\"\"}},\"marker\":{\"colorbar\":{\"outlinewidth\":0,\"ticks\":\"\"}}}],\"scattermapbox\":[{\"type\":\"scattermapbox\",\"marker\":{\"colorbar\":{\"outlinewidth\":0,\"ticks\":\"\"}}}],\"scatterternary\":[{\"type\":\"scatterternary\",\"marker\":{\"colorbar\":{\"outlinewidth\":0,\"ticks\":\"\"}}}],\"scattercarpet\":[{\"type\":\"scattercarpet\",\"marker\":{\"colorbar\":{\"outlinewidth\":0,\"ticks\":\"\"}}}],\"carpet\":[{\"aaxis\":{\"endlinecolor\":\"#2a3f5f\",\"gridcolor\":\"white\",\"linecolor\":\"white\",\"minorgridcolor\":\"white\",\"startlinecolor\":\"#2a3f5f\"},\"baxis\":{\"endlinecolor\":\"#2a3f5f\",\"gridcolor\":\"white\",\"linecolor\":\"white\",\"minorgridcolor\":\"white\",\"startlinecolor\":\"#2a3f5f\"},\"type\":\"carpet\"}],\"table\":[{\"cells\":{\"fill\":{\"color\":\"#EBF0F8\"},\"line\":{\"color\":\"white\"}},\"header\":{\"fill\":{\"color\":\"#C8D4E3\"},\"line\":{\"color\":\"white\"}},\"type\":\"table\"}],\"barpolar\":[{\"marker\":{\"line\":{\"color\":\"#E5ECF6\",\"width\":0.5},\"pattern\":{\"fillmode\":\"overlay\",\"size\":10,\"solidity\":0.2}},\"type\":\"barpolar\"}],\"pie\":[{\"automargin\":true,\"type\":\"pie\"}]},\"layout\":{\"autotypenumbers\":\"strict\",\"colorway\":[\"#636efa\",\"#EF553B\",\"#00cc96\",\"#ab63fa\",\"#FFA15A\",\"#19d3f3\",\"#FF6692\",\"#B6E880\",\"#FF97FF\",\"#FECB52\"],\"font\":{\"color\":\"#2a3f5f\"},\"hovermode\":\"closest\",\"hoverlabel\":{\"align\":\"left\"},\"paper_bgcolor\":\"white\",\"plot_bgcolor\":\"#E5ECF6\",\"polar\":{\"bgcolor\":\"#E5ECF6\",\"angularaxis\":{\"gridcolor\":\"white\",\"linecolor\":\"white\",\"ticks\":\"\"},\"radialaxis\":{\"gridcolor\":\"white\",\"linecolor\":\"white\",\"ticks\":\"\"}},\"ternary\":{\"bgcolor\":\"#E5ECF6\",\"aaxis\":{\"gridcolor\":\"white\",\"linecolor\":\"white\",\"ticks\":\"\"},\"baxis\":{\"gridcolor\":\"white\",\"linecolor\":\"white\",\"ticks\":\"\"},\"caxis\":{\"gridcolor\":\"white\",\"linecolor\":\"white\",\"ticks\":\"\"}},\"coloraxis\":{\"colorbar\":{\"outlinewidth\":0,\"ticks\":\"\"}},\"colorscale\":{\"sequential\":[[0.0,\"#0d0887\"],[0.1111111111111111,\"#46039f\"],[0.2222222222222222,\"#7201a8\"],[0.3333333333333333,\"#9c179e\"],[0.4444444444444444,\"#bd3786\"],[0.5555555555555556,\"#d8576b\"],[0.6666666666666666,\"#ed7953\"],[0.7777777777777778,\"#fb9f3a\"],[0.8888888888888888,\"#fdca26\"],[1.0,\"#f0f921\"]],\"sequentialminus\":[[0.0,\"#0d0887\"],[0.1111111111111111,\"#46039f\"],[0.2222222222222222,\"#7201a8\"],[0.3333333333333333,\"#9c179e\"],[0.4444444444444444,\"#bd3786\"],[0.5555555555555556,\"#d8576b\"],[0.6666666666666666,\"#ed7953\"],[0.7777777777777778,\"#fb9f3a\"],[0.8888888888888888,\"#fdca26\"],[1.0,\"#f0f921\"]],\"diverging\":[[0,\"#8e0152\"],[0.1,\"#c51b7d\"],[0.2,\"#de77ae\"],[0.3,\"#f1b6da\"],[0.4,\"#fde0ef\"],[0.5,\"#f7f7f7\"],[0.6,\"#e6f5d0\"],[0.7,\"#b8e186\"],[0.8,\"#7fbc41\"],[0.9,\"#4d9221\"],[1,\"#276419\"]]},\"xaxis\":{\"gridcolor\":\"white\",\"linecolor\":\"white\",\"ticks\":\"\",\"title\":{\"standoff\":15},\"zerolinecolor\":\"white\",\"automargin\":true,\"zerolinewidth\":2},\"yaxis\":{\"gridcolor\":\"white\",\"linecolor\":\"white\",\"ticks\":\"\",\"title\":{\"standoff\":15},\"zerolinecolor\":\"white\",\"automargin\":true,\"zerolinewidth\":2},\"scene\":{\"xaxis\":{\"backgroundcolor\":\"#E5ECF6\",\"gridcolor\":\"white\",\"linecolor\":\"white\",\"showbackground\":true,\"ticks\":\"\",\"zerolinecolor\":\"white\",\"gridwidth\":2},\"yaxis\":{\"backgroundcolor\":\"#E5ECF6\",\"gridcolor\":\"white\",\"linecolor\":\"white\",\"showbackground\":true,\"ticks\":\"\",\"zerolinecolor\":\"white\",\"gridwidth\":2},\"zaxis\":{\"backgroundcolor\":\"#E5ECF6\",\"gridcolor\":\"white\",\"linecolor\":\"white\",\"showbackground\":true,\"ticks\":\"\",\"zerolinecolor\":\"white\",\"gridwidth\":2}},\"shapedefaults\":{\"line\":{\"color\":\"#2a3f5f\"}},\"annotationdefaults\":{\"arrowcolor\":\"#2a3f5f\",\"arrowhead\":0,\"arrowwidth\":1},\"geo\":{\"bgcolor\":\"white\",\"landcolor\":\"#E5ECF6\",\"subunitcolor\":\"white\",\"showland\":true,\"showlakes\":true,\"lakecolor\":\"white\"},\"title\":{\"x\":0.05},\"mapbox\":{\"style\":\"light\"}}},\"title\":{\"text\":\"Some representations of the dataset\"},\"width\":1200,\"height\":800},                        {\"responsive\": true}                    ).then(function(){\n",
              "                            \n",
              "var gd = document.getElementById('b74aa599-93cb-4b7d-95c8-5ae1af907008');\n",
              "var x = new MutationObserver(function (mutations, observer) {{\n",
              "        var display = window.getComputedStyle(gd).display;\n",
              "        if (!display || display === 'none') {{\n",
              "            console.log([gd, 'removed!']);\n",
              "            Plotly.purge(gd);\n",
              "            observer.disconnect();\n",
              "        }}\n",
              "}});\n",
              "\n",
              "// Listen for the removal of the full notebook cells\n",
              "var notebookContainer = gd.closest('#notebook-container');\n",
              "if (notebookContainer) {{\n",
              "    x.observe(notebookContainer, {childList: true});\n",
              "}}\n",
              "\n",
              "// Listen for the clearing of the current output cell\n",
              "var outputEl = gd.closest('.output');\n",
              "if (outputEl) {{\n",
              "    x.observe(outputEl, {childList: true});\n",
              "}}\n",
              "\n",
              "                        })                };                            </script>        </div>\n",
              "</body>\n",
              "</html>"
            ]
          },
          "metadata": {}
        }
      ]
    },
    {
      "cell_type": "markdown",
      "source": [
        "###### **2.2. Training set handling**\n",
        "\n",
        "The next step is to arrange the label variables (those to be predicted) and the feature variables (those to be used for prediction). In this case, the fuel efficiency `MPG` is the label and the other data are the features."
      ],
      "metadata": {
        "id": "pgqCqFGj323h"
      }
    },
    {
      "cell_type": "code",
      "source": [
        "train_features, test_features = train_dataset.copy(), test_dataset.copy()\n",
        "train_labels, test_labels = train_features.pop('MPG'), test_features.pop('MPG')"
      ],
      "metadata": {
        "id": "7MiCcr6o-v8o"
      },
      "execution_count": 162,
      "outputs": []
    },
    {
      "cell_type": "markdown",
      "source": [
        "###### **2.3. Normalization step**\n",
        "\n",
        "The dataset is composed of quantities with different ranges and units. A good practice is to normalize the features so that the scale of the outputs and the scale of the gradients are not affected by the scale of the inputs. Models converge more stably with normalized features.\n",
        "\n",
        "For the following part of the script, the engine horsepower parameter `Horsepower` is used to predict the fuel efficiency of a vehicle. The variable `Horsepower` is kept in the dataset `train_features`. The mean value and standard deviation of this distribution are computed for the normalization layer. Since only one value is needed to predict an output, the input size `input_shape` is set to 1.\n"
      ],
      "metadata": {
        "id": "3FjdtVUpbhSW"
      }
    },
    {
      "cell_type": "code",
      "source": [
        "horsepower = np.array(train_features['Horsepower'])\n",
        "horsepower_normalizer = tf.keras.layers.Normalization(input_shape=[1,], axis=None)\n",
        "horsepower_normalizer.adapt(horsepower) # fit to the data to compute the mean and standard deviation"
      ],
      "metadata": {
        "id": "Zf8YhKuU-3MX",
        "colab": {
          "base_uri": "https://localhost:8080/"
        },
        "outputId": "542e1ce2-5f44-4b2c-8a51-6235585290f6"
      },
      "execution_count": 163,
      "outputs": [
        {
          "output_type": "stream",
          "name": "stderr",
          "text": [
            "/usr/local/lib/python3.10/dist-packages/keras/src/layers/preprocessing/tf_data_layer.py:19: UserWarning:\n",
            "\n",
            "Do not pass an `input_shape`/`input_dim` argument to a layer. When using Sequential models, prefer using an `Input(shape)` object as the first layer in the model instead.\n",
            "\n"
          ]
        }
      ]
    },
    {
      "cell_type": "markdown",
      "source": [
        "---\n",
        "\n",
        "\n",
        "#### **3. Linear regression model (L-model)**\n",
        "\n",
        "First model: a single-variable linear regression model to predict `MPG` from `Horsepower`. For this, two steps are done in this model:\n",
        "*   The feature `Horsepower` is normalized by using a specific preprocessing layer `norm` (then replaced by the one defined above).\n",
        "*   A linear transformation `y = ax + b` is applied with the layer `Dense` to produce 1 output.\n",
        "\n"
      ],
      "metadata": {
        "id": "2Sxygb4SXUEl"
      }
    },
    {
      "cell_type": "code",
      "source": [
        "def create_linear_model(norm):\n",
        "  model = tf.keras.Sequential([norm, tf.keras.layers.Dense(units=1)])\n",
        "  model.compile(optimizer=tf.optimizers.Adam(learning_rate=0.1), loss='mean_absolute_error')\n",
        "  return model"
      ],
      "metadata": {
        "id": "_unS_mDqZkBk"
      },
      "execution_count": 164,
      "outputs": []
    },
    {
      "cell_type": "code",
      "source": [
        "linear_model = create_linear_model(horsepower_normalizer)\n",
        "computation_time = {}\n",
        "t0 = time.time()\n",
        "history = linear_model.fit(train_features['Horsepower'], train_labels, epochs=100, verbose=0, validation_split = 0.2)\n",
        "t1 = time.time()\n",
        "computation_time['L-model'] = t1-t0 # save the computation time"
      ],
      "metadata": {
        "id": "Ef_uqoli_HEe"
      },
      "execution_count": 165,
      "outputs": []
    },
    {
      "cell_type": "code",
      "source": [
        "test_results = {}\n",
        "test_results['L-model'] = linear_model.evaluate(test_features['Horsepower'], test_labels, verbose=0) # save the loss value for the test set"
      ],
      "metadata": {
        "id": "PD8KTQ6y_OT2"
      },
      "execution_count": 166,
      "outputs": []
    },
    {
      "cell_type": "markdown",
      "source": [
        "---\n",
        "\n",
        "\n",
        "#### **4. Multiple inputs linear regression model (nL-model)**\n"
      ],
      "metadata": {
        "id": "HfzcZwNwHLUw"
      }
    },
    {
      "cell_type": "code",
      "source": [
        "normalizer_multiple = tf.keras.layers.Normalization(axis=-1)\n",
        "normalizer_multiple.adapt(np.array(train_features))"
      ],
      "metadata": {
        "id": "FfIsf_BsH3h9"
      },
      "execution_count": 167,
      "outputs": []
    },
    {
      "cell_type": "code",
      "source": [
        "multiple_linear_model = create_linear_model(normalizer_multiple)\n",
        "t0 = time.time()\n",
        "history = multiple_linear_model.fit(train_features, train_labels, epochs=100, verbose=0, validation_split = 0.2)\n",
        "t1 = time.time()\n",
        "computation_time['nL-model'] = t1-t0"
      ],
      "metadata": {
        "id": "yrAa6_D8IIu1"
      },
      "execution_count": 168,
      "outputs": []
    },
    {
      "cell_type": "code",
      "source": [
        "test_results['nL-model'] = multiple_linear_model.evaluate(test_features, test_labels, verbose=0)"
      ],
      "metadata": {
        "id": "j_6z6NcsIXok"
      },
      "execution_count": 169,
      "outputs": []
    },
    {
      "cell_type": "markdown",
      "source": [
        "---\n",
        "\n",
        "\n",
        "#### **5. Deep Neural Network model (DNN-model)**"
      ],
      "metadata": {
        "id": "CZwQHnjIBtpc"
      }
    },
    {
      "cell_type": "code",
      "source": [
        "def DNN_model(norm):\n",
        "  model = tf.keras.Sequential([\n",
        "      norm,\n",
        "      tf.keras.layers.Dense(64, activation='relu'),\n",
        "      tf.keras.layers.Dense(64, activation='relu'),\n",
        "      tf.keras.layers.Dense(1)])\n",
        "\n",
        "  model.compile(loss='mean_absolute_error', optimizer=tf.keras.optimizers.Adam(0.001))\n",
        "  return model"
      ],
      "metadata": {
        "id": "JejOC9uXeDXY"
      },
      "execution_count": 170,
      "outputs": []
    },
    {
      "cell_type": "code",
      "source": [
        "dnn_model = DNN_model(horsepower_normalizer)\n",
        "t0 = time.time()\n",
        "history = dnn_model.fit(train_features['Horsepower'], train_labels, validation_split=0.2, verbose=0, epochs=100)\n",
        "t1 = time.time()\n",
        "computation_time['DNN-model'] = t1-t0"
      ],
      "metadata": {
        "id": "u2rF44E7ABhe"
      },
      "execution_count": 171,
      "outputs": []
    },
    {
      "cell_type": "code",
      "source": [
        "test_results['DNN-model'] = dnn_model.evaluate(test_features['Horsepower'], test_labels, verbose=0)"
      ],
      "metadata": {
        "id": "rry4Lm0VKFIQ"
      },
      "execution_count": 172,
      "outputs": []
    },
    {
      "cell_type": "markdown",
      "source": [
        "---\n",
        "\n",
        "\n",
        "#### **6. Multiple inputs deep Neural Network model (nDNN-model)**"
      ],
      "metadata": {
        "id": "ZX8fFojDKVoS"
      }
    },
    {
      "cell_type": "code",
      "source": [
        "multiple_dnn_model = DNN_model(normalizer_multiple)\n",
        "t0 = time.time()\n",
        "history = multiple_dnn_model.fit(train_features, train_labels, validation_split=0.2, verbose=0, epochs=100)\n",
        "t1 = time.time()\n",
        "computation_time['nDNN-model'] = t1-t0"
      ],
      "metadata": {
        "id": "ZQiIuBsZKaxk"
      },
      "execution_count": 173,
      "outputs": []
    },
    {
      "cell_type": "code",
      "source": [
        "test_results['nDNN-model'] = multiple_dnn_model.evaluate(test_features, test_labels, verbose=0)"
      ],
      "metadata": {
        "id": "n4nM37UhKgtc"
      },
      "execution_count": 174,
      "outputs": []
    },
    {
      "cell_type": "markdown",
      "source": [
        "---\n",
        "\n",
        "\n",
        "#### **7. Confrontation & comments**"
      ],
      "metadata": {
        "id": "wOPrGNokcalM"
      }
    },
    {
      "cell_type": "code",
      "source": [
        "pd.DataFrame([test_results, computation_time], index=['Mean absolute error [MPG]', \"Computation time [s]\"]).T"
      ],
      "metadata": {
        "colab": {
          "base_uri": "https://localhost:8080/",
          "height": 175
        },
        "id": "6xwr4-_XALPC",
        "outputId": "044ba687-0b46-421d-9432-f15c3e226aca"
      },
      "execution_count": 179,
      "outputs": [
        {
          "output_type": "execute_result",
          "data": {
            "text/plain": [
              "            Mean absolute error [MPG]  Computation time [s]\n",
              "L-model                      3.963596             10.000369\n",
              "nL-model                     2.665467              8.958707\n",
              "DNN-model                    3.543202              9.774154\n",
              "nDNN-model                   1.837558             11.008158"
            ],
            "text/html": [
              "\n",
              "  <div id=\"df-ea619f38-32c5-4992-8be2-400cc270a56a\" class=\"colab-df-container\">\n",
              "    <div>\n",
              "<style scoped>\n",
              "    .dataframe tbody tr th:only-of-type {\n",
              "        vertical-align: middle;\n",
              "    }\n",
              "\n",
              "    .dataframe tbody tr th {\n",
              "        vertical-align: top;\n",
              "    }\n",
              "\n",
              "    .dataframe thead th {\n",
              "        text-align: right;\n",
              "    }\n",
              "</style>\n",
              "<table border=\"1\" class=\"dataframe\">\n",
              "  <thead>\n",
              "    <tr style=\"text-align: right;\">\n",
              "      <th></th>\n",
              "      <th>Mean absolute error [MPG]</th>\n",
              "      <th>Computation time [s]</th>\n",
              "    </tr>\n",
              "  </thead>\n",
              "  <tbody>\n",
              "    <tr>\n",
              "      <th>L-model</th>\n",
              "      <td>3.963596</td>\n",
              "      <td>10.000369</td>\n",
              "    </tr>\n",
              "    <tr>\n",
              "      <th>nL-model</th>\n",
              "      <td>2.665467</td>\n",
              "      <td>8.958707</td>\n",
              "    </tr>\n",
              "    <tr>\n",
              "      <th>DNN-model</th>\n",
              "      <td>3.543202</td>\n",
              "      <td>9.774154</td>\n",
              "    </tr>\n",
              "    <tr>\n",
              "      <th>nDNN-model</th>\n",
              "      <td>1.837558</td>\n",
              "      <td>11.008158</td>\n",
              "    </tr>\n",
              "  </tbody>\n",
              "</table>\n",
              "</div>\n",
              "    <div class=\"colab-df-buttons\">\n",
              "\n",
              "  <div class=\"colab-df-container\">\n",
              "    <button class=\"colab-df-convert\" onclick=\"convertToInteractive('df-ea619f38-32c5-4992-8be2-400cc270a56a')\"\n",
              "            title=\"Convert this dataframe to an interactive table.\"\n",
              "            style=\"display:none;\">\n",
              "\n",
              "  <svg xmlns=\"http://www.w3.org/2000/svg\" height=\"24px\" viewBox=\"0 -960 960 960\">\n",
              "    <path d=\"M120-120v-720h720v720H120Zm60-500h600v-160H180v160Zm220 220h160v-160H400v160Zm0 220h160v-160H400v160ZM180-400h160v-160H180v160Zm440 0h160v-160H620v160ZM180-180h160v-160H180v160Zm440 0h160v-160H620v160Z\"/>\n",
              "  </svg>\n",
              "    </button>\n",
              "\n",
              "  <style>\n",
              "    .colab-df-container {\n",
              "      display:flex;\n",
              "      gap: 12px;\n",
              "    }\n",
              "\n",
              "    .colab-df-convert {\n",
              "      background-color: #E8F0FE;\n",
              "      border: none;\n",
              "      border-radius: 50%;\n",
              "      cursor: pointer;\n",
              "      display: none;\n",
              "      fill: #1967D2;\n",
              "      height: 32px;\n",
              "      padding: 0 0 0 0;\n",
              "      width: 32px;\n",
              "    }\n",
              "\n",
              "    .colab-df-convert:hover {\n",
              "      background-color: #E2EBFA;\n",
              "      box-shadow: 0px 1px 2px rgba(60, 64, 67, 0.3), 0px 1px 3px 1px rgba(60, 64, 67, 0.15);\n",
              "      fill: #174EA6;\n",
              "    }\n",
              "\n",
              "    .colab-df-buttons div {\n",
              "      margin-bottom: 4px;\n",
              "    }\n",
              "\n",
              "    [theme=dark] .colab-df-convert {\n",
              "      background-color: #3B4455;\n",
              "      fill: #D2E3FC;\n",
              "    }\n",
              "\n",
              "    [theme=dark] .colab-df-convert:hover {\n",
              "      background-color: #434B5C;\n",
              "      box-shadow: 0px 1px 3px 1px rgba(0, 0, 0, 0.15);\n",
              "      filter: drop-shadow(0px 1px 2px rgba(0, 0, 0, 0.3));\n",
              "      fill: #FFFFFF;\n",
              "    }\n",
              "  </style>\n",
              "\n",
              "    <script>\n",
              "      const buttonEl =\n",
              "        document.querySelector('#df-ea619f38-32c5-4992-8be2-400cc270a56a button.colab-df-convert');\n",
              "      buttonEl.style.display =\n",
              "        google.colab.kernel.accessAllowed ? 'block' : 'none';\n",
              "\n",
              "      async function convertToInteractive(key) {\n",
              "        const element = document.querySelector('#df-ea619f38-32c5-4992-8be2-400cc270a56a');\n",
              "        const dataTable =\n",
              "          await google.colab.kernel.invokeFunction('convertToInteractive',\n",
              "                                                    [key], {});\n",
              "        if (!dataTable) return;\n",
              "\n",
              "        const docLinkHtml = 'Like what you see? Visit the ' +\n",
              "          '<a target=\"_blank\" href=https://colab.research.google.com/notebooks/data_table.ipynb>data table notebook</a>'\n",
              "          + ' to learn more about interactive tables.';\n",
              "        element.innerHTML = '';\n",
              "        dataTable['output_type'] = 'display_data';\n",
              "        await google.colab.output.renderOutput(dataTable, element);\n",
              "        const docLink = document.createElement('div');\n",
              "        docLink.innerHTML = docLinkHtml;\n",
              "        element.appendChild(docLink);\n",
              "      }\n",
              "    </script>\n",
              "  </div>\n",
              "\n",
              "\n",
              "<div id=\"df-09b747a1-9e97-4bb9-88ec-699a3d79ca12\">\n",
              "  <button class=\"colab-df-quickchart\" onclick=\"quickchart('df-09b747a1-9e97-4bb9-88ec-699a3d79ca12')\"\n",
              "            title=\"Suggest charts\"\n",
              "            style=\"display:none;\">\n",
              "\n",
              "<svg xmlns=\"http://www.w3.org/2000/svg\" height=\"24px\"viewBox=\"0 0 24 24\"\n",
              "     width=\"24px\">\n",
              "    <g>\n",
              "        <path d=\"M19 3H5c-1.1 0-2 .9-2 2v14c0 1.1.9 2 2 2h14c1.1 0 2-.9 2-2V5c0-1.1-.9-2-2-2zM9 17H7v-7h2v7zm4 0h-2V7h2v10zm4 0h-2v-4h2v4z\"/>\n",
              "    </g>\n",
              "</svg>\n",
              "  </button>\n",
              "\n",
              "<style>\n",
              "  .colab-df-quickchart {\n",
              "      --bg-color: #E8F0FE;\n",
              "      --fill-color: #1967D2;\n",
              "      --hover-bg-color: #E2EBFA;\n",
              "      --hover-fill-color: #174EA6;\n",
              "      --disabled-fill-color: #AAA;\n",
              "      --disabled-bg-color: #DDD;\n",
              "  }\n",
              "\n",
              "  [theme=dark] .colab-df-quickchart {\n",
              "      --bg-color: #3B4455;\n",
              "      --fill-color: #D2E3FC;\n",
              "      --hover-bg-color: #434B5C;\n",
              "      --hover-fill-color: #FFFFFF;\n",
              "      --disabled-bg-color: #3B4455;\n",
              "      --disabled-fill-color: #666;\n",
              "  }\n",
              "\n",
              "  .colab-df-quickchart {\n",
              "    background-color: var(--bg-color);\n",
              "    border: none;\n",
              "    border-radius: 50%;\n",
              "    cursor: pointer;\n",
              "    display: none;\n",
              "    fill: var(--fill-color);\n",
              "    height: 32px;\n",
              "    padding: 0;\n",
              "    width: 32px;\n",
              "  }\n",
              "\n",
              "  .colab-df-quickchart:hover {\n",
              "    background-color: var(--hover-bg-color);\n",
              "    box-shadow: 0 1px 2px rgba(60, 64, 67, 0.3), 0 1px 3px 1px rgba(60, 64, 67, 0.15);\n",
              "    fill: var(--button-hover-fill-color);\n",
              "  }\n",
              "\n",
              "  .colab-df-quickchart-complete:disabled,\n",
              "  .colab-df-quickchart-complete:disabled:hover {\n",
              "    background-color: var(--disabled-bg-color);\n",
              "    fill: var(--disabled-fill-color);\n",
              "    box-shadow: none;\n",
              "  }\n",
              "\n",
              "  .colab-df-spinner {\n",
              "    border: 2px solid var(--fill-color);\n",
              "    border-color: transparent;\n",
              "    border-bottom-color: var(--fill-color);\n",
              "    animation:\n",
              "      spin 1s steps(1) infinite;\n",
              "  }\n",
              "\n",
              "  @keyframes spin {\n",
              "    0% {\n",
              "      border-color: transparent;\n",
              "      border-bottom-color: var(--fill-color);\n",
              "      border-left-color: var(--fill-color);\n",
              "    }\n",
              "    20% {\n",
              "      border-color: transparent;\n",
              "      border-left-color: var(--fill-color);\n",
              "      border-top-color: var(--fill-color);\n",
              "    }\n",
              "    30% {\n",
              "      border-color: transparent;\n",
              "      border-left-color: var(--fill-color);\n",
              "      border-top-color: var(--fill-color);\n",
              "      border-right-color: var(--fill-color);\n",
              "    }\n",
              "    40% {\n",
              "      border-color: transparent;\n",
              "      border-right-color: var(--fill-color);\n",
              "      border-top-color: var(--fill-color);\n",
              "    }\n",
              "    60% {\n",
              "      border-color: transparent;\n",
              "      border-right-color: var(--fill-color);\n",
              "    }\n",
              "    80% {\n",
              "      border-color: transparent;\n",
              "      border-right-color: var(--fill-color);\n",
              "      border-bottom-color: var(--fill-color);\n",
              "    }\n",
              "    90% {\n",
              "      border-color: transparent;\n",
              "      border-bottom-color: var(--fill-color);\n",
              "    }\n",
              "  }\n",
              "</style>\n",
              "\n",
              "  <script>\n",
              "    async function quickchart(key) {\n",
              "      const quickchartButtonEl =\n",
              "        document.querySelector('#' + key + ' button');\n",
              "      quickchartButtonEl.disabled = true;  // To prevent multiple clicks.\n",
              "      quickchartButtonEl.classList.add('colab-df-spinner');\n",
              "      try {\n",
              "        const charts = await google.colab.kernel.invokeFunction(\n",
              "            'suggestCharts', [key], {});\n",
              "      } catch (error) {\n",
              "        console.error('Error during call to suggestCharts:', error);\n",
              "      }\n",
              "      quickchartButtonEl.classList.remove('colab-df-spinner');\n",
              "      quickchartButtonEl.classList.add('colab-df-quickchart-complete');\n",
              "    }\n",
              "    (() => {\n",
              "      let quickchartButtonEl =\n",
              "        document.querySelector('#df-09b747a1-9e97-4bb9-88ec-699a3d79ca12 button');\n",
              "      quickchartButtonEl.style.display =\n",
              "        google.colab.kernel.accessAllowed ? 'block' : 'none';\n",
              "    })();\n",
              "  </script>\n",
              "</div>\n",
              "\n",
              "    </div>\n",
              "  </div>\n"
            ],
            "application/vnd.google.colaboratory.intrinsic+json": {
              "type": "dataframe",
              "summary": "{\n  \"name\": \"pd\",\n  \"rows\": 4,\n  \"fields\": [\n    {\n      \"column\": \"Mean absolute error [MPG]\",\n      \"properties\": {\n        \"dtype\": \"number\",\n        \"std\": 0.9463521670279178,\n        \"min\": 1.8375576734542847,\n        \"max\": 3.9635963439941406,\n        \"num_unique_values\": 4,\n        \"samples\": [\n          2.665466785430908,\n          1.8375576734542847,\n          3.9635963439941406\n        ],\n        \"semantic_type\": \"\",\n        \"description\": \"\"\n      }\n    },\n    {\n      \"column\": \"Computation time [s]\",\n      \"properties\": {\n        \"dtype\": \"number\",\n        \"std\": 0.8435953473636896,\n        \"min\": 8.958707332611084,\n        \"max\": 11.008157968521118,\n        \"num_unique_values\": 4,\n        \"samples\": [\n          8.958707332611084,\n          11.008157968521118,\n          10.00036907196045\n        ],\n        \"semantic_type\": \"\",\n        \"description\": \"\"\n      }\n    }\n  ]\n}"
            }
          },
          "metadata": {},
          "execution_count": 179
        }
      ]
    },
    {
      "cell_type": "code",
      "source": [
        "predictions_linear_model = linear_model.predict(test_features[\"Horsepower\"], verbose=0).flatten()\n",
        "predictions_multiple_linear_model = multiple_linear_model.predict(test_features, verbose=0).flatten()\n",
        "predictions_dnn_model = dnn_model.predict(test_features[\"Horsepower\"], verbose=0).flatten()\n",
        "predictions_multiple_dnn_model = multiple_dnn_model.predict(test_features, verbose=0).flatten()\n",
        "\n",
        "df_predictions = [predictions_linear_model, predictions_multiple_linear_model, predictions_dnn_model, predictions_multiple_dnn_model]"
      ],
      "metadata": {
        "id": "e2eEfSqMvFG4"
      },
      "execution_count": 176,
      "outputs": []
    },
    {
      "cell_type": "code",
      "source": [
        "def plot_prediction(df):\n",
        "  subtitles = [\"L-model\", \"L-model\", \"nL-model\", \"nL-model\", \"DNN-model\", \"DNN-model\", \"nDNN-model\", \"nDNN-model\"]\n",
        "  fig = make_subplots(rows=len(df_predictions), cols=2, subplot_titles=subtitles)\n",
        "\n",
        "  for index, model in enumerate(df):\n",
        "    fig.add_trace(go.Scatter(x=test_labels, y=model, mode='markers', marker_color='blue', showlegend=False), row=index+1, col=1)\n",
        "    xaxis = np.linspace(np.min(test_labels)*0.9,np.max(test_labels)*1.1,50)\n",
        "    fig.add_trace(go.Scatter(x=xaxis, y=xaxis, mode='lines', marker_color='red', showlegend=False), row=index+1, col=1)\n",
        "    fig.add_trace(go.Histogram(x=model - test_labels, nbinsx=25, marker_color='blue', showlegend=False), row=index+1, col=2)\n",
        "    fig.update_yaxes(title_text=\"Predictions [MPG]\", row=index+1, col=1), fig.update_yaxes(title_text=\"Count\", range=[0, 25], row=index+1, col=2)\n",
        "\n",
        "  fig.update_layout(title=dict(text='Predicted values Vs. True values'), width=800, height=1000)\n",
        "  fig.update_xaxes(title_text=\"True values [MPG]\", row=len(df_predictions), col=1), fig.update_xaxes(title_text=\"Prediction error [MPG]\", row=len(df_predictions), col=2)\n",
        "  fig.show()"
      ],
      "metadata": {
        "id": "LCGE_pw-vdNT"
      },
      "execution_count": 177,
      "outputs": []
    },
    {
      "cell_type": "code",
      "source": [
        "plot_prediction(df_predictions)"
      ],
      "metadata": {
        "colab": {
          "base_uri": "https://localhost:8080/",
          "height": 1000
        },
        "id": "xmgZdKD6ypZh",
        "outputId": "3757bd11-d6a7-42f4-f8f8-2d030c83e409"
      },
      "execution_count": 178,
      "outputs": [
        {
          "output_type": "display_data",
          "data": {
            "text/html": [
              "<html>\n",
              "<head><meta charset=\"utf-8\" /></head>\n",
              "<body>\n",
              "    <div>            <script src=\"https://cdnjs.cloudflare.com/ajax/libs/mathjax/2.7.5/MathJax.js?config=TeX-AMS-MML_SVG\"></script><script type=\"text/javascript\">if (window.MathJax && window.MathJax.Hub && window.MathJax.Hub.Config) {window.MathJax.Hub.Config({SVG: {font: \"STIX-Web\"}});}</script>                <script type=\"text/javascript\">window.PlotlyConfig = {MathJaxConfig: 'local'};</script>\n",
              "        <script charset=\"utf-8\" src=\"https://cdn.plot.ly/plotly-2.35.2.min.js\"></script>                <div id=\"458a383f-07bb-4904-84fa-67172683d55c\" class=\"plotly-graph-div\" style=\"height:1000px; width:800px;\"></div>            <script type=\"text/javascript\">                                    window.PLOTLYENV=window.PLOTLYENV || {};                                    if (document.getElementById(\"458a383f-07bb-4904-84fa-67172683d55c\")) {                    Plotly.newPlot(                        \"458a383f-07bb-4904-84fa-67172683d55c\",                        [{\"marker\":{\"color\":\"blue\"},\"mode\":\"markers\",\"showlegend\":false,\"x\":[14.0,15.0,15.0,24.0,10.0,27.0,16.0,12.0,13.0,18.0,22.0,19.0,23.0,13.0,22.0,28.0,23.0,28.0,14.0,18.0,16.0,18.0,20.0,15.0,20.0,25.0,18.0,14.0,26.0,31.0,14.0,16.0,15.0,23.0,24.0,25.0,23.0,17.5,18.0,29.5,31.5,17.5,25.5,30.5,21.5,39.4,20.2,20.5,19.4,18.6,16.2,21.5,22.3,16.5,18.2,15.5,34.1,25.4,28.8,41.5,34.3,29.8,31.3,36.4,44.6,23.7,35.1,34.4,32.4,31.6,30.7,26.6,24.0,36.0,34.0,38.0,32.0,27.0],\"y\":[5.6557026,9.516506,12.605149,24.95972,7.972184,25.268585,22.643238,11.060827,12.605149,21.871078,27.7395,23.4154,30.51928,13.37731,25.57745,24.650856,23.878696,26.504044,15.693792,22.643238,23.4154,25.268585,25.268585,16.465954,20.017893,27.276203,22.643238,15.693792,26.812906,30.828144,16.002657,22.643238,21.871078,26.812906,24.033129,27.893932,24.187561,17.238113,26.812906,27.893932,28.35723,21.871078,25.114153,26.812906,21.871078,28.048365,17.392546,23.4154,24.95972,21.871078,18.319138,21.098917,25.268585,17.546978,18.010275,16.929249,28.820526,26.967339,21.098917,27.12177,26.812906,24.95972,27.276203,28.511662,28.511662,23.4154,29.592686,28.820526,27.276203,27.430635,27.12177,22.643238,24.650856,28.048365,28.048365,28.511662,24.033129,24.95972],\"type\":\"scatter\",\"xaxis\":\"x\",\"yaxis\":\"y\"},{\"marker\":{\"color\":\"red\"},\"mode\":\"lines\",\"showlegend\":false,\"x\":[9.0,9.817551020408164,10.635102040816326,11.45265306122449,12.270204081632652,13.087755102040816,13.90530612244898,14.722857142857144,15.540408163265306,16.35795918367347,17.175510204081633,17.993061224489797,18.81061224489796,19.62816326530612,20.44571428571429,21.26326530612245,22.080816326530613,22.898367346938777,23.715918367346937,24.533469387755105,25.351020408163265,26.16857142857143,26.986122448979593,27.803673469387757,28.62122448979592,29.43877551020408,30.256326530612245,31.07387755102041,31.891428571428573,32.70897959183674,33.5265306122449,34.34408163265306,35.161632653061226,35.97918367346939,36.79673469387755,37.614285714285714,38.431836734693874,39.24938775510204,40.06693877551021,40.88448979591837,41.70204081632653,42.5195918367347,43.33714285714286,44.15469387755102,44.972244897959186,45.789795918367346,46.607346938775514,47.424897959183674,48.24244897959184,49.06],\"y\":[9.0,9.817551020408164,10.635102040816326,11.45265306122449,12.270204081632652,13.087755102040816,13.90530612244898,14.722857142857144,15.540408163265306,16.35795918367347,17.175510204081633,17.993061224489797,18.81061224489796,19.62816326530612,20.44571428571429,21.26326530612245,22.080816326530613,22.898367346938777,23.715918367346937,24.533469387755105,25.351020408163265,26.16857142857143,26.986122448979593,27.803673469387757,28.62122448979592,29.43877551020408,30.256326530612245,31.07387755102041,31.891428571428573,32.70897959183674,33.5265306122449,34.34408163265306,35.161632653061226,35.97918367346939,36.79673469387755,37.614285714285714,38.431836734693874,39.24938775510204,40.06693877551021,40.88448979591837,41.70204081632653,42.5195918367347,43.33714285714286,44.15469387755102,44.972244897959186,45.789795918367346,46.607346938775514,47.424897959183674,48.24244897959184,49.06],\"type\":\"scatter\",\"xaxis\":\"x\",\"yaxis\":\"y\"},{\"marker\":{\"color\":\"blue\"},\"nbinsx\":25,\"showlegend\":false,\"x\":[-8.344297409057617,-5.483493804931641,-2.394850730895996,0.9597206115722656,-2.027815818786621,-1.731414794921875,6.643238067626953,-0.9391727447509766,-0.3948507308959961,3.8710784912109375,5.739500045776367,4.415399551391602,7.519279479980469,0.37730979919433594,3.5774497985839844,-3.3491439819335938,0.8786964416503906,-1.4959564208984375,1.6937923431396484,4.643238067626953,7.415399551391602,7.268585205078125,5.268585205078125,1.4659538269042969,0.017892837524414062,2.276203155517578,4.643238067626953,1.6937923431396484,0.8129062652587891,-0.17185592651367188,2.002656936645508,6.643238067626953,6.8710784912109375,3.812906265258789,0.03312873840332031,2.893932342529297,1.18756103515625,-0.2618865966796875,8.812906265258789,-1.6060676574707031,-3.142770767211914,4.3710784912109375,-0.3858470916748047,-3.687093734741211,0.3710784912109375,-11.351635360717772,-2.807454299926757,2.9153995513916016,5.559720611572267,3.271078491210936,2.119137573242188,-0.40108299255371094,2.9685852050781243,1.0469779968261719,-0.18972511291503835,1.4292488098144531,-5.279473876953126,1.5673385620117202,-7.701082992553712,-14.378229141235352,-7.487093734741208,-4.840279388427735,-4.023796844482423,-7.888338470458983,-16.088338470458986,-0.2846004486083977,-5.507314300537111,-5.579473876953124,-5.1237968444824205,-4.169364547729494,-3.578229141235351,-3.9567619323730483,0.6508560180664062,-7.951635360717773,-5.951635360717773,-9.488338470458984,-7.96687126159668,-2.0402793884277344],\"type\":\"histogram\",\"xaxis\":\"x2\",\"yaxis\":\"y2\"},{\"marker\":{\"color\":\"blue\"},\"mode\":\"markers\",\"showlegend\":false,\"x\":[14.0,15.0,15.0,24.0,10.0,27.0,16.0,12.0,13.0,18.0,22.0,19.0,23.0,13.0,22.0,28.0,23.0,28.0,14.0,18.0,16.0,18.0,20.0,15.0,20.0,25.0,18.0,14.0,26.0,31.0,14.0,16.0,15.0,23.0,24.0,25.0,23.0,17.5,18.0,29.5,31.5,17.5,25.5,30.5,21.5,39.4,20.2,20.5,19.4,18.6,16.2,21.5,22.3,16.5,18.2,15.5,34.1,25.4,28.8,41.5,34.3,29.8,31.3,36.4,44.6,23.7,35.1,34.4,32.4,31.6,30.7,26.6,24.0,36.0,34.0,38.0,32.0,27.0],\"y\":[11.938771,14.162457,15.621393,23.363262,10.7399645,26.096394,17.008308,8.369277,9.574341,19.912844,23.501902,18.000284,25.102749,12.5075865,24.150843,25.74499,24.694845,25.314413,12.997801,19.89131,19.087376,20.495644,26.300858,14.028184,22.540728,24.452911,17.67619,12.327849,26.200151,30.151329,11.912554,16.729017,17.726906,24.71872,25.333263,27.088509,24.704683,14.689397,18.930523,29.979342,29.74593,20.013462,25.002514,28.486485,26.477827,30.102022,19.409882,20.886536,22.110264,19.845398,21.421926,22.612242,25.323893,18.033318,18.526764,17.480238,31.219536,21.728113,26.036846,30.39336,30.13483,27.99323,28.770447,25.186682,32.532135,30.068132,33.47422,30.876846,30.354399,28.78442,24.061657,20.182981,27.15892,30.989508,31.472874,32.78928,29.463034,26.713139],\"type\":\"scatter\",\"xaxis\":\"x3\",\"yaxis\":\"y3\"},{\"marker\":{\"color\":\"red\"},\"mode\":\"lines\",\"showlegend\":false,\"x\":[9.0,9.817551020408164,10.635102040816326,11.45265306122449,12.270204081632652,13.087755102040816,13.90530612244898,14.722857142857144,15.540408163265306,16.35795918367347,17.175510204081633,17.993061224489797,18.81061224489796,19.62816326530612,20.44571428571429,21.26326530612245,22.080816326530613,22.898367346938777,23.715918367346937,24.533469387755105,25.351020408163265,26.16857142857143,26.986122448979593,27.803673469387757,28.62122448979592,29.43877551020408,30.256326530612245,31.07387755102041,31.891428571428573,32.70897959183674,33.5265306122449,34.34408163265306,35.161632653061226,35.97918367346939,36.79673469387755,37.614285714285714,38.431836734693874,39.24938775510204,40.06693877551021,40.88448979591837,41.70204081632653,42.5195918367347,43.33714285714286,44.15469387755102,44.972244897959186,45.789795918367346,46.607346938775514,47.424897959183674,48.24244897959184,49.06],\"y\":[9.0,9.817551020408164,10.635102040816326,11.45265306122449,12.270204081632652,13.087755102040816,13.90530612244898,14.722857142857144,15.540408163265306,16.35795918367347,17.175510204081633,17.993061224489797,18.81061224489796,19.62816326530612,20.44571428571429,21.26326530612245,22.080816326530613,22.898367346938777,23.715918367346937,24.533469387755105,25.351020408163265,26.16857142857143,26.986122448979593,27.803673469387757,28.62122448979592,29.43877551020408,30.256326530612245,31.07387755102041,31.891428571428573,32.70897959183674,33.5265306122449,34.34408163265306,35.161632653061226,35.97918367346939,36.79673469387755,37.614285714285714,38.431836734693874,39.24938775510204,40.06693877551021,40.88448979591837,41.70204081632653,42.5195918367347,43.33714285714286,44.15469387755102,44.972244897959186,45.789795918367346,46.607346938775514,47.424897959183674,48.24244897959184,49.06],\"type\":\"scatter\",\"xaxis\":\"x3\",\"yaxis\":\"y3\"},{\"marker\":{\"color\":\"blue\"},\"nbinsx\":25,\"showlegend\":false,\"x\":[-2.0612287521362305,-0.8375425338745117,0.6213932037353516,-0.6367378234863281,0.739964485168457,-0.9036064147949219,1.0083084106445312,-3.630722999572754,-3.4256591796875,1.9128437042236328,1.501901626586914,-0.9997158050537109,2.1027488708496094,-0.4924135208129883,2.1508426666259766,-2.2550106048583984,1.694845199584961,-2.685586929321289,-1.0021991729736328,1.8913097381591797,3.0873756408691406,2.4956436157226562,6.3008575439453125,-0.9718160629272461,2.5407276153564453,-0.547088623046875,-0.3238105773925781,-1.6721506118774414,0.2001514434814453,-0.8486709594726562,-2.0874462127685547,0.7290172576904297,2.7269058227539062,1.718719482421875,1.3332633972167969,2.0885086059570312,1.7046833038330078,-2.810603141784668,0.9305229187011719,0.4793415069580078,-1.7540702819824219,2.5134620666503906,-0.4974861145019531,-2.0135154724121094,4.977827072143555,-9.29797782897949,-0.7901184082031243,0.38653564453125,2.710263824462892,1.2453979492187486,5.221926498413087,1.1122417449951172,3.0238925933837884,1.5333175659179688,0.3267639160156257,1.9802379608154297,-2.8804641723632827,-3.671886825561522,-2.763153839111329,-11.106639862060547,-4.1651695251464815,-1.8067691802978523,-2.5295532226562507,-11.213318252563475,-12.067864990234376,6.368132400512696,-1.6257797241210952,-3.523153686523436,-2.0456012725830064,-2.815579986572267,-6.638343048095702,-6.417018508911134,3.1589202880859375,-5.010492324829102,-2.5271263122558594,-5.210720062255859,-2.536966323852539,-0.2868614196777344],\"type\":\"histogram\",\"xaxis\":\"x4\",\"yaxis\":\"y4\"},{\"marker\":{\"color\":\"blue\"},\"mode\":\"markers\",\"showlegend\":false,\"x\":[14.0,15.0,15.0,24.0,10.0,27.0,16.0,12.0,13.0,18.0,22.0,19.0,23.0,13.0,22.0,28.0,23.0,28.0,14.0,18.0,16.0,18.0,20.0,15.0,20.0,25.0,18.0,14.0,26.0,31.0,14.0,16.0,15.0,23.0,24.0,25.0,23.0,17.5,18.0,29.5,31.5,17.5,25.5,30.5,21.5,39.4,20.2,20.5,19.4,18.6,16.2,21.5,22.3,16.5,18.2,15.5,34.1,25.4,28.8,41.5,34.3,29.8,31.3,36.4,44.6,23.7,35.1,34.4,32.4,31.6,30.7,26.6,24.0,36.0,34.0,38.0,32.0,27.0],\"y\":[13.233028,13.098833,13.433482,24.787071,13.004504,25.258156,21.240253,13.193163,13.433482,20.057125,29.447891,22.423378,34.422573,13.556457,25.729244,24.315983,23.133253,27.23214,14.326707,21.240253,22.423378,25.258156,25.258156,14.64555,17.223507,28.616879,21.240253,14.326707,27.78587,34.974445,14.454244,21.240252,20.057125,27.78587,23.369877,29.724892,23.606503,14.964392,27.78587,29.724892,30.555904,20.057125,25.022614,27.78587,20.057125,30.001898,15.028161,22.423378,24.787071,20.057125,15.488964,18.874,25.258156,15.091928,15.314314,14.836855,31.386913,28.062874,18.874,28.339874,27.78587,24.787071,28.61688,30.832905,30.832907,22.423378,32.766937,31.386913,28.616879,28.893883,28.339874,21.240253,24.315983,30.001898,30.001898,30.832907,23.369879,24.787071],\"type\":\"scatter\",\"xaxis\":\"x5\",\"yaxis\":\"y5\"},{\"marker\":{\"color\":\"red\"},\"mode\":\"lines\",\"showlegend\":false,\"x\":[9.0,9.817551020408164,10.635102040816326,11.45265306122449,12.270204081632652,13.087755102040816,13.90530612244898,14.722857142857144,15.540408163265306,16.35795918367347,17.175510204081633,17.993061224489797,18.81061224489796,19.62816326530612,20.44571428571429,21.26326530612245,22.080816326530613,22.898367346938777,23.715918367346937,24.533469387755105,25.351020408163265,26.16857142857143,26.986122448979593,27.803673469387757,28.62122448979592,29.43877551020408,30.256326530612245,31.07387755102041,31.891428571428573,32.70897959183674,33.5265306122449,34.34408163265306,35.161632653061226,35.97918367346939,36.79673469387755,37.614285714285714,38.431836734693874,39.24938775510204,40.06693877551021,40.88448979591837,41.70204081632653,42.5195918367347,43.33714285714286,44.15469387755102,44.972244897959186,45.789795918367346,46.607346938775514,47.424897959183674,48.24244897959184,49.06],\"y\":[9.0,9.817551020408164,10.635102040816326,11.45265306122449,12.270204081632652,13.087755102040816,13.90530612244898,14.722857142857144,15.540408163265306,16.35795918367347,17.175510204081633,17.993061224489797,18.81061224489796,19.62816326530612,20.44571428571429,21.26326530612245,22.080816326530613,22.898367346938777,23.715918367346937,24.533469387755105,25.351020408163265,26.16857142857143,26.986122448979593,27.803673469387757,28.62122448979592,29.43877551020408,30.256326530612245,31.07387755102041,31.891428571428573,32.70897959183674,33.5265306122449,34.34408163265306,35.161632653061226,35.97918367346939,36.79673469387755,37.614285714285714,38.431836734693874,39.24938775510204,40.06693877551021,40.88448979591837,41.70204081632653,42.5195918367347,43.33714285714286,44.15469387755102,44.972244897959186,45.789795918367346,46.607346938775514,47.424897959183674,48.24244897959184,49.06],\"type\":\"scatter\",\"xaxis\":\"x5\",\"yaxis\":\"y5\"},{\"marker\":{\"color\":\"blue\"},\"nbinsx\":25,\"showlegend\":false,\"x\":[-0.7669715881347656,-1.9011669158935547,-1.5665178298950195,0.7870712280273438,3.0045042037963867,-1.7418441772460938,5.240253448486328,1.1931629180908203,0.43348217010498047,2.0571250915527344,7.4478912353515625,3.4233779907226562,11.42257308959961,0.5564565658569336,3.7292442321777344,-3.6840171813964844,0.1332530975341797,-0.7678604125976562,0.3267068862915039,3.240253448486328,6.423377990722656,7.258155822753906,5.258155822753906,-0.3544502258300781,-2.7764930725097656,3.6168785095214844,3.240253448486328,0.3267068862915039,1.7858695983886719,3.974445343017578,0.45424365997314453,5.240251541137695,5.057125091552734,4.785869598388672,-0.6301231384277344,4.724891662597656,0.6065025329589844,-2.5356082916259766,9.785869598388672,0.22489166259765625,-0.9440956115722656,2.5571250915527344,-0.477386474609375,-2.714130401611328,-1.4428749084472656,-9.39810218811035,-5.171838951110839,1.9233779907226562,5.387071228027345,1.457125091552733,-0.7110359191894524,-2.6259994506835938,2.9581558227539055,-1.4080724716186523,-2.8856861114501946,-0.6631450653076172,-2.7130867004394545,2.6628738403320327,-9.925999450683594,-13.160125732421875,-6.514130401611325,-5.012928771972657,-2.6831195831298835,-5.5670951843261705,-13.76709327697754,-1.276622009277343,-2.3330627441406264,-3.0130867004394517,-3.783121490478514,-2.7061172485351577,-2.3601257324218743,-5.359746551513673,0.3159828186035156,-5.998102188110352,-3.9981021881103516,-7.167093276977539,-8.630121231079102,-2.2129287719726562],\"type\":\"histogram\",\"xaxis\":\"x6\",\"yaxis\":\"y6\"},{\"marker\":{\"color\":\"blue\"},\"mode\":\"markers\",\"showlegend\":false,\"x\":[14.0,15.0,15.0,24.0,10.0,27.0,16.0,12.0,13.0,18.0,22.0,19.0,23.0,13.0,22.0,28.0,23.0,28.0,14.0,18.0,16.0,18.0,20.0,15.0,20.0,25.0,18.0,14.0,26.0,31.0,14.0,16.0,15.0,23.0,24.0,25.0,23.0,17.5,18.0,29.5,31.5,17.5,25.5,30.5,21.5,39.4,20.2,20.5,19.4,18.6,16.2,21.5,22.3,16.5,18.2,15.5,34.1,25.4,28.8,41.5,34.3,29.8,31.3,36.4,44.6,23.7,35.1,34.4,32.4,31.6,30.7,26.6,24.0,36.0,34.0,38.0,32.0,27.0],\"y\":[14.346662,14.969933,15.169844,25.553726,11.169484,26.442972,17.460152,12.848952,12.714643,17.801964,22.629986,17.888485,25.716211,12.853013,23.82011,25.3345,23.106365,27.826187,13.098264,16.937923,16.252003,18.168102,26.473728,13.660274,17.186165,23.355759,17.07835,14.110083,25.601051,33.182846,14.472203,16.52329,15.938155,22.912535,22.651316,26.006237,21.752495,16.32774,20.23353,30.831863,30.832,17.873041,24.754519,27.945698,23.250515,32.150368,17.720182,19.737314,20.499475,19.148111,15.301656,19.404606,25.188263,18.260386,18.34578,17.915276,33.62379,21.505108,25.057161,31.45944,30.874884,27.817207,30.410234,28.341354,35.071438,32.823517,37.643074,34.669205,32.835167,31.57071,27.098734,24.298618,28.002964,34.237114,35.008736,36.87947,30.43041,27.46805],\"type\":\"scatter\",\"xaxis\":\"x7\",\"yaxis\":\"y7\"},{\"marker\":{\"color\":\"red\"},\"mode\":\"lines\",\"showlegend\":false,\"x\":[9.0,9.817551020408164,10.635102040816326,11.45265306122449,12.270204081632652,13.087755102040816,13.90530612244898,14.722857142857144,15.540408163265306,16.35795918367347,17.175510204081633,17.993061224489797,18.81061224489796,19.62816326530612,20.44571428571429,21.26326530612245,22.080816326530613,22.898367346938777,23.715918367346937,24.533469387755105,25.351020408163265,26.16857142857143,26.986122448979593,27.803673469387757,28.62122448979592,29.43877551020408,30.256326530612245,31.07387755102041,31.891428571428573,32.70897959183674,33.5265306122449,34.34408163265306,35.161632653061226,35.97918367346939,36.79673469387755,37.614285714285714,38.431836734693874,39.24938775510204,40.06693877551021,40.88448979591837,41.70204081632653,42.5195918367347,43.33714285714286,44.15469387755102,44.972244897959186,45.789795918367346,46.607346938775514,47.424897959183674,48.24244897959184,49.06],\"y\":[9.0,9.817551020408164,10.635102040816326,11.45265306122449,12.270204081632652,13.087755102040816,13.90530612244898,14.722857142857144,15.540408163265306,16.35795918367347,17.175510204081633,17.993061224489797,18.81061224489796,19.62816326530612,20.44571428571429,21.26326530612245,22.080816326530613,22.898367346938777,23.715918367346937,24.533469387755105,25.351020408163265,26.16857142857143,26.986122448979593,27.803673469387757,28.62122448979592,29.43877551020408,30.256326530612245,31.07387755102041,31.891428571428573,32.70897959183674,33.5265306122449,34.34408163265306,35.161632653061226,35.97918367346939,36.79673469387755,37.614285714285714,38.431836734693874,39.24938775510204,40.06693877551021,40.88448979591837,41.70204081632653,42.5195918367347,43.33714285714286,44.15469387755102,44.972244897959186,45.789795918367346,46.607346938775514,47.424897959183674,48.24244897959184,49.06],\"type\":\"scatter\",\"xaxis\":\"x7\",\"yaxis\":\"y7\"},{\"marker\":{\"color\":\"blue\"},\"nbinsx\":25,\"showlegend\":false,\"x\":[0.3466615676879883,-0.03006744384765625,0.1698436737060547,1.5537261962890625,1.1694841384887695,-0.5570278167724609,1.4601516723632812,0.8489522933959961,-0.2853574752807617,-0.19803619384765625,0.6299858093261719,-1.1115150451660156,2.7162113189697266,-0.1469869613647461,1.8201103210449219,-2.6655006408691406,0.10636520385742188,-0.1738128662109375,-0.9017362594604492,-1.0620765686035156,0.2520027160644531,0.16810226440429688,6.473728179931641,-1.339726448059082,-2.8138351440429688,-1.6442413330078125,-0.9216499328613281,0.11008262634277344,-0.39894866943359375,2.1828460693359375,0.47220325469970703,0.5232906341552734,0.9381551742553711,-0.08746528625488281,-1.348684310913086,1.0062370300292969,-1.2475051879882812,-1.1722602844238281,2.233530044555664,1.3318634033203125,-0.667999267578125,0.37304115295410156,-0.7454814910888672,-2.554302215576172,1.7505149841308594,-7.249632263183592,-2.479817581176757,-0.7626857757568359,1.099475479125978,0.5481113433837876,-0.8983442306518548,-2.0953941345214844,2.8882629394531243,1.760385513305664,0.1457794189453132,2.4152755737304688,-0.47620925903320455,-3.8948921203613267,-3.742838668823243,-10.040559768676758,-3.4251163482665987,-1.9827926635742195,-0.8897655487060554,-8.058645629882811,-9.528562164306642,9.123516845703126,2.54307403564453,0.2692047119140639,0.43516693115234517,-0.02929077148437642,-3.6012660980224602,-2.301381683349611,4.002964019775391,-1.7628860473632812,1.0087356567382812,-1.1205291748046875,-1.569589614868164,0.4680500030517578],\"type\":\"histogram\",\"xaxis\":\"x8\",\"yaxis\":\"y8\"}],                        {\"template\":{\"data\":{\"histogram2dcontour\":[{\"type\":\"histogram2dcontour\",\"colorbar\":{\"outlinewidth\":0,\"ticks\":\"\"},\"colorscale\":[[0.0,\"#0d0887\"],[0.1111111111111111,\"#46039f\"],[0.2222222222222222,\"#7201a8\"],[0.3333333333333333,\"#9c179e\"],[0.4444444444444444,\"#bd3786\"],[0.5555555555555556,\"#d8576b\"],[0.6666666666666666,\"#ed7953\"],[0.7777777777777778,\"#fb9f3a\"],[0.8888888888888888,\"#fdca26\"],[1.0,\"#f0f921\"]]}],\"choropleth\":[{\"type\":\"choropleth\",\"colorbar\":{\"outlinewidth\":0,\"ticks\":\"\"}}],\"histogram2d\":[{\"type\":\"histogram2d\",\"colorbar\":{\"outlinewidth\":0,\"ticks\":\"\"},\"colorscale\":[[0.0,\"#0d0887\"],[0.1111111111111111,\"#46039f\"],[0.2222222222222222,\"#7201a8\"],[0.3333333333333333,\"#9c179e\"],[0.4444444444444444,\"#bd3786\"],[0.5555555555555556,\"#d8576b\"],[0.6666666666666666,\"#ed7953\"],[0.7777777777777778,\"#fb9f3a\"],[0.8888888888888888,\"#fdca26\"],[1.0,\"#f0f921\"]]}],\"heatmap\":[{\"type\":\"heatmap\",\"colorbar\":{\"outlinewidth\":0,\"ticks\":\"\"},\"colorscale\":[[0.0,\"#0d0887\"],[0.1111111111111111,\"#46039f\"],[0.2222222222222222,\"#7201a8\"],[0.3333333333333333,\"#9c179e\"],[0.4444444444444444,\"#bd3786\"],[0.5555555555555556,\"#d8576b\"],[0.6666666666666666,\"#ed7953\"],[0.7777777777777778,\"#fb9f3a\"],[0.8888888888888888,\"#fdca26\"],[1.0,\"#f0f921\"]]}],\"heatmapgl\":[{\"type\":\"heatmapgl\",\"colorbar\":{\"outlinewidth\":0,\"ticks\":\"\"},\"colorscale\":[[0.0,\"#0d0887\"],[0.1111111111111111,\"#46039f\"],[0.2222222222222222,\"#7201a8\"],[0.3333333333333333,\"#9c179e\"],[0.4444444444444444,\"#bd3786\"],[0.5555555555555556,\"#d8576b\"],[0.6666666666666666,\"#ed7953\"],[0.7777777777777778,\"#fb9f3a\"],[0.8888888888888888,\"#fdca26\"],[1.0,\"#f0f921\"]]}],\"contourcarpet\":[{\"type\":\"contourcarpet\",\"colorbar\":{\"outlinewidth\":0,\"ticks\":\"\"}}],\"contour\":[{\"type\":\"contour\",\"colorbar\":{\"outlinewidth\":0,\"ticks\":\"\"},\"colorscale\":[[0.0,\"#0d0887\"],[0.1111111111111111,\"#46039f\"],[0.2222222222222222,\"#7201a8\"],[0.3333333333333333,\"#9c179e\"],[0.4444444444444444,\"#bd3786\"],[0.5555555555555556,\"#d8576b\"],[0.6666666666666666,\"#ed7953\"],[0.7777777777777778,\"#fb9f3a\"],[0.8888888888888888,\"#fdca26\"],[1.0,\"#f0f921\"]]}],\"surface\":[{\"type\":\"surface\",\"colorbar\":{\"outlinewidth\":0,\"ticks\":\"\"},\"colorscale\":[[0.0,\"#0d0887\"],[0.1111111111111111,\"#46039f\"],[0.2222222222222222,\"#7201a8\"],[0.3333333333333333,\"#9c179e\"],[0.4444444444444444,\"#bd3786\"],[0.5555555555555556,\"#d8576b\"],[0.6666666666666666,\"#ed7953\"],[0.7777777777777778,\"#fb9f3a\"],[0.8888888888888888,\"#fdca26\"],[1.0,\"#f0f921\"]]}],\"mesh3d\":[{\"type\":\"mesh3d\",\"colorbar\":{\"outlinewidth\":0,\"ticks\":\"\"}}],\"scatter\":[{\"fillpattern\":{\"fillmode\":\"overlay\",\"size\":10,\"solidity\":0.2},\"type\":\"scatter\"}],\"parcoords\":[{\"type\":\"parcoords\",\"line\":{\"colorbar\":{\"outlinewidth\":0,\"ticks\":\"\"}}}],\"scatterpolargl\":[{\"type\":\"scatterpolargl\",\"marker\":{\"colorbar\":{\"outlinewidth\":0,\"ticks\":\"\"}}}],\"bar\":[{\"error_x\":{\"color\":\"#2a3f5f\"},\"error_y\":{\"color\":\"#2a3f5f\"},\"marker\":{\"line\":{\"color\":\"#E5ECF6\",\"width\":0.5},\"pattern\":{\"fillmode\":\"overlay\",\"size\":10,\"solidity\":0.2}},\"type\":\"bar\"}],\"scattergeo\":[{\"type\":\"scattergeo\",\"marker\":{\"colorbar\":{\"outlinewidth\":0,\"ticks\":\"\"}}}],\"scatterpolar\":[{\"type\":\"scatterpolar\",\"marker\":{\"colorbar\":{\"outlinewidth\":0,\"ticks\":\"\"}}}],\"histogram\":[{\"marker\":{\"pattern\":{\"fillmode\":\"overlay\",\"size\":10,\"solidity\":0.2}},\"type\":\"histogram\"}],\"scattergl\":[{\"type\":\"scattergl\",\"marker\":{\"colorbar\":{\"outlinewidth\":0,\"ticks\":\"\"}}}],\"scatter3d\":[{\"type\":\"scatter3d\",\"line\":{\"colorbar\":{\"outlinewidth\":0,\"ticks\":\"\"}},\"marker\":{\"colorbar\":{\"outlinewidth\":0,\"ticks\":\"\"}}}],\"scattermapbox\":[{\"type\":\"scattermapbox\",\"marker\":{\"colorbar\":{\"outlinewidth\":0,\"ticks\":\"\"}}}],\"scatterternary\":[{\"type\":\"scatterternary\",\"marker\":{\"colorbar\":{\"outlinewidth\":0,\"ticks\":\"\"}}}],\"scattercarpet\":[{\"type\":\"scattercarpet\",\"marker\":{\"colorbar\":{\"outlinewidth\":0,\"ticks\":\"\"}}}],\"carpet\":[{\"aaxis\":{\"endlinecolor\":\"#2a3f5f\",\"gridcolor\":\"white\",\"linecolor\":\"white\",\"minorgridcolor\":\"white\",\"startlinecolor\":\"#2a3f5f\"},\"baxis\":{\"endlinecolor\":\"#2a3f5f\",\"gridcolor\":\"white\",\"linecolor\":\"white\",\"minorgridcolor\":\"white\",\"startlinecolor\":\"#2a3f5f\"},\"type\":\"carpet\"}],\"table\":[{\"cells\":{\"fill\":{\"color\":\"#EBF0F8\"},\"line\":{\"color\":\"white\"}},\"header\":{\"fill\":{\"color\":\"#C8D4E3\"},\"line\":{\"color\":\"white\"}},\"type\":\"table\"}],\"barpolar\":[{\"marker\":{\"line\":{\"color\":\"#E5ECF6\",\"width\":0.5},\"pattern\":{\"fillmode\":\"overlay\",\"size\":10,\"solidity\":0.2}},\"type\":\"barpolar\"}],\"pie\":[{\"automargin\":true,\"type\":\"pie\"}]},\"layout\":{\"autotypenumbers\":\"strict\",\"colorway\":[\"#636efa\",\"#EF553B\",\"#00cc96\",\"#ab63fa\",\"#FFA15A\",\"#19d3f3\",\"#FF6692\",\"#B6E880\",\"#FF97FF\",\"#FECB52\"],\"font\":{\"color\":\"#2a3f5f\"},\"hovermode\":\"closest\",\"hoverlabel\":{\"align\":\"left\"},\"paper_bgcolor\":\"white\",\"plot_bgcolor\":\"#E5ECF6\",\"polar\":{\"bgcolor\":\"#E5ECF6\",\"angularaxis\":{\"gridcolor\":\"white\",\"linecolor\":\"white\",\"ticks\":\"\"},\"radialaxis\":{\"gridcolor\":\"white\",\"linecolor\":\"white\",\"ticks\":\"\"}},\"ternary\":{\"bgcolor\":\"#E5ECF6\",\"aaxis\":{\"gridcolor\":\"white\",\"linecolor\":\"white\",\"ticks\":\"\"},\"baxis\":{\"gridcolor\":\"white\",\"linecolor\":\"white\",\"ticks\":\"\"},\"caxis\":{\"gridcolor\":\"white\",\"linecolor\":\"white\",\"ticks\":\"\"}},\"coloraxis\":{\"colorbar\":{\"outlinewidth\":0,\"ticks\":\"\"}},\"colorscale\":{\"sequential\":[[0.0,\"#0d0887\"],[0.1111111111111111,\"#46039f\"],[0.2222222222222222,\"#7201a8\"],[0.3333333333333333,\"#9c179e\"],[0.4444444444444444,\"#bd3786\"],[0.5555555555555556,\"#d8576b\"],[0.6666666666666666,\"#ed7953\"],[0.7777777777777778,\"#fb9f3a\"],[0.8888888888888888,\"#fdca26\"],[1.0,\"#f0f921\"]],\"sequentialminus\":[[0.0,\"#0d0887\"],[0.1111111111111111,\"#46039f\"],[0.2222222222222222,\"#7201a8\"],[0.3333333333333333,\"#9c179e\"],[0.4444444444444444,\"#bd3786\"],[0.5555555555555556,\"#d8576b\"],[0.6666666666666666,\"#ed7953\"],[0.7777777777777778,\"#fb9f3a\"],[0.8888888888888888,\"#fdca26\"],[1.0,\"#f0f921\"]],\"diverging\":[[0,\"#8e0152\"],[0.1,\"#c51b7d\"],[0.2,\"#de77ae\"],[0.3,\"#f1b6da\"],[0.4,\"#fde0ef\"],[0.5,\"#f7f7f7\"],[0.6,\"#e6f5d0\"],[0.7,\"#b8e186\"],[0.8,\"#7fbc41\"],[0.9,\"#4d9221\"],[1,\"#276419\"]]},\"xaxis\":{\"gridcolor\":\"white\",\"linecolor\":\"white\",\"ticks\":\"\",\"title\":{\"standoff\":15},\"zerolinecolor\":\"white\",\"automargin\":true,\"zerolinewidth\":2},\"yaxis\":{\"gridcolor\":\"white\",\"linecolor\":\"white\",\"ticks\":\"\",\"title\":{\"standoff\":15},\"zerolinecolor\":\"white\",\"automargin\":true,\"zerolinewidth\":2},\"scene\":{\"xaxis\":{\"backgroundcolor\":\"#E5ECF6\",\"gridcolor\":\"white\",\"linecolor\":\"white\",\"showbackground\":true,\"ticks\":\"\",\"zerolinecolor\":\"white\",\"gridwidth\":2},\"yaxis\":{\"backgroundcolor\":\"#E5ECF6\",\"gridcolor\":\"white\",\"linecolor\":\"white\",\"showbackground\":true,\"ticks\":\"\",\"zerolinecolor\":\"white\",\"gridwidth\":2},\"zaxis\":{\"backgroundcolor\":\"#E5ECF6\",\"gridcolor\":\"white\",\"linecolor\":\"white\",\"showbackground\":true,\"ticks\":\"\",\"zerolinecolor\":\"white\",\"gridwidth\":2}},\"shapedefaults\":{\"line\":{\"color\":\"#2a3f5f\"}},\"annotationdefaults\":{\"arrowcolor\":\"#2a3f5f\",\"arrowhead\":0,\"arrowwidth\":1},\"geo\":{\"bgcolor\":\"white\",\"landcolor\":\"#E5ECF6\",\"subunitcolor\":\"white\",\"showland\":true,\"showlakes\":true,\"lakecolor\":\"white\"},\"title\":{\"x\":0.05},\"mapbox\":{\"style\":\"light\"}}},\"xaxis\":{\"anchor\":\"y\",\"domain\":[0.0,0.45]},\"yaxis\":{\"anchor\":\"x\",\"domain\":[0.84375,1.0],\"title\":{\"text\":\"Predictions [MPG]\"}},\"xaxis2\":{\"anchor\":\"y2\",\"domain\":[0.55,1.0]},\"yaxis2\":{\"anchor\":\"x2\",\"domain\":[0.84375,1.0],\"title\":{\"text\":\"Count\"},\"range\":[0,25]},\"xaxis3\":{\"anchor\":\"y3\",\"domain\":[0.0,0.45]},\"yaxis3\":{\"anchor\":\"x3\",\"domain\":[0.5625,0.71875],\"title\":{\"text\":\"Predictions [MPG]\"}},\"xaxis4\":{\"anchor\":\"y4\",\"domain\":[0.55,1.0]},\"yaxis4\":{\"anchor\":\"x4\",\"domain\":[0.5625,0.71875],\"title\":{\"text\":\"Count\"},\"range\":[0,25]},\"xaxis5\":{\"anchor\":\"y5\",\"domain\":[0.0,0.45]},\"yaxis5\":{\"anchor\":\"x5\",\"domain\":[0.28125,0.4375],\"title\":{\"text\":\"Predictions [MPG]\"}},\"xaxis6\":{\"anchor\":\"y6\",\"domain\":[0.55,1.0]},\"yaxis6\":{\"anchor\":\"x6\",\"domain\":[0.28125,0.4375],\"title\":{\"text\":\"Count\"},\"range\":[0,25]},\"xaxis7\":{\"anchor\":\"y7\",\"domain\":[0.0,0.45],\"title\":{\"text\":\"True values [MPG]\"}},\"yaxis7\":{\"anchor\":\"x7\",\"domain\":[0.0,0.15625],\"title\":{\"text\":\"Predictions [MPG]\"}},\"xaxis8\":{\"anchor\":\"y8\",\"domain\":[0.55,1.0],\"title\":{\"text\":\"Prediction error [MPG]\"}},\"yaxis8\":{\"anchor\":\"x8\",\"domain\":[0.0,0.15625],\"title\":{\"text\":\"Count\"},\"range\":[0,25]},\"annotations\":[{\"font\":{\"size\":16},\"showarrow\":false,\"text\":\"L-model\",\"x\":0.225,\"xanchor\":\"center\",\"xref\":\"paper\",\"y\":1.0,\"yanchor\":\"bottom\",\"yref\":\"paper\"},{\"font\":{\"size\":16},\"showarrow\":false,\"text\":\"L-model\",\"x\":0.775,\"xanchor\":\"center\",\"xref\":\"paper\",\"y\":1.0,\"yanchor\":\"bottom\",\"yref\":\"paper\"},{\"font\":{\"size\":16},\"showarrow\":false,\"text\":\"nL-model\",\"x\":0.225,\"xanchor\":\"center\",\"xref\":\"paper\",\"y\":0.71875,\"yanchor\":\"bottom\",\"yref\":\"paper\"},{\"font\":{\"size\":16},\"showarrow\":false,\"text\":\"nL-model\",\"x\":0.775,\"xanchor\":\"center\",\"xref\":\"paper\",\"y\":0.71875,\"yanchor\":\"bottom\",\"yref\":\"paper\"},{\"font\":{\"size\":16},\"showarrow\":false,\"text\":\"DNN-model\",\"x\":0.225,\"xanchor\":\"center\",\"xref\":\"paper\",\"y\":0.4375,\"yanchor\":\"bottom\",\"yref\":\"paper\"},{\"font\":{\"size\":16},\"showarrow\":false,\"text\":\"DNN-model\",\"x\":0.775,\"xanchor\":\"center\",\"xref\":\"paper\",\"y\":0.4375,\"yanchor\":\"bottom\",\"yref\":\"paper\"},{\"font\":{\"size\":16},\"showarrow\":false,\"text\":\"nDNN-model\",\"x\":0.225,\"xanchor\":\"center\",\"xref\":\"paper\",\"y\":0.15625,\"yanchor\":\"bottom\",\"yref\":\"paper\"},{\"font\":{\"size\":16},\"showarrow\":false,\"text\":\"nDNN-model\",\"x\":0.775,\"xanchor\":\"center\",\"xref\":\"paper\",\"y\":0.15625,\"yanchor\":\"bottom\",\"yref\":\"paper\"}],\"title\":{\"text\":\"Predicted values Vs. True values\"},\"width\":800,\"height\":1000},                        {\"responsive\": true}                    ).then(function(){\n",
              "                            \n",
              "var gd = document.getElementById('458a383f-07bb-4904-84fa-67172683d55c');\n",
              "var x = new MutationObserver(function (mutations, observer) {{\n",
              "        var display = window.getComputedStyle(gd).display;\n",
              "        if (!display || display === 'none') {{\n",
              "            console.log([gd, 'removed!']);\n",
              "            Plotly.purge(gd);\n",
              "            observer.disconnect();\n",
              "        }}\n",
              "}});\n",
              "\n",
              "// Listen for the removal of the full notebook cells\n",
              "var notebookContainer = gd.closest('#notebook-container');\n",
              "if (notebookContainer) {{\n",
              "    x.observe(notebookContainer, {childList: true});\n",
              "}}\n",
              "\n",
              "// Listen for the clearing of the current output cell\n",
              "var outputEl = gd.closest('.output');\n",
              "if (outputEl) {{\n",
              "    x.observe(outputEl, {childList: true});\n",
              "}}\n",
              "\n",
              "                        })                };                            </script>        </div>\n",
              "</body>\n",
              "</html>"
            ]
          },
          "metadata": {}
        }
      ]
    }
  ]
}