{
  "nbformat": 4,
  "nbformat_minor": 0,
  "metadata": {
    "colab": {
      "provenance": [],
      "authorship_tag": "ABX9TyMq8hQ6fh2SUfu7DQG1eZpK",
      "include_colab_link": true
    },
    "kernelspec": {
      "name": "python3",
      "display_name": "Python 3"
    },
    "language_info": {
      "name": "python"
    }
  },
  "cells": [
    {
      "cell_type": "markdown",
      "metadata": {
        "id": "view-in-github",
        "colab_type": "text"
      },
      "source": [
        "<a href=\"https://colab.research.google.com/github/Benjamin-morel/TensorFlow/blob/main/03_%5BRP%5D_regression.ipynb\" target=\"_parent\"><img src=\"https://colab.research.google.com/assets/colab-badge.svg\" alt=\"Open In Colab\"/></a>"
      ]
    },
    {
      "cell_type": "markdown",
      "source": [
        "---\n",
        "\n",
        "\n",
        "# **Machine Learning Model: regression and predictions**\n",
        "| | |\n",
        "|------|------|\n",
        "| Filename | 03_[RP]_regression.ipynb |\n",
        "| Author(s) | Benjamin Morel (benjaminmorel27@gmail.com) |\n",
        "| Date | September 8, 2024 |\n",
        "| Aim(s) | Do regression tasks with a neural network machine learning model|\n",
        "| Dataset(s) | Auto MPG dataset from UC Irvine [[1]](https://archive.ics.uci.edu/dataset/9/auto+mpg) |\n",
        "| Version | Python 3.10.12 - TensorFlow 2.17.1 - final notebook version |\n",
        "\n",
        "\n",
        "<br> **!!Read before running!!** <br>\n",
        "1. Fill in the inputs\n",
        "2. CPU execution is enough\n",
        "3. Run all and read comments.\n",
        "\n",
        "\n",
        "---\n",
        "\n",
        "#### **Motivation**\n",
        "\n",
        "With the Auto MPG datase from the UC Irvine university [[1]](https://archive.ics.uci.edu/dataset/9/auto+mpg), a neural network model is created to predict fuel efficiency of any 1970s / 1980s automobiles. Four regression models are created and then compared.\n",
        "\n",
        "#### **Outline**\n",
        "* retrieve data from a .csv\n",
        "* cleaning data and pre-processing\n",
        "* model definition and training\n",
        "* comparison & predictions\n",
        "* references"
      ],
      "metadata": {
        "id": "U2GVF6UjO9N0"
      }
    },
    {
      "cell_type": "markdown",
      "source": [
        "\n",
        "\n",
        "---\n",
        "\n",
        "\n",
        "## **0. Input section**"
      ],
      "metadata": {
        "id": "7F9TsGwiRjAh"
      }
    },
    {
      "cell_type": "markdown",
      "source": [
        "The model has already been trained and the user can choose to used a pre-trained model (No) or to repeat the training phase (Yes). Using a pre-trained model saves time, computer resources and CO2 emissions."
      ],
      "metadata": {
        "id": "XHGZZ-MMRgzB"
      }
    },
    {
      "cell_type": "code",
      "source": [
        "training_phase = 'No'"
      ],
      "metadata": {
        "id": "Fcu3GHX9Rlxe"
      },
      "execution_count": 1,
      "outputs": []
    },
    {
      "cell_type": "markdown",
      "source": [
        "---\n",
        "\n",
        "\n",
        "## **1.Python librairies & display utilities**"
      ],
      "metadata": {
        "id": "HX4Y8l7XfZgR"
      }
    },
    {
      "cell_type": "code",
      "source": [
        "# @title 1.1. Python librairies [RUN ME]\n",
        "\n",
        "\"\"\"math\"\"\"\n",
        "import numpy as np # linear algebra\n",
        "\n",
        "\"\"\"data\"\"\"\n",
        "from pandas import read_csv, DataFrame # data manipulation tool\n",
        "\n",
        "\"\"\"ML models\"\"\"\n",
        "import tensorflow as tf # framework for ML/DL\n",
        "from tensorflow import keras, optimizers, linspace # API used to build model in TensorFlow\n",
        "\n",
        "\"\"\"display\"\"\"\n",
        "from plotly.graph_objects import Figure, Splom, Scatter, Histogram  # graphing packages\n",
        "from plotly.subplots import make_subplots # graphing packages\n",
        "\n",
        "\"\"\"performances\"\"\"\n",
        "from time import thread_time, time # timer\n",
        "start = time()"
      ],
      "metadata": {
        "cellView": "form",
        "id": "eCnWgs9IfgYK"
      },
      "execution_count": 2,
      "outputs": []
    },
    {
      "cell_type": "code",
      "source": [
        "# @title 1.2. Import Github files [RUN ME]\n",
        "\n",
        "\"\"\"clone the Github repertory TensorFlow and imports the files required (see sections 4 to 8)\"\"\"\n",
        "def get_github_files():\n",
        "  !git clone https://github.com/Benjamin-morel/TensorFlow.git TensorFlow_duplicata\n",
        "  path_model_L = 'TensorFlow_duplicata/99_pre_trained_models/03_regression/Lmodel.keras'\n",
        "  path_model_nL = 'TensorFlow_duplicata/99_pre_trained_models/03_regression/nLmodel.keras'\n",
        "  path_model_DNN = 'TensorFlow_duplicata/99_pre_trained_models/03_regression/DNNmodel.keras'\n",
        "  path_model_nDNN = 'TensorFlow_duplicata/99_pre_trained_models/03_regression/nDNNmodel.keras'\n",
        "  path_csv = 'TensorFlow_duplicata/99_pre_trained_models/03_regression/performances_regression.csv'\n",
        "  model_L = keras.models.load_model(path_model_L)\n",
        "  model_nL = keras.models.load_model(path_model_nL)\n",
        "  model_DNN = keras.models.load_model(path_model_DNN)\n",
        "  model_nDNN = keras.models.load_model(path_model_nDNN)\n",
        "  performances_CSV = read_csv(path_csv)\n",
        "  !rm -rf TensorFlow_duplicata/\n",
        "  return model_L, model_nL, model_DNN, model_nDNN, performances_CSV"
      ],
      "metadata": {
        "cellView": "form",
        "id": "bDwWnjObgLRX"
      },
      "execution_count": 3,
      "outputs": []
    },
    {
      "cell_type": "code",
      "source": [
        "# @title 1.3. Figure plots [RUN ME]\n",
        "\n",
        "\"\"\"plot multi-graph(see section 3.1)\"\"\"\n",
        "def plot_data(dataset):\n",
        "  df = dataset\n",
        "  fig = Figure(data=Splom(dimensions=[dict(label='MPG', values=df['MPG']),\n",
        "                                      dict(label='Displacement', values=df['Displacement']),\n",
        "                                      dict(label='Horsepower', values=df['Horsepower']),\n",
        "                                      dict(label='Weight', values=df['Weight'])],\n",
        "                          diagonal_visible=False)) # remove plots on diagonal\n",
        "\n",
        "  fig.update_layout(title=\"Some representations of the dataset\", width=1000, height=600)\n",
        "  fig.show()\n",
        "\n",
        "\"\"\"plot training curves (see sections 4 to 7)\"\"\"\n",
        "def show_evolution(history):\n",
        "  history_dict = history.history\n",
        "  history_dict.keys()\n",
        "\n",
        "  fig = Figure()\n",
        "\n",
        "  acc_train, acc_val = history_dict['loss'], history_dict['val_loss']\n",
        "  epochs = np.array(range(1, len(acc_train) + 1))\n",
        "\n",
        "  fig.add_trace(Scatter(x=epochs, y=acc_train, mode='lines', name='loss'))\n",
        "  fig.add_trace(Scatter(x=epochs, y=acc_val, mode='lines', name='val_loss'))\n",
        "  fig.update_layout(legend=dict(x=0.02, y=0.98, xanchor='left', yanchor='top', bgcolor='rgba(255, 255, 255, 0.8)', bordercolor='black', borderwidth=1), width=500, height=500)\n",
        "  fig.update_xaxes(title = \"epochs\"), fig.update_yaxes(title = \"loss\")\n",
        "\n",
        "  fig.show()\n",
        "\n",
        "\"\"\"plot histogram and performance graph (see section 8)\"\"\"\n",
        "def plot_prediction(name):\n",
        "  model = all_model[name]\n",
        "  if name == 'L-model' or name == 'DNN-model':\n",
        "    predictions = model.predict(test_features[\"Horsepower\"], verbose=0).flatten()\n",
        "  else:\n",
        "    predictions = model.predict(test_features, verbose=0).flatten()\n",
        "  fig = make_subplots(rows=1, cols=2, subplot_titles=[\"Predicted values Vs. True values\", \"Error distribution\"])\n",
        "  # Subplot 1\n",
        "  fig.add_trace(Scatter(x=test_labels, y=predictions, mode='markers', marker_color='blue', showlegend=False), row=1, col=1)\n",
        "  xaxis = linspace(min(test_labels)*0.9,max(test_labels)*1.1,50)\n",
        "  fig.add_trace(Scatter(x=xaxis, y=xaxis, mode='lines', marker_color='red', showlegend=False), row=1, col=1) # line y=x\n",
        "  # Subplot 2\n",
        "  fig.add_trace(Histogram(x=predictions - test_labels, nbinsx=25, marker_color='blue', showlegend=False), row=1, col=2)\n",
        "  fig.update_yaxes(title_text=\"Predictions [MPG]\", row=1, col=1), fig.update_yaxes(title_text=\"Count\", range=[0, 25], row=1, col=2)\n",
        "  # Layout and axis\n",
        "  fig.update_layout(title=dict(text=name), width=900, height=500)\n",
        "  fig.update_xaxes(title_text=\"True values [MPG]\", row=1, col=1), fig.update_xaxes(title_text=\"Prediction error [MPG]\", row=1, col=2)\n",
        "  fig.show()"
      ],
      "metadata": {
        "cellView": "form",
        "id": "9lrdOyX4h-A3"
      },
      "execution_count": 4,
      "outputs": []
    },
    {
      "cell_type": "markdown",
      "source": [
        "---\n",
        "\n",
        "\n",
        "## **2. Data retrieval and set generation**"
      ],
      "metadata": {
        "id": "xddfzpahZHan"
      }
    },
    {
      "cell_type": "markdown",
      "source": [
        "### 2.1. Data acquisition\n",
        "\n",
        "The dataset is composed of 9 characteristics of 398 car models, with `mpg` as the target variable.\n",
        "\n",
        "| | | |\n",
        "|------|------|------|\n",
        "| Quantity | Description | Unit |\n",
        "| displacement | engine displacement | [in^3] |\n",
        "| cylinders | number of cylinders | - |\n",
        "| weight | vehicle weight | [lb] |\n",
        "| model year | car's model year | - |\n",
        "| origin | 1 = USA, 2 = Europe, 3 = Japan | - |\n",
        "| car name | descriptive string | - |\n",
        "| acceleration | time to accelerate from 0 to 60 mph | [s] |\n",
        "| horsepower | engine power | - |\n",
        "| mpg | car's fuel efficiency | [mi/gal] |\n"
      ],
      "metadata": {
        "id": "3wwXrlPRRP7d"
      }
    },
    {
      "cell_type": "code",
      "source": [
        "\"\"\"retrieve data\"\"\"\n",
        "def get_data(url):\n",
        "  raw_dataset = read_csv(url, names=column_names, na_values='?',  comment='\\t',  sep=' ', skipinitialspace=True)\n",
        "  print(\"Summary of the dataset: \", \"\\n\", \"\\nNumber of rows in raw_dataset: \", len(raw_dataset), \"/ 398\", \"\\nNumber of missing values: \", raw_dataset[\"Horsepower\"].isna().sum(), \"/\", len(raw_dataset)*9)\n",
        "  return raw_dataset"
      ],
      "metadata": {
        "id": "MzRwDQ3eirZ9"
      },
      "execution_count": 5,
      "outputs": []
    },
    {
      "cell_type": "code",
      "source": [
        "url = 'http://archive.ics.uci.edu/ml/machine-learning-databases/auto-mpg/auto-mpg.data'\n",
        "column_names = ['MPG', 'Cylinders', 'Displacement', 'Horsepower', 'Weight', 'Acceleration', 'Model Year', 'Origin']\n",
        "\n",
        "raw_dataset = get_data(url)"
      ],
      "metadata": {
        "colab": {
          "base_uri": "https://localhost:8080/"
        },
        "id": "2CO6wSXf9zcn",
        "outputId": "ab206d5b-bb8a-4d8f-b4d7-efdc6a1869c9"
      },
      "execution_count": 6,
      "outputs": [
        {
          "output_type": "stream",
          "name": "stdout",
          "text": [
            "Summary of the dataset:  \n",
            " \n",
            "Number of rows in raw_dataset:  398 / 398 \n",
            "Number of missing values:  6 / 3582\n"
          ]
        }
      ]
    },
    {
      "cell_type": "code",
      "source": [
        "raw_dataset.tail()"
      ],
      "metadata": {
        "colab": {
          "base_uri": "https://localhost:8080/",
          "height": 206
        },
        "id": "rteSjFDNbRN6",
        "outputId": "7e0fb393-cebe-4b66-b277-3f7713673e7f"
      },
      "execution_count": 7,
      "outputs": [
        {
          "output_type": "execute_result",
          "data": {
            "text/plain": [
              "      MPG  Cylinders  Displacement  Horsepower  Weight  Acceleration  \\\n",
              "393  27.0          4         140.0        86.0  2790.0          15.6   \n",
              "394  44.0          4          97.0        52.0  2130.0          24.6   \n",
              "395  32.0          4         135.0        84.0  2295.0          11.6   \n",
              "396  28.0          4         120.0        79.0  2625.0          18.6   \n",
              "397  31.0          4         119.0        82.0  2720.0          19.4   \n",
              "\n",
              "     Model Year  Origin  \n",
              "393          82       1  \n",
              "394          82       2  \n",
              "395          82       1  \n",
              "396          82       1  \n",
              "397          82       1  "
            ],
            "text/html": [
              "\n",
              "  <div id=\"df-0a2b7669-5fa2-4ff3-889c-1f5705cce44a\" class=\"colab-df-container\">\n",
              "    <div>\n",
              "<style scoped>\n",
              "    .dataframe tbody tr th:only-of-type {\n",
              "        vertical-align: middle;\n",
              "    }\n",
              "\n",
              "    .dataframe tbody tr th {\n",
              "        vertical-align: top;\n",
              "    }\n",
              "\n",
              "    .dataframe thead th {\n",
              "        text-align: right;\n",
              "    }\n",
              "</style>\n",
              "<table border=\"1\" class=\"dataframe\">\n",
              "  <thead>\n",
              "    <tr style=\"text-align: right;\">\n",
              "      <th></th>\n",
              "      <th>MPG</th>\n",
              "      <th>Cylinders</th>\n",
              "      <th>Displacement</th>\n",
              "      <th>Horsepower</th>\n",
              "      <th>Weight</th>\n",
              "      <th>Acceleration</th>\n",
              "      <th>Model Year</th>\n",
              "      <th>Origin</th>\n",
              "    </tr>\n",
              "  </thead>\n",
              "  <tbody>\n",
              "    <tr>\n",
              "      <th>393</th>\n",
              "      <td>27.0</td>\n",
              "      <td>4</td>\n",
              "      <td>140.0</td>\n",
              "      <td>86.0</td>\n",
              "      <td>2790.0</td>\n",
              "      <td>15.6</td>\n",
              "      <td>82</td>\n",
              "      <td>1</td>\n",
              "    </tr>\n",
              "    <tr>\n",
              "      <th>394</th>\n",
              "      <td>44.0</td>\n",
              "      <td>4</td>\n",
              "      <td>97.0</td>\n",
              "      <td>52.0</td>\n",
              "      <td>2130.0</td>\n",
              "      <td>24.6</td>\n",
              "      <td>82</td>\n",
              "      <td>2</td>\n",
              "    </tr>\n",
              "    <tr>\n",
              "      <th>395</th>\n",
              "      <td>32.0</td>\n",
              "      <td>4</td>\n",
              "      <td>135.0</td>\n",
              "      <td>84.0</td>\n",
              "      <td>2295.0</td>\n",
              "      <td>11.6</td>\n",
              "      <td>82</td>\n",
              "      <td>1</td>\n",
              "    </tr>\n",
              "    <tr>\n",
              "      <th>396</th>\n",
              "      <td>28.0</td>\n",
              "      <td>4</td>\n",
              "      <td>120.0</td>\n",
              "      <td>79.0</td>\n",
              "      <td>2625.0</td>\n",
              "      <td>18.6</td>\n",
              "      <td>82</td>\n",
              "      <td>1</td>\n",
              "    </tr>\n",
              "    <tr>\n",
              "      <th>397</th>\n",
              "      <td>31.0</td>\n",
              "      <td>4</td>\n",
              "      <td>119.0</td>\n",
              "      <td>82.0</td>\n",
              "      <td>2720.0</td>\n",
              "      <td>19.4</td>\n",
              "      <td>82</td>\n",
              "      <td>1</td>\n",
              "    </tr>\n",
              "  </tbody>\n",
              "</table>\n",
              "</div>\n",
              "    <div class=\"colab-df-buttons\">\n",
              "\n",
              "  <div class=\"colab-df-container\">\n",
              "    <button class=\"colab-df-convert\" onclick=\"convertToInteractive('df-0a2b7669-5fa2-4ff3-889c-1f5705cce44a')\"\n",
              "            title=\"Convert this dataframe to an interactive table.\"\n",
              "            style=\"display:none;\">\n",
              "\n",
              "  <svg xmlns=\"http://www.w3.org/2000/svg\" height=\"24px\" viewBox=\"0 -960 960 960\">\n",
              "    <path d=\"M120-120v-720h720v720H120Zm60-500h600v-160H180v160Zm220 220h160v-160H400v160Zm0 220h160v-160H400v160ZM180-400h160v-160H180v160Zm440 0h160v-160H620v160ZM180-180h160v-160H180v160Zm440 0h160v-160H620v160Z\"/>\n",
              "  </svg>\n",
              "    </button>\n",
              "\n",
              "  <style>\n",
              "    .colab-df-container {\n",
              "      display:flex;\n",
              "      gap: 12px;\n",
              "    }\n",
              "\n",
              "    .colab-df-convert {\n",
              "      background-color: #E8F0FE;\n",
              "      border: none;\n",
              "      border-radius: 50%;\n",
              "      cursor: pointer;\n",
              "      display: none;\n",
              "      fill: #1967D2;\n",
              "      height: 32px;\n",
              "      padding: 0 0 0 0;\n",
              "      width: 32px;\n",
              "    }\n",
              "\n",
              "    .colab-df-convert:hover {\n",
              "      background-color: #E2EBFA;\n",
              "      box-shadow: 0px 1px 2px rgba(60, 64, 67, 0.3), 0px 1px 3px 1px rgba(60, 64, 67, 0.15);\n",
              "      fill: #174EA6;\n",
              "    }\n",
              "\n",
              "    .colab-df-buttons div {\n",
              "      margin-bottom: 4px;\n",
              "    }\n",
              "\n",
              "    [theme=dark] .colab-df-convert {\n",
              "      background-color: #3B4455;\n",
              "      fill: #D2E3FC;\n",
              "    }\n",
              "\n",
              "    [theme=dark] .colab-df-convert:hover {\n",
              "      background-color: #434B5C;\n",
              "      box-shadow: 0px 1px 3px 1px rgba(0, 0, 0, 0.15);\n",
              "      filter: drop-shadow(0px 1px 2px rgba(0, 0, 0, 0.3));\n",
              "      fill: #FFFFFF;\n",
              "    }\n",
              "  </style>\n",
              "\n",
              "    <script>\n",
              "      const buttonEl =\n",
              "        document.querySelector('#df-0a2b7669-5fa2-4ff3-889c-1f5705cce44a button.colab-df-convert');\n",
              "      buttonEl.style.display =\n",
              "        google.colab.kernel.accessAllowed ? 'block' : 'none';\n",
              "\n",
              "      async function convertToInteractive(key) {\n",
              "        const element = document.querySelector('#df-0a2b7669-5fa2-4ff3-889c-1f5705cce44a');\n",
              "        const dataTable =\n",
              "          await google.colab.kernel.invokeFunction('convertToInteractive',\n",
              "                                                    [key], {});\n",
              "        if (!dataTable) return;\n",
              "\n",
              "        const docLinkHtml = 'Like what you see? Visit the ' +\n",
              "          '<a target=\"_blank\" href=https://colab.research.google.com/notebooks/data_table.ipynb>data table notebook</a>'\n",
              "          + ' to learn more about interactive tables.';\n",
              "        element.innerHTML = '';\n",
              "        dataTable['output_type'] = 'display_data';\n",
              "        await google.colab.output.renderOutput(dataTable, element);\n",
              "        const docLink = document.createElement('div');\n",
              "        docLink.innerHTML = docLinkHtml;\n",
              "        element.appendChild(docLink);\n",
              "      }\n",
              "    </script>\n",
              "  </div>\n",
              "\n",
              "\n",
              "<div id=\"df-20602436-6dbb-4b5f-a47c-fce74fd7fa0d\">\n",
              "  <button class=\"colab-df-quickchart\" onclick=\"quickchart('df-20602436-6dbb-4b5f-a47c-fce74fd7fa0d')\"\n",
              "            title=\"Suggest charts\"\n",
              "            style=\"display:none;\">\n",
              "\n",
              "<svg xmlns=\"http://www.w3.org/2000/svg\" height=\"24px\"viewBox=\"0 0 24 24\"\n",
              "     width=\"24px\">\n",
              "    <g>\n",
              "        <path d=\"M19 3H5c-1.1 0-2 .9-2 2v14c0 1.1.9 2 2 2h14c1.1 0 2-.9 2-2V5c0-1.1-.9-2-2-2zM9 17H7v-7h2v7zm4 0h-2V7h2v10zm4 0h-2v-4h2v4z\"/>\n",
              "    </g>\n",
              "</svg>\n",
              "  </button>\n",
              "\n",
              "<style>\n",
              "  .colab-df-quickchart {\n",
              "      --bg-color: #E8F0FE;\n",
              "      --fill-color: #1967D2;\n",
              "      --hover-bg-color: #E2EBFA;\n",
              "      --hover-fill-color: #174EA6;\n",
              "      --disabled-fill-color: #AAA;\n",
              "      --disabled-bg-color: #DDD;\n",
              "  }\n",
              "\n",
              "  [theme=dark] .colab-df-quickchart {\n",
              "      --bg-color: #3B4455;\n",
              "      --fill-color: #D2E3FC;\n",
              "      --hover-bg-color: #434B5C;\n",
              "      --hover-fill-color: #FFFFFF;\n",
              "      --disabled-bg-color: #3B4455;\n",
              "      --disabled-fill-color: #666;\n",
              "  }\n",
              "\n",
              "  .colab-df-quickchart {\n",
              "    background-color: var(--bg-color);\n",
              "    border: none;\n",
              "    border-radius: 50%;\n",
              "    cursor: pointer;\n",
              "    display: none;\n",
              "    fill: var(--fill-color);\n",
              "    height: 32px;\n",
              "    padding: 0;\n",
              "    width: 32px;\n",
              "  }\n",
              "\n",
              "  .colab-df-quickchart:hover {\n",
              "    background-color: var(--hover-bg-color);\n",
              "    box-shadow: 0 1px 2px rgba(60, 64, 67, 0.3), 0 1px 3px 1px rgba(60, 64, 67, 0.15);\n",
              "    fill: var(--button-hover-fill-color);\n",
              "  }\n",
              "\n",
              "  .colab-df-quickchart-complete:disabled,\n",
              "  .colab-df-quickchart-complete:disabled:hover {\n",
              "    background-color: var(--disabled-bg-color);\n",
              "    fill: var(--disabled-fill-color);\n",
              "    box-shadow: none;\n",
              "  }\n",
              "\n",
              "  .colab-df-spinner {\n",
              "    border: 2px solid var(--fill-color);\n",
              "    border-color: transparent;\n",
              "    border-bottom-color: var(--fill-color);\n",
              "    animation:\n",
              "      spin 1s steps(1) infinite;\n",
              "  }\n",
              "\n",
              "  @keyframes spin {\n",
              "    0% {\n",
              "      border-color: transparent;\n",
              "      border-bottom-color: var(--fill-color);\n",
              "      border-left-color: var(--fill-color);\n",
              "    }\n",
              "    20% {\n",
              "      border-color: transparent;\n",
              "      border-left-color: var(--fill-color);\n",
              "      border-top-color: var(--fill-color);\n",
              "    }\n",
              "    30% {\n",
              "      border-color: transparent;\n",
              "      border-left-color: var(--fill-color);\n",
              "      border-top-color: var(--fill-color);\n",
              "      border-right-color: var(--fill-color);\n",
              "    }\n",
              "    40% {\n",
              "      border-color: transparent;\n",
              "      border-right-color: var(--fill-color);\n",
              "      border-top-color: var(--fill-color);\n",
              "    }\n",
              "    60% {\n",
              "      border-color: transparent;\n",
              "      border-right-color: var(--fill-color);\n",
              "    }\n",
              "    80% {\n",
              "      border-color: transparent;\n",
              "      border-right-color: var(--fill-color);\n",
              "      border-bottom-color: var(--fill-color);\n",
              "    }\n",
              "    90% {\n",
              "      border-color: transparent;\n",
              "      border-bottom-color: var(--fill-color);\n",
              "    }\n",
              "  }\n",
              "</style>\n",
              "\n",
              "  <script>\n",
              "    async function quickchart(key) {\n",
              "      const quickchartButtonEl =\n",
              "        document.querySelector('#' + key + ' button');\n",
              "      quickchartButtonEl.disabled = true;  // To prevent multiple clicks.\n",
              "      quickchartButtonEl.classList.add('colab-df-spinner');\n",
              "      try {\n",
              "        const charts = await google.colab.kernel.invokeFunction(\n",
              "            'suggestCharts', [key], {});\n",
              "      } catch (error) {\n",
              "        console.error('Error during call to suggestCharts:', error);\n",
              "      }\n",
              "      quickchartButtonEl.classList.remove('colab-df-spinner');\n",
              "      quickchartButtonEl.classList.add('colab-df-quickchart-complete');\n",
              "    }\n",
              "    (() => {\n",
              "      let quickchartButtonEl =\n",
              "        document.querySelector('#df-20602436-6dbb-4b5f-a47c-fce74fd7fa0d button');\n",
              "      quickchartButtonEl.style.display =\n",
              "        google.colab.kernel.accessAllowed ? 'block' : 'none';\n",
              "    })();\n",
              "  </script>\n",
              "</div>\n",
              "\n",
              "    </div>\n",
              "  </div>\n"
            ],
            "application/vnd.google.colaboratory.intrinsic+json": {
              "type": "dataframe",
              "summary": "{\n  \"name\": \"raw_dataset\",\n  \"rows\": 5,\n  \"fields\": [\n    {\n      \"column\": \"MPG\",\n      \"properties\": {\n        \"dtype\": \"number\",\n        \"std\": 6.8044103344816005,\n        \"min\": 27.0,\n        \"max\": 44.0,\n        \"num_unique_values\": 5,\n        \"samples\": [\n          44.0,\n          31.0,\n          32.0\n        ],\n        \"semantic_type\": \"\",\n        \"description\": \"\"\n      }\n    },\n    {\n      \"column\": \"Cylinders\",\n      \"properties\": {\n        \"dtype\": \"number\",\n        \"std\": 0,\n        \"min\": 4,\n        \"max\": 4,\n        \"num_unique_values\": 1,\n        \"samples\": [\n          4\n        ],\n        \"semantic_type\": \"\",\n        \"description\": \"\"\n      }\n    },\n    {\n      \"column\": \"Displacement\",\n      \"properties\": {\n        \"dtype\": \"number\",\n        \"std\": 16.813684902483452,\n        \"min\": 97.0,\n        \"max\": 140.0,\n        \"num_unique_values\": 5,\n        \"samples\": [\n          97.0\n        ],\n        \"semantic_type\": \"\",\n        \"description\": \"\"\n      }\n    },\n    {\n      \"column\": \"Horsepower\",\n      \"properties\": {\n        \"dtype\": \"number\",\n        \"std\": 13.992855319769443,\n        \"min\": 52.0,\n        \"max\": 86.0,\n        \"num_unique_values\": 5,\n        \"samples\": [\n          52.0\n        ],\n        \"semantic_type\": \"\",\n        \"description\": \"\"\n      }\n    },\n    {\n      \"column\": \"Weight\",\n      \"properties\": {\n        \"dtype\": \"number\",\n        \"std\": 285.62650437240586,\n        \"min\": 2130.0,\n        \"max\": 2790.0,\n        \"num_unique_values\": 5,\n        \"samples\": [\n          2130.0\n        ],\n        \"semantic_type\": \"\",\n        \"description\": \"\"\n      }\n    },\n    {\n      \"column\": \"Acceleration\",\n      \"properties\": {\n        \"dtype\": \"number\",\n        \"std\": 4.81123684721507,\n        \"min\": 11.6,\n        \"max\": 24.6,\n        \"num_unique_values\": 5,\n        \"samples\": [\n          24.6\n        ],\n        \"semantic_type\": \"\",\n        \"description\": \"\"\n      }\n    },\n    {\n      \"column\": \"Model Year\",\n      \"properties\": {\n        \"dtype\": \"number\",\n        \"std\": 0,\n        \"min\": 82,\n        \"max\": 82,\n        \"num_unique_values\": 1,\n        \"samples\": [\n          82\n        ],\n        \"semantic_type\": \"\",\n        \"description\": \"\"\n      }\n    },\n    {\n      \"column\": \"Origin\",\n      \"properties\": {\n        \"dtype\": \"number\",\n        \"std\": 0,\n        \"min\": 1,\n        \"max\": 2,\n        \"num_unique_values\": 2,\n        \"samples\": [\n          2\n        ],\n        \"semantic_type\": \"\",\n        \"description\": \"\"\n      }\n    }\n  ]\n}"
            }
          },
          "metadata": {},
          "execution_count": 7
        }
      ]
    },
    {
      "cell_type": "markdown",
      "source": [
        "### 2.2. Dataset cleaning\n",
        "\n",
        "Vehicle models with missing data - horsepower - are removed."
      ],
      "metadata": {
        "id": "ywn7Fk8oAqBR"
      }
    },
    {
      "cell_type": "code",
      "source": [
        "dataset = raw_dataset.copy() # copy of the original data before modification\n",
        "dataset = dataset.dropna() # remove rows containing NaN values\n",
        "\n",
        "print(\"Summary of the dataset after data cleaning: \", \"\\n\", \"\\nNumber of rows in the dataset cleaned: \", len(dataset), \"/\", len(raw_dataset), \"\\nNumber of missing values: \", dataset[\"Horsepower\"].isna().sum(), \"/\", len(dataset)*9) # horsepower NaN values"
      ],
      "metadata": {
        "colab": {
          "base_uri": "https://localhost:8080/"
        },
        "id": "aMU8g1HcRqpT",
        "outputId": "453b4960-b050-476f-dce3-31196e44fd98"
      },
      "execution_count": 8,
      "outputs": [
        {
          "output_type": "stream",
          "name": "stdout",
          "text": [
            "Summary of the dataset after data cleaning:  \n",
            " \n",
            "Number of rows in the dataset cleaned:  392 / 398 \n",
            "Number of missing values:  0 / 3528\n"
          ]
        }
      ]
    },
    {
      "cell_type": "markdown",
      "source": [
        "---\n",
        "\n",
        "\n",
        "## **3. Sample preparation & pre-processing**"
      ],
      "metadata": {
        "id": "pZY8PoR0VWUL"
      }
    },
    {
      "cell_type": "markdown",
      "source": [
        "### 3.1. Set generation\n",
        "\n",
        "The dataset is randomly split into 2 subsets: training (80%) and test (20%) [[2]](https://arxiv.org/pdf/2202.03326). Test set is used for a finale evaluation of the model."
      ],
      "metadata": {
        "id": "q844rr7iWmKz"
      }
    },
    {
      "cell_type": "code",
      "source": [
        "train_dataset = dataset.sample(frac=0.8) # randomly draws 80% of dataset\n",
        "test_dataset = dataset.drop(train_dataset.index) # removes the rows selected for the training set from dataset\n",
        "\n",
        "print(\"# of the training set:\", len(train_dataset), \"\\n# of the test set:\", len(test_dataset), \"\\n# of the training and test sets:\", len(train_dataset)+len(test_dataset))"
      ],
      "metadata": {
        "colab": {
          "base_uri": "https://localhost:8080/"
        },
        "id": "tGKIZUmvVbfL",
        "outputId": "9767e636-1e72-4912-f314-650d10f80538"
      },
      "execution_count": 9,
      "outputs": [
        {
          "output_type": "stream",
          "name": "stdout",
          "text": [
            "# of the training set: 314 \n",
            "# of the test set: 78 \n",
            "# of the training and test sets: 392\n"
          ]
        }
      ]
    },
    {
      "cell_type": "markdown",
      "source": [
        "Fuel efficiency `MPG` is the only variable that is not linearly related to any other variable."
      ],
      "metadata": {
        "id": "kpO40-2JcGZX"
      }
    },
    {
      "cell_type": "code",
      "source": [
        "plot_data(train_dataset)"
      ],
      "metadata": {
        "colab": {
          "base_uri": "https://localhost:8080/",
          "height": 617
        },
        "id": "_RA_xmBMbN47",
        "outputId": "44af08d9-7545-459c-9de1-5d2cda5f3499"
      },
      "execution_count": 10,
      "outputs": [
        {
          "output_type": "display_data",
          "data": {
            "text/html": [
              "<html>\n",
              "<head><meta charset=\"utf-8\" /></head>\n",
              "<body>\n",
              "    <div>            <script src=\"https://cdnjs.cloudflare.com/ajax/libs/mathjax/2.7.5/MathJax.js?config=TeX-AMS-MML_SVG\"></script><script type=\"text/javascript\">if (window.MathJax && window.MathJax.Hub && window.MathJax.Hub.Config) {window.MathJax.Hub.Config({SVG: {font: \"STIX-Web\"}});}</script>                <script type=\"text/javascript\">window.PlotlyConfig = {MathJaxConfig: 'local'};</script>\n",
              "        <script charset=\"utf-8\" src=\"https://cdn.plot.ly/plotly-2.35.2.min.js\"></script>                <div id=\"ededcd1b-f50e-4b2f-942e-dc0159ebe23f\" class=\"plotly-graph-div\" style=\"height:600px; width:1000px;\"></div>            <script type=\"text/javascript\">                                    window.PLOTLYENV=window.PLOTLYENV || {};                                    if (document.getElementById(\"ededcd1b-f50e-4b2f-942e-dc0159ebe23f\")) {                    Plotly.newPlot(                        \"ededcd1b-f50e-4b2f-942e-dc0159ebe23f\",                        [{\"diagonal\":{\"visible\":false},\"dimensions\":[{\"label\":\"MPG\",\"values\":[14.0,39.4,18.0,15.0,26.6,20.0,33.5,15.0,29.0,15.5,13.0,19.0,19.0,13.0,40.8,41.5,18.0,16.0,29.5,15.5,20.0,29.0,24.3,24.0,34.5,19.0,25.0,32.2,18.0,20.2,15.0,25.4,18.0,28.0,13.0,32.0,30.0,15.0,34.1,20.0,15.0,27.0,16.0,17.0,23.0,15.0,17.0,18.0,32.8,24.0,28.0,36.0,25.0,21.5,34.7,14.0,11.0,36.4,13.0,19.9,29.9,26.0,18.0,21.0,32.9,27.0,21.5,21.0,23.0,23.9,37.3,25.0,12.0,23.7,20.2,22.0,32.0,14.0,32.4,13.0,17.0,29.0,28.0,26.0,36.0,18.5,20.6,27.0,14.0,17.5,27.0,22.0,18.6,43.1,14.0,23.8,18.1,24.0,32.0,9.0,33.0,13.0,37.0,26.0,26.0,26.5,36.0,23.2,10.0,16.0,23.5,19.4,18.0,23.0,35.7,14.0,38.0,13.0,22.0,13.0,18.0,20.0,15.5,16.0,26.0,18.5,24.2,39.1,18.0,29.0,26.0,16.0,38.0,44.3,24.0,14.0,34.0,18.2,24.5,13.0,25.0,10.0,33.5,19.0,23.9,27.5,28.0,31.5,37.7,35.0,12.0,30.5,13.0,13.0,19.4,20.0,36.0,23.0,13.0,28.8,43.4,15.0,20.3,25.5,18.0,17.5,19.0,16.0,37.0,16.0,28.0,18.0,15.0,13.0,31.0,17.5,14.0,18.1,14.5,23.0,25.0,31.0,22.0,16.5,14.0,25.5,18.0,16.0,20.0,32.1,27.0,30.0,19.8,28.0,22.4,28.0,13.0,19.0,36.0,16.2,26.8,31.0,16.0,34.1,24.0,18.0,34.4,14.0,13.0,27.9,32.7,19.0,20.5,39.0,27.4,19.0,31.8,35.0,25.1,16.9,25.0,20.6,25.0,33.8,31.0,15.0,38.0,12.0,23.0,24.0,31.3,30.0,21.0,18.0,15.0,28.0,27.2,20.2,29.8,30.0,14.0,27.2,24.0,18.0,13.0,12.0,20.5,27.2,15.0,31.0,29.0,14.0,14.0,25.0,26.0,21.6,36.0,26.0,23.0,12.0,15.5,13.0,38.1,32.3,27.0,29.8,18.5,24.0,25.4,19.2,15.0,28.1,11.0,26.4,26.0,12.0,20.0,37.0,13.0,28.4,20.8,22.0,18.0,44.0,17.6,15.5,34.3,30.5,15.0,14.0,28.0,32.0,20.0,20.2,33.5,20.5,30.0,26.6,15.0,30.0,23.0,26.0,30.7,44.6,21.0,19.0,16.0,27.0,19.2,17.0,13.0,31.0,15.0,22.0]},{\"label\":\"Displacement\",\"values\":[302.0,85.0,171.0,350.0,350.0,198.0,85.0,400.0,98.0,304.0,350.0,121.0,250.0,351.0,85.0,98.0,232.0,225.0,97.0,318.0,232.0,90.0,151.0,140.0,105.0,225.0,113.0,108.0,250.0,200.0,383.0,168.0,250.0,98.0,360.0,135.0,111.0,318.0,91.0,130.0,250.0,97.0,258.0,250.0,120.0,390.0,231.0,199.0,78.0,116.0,151.0,98.0,121.0,80.0,105.0,350.0,350.0,121.0,350.0,260.0,98.0,97.0,225.0,231.0,119.0,151.0,121.0,140.0,120.0,260.0,91.0,97.5,400.0,70.0,302.0,140.0,91.0,304.0,107.0,318.0,163.0,68.0,97.0,97.0,105.0,250.0,225.0,140.0,351.0,318.0,97.0,121.0,225.0,90.0,400.0,151.0,302.0,113.0,144.0,304.0,91.0,302.0,119.0,97.0,96.0,140.0,107.0,156.0,360.0,304.0,173.0,232.0,232.0,140.0,98.0,351.0,262.0,350.0,198.0,350.0,225.0,97.0,400.0,250.0,98.0,250.0,146.0,79.0,250.0,135.0,108.0,400.0,91.0,90.0,113.0,455.0,108.0,318.0,151.0,400.0,140.0,307.0,151.0,232.0,119.0,134.0,112.0,98.0,89.0,122.0,429.0,98.0,307.0,302.0,318.0,262.0,120.0,350.0,400.0,173.0,90.0,318.0,131.0,122.0,318.0,305.0,156.0,250.0,85.0,351.0,116.0,225.0,350.0,350.0,91.0,258.0,454.0,258.0,351.0,198.0,181.0,79.0,225.0,168.0,318.0,140.0,307.0,400.0,156.0,98.0,151.0,97.0,200.0,90.0,231.0,97.0,400.0,225.0,79.0,163.0,173.0,79.0,318.0,86.0,107.0,232.0,98.0,400.0,302.0,156.0,168.0,70.0,225.0,86.0,121.0,250.0,85.0,72.0,140.0,350.0,104.0,231.0,90.0,97.0,119.0,304.0,105.0,383.0,122.0,134.0,120.0,146.0,200.0,121.0,302.0,140.0,135.0,232.0,89.0,79.0,302.0,141.0,119.0,70.0,360.0,350.0,231.0,119.0,429.0,112.0,97.0,455.0,440.0,110.0,91.0,121.0,135.0,98.0,97.0,350.0,350.0,400.0,89.0,97.0,97.0,134.0,360.0,120.0,183.0,305.0,350.0,141.0,429.0,140.0,121.0,455.0,114.0,91.0,440.0,151.0,200.0,108.0,258.0,97.0,225.0,351.0,97.0,97.0,258.0,318.0,120.0,71.0,225.0,200.0,98.0,200.0,88.0,151.0,318.0,98.0,115.0,122.0,145.0,91.0,120.0,120.0,302.0,112.0,267.0,260.0,318.0,76.0,250.0,232.0]},{\"label\":\"Horsepower\",\"values\":[137.0,70.0,97.0,165.0,105.0,95.0,70.0,150.0,83.0,120.0,145.0,112.0,88.0,158.0,65.0,76.0,100.0,105.0,71.0,145.0,100.0,70.0,90.0,92.0,70.0,100.0,95.0,75.0,88.0,88.0,170.0,116.0,78.0,80.0,170.0,84.0,80.0,150.0,68.0,102.0,72.0,88.0,110.0,100.0,88.0,190.0,110.0,97.0,52.0,75.0,90.0,70.0,115.0,110.0,63.0,165.0,180.0,67.0,165.0,110.0,65.0,75.0,105.0,110.0,100.0,90.0,110.0,72.0,97.0,90.0,69.0,80.0,167.0,100.0,139.0,72.0,67.0,150.0,72.0,150.0,125.0,49.0,75.0,46.0,74.0,98.0,110.0,86.0,153.0,140.0,88.0,76.0,110.0,48.0,175.0,85.0,139.0,95.0,96.0,193.0,53.0,129.0,92.0,78.0,69.0,72.0,75.0,105.0,215.0,150.0,110.0,90.0,100.0,83.0,80.0,153.0,85.0,145.0,95.0,175.0,105.0,88.0,190.0,100.0,79.0,110.0,120.0,58.0,88.0,84.0,93.0,170.0,67.0,48.0,95.0,225.0,70.0,135.0,88.0,170.0,92.0,200.0,90.0,90.0,97.0,95.0,88.0,68.0,62.0,88.0,198.0,63.0,130.0,130.0,140.0,110.0,88.0,125.0,190.0,115.0,48.0,150.0,103.0,96.0,150.0,145.0,108.0,100.0,65.0,149.0,90.0,95.0,145.0,155.0,68.0,95.0,220.0,120.0,152.0,95.0,110.0,67.0,100.0,120.0,150.0,89.0,130.0,180.0,122.0,70.0,90.0,67.0,85.0,75.0,110.0,92.0,150.0,95.0,58.0,133.0,115.0,67.0,150.0,65.0,90.0,100.0,65.0,175.0,140.0,105.0,132.0,97.0,100.0,64.0,80.0,100.0,65.0,69.0,88.0,155.0,95.0,105.0,71.0,67.0,82.0,150.0,63.0,180.0,86.0,96.0,75.0,67.0,85.0,112.0,130.0,90.0,84.0,90.0,62.0,70.0,140.0,71.0,97.0,90.0,175.0,180.0,105.0,97.0,198.0,85.0,75.0,225.0,215.0,87.0,70.0,115.0,84.0,90.0,54.0,160.0,170.0,175.0,60.0,67.0,88.0,90.0,150.0,97.0,77.0,145.0,145.0,80.0,208.0,88.0,113.0,225.0,91.0,68.0,215.0,90.0,85.0,94.0,110.0,52.0,85.0,142.0,78.0,78.0,110.0,150.0,79.0,65.0,100.0,85.0,83.0,95.0,76.0,84.0,150.0,68.0,95.0,80.0,76.0,67.0,87.0,88.0,140.0,88.0,125.0,110.0,150.0,52.0,100.0,112.0]},{\"label\":\"Weight\",\"values\":[4042.0,2070.0,2984.0,3693.0,3725.0,3102.0,1945.0,3761.0,2219.0,3962.0,4055.0,2868.0,3302.0,4363.0,2110.0,2144.0,2945.0,3439.0,1825.0,4140.0,2914.0,1937.0,3003.0,2865.0,2150.0,3630.0,2228.0,2265.0,3139.0,3060.0,3563.0,2900.0,3574.0,2164.0,4654.0,2295.0,2155.0,3399.0,1985.0,3150.0,3432.0,2130.0,3632.0,3329.0,2957.0,3850.0,3907.0,2774.0,1985.0,2158.0,2678.0,2125.0,2671.0,2720.0,2215.0,4209.0,3664.0,2950.0,4274.0,3365.0,2380.0,2265.0,3613.0,3039.0,2615.0,2735.0,2600.0,2401.0,2506.0,3420.0,2130.0,2126.0,4906.0,2420.0,3570.0,2408.0,1965.0,4257.0,2290.0,3940.0,3140.0,1867.0,2155.0,1835.0,1980.0,3525.0,3360.0,2790.0,4154.0,4080.0,2100.0,2511.0,3620.0,1985.0,4464.0,2855.0,3205.0,2372.0,2665.0,4732.0,1795.0,3169.0,2434.0,2300.0,2189.0,2565.0,2205.0,2745.0,4615.0,3433.0,2725.0,3210.0,2789.0,2639.0,1915.0,4129.0,3015.0,3988.0,2833.0,4100.0,3121.0,2279.0,4325.0,3278.0,2255.0,3645.0,2930.0,1755.0,3021.0,2525.0,2391.0,4668.0,1995.0,2085.0,2278.0,3086.0,2245.0,3830.0,2740.0,4746.0,2572.0,4376.0,2556.0,3211.0,2405.0,2560.0,2605.0,2045.0,2050.0,2500.0,4952.0,2051.0,4098.0,3870.0,3735.0,3221.0,2160.0,3900.0,4422.0,2595.0,2335.0,3777.0,2830.0,2300.0,3436.0,3880.0,2930.0,3781.0,1975.0,4335.0,2123.0,3785.0,4082.0,4502.0,1970.0,3193.0,4354.0,3410.0,4215.0,2904.0,2945.0,2000.0,3233.0,3820.0,4457.0,2755.0,3504.0,4220.0,2807.0,2120.0,2950.0,1985.0,2990.0,2125.0,3415.0,2288.0,4464.0,3264.0,1825.0,3410.0,2700.0,1950.0,4190.0,1975.0,2430.0,3288.0,2045.0,4385.0,4294.0,2800.0,2910.0,2330.0,3430.0,1875.0,2670.0,3282.0,2020.0,1613.0,2720.0,4360.0,2375.0,3380.0,2223.0,2145.0,2720.0,3892.0,2125.0,4955.0,2220.0,2702.0,2542.0,3250.0,2587.0,2933.0,4295.0,2264.0,2490.0,3265.0,1845.0,2074.0,4638.0,3190.0,2545.0,2124.0,3821.0,4499.0,3425.0,2300.0,4341.0,2575.0,2171.0,4425.0,4312.0,2672.0,1955.0,2795.0,2370.0,2265.0,2254.0,4456.0,4165.0,5140.0,1968.0,2065.0,2130.0,2711.0,3940.0,2489.0,3530.0,3425.0,4440.0,3230.0,4633.0,2870.0,2234.0,4951.0,2582.0,2025.0,4735.0,2670.0,3070.0,2379.0,2962.0,2130.0,3465.0,4054.0,2188.0,2190.0,3730.0,4096.0,2625.0,1836.0,3651.0,2965.0,2075.0,3155.0,2065.0,2635.0,4135.0,2155.0,2694.0,2451.0,3160.0,1850.0,2979.0,3270.0,4141.0,2640.0,3605.0,4060.0,3755.0,1649.0,3336.0,2835.0]}],\"type\":\"splom\"}],                        {\"template\":{\"data\":{\"histogram2dcontour\":[{\"type\":\"histogram2dcontour\",\"colorbar\":{\"outlinewidth\":0,\"ticks\":\"\"},\"colorscale\":[[0.0,\"#0d0887\"],[0.1111111111111111,\"#46039f\"],[0.2222222222222222,\"#7201a8\"],[0.3333333333333333,\"#9c179e\"],[0.4444444444444444,\"#bd3786\"],[0.5555555555555556,\"#d8576b\"],[0.6666666666666666,\"#ed7953\"],[0.7777777777777778,\"#fb9f3a\"],[0.8888888888888888,\"#fdca26\"],[1.0,\"#f0f921\"]]}],\"choropleth\":[{\"type\":\"choropleth\",\"colorbar\":{\"outlinewidth\":0,\"ticks\":\"\"}}],\"histogram2d\":[{\"type\":\"histogram2d\",\"colorbar\":{\"outlinewidth\":0,\"ticks\":\"\"},\"colorscale\":[[0.0,\"#0d0887\"],[0.1111111111111111,\"#46039f\"],[0.2222222222222222,\"#7201a8\"],[0.3333333333333333,\"#9c179e\"],[0.4444444444444444,\"#bd3786\"],[0.5555555555555556,\"#d8576b\"],[0.6666666666666666,\"#ed7953\"],[0.7777777777777778,\"#fb9f3a\"],[0.8888888888888888,\"#fdca26\"],[1.0,\"#f0f921\"]]}],\"heatmap\":[{\"type\":\"heatmap\",\"colorbar\":{\"outlinewidth\":0,\"ticks\":\"\"},\"colorscale\":[[0.0,\"#0d0887\"],[0.1111111111111111,\"#46039f\"],[0.2222222222222222,\"#7201a8\"],[0.3333333333333333,\"#9c179e\"],[0.4444444444444444,\"#bd3786\"],[0.5555555555555556,\"#d8576b\"],[0.6666666666666666,\"#ed7953\"],[0.7777777777777778,\"#fb9f3a\"],[0.8888888888888888,\"#fdca26\"],[1.0,\"#f0f921\"]]}],\"heatmapgl\":[{\"type\":\"heatmapgl\",\"colorbar\":{\"outlinewidth\":0,\"ticks\":\"\"},\"colorscale\":[[0.0,\"#0d0887\"],[0.1111111111111111,\"#46039f\"],[0.2222222222222222,\"#7201a8\"],[0.3333333333333333,\"#9c179e\"],[0.4444444444444444,\"#bd3786\"],[0.5555555555555556,\"#d8576b\"],[0.6666666666666666,\"#ed7953\"],[0.7777777777777778,\"#fb9f3a\"],[0.8888888888888888,\"#fdca26\"],[1.0,\"#f0f921\"]]}],\"contourcarpet\":[{\"type\":\"contourcarpet\",\"colorbar\":{\"outlinewidth\":0,\"ticks\":\"\"}}],\"contour\":[{\"type\":\"contour\",\"colorbar\":{\"outlinewidth\":0,\"ticks\":\"\"},\"colorscale\":[[0.0,\"#0d0887\"],[0.1111111111111111,\"#46039f\"],[0.2222222222222222,\"#7201a8\"],[0.3333333333333333,\"#9c179e\"],[0.4444444444444444,\"#bd3786\"],[0.5555555555555556,\"#d8576b\"],[0.6666666666666666,\"#ed7953\"],[0.7777777777777778,\"#fb9f3a\"],[0.8888888888888888,\"#fdca26\"],[1.0,\"#f0f921\"]]}],\"surface\":[{\"type\":\"surface\",\"colorbar\":{\"outlinewidth\":0,\"ticks\":\"\"},\"colorscale\":[[0.0,\"#0d0887\"],[0.1111111111111111,\"#46039f\"],[0.2222222222222222,\"#7201a8\"],[0.3333333333333333,\"#9c179e\"],[0.4444444444444444,\"#bd3786\"],[0.5555555555555556,\"#d8576b\"],[0.6666666666666666,\"#ed7953\"],[0.7777777777777778,\"#fb9f3a\"],[0.8888888888888888,\"#fdca26\"],[1.0,\"#f0f921\"]]}],\"mesh3d\":[{\"type\":\"mesh3d\",\"colorbar\":{\"outlinewidth\":0,\"ticks\":\"\"}}],\"scatter\":[{\"fillpattern\":{\"fillmode\":\"overlay\",\"size\":10,\"solidity\":0.2},\"type\":\"scatter\"}],\"parcoords\":[{\"type\":\"parcoords\",\"line\":{\"colorbar\":{\"outlinewidth\":0,\"ticks\":\"\"}}}],\"scatterpolargl\":[{\"type\":\"scatterpolargl\",\"marker\":{\"colorbar\":{\"outlinewidth\":0,\"ticks\":\"\"}}}],\"bar\":[{\"error_x\":{\"color\":\"#2a3f5f\"},\"error_y\":{\"color\":\"#2a3f5f\"},\"marker\":{\"line\":{\"color\":\"#E5ECF6\",\"width\":0.5},\"pattern\":{\"fillmode\":\"overlay\",\"size\":10,\"solidity\":0.2}},\"type\":\"bar\"}],\"scattergeo\":[{\"type\":\"scattergeo\",\"marker\":{\"colorbar\":{\"outlinewidth\":0,\"ticks\":\"\"}}}],\"scatterpolar\":[{\"type\":\"scatterpolar\",\"marker\":{\"colorbar\":{\"outlinewidth\":0,\"ticks\":\"\"}}}],\"histogram\":[{\"marker\":{\"pattern\":{\"fillmode\":\"overlay\",\"size\":10,\"solidity\":0.2}},\"type\":\"histogram\"}],\"scattergl\":[{\"type\":\"scattergl\",\"marker\":{\"colorbar\":{\"outlinewidth\":0,\"ticks\":\"\"}}}],\"scatter3d\":[{\"type\":\"scatter3d\",\"line\":{\"colorbar\":{\"outlinewidth\":0,\"ticks\":\"\"}},\"marker\":{\"colorbar\":{\"outlinewidth\":0,\"ticks\":\"\"}}}],\"scattermapbox\":[{\"type\":\"scattermapbox\",\"marker\":{\"colorbar\":{\"outlinewidth\":0,\"ticks\":\"\"}}}],\"scatterternary\":[{\"type\":\"scatterternary\",\"marker\":{\"colorbar\":{\"outlinewidth\":0,\"ticks\":\"\"}}}],\"scattercarpet\":[{\"type\":\"scattercarpet\",\"marker\":{\"colorbar\":{\"outlinewidth\":0,\"ticks\":\"\"}}}],\"carpet\":[{\"aaxis\":{\"endlinecolor\":\"#2a3f5f\",\"gridcolor\":\"white\",\"linecolor\":\"white\",\"minorgridcolor\":\"white\",\"startlinecolor\":\"#2a3f5f\"},\"baxis\":{\"endlinecolor\":\"#2a3f5f\",\"gridcolor\":\"white\",\"linecolor\":\"white\",\"minorgridcolor\":\"white\",\"startlinecolor\":\"#2a3f5f\"},\"type\":\"carpet\"}],\"table\":[{\"cells\":{\"fill\":{\"color\":\"#EBF0F8\"},\"line\":{\"color\":\"white\"}},\"header\":{\"fill\":{\"color\":\"#C8D4E3\"},\"line\":{\"color\":\"white\"}},\"type\":\"table\"}],\"barpolar\":[{\"marker\":{\"line\":{\"color\":\"#E5ECF6\",\"width\":0.5},\"pattern\":{\"fillmode\":\"overlay\",\"size\":10,\"solidity\":0.2}},\"type\":\"barpolar\"}],\"pie\":[{\"automargin\":true,\"type\":\"pie\"}]},\"layout\":{\"autotypenumbers\":\"strict\",\"colorway\":[\"#636efa\",\"#EF553B\",\"#00cc96\",\"#ab63fa\",\"#FFA15A\",\"#19d3f3\",\"#FF6692\",\"#B6E880\",\"#FF97FF\",\"#FECB52\"],\"font\":{\"color\":\"#2a3f5f\"},\"hovermode\":\"closest\",\"hoverlabel\":{\"align\":\"left\"},\"paper_bgcolor\":\"white\",\"plot_bgcolor\":\"#E5ECF6\",\"polar\":{\"bgcolor\":\"#E5ECF6\",\"angularaxis\":{\"gridcolor\":\"white\",\"linecolor\":\"white\",\"ticks\":\"\"},\"radialaxis\":{\"gridcolor\":\"white\",\"linecolor\":\"white\",\"ticks\":\"\"}},\"ternary\":{\"bgcolor\":\"#E5ECF6\",\"aaxis\":{\"gridcolor\":\"white\",\"linecolor\":\"white\",\"ticks\":\"\"},\"baxis\":{\"gridcolor\":\"white\",\"linecolor\":\"white\",\"ticks\":\"\"},\"caxis\":{\"gridcolor\":\"white\",\"linecolor\":\"white\",\"ticks\":\"\"}},\"coloraxis\":{\"colorbar\":{\"outlinewidth\":0,\"ticks\":\"\"}},\"colorscale\":{\"sequential\":[[0.0,\"#0d0887\"],[0.1111111111111111,\"#46039f\"],[0.2222222222222222,\"#7201a8\"],[0.3333333333333333,\"#9c179e\"],[0.4444444444444444,\"#bd3786\"],[0.5555555555555556,\"#d8576b\"],[0.6666666666666666,\"#ed7953\"],[0.7777777777777778,\"#fb9f3a\"],[0.8888888888888888,\"#fdca26\"],[1.0,\"#f0f921\"]],\"sequentialminus\":[[0.0,\"#0d0887\"],[0.1111111111111111,\"#46039f\"],[0.2222222222222222,\"#7201a8\"],[0.3333333333333333,\"#9c179e\"],[0.4444444444444444,\"#bd3786\"],[0.5555555555555556,\"#d8576b\"],[0.6666666666666666,\"#ed7953\"],[0.7777777777777778,\"#fb9f3a\"],[0.8888888888888888,\"#fdca26\"],[1.0,\"#f0f921\"]],\"diverging\":[[0,\"#8e0152\"],[0.1,\"#c51b7d\"],[0.2,\"#de77ae\"],[0.3,\"#f1b6da\"],[0.4,\"#fde0ef\"],[0.5,\"#f7f7f7\"],[0.6,\"#e6f5d0\"],[0.7,\"#b8e186\"],[0.8,\"#7fbc41\"],[0.9,\"#4d9221\"],[1,\"#276419\"]]},\"xaxis\":{\"gridcolor\":\"white\",\"linecolor\":\"white\",\"ticks\":\"\",\"title\":{\"standoff\":15},\"zerolinecolor\":\"white\",\"automargin\":true,\"zerolinewidth\":2},\"yaxis\":{\"gridcolor\":\"white\",\"linecolor\":\"white\",\"ticks\":\"\",\"title\":{\"standoff\":15},\"zerolinecolor\":\"white\",\"automargin\":true,\"zerolinewidth\":2},\"scene\":{\"xaxis\":{\"backgroundcolor\":\"#E5ECF6\",\"gridcolor\":\"white\",\"linecolor\":\"white\",\"showbackground\":true,\"ticks\":\"\",\"zerolinecolor\":\"white\",\"gridwidth\":2},\"yaxis\":{\"backgroundcolor\":\"#E5ECF6\",\"gridcolor\":\"white\",\"linecolor\":\"white\",\"showbackground\":true,\"ticks\":\"\",\"zerolinecolor\":\"white\",\"gridwidth\":2},\"zaxis\":{\"backgroundcolor\":\"#E5ECF6\",\"gridcolor\":\"white\",\"linecolor\":\"white\",\"showbackground\":true,\"ticks\":\"\",\"zerolinecolor\":\"white\",\"gridwidth\":2}},\"shapedefaults\":{\"line\":{\"color\":\"#2a3f5f\"}},\"annotationdefaults\":{\"arrowcolor\":\"#2a3f5f\",\"arrowhead\":0,\"arrowwidth\":1},\"geo\":{\"bgcolor\":\"white\",\"landcolor\":\"#E5ECF6\",\"subunitcolor\":\"white\",\"showland\":true,\"showlakes\":true,\"lakecolor\":\"white\"},\"title\":{\"x\":0.05},\"mapbox\":{\"style\":\"light\"}}},\"title\":{\"text\":\"Some representations of the dataset\"},\"width\":1000,\"height\":600},                        {\"responsive\": true}                    ).then(function(){\n",
              "                            \n",
              "var gd = document.getElementById('ededcd1b-f50e-4b2f-942e-dc0159ebe23f');\n",
              "var x = new MutationObserver(function (mutations, observer) {{\n",
              "        var display = window.getComputedStyle(gd).display;\n",
              "        if (!display || display === 'none') {{\n",
              "            console.log([gd, 'removed!']);\n",
              "            Plotly.purge(gd);\n",
              "            observer.disconnect();\n",
              "        }}\n",
              "}});\n",
              "\n",
              "// Listen for the removal of the full notebook cells\n",
              "var notebookContainer = gd.closest('#notebook-container');\n",
              "if (notebookContainer) {{\n",
              "    x.observe(notebookContainer, {childList: true});\n",
              "}}\n",
              "\n",
              "// Listen for the clearing of the current output cell\n",
              "var outputEl = gd.closest('.output');\n",
              "if (outputEl) {{\n",
              "    x.observe(outputEl, {childList: true});\n",
              "}}\n",
              "\n",
              "                        })                };                            </script>        </div>\n",
              "</body>\n",
              "</html>"
            ]
          },
          "metadata": {}
        }
      ]
    },
    {
      "cell_type": "markdown",
      "source": [
        "### 3.2. Training set handling\n",
        "\n",
        "Training set is organized by arranging label variable and feature variables."
      ],
      "metadata": {
        "id": "pgqCqFGj323h"
      }
    },
    {
      "cell_type": "code",
      "source": [
        "train_features, test_features = train_dataset.copy(), test_dataset.copy()\n",
        "train_labels, test_labels = train_features.pop('MPG'), test_features.pop('MPG')"
      ],
      "metadata": {
        "id": "7MiCcr6o-v8o"
      },
      "execution_count": 11,
      "outputs": []
    },
    {
      "cell_type": "markdown",
      "source": [
        "### 3.3. Normalization step\n",
        "\n",
        "For the model, `Horsepower` is selected as the variable used to predict `MPG` ( possible to use another variable). Therefore, `Horsepower` is kept in the dataset `train_features` and used to adapt the normalisation layer.\n"
      ],
      "metadata": {
        "id": "3FjdtVUpbhSW"
      }
    },
    {
      "cell_type": "code",
      "source": [
        "horsepower = np.array(train_features['Horsepower'])\n",
        "horsepower_normalizer = keras.layers.Normalization(input_shape=(1,), axis=None)\n",
        "horsepower_normalizer.adapt(horsepower) # fit to the data to compute the mean and standard deviation"
      ],
      "metadata": {
        "id": "Zf8YhKuU-3MX",
        "colab": {
          "base_uri": "https://localhost:8080/"
        },
        "outputId": "4b222481-8ee2-4d37-a671-a91c7aa99ae5"
      },
      "execution_count": 12,
      "outputs": [
        {
          "output_type": "stream",
          "name": "stderr",
          "text": [
            "/usr/local/lib/python3.11/dist-packages/keras/src/layers/preprocessing/tf_data_layer.py:19: UserWarning:\n",
            "\n",
            "Do not pass an `input_shape`/`input_dim` argument to a layer. When using Sequential models, prefer using an `Input(shape)` object as the first layer in the model instead.\n",
            "\n"
          ]
        }
      ]
    },
    {
      "cell_type": "markdown",
      "source": [
        "---\n",
        "\n",
        "\n",
        "## **4. Linear regression model (L-model)**\n",
        "\n",
        "First model: a single-variable linear regression model to predict `MPG` from `Horsepower`. For this, two steps are done in this model:\n",
        "*   The feature `Horsepower` is normalized by using a specific preprocessing layer `norm` (then replaced by the one defined above).\n",
        "*   A linear transformation `y = ax + b` is applied with the layer `Dense` to produce 1 output.\n",
        "\n"
      ],
      "metadata": {
        "id": "2Sxygb4SXUEl"
      }
    },
    {
      "cell_type": "code",
      "source": [
        "\"\"\"setup model\"\"\"\n",
        "def create_linear_model(norm):\n",
        "  model = keras.Sequential([norm, keras.layers.Dense(units=1)])\n",
        "  model.compile(optimizer=optimizers.Adam(learning_rate=0.1), loss='mean_absolute_error')\n",
        "  return model"
      ],
      "metadata": {
        "id": "_unS_mDqZkBk"
      },
      "execution_count": 13,
      "outputs": []
    },
    {
      "cell_type": "code",
      "source": [
        "linear_model = create_linear_model(horsepower_normalizer)\n",
        "\n",
        "if training_phase == 'Yes':\n",
        "  computation_time = {}\n",
        "  t0 = thread_time()\n",
        "  history = linear_model.fit(train_features['Horsepower'], train_labels, epochs=50, verbose=0, validation_split = 0.2)\n",
        "  t1 = thread_time()\n",
        "  computation_time['L-model'] = t1-t0 # save the computation time\n",
        "  linear_model.save('Lmodel.keras')\n",
        "  show_evolution(history)"
      ],
      "metadata": {
        "id": "Ef_uqoli_HEe"
      },
      "execution_count": 14,
      "outputs": []
    },
    {
      "cell_type": "code",
      "source": [
        "if training_phase == \"Yes\":\n",
        "  test_results = {}\n",
        "  test_results['L-model'] = linear_model.evaluate(test_features['Horsepower'], test_labels, verbose=0) # save the loss value for the test set"
      ],
      "metadata": {
        "id": "PD8KTQ6y_OT2"
      },
      "execution_count": 15,
      "outputs": []
    },
    {
      "cell_type": "markdown",
      "source": [
        "---\n",
        "\n",
        "\n",
        "## **5. Multiple inputs linear regression model (nL-model)**\n",
        "\n",
        "Second model: a 8-variables linear regression model to predict `MPG` from `train_features`. For this, two steps are done in this model:\n",
        "*   The features `train_features` are normalized by using a specific preprocessing layer `norm`\n",
        "*   A linear transformation `y = Mx + v` is applied with the layer `Dense` to produce 1 output"
      ],
      "metadata": {
        "id": "HfzcZwNwHLUw"
      }
    },
    {
      "cell_type": "code",
      "source": [
        "normalizer_multiple = keras.layers.Normalization(axis=-1)\n",
        "normalizer_multiple.adapt(np.array(train_features))"
      ],
      "metadata": {
        "id": "FfIsf_BsH3h9"
      },
      "execution_count": 16,
      "outputs": []
    },
    {
      "cell_type": "code",
      "source": [
        "multiple_linear_model = create_linear_model(normalizer_multiple)\n",
        "if training_phase == \"Yes\":\n",
        "  t0 = thread_time()\n",
        "  history = multiple_linear_model.fit(train_features, train_labels, epochs=50, verbose=0, validation_split = 0.2)\n",
        "  t1 = thread_time()\n",
        "  multiple_linear_model.save('nLmodel.keras')\n",
        "  computation_time['nL-model'] = t1-t0\n",
        "  test_results['nL-model'] = multiple_linear_model.evaluate(test_features, test_labels, verbose=0) # save the loss value for the test set\n",
        "  show_evolution(history)"
      ],
      "metadata": {
        "id": "yrAa6_D8IIu1"
      },
      "execution_count": 17,
      "outputs": []
    },
    {
      "cell_type": "markdown",
      "source": [
        "---\n",
        "\n",
        "\n",
        "## **6. Deep Neural Network model (DNN-model)**\n",
        "\n",
        "Third model: a deep network regression model to predict `MPG` from `Horsepower`. The model is composed of one pre-processing layer, 2 deep layers and one output layer:\n",
        "* The pre-processing layer `norm`\n",
        "* Two deep layers `Dense` with the non-linear function `ReLu` as activation function\n",
        "* One output layer `Dense` to compute an unique output\n"
      ],
      "metadata": {
        "id": "CZwQHnjIBtpc"
      }
    },
    {
      "cell_type": "code",
      "source": [
        "\"\"\"setup model\"\"\"\n",
        "def DNN_model(norm):\n",
        "  model = keras.Sequential([\n",
        "      norm,\n",
        "      keras.layers.Dense(64, activation='relu'),\n",
        "      keras.layers.Dense(64, activation='relu'),\n",
        "      keras.layers.Dense(1)])\n",
        "\n",
        "  model.compile(loss='mean_absolute_error', optimizer=keras.optimizers.Adam(0.001))\n",
        "  return model"
      ],
      "metadata": {
        "id": "JejOC9uXeDXY"
      },
      "execution_count": 18,
      "outputs": []
    },
    {
      "cell_type": "code",
      "source": [
        "dnn_model = DNN_model(horsepower_normalizer)\n",
        "if training_phase == \"Yes\":\n",
        "  t0 = thread_time()\n",
        "  history = dnn_model.fit(train_features['Horsepower'], train_labels, epochs=50, validation_split=0.2, verbose=0)\n",
        "  t1 = thread_time()\n",
        "  computation_time['DNN-model'] = t1-t0\n",
        "  test_results['DNN-model'] = dnn_model.evaluate(test_features['Horsepower'], test_labels, verbose=0)\n",
        "  dnn_model.save('DNNmodel.keras')\n",
        "  show_evolution(history)"
      ],
      "metadata": {
        "id": "u2rF44E7ABhe"
      },
      "execution_count": 19,
      "outputs": []
    },
    {
      "cell_type": "markdown",
      "source": [
        "---\n",
        "\n",
        "\n",
        "## **7. Multiple inputs deep Neural Network model (nDNN-model)**\n",
        "\n",
        "Last model: a deep network regression model with 8 inputs to predict `MPG` from `train_features`."
      ],
      "metadata": {
        "id": "ZX8fFojDKVoS"
      }
    },
    {
      "cell_type": "code",
      "source": [
        "multiple_dnn_model = DNN_model(normalizer_multiple)\n",
        "if training_phase == \"Yes\":\n",
        "  t0 = thread_time()\n",
        "  history = multiple_dnn_model.fit(train_features, train_labels, epochs=50, validation_split=0.2, verbose=0)\n",
        "  t1 = thread_time()\n",
        "  computation_time['nDNN-model'] = t1-t0\n",
        "  test_results['nDNN-model'] = multiple_dnn_model.evaluate(test_features, test_labels, verbose=0)\n",
        "  multiple_dnn_model.save('nDNNmodel.keras')\n",
        "  show_evolution(history)"
      ],
      "metadata": {
        "id": "ZQiIuBsZKaxk"
      },
      "execution_count": 20,
      "outputs": []
    },
    {
      "cell_type": "markdown",
      "source": [
        "---\n",
        "\n",
        "\n",
        "## **8. Confrontation & comments**\n",
        "\n",
        "If the models have been trained, it is possible to compare the performance of each model. `nDNN_model` is the best in terms of minimizing the loss function, but also one of the longest in terms of computing time. Depending on performance, the function `plot_prediction` can be used to visualize predicted values as a function of true values (left graph) and error distribution (right graph)."
      ],
      "metadata": {
        "id": "wOPrGNokcalM"
      }
    },
    {
      "cell_type": "code",
      "source": [
        "if training_phase == \"Yes\":\n",
        "  performances = DataFrame([test_results, computation_time], index=['Mean absolute error [MPG]', \"Computation time [s]\"]).T\n",
        "  performances.to_csv('performances_regression.csv', index=False)\n",
        "else:\n",
        "  linear_model, multiple_linear_model, dnn_model, multiple_dnn_model, performances = get_github_files()"
      ],
      "metadata": {
        "id": "6xwr4-_XALPC",
        "colab": {
          "base_uri": "https://localhost:8080/"
        },
        "outputId": "9aeaeed4-1889-4c04-f365-fcf49d45c382"
      },
      "execution_count": 21,
      "outputs": [
        {
          "output_type": "stream",
          "name": "stdout",
          "text": [
            "Cloning into 'TensorFlow_duplicata'...\n",
            "remote: Enumerating objects: 767, done.\u001b[K\n",
            "remote: Counting objects: 100% (184/184), done.\u001b[K\n",
            "remote: Compressing objects: 100% (88/88), done.\u001b[K\n",
            "remote: Total 767 (delta 154), reused 96 (delta 96), pack-reused 583 (from 2)\u001b[K\n",
            "Receiving objects: 100% (767/767), 186.15 MiB | 26.77 MiB/s, done.\n",
            "Resolving deltas: 100% (385/385), done.\n"
          ]
        }
      ]
    },
    {
      "cell_type": "code",
      "source": [
        "print(performances)"
      ],
      "metadata": {
        "colab": {
          "base_uri": "https://localhost:8080/"
        },
        "id": "aVw7bdHq_rDF",
        "outputId": "dbf898dd-6e1a-4f18-8800-1f4a457ba745"
      },
      "execution_count": 22,
      "outputs": [
        {
          "output_type": "stream",
          "name": "stdout",
          "text": [
            "   Mean absolute error [MPG]  Computation time [s]\n",
            "0                   3.827374              4.595454\n",
            "1                   2.092484              3.868038\n",
            "2                   3.352383              5.078055\n",
            "3                   1.965180              4.296537\n"
          ]
        }
      ]
    },
    {
      "cell_type": "code",
      "source": [
        "all_model = {'L-model': linear_model, 'nL-model': multiple_linear_model, 'DNN-model': dnn_model, 'nDNN-model':\tmultiple_dnn_model}"
      ],
      "metadata": {
        "id": "Eeeagxgwd3zp"
      },
      "execution_count": 23,
      "outputs": []
    },
    {
      "cell_type": "code",
      "source": [
        "plot_prediction('nDNN-model')"
      ],
      "metadata": {
        "id": "xmgZdKD6ypZh",
        "colab": {
          "base_uri": "https://localhost:8080/",
          "height": 517
        },
        "outputId": "0ff072c6-2b57-47ce-d201-2ce9d7b4ca86"
      },
      "execution_count": 24,
      "outputs": [
        {
          "output_type": "display_data",
          "data": {
            "text/html": [
              "<html>\n",
              "<head><meta charset=\"utf-8\" /></head>\n",
              "<body>\n",
              "    <div>            <script src=\"https://cdnjs.cloudflare.com/ajax/libs/mathjax/2.7.5/MathJax.js?config=TeX-AMS-MML_SVG\"></script><script type=\"text/javascript\">if (window.MathJax && window.MathJax.Hub && window.MathJax.Hub.Config) {window.MathJax.Hub.Config({SVG: {font: \"STIX-Web\"}});}</script>                <script type=\"text/javascript\">window.PlotlyConfig = {MathJaxConfig: 'local'};</script>\n",
              "        <script charset=\"utf-8\" src=\"https://cdn.plot.ly/plotly-2.35.2.min.js\"></script>                <div id=\"ec6f7840-3c9c-4613-bd45-462e158568a9\" class=\"plotly-graph-div\" style=\"height:500px; width:900px;\"></div>            <script type=\"text/javascript\">                                    window.PLOTLYENV=window.PLOTLYENV || {};                                    if (document.getElementById(\"ec6f7840-3c9c-4613-bd45-462e158568a9\")) {                    Plotly.newPlot(                        \"ec6f7840-3c9c-4613-bd45-462e158568a9\",                        [{\"marker\":{\"color\":\"blue\"},\"mode\":\"markers\",\"showlegend\":false,\"x\":[17.0,14.0,21.0,11.0,19.0,31.0,27.0,20.0,21.0,17.0,14.0,22.0,14.0,14.0,26.0,11.0,19.0,21.0,16.0,24.0,19.0,25.0,13.0,26.0,32.0,24.0,26.0,18.0,15.0,16.0,14.0,16.0,23.0,22.0,28.0,25.0,27.0,17.5,22.0,24.0,22.5,29.0,24.5,29.0,33.0,32.0,16.5,17.5,29.0,22.0,36.1,36.1,19.2,17.7,30.9,21.1,31.5,29.5,21.5,22.3,17.0,17.6,16.5,31.9,34.2,37.2,19.1,46.6,25.8,30.0,35.1,33.0,33.7,32.4,31.6,34.0,38.0,26.0],\"y\":[18.425932,18.198393,21.713903,11.36545,20.459288,31.213242,27.165377,20.395197,24.48155,16.169275,14.025675,24.27435,16.212763,13.565546,28.507772,12.470074,22.638954,21.116907,13.632462,20.194502,17.184511,23.959585,13.110162,29.065653,31.288755,26.674063,25.805937,16.18083,20.0128,14.163544,14.066049,16.145819,22.94397,20.387636,24.397413,24.588837,26.242903,16.200764,17.051754,20.017569,18.606668,30.695288,28.495584,30.406864,33.625637,31.291098,14.128315,16.716368,29.673317,19.788063,35.148247,34.464947,18.828959,14.903847,31.68852,26.711199,31.499239,32.180878,18.56804,24.226683,19.487223,20.2941,19.280405,33.45201,34.578533,35.55405,21.90772,35.13523,28.207289,32.725876,38.357628,33.300022,34.528324,33.46065,32.260757,30.52859,37.914413,29.356241],\"type\":\"scatter\",\"xaxis\":\"x\",\"yaxis\":\"y\"},{\"marker\":{\"color\":\"red\"},\"mode\":\"lines\",\"showlegend\":false,\"x\":[9.9,10.7440815,11.588163,12.432244,13.276326,14.120408,14.964489,15.808571,16.652653,17.496735,18.340816,19.184898,20.02898,20.873062,21.717142,22.561224,23.405306,24.249388,25.09347,25.937551,26.781633,27.625713,28.469795,29.313877,30.157959,31.00204,31.846123,32.690205,33.534286,34.378365,35.22245,36.06653,36.910614,37.754692,38.598778,39.442856,40.28694,41.13102,41.975105,42.819183,43.66327,44.507347,45.351425,46.19551,47.03959,47.883675,48.727753,49.57184,50.415916,51.26],\"y\":[9.9,10.7440815,11.588163,12.432244,13.276326,14.120408,14.964489,15.808571,16.652653,17.496735,18.340816,19.184898,20.02898,20.873062,21.717142,22.561224,23.405306,24.249388,25.09347,25.937551,26.781633,27.625713,28.469795,29.313877,30.157959,31.00204,31.846123,32.690205,33.534286,34.378365,35.22245,36.06653,36.910614,37.754692,38.598778,39.442856,40.28694,41.13102,41.975105,42.819183,43.66327,44.507347,45.351425,46.19551,47.03959,47.883675,48.727753,49.57184,50.415916,51.26],\"type\":\"scatter\",\"xaxis\":\"x\",\"yaxis\":\"y\"},{\"marker\":{\"color\":\"blue\"},\"nbinsx\":25,\"showlegend\":false,\"x\":[1.4259319305419922,4.198392868041992,0.7139034271240234,0.3654499053955078,1.4592876434326172,0.2132415771484375,0.1653766632080078,0.39519691467285156,3.4815502166748047,-0.8307247161865234,0.025674819946289062,2.2743492126464844,2.2127628326416016,-0.43445396423339844,2.507772445678711,1.4700736999511719,3.6389541625976562,0.11690711975097656,-2.3675384521484375,-3.8054981231689453,-1.8154888153076172,-1.040414810180664,0.11016178131103516,3.065652847290039,-0.7112445831298828,2.674062728881836,-0.1940631866455078,-1.8191699981689453,5.012800216674805,-1.836456298828125,0.06604862213134766,0.14581871032714844,-0.0560302734375,-1.6123638153076172,-3.6025867462158203,-0.411163330078125,-0.7570972442626953,-1.2992362976074219,-4.948246002197266,-3.982431411743164,-3.893331527709961,1.6952877044677734,3.995584487915039,1.4068641662597656,0.6256370544433594,-0.7089023590087891,-2.371685028076172,-0.7836322784423828,0.6733169555664062,-2.2119369506835938,-0.9517532348632827,-1.6350532531738295,-0.3710414886474602,-2.796153259277343,0.7885204315185561,5.611198806762694,-0.0007610321044921875,2.680877685546875,-2.9319591522216797,1.9266826629638665,2.487222671508789,2.6940998077392564,2.780405044555664,1.552011108398439,0.37853317260741903,-1.6459495544433622,2.807720565795897,-11.464768981933595,2.407288742065429,2.7258758544921875,3.2576278686523423,0.3000221252441406,0.8283241271972628,1.0606513977050795,0.6607574462890611,-3.4714107513427734,-0.0855865478515625,3.356241226196289],\"type\":\"histogram\",\"xaxis\":\"x2\",\"yaxis\":\"y2\"}],                        {\"template\":{\"data\":{\"histogram2dcontour\":[{\"type\":\"histogram2dcontour\",\"colorbar\":{\"outlinewidth\":0,\"ticks\":\"\"},\"colorscale\":[[0.0,\"#0d0887\"],[0.1111111111111111,\"#46039f\"],[0.2222222222222222,\"#7201a8\"],[0.3333333333333333,\"#9c179e\"],[0.4444444444444444,\"#bd3786\"],[0.5555555555555556,\"#d8576b\"],[0.6666666666666666,\"#ed7953\"],[0.7777777777777778,\"#fb9f3a\"],[0.8888888888888888,\"#fdca26\"],[1.0,\"#f0f921\"]]}],\"choropleth\":[{\"type\":\"choropleth\",\"colorbar\":{\"outlinewidth\":0,\"ticks\":\"\"}}],\"histogram2d\":[{\"type\":\"histogram2d\",\"colorbar\":{\"outlinewidth\":0,\"ticks\":\"\"},\"colorscale\":[[0.0,\"#0d0887\"],[0.1111111111111111,\"#46039f\"],[0.2222222222222222,\"#7201a8\"],[0.3333333333333333,\"#9c179e\"],[0.4444444444444444,\"#bd3786\"],[0.5555555555555556,\"#d8576b\"],[0.6666666666666666,\"#ed7953\"],[0.7777777777777778,\"#fb9f3a\"],[0.8888888888888888,\"#fdca26\"],[1.0,\"#f0f921\"]]}],\"heatmap\":[{\"type\":\"heatmap\",\"colorbar\":{\"outlinewidth\":0,\"ticks\":\"\"},\"colorscale\":[[0.0,\"#0d0887\"],[0.1111111111111111,\"#46039f\"],[0.2222222222222222,\"#7201a8\"],[0.3333333333333333,\"#9c179e\"],[0.4444444444444444,\"#bd3786\"],[0.5555555555555556,\"#d8576b\"],[0.6666666666666666,\"#ed7953\"],[0.7777777777777778,\"#fb9f3a\"],[0.8888888888888888,\"#fdca26\"],[1.0,\"#f0f921\"]]}],\"heatmapgl\":[{\"type\":\"heatmapgl\",\"colorbar\":{\"outlinewidth\":0,\"ticks\":\"\"},\"colorscale\":[[0.0,\"#0d0887\"],[0.1111111111111111,\"#46039f\"],[0.2222222222222222,\"#7201a8\"],[0.3333333333333333,\"#9c179e\"],[0.4444444444444444,\"#bd3786\"],[0.5555555555555556,\"#d8576b\"],[0.6666666666666666,\"#ed7953\"],[0.7777777777777778,\"#fb9f3a\"],[0.8888888888888888,\"#fdca26\"],[1.0,\"#f0f921\"]]}],\"contourcarpet\":[{\"type\":\"contourcarpet\",\"colorbar\":{\"outlinewidth\":0,\"ticks\":\"\"}}],\"contour\":[{\"type\":\"contour\",\"colorbar\":{\"outlinewidth\":0,\"ticks\":\"\"},\"colorscale\":[[0.0,\"#0d0887\"],[0.1111111111111111,\"#46039f\"],[0.2222222222222222,\"#7201a8\"],[0.3333333333333333,\"#9c179e\"],[0.4444444444444444,\"#bd3786\"],[0.5555555555555556,\"#d8576b\"],[0.6666666666666666,\"#ed7953\"],[0.7777777777777778,\"#fb9f3a\"],[0.8888888888888888,\"#fdca26\"],[1.0,\"#f0f921\"]]}],\"surface\":[{\"type\":\"surface\",\"colorbar\":{\"outlinewidth\":0,\"ticks\":\"\"},\"colorscale\":[[0.0,\"#0d0887\"],[0.1111111111111111,\"#46039f\"],[0.2222222222222222,\"#7201a8\"],[0.3333333333333333,\"#9c179e\"],[0.4444444444444444,\"#bd3786\"],[0.5555555555555556,\"#d8576b\"],[0.6666666666666666,\"#ed7953\"],[0.7777777777777778,\"#fb9f3a\"],[0.8888888888888888,\"#fdca26\"],[1.0,\"#f0f921\"]]}],\"mesh3d\":[{\"type\":\"mesh3d\",\"colorbar\":{\"outlinewidth\":0,\"ticks\":\"\"}}],\"scatter\":[{\"fillpattern\":{\"fillmode\":\"overlay\",\"size\":10,\"solidity\":0.2},\"type\":\"scatter\"}],\"parcoords\":[{\"type\":\"parcoords\",\"line\":{\"colorbar\":{\"outlinewidth\":0,\"ticks\":\"\"}}}],\"scatterpolargl\":[{\"type\":\"scatterpolargl\",\"marker\":{\"colorbar\":{\"outlinewidth\":0,\"ticks\":\"\"}}}],\"bar\":[{\"error_x\":{\"color\":\"#2a3f5f\"},\"error_y\":{\"color\":\"#2a3f5f\"},\"marker\":{\"line\":{\"color\":\"#E5ECF6\",\"width\":0.5},\"pattern\":{\"fillmode\":\"overlay\",\"size\":10,\"solidity\":0.2}},\"type\":\"bar\"}],\"scattergeo\":[{\"type\":\"scattergeo\",\"marker\":{\"colorbar\":{\"outlinewidth\":0,\"ticks\":\"\"}}}],\"scatterpolar\":[{\"type\":\"scatterpolar\",\"marker\":{\"colorbar\":{\"outlinewidth\":0,\"ticks\":\"\"}}}],\"histogram\":[{\"marker\":{\"pattern\":{\"fillmode\":\"overlay\",\"size\":10,\"solidity\":0.2}},\"type\":\"histogram\"}],\"scattergl\":[{\"type\":\"scattergl\",\"marker\":{\"colorbar\":{\"outlinewidth\":0,\"ticks\":\"\"}}}],\"scatter3d\":[{\"type\":\"scatter3d\",\"line\":{\"colorbar\":{\"outlinewidth\":0,\"ticks\":\"\"}},\"marker\":{\"colorbar\":{\"outlinewidth\":0,\"ticks\":\"\"}}}],\"scattermapbox\":[{\"type\":\"scattermapbox\",\"marker\":{\"colorbar\":{\"outlinewidth\":0,\"ticks\":\"\"}}}],\"scatterternary\":[{\"type\":\"scatterternary\",\"marker\":{\"colorbar\":{\"outlinewidth\":0,\"ticks\":\"\"}}}],\"scattercarpet\":[{\"type\":\"scattercarpet\",\"marker\":{\"colorbar\":{\"outlinewidth\":0,\"ticks\":\"\"}}}],\"carpet\":[{\"aaxis\":{\"endlinecolor\":\"#2a3f5f\",\"gridcolor\":\"white\",\"linecolor\":\"white\",\"minorgridcolor\":\"white\",\"startlinecolor\":\"#2a3f5f\"},\"baxis\":{\"endlinecolor\":\"#2a3f5f\",\"gridcolor\":\"white\",\"linecolor\":\"white\",\"minorgridcolor\":\"white\",\"startlinecolor\":\"#2a3f5f\"},\"type\":\"carpet\"}],\"table\":[{\"cells\":{\"fill\":{\"color\":\"#EBF0F8\"},\"line\":{\"color\":\"white\"}},\"header\":{\"fill\":{\"color\":\"#C8D4E3\"},\"line\":{\"color\":\"white\"}},\"type\":\"table\"}],\"barpolar\":[{\"marker\":{\"line\":{\"color\":\"#E5ECF6\",\"width\":0.5},\"pattern\":{\"fillmode\":\"overlay\",\"size\":10,\"solidity\":0.2}},\"type\":\"barpolar\"}],\"pie\":[{\"automargin\":true,\"type\":\"pie\"}]},\"layout\":{\"autotypenumbers\":\"strict\",\"colorway\":[\"#636efa\",\"#EF553B\",\"#00cc96\",\"#ab63fa\",\"#FFA15A\",\"#19d3f3\",\"#FF6692\",\"#B6E880\",\"#FF97FF\",\"#FECB52\"],\"font\":{\"color\":\"#2a3f5f\"},\"hovermode\":\"closest\",\"hoverlabel\":{\"align\":\"left\"},\"paper_bgcolor\":\"white\",\"plot_bgcolor\":\"#E5ECF6\",\"polar\":{\"bgcolor\":\"#E5ECF6\",\"angularaxis\":{\"gridcolor\":\"white\",\"linecolor\":\"white\",\"ticks\":\"\"},\"radialaxis\":{\"gridcolor\":\"white\",\"linecolor\":\"white\",\"ticks\":\"\"}},\"ternary\":{\"bgcolor\":\"#E5ECF6\",\"aaxis\":{\"gridcolor\":\"white\",\"linecolor\":\"white\",\"ticks\":\"\"},\"baxis\":{\"gridcolor\":\"white\",\"linecolor\":\"white\",\"ticks\":\"\"},\"caxis\":{\"gridcolor\":\"white\",\"linecolor\":\"white\",\"ticks\":\"\"}},\"coloraxis\":{\"colorbar\":{\"outlinewidth\":0,\"ticks\":\"\"}},\"colorscale\":{\"sequential\":[[0.0,\"#0d0887\"],[0.1111111111111111,\"#46039f\"],[0.2222222222222222,\"#7201a8\"],[0.3333333333333333,\"#9c179e\"],[0.4444444444444444,\"#bd3786\"],[0.5555555555555556,\"#d8576b\"],[0.6666666666666666,\"#ed7953\"],[0.7777777777777778,\"#fb9f3a\"],[0.8888888888888888,\"#fdca26\"],[1.0,\"#f0f921\"]],\"sequentialminus\":[[0.0,\"#0d0887\"],[0.1111111111111111,\"#46039f\"],[0.2222222222222222,\"#7201a8\"],[0.3333333333333333,\"#9c179e\"],[0.4444444444444444,\"#bd3786\"],[0.5555555555555556,\"#d8576b\"],[0.6666666666666666,\"#ed7953\"],[0.7777777777777778,\"#fb9f3a\"],[0.8888888888888888,\"#fdca26\"],[1.0,\"#f0f921\"]],\"diverging\":[[0,\"#8e0152\"],[0.1,\"#c51b7d\"],[0.2,\"#de77ae\"],[0.3,\"#f1b6da\"],[0.4,\"#fde0ef\"],[0.5,\"#f7f7f7\"],[0.6,\"#e6f5d0\"],[0.7,\"#b8e186\"],[0.8,\"#7fbc41\"],[0.9,\"#4d9221\"],[1,\"#276419\"]]},\"xaxis\":{\"gridcolor\":\"white\",\"linecolor\":\"white\",\"ticks\":\"\",\"title\":{\"standoff\":15},\"zerolinecolor\":\"white\",\"automargin\":true,\"zerolinewidth\":2},\"yaxis\":{\"gridcolor\":\"white\",\"linecolor\":\"white\",\"ticks\":\"\",\"title\":{\"standoff\":15},\"zerolinecolor\":\"white\",\"automargin\":true,\"zerolinewidth\":2},\"scene\":{\"xaxis\":{\"backgroundcolor\":\"#E5ECF6\",\"gridcolor\":\"white\",\"linecolor\":\"white\",\"showbackground\":true,\"ticks\":\"\",\"zerolinecolor\":\"white\",\"gridwidth\":2},\"yaxis\":{\"backgroundcolor\":\"#E5ECF6\",\"gridcolor\":\"white\",\"linecolor\":\"white\",\"showbackground\":true,\"ticks\":\"\",\"zerolinecolor\":\"white\",\"gridwidth\":2},\"zaxis\":{\"backgroundcolor\":\"#E5ECF6\",\"gridcolor\":\"white\",\"linecolor\":\"white\",\"showbackground\":true,\"ticks\":\"\",\"zerolinecolor\":\"white\",\"gridwidth\":2}},\"shapedefaults\":{\"line\":{\"color\":\"#2a3f5f\"}},\"annotationdefaults\":{\"arrowcolor\":\"#2a3f5f\",\"arrowhead\":0,\"arrowwidth\":1},\"geo\":{\"bgcolor\":\"white\",\"landcolor\":\"#E5ECF6\",\"subunitcolor\":\"white\",\"showland\":true,\"showlakes\":true,\"lakecolor\":\"white\"},\"title\":{\"x\":0.05},\"mapbox\":{\"style\":\"light\"}}},\"xaxis\":{\"anchor\":\"y\",\"domain\":[0.0,0.45],\"title\":{\"text\":\"True values [MPG]\"}},\"yaxis\":{\"anchor\":\"x\",\"domain\":[0.0,1.0],\"title\":{\"text\":\"Predictions [MPG]\"}},\"xaxis2\":{\"anchor\":\"y2\",\"domain\":[0.55,1.0],\"title\":{\"text\":\"Prediction error [MPG]\"}},\"yaxis2\":{\"anchor\":\"x2\",\"domain\":[0.0,1.0],\"title\":{\"text\":\"Count\"},\"range\":[0,25]},\"annotations\":[{\"font\":{\"size\":16},\"showarrow\":false,\"text\":\"Predicted values Vs. True values\",\"x\":0.225,\"xanchor\":\"center\",\"xref\":\"paper\",\"y\":1.0,\"yanchor\":\"bottom\",\"yref\":\"paper\"},{\"font\":{\"size\":16},\"showarrow\":false,\"text\":\"Error distribution\",\"x\":0.775,\"xanchor\":\"center\",\"xref\":\"paper\",\"y\":1.0,\"yanchor\":\"bottom\",\"yref\":\"paper\"}],\"title\":{\"text\":\"nDNN-model\"},\"width\":900,\"height\":500},                        {\"responsive\": true}                    ).then(function(){\n",
              "                            \n",
              "var gd = document.getElementById('ec6f7840-3c9c-4613-bd45-462e158568a9');\n",
              "var x = new MutationObserver(function (mutations, observer) {{\n",
              "        var display = window.getComputedStyle(gd).display;\n",
              "        if (!display || display === 'none') {{\n",
              "            console.log([gd, 'removed!']);\n",
              "            Plotly.purge(gd);\n",
              "            observer.disconnect();\n",
              "        }}\n",
              "}});\n",
              "\n",
              "// Listen for the removal of the full notebook cells\n",
              "var notebookContainer = gd.closest('#notebook-container');\n",
              "if (notebookContainer) {{\n",
              "    x.observe(notebookContainer, {childList: true});\n",
              "}}\n",
              "\n",
              "// Listen for the clearing of the current output cell\n",
              "var outputEl = gd.closest('.output');\n",
              "if (outputEl) {{\n",
              "    x.observe(outputEl, {childList: true});\n",
              "}}\n",
              "\n",
              "                        })                };                            </script>        </div>\n",
              "</body>\n",
              "</html>"
            ]
          },
          "metadata": {}
        }
      ]
    },
    {
      "cell_type": "markdown",
      "source": [
        "The 4 predictive models produce different results and expectations. The multiple-input neural network `nDNN` model produces the closest predictions to reality with a reasonable computation time. However, with much less complexity, the multi-input linear `nL` model seems more than satisfactory. The prediction error is close to that of the complex `nDNN` model, but with a lower computation time.\n",
        "\n",
        "**Depending on resources and requirements, these two models are equivalent.**"
      ],
      "metadata": {
        "id": "9-ycus22WfDH"
      }
    },
    {
      "cell_type": "markdown",
      "source": [
        "---\n",
        "\n",
        "\n",
        "## **9. References**\n",
        "\n",
        "| | | | | |\n",
        "|------|------|------|------|------|\n",
        "| Index | Title | Author(s) | Type | Comments |\n",
        "|[[1]](https://archive.ics.uci.edu/dataset/9/auto+mpg) | Auto MPG | UC Irvine | dataset | - |\n",
        "|[[2]](https://arxiv.org/pdf/2202.03326) | Optimal Ratio for Data Splitting | V. Roshan Joseph | paper | - |"
      ],
      "metadata": {
        "id": "47MVaxYjnkyc"
      }
    },
    {
      "cell_type": "code",
      "source": [
        "print(\"Notebook run in %.1f seconds on %s\" % ((time() - start), tf.config.list_physical_devices(device_type=None)[-1][-1]))"
      ],
      "metadata": {
        "colab": {
          "base_uri": "https://localhost:8080/"
        },
        "id": "paPd2vNdX_AJ",
        "outputId": "59a45dd9-11f1-452b-f5a0-dbac8f67c38f"
      },
      "execution_count": 25,
      "outputs": [
        {
          "output_type": "stream",
          "name": "stdout",
          "text": [
            "Notebook run in 9.8 seconds on CPU\n"
          ]
        }
      ]
    }
  ]
}