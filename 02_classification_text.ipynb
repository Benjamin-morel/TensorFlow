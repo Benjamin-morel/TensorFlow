{
  "cells": [
    {
      "cell_type": "markdown",
      "metadata": {
        "id": "view-in-github",
        "colab_type": "text"
      },
      "source": [
        "<a href=\"https://colab.research.google.com/github/Benjamin-morel/TensorFlow/blob/main/02_classification_text.ipynb\" target=\"_parent\"><img src=\"https://colab.research.google.com/assets/colab-badge.svg\" alt=\"Open In Colab\"/></a>"
      ]
    },
    {
      "cell_type": "markdown",
      "metadata": {
        "id": "V-HaWB3Owxi1"
      },
      "source": [
        "---\n",
        "\n",
        "\n",
        "# **Machine Learning Model: basic text classification**\n",
        "\n",
        "| | |\n",
        "|------|------|\n",
        "| Filename | 02_classification_test.ipynb |\n",
        "| Author(s) | Benjamin Morel (benjaminmorel27@gmail.com) |\n",
        "| Date | September 4, 2024 |\n",
        "| Aim(s) | Build, train and evaluate a neural network machine learning model that classifies movie reviews as positives or negatives. |\n",
        "| Dataset(s) | IMDb Movie Reviews dataset [[1]](https://aclanthology.org/P11-1015.pdf)|\n",
        "| Version | Python 3.10.12 - TensorFlow 2.17.1 |\n",
        "\n",
        "\n",
        "<br> **!!Read before running!!** <br>\n",
        "1. Fill in the inputs\n",
        "2. CPU execution is enough.\n",
        "3. Run all and read comments.\n",
        "\n",
        "---\n",
        "\n",
        "#### **Motivation**\n",
        "\n",
        "The IMDb Movie Reviews database - composed of over 50,000 movie reviews on internet - is used to built a binary classification model. In the last section, weights of the neural network are used to make correspondences and analogies between words.\n",
        "\n",
        "#### **Outline**\n",
        "* retrieve data & pre-processing\n",
        "* Sequential API and loss function\n",
        "* training and evaluation\n",
        "* prediction\n",
        "* exploration of the embedding space\n",
        "* references\n",
        "\n",
        "---\n",
        "\n"
      ]
    },
    {
      "cell_type": "markdown",
      "metadata": {
        "id": "GVXaEQPzZeq0"
      },
      "source": [
        "#### **0. Input section**"
      ]
    },
    {
      "cell_type": "markdown",
      "metadata": {
        "id": "OVCvwvCvZgIJ"
      },
      "source": [
        "The model has already been trained and the user can choose to used a pre-trained model (No) or to repeat the training phase (Yes). Using a pre-trained model saves time, computer resources and CO2 emissions."
      ]
    },
    {
      "cell_type": "code",
      "execution_count": 1,
      "metadata": {
        "id": "Tla0F9fnZniD"
      },
      "outputs": [],
      "source": [
        "training_phase = 'No'"
      ]
    },
    {
      "cell_type": "markdown",
      "metadata": {
        "id": "PNcpWfJ-9oED"
      },
      "source": [
        "---\n",
        "\n",
        "\n",
        "#### **1. Python librairies & display utilities [RUN ME]**"
      ]
    },
    {
      "cell_type": "code",
      "execution_count": 2,
      "metadata": {
        "id": "AYUJBo2iwkEH"
      },
      "outputs": [],
      "source": [
        "from os import path, listdir                                                    # miscellaneous operating system interfaces\n",
        "from re import escape                                                           # regular expressions\n",
        "from shutil import rmtree                                                       # operations on files\n",
        "from string import punctuation                                                  # string manipulation\n",
        "from numpy import shape, linalg, argmax, max, round, array, unique, isin        # scientific computing\n",
        "from tensorflow import constant, keras, strings, expand_dims, data, metrics     # machine learning models\n",
        "from PIL import Image                                                           # image processing capabilities\n",
        "import matplotlib.pyplot as plt                                                 # graphing package"
      ]
    },
    {
      "cell_type": "code",
      "execution_count": 3,
      "metadata": {
        "id": "QVr-4h7erMJw"
      },
      "outputs": [],
      "source": [
        "def get_github_files(): # called when training_phase = \"No\" in section 0\n",
        "  !git clone https://github.com/Benjamin-morel/TensorFlow.git TensorFlow_duplicata # clone TensorFlow repertory\n",
        "  training_curves = Image.open(\"TensorFlow_duplicata/99_pre_trained_models/02_classification_text/results_graph.jpeg\") # see section 2.4\n",
        "  model = keras.models.load_model('TensorFlow_duplicata/99_pre_trained_models/02_classification_text/02_classification_text.keras', custom_objects={'custom_standardization': custom_standardization}) # pre-trained model\n",
        "  !rm -rf TensorFlow_duplicata/ # delete the cloned repertory\n",
        "  return training_curves, model"
      ]
    },
    {
      "cell_type": "code",
      "execution_count": 4,
      "metadata": {
        "id": "Goyhqt1J7lfh"
      },
      "outputs": [],
      "source": [
        "def plot_text(text_batch):\n",
        "  \"\"\" plot a random movie review with its label associated  \"\"\"\n",
        "  for text_batch, label_batch in text_batch:\n",
        "      if label_batch.numpy()[0] == 0:\n",
        "        print(\"Here's an extract from a negative review:\")\n",
        "        print(text_batch.numpy()[0])\n",
        "      else:\n",
        "        print(\"Here's an extract from a positive review:\")\n",
        "        print(text_batch.numpy()[0])"
      ]
    },
    {
      "cell_type": "code",
      "execution_count": 5,
      "metadata": {
        "id": "bSD64_Ta8DXb"
      },
      "outputs": [],
      "source": [
        "def plot_evolution(history):\n",
        "  \"\"\" plot training curves for the training and validation set  \"\"\"\n",
        "  loss_train, loss_val = history[0], history[2]\n",
        "  acc_train, acc_val = history[1], history[3]\n",
        "  epochs = range(1, len(acc_train) + 1)\n",
        "\n",
        "  fig = plt.subplot(2,1,1)\n",
        "  plt.plot(epochs, loss_train, label='Training', color='blue')\n",
        "  plt.plot(epochs, loss_val, label='Validation', color='orange')\n",
        "  plt.legend(loc='best', fontsize=10)\n",
        "  plt.grid(True, linestyle='--', alpha=0.6), plt.ylabel('Loss', fontsize=12)\n",
        "\n",
        "  plt.subplot(2,1,2)\n",
        "  plt.plot(epochs, acc_train, color='blue')\n",
        "  plt.plot(epochs, acc_val, color='orange')\n",
        "  plt.xlabel('Epochs', fontsize=12), plt.ylabel('Accuracy', fontsize=12)\n",
        "  plt.grid(True, linestyle='--', alpha=0.6)"
      ]
    },
    {
      "cell_type": "code",
      "source": [
        "def plot_distribution_word(nb_word):\n",
        "  fig = plt.figure(figsize=(7,5))\n",
        "  plt.hist(nb_word, bins=max(nb_word))\n",
        "  plt.xlim([0, 1000]), plt.xticks(range(0,1100, 400)), plt.xlabel(\"# of words\"), plt.ylabel(\"# of texts\")\n",
        "  plt.title(\"Number of text Vs. number of words\")\n",
        "  plt.show()"
      ],
      "metadata": {
        "id": "PLYjI_pbl5Vw"
      },
      "execution_count": 6,
      "outputs": []
    },
    {
      "cell_type": "code",
      "source": [
        "def plot_histo(predictions, max_length):\n",
        "  fig = plt.figure(figsize=(5,5))\n",
        "  plt.subplot(2,1,1)\n",
        "  plt.hist(predictions, bins=50, cumulative=False)\n",
        "  plt.ylabel(\"# of text\"), plt.title(\"max token = %d\" %max_length), plt.ylim([0, 7000])\n",
        "  plt.subplot(2,1,2)\n",
        "  plt.hist(predictions, bins=50, cumulative=True)\n",
        "  plt.xlabel(\"Model score\"), plt.ylabel(\"# of text\"), plt.ylim([0, 26000])\n",
        "  plt.show()"
      ],
      "metadata": {
        "id": "G5ph8GSemPy7"
      },
      "execution_count": 7,
      "outputs": []
    },
    {
      "cell_type": "code",
      "source": [
        "def plot_error_rate(unique_elements_error, ratio, max_length):\n",
        "  fig = plt.figure(figsize=(7,5))\n",
        "  plt.hist(unique_elements_error, weights=100*ratio, bins=max(unique_elements_error), cumulative=False)\n",
        "  plt.xlim([0, 1100]), plt.xticks(range(0,1200, 400)), plt.xlabel(\"# of words in the text\"), plt.ylabel(\"Prediction error [%]\"), plt.ylim([0, 110])\n",
        "  plt.title(\"max token = %d\" %max_length)\n",
        "  plt.show()"
      ],
      "metadata": {
        "id": "DFqU3dt5mZIE"
      },
      "execution_count": 8,
      "outputs": []
    },
    {
      "cell_type": "markdown",
      "metadata": {
        "id": "asHoEhUdvK3v"
      },
      "source": [
        "---\n",
        "\n",
        "\n",
        "#### **2. Data retrieval and set generation**"
      ]
    },
    {
      "cell_type": "markdown",
      "metadata": {
        "id": "f2zcHbIgB3ql"
      },
      "source": [
        "###### **2.1. Stanford Sentiment Treebank Dataset**\n",
        "\n",
        "The IMDb Movie Reviews is a database created for sentiment analysis in movie reviews. It contains movie reviews labeled with sentiment (positive or negative).\n"
      ]
    },
    {
      "cell_type": "code",
      "execution_count": 9,
      "metadata": {
        "id": "pZREb5FsxYCp"
      },
      "outputs": [],
      "source": [
        "url = \"https://ai.stanford.edu/~amaas/data/sentiment/aclImdb_v1.tar.gz\"\n",
        "\n",
        "dataset = keras.utils.get_file(\"aclImdb_v1\", url, extract=True, cache_dir='.', cache_subdir='')\n",
        "dataset_dir = path.join(path.dirname(dataset), 'aclImdb')"
      ]
    },
    {
      "cell_type": "markdown",
      "metadata": {
        "id": "9-rQAmrHV24_"
      },
      "source": [
        "The extracted file `aclImdb` is composed of 5 folders:\n",
        "\n",
        "*   `train`\n",
        "    * `pos`: contains movie reviews with a positive sentiment (rating > 7/10)\n",
        "    * `neg`: with a negative sentiment (rating < 4/10)\n",
        "    * `unsup`: for unsupervised learning\n",
        "*   `test`: contains movie reviews meant for testing\n",
        "    * `pos`\n",
        "    * `neg`\n",
        "*   `README`: provides information about the dataset and how to use it\n",
        "*   `imdb.vocab` and `imdbEr.txt` contain additional information about errors, URL website and specific annotations\n"
      ]
    },
    {
      "cell_type": "code",
      "execution_count": 10,
      "metadata": {
        "colab": {
          "base_uri": "https://localhost:8080/"
        },
        "id": "yaYwjEYQAYJj",
        "outputId": "0b95d5c3-8181-49d8-fd3d-0400d8e171c4"
      },
      "outputs": [
        {
          "output_type": "execute_result",
          "data": {
            "text/plain": [
              "['imdb.vocab', 'test', 'README', 'imdbEr.txt', 'train']"
            ]
          },
          "metadata": {},
          "execution_count": 10
        }
      ],
      "source": [
        "listdir(dataset_dir) # check the file names in the aclImdb directory"
      ]
    },
    {
      "cell_type": "code",
      "execution_count": 11,
      "metadata": {
        "id": "wJLocve1DXls"
      },
      "outputs": [],
      "source": [
        "train_dir = path.join(dataset_dir, 'train') # path name of the \"train\" file in dataset_dir\n",
        "remove_dir = path.join(train_dir, 'unsup') # remove the folder with unlabeled reviews for unsupervised learning\n",
        "rmtree(remove_dir)"
      ]
    },
    {
      "cell_type": "markdown",
      "metadata": {
        "id": "i0TM938pDspy"
      },
      "source": [
        "###### **2.2. Training and validation datasets**\n",
        "\n",
        "Movie reviews are divided into 3 splits: `train`, `test` and `validation`. Only the validation set is not available into `aclImdb` and so it is created by using 20% of the training dataset.\n",
        "\n",
        "These datasets are randomly shuffled ad then batches with the API utils. Datasets are stored in the data structures `tf.data.Dataset`. The advantage is that batches are not loaded into the immediate memory but only when they are called up."
      ]
    },
    {
      "cell_type": "code",
      "execution_count": 12,
      "metadata": {
        "colab": {
          "base_uri": "https://localhost:8080/"
        },
        "id": "5I8TejG3xtfj",
        "outputId": "087c0b17-ae77-49b3-acb1-83e0aced42fd"
      },
      "outputs": [
        {
          "output_type": "stream",
          "name": "stdout",
          "text": [
            "Found 25000 files belonging to 2 classes.\n",
            "Using 20000 files for training.\n",
            "Found 25000 files belonging to 2 classes.\n",
            "Using 5000 files for validation.\n",
            "Found 25000 files belonging to 2 classes.\n"
          ]
        }
      ],
      "source": [
        "batch_size = 32\n",
        "raw_train_ds = keras.utils.text_dataset_from_directory('aclImdb/train', batch_size=batch_size, validation_split=0.2, subset='training', shuffle=True, seed=42) # 625 batches of 32 texts for training set randomly chosen\n",
        "raw_val_ds = keras.utils.text_dataset_from_directory('aclImdb/train', batch_size=batch_size, validation_split=0.2, subset='validation', shuffle=True, seed=42) # 157 batches of 32 texts for validation set randomly chosen\n",
        "raw_test_ds = keras.utils.text_dataset_from_directory('aclImdb/test', batch_size=batch_size) # 782 batches of 32 texts for test set"
      ]
    },
    {
      "cell_type": "code",
      "execution_count": 13,
      "metadata": {
        "colab": {
          "base_uri": "https://localhost:8080/"
        },
        "id": "t2iM2eQ0wyVk",
        "outputId": "078c6eb6-307c-469b-aa00-93b7c0402571"
      },
      "outputs": [
        {
          "output_type": "stream",
          "name": "stdout",
          "text": [
            "Here's an extract from a negative review:\n",
            "b'\"Pandemonium\" is a horror movie spoof that comes off more stupid than funny. Believe me when I tell you, I love comedies. Especially comedy spoofs. \"Airplane\", \"The Naked Gun\" trilogy, \"Blazing Saddles\", \"High Anxiety\", and \"Spaceballs\" are some of my favorite comedies that spoof a particular genre. \"Pandemonium\" is not up there with those films. Most of the scenes in this movie had me sitting there in stunned silence because the movie wasn\\'t all that funny. There are a few laughs in the film, but when you watch a comedy, you expect to laugh a lot more than a few times and that\\'s all this film has going for it. Geez, \"Scream\" had more laughs than this film and that was more of a horror film. How bizarre is that?<br /><br />*1/2 (out of four)'\n"
          ]
        }
      ],
      "source": [
        "plot_text(raw_train_ds.take(1)) # show an example of movie review from the first training set batch"
      ]
    },
    {
      "cell_type": "markdown",
      "metadata": {
        "id": "CpSzgX8abQGE"
      },
      "source": [
        "---\n",
        "\n",
        "\n",
        "#### **3. Pre-processing & reformating data**"
      ]
    },
    {
      "cell_type": "markdown",
      "metadata": {
        "id": "pIzLCu7V6ubd"
      },
      "source": [
        "###### **3.1. Pre-processing layer**\n",
        "\n",
        "The textual data is pre-processed and converted before being used by the model. Three crucial phases are established:\n",
        "- standardization\n",
        "- tokenization\n",
        "- vectorization\n",
        "\n",
        "The standardization step replaces upper case with lower case letters and removes html tags/punctuation characters."
      ]
    },
    {
      "cell_type": "code",
      "execution_count": 14,
      "metadata": {
        "colab": {
          "base_uri": "https://localhost:8080/"
        },
        "id": "spQOTob2ZULo",
        "outputId": "06086133-678a-49f6-8a7c-b795958418eb"
      },
      "outputs": [
        {
          "output_type": "stream",
          "name": "stdout",
          "text": [
            "The punctuation characters eliminated are: \n",
            "  \n",
            " !\"\\#\\$%\\&'\\(\\)\\*\\+,\\-\\./:;<=>\\?@\\[\\\\\\]\\^_`\\{\\|\\}\\~\n"
          ]
        }
      ],
      "source": [
        "punctuation = escape(punctuation)\n",
        "print(\"The punctuation characters eliminated are: \\n\", \" \\n\", punctuation)"
      ]
    },
    {
      "cell_type": "code",
      "execution_count": 15,
      "metadata": {
        "id": "sYZLNasxJA9R"
      },
      "outputs": [],
      "source": [
        "@keras.utils.register_keras_serializable()\n",
        "def custom_standardization(input_text):\n",
        "  no_uppercases = strings.lower(input_text) # upper cases --> lower cases\n",
        "  no_html_uppercases = strings.regex_replace(no_uppercases, '<br />', ' ') # remove HTML strings\n",
        "  no_punctuation_html_uppercases = strings.regex_replace(no_html_uppercases, '[%s]' % punctuation, '') # remove punctuation\n",
        "  return no_punctuation_html_uppercases"
      ]
    },
    {
      "cell_type": "markdown",
      "metadata": {
        "id": "IovmWK-uPcZA"
      },
      "source": [
        "The tokenization phase transformes words and strings into tokens. Finally, tokens are converted into integers at the vectorization phase. A dictionary of the 5,000 most frequently used words is created in order to match a token with the associated word [[1]](https://ai.stanford.edu/~amaas/papers/wvSent_acl2011.pdf). The other little-used words - like actor names or non-evocative words - are not kept"
      ]
    },
    {
      "cell_type": "code",
      "execution_count": 16,
      "metadata": {
        "id": "w5_uvCYKx8Co"
      },
      "outputs": [],
      "source": [
        "max_features = 5000 # size of the dictionary\n",
        "max_length = 500 # maximum number of words per review\n",
        "\n",
        "vectorize_layer = keras.layers.TextVectorization(standardize=custom_standardization,\n",
        "                                                 max_tokens=max_features,\n",
        "                                                 output_sequence_length=max_length,\n",
        "                                                 output_mode='int')\n",
        "\n",
        "vectorize_layer.adapt(raw_train_ds.map(lambda x, y: x)) # dictionary creation with raw training texts (no label)"
      ]
    },
    {
      "cell_type": "markdown",
      "metadata": {
        "id": "a4HNDvV0LJTE"
      },
      "source": [
        "###### **3.2. Transformation visualization**"
      ]
    },
    {
      "cell_type": "code",
      "execution_count": 17,
      "metadata": {
        "id": "GlardaNcYWqD"
      },
      "outputs": [],
      "source": [
        "# get the integer tensor of a text after pre-processing\n",
        "\n",
        "def token_to_int(raw_text):\n",
        "  raw_text = next(iter(raw_text))[0]\n",
        "  print(\"Review before tokenization and vectorization: \\n\", raw_text[0])\n",
        "  print(\" \")\n",
        "  text_vectorized = expand_dims(raw_text, -1) #\n",
        "  text_vectorized = vectorize_layer(text_vectorized)\n",
        "  print(\"Review after tokenization and vectorization: \\n\", text_vectorized[0])"
      ]
    },
    {
      "cell_type": "code",
      "execution_count": 18,
      "metadata": {
        "colab": {
          "base_uri": "https://localhost:8080/"
        },
        "id": "jD7kJ0m-1AiR",
        "outputId": "86114637-eab3-4734-a61e-f703950821ef"
      },
      "outputs": [
        {
          "output_type": "stream",
          "name": "stdout",
          "text": [
            "Review before tokenization and vectorization: \n",
            " tf.Tensor(b'Silent Night, Deadly Night 5 is the very last of the series, and like part 4, it\\'s unrelated to the first three except by title and the fact that it\\'s a Christmas-themed horror flick.<br /><br />Except to the oblivious, there\\'s some obvious things going on here...Mickey Rooney plays a toymaker named Joe Petto and his creepy son\\'s name is Pino. Ring a bell, anyone? Now, a little boy named Derek heard a knock at the door one evening, and opened it to find a present on the doorstep for him. Even though it said \"don\\'t open till Christmas\", he begins to open it anyway but is stopped by his dad, who scolds him and sends him to bed, and opens the gift himself. Inside is a little red ball that sprouts Santa arms and a head, and proceeds to kill dad. Oops, maybe he should have left well-enough alone. Of course Derek is then traumatized by the incident since he watched it from the stairs, but he doesn\\'t grow up to be some killer Santa, he just stops talking.<br /><br />There\\'s a mysterious stranger lurking around, who seems very interested in the toys that Joe Petto makes. We even see him buying a bunch when Derek\\'s mom takes him to the store to find a gift for him to bring him out of his trauma. And what exactly is this guy doing? Well, we\\'re not sure but he does seem to be taking these toys apart to see what makes them tick. He does keep his landlord from evicting him by promising him to pay him in cash the next day and presents him with a \"Larry the Larvae\" toy for his kid, but of course \"Larry\" is not a good toy and gets out of the box in the car and of course, well, things aren\\'t pretty.<br /><br />Anyway, eventually what\\'s going on with Joe Petto and Pino is of course revealed, and as with the old story, Pino is not a \"real boy\". Pino is probably even more agitated and naughty because he suffers from \"Kenitalia\" (a smooth plastic crotch) so that could account for his evil ways. And the identity of the lurking stranger is revealed too, and there\\'s even kind of a happy ending of sorts. Whee.<br /><br />A step up from part 4, but not much of one. Again, Brian Yuzna is involved, and Screaming Mad George, so some decent special effects, but not enough to make this great. A few leftovers from part 4 are hanging around too, like Clint Howard and Neith Hunter, but that doesn\\'t really make any difference. Anyway, I now have seeing the whole series out of my system. Now if I could get some of it out of my brain. 4 out of 5.', shape=(), dtype=string)\n",
            " \n",
            "Review after tokenization and vectorization: \n",
            " tf.Tensor(\n",
            "[1287  313 2380  313  661    7    2   52  229    5    2  200    3   38\n",
            "  170  669   29    1    6    2   83  297  549   32  410    3    2  186\n",
            "   12   29    4    1  191  510  549    6    2    1  212   46  576  175\n",
            "  168   20    1    1  290    4    1  761  969    1    3   24  935 2271\n",
            "  393    7    1 1675    4 3747  250  148    4  112  436  761 3529  548\n",
            "    4 3633   31    2 1331   28 2096    3 2912    9    6  163    4 1006\n",
            "   20    2    1   15   85   53  147    9  292   89  959 2314  984   27\n",
            "  762    6  959    9  564   18    7 2140   32   24 1254   36    1   85\n",
            "    3 3298   85    6 1410    3 1936    2 3408  301  965    7    4  112\n",
            "  740 1977   12    1 2014 2772    3    4  428    3    1    6  512 1254\n",
            "    1  278   27  139   25  308    1  579    5  259 3529    7   92    1\n",
            "   32    2 3842  230   27  289    9   35    2    1   18   27  144 2166\n",
            "   56    6   26   46  466 2014   27   40 2745  657  212    4 1376 3002\n",
            "    1  183   36  180   52  920    8    2 4028   12  969    1  158   71\n",
            "   53   67   85 2754    4  734   51    1 1611  294   85    6    2 1164\n",
            "    6  163    4 3408   15   85    6  717   85   44    5   24    1    3\n",
            "   48  604    7   11  225  384   73   65   21  242   18   27  120  295\n",
            "    6   26  667  129 4028  948    6   67   48  158   93    1   27  120\n",
            "  372   24    1   35    1   85   32 2342   85    6 1008   85    8 2349\n",
            "    2  357  257    3 2391   85   16    4 2812    2    1 2904   15   24\n",
            "  554   18    5  259 2812    7   21    4   49 2904    3  201   44    5\n",
            "    2 1039    8    2  521    3    5  259   73  175  691  179  564  834\n",
            "  692  168   20   16  969    1    3    1    7    5  259 1960    3   14\n",
            "   16    2  161   63    1    7   21    4  145  436    1    7  235   53\n",
            "   50    1    3    1   84   27 2320   35    1    4 3621 3076    1   37\n",
            "   12   98 2620   15   24  437  760    3    2 2158    5    2    1 3002\n",
            "    7 1960   99    3  212   53  236    5    4  654  270    5 2656    1\n",
            "    4 1520   56   35  170  669   18   21   72    5   28  169 1597    1\n",
            "    7  565    3 1835 1084  722   37   46  529  306  300   18   21  187\n",
            "    6   96   11   86    4  166    1   35  170  669   23 2356  183   99\n",
            "   38 4172 2274    3    1 2291   18   12  144   62   96   97 1390  564\n",
            "   10  148   25  311    2  211  200   44    5   54 1432  148   45   10\n",
            "   98   75   46    5    9   44    5   54 1344  669   44    5  661    0\n",
            "    0    0    0    0    0    0    0    0    0    0    0    0    0    0\n",
            "    0    0    0    0    0    0    0    0    0    0    0    0    0    0\n",
            "    0    0    0    0    0    0    0    0    0    0], shape=(500,), dtype=int64)\n"
          ]
        }
      ],
      "source": [
        "token_to_int(raw_train_ds)"
      ]
    },
    {
      "cell_type": "code",
      "execution_count": 19,
      "metadata": {
        "id": "zvLRLjSODwsi"
      },
      "outputs": [],
      "source": [
        "# get the word for a specific dictionary integer\n",
        "\n",
        "def int_to_token(index):\n",
        "  token = vectorize_layer.get_vocabulary()[index]\n",
        "  print(\"The integer %d represents the token: %s\" %(index, token))"
      ]
    },
    {
      "cell_type": "code",
      "execution_count": 20,
      "metadata": {
        "colab": {
          "base_uri": "https://localhost:8080/"
        },
        "id": "Lmhp8McE1QS8",
        "outputId": "91ecbb9f-e9ba-4ae1-cf16-b0d8a5e039c7"
      },
      "outputs": [
        {
          "output_type": "stream",
          "name": "stdout",
          "text": [
            "The integer 7 represents the token: is\n"
          ]
        }
      ],
      "source": [
        "int_to_token(7)"
      ]
    },
    {
      "cell_type": "markdown",
      "metadata": {
        "id": "hDs5MOc7Usll"
      },
      "source": [
        "---\n",
        "\n",
        "\n",
        "#### **4. Model and training**\n"
      ]
    },
    {
      "cell_type": "markdown",
      "metadata": {
        "id": "eVadUbUyOSpz"
      },
      "source": [
        "###### **4.1. Dataset performances**\n",
        "\n",
        "*   `prefetch`: prefetch next batch while training. Avoid the risk of bottleneck (GPU Vs. I/O). The prefetch buffer size is automatically set via AUTOTUNE.\n",
        "*   `cache`: dataset fits in RAM."
      ]
    },
    {
      "cell_type": "code",
      "execution_count": 21,
      "metadata": {
        "id": "Y5W-pc4I8Wk3"
      },
      "outputs": [],
      "source": [
        "AUTOTUNE = data.AUTOTUNE # prefetch buffer size parameter\n",
        "\n",
        "raw_train_ds = raw_train_ds.cache().prefetch(buffer_size=AUTOTUNE)\n",
        "raw_val_ds = raw_val_ds.cache().prefetch(buffer_size=AUTOTUNE)\n",
        "raw_test_ds = raw_test_ds.cache().prefetch(buffer_size=AUTOTUNE)"
      ]
    },
    {
      "cell_type": "markdown",
      "metadata": {
        "id": "rQnGHKrYOfhQ"
      },
      "source": [
        "###### **4.2. Neural network architecture & compilation**\n",
        "\n",
        "* Pre-processing layer `vectorize_layer`:\n",
        "  * **Inputs:** strings of dimension `batch_size`\n",
        "  * **Outputs:** an integer 2D tensor (`batch_size`, `max_length`)\n",
        "  * **Comments:** if the number of string is less than `max_length`, the tensor is padded with zeros\n",
        "\n",
        "* Embedding layer `Embedding`:\n",
        "  * **Outputs:** a float 3D tensor (`batch_size`, `max_length`, `embedding_dim`)\n",
        "  * **Comments:** each token is expressed as a float vector of dimension `embedding_dim`. All these vectors form a dictionary which is modified/adapted during the learning phase. Components of an embedding vector are considered as weights\n",
        "\n",
        "* Pooling layer `GlobalAveragePooling1D`:\n",
        "  * **Outputs:** a float 2D tensor (`batch_size`, `embedding_dim`)\n",
        "  * **Comments:** average value of vector components\n",
        "\n",
        "* Fully-connected layer `Dense`:\n",
        "  * **Outputs:** a scalar  0 (=negative sentiment) and 1 (=positive sentiment).\n",
        "  * **Comments:** close to 0 = negative sentiment, close to 1 = positive sentiment, close to 0.5 = no clear opinion"
      ]
    },
    {
      "cell_type": "code",
      "execution_count": 22,
      "metadata": {
        "id": "ZVy751wzln8H"
      },
      "outputs": [],
      "source": [
        "def create_model():\n",
        "  embedding_dim = 16\n",
        "  model = keras.Sequential([vectorize_layer, # pre-processing layer\n",
        "                            keras.layers.Embedding(input_dim = max_features, output_dim = embedding_dim),\n",
        "                            keras.layers.Dropout(0.2),\n",
        "                            keras.layers.GlobalAveragePooling1D(),\n",
        "                            keras.layers.Dropout(0.2),\n",
        "                            keras.layers.Dense(1, activation='sigmoid')\n",
        "                            ], name=\"Sequential_1\")\n",
        "\n",
        "  model.compile(loss=keras.losses.BinaryCrossentropy(), optimizer='adam', metrics=[metrics.BinaryAccuracy()])\n",
        "\n",
        "  return model"
      ]
    },
    {
      "cell_type": "markdown",
      "metadata": {
        "id": "wnY6ZDN9OsPe"
      },
      "source": [
        "###### **4.3. Training phase**\n"
      ]
    },
    {
      "cell_type": "code",
      "execution_count": 23,
      "metadata": {
        "id": "IrXbd-H4-GSm"
      },
      "outputs": [],
      "source": [
        "def train_model(model, training_data, validation_data, **kwargs):\n",
        "  kwargs.setdefault(\"epochs\", 5)\n",
        "  kwargs.setdefault(\"verbose\", 1)\n",
        "  log = model.fit(training_data, validation_data=validation_data, validation_freq=1, callbacks=[stop_early, cp_callback], **kwargs)\n",
        "\n",
        "  return log.history[\"loss\"], log.history[\"binary_accuracy\"], log.history[\"val_loss\"], log.history[\"val_binary_accuracy\"]"
      ]
    },
    {
      "cell_type": "code",
      "execution_count": 24,
      "metadata": {
        "id": "mg-eBnDL-IQq"
      },
      "outputs": [],
      "source": [
        "epochs = 100\n",
        "\n",
        "if training_phase == \"Yes\":\n",
        "  model = create_model()\n",
        "  stop_early = keras.callbacks.EarlyStopping(monitor='val_binary_accuracy', patience=10, restore_best_weights=True, min_delta=0.001)\n",
        "\n",
        "  cp_callback = keras.callbacks.ModelCheckpoint(filepath='02_classification_text_500.keras',\n",
        "                                          monitor = \"val_binary_accuracy\",\n",
        "                                          save_best_only = True,\n",
        "                                          mode = \"max\",\n",
        "                                          save_weights_only=False,\n",
        "                                          verbose=0)\n",
        "\n",
        "  classifier_accuracy = train_model(model, raw_train_ds, raw_val_ds, epochs=epochs)\n",
        "  print(\"Accuracy max %0.1f %% reached at the epoch %d\" %(100*max(classifier_accuracy[3]), argmax(classifier_accuracy[3])+1))"
      ]
    },
    {
      "cell_type": "code",
      "execution_count": 25,
      "metadata": {
        "colab": {
          "base_uri": "https://localhost:8080/",
          "height": 550
        },
        "id": "awd3_-nj6DQZ",
        "outputId": "86e32cec-68d8-432f-ea46-65575c8d8695"
      },
      "outputs": [
        {
          "output_type": "stream",
          "name": "stdout",
          "text": [
            "Cloning into 'TensorFlow_duplicata'...\n",
            "remote: Enumerating objects: 478, done.\u001b[K\n",
            "remote: Counting objects: 100% (284/284), done.\u001b[K\n",
            "remote: Compressing objects: 100% (196/196), done.\u001b[K\n",
            "remote: Total 478 (delta 197), reused 88 (delta 88), pack-reused 194 (from 2)\u001b[K\n",
            "Receiving objects: 100% (478/478), 96.91 MiB | 18.83 MiB/s, done.\n",
            "Resolving deltas: 100% (237/237), done.\n"
          ]
        },
        {
          "output_type": "display_data",
          "data": {
            "text/plain": [
              "<Figure size 640x480 with 1 Axes>"
            ],
            "image/png": "[encoded data removed]"
          },
          "metadata": {}
        }
      ],
      "source": [
        "if training_phase == 'Yes':\n",
        "  plot_evolution(classifier_accuracy)\n",
        "else:\n",
        "  training_curves, model = get_github_files() # get the pre-trained model and training curves\n",
        "  plt.imshow(training_curves), plt.title(\"Pre-trained model evolution\"), plt.axis(\"off\")"
      ]
    },
    {
      "cell_type": "markdown",
      "metadata": {
        "id": "6VZ-HWnoU19c"
      },
      "source": [
        "---\n",
        "\n",
        "\n",
        "#### **5. Evaluation and limitations**\n"
      ]
    },
    {
      "cell_type": "markdown",
      "source": [
        "###### **5.1. Evaluation**\n"
      ],
      "metadata": {
        "id": "X0qMG1svj9GM"
      }
    },
    {
      "cell_type": "code",
      "execution_count": 26,
      "metadata": {
        "colab": {
          "base_uri": "https://localhost:8080/"
        },
        "id": "SgYqxc_pyhX-",
        "outputId": "da408919-f48a-4011-8122-7a72e8a27908"
      },
      "outputs": [
        {
          "output_type": "stream",
          "name": "stdout",
          "text": [
            "Test loss function value 0.3 and test accuracy value 88.5 %\n"
          ]
        }
      ],
      "source": [
        "loss_test, accuracy_test = model.evaluate(raw_test_ds, verbose=0)\n",
        "print(\"Test loss function value %0.1f and test accuracy value %0.1f %%\" %(loss_test, 100*accuracy_test))"
      ]
    },
    {
      "cell_type": "markdown",
      "metadata": {
        "id": "jPO0X7THurRd"
      },
      "source": [
        "The model can be used to recognize the sentiment of new/fictitious movie review."
      ]
    },
    {
      "cell_type": "markdown",
      "source": [
        "###### **5.2. Predictions**"
      ],
      "metadata": {
        "id": "2TAitkbTkGHb"
      }
    },
    {
      "cell_type": "code",
      "execution_count": 27,
      "metadata": {
        "id": "EqhYu-ySJa5a"
      },
      "outputs": [],
      "source": [
        "my_review = [\"This movie was terrible and boring. Most of scenes were violents and useless.\"] # please write your own review in English"
      ]
    },
    {
      "cell_type": "code",
      "execution_count": 28,
      "metadata": {
        "colab": {
          "base_uri": "https://localhost:8080/"
        },
        "id": "h1pa8S_v6VEJ",
        "outputId": "d5c2ef38-4317-429c-b368-20327ce4af80"
      },
      "outputs": [
        {
          "output_type": "stream",
          "name": "stdout",
          "text": [
            "\u001b[1m1/1\u001b[0m \u001b[32m━━━━━━━━━━━━━━━━━━━━\u001b[0m\u001b[37m\u001b[0m \u001b[1m0s\u001b[0m 203ms/step\n",
            "The movie looks pretty bad. (score model:  0.1 )\n"
          ]
        }
      ],
      "source": [
        "examples = constant(my_review)\n",
        "\n",
        "prediction = model.predict(examples)\n",
        "if prediction < 0.5:\n",
        "  print(\"The movie looks pretty bad. (score model: \", round(prediction[0][0], 1), \")\")\n",
        "else:\n",
        "  print(\"Great movie, go see it in the cinema! (score model: \", round(prediction[0][0], 1), \")\")"
      ]
    },
    {
      "cell_type": "markdown",
      "source": [
        "###### **5.3. Error analysis**\n",
        "\n",
        "Next, the model's prediction errors are analyzed to determine the model's limits."
      ],
      "metadata": {
        "id": "3sZe4_AlkLjH"
      }
    },
    {
      "cell_type": "code",
      "source": [
        "predictions = model.predict(raw_test_ds)"
      ],
      "metadata": {
        "colab": {
          "base_uri": "https://localhost:8080/"
        },
        "id": "4_FW-JbKkSyn",
        "outputId": "d3f1841a-93e5-477a-e71d-ff8987963e4e"
      },
      "execution_count": 29,
      "outputs": [
        {
          "output_type": "stream",
          "name": "stdout",
          "text": [
            "\u001b[1m782/782\u001b[0m \u001b[32m━━━━━━━━━━━━━━━━━━━━\u001b[0m\u001b[37m\u001b[0m \u001b[1m3s\u001b[0m 4ms/step\n"
          ]
        }
      ]
    },
    {
      "cell_type": "markdown",
      "source": [
        "Predictions were made on a set of reviews from the test set. The majority of these texts are between 100 and 400 words long, as shown by the following distribution of the number of reviews Vs. number of words."
      ],
      "metadata": {
        "id": "MWHaJ1x4kVRY"
      }
    },
    {
      "cell_type": "code",
      "source": [
        "labels = []\n",
        "texts = []\n",
        "nb_word = []\n",
        "\n",
        "for text, label in raw_test_ds.take(int(data.experimental.cardinality(raw_test_ds))):\n",
        "    for i in range(len(text)):\n",
        "        labels.append(label.numpy()[i])\n",
        "        texts.append(text.numpy()[i])\n",
        "        nb_word.append(len(text.numpy()[i].split())) # count the number of words"
      ],
      "metadata": {
        "id": "3Wa88fACkWX6"
      },
      "execution_count": 30,
      "outputs": []
    },
    {
      "cell_type": "code",
      "source": [
        "plot_distribution_word(nb_word)"
      ],
      "metadata": {
        "colab": {
          "base_uri": "https://localhost:8080/",
          "height": 487
        },
        "id": "JFhXXnMekYtS",
        "outputId": "6aeed2f8-fabe-49c5-bf9e-b527a72c0058"
      },
      "execution_count": 31,
      "outputs": [
        {
          "output_type": "display_data",
          "data": {
            "text/plain": [
              "<Figure size 700x500 with 1 Axes>"
            ],
            "image/png": "[encoded data removed]"
          },
          "metadata": {}
        }
      ]
    },
    {
      "cell_type": "markdown",
      "source": [
        "The distribution of the 25,000 predictions shows that the model tends to answer in a binary way and with little hesitation. Around 75% of test texts have a predicted score below 0.3 (bad/terrible movie) or above 0.7 (correct/great movie)."
      ],
      "metadata": {
        "id": "WJpdPu-vke_o"
      }
    },
    {
      "cell_type": "code",
      "source": [
        "plot_histo(predictions, max_length)"
      ],
      "metadata": {
        "colab": {
          "base_uri": "https://localhost:8080/",
          "height": 487
        },
        "id": "EOsLxJTGkfyF",
        "outputId": "2c828898-56e8-45a6-b80b-803d5d6d1031"
      },
      "execution_count": 32,
      "outputs": [
        {
          "output_type": "display_data",
          "data": {
            "text/plain": [
              "<Figure size 500x500 with 2 Axes>"
            ],
            "image/png": "[encoded data removed]"
          },
          "metadata": {}
        }
      ]
    },
    {
      "cell_type": "markdown",
      "source": [
        "Two additional training runs were completed for different maximum word counts per review: `max_length = 250` and `max_length = 2000`. It seems that the more words the reviews have, the less binary and extreme the model's predictions will be. However, a lack of improvement in the accuracy of model predictions on the test set is observed for `max_length = 2000` (88.5%) and `max_length = 500` (88.5% too). The test accuracy for `max_length = 100` is equal to  86.4%.\n",
        "\n",
        "![comparison_distribution.png](data:image/png;base64,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)"
      ],
      "metadata": {
        "id": "VhcteiXvklOh"
      }
    },
    {
      "cell_type": "markdown",
      "source": [
        "The error rate of model's predictions is analyzed according to the word count, to see whether the quantity of words has an impact on predictions."
      ],
      "metadata": {
        "id": "C4AhliwvlAP8"
      }
    },
    {
      "cell_type": "code",
      "source": [
        "errors = (round(predictions[:,0], 0) - array(labels) != 0) # truncate scores to obtain either 0 or 1\n",
        "y_prediction_error = predictions[errors] # get wrong labels\n",
        "y_test_error = array(labels)[errors] # get actual labels\n",
        "nb_word_error = array(nb_word)[errors]"
      ],
      "metadata": {
        "id": "G_RJYfHplCFO"
      },
      "execution_count": 33,
      "outputs": []
    },
    {
      "cell_type": "code",
      "source": [
        "unique_elements_test, counts_elements_test = unique(nb_word, return_counts=True)\n",
        "unique_elements_error, counts_elements_error = unique(nb_word_error, return_counts=True)"
      ],
      "metadata": {
        "id": "HnWgo2JzlCjT"
      },
      "execution_count": 34,
      "outputs": []
    },
    {
      "cell_type": "code",
      "source": [
        "mask = isin(unique_elements_test, unique_elements_error)\n",
        "ratio = counts_elements_error/counts_elements_test[mask]"
      ],
      "metadata": {
        "id": "nqogzdS4lD3q"
      },
      "execution_count": 35,
      "outputs": []
    },
    {
      "cell_type": "code",
      "source": [
        "plot_error_rate(unique_elements_error, ratio, max_length)"
      ],
      "metadata": {
        "colab": {
          "base_uri": "https://localhost:8080/",
          "height": 487
        },
        "id": "2lE9a1mrlF2P",
        "outputId": "62c614a0-4c9e-4db3-8683-0d39c2f74cbe"
      },
      "execution_count": 36,
      "outputs": [
        {
          "output_type": "display_data",
          "data": {
            "text/plain": [
              "<Figure size 700x500 with 1 Axes>"
            ],
            "image/png": "[encoded data removed]"
          },
          "metadata": {}
        }
      ]
    },
    {
      "cell_type": "markdown",
      "source": [
        "Mispredicted texts and labels are collected and expressed according to the number of words contained in the review. For `max_length = 500`, less than 20% of short and medium-length reviews are incorrectly predicted. Same conclusion for `max_length = 250` and `max_length = 2000`. Several reasons can be given:\n",
        "*   there are very few long reviews, so one bad prediction is more serious for a set of 1/2 long texts than for a dozen short ones.\n",
        "*   long reviews are generally written by film experts, using a richer vocabulary and therefore less present in the model dictionary.  \n",
        "*   parameter `max_length` has a significant impact on predictions. The higher the number of words retained, the less error the model will make for long texts. However, the accuracy of the test set remains unchanged.\n",
        "\n",
        "![comparison_error.png](data:image/png;base64,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)"
      ],
      "metadata": {
        "id": "WNwArjJrlJC2"
      }
    },
    {
      "cell_type": "markdown",
      "source": [
        "Finally, in analyzing the poorly predicted texts, it would seem that lack of context and attention would cause mispredictions. Example with `i=100`:\n",
        "*   Positive elements: \"Complete entertainment!\" + \"the general concept rocks.\"\n",
        "*   Negative elements: \"Although there are many strange things in the movie that the fairy tale itself doesn't have them including the autumn characters (mother and daughter)\""
      ],
      "metadata": {
        "id": "6oDMHH6alQjD"
      }
    },
    {
      "cell_type": "code",
      "source": [
        "i = 100\n",
        "x_test_error = array(texts)[errors] # get actual labels\n",
        "true_label, predicted_label = y_test_error[i], y_prediction_error[i,0]\n",
        "print(\"True label: %0.0f\" %true_label)\n",
        "print(\"Predicted label: %0.0f\" %predicted_label)\n",
        "x_test_error[i]"
      ],
      "metadata": {
        "colab": {
          "base_uri": "https://localhost:8080/"
        },
        "id": "gn__P8T9lHoV",
        "outputId": "9da42d71-5d81-46a2-b2a5-4d3b258c1eb2"
      },
      "execution_count": 37,
      "outputs": [
        {
          "output_type": "stream",
          "name": "stdout",
          "text": [
            "True label: 0\n",
            "Predicted label: 1\n"
          ]
        },
        {
          "output_type": "execute_result",
          "data": {
            "text/plain": [
              "b\"This is one of those road movies that would like to tell you a lotta things about women,the universe,the better life,the terrible solitude of the brilliant architect from Manhattan who severs all links with everyone,including his three years old child -which may seem irresponsible to some-Actually the hero wins hands down when it comes to selfishness and the scene with his old school pal ,which begins as some kind of good old days conversation and ends on a threatening note is the oasis in a desert movie.<br /><br />The scene with-the-father-who-left-home-when -I-was-a child has been told and told and TOLD.Of course it did not prevent the offspring from making his way of life.And when you see the hero's wife's attitude ,you may think she must never have heard about woman's lib.<br /><br />The best is the soundtrack which includes superb songs by Willie Nelson,Tom Waits or Bonnie Raitt...But you can enjoy them without this tedious pretentious work.\""
            ]
          },
          "metadata": {},
          "execution_count": 37
        }
      ]
    },
    {
      "cell_type": "markdown",
      "metadata": {
        "id": "NJNDKq4k097N"
      },
      "source": [
        "**With over 88% accuracy, the text classification model is quiet reliable. It's able to capture the author's feeling with an review. However, the model has limitations for long texts requiring context.**"
      ]
    },
    {
      "cell_type": "markdown",
      "metadata": {
        "id": "HmAA9z068MHx"
      },
      "source": [
        "---\n",
        "\n",
        "\n",
        "#### **6. Go further: the embedding dictionary**"
      ]
    },
    {
      "cell_type": "code",
      "execution_count": 38,
      "metadata": {
        "colab": {
          "base_uri": "https://localhost:8080/"
        },
        "id": "Aj9S7Sg_PjHS",
        "outputId": "0601f070-f926-473a-f987-4c3d70d2d548"
      },
      "outputs": [
        {
          "output_type": "stream",
          "name": "stdout",
          "text": [
            "The dictionary size is equal to: (5000, 16)\n"
          ]
        }
      ],
      "source": [
        "embeddings_vector = model.layers[1].get_weights()[0] # get the 5,000 vectors of the embedding layer\n",
        "print(\"The dictionary size is equal to:\",(shape(embeddings_vector)))\n",
        "dictionary_embedding = {vectorize_layer.get_vocabulary()[i]:embeddings_vector[i] for i in range(max_features)} # built the embedding dictionary"
      ]
    },
    {
      "cell_type": "markdown",
      "metadata": {
        "id": "p-o_Bnkn9khQ"
      },
      "source": [
        "The embedding dictionary can be visualized as a 16-dimensional space where each of the 5,000 words is an element of this space. For example, the word \"good\" corresponds to:"
      ]
    },
    {
      "cell_type": "code",
      "execution_count": 39,
      "metadata": {
        "id": "ozcHQsAQRKkL",
        "colab": {
          "base_uri": "https://localhost:8080/"
        },
        "outputId": "17dcc948-7543-472d-c8ec-6490f6cc7627"
      },
      "outputs": [
        {
          "output_type": "execute_result",
          "data": {
            "text/plain": [
              "array([-0.7068291 , -0.8950667 ,  0.7667451 ,  0.6835332 , -0.85558134,\n",
              "        0.8109165 , -0.94413424,  0.784986  ,  0.86634517,  0.66729796,\n",
              "       -0.71538705,  0.81901556,  0.92852104, -0.7565169 , -0.7710601 ,\n",
              "        0.76415795], dtype=float32)"
            ]
          },
          "metadata": {},
          "execution_count": 39
        }
      ],
      "source": [
        "dictionary_embedding[\"good\"]"
      ]
    },
    {
      "cell_type": "markdown",
      "metadata": {
        "id": "MJCtCZ2hHFre"
      },
      "source": [
        "A notion of distance can be introduced in the embedding space\n",
        "[[4]](https://www.cs.toronto.edu/~lczhang/360/lec/w05/w2v.html) and therefore, two words are \"close\" to each other in the embedding space if the distance between them is low."
      ]
    },
    {
      "cell_type": "code",
      "execution_count": 40,
      "metadata": {
        "id": "CfJN4l0_RX_p"
      },
      "outputs": [],
      "source": [
        "# get the distance between two elements in the embedding space\n",
        "\n",
        "def get_distance(token1, token2):\n",
        "  p1 = dictionary_embedding[token1]\n",
        "  p2 = dictionary_embedding[token2]\n",
        "  distance = linalg.norm(p2-p1)\n",
        "  return distance"
      ]
    },
    {
      "cell_type": "code",
      "execution_count": 41,
      "metadata": {
        "id": "0EiVWW81SevD",
        "colab": {
          "base_uri": "https://localhost:8080/"
        },
        "outputId": "320d98f5-fe24-4ed3-f4ed-b6b784ba8001"
      },
      "outputs": [
        {
          "output_type": "execute_result",
          "data": {
            "text/plain": [
              "18.659864"
            ]
          },
          "metadata": {},
          "execution_count": 41
        }
      ],
      "source": [
        "get_distance(\"good\", \"terrible\")"
      ]
    },
    {
      "cell_type": "code",
      "execution_count": 42,
      "metadata": {
        "id": "Bx7M8IpKDOX_",
        "colab": {
          "base_uri": "https://localhost:8080/"
        },
        "outputId": "7dbe6281-aacd-4c71-e496-51f35aa0ee91"
      },
      "outputs": [
        {
          "output_type": "execute_result",
          "data": {
            "text/plain": [
              "1.940095"
            ]
          },
          "metadata": {},
          "execution_count": 42
        }
      ],
      "source": [
        "get_distance(\"disappointing\", \"terrible\")"
      ]
    },
    {
      "cell_type": "markdown",
      "metadata": {
        "id": "ElvtMIBhIn3x"
      },
      "source": [
        "With the notion of distance, it's possible to explore the entire embedding dictionary to find the words closest to a specific word."
      ]
    },
    {
      "cell_type": "code",
      "execution_count": 43,
      "metadata": {
        "id": "QRy61vwuCFRg"
      },
      "outputs": [],
      "source": [
        "# get elements closest to a specific element in the embedding space\n",
        "\n",
        "def get_synomym(token, n):\n",
        "  p1 = dictionary_embedding[token]\n",
        "  candidate_list = {} # stores n synonyms\n",
        "  for i in range(1, 1000):\n",
        "    token_candidate = vectorize_layer.get_vocabulary()[i]\n",
        "    candidate_list[token_candidate] = get_distance(token, token_candidate)\n",
        "\n",
        "  sorted_items = sorted(candidate_list.items(), key=lambda item: item[1])\n",
        "\n",
        "  synonym_list = sorted_items[1:n+1]\n",
        "  words = [(item[0], item[1]) for item in synonym_list]\n",
        "  return print(words)"
      ]
    },
    {
      "cell_type": "code",
      "execution_count": 44,
      "metadata": {
        "id": "5b-b8irFSxTb",
        "colab": {
          "base_uri": "https://localhost:8080/"
        },
        "outputId": "827a8cb4-204d-4662-b9fa-dcd9be1910e6"
      },
      "outputs": [
        {
          "output_type": "stream",
          "name": "stdout",
          "text": [
            "[('avoid', 0.44538143), ('poor', 0.46396747), ('mess', 0.47647947), ('dull', 0.53160685), ('worse', 0.5948652), ('annoying', 0.9648157), ('horrible', 1.1609063), ('lame', 1.5456003), ('bad', 1.767801), ('fails', 1.7728525)]\n"
          ]
        }
      ],
      "source": [
        "word = \"terrible\"\n",
        "nb = 10\n",
        "get_synomym(word, nb)"
      ]
    },
    {
      "cell_type": "markdown",
      "metadata": {
        "id": "BgRfPQq81bDQ"
      },
      "source": [
        "Finally, analogies between words can be tested."
      ]
    },
    {
      "cell_type": "code",
      "execution_count": 45,
      "metadata": {
        "id": "ptgbnsxlJuQn"
      },
      "outputs": [],
      "source": [
        "def get_analogy(vector, n):\n",
        "  candidate_list = {} # stores n synonyms\n",
        "  for i in range(1, 5000):\n",
        "    token_candidate = vectorize_layer.get_vocabulary()[i]\n",
        "    vector_candidate = dictionary_embedding[token_candidate]\n",
        "    candidate_list[token_candidate] = sum(abs(vector - vector_candidate))\n",
        "\n",
        "  sorted_items = sorted(candidate_list.items(), key=lambda item: item[1])\n",
        "  synonym_list = sorted_items[0:n]\n",
        "  words = [item[0] for item in synonym_list]\n",
        "  print(words)"
      ]
    },
    {
      "cell_type": "code",
      "execution_count": 46,
      "metadata": {
        "id": "e3ogr-pMKcC0",
        "colab": {
          "base_uri": "https://localhost:8080/"
        },
        "outputId": "07801c71-750c-4d3b-f4d3-fd000c8acf8a"
      },
      "outputs": [
        {
          "output_type": "stream",
          "name": "stdout",
          "text": [
            "['awful', 'poorly', 'boring', '410', 'worse']\n"
          ]
        }
      ],
      "source": [
        "analogy = dictionary_embedding[\"funny\"] - dictionary_embedding[\"nice\"] + dictionary_embedding[\"terrible\"]\n",
        "get_analogy(analogy, 5)"
      ]
    },
    {
      "cell_type": "markdown",
      "metadata": {
        "id": "BjSI16rG2Aj9"
      },
      "source": [
        "**The richness of the dictionary is adequate for a simple positive/negative classification model, but remains limited when exploring the embeddings space. Some of the words proposed are not really synomyms, opposites or good analogies. To complete the dictionary, it's necessary to train the model with new collections of texts, different from the cinema theme, to introduce new words. Attention mechanism helps to achieve higher levels of precision**"
      ]
    },
    {
      "cell_type": "markdown",
      "metadata": {
        "id": "fCHPqUHx2PDr"
      },
      "source": [
        "---\n",
        "\n",
        "\n",
        "#### **7. References**\n",
        "\n",
        "\n",
        "| | | | | |\n",
        "|------|------|------|------|------|\n",
        "| Index | Title | Author(s) | Type | Comments |\n",
        "|[[1]](https://aclanthology.org/P11-1015.pdf) | IMDB dataset | Andrew L. Maas & al | dataset & paper | - |\n",
        "|[[2]](https://www.tensorflow.org/tutorials/keras/text_classification?hl=fr) | Classification de texte de base | TensorFlow | dataset | - |\n",
        "|[[3]](https://www.tensorflow.org/guide/data_performance?hl=fr) | De meilleures performances avec l'API tf.data | TensorFlow | Tutoriels | - |\n",
        "|[[4]](https://www.cs.toronto.edu/~lczhang/360/lec/w05/w2v.html) | Word2Vec and GloVe Vectors | Toronto university | website | - |"
      ]
    }
  ],
  "metadata": {
    "colab": {
      "provenance": [],
      "gpuType": "T4",
      "authorship_tag": "ABX9TyN/5wHZvrSN+rcZ3NwJ5L2T",
      "include_colab_link": true
    },
    "kernelspec": {
      "display_name": "Python 3",
      "name": "python3"
    },
    "language_info": {
      "name": "python"
    },
    "accelerator": "GPU"
  },
  "nbformat": 4,
  "nbformat_minor": 0
}