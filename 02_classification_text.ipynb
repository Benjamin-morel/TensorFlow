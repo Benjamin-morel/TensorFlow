{
  "cells": [
    {
      "cell_type": "markdown",
      "metadata": {
        "id": "view-in-github",
        "colab_type": "text"
      },
      "source": [
        "<a href=\"https://colab.research.google.com/github/Benjamin-morel/TensorFlow/blob/main/02_classification_text.ipynb\" target=\"_parent\"><img src=\"https://colab.research.google.com/assets/colab-badge.svg\" alt=\"Open In Colab\"/></a>"
      ]
    },
    {
      "cell_type": "markdown",
      "metadata": {
        "id": "V-HaWB3Owxi1"
      },
      "source": [
        "---\n",
        "\n",
        "\n",
        "# **Machine Learning Model: basic text classification**\n",
        "\n",
        "| | |\n",
        "|------|------|\n",
        "| Filename | 02_classification_test.ipynb |\n",
        "| Author(s) | Benjamin Morel (benjaminmorel27@gmail.com) |\n",
        "| Date | September 4, 2024 |\n",
        "| Aim(s) | Build, train and evaluate a neural network machine learning model that classifies movie reviews as positives or negatives. |\n",
        "| Dataset(s) | IMDb Movie Reviews dataset [[1]](https://aclanthology.org/P11-1015.pdf)|\n",
        "| Version | Python 3.10.12 - TensorFlow 2.17.1 |\n",
        "\n",
        "\n",
        "<br> **!!Read before running!!** <br>\n",
        "1. Fill in the inputs\n",
        "2. CPU execution is enough.\n",
        "3. Run all and read comments.\n",
        "\n",
        "---\n",
        "\n",
        "#### **Motivation**\n",
        "\n",
        "The IMDb Movie Reviews database - composed of over 50,000 movie reviews on internet - is used to built a binary classification model. In the last section, weights of the neural network are used to make correspondences and analogies between words.\n",
        "\n",
        "#### **Outline**\n",
        "* retrieve data & pre-processing\n",
        "* Sequential API and loss function\n",
        "* training and evaluation\n",
        "* prediction\n",
        "* exploration of the embedding space\n",
        "* references\n",
        "\n",
        "---\n",
        "\n"
      ]
    },
    {
      "cell_type": "markdown",
      "metadata": {
        "id": "GVXaEQPzZeq0"
      },
      "source": [
        "#### **0. Input section**"
      ]
    },
    {
      "cell_type": "markdown",
      "metadata": {
        "id": "OVCvwvCvZgIJ"
      },
      "source": [
        "The model has already been trained and the user can choose to used a pre-trained model (No) or to repeat the training phase (Yes). Using a pre-trained model saves time, computer resources and CO2 emissions."
      ]
    },
    {
      "cell_type": "code",
      "execution_count": 1,
      "metadata": {
        "id": "Tla0F9fnZniD"
      },
      "outputs": [],
      "source": [
        "training_phase = 'No'"
      ]
    },
    {
      "cell_type": "markdown",
      "metadata": {
        "id": "PNcpWfJ-9oED"
      },
      "source": [
        "---\n",
        "\n",
        "\n",
        "#### **1. Python librairies & display utilities [RUN ME]**"
      ]
    },
    {
      "cell_type": "code",
      "execution_count": 2,
      "metadata": {
        "id": "AYUJBo2iwkEH"
      },
      "outputs": [],
      "source": [
        "from os import path, listdir                                                    # miscellaneous operating system interfaces\n",
        "from re import escape                                                           # regular expressions\n",
        "from shutil import rmtree                                                       # operations on files\n",
        "from string import punctuation                                                  # string manipulation\n",
        "from numpy import shape, linalg, cos, sin, pi, argmax, max                      # scientific computing\n",
        "from tensorflow import constant, keras, strings, expand_dims, data, metrics     # machine learning models\n",
        "from PIL import Image                                                           # image processing capabilities\n",
        "import matplotlib.pyplot as plt                                                 # graphing package"
      ]
    },
    {
      "cell_type": "code",
      "execution_count": 3,
      "metadata": {
        "id": "QVr-4h7erMJw"
      },
      "outputs": [],
      "source": [
        "# get the pre-trained model and training curves from the Github repertory TensorFlow\n",
        "# called when training_phase = \"No\" in section 0\n",
        "\n",
        "def get_github_files():\n",
        "  !git clone https://github.com/Benjamin-morel/TensorFlow.git TensorFlow_duplicata # clone TensorFlow repertory\n",
        "  training_curves = Image.open(\"TensorFlow_duplicata/99_pre_trained_models/02_classification_text/results_graph.jpeg\") # see section 2.4\n",
        "  model = keras.models.load_model('TensorFlow_duplicata/99_pre_trained_models/02_classification_text/02_classification_text.keras', custom_objects={'custom_standardization': custom_standardization}) # pre-trained model\n",
        "  !rm -rf TensorFlow_duplicata/ # delete the cloned repertory\n",
        "  return training_curves, model"
      ]
    },
    {
      "cell_type": "code",
      "execution_count": 4,
      "metadata": {
        "id": "Goyhqt1J7lfh"
      },
      "outputs": [],
      "source": [
        "# show a random movie review with its label associated\n",
        "\n",
        "def plot_text(text_batch):\n",
        "  for text_batch, label_batch in text_batch:\n",
        "      if label_batch.numpy()[0] == 0:\n",
        "        print(\"Here's an extract from a negative review:\")\n",
        "        print(text_batch.numpy()[0])\n",
        "      else:\n",
        "        print(\"Here's an extract from a positive review:\")\n",
        "        print(text_batch.numpy()[0])"
      ]
    },
    {
      "cell_type": "code",
      "execution_count": 5,
      "metadata": {
        "id": "bSD64_Ta8DXb"
      },
      "outputs": [],
      "source": [
        "# plot training curves for the training and validation set\n",
        "\n",
        "def plot_evolution(history):\n",
        "  loss_train, loss_val = history[0], history[2]\n",
        "  acc_train, acc_val = history[1], history[3]\n",
        "  epochs = range(1, len(acc_train) + 1)\n",
        "\n",
        "  fig = plt.subplot(2,1,1)\n",
        "  plt.plot(epochs, loss_train, label='Training', color='blue')\n",
        "  plt.plot(epochs, loss_val, label='Validation', color='orange')\n",
        "  plt.legend(loc='best', fontsize=10)\n",
        "  plt.grid(True, linestyle='--', alpha=0.6), plt.ylabel('Loss', fontsize=12)\n",
        "\n",
        "  plt.subplot(2,1,2)\n",
        "  plt.plot(epochs, acc_train, color='blue')\n",
        "  plt.plot(epochs, acc_val, color='orange')\n",
        "  plt.xlabel('Epochs', fontsize=12), plt.ylabel('Accuracy', fontsize=12)\n",
        "  plt.grid(True, linestyle='--', alpha=0.6)"
      ]
    },
    {
      "cell_type": "markdown",
      "metadata": {
        "id": "asHoEhUdvK3v"
      },
      "source": [
        "---\n",
        "\n",
        "\n",
        "#### **2. Data retrieval and set generation**"
      ]
    },
    {
      "cell_type": "markdown",
      "metadata": {
        "id": "f2zcHbIgB3ql"
      },
      "source": [
        "###### **2.1. Stanford Sentiment Treebank Dataset**\n",
        "\n",
        "The IMDb Movie Reviews is a database created for sentiment analysis in movie reviews. It contains movie reviews labeled with sentiment (positive or negative).\n"
      ]
    },
    {
      "cell_type": "code",
      "execution_count": 6,
      "metadata": {
        "colab": {
          "base_uri": "https://localhost:8080/"
        },
        "id": "pZREb5FsxYCp",
        "outputId": "9768cc48-fe8f-4cf0-9e25-292483ce4cda"
      },
      "outputs": [
        {
          "output_type": "stream",
          "name": "stdout",
          "text": [
            "Downloading data from https://ai.stanford.edu/~amaas/data/sentiment/aclImdb_v1.tar.gz\n",
            "\u001b[1m84125825/84125825\u001b[0m \u001b[32m━━━━━━━━━━━━━━━━━━━━\u001b[0m\u001b[37m\u001b[0m \u001b[1m27s\u001b[0m 0us/step\n"
          ]
        }
      ],
      "source": [
        "url = \"https://ai.stanford.edu/~amaas/data/sentiment/aclImdb_v1.tar.gz\"\n",
        "\n",
        "dataset = keras.utils.get_file(\"aclImdb_v1\", url, extract=True, cache_dir='.', cache_subdir='')\n",
        "dataset_dir = path.join(path.dirname(dataset), 'aclImdb')"
      ]
    },
    {
      "cell_type": "markdown",
      "metadata": {
        "id": "9-rQAmrHV24_"
      },
      "source": [
        "The extracted file `aclImdb` is composed of 5 folders:\n",
        "\n",
        "*   `train`\n",
        "    * `pos`: contains movie reviews with a positive sentiment (rating > 7/10)\n",
        "    * `neg`: with a negative sentiment (rating < 4/10)\n",
        "    * `unsup`: for unsupervised learning\n",
        "*   `test`: contains movie reviews meant for testing\n",
        "    * `pos`\n",
        "    * `neg`\n",
        "*   `README`: provides information about the dataset and how to use it\n",
        "*   `imdb.vocab` and `imdbEr.txt` contain additional information about errors, URL website and specific annotations\n"
      ]
    },
    {
      "cell_type": "code",
      "execution_count": 7,
      "metadata": {
        "colab": {
          "base_uri": "https://localhost:8080/"
        },
        "id": "yaYwjEYQAYJj",
        "outputId": "14c4b492-1434-41f2-972e-c7b04d0faff7"
      },
      "outputs": [
        {
          "output_type": "execute_result",
          "data": {
            "text/plain": [
              "['imdbEr.txt', 'README', 'imdb.vocab', 'test', 'train']"
            ]
          },
          "metadata": {},
          "execution_count": 7
        }
      ],
      "source": [
        "listdir(dataset_dir) # check the file names in the aclImdb directory"
      ]
    },
    {
      "cell_type": "code",
      "execution_count": 8,
      "metadata": {
        "id": "wJLocve1DXls"
      },
      "outputs": [],
      "source": [
        "train_dir = path.join(dataset_dir, 'train') # path name of the \"train\" file in dataset_dir\n",
        "remove_dir = path.join(train_dir, 'unsup') # remove the folder with unlabeled reviews for unsupervised learning\n",
        "rmtree(remove_dir)"
      ]
    },
    {
      "cell_type": "markdown",
      "metadata": {
        "id": "i0TM938pDspy"
      },
      "source": [
        "###### **2.2. Training and validation datasets**\n",
        "\n",
        "Movie reviews are divided into 3 splits: `train`, `test` and `validation`. Only the validation set is not available into `aclImdb` and so it is created by using 20% of the training dataset.\n",
        "\n",
        "These datasets are randomly shuffled ad then batches with the API utils. Datasets are stored in the data structures `tf.data.Dataset`. The advantage is that batches are not loaded into the immediate memory but only when they are called up."
      ]
    },
    {
      "cell_type": "code",
      "execution_count": 9,
      "metadata": {
        "colab": {
          "base_uri": "https://localhost:8080/"
        },
        "id": "5I8TejG3xtfj",
        "outputId": "349884be-ef04-4dc7-85cf-40ed4390259a"
      },
      "outputs": [
        {
          "output_type": "stream",
          "name": "stdout",
          "text": [
            "Found 25000 files belonging to 2 classes.\n",
            "Using 20000 files for training.\n",
            "Found 25000 files belonging to 2 classes.\n",
            "Using 5000 files for validation.\n",
            "Found 25000 files belonging to 2 classes.\n"
          ]
        }
      ],
      "source": [
        "batch_size = 32\n",
        "raw_train_ds = keras.utils.text_dataset_from_directory('aclImdb/train', batch_size=batch_size, validation_split=0.2, subset='training', shuffle=True, seed=42) # 625 batches of 32 texts for training set randomly chosen\n",
        "raw_val_ds = keras.utils.text_dataset_from_directory('aclImdb/train', batch_size=batch_size, validation_split=0.2, subset='validation', shuffle=True, seed=42) # 157 batches of 32 texts for validation set randomly chosen\n",
        "raw_test_ds = keras.utils.text_dataset_from_directory('aclImdb/test', batch_size=batch_size) # 782 batches of 32 texts for test set"
      ]
    },
    {
      "cell_type": "code",
      "execution_count": 10,
      "metadata": {
        "colab": {
          "base_uri": "https://localhost:8080/"
        },
        "id": "t2iM2eQ0wyVk",
        "outputId": "9be47503-e4fb-444e-fd0a-d7d99aa63633"
      },
      "outputs": [
        {
          "output_type": "stream",
          "name": "stdout",
          "text": [
            "Here's an extract from a negative review:\n",
            "b'\"Pandemonium\" is a horror movie spoof that comes off more stupid than funny. Believe me when I tell you, I love comedies. Especially comedy spoofs. \"Airplane\", \"The Naked Gun\" trilogy, \"Blazing Saddles\", \"High Anxiety\", and \"Spaceballs\" are some of my favorite comedies that spoof a particular genre. \"Pandemonium\" is not up there with those films. Most of the scenes in this movie had me sitting there in stunned silence because the movie wasn\\'t all that funny. There are a few laughs in the film, but when you watch a comedy, you expect to laugh a lot more than a few times and that\\'s all this film has going for it. Geez, \"Scream\" had more laughs than this film and that was more of a horror film. How bizarre is that?<br /><br />*1/2 (out of four)'\n"
          ]
        }
      ],
      "source": [
        "plot_text(raw_train_ds.take(1)) # show an example of movie review from the first training set batch"
      ]
    },
    {
      "cell_type": "markdown",
      "metadata": {
        "id": "CpSzgX8abQGE"
      },
      "source": [
        "---\n",
        "\n",
        "\n",
        "#### **3. Pre-processing & reformating data**"
      ]
    },
    {
      "cell_type": "markdown",
      "metadata": {
        "id": "pIzLCu7V6ubd"
      },
      "source": [
        "###### **3.1. Pre-processing layer**\n",
        "\n",
        "The textual data is pre-processed and converted before being used by the model. Three crucial phases are established:\n",
        "- standardization\n",
        "- tokenization\n",
        "- vectorization\n",
        "\n",
        "The standardization step replaces upper case with lower case letters and removes html tags/punctuation characters."
      ]
    },
    {
      "cell_type": "code",
      "execution_count": 11,
      "metadata": {
        "colab": {
          "base_uri": "https://localhost:8080/"
        },
        "id": "spQOTob2ZULo",
        "outputId": "67d11f42-d0b7-4e8b-8bb7-af1621bed89e"
      },
      "outputs": [
        {
          "output_type": "stream",
          "name": "stdout",
          "text": [
            "The punctuation characters eliminated are: \n",
            "  \n",
            " !\"\\#\\$%\\&'\\(\\)\\*\\+,\\-\\./:;<=>\\?@\\[\\\\\\]\\^_`\\{\\|\\}\\~\n"
          ]
        }
      ],
      "source": [
        "punctuation = escape(punctuation)\n",
        "print(\"The punctuation characters eliminated are: \\n\", \" \\n\", punctuation)"
      ]
    },
    {
      "cell_type": "code",
      "execution_count": 12,
      "metadata": {
        "id": "sYZLNasxJA9R"
      },
      "outputs": [],
      "source": [
        "@keras.utils.register_keras_serializable()\n",
        "def custom_standardization(input_text):\n",
        "  no_uppercases = strings.lower(input_text) # upper cases --> lower cases\n",
        "  no_html_uppercases = strings.regex_replace(no_uppercases, '<br />', ' ') # remove HTML strings\n",
        "  no_punctuation_html_uppercases = strings.regex_replace(no_html_uppercases, '[%s]' % punctuation, '') # remove punctuation\n",
        "  return no_punctuation_html_uppercases"
      ]
    },
    {
      "cell_type": "markdown",
      "metadata": {
        "id": "IovmWK-uPcZA"
      },
      "source": [
        "The tokenization phase transformes words and strings into tokens. Finally, tokens are converted into integers at the vectorization phase. A dictionary of the 5,000 most frequently used words is created in order to match a token with the associated word [[1]](https://ai.stanford.edu/~amaas/papers/wvSent_acl2011.pdf). The other little-used words - like actor names or non-evocative words - are not kept"
      ]
    },
    {
      "cell_type": "code",
      "execution_count": 13,
      "metadata": {
        "id": "w5_uvCYKx8Co"
      },
      "outputs": [],
      "source": [
        "max_features = 5000 # size of the dictionary\n",
        "max_length = 500 # maximum number of words per review\n",
        "\n",
        "vectorize_layer = keras.layers.TextVectorization(standardize=custom_standardization,\n",
        "                                                 max_tokens=max_features,\n",
        "                                                 output_sequence_length=max_length,\n",
        "                                                 output_mode='int')\n",
        "\n",
        "vectorize_layer.adapt(raw_train_ds.map(lambda x, y: x)) # dictionary creation with raw training texts (no label)"
      ]
    },
    {
      "cell_type": "markdown",
      "metadata": {
        "id": "a4HNDvV0LJTE"
      },
      "source": [
        "###### **3.2. Transformation visualization**"
      ]
    },
    {
      "cell_type": "code",
      "execution_count": 14,
      "metadata": {
        "id": "GlardaNcYWqD"
      },
      "outputs": [],
      "source": [
        "# get the integer tensor of a text after pre-processing\n",
        "\n",
        "def token_to_int(raw_text):\n",
        "  raw_text = next(iter(raw_text))[0]\n",
        "  print(\"Review before tokenization and vectorization: \\n\", raw_text[0])\n",
        "  print(\" \")\n",
        "  text_vectorized = expand_dims(raw_text, -1) #\n",
        "  text_vectorized = vectorize_layer(text_vectorized)\n",
        "  print(\"Review after tokenization and vectorization: \\n\", text_vectorized[0])"
      ]
    },
    {
      "cell_type": "code",
      "execution_count": 15,
      "metadata": {
        "colab": {
          "base_uri": "https://localhost:8080/"
        },
        "id": "jD7kJ0m-1AiR",
        "outputId": "1f51e8a9-4f85-4343-e483-c7188a2bb344"
      },
      "outputs": [
        {
          "output_type": "stream",
          "name": "stdout",
          "text": [
            "Review before tokenization and vectorization: \n",
            " tf.Tensor(b'Silent Night, Deadly Night 5 is the very last of the series, and like part 4, it\\'s unrelated to the first three except by title and the fact that it\\'s a Christmas-themed horror flick.<br /><br />Except to the oblivious, there\\'s some obvious things going on here...Mickey Rooney plays a toymaker named Joe Petto and his creepy son\\'s name is Pino. Ring a bell, anyone? Now, a little boy named Derek heard a knock at the door one evening, and opened it to find a present on the doorstep for him. Even though it said \"don\\'t open till Christmas\", he begins to open it anyway but is stopped by his dad, who scolds him and sends him to bed, and opens the gift himself. Inside is a little red ball that sprouts Santa arms and a head, and proceeds to kill dad. Oops, maybe he should have left well-enough alone. Of course Derek is then traumatized by the incident since he watched it from the stairs, but he doesn\\'t grow up to be some killer Santa, he just stops talking.<br /><br />There\\'s a mysterious stranger lurking around, who seems very interested in the toys that Joe Petto makes. We even see him buying a bunch when Derek\\'s mom takes him to the store to find a gift for him to bring him out of his trauma. And what exactly is this guy doing? Well, we\\'re not sure but he does seem to be taking these toys apart to see what makes them tick. He does keep his landlord from evicting him by promising him to pay him in cash the next day and presents him with a \"Larry the Larvae\" toy for his kid, but of course \"Larry\" is not a good toy and gets out of the box in the car and of course, well, things aren\\'t pretty.<br /><br />Anyway, eventually what\\'s going on with Joe Petto and Pino is of course revealed, and as with the old story, Pino is not a \"real boy\". Pino is probably even more agitated and naughty because he suffers from \"Kenitalia\" (a smooth plastic crotch) so that could account for his evil ways. And the identity of the lurking stranger is revealed too, and there\\'s even kind of a happy ending of sorts. Whee.<br /><br />A step up from part 4, but not much of one. Again, Brian Yuzna is involved, and Screaming Mad George, so some decent special effects, but not enough to make this great. A few leftovers from part 4 are hanging around too, like Clint Howard and Neith Hunter, but that doesn\\'t really make any difference. Anyway, I now have seeing the whole series out of my system. Now if I could get some of it out of my brain. 4 out of 5.', shape=(), dtype=string)\n",
            " \n",
            "Review after tokenization and vectorization: \n",
            " tf.Tensor(\n",
            "[1287  313 2380  313  661    7    2   52  229    5    2  200    3   38\n",
            "  170  669   29    1    6    2   83  297  549   32  410    3    2  186\n",
            "   12   29    4    1  191  510  549    6    2    1  212   46  576  175\n",
            "  168   20    1    1  290    4    1  761  969    1    3   24  935 2271\n",
            "  393    7    1 1675    4 3747  250  148    4  112  436  761 3529  548\n",
            "    4 3633   31    2 1331   28 2096    3 2912    9    6  163    4 1006\n",
            "   20    2    1   15   85   53  147    9  292   89  959 2314  984   27\n",
            "  762    6  959    9  564   18    7 2140   32   24 1254   36    1   85\n",
            "    3 3298   85    6 1410    3 1936    2 3408  301  965    7    4  112\n",
            "  740 1977   12    1 2014 2772    3    4  428    3    1    6  512 1254\n",
            "    1  278   27  139   25  308    1  579    5  259 3529    7   92    1\n",
            "   32    2 3842  230   27  289    9   35    2    1   18   27  144 2166\n",
            "   56    6   26   46  466 2014   27   40 2745  657  212    4 1376 3002\n",
            "    1  183   36  180   52  920    8    2 4028   12  969    1  158   71\n",
            "   53   67   85 2754    4  734   51    1 1611  294   85    6    2 1164\n",
            "    6  163    4 3408   15   85    6  717   85   44    5   24    1    3\n",
            "   48  604    7   11  225  384   73   65   21  242   18   27  120  295\n",
            "    6   26  667  129 4028  948    6   67   48  158   93    1   27  120\n",
            "  372   24    1   35    1   85   32 2342   85    6 1008   85    8 2349\n",
            "    2  357  257    3 2391   85   16    4 2812    2    1 2904   15   24\n",
            "  554   18    5  259 2812    7   21    4   49 2904    3  201   44    5\n",
            "    2 1039    8    2  521    3    5  259   73  175  691  179  564  834\n",
            "  692  168   20   16  969    1    3    1    7    5  259 1960    3   14\n",
            "   16    2  161   63    1    7   21    4  145  436    1    7  235   53\n",
            "   50    1    3    1   84   27 2320   35    1    4 3621 3076    1   37\n",
            "   12   98 2620   15   24  437  760    3    2 2158    5    2    1 3002\n",
            "    7 1960   99    3  212   53  236    5    4  654  270    5 2656    1\n",
            "    4 1520   56   35  170  669   18   21   72    5   28  169 1597    1\n",
            "    7  565    3 1835 1084  722   37   46  529  306  300   18   21  187\n",
            "    6   96   11   86    4  166    1   35  170  669   23 2356  183   99\n",
            "   38 4172 2274    3    1 2291   18   12  144   62   96   97 1390  564\n",
            "   10  148   25  311    2  211  200   44    5   54 1432  148   45   10\n",
            "   98   75   46    5    9   44    5   54 1344  669   44    5  661    0\n",
            "    0    0    0    0    0    0    0    0    0    0    0    0    0    0\n",
            "    0    0    0    0    0    0    0    0    0    0    0    0    0    0\n",
            "    0    0    0    0    0    0    0    0    0    0], shape=(500,), dtype=int64)\n"
          ]
        }
      ],
      "source": [
        "token_to_int(raw_train_ds)"
      ]
    },
    {
      "cell_type": "code",
      "execution_count": 16,
      "metadata": {
        "id": "zvLRLjSODwsi"
      },
      "outputs": [],
      "source": [
        "# get the word for a specific dictionary integer\n",
        "\n",
        "def int_to_token(index):\n",
        "  token = vectorize_layer.get_vocabulary()[index]\n",
        "  print(\"The integer %d represents the token: %s\" %(index, token))"
      ]
    },
    {
      "cell_type": "code",
      "execution_count": 17,
      "metadata": {
        "colab": {
          "base_uri": "https://localhost:8080/"
        },
        "id": "Lmhp8McE1QS8",
        "outputId": "7e4cb1c6-ce2e-420d-bfc7-ef2d8724bb29"
      },
      "outputs": [
        {
          "output_type": "stream",
          "name": "stdout",
          "text": [
            "The integer 7 represents the token: is\n"
          ]
        }
      ],
      "source": [
        "int_to_token(7)"
      ]
    },
    {
      "cell_type": "markdown",
      "metadata": {
        "id": "hDs5MOc7Usll"
      },
      "source": [
        "---\n",
        "\n",
        "\n",
        "#### **4. Model and training**\n"
      ]
    },
    {
      "cell_type": "markdown",
      "metadata": {
        "id": "eVadUbUyOSpz"
      },
      "source": [
        "###### **4.1. Dataset performances**\n",
        "\n",
        "*   `prefetch`: prefetch next batch while training. Avoid the risk of bottleneck (GPU Vs. I/O). The prefetch buffer size is automatically set via AUTOTUNE.\n",
        "*   `cache`: dataset fits in RAM."
      ]
    },
    {
      "cell_type": "code",
      "execution_count": 18,
      "metadata": {
        "id": "Y5W-pc4I8Wk3"
      },
      "outputs": [],
      "source": [
        "AUTOTUNE = data.AUTOTUNE # prefetch buffer size parameter\n",
        "\n",
        "raw_train_ds = raw_train_ds.cache().prefetch(buffer_size=AUTOTUNE)\n",
        "raw_val_ds = raw_val_ds.cache().prefetch(buffer_size=AUTOTUNE)\n",
        "raw_test_ds = raw_test_ds.cache().prefetch(buffer_size=AUTOTUNE)"
      ]
    },
    {
      "cell_type": "markdown",
      "metadata": {
        "id": "rQnGHKrYOfhQ"
      },
      "source": [
        "###### **4.2. Neural network architecture & compilation**\n",
        "\n",
        "* Pre-processing layer `vectorize_layer`:\n",
        "  * **Inputs:** strings of dimension `batch_size`\n",
        "  * **Outputs:** an integer 2D tensor (`batch_size`, `max_length`)\n",
        "  * **Comments:** if the number of string is less than `max_length`, the tensor is padded with zeros\n",
        "\n",
        "* Embedding layer `Embedding`:\n",
        "  * **Outputs:** a float 3D tensor (`batch_size`, `max_length`, `embedding_dim`)\n",
        "  * **Comments:** each token is expressed as a float vector of dimension `embedding_dim`. All these vectors forme a dictionary which is modified/adapted during the learning phase. Components of an embedding vector are considered as weights\n",
        "\n",
        "* Pooling layer `GlobalAveragePooling1D`:\n",
        "  * **Outputs:** a float 2D tensor (`batch_size`, `embedding_dim`)\n",
        "  * **Comments:** average value of vector components\n",
        "\n",
        "* Fully-connected layer `Dense`:\n",
        "  * **Outputs:** a scalar  0 (=negative sentiment) and 1 (=positive sentiment).\n",
        "  * **Comments:** close to 0 = negative sentiment, close to 1 = positive sentiment, close to 0.5 = no clear opinion"
      ]
    },
    {
      "cell_type": "code",
      "execution_count": 19,
      "metadata": {
        "id": "ZVy751wzln8H"
      },
      "outputs": [],
      "source": [
        "def create_model():\n",
        "  embedding_dim = 16\n",
        "  model = keras.Sequential([vectorize_layer, # pre-processing layer\n",
        "                            keras.layers.Embedding(input_dim = max_features, output_dim = embedding_dim),\n",
        "                            keras.layers.Dropout(0.2),\n",
        "                            keras.layers.GlobalAveragePooling1D(),\n",
        "                            keras.layers.Dropout(0.2),\n",
        "                            keras.layers.Dense(1, activation='sigmoid')\n",
        "                            ], name=\"Sequential_1\")\n",
        "\n",
        "  model.compile(loss=keras.losses.BinaryCrossentropy(), optimizer='adam', metrics=[metrics.BinaryAccuracy()])\n",
        "\n",
        "  return model"
      ]
    },
    {
      "cell_type": "markdown",
      "metadata": {
        "id": "wnY6ZDN9OsPe"
      },
      "source": [
        "###### **4.3. Training phase**\n"
      ]
    },
    {
      "cell_type": "code",
      "execution_count": 20,
      "metadata": {
        "id": "IrXbd-H4-GSm"
      },
      "outputs": [],
      "source": [
        "def train_model(model, training_data, validation_data, **kwargs):\n",
        "  kwargs.setdefault(\"epochs\", 5)\n",
        "  kwargs.setdefault(\"verbose\", 1)\n",
        "  log = model.fit(training_data, validation_data=validation_data, validation_freq=1, callbacks=[stop_early, cp_callback], **kwargs)\n",
        "\n",
        "  return log.history[\"loss\"], log.history[\"binary_accuracy\"], log.history[\"val_loss\"], log.history[\"val_binary_accuracy\"]"
      ]
    },
    {
      "cell_type": "code",
      "execution_count": 21,
      "metadata": {
        "id": "mg-eBnDL-IQq"
      },
      "outputs": [],
      "source": [
        "epochs = 100\n",
        "\n",
        "if training_phase == \"Yes\":\n",
        "  model = create_model()\n",
        "  stop_early = keras.callbacks.EarlyStopping(monitor='val_binary_accuracy', patience=10, restore_best_weights=True, min_delta=0.001)\n",
        "\n",
        "  cp_callback = keras.callbacks.ModelCheckpoint(filepath='02_classification_text.keras',\n",
        "                                          monitor = \"val_binary_accuracy\",\n",
        "                                          save_best_only = True,\n",
        "                                          mode = \"max\",\n",
        "                                          save_weights_only=False,\n",
        "                                          verbose=0)\n",
        "\n",
        "  classifier_accuracy = train_model(model, raw_train_ds, raw_val_ds, epochs=epochs)\n",
        "  print(\"Accuracy max %0.1f %% reached at the epoch %d\" %(100*max(classifier_accuracy[3]), argmax(classifier_accuracy[3])+1))"
      ]
    },
    {
      "cell_type": "code",
      "execution_count": 22,
      "metadata": {
        "colab": {
          "base_uri": "https://localhost:8080/",
          "height": 550
        },
        "id": "awd3_-nj6DQZ",
        "outputId": "ab331ab7-e78c-4091-e993-b8469dc5e636"
      },
      "outputs": [
        {
          "output_type": "stream",
          "name": "stdout",
          "text": [
            "Cloning into 'TensorFlow_duplicata'...\n",
            "remote: Enumerating objects: 456, done.\u001b[K\n",
            "remote: Counting objects: 100% (262/262), done.\u001b[K\n",
            "remote: Compressing objects: 100% (174/174), done.\u001b[K\n",
            "remote: Total 456 (delta 187), reused 88 (delta 88), pack-reused 194 (from 2)\u001b[K\n",
            "Receiving objects: 100% (456/456), 91.65 MiB | 13.89 MiB/s, done.\n",
            "Resolving deltas: 100% (227/227), done.\n"
          ]
        },
        {
          "output_type": "display_data",
          "data": {
            "text/plain": [
              "<Figure size 640x480 with 1 Axes>"
            ],
            "image/png": "[encoded data removed]"
          },
          "metadata": {}
        }
      ],
      "source": [
        "if training_phase == 'Yes':\n",
        "  plot_evolution(classifier_accuracy)\n",
        "else:\n",
        "  training_curves, model = get_github_files() # retrieve the pre-trained model and training curves\n",
        "  plt.imshow(training_curves), plt.title(\"Pre-trained model evolution\"), plt.axis(\"off\")"
      ]
    },
    {
      "cell_type": "markdown",
      "metadata": {
        "id": "6VZ-HWnoU19c"
      },
      "source": [
        "---\n",
        "\n",
        "\n",
        "#### **4. Evaluation and predictions**\n"
      ]
    },
    {
      "cell_type": "code",
      "execution_count": 23,
      "metadata": {
        "colab": {
          "base_uri": "https://localhost:8080/"
        },
        "id": "SgYqxc_pyhX-",
        "outputId": "4c4b3d61-e1d4-4593-c134-23da3f592d03"
      },
      "outputs": [
        {
          "output_type": "stream",
          "name": "stdout",
          "text": [
            "Test loss function value 0.3 and test accuracy value 88.5 %\n"
          ]
        }
      ],
      "source": [
        "loss_test, accuracy_test = model.evaluate(raw_test_ds, verbose=0)\n",
        "print(\"Test loss function value %0.1f and test accuracy value %0.1f %%\" %(loss_test, 100*accuracy_test))"
      ]
    },
    {
      "cell_type": "markdown",
      "metadata": {
        "id": "jPO0X7THurRd"
      },
      "source": [
        "The model can be used to recognize the sentiment of new/fictitious movie review."
      ]
    },
    {
      "cell_type": "code",
      "execution_count": 24,
      "metadata": {
        "id": "EqhYu-ySJa5a"
      },
      "outputs": [],
      "source": [
        "my_review = [\"This movie was terrible and boring. Most of scenes were violents and useless.\"] # please write your own review in English"
      ]
    },
    {
      "cell_type": "code",
      "execution_count": 25,
      "metadata": {
        "colab": {
          "base_uri": "https://localhost:8080/"
        },
        "id": "h1pa8S_v6VEJ",
        "outputId": "568f59e3-6ec6-4036-b121-4eda4cf743da"
      },
      "outputs": [
        {
          "output_type": "stream",
          "name": "stdout",
          "text": [
            "\u001b[1m1/1\u001b[0m \u001b[32m━━━━━━━━━━━━━━━━━━━━\u001b[0m\u001b[37m\u001b[0m \u001b[1m0s\u001b[0m 136ms/step\n",
            "The movie looks pretty bad. (score model:  0.1 )\n"
          ]
        }
      ],
      "source": [
        "examples = constant(my_review)\n",
        "\n",
        "prediction = model.predict(examples)\n",
        "if prediction < 0.5:\n",
        "  print(\"The movie looks pretty bad. (score model: \", round(prediction[0][0], 1), \")\")\n",
        "else:\n",
        "  print(\"Great movie, go see it in the cinema! (score model: \", round(prediction[0][0], 1), \")\")"
      ]
    },
    {
      "cell_type": "markdown",
      "metadata": {
        "id": "NJNDKq4k097N"
      },
      "source": [
        "**With over 88% accuracy, the text classification model is highly reliable.**"
      ]
    },
    {
      "cell_type": "markdown",
      "metadata": {
        "id": "HmAA9z068MHx"
      },
      "source": [
        "---\n",
        "\n",
        "\n",
        "#### **5. Go further: the embedding dictionary**"
      ]
    },
    {
      "cell_type": "code",
      "execution_count": 26,
      "metadata": {
        "colab": {
          "base_uri": "https://localhost:8080/"
        },
        "id": "Aj9S7Sg_PjHS",
        "outputId": "94446433-e85f-472b-fe34-fa8398f6e245"
      },
      "outputs": [
        {
          "output_type": "stream",
          "name": "stdout",
          "text": [
            "The dictionary size is equal to: (5000, 16)\n"
          ]
        }
      ],
      "source": [
        "embeddings_vector = model.layers[1].get_weights()[0] # get the 5,000 vectors of the embedding layer\n",
        "print(\"The dictionary size is equal to:\",(shape(embeddings_vector)))\n",
        "dictionary_embedding = {vectorize_layer.get_vocabulary()[i]:embeddings_vector[i] for i in range(max_features)} # built the embedding dictionary"
      ]
    },
    {
      "cell_type": "markdown",
      "metadata": {
        "id": "p-o_Bnkn9khQ"
      },
      "source": [
        "The embedding dictionary can be visualized as a 16-dimensional space where each of the 5,000 words is an element of this space. For example, the word \"good\" corresponds to:"
      ]
    },
    {
      "cell_type": "code",
      "execution_count": 27,
      "metadata": {
        "id": "ozcHQsAQRKkL",
        "colab": {
          "base_uri": "https://localhost:8080/"
        },
        "outputId": "4dc88c78-9df7-4510-afa5-13f711065ae1"
      },
      "outputs": [
        {
          "output_type": "execute_result",
          "data": {
            "text/plain": [
              "array([-0.7068291 , -0.8950667 ,  0.7667451 ,  0.6835332 , -0.85558134,\n",
              "        0.8109165 , -0.94413424,  0.784986  ,  0.86634517,  0.66729796,\n",
              "       -0.71538705,  0.81901556,  0.92852104, -0.7565169 , -0.7710601 ,\n",
              "        0.76415795], dtype=float32)"
            ]
          },
          "metadata": {},
          "execution_count": 27
        }
      ],
      "source": [
        "dictionary_embedding[\"good\"]"
      ]
    },
    {
      "cell_type": "markdown",
      "metadata": {
        "id": "MJCtCZ2hHFre"
      },
      "source": [
        "A notion of distance can be introduced in the embedding space\n",
        "[[4]](https://www.cs.toronto.edu/~lczhang/360/lec/w05/w2v.html) and therefore, two words are \"close\" to each other in the embedding space if the distance between them is low."
      ]
    },
    {
      "cell_type": "code",
      "execution_count": 28,
      "metadata": {
        "id": "CfJN4l0_RX_p"
      },
      "outputs": [],
      "source": [
        "# get the distance between two elements in the embedding space\n",
        "\n",
        "def get_distance(token1, token2):\n",
        "  p1 = dictionary_embedding[token1]\n",
        "  p2 = dictionary_embedding[token2]\n",
        "  distance = linalg.norm(p2-p1)\n",
        "  return distance"
      ]
    },
    {
      "cell_type": "code",
      "execution_count": 29,
      "metadata": {
        "id": "0EiVWW81SevD",
        "colab": {
          "base_uri": "https://localhost:8080/"
        },
        "outputId": "95612c64-9e8e-46bf-e31d-10354674a2fe"
      },
      "outputs": [
        {
          "output_type": "execute_result",
          "data": {
            "text/plain": [
              "18.659864"
            ]
          },
          "metadata": {},
          "execution_count": 29
        }
      ],
      "source": [
        "get_distance(\"good\", \"terrible\")"
      ]
    },
    {
      "cell_type": "code",
      "execution_count": 30,
      "metadata": {
        "id": "Bx7M8IpKDOX_",
        "colab": {
          "base_uri": "https://localhost:8080/"
        },
        "outputId": "0690ac37-efc0-4276-f097-9e4ad2dc031c"
      },
      "outputs": [
        {
          "output_type": "execute_result",
          "data": {
            "text/plain": [
              "1.940095"
            ]
          },
          "metadata": {},
          "execution_count": 30
        }
      ],
      "source": [
        "get_distance(\"disappointing\", \"terrible\")"
      ]
    },
    {
      "cell_type": "markdown",
      "metadata": {
        "id": "ElvtMIBhIn3x"
      },
      "source": [
        "With the notion of distance, it's possible to explore the entire embedding dictionary to find the words closest to a specific word."
      ]
    },
    {
      "cell_type": "code",
      "execution_count": 31,
      "metadata": {
        "id": "QRy61vwuCFRg"
      },
      "outputs": [],
      "source": [
        "# get elements closest to a specific element in the embedding space\n",
        "\n",
        "def get_synomym(token, n):\n",
        "  p1 = dictionary_embedding[token]\n",
        "  candidate_list = {} # stores n synonyms\n",
        "  for i in range(1, 1000):\n",
        "    token_candidate = vectorize_layer.get_vocabulary()[i]\n",
        "    candidate_list[token_candidate] = get_distance(token, token_candidate)\n",
        "\n",
        "  sorted_items = sorted(candidate_list.items(), key=lambda item: item[1])\n",
        "\n",
        "  synonym_list = sorted_items[1:n+1]\n",
        "  words = [(item[0], item[1]) for item in synonym_list]\n",
        "  return print(words)"
      ]
    },
    {
      "cell_type": "code",
      "execution_count": 32,
      "metadata": {
        "id": "5b-b8irFSxTb",
        "colab": {
          "base_uri": "https://localhost:8080/"
        },
        "outputId": "3ddf6ce4-5996-4c49-b2a9-55ded0300af7"
      },
      "outputs": [
        {
          "output_type": "stream",
          "name": "stdout",
          "text": [
            "[('avoid', 0.44538143), ('poor', 0.46396747), ('mess', 0.47647947), ('dull', 0.53160685), ('worse', 0.5948652), ('annoying', 0.9648157), ('horrible', 1.1609063), ('lame', 1.5456003), ('bad', 1.767801), ('fails', 1.7728525)]\n"
          ]
        }
      ],
      "source": [
        "word = \"terrible\"\n",
        "nb = 10\n",
        "get_synomym(word, nb)"
      ]
    },
    {
      "cell_type": "markdown",
      "metadata": {
        "id": "BgRfPQq81bDQ"
      },
      "source": [
        "Finally, analogies between words can be tested."
      ]
    },
    {
      "cell_type": "code",
      "execution_count": 33,
      "metadata": {
        "id": "ptgbnsxlJuQn"
      },
      "outputs": [],
      "source": [
        "def get_analogy(vector, n):\n",
        "  candidate_list = {} # stores n synonyms\n",
        "  for i in range(1, 5000):\n",
        "    token_candidate = vectorize_layer.get_vocabulary()[i]\n",
        "    vector_candidate = dictionary_embedding[token_candidate]\n",
        "    candidate_list[token_candidate] = sum(abs(vector - vector_candidate))\n",
        "\n",
        "  sorted_items = sorted(candidate_list.items(), key=lambda item: item[1])\n",
        "  synonym_list = sorted_items[0:n]\n",
        "  words = [item[0] for item in synonym_list]\n",
        "  print(words)"
      ]
    },
    {
      "cell_type": "code",
      "execution_count": 34,
      "metadata": {
        "id": "e3ogr-pMKcC0",
        "colab": {
          "base_uri": "https://localhost:8080/"
        },
        "outputId": "91b29a76-bfde-45cd-9b8c-4031a6a7ad17"
      },
      "outputs": [
        {
          "output_type": "stream",
          "name": "stdout",
          "text": [
            "['awful', 'poorly', 'boring', '410', 'worse']\n"
          ]
        }
      ],
      "source": [
        "analogy = dictionary_embedding[\"funny\"] - dictionary_embedding[\"nice\"] + dictionary_embedding[\"terrible\"]\n",
        "get_analogy(analogy, 5)"
      ]
    },
    {
      "cell_type": "markdown",
      "metadata": {
        "id": "BjSI16rG2Aj9"
      },
      "source": [
        "The richness of the dictionary is adequate for a simple positive/negative classification model, but remains limited when exploring the embeddings space. Some of the words proposed are not really synomyms, opposites or good analogies."
      ]
    },
    {
      "cell_type": "markdown",
      "metadata": {
        "id": "fCHPqUHx2PDr"
      },
      "source": [
        "---\n",
        "\n",
        "\n",
        "#### **6. References**\n",
        "\n",
        "\n",
        "| | | | | |\n",
        "|------|------|------|------|------|\n",
        "| Index | Title | Author(s) | Type | Comments |\n",
        "|[[1]](https://aclanthology.org/P11-1015.pdf) | IMDB dataset | Andrew L. Maas & al | dataset & paper | - |\n",
        "|[[2]](https://www.tensorflow.org/tutorials/keras/text_classification?hl=fr) | Classification de texte de base | TensorFlow | dataset | - |\n",
        "|[[3]](https://www.tensorflow.org/guide/data_performance?hl=fr) | De meilleures performances avec l'API tf.data | TensorFlow | Tutoriels | - |\n",
        "|[[4]](https://www.cs.toronto.edu/~lczhang/360/lec/w05/w2v.html) | Word2Vec and GloVe Vectors | Toronto university | website | - |"
      ]
    }
  ],
  "metadata": {
    "colab": {
      "provenance": [],
      "gpuType": "T4",
      "authorship_tag": "ABX9TyPGx8jYs8H0jtW3QzJndW4K",
      "include_colab_link": true
    },
    "kernelspec": {
      "display_name": "Python 3",
      "name": "python3"
    },
    "language_info": {
      "name": "python"
    },
    "accelerator": "GPU"
  },
  "nbformat": 4,
  "nbformat_minor": 0
}