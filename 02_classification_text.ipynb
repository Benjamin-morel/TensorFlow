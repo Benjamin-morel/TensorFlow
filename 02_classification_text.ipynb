{
  "cells": [
    {
      "cell_type": "markdown",
      "metadata": {
        "id": "view-in-github",
        "colab_type": "text"
      },
      "source": [
        "<a href=\"https://colab.research.google.com/github/Benjamin-morel/TensorFlow/blob/main/02_classification_text.ipynb\" target=\"_parent\"><img src=\"https://colab.research.google.com/assets/colab-badge.svg\" alt=\"Open In Colab\"/></a>"
      ]
    },
    {
      "cell_type": "markdown",
      "metadata": {
        "id": "V-HaWB3Owxi1"
      },
      "source": [
        "---\n",
        "\n",
        "\n",
        "# **Machine Learning Model: basic text classification**\n",
        "\n",
        "| | |\n",
        "|------|------|\n",
        "| Filename | 02_classification_test.ipynb |\n",
        "| Author(s) | Benjamin Morel (benjaminmorel27@gmail.com) |\n",
        "| Date | September 4, 2024 |\n",
        "| Aim(s) | Build, train and evaluate a neural network machine learning model that classifies movie reviews as positives or negatives. |\n",
        "| Dataset(s) | Stanford dataset [[1]](https://ai.stanford.edu/~amaas/data/sentiment/)|\n",
        "| Version | Python 3.12 - TensorFlow 2.17.0 |\n",
        "\n",
        "\n",
        "<br> **!!Read before running!!** <br>\n",
        "1. Fill in the inputs\n",
        "2. GPU execution recommended if `training_phase=\"Yes\"`.\n",
        "3. Run all and read comments.\n",
        "\n",
        "---\n",
        "\n",
        "#### **Motivation**\n",
        "\n",
        "AI is capable of managing and processing text made up of several thousand words, special characters and punctuation. In this Python code, the construction of the neural network and its optimization is similar to what has been done before. The main interest lies in the way the text is processed and broken down into elements.\n",
        "\n",
        "For this, the Stanford Sentiment Treebank (SST) database, composed of over 50,000 movie reviews on the Internet, is used to build a binary classification neural network. A film review with a rating below 4/10 will be classified as negative and with a rating above 7/10 as positive.\n",
        "\n",
        "\n",
        "\n",
        "---\n",
        "\n"
      ]
    },
    {
      "cell_type": "markdown",
      "metadata": {
        "id": "GVXaEQPzZeq0"
      },
      "source": [
        "#### **0. Input section**"
      ]
    },
    {
      "cell_type": "markdown",
      "metadata": {
        "id": "OVCvwvCvZgIJ"
      },
      "source": [
        "The model has already been trained: **parameters** (weights and biases) of each neuron are already known according to the base dataset. The user can choose to keep these parameters and **not retrain the model** (No), or he can decide to repeat the **training phase** (Yes). Using a pre-trained model saves time, computer resources and CO2 emissions."
      ]
    },
    {
      "cell_type": "code",
      "execution_count": 77,
      "metadata": {
        "id": "Tla0F9fnZniD"
      },
      "outputs": [],
      "source": [
        "training_phase = 'No'"
      ]
    },
    {
      "cell_type": "markdown",
      "metadata": {
        "id": "PNcpWfJ-9oED"
      },
      "source": [
        "---\n",
        "\n",
        "\n",
        "#### **1. Import libraries & prebuilt dataset**"
      ]
    },
    {
      "cell_type": "markdown",
      "metadata": {
        "id": "_eE13ncCBllK"
      },
      "source": [
        "###### **1.1. Presentation of Python libraries**\n",
        "\n",
        "`os`: provides functions to interact with the operating system (manipulating files and directories, accessing system information...)\n",
        "\n",
        "`re`: performs complex searches and manipulations on strings (extracting substrings...)\n",
        "\n",
        "`shutil`: provides utilities for performing operations on files and directories (copying, modifying, deleting...)\n",
        "\n",
        "`string`: provides tools for handling and processing strings\n",
        "\n",
        "`numpy`: library for scientific computing\n",
        "\n",
        "`tensorflow`: builds and trains machine learning and deep learning models\n",
        "\n",
        "`matplotlib.pyplot`: creates graphs"
      ]
    },
    {
      "cell_type": "code",
      "execution_count": 78,
      "metadata": {
        "id": "AYUJBo2iwkEH"
      },
      "outputs": [],
      "source": [
        "from os import path, listdir                                                # miscellaneous operating system interfaces\n",
        "from re import escape                                                       # regular expressions\n",
        "from shutil import rmtree                                                   # operations on files\n",
        "from string import punctuation                                              # string manipulation\n",
        "from numpy import shape, linalg, cos, sin, pi                               # scientific computing\n",
        "from tensorflow import constant, keras, strings, expand_dims, data, metrics # machine learning models\n",
        "from matplotlib.pyplot import subplots, title                               # graphing package"
      ]
    },
    {
      "cell_type": "markdown",
      "metadata": {
        "id": "f2zcHbIgB3ql"
      },
      "source": [
        "###### **1.2. Which database is used?**\n",
        "\n",
        "The considered database is a version of the Stanford Sentiment Treebank (SST), a dataset created for sentiment analysis in movie reviews. It contains movie reviews labeled with sentiment (positive or negative) and is widely used to train and test sentiment analysis models. Movie reviews are contained into the compressed file `aclimdb`.\n"
      ]
    },
    {
      "cell_type": "code",
      "execution_count": 79,
      "metadata": {
        "id": "pZREb5FsxYCp"
      },
      "outputs": [],
      "source": [
        "url = \"https://ai.stanford.edu/~amaas/data/sentiment/aclImdb_v1.tar.gz\"\n",
        "\n",
        "dataset = keras.utils.get_file(\"aclImdb_v1\", url, extract=True, cache_dir='.', cache_subdir='')\n",
        "dataset_dir = path.join(path.dirname(dataset), 'aclImdb')"
      ]
    },
    {
      "cell_type": "markdown",
      "metadata": {
        "id": "9-rQAmrHV24_"
      },
      "source": [
        "###### **1.3. How data is organized within Stanford movie review database?**\n",
        "\n",
        "Once the file is extracted, the following structure is composed of 5 folders: `train`, `test`, `README`, `imdbEr.txt` and `imdb.vocab`. The following code line is used to check file name into the directory.\n",
        "\n",
        "*   `train`: contains movie reviews meant for training\n",
        "*   `test`: contains movie reviews meant for testing\n",
        "*   `README`: provides information about the dataset and how to use it\n",
        "*   `imdb.vocab` and `imdbEr.txt` contain additional information about errors, URL website and specific annotations\n",
        "\n",
        "Within both the `test` and `train` folders, there are two subfolders:\n",
        "\n",
        "*   `pos`: contains movie reviews with a positive sentiment (rating > 7/10)\n",
        "*   `unsup`: contains unlabeled movie reviews for unsupervised learning\n",
        "*   `neg`: contains movie reviews with a negative sentiment (rating < 4/10)\n",
        "\n",
        "Each text file in these subfolders represents a single movie review and contains the raw text of the review. They are cleaned to contain only raw text, without additional metadata."
      ]
    },
    {
      "cell_type": "code",
      "execution_count": 80,
      "metadata": {
        "colab": {
          "base_uri": "https://localhost:8080/"
        },
        "id": "yaYwjEYQAYJj",
        "outputId": "2e922285-43e9-4014-8644-6b137e310ce5"
      },
      "outputs": [
        {
          "output_type": "execute_result",
          "data": {
            "text/plain": [
              "['train', 'imdb.vocab', 'test', 'README', 'imdbEr.txt']"
            ]
          },
          "metadata": {},
          "execution_count": 80
        }
      ],
      "source": [
        "listdir(dataset_dir) # check the file names in the aclImdb directory"
      ]
    },
    {
      "cell_type": "code",
      "execution_count": 81,
      "metadata": {
        "id": "wJLocve1DXls"
      },
      "outputs": [],
      "source": [
        "train_dir = path.join(dataset_dir, 'train') # path name of the \"train\" file in dataset_dir\n",
        "remove_dir = path.join(train_dir, 'unsup') # remove the folder with unlabeled reviews for unsupervised learning\n",
        "rmtree(remove_dir)"
      ]
    },
    {
      "cell_type": "markdown",
      "metadata": {
        "id": "i0TM938pDspy"
      },
      "source": [
        "###### **1.4. How data is submitted during the learning phase**\n",
        "\n",
        "A good practice for a machine learning experiment is to divide the dataset into 3 splits: `train`, `test` and `validation`. Two of them are already available. The validation set is created by using 20% of the training data set.\n",
        "\n",
        "The 3 subsets are organized in batches for multiple reasons: memory, parallel computation, fast calculation of gradients, standardize the processing of training, validation and test sets... For this, the TensorFlow function `text_dataset_from_directory` is used to randomly shuffle texts present in the train folder and then divide this shuffle to generate the training dataset (80%) and the validation dataset (20%). Finally, for each dataset, all the data is grouped into batches of 32 texts.\n",
        "\n",
        "The 3 subsets are stored in the data structures `tf.data.Dataset`. The data is not loaded into immediate memory, but generated when it is called up. The `show_text()` function displays an example of the text in the first batch of the data structure `tf.data.Dataset`."
      ]
    },
    {
      "cell_type": "code",
      "execution_count": 82,
      "metadata": {
        "id": "JNMXUoFwPfWv"
      },
      "outputs": [],
      "source": [
        "def show_text(text_batch): # get the first text of the first batch\n",
        "  for text_batch, label_batch in text_batch: # navigate through the text batch\n",
        "      if label_batch.numpy()[0] == 0:\n",
        "        print(\"Here's an extract from a negative review:\")\n",
        "        print(text_batch.numpy()[0])\n",
        "      else:\n",
        "        print(\"Here's an extract from a positive review:\")\n",
        "        print(text_batch.numpy()[0])"
      ]
    },
    {
      "cell_type": "code",
      "execution_count": 83,
      "metadata": {
        "colab": {
          "base_uri": "https://localhost:8080/"
        },
        "id": "5I8TejG3xtfj",
        "outputId": "918c7263-9f93-489b-8bac-17917c50810d"
      },
      "outputs": [
        {
          "output_type": "stream",
          "name": "stdout",
          "text": [
            "Found 25000 files belonging to 2 classes.\n",
            "Using 20000 files for training.\n",
            "Found 25000 files belonging to 2 classes.\n",
            "Using 5000 files for validation.\n",
            "Found 25000 files belonging to 2 classes.\n"
          ]
        }
      ],
      "source": [
        "batch_size = 32\n",
        "raw_train_ds = keras.utils.text_dataset_from_directory('aclImdb/train', batch_size=batch_size, validation_split=0.2, subset='training', shuffle=True, seed=42) # 625 batches of 32 texts for training set randomly chosen\n",
        "raw_val_ds = keras.utils.text_dataset_from_directory('aclImdb/train', batch_size=batch_size, validation_split=0.2, subset='validation', shuffle=True, seed=42) # 157 batches of 32 texts for validation set randomly chosen\n",
        "raw_test_ds = keras.utils.text_dataset_from_directory('aclImdb/test', batch_size=batch_size) # 782 batches of 32 texts for test set"
      ]
    },
    {
      "cell_type": "code",
      "execution_count": 84,
      "metadata": {
        "colab": {
          "base_uri": "https://localhost:8080/"
        },
        "id": "t2iM2eQ0wyVk",
        "outputId": "b9e93040-47b3-4a71-f01d-935b3c2b92ea"
      },
      "outputs": [
        {
          "output_type": "stream",
          "name": "stdout",
          "text": [
            "Here's an extract from a negative review:\n",
            "b'\"Pandemonium\" is a horror movie spoof that comes off more stupid than funny. Believe me when I tell you, I love comedies. Especially comedy spoofs. \"Airplane\", \"The Naked Gun\" trilogy, \"Blazing Saddles\", \"High Anxiety\", and \"Spaceballs\" are some of my favorite comedies that spoof a particular genre. \"Pandemonium\" is not up there with those films. Most of the scenes in this movie had me sitting there in stunned silence because the movie wasn\\'t all that funny. There are a few laughs in the film, but when you watch a comedy, you expect to laugh a lot more than a few times and that\\'s all this film has going for it. Geez, \"Scream\" had more laughs than this film and that was more of a horror film. How bizarre is that?<br /><br />*1/2 (out of four)'\n"
          ]
        }
      ],
      "source": [
        "first_batch_train = raw_train_ds.take(1) # get the first batch of the training text set\n",
        "show_text(first_batch_train) # show an example of movie review"
      ]
    },
    {
      "cell_type": "markdown",
      "metadata": {
        "id": "CpSzgX8abQGE"
      },
      "source": [
        "---\n",
        "\n",
        "\n",
        "#### **2. Pre-processing & reformating data**"
      ]
    },
    {
      "cell_type": "markdown",
      "metadata": {
        "id": "pIzLCu7V6ubd"
      },
      "source": [
        "###### **2.1. How to switch from a verbal language to a machine language?**\n",
        "\n",
        "The textual data is pre-processed and converted before being used by the model. Three crucial phases are established:\n",
        "- standardization\n",
        "- tokenization\n",
        "- vectorization\n",
        "\n",
        "The first pre-processing step standardizes text data by replacing upper case with lower case letters, by removing html tags and punctuation characters. The variable `punctuation` contains all punctuation characters to be removed. Special characters such as those with accents are not present in English texts. A standardization function is declared and used to process training data in the same way as other data (avoid training/testing bias)."
      ]
    },
    {
      "cell_type": "code",
      "execution_count": 85,
      "metadata": {
        "colab": {
          "base_uri": "https://localhost:8080/"
        },
        "id": "spQOTob2ZULo",
        "outputId": "92d07772-9a37-419d-f472-30871a0f2acd"
      },
      "outputs": [
        {
          "output_type": "stream",
          "name": "stdout",
          "text": [
            "The punctuation characters eliminated are: \n",
            "  \n",
            " !\"\\#\\$%\\&'\\(\\)\\*\\+,\\-\\./:;<=>\\?@\\[\\\\\\]\\^_`\\{\\|\\}\\~\n"
          ]
        }
      ],
      "source": [
        "ponctuation = escape(punctuation)\n",
        "print(\"The punctuation characters eliminated are: \\n\", \" \\n\", ponctuation)"
      ]
    },
    {
      "cell_type": "code",
      "execution_count": 86,
      "metadata": {
        "id": "dUnwN3b6x55J"
      },
      "outputs": [],
      "source": [
        "def standardization(input_data): # standardization function\n",
        "  no_uppercases = strings.lower(input_data) # convert upper cases into lower cases...\n",
        "  no_html = strings.regex_replace(no_uppercases, '<br />', ' ') # ... then remove HTML strings and...\n",
        "  no_punctuation = strings.regex_replace(no_html, '[%s]' % ponctuation, '') # ... punctuation\n",
        "  return no_punctuation"
      ]
    },
    {
      "cell_type": "markdown",
      "metadata": {
        "id": "IovmWK-uPcZA"
      },
      "source": [
        "The second pre-processing step is to transform strings of all texts into integers (=neural network inputs). Text elements are separated, recombined into **tokens** and finally converted into integers (vectorization step). The tokenization process is performed by the Keras layer `TextVectorization` which transforms a batch of strings into either a list of token indices. The 5,000 most frequently used tokens are kept and stored in a dictionary [[2]](https://ai.stanford.edu/~amaas/papers/wvSent_acl2011.pdf). This threshold is used to eliminate words that aren't often used or that don't evoke feelings, such as actor names.\n",
        "\n",
        "The dictionnary called **vocabulary** is built by using raw texts inputs of the training set (labels `y` are ignored)."
      ]
    },
    {
      "cell_type": "code",
      "execution_count": 87,
      "metadata": {
        "id": "w5_uvCYKx8Co"
      },
      "outputs": [],
      "source": [
        "max_features = 5000 # maximum number of words (=tokens) to consider in the vocabulary.\n",
        "max_length = 500 # maximum number of words per review\n",
        "vectorize_layer = keras.layers.TextVectorization(standardize=standardization, max_tokens=max_features, output_sequence_length=max_length, output_mode='int') # transform strings into sequences of integers\n",
        "\n",
        "vectorize_layer.adapt(raw_train_ds.map(lambda x, y: x)) # vectorization layer to learn the vocabulary from the raw texts in the training dataset"
      ]
    },
    {
      "cell_type": "markdown",
      "metadata": {
        "id": "a4HNDvV0LJTE"
      },
      "source": [
        "###### **2.2. How do you visualize these transformations?**\n",
        "\n",
        "The first function `token_to_int` shows the transformation of text elements into integers. The second `int_to_token`is used to identify which token is associated with a given integer."
      ]
    },
    {
      "cell_type": "code",
      "execution_count": 88,
      "metadata": {
        "colab": {
          "base_uri": "https://localhost:8080/"
        },
        "id": "GlardaNcYWqD",
        "outputId": "5bc23e23-8d02-41cd-9f70-caa79c4554e2"
      },
      "outputs": [
        {
          "output_type": "stream",
          "name": "stdout",
          "text": [
            "Review before tokenization and vectorization: \n",
            " tf.Tensor(b'Silent Night, Deadly Night 5 is the very last of the series, and like part 4, it\\'s unrelated to the first three except by title and the fact that it\\'s a Christmas-themed horror flick.<br /><br />Except to the oblivious, there\\'s some obvious things going on here...Mickey Rooney plays a toymaker named Joe Petto and his creepy son\\'s name is Pino. Ring a bell, anyone? Now, a little boy named Derek heard a knock at the door one evening, and opened it to find a present on the doorstep for him. Even though it said \"don\\'t open till Christmas\", he begins to open it anyway but is stopped by his dad, who scolds him and sends him to bed, and opens the gift himself. Inside is a little red ball that sprouts Santa arms and a head, and proceeds to kill dad. Oops, maybe he should have left well-enough alone. Of course Derek is then traumatized by the incident since he watched it from the stairs, but he doesn\\'t grow up to be some killer Santa, he just stops talking.<br /><br />There\\'s a mysterious stranger lurking around, who seems very interested in the toys that Joe Petto makes. We even see him buying a bunch when Derek\\'s mom takes him to the store to find a gift for him to bring him out of his trauma. And what exactly is this guy doing? Well, we\\'re not sure but he does seem to be taking these toys apart to see what makes them tick. He does keep his landlord from evicting him by promising him to pay him in cash the next day and presents him with a \"Larry the Larvae\" toy for his kid, but of course \"Larry\" is not a good toy and gets out of the box in the car and of course, well, things aren\\'t pretty.<br /><br />Anyway, eventually what\\'s going on with Joe Petto and Pino is of course revealed, and as with the old story, Pino is not a \"real boy\". Pino is probably even more agitated and naughty because he suffers from \"Kenitalia\" (a smooth plastic crotch) so that could account for his evil ways. And the identity of the lurking stranger is revealed too, and there\\'s even kind of a happy ending of sorts. Whee.<br /><br />A step up from part 4, but not much of one. Again, Brian Yuzna is involved, and Screaming Mad George, so some decent special effects, but not enough to make this great. A few leftovers from part 4 are hanging around too, like Clint Howard and Neith Hunter, but that doesn\\'t really make any difference. Anyway, I now have seeing the whole series out of my system. Now if I could get some of it out of my brain. 4 out of 5.', shape=(), dtype=string)\n",
            " \n",
            "Review after tokenization and vectorization: \n",
            " tf.Tensor(\n",
            "[1287  313 2380  313  661    7    2   52  229    5    2  200    3   38\n",
            "  170  669   29    1    6    2   83  297  549   32  410    3    2  186\n",
            "   12   29    4    1  191  510  549    6    2    1  212   46  576  175\n",
            "  168   20    1    1  290    4    1  761  969    1    3   24  935 2271\n",
            "  393    7    1 1675    4 3747  250  148    4  112  436  761 3529  548\n",
            "    4 3633   31    2 1331   28 2096    3 2912    9    6  163    4 1006\n",
            "   20    2    1   15   85   53  147    9  292   89  959 2314  984   27\n",
            "  762    6  959    9  564   18    7 2140   32   24 1254   36    1   85\n",
            "    3 3298   85    6 1410    3 1936    2 3408  301  965    7    4  112\n",
            "  740 1977   12    1 2014 2772    3    4  428    3    1    6  512 1254\n",
            "    1  278   27  139   25  308    1  579    5  259 3529    7   92    1\n",
            "   32    2 3842  230   27  289    9   35    2    1   18   27  144 2166\n",
            "   56    6   26   46  466 2014   27   40 2745  657  212    4 1376 3002\n",
            "    1  183   36  180   52  920    8    2 4028   12  969    1  158   71\n",
            "   53   67   85 2754    4  734   51    1 1611  294   85    6    2 1164\n",
            "    6  163    4 3408   15   85    6  717   85   44    5   24    1    3\n",
            "   48  604    7   11  225  384   73   65   21  242   18   27  120  295\n",
            "    6   26  667  129 4028  948    6   67   48  158   93    1   27  120\n",
            "  372   24    1   35    1   85   32 2342   85    6 1008   85    8 2349\n",
            "    2  357  257    3 2391   85   16    4 2812    2    1 2904   15   24\n",
            "  554   18    5  259 2812    7   21    4   49 2904    3  201   44    5\n",
            "    2 1039    8    2  521    3    5  259   73  175  691  179  564  834\n",
            "  692  168   20   16  969    1    3    1    7    5  259 1960    3   14\n",
            "   16    2  161   63    1    7   21    4  145  436    1    7  235   53\n",
            "   50    1    3    1   84   27 2320   35    1    4 3621 3076    1   37\n",
            "   12   98 2620   15   24  437  760    3    2 2158    5    2    1 3002\n",
            "    7 1960   99    3  212   53  236    5    4  654  270    5 2656    1\n",
            "    4 1520   56   35  170  669   18   21   72    5   28  169 1597    1\n",
            "    7  565    3 1835 1084  722   37   46  529  306  300   18   21  187\n",
            "    6   96   11   86    4  166    1   35  170  669   23 2356  183   99\n",
            "   38 4172 2274    3    1 2291   18   12  144   62   96   97 1390  564\n",
            "   10  148   25  311    2  211  200   44    5   54 1432  148   45   10\n",
            "   98   75   46    5    9   44    5   54 1344  669   44    5  661    0\n",
            "    0    0    0    0    0    0    0    0    0    0    0    0    0    0\n",
            "    0    0    0    0    0    0    0    0    0    0    0    0    0    0\n",
            "    0    0    0    0    0    0    0    0    0    0], shape=(500,), dtype=int64)\n"
          ]
        }
      ],
      "source": [
        "def token_to_int(raw_text):\n",
        "  raw_text = next(iter(raw_text))[0]\n",
        "  print(\"Review before tokenization and vectorization: \\n\", raw_text[0])\n",
        "  print(\" \")\n",
        "  text_vectorized = expand_dims(raw_text, -1) #\n",
        "  text_vectorized = vectorize_layer(text_vectorized)\n",
        "  print(\"Review after tokenization and vectorization: \\n\", text_vectorized[0])\n",
        "\n",
        "token_to_int(raw_train_ds)"
      ]
    },
    {
      "cell_type": "code",
      "execution_count": 89,
      "metadata": {
        "colab": {
          "base_uri": "https://localhost:8080/"
        },
        "id": "zvLRLjSODwsi",
        "outputId": "25b11336-5213-438f-c667-2fd945c37d7b"
      },
      "outputs": [
        {
          "output_type": "stream",
          "name": "stdout",
          "text": [
            "The integer 7 represent the token: is\n"
          ]
        }
      ],
      "source": [
        "def int_to_token(index):\n",
        "  token = vectorize_layer.get_vocabulary()[index]\n",
        "  print(\"The integer %d represent the token: %s\" %(index, token))\n",
        "\n",
        "int_to_token(7)"
      ]
    },
    {
      "cell_type": "markdown",
      "metadata": {
        "id": "hDs5MOc7Usll"
      },
      "source": [
        "---\n",
        "\n",
        "\n",
        "#### **3. Model and training**\n"
      ]
    },
    {
      "cell_type": "markdown",
      "metadata": {
        "id": "eVadUbUyOSpz"
      },
      "source": [
        "###### **3.1. How to configure the datasets for performance?**\n",
        "\n",
        "During the model training phase, the duration represents the time required to open the data file, read it and train with it. By default, these steps are performed one at a time. With a prefetch method, the model opens the data file, then executes a training step `s` and loads the data for step `s+1` at the same time. Loading the batch in the background during the training phase enables more efficient use of available computing resources, avoiding the risk of a \"bottleneck\" where computation (GPU) is limited by the speed at which data is supplied (I/O).\n",
        "\n",
        "The overlapping of these steps is ensured by the `prefetch()` function, where the size of the prefetch buffer is automatically set by TensorFlow via the parameter `AUTOTUNE`.\n",
        "\n",
        "The function `cache()` temporarily stores transformed data of a batch (standardization + tokenization + vectorization) in the RAM memory (12.7 GB RAM for a Google configuration). This method saves a significant amount of time since complex transformations applied to the texts are only performed during the first epoch and re-used for the others."
      ]
    },
    {
      "cell_type": "code",
      "execution_count": 90,
      "metadata": {
        "id": "Y5W-pc4I8Wk3"
      },
      "outputs": [],
      "source": [
        "AUTOTUNE = data.AUTOTUNE # prefetch buffer size parameter\n",
        "\n",
        "raw_train_ds = raw_train_ds.cache().prefetch(buffer_size=AUTOTUNE) # store raw_train_ds temporarily in the RAM + load the next batch in background with a prefetch buffer size computed by AUTOTUNE\n",
        "raw_val_ds = raw_val_ds.cache().prefetch(buffer_size=AUTOTUNE)\n",
        "raw_test_ds = raw_test_ds.cache().prefetch(buffer_size=AUTOTUNE)"
      ]
    },
    {
      "cell_type": "markdown",
      "metadata": {
        "id": "rQnGHKrYOfhQ"
      },
      "source": [
        "###### **3.2. What is a neural network formed of?**"
      ]
    },
    {
      "cell_type": "markdown",
      "metadata": {
        "id": "3z7bRecdVwtG"
      },
      "source": [
        "**Pre-processing layer** `vectorize_layer`:\n",
        "* **Inputs:** a text vector of dimension `batch_size` (=32).\n",
        "* **Outputs:** an integer 2D tensor of dimensions (`batch_size`, `max_length`) (= (32, 500)).\n",
        "* **Comments:** each text of the batch of 32 elements is truncated to the 501st (= `max_length`) and then an integer is associated with each of the 5,000 most frequently used words (= `max_features`) in the text dataset. The word index is referenced in a dictionary, called *vocabulary*, and is common to all texts in the dataset. If the text is less than 500 words long (= `max_length`), the output tensor is padded with zeros.\n",
        "\n",
        "<br>**Embedding layer** `Embedding`: <br>\n",
        "* **Inputs:** an integer 2D tensor of dimensions (`batch_size`, `max_length`) (= (32, 500)).\n",
        "* **Outputs:** a float 3D tensor of dimensions (`batch_size`, `max_length`, `embedding_dim`) (=(32, 500, 16)).\n",
        "* **Comments:** The Keras embedding layer manages its own dictionary, in which each word is linked to a dense vector of dimension `embedding_dim` (=16). The layer returns a 16-float vector for each element of the 2D tensor input. The Embedding dictionnary is modified/adapted during the learning phase since the 16-components of an embedding vecteor are considered as weights and modified by an optimization algorithm.\n",
        "\n",
        "<br>**Pooling layer** `GlobalAveragePooling1D`: <br>\n",
        "* **Inputs:** a float 3D tensor of dimensions (`batch_size`, `max_length`, `embedding_dim`) (=(32, 500, 16)).\n",
        "* **Outputs:** a float 2D tensor of dimensions (`batch_size`, `embedding_dim`) (=(32, 16)).\n",
        "* **Comments:** This layer will average all the 16-dense vectors of a text. This reduction loses the word order, but partially integrates the meaning of the text.\n",
        "\n",
        "<br>**Fully-connected layer** `Dense`: <br>\n",
        "* **Inputs:** a float 2D tensor of dimensions (`batch_size`, `embedding_dim`) (=(32, 16)).\n",
        "* **Outputs:** maximum 32 scalars between 0 (=negative sentiment) and 1 (=positive sentiment).\n",
        "* **Comments:** if this scalar is close to 0.5, the model cannot conclude with certainty.  \n"
      ]
    },
    {
      "cell_type": "code",
      "execution_count": 91,
      "metadata": {
        "id": "ZVy751wzln8H"
      },
      "outputs": [],
      "source": [
        "def create_model():\n",
        "  embedding_dim = 16\n",
        "  model = keras.Sequential()\n",
        "  model.add(vectorize_layer) # pre-processing layer (standardization + tokenization + vectorization)\n",
        "  model.add(keras.layers.Embedding(input_dim = max_features, output_dim = embedding_dim))\n",
        "  model.add(keras.layers.Dropout(0.2))\n",
        "  model.add(keras.layers.GlobalAveragePooling1D())\n",
        "  model.add(keras.layers.Dropout(0.2))\n",
        "  model.add(keras.layers.Dense(1, activation='sigmoid')) # 1 output: propbability\n",
        "\n",
        "  model.compile(loss=keras.losses.BinaryCrossentropy(), optimizer='adam', metrics=[metrics.BinaryAccuracy()])\n",
        "\n",
        "  return model"
      ]
    },
    {
      "cell_type": "markdown",
      "metadata": {
        "id": "wnY6ZDN9OsPe"
      },
      "source": [
        "###### **3.3. How to train the model?**\n"
      ]
    },
    {
      "cell_type": "code",
      "execution_count": 92,
      "metadata": {
        "id": "akEY74O-4mGl"
      },
      "outputs": [],
      "source": [
        "if training_phase == \"Yes\":\n",
        "  checkpoint_path = \"02_classification_text.weights.h5\"\n",
        "  cp_callback = keras.callbacks.ModelCheckpoint(filepath=checkpoint_path, save_weights_only=True, verbose=0)\n",
        "  stop_early = keras.callbacks.EarlyStopping(monitor='val_binary_accuracy', patience=10, restore_best_weights=True, min_delta=0.001)"
      ]
    },
    {
      "cell_type": "code",
      "execution_count": 93,
      "metadata": {
        "id": "MZ-W38br25go"
      },
      "outputs": [],
      "source": [
        "model = create_model()"
      ]
    },
    {
      "cell_type": "code",
      "execution_count": 94,
      "metadata": {
        "colab": {
          "base_uri": "https://localhost:8080/"
        },
        "id": "urPAjUL-ydCq",
        "outputId": "a62cbec3-a90b-4969-ae36-fb29772fc817"
      },
      "outputs": [
        {
          "output_type": "stream",
          "name": "stdout",
          "text": [
            "Cloning into 'TensorFlow'...\n",
            "remote: Enumerating objects: 111, done.\u001b[K\n",
            "remote: Counting objects: 100% (111/111), done.\u001b[K\n",
            "remote: Compressing objects: 100% (110/110), done.\u001b[K\n",
            "remote: Total 111 (delta 47), reused 0 (delta 0), pack-reused 0 (from 0)\u001b[K\n",
            "Receiving objects: 100% (111/111), 18.01 MiB | 15.28 MiB/s, done.\n",
            "Resolving deltas: 100% (47/47), done.\n"
          ]
        }
      ],
      "source": [
        "if training_phase == \"Yes\":\n",
        "  history = model.fit(raw_train_ds, validation_data=raw_val_ds, epochs=100, callbacks=[stop_early, cp_callback], verbose=0)\n",
        "  val_acc_per_epoch = history.history['val_binary_accuracy'] # best val_binary_accuracy achived at epoch 32\n",
        "  best_epoch = val_acc_per_epoch.index(max(val_acc_per_epoch)) + 1\n",
        "  print('Best epoch: %d' % (best_epoch))\n",
        "else:\n",
        "  !git clone https://github.com/Benjamin-morel/TensorFlow.git # go to the Github repertory TensorFlow and clone it\n",
        "  model.fit(raw_train_ds, validation_data=raw_val_ds, epochs=1, verbose=0)\n",
        "  model.load_weights(\"TensorFlow/02_classification_text.weights.h5\") # import weights from the cloned repertory\n",
        "  !rm -rf TensorFlow/ # delete the cloned repertory"
      ]
    },
    {
      "cell_type": "code",
      "execution_count": 95,
      "metadata": {
        "id": "iXkzAUtK6Kg4"
      },
      "outputs": [],
      "source": [
        "def show_evolution(history):\n",
        "  history_dict = history.history\n",
        "  acc_train = history_dict['binary_accuracy']\n",
        "  acc_val = history_dict['val_binary_accuracy']\n",
        "  epochs = range(1, len(acc_train) + 1)\n",
        "\n",
        "  fig, ax = subplots(figsize=(8, 6))\n",
        "  ax.plot(epochs, acc_train, label='Training', color='blue')\n",
        "  ax.plot(epochs, acc_val, label='Validation', color='orange')\n",
        "  ax.legend(loc='upper left', bbox_to_anchor=(0.02, 0.98), frameon=True, facecolor='white', edgecolor='black', fontsize=10)\n",
        "  ax.set_xlabel('Epochs', fontsize=12), ax.set_ylabel('Binary Accuracy', fontsize=12)\n",
        "  ax.grid(True, linestyle='--', alpha=0.6)\n",
        "  fig.show()"
      ]
    },
    {
      "cell_type": "code",
      "execution_count": 96,
      "metadata": {
        "id": "awd3_-nj6DQZ"
      },
      "outputs": [],
      "source": [
        "if training_phase == 'Yes':\n",
        "  show_evolution(history)"
      ]
    },
    {
      "cell_type": "markdown",
      "metadata": {
        "id": "6VZ-HWnoU19c"
      },
      "source": [
        "---\n",
        "\n",
        "\n",
        "#### **4. Evaluation and prediction**\n"
      ]
    },
    {
      "cell_type": "code",
      "execution_count": 97,
      "metadata": {
        "id": "SgYqxc_pyhX-",
        "colab": {
          "base_uri": "https://localhost:8080/"
        },
        "outputId": "9df3ee01-0925-4ca0-bc33-a1280f8351e3"
      },
      "outputs": [
        {
          "output_type": "stream",
          "name": "stdout",
          "text": [
            "\u001b[1m782/782\u001b[0m \u001b[32m━━━━━━━━━━━━━━━━━━━━\u001b[0m\u001b[37m\u001b[0m \u001b[1m4s\u001b[0m 5ms/step - binary_accuracy: 0.8782 - loss: 0.3054\n",
            "\n",
            "  88.024% of the test set is corretly predicted\n",
            "  \n"
          ]
        }
      ],
      "source": [
        "loss, accuracy = model.evaluate(raw_test_ds)\n",
        "\n",
        "print(f\"\"\"\n",
        "  {round(100*accuracy, 3)}% of the test set is corretly predicted\n",
        "  \"\"\")"
      ]
    },
    {
      "cell_type": "markdown",
      "metadata": {
        "id": "jPO0X7THurRd"
      },
      "source": [
        "It is now possible to use the trained model to recognize the sentiment of the author of a film review. Write your own review in the next section and check the model's prediction."
      ]
    },
    {
      "cell_type": "code",
      "execution_count": 98,
      "metadata": {
        "id": "EqhYu-ySJa5a"
      },
      "outputs": [],
      "source": [
        "my_review = [\"This movie was terrible and boring. Most of scenes were violents and useless.\"]"
      ]
    },
    {
      "cell_type": "code",
      "execution_count": 99,
      "metadata": {
        "id": "h1pa8S_v6VEJ",
        "colab": {
          "base_uri": "https://localhost:8080/"
        },
        "outputId": "1fb86a5a-f6b2-4b8a-83b3-ba3f271c4090"
      },
      "outputs": [
        {
          "output_type": "stream",
          "name": "stdout",
          "text": [
            "\u001b[1m1/1\u001b[0m \u001b[32m━━━━━━━━━━━━━━━━━━━━\u001b[0m\u001b[37m\u001b[0m \u001b[1m0s\u001b[0m 143ms/step\n",
            "The movie looks pretty bad. (score model:  0.1 )\n"
          ]
        }
      ],
      "source": [
        "examples = constant(my_review)\n",
        "\n",
        "prediction = model.predict(examples)\n",
        "if prediction < 0.5:\n",
        "  print(\"The movie looks pretty bad. (score model: \", round(prediction[0][0], 1), \")\")\n",
        "else:\n",
        "  print(\"Great movie, go see it in the cinema! (score model: \", round(prediction[0][0], 1), \")\")"
      ]
    },
    {
      "cell_type": "markdown",
      "metadata": {
        "id": "HmAA9z068MHx"
      },
      "source": [
        "---\n",
        "\n",
        "\n",
        "#### **5. Let's explore the embedding dictionnary**"
      ]
    },
    {
      "cell_type": "markdown",
      "metadata": {
        "id": "G3ESqKNN83Fv"
      },
      "source": [
        "For the embedding dictionnary exploration, the 16 values from the 5000 vectors are extracted. As a reminder, these vectors are the weights of the Embedding layer and can be retrieved using the function `get_weights`."
      ]
    },
    {
      "cell_type": "code",
      "execution_count": 100,
      "metadata": {
        "id": "Aj9S7Sg_PjHS",
        "colab": {
          "base_uri": "https://localhost:8080/"
        },
        "outputId": "d14c3a79-8d74-4f5d-b923-eadb503c4d11"
      },
      "outputs": [
        {
          "output_type": "stream",
          "name": "stdout",
          "text": [
            "The dictionnary size is equal to: (5000, 16)\n"
          ]
        }
      ],
      "source": [
        "embeddings_vector = model.layers[1].get_weights()[0] # embedding layer is the second layer of the model\n",
        "print(\"The dictionnary size is equal to:\",(shape(embeddings_vector)))\n",
        "dictionary_embedding = {vectorize_layer.get_vocabulary()[i]:embeddings_vector[i] for i in range(max_features)}"
      ]
    },
    {
      "cell_type": "markdown",
      "metadata": {
        "id": "p-o_Bnkn9khQ"
      },
      "source": [
        "Then, it's essential to associate a word with its vector given by the embedding dictionary. To do this, another dictionary `word_to_embeddings_vector` is built, containing the 16 real values of the dense vector's components for the 5000 most frequently used words. An example is given by entering the word \"good\" in the dictionary."
      ]
    },
    {
      "cell_type": "code",
      "execution_count": 101,
      "metadata": {
        "id": "ozcHQsAQRKkL",
        "colab": {
          "base_uri": "https://localhost:8080/"
        },
        "outputId": "5b6af278-65db-4cc1-b5bc-a3acbb54289c"
      },
      "outputs": [
        {
          "output_type": "execute_result",
          "data": {
            "text/plain": [
              "array([-0.74045223,  0.72797775, -0.81483996,  0.7455467 , -0.5748099 ,\n",
              "       -0.72785854, -0.6728519 ,  0.708197  ,  0.65778595,  0.6499005 ,\n",
              "       -0.7387788 ,  0.7020209 , -0.7547246 , -0.67552066, -0.7161834 ,\n",
              "       -0.79400253], dtype=float32)"
            ]
          },
          "metadata": {},
          "execution_count": 101
        }
      ],
      "source": [
        "dictionary_embedding[\"good\"]"
      ]
    },
    {
      "cell_type": "code",
      "execution_count": 102,
      "metadata": {
        "id": "CfJN4l0_RX_p"
      },
      "outputs": [],
      "source": [
        "def get_distance(token1, token2):\n",
        "  p1 = dictionary_embedding[token1] # position of token 1 in the 16 dimensions embedding space\n",
        "  p2 = dictionary_embedding[token2] # position of token 2\n",
        "  distance = np.linalg.norm(p2-p1) # norm computation\n",
        "  return distance\n",
        "\n",
        "def get_synomym(token, n):\n",
        "  p1 = dictionary_embedding[token]\n",
        "  candidate_list = {} # stores n synonyms\n",
        "  for i in range(1, 1000):\n",
        "    token_candidate = vectorize_layer.get_vocabulary()[i]\n",
        "    candidate_list[token_candidate] = get_distance(token, token_candidate)\n",
        "\n",
        "  sorted_items = sorted(candidate_list.items(), key=lambda item: item[1])\n",
        "\n",
        "  synonym_list = sorted_items[1:n+1]\n",
        "  words = [item[0] for item in synonym_list]\n",
        "  distance = [item[1] for item in synonym_list]\n",
        "\n",
        "  fig, ax = subplots(figsize=(6, 6))\n",
        "\n",
        "  for i in range(len(distance)):\n",
        "      x = distance[i] * cos((i + 1) * 2*pi / len(distance))\n",
        "      y = distance[i] * sin((i + 1) * 2*pi / len(distance))\n",
        "\n",
        "      ax.scatter(0, 0, color='red', s=50)\n",
        "      ax.text(0, 0.1, word, fontsize=12, color='red', ha='center', va='center')\n",
        "      ax.scatter(x, y, color='black', s=15)\n",
        "      ax.text(x, y+0.1, words[i], fontsize=10, color='black', ha='center', va='center')\n",
        "\n",
        "  ax.set_xlim(-1.1*max(distance), 1.1*max(distance))\n",
        "  ax.set_ylim(-1.1*max(distance), 1.1*max(distance))\n",
        "  ax.set_aspect('equal'), ax.axis('off')\n",
        "  title(\"Neighbors of %s\" %word, fontsize=16)\n",
        "  fig.show()"
      ]
    },
    {
      "cell_type": "code",
      "execution_count": 103,
      "metadata": {
        "id": "0EiVWW81SevD",
        "colab": {
          "base_uri": "https://localhost:8080/"
        },
        "outputId": "785b8b31-0131-4493-8f11-d0c7d5215da1"
      },
      "outputs": [
        {
          "output_type": "execute_result",
          "data": {
            "text/plain": [
              "20.256641"
            ]
          },
          "metadata": {},
          "execution_count": 103
        }
      ],
      "source": [
        "get_distance(\"nice\", \"terrible\")"
      ]
    },
    {
      "cell_type": "code",
      "execution_count": 104,
      "metadata": {
        "id": "5b-b8irFSxTb",
        "colab": {
          "base_uri": "https://localhost:8080/",
          "height": 523
        },
        "outputId": "fd8ffc0c-d142-4fbe-e2c9-94e5b327af25"
      },
      "outputs": [
        {
          "output_type": "display_data",
          "data": {
            "text/plain": [
              "<Figure size 600x600 with 1 Axes>"
            ],
            "image/png": "[encoded data removed]"
          },
          "metadata": {}
        }
      ],
      "source": [
        "word = \"fun\" # which word to seek neighbors for?\n",
        "nb = 10 # how many?\n",
        "get_synomym(word, nb)"
      ]
    }
  ],
  "metadata": {
    "colab": {
      "provenance": [],
      "authorship_tag": "ABX9TyP4LCdohwnRAgA1AenAnwxs",
      "include_colab_link": true
    },
    "kernelspec": {
      "display_name": "Python 3",
      "name": "python3"
    },
    "language_info": {
      "name": "python"
    }
  },
  "nbformat": 4,
  "nbformat_minor": 0
}