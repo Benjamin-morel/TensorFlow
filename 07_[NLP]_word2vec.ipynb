{
  "nbformat": 4,
  "nbformat_minor": 0,
  "metadata": {
    "colab": {
      "provenance": [],
      "authorship_tag": "ABX9TyPQtV6RO3PwZoHtliafP1Ch",
      "include_colab_link": true
    },
    "kernelspec": {
      "name": "python3",
      "display_name": "Python 3"
    },
    "language_info": {
      "name": "python"
    }
  },
  "cells": [
    {
      "cell_type": "markdown",
      "metadata": {
        "id": "view-in-github",
        "colab_type": "text"
      },
      "source": [
        "<a href=\"https://colab.research.google.com/github/Benjamin-morel/TensorFlow/blob/main/07_%5BNLP%5D_word2vec.ipynb\" target=\"_parent\"><img src=\"https://colab.research.google.com/assets/colab-badge.svg\" alt=\"Open In Colab\"/></a>"
      ]
    },
    {
      "cell_type": "markdown",
      "source": [
        "---\n",
        "\n",
        "\n",
        "# **Machine Learning Model: word2vec and skip-gram**\n",
        "\n",
        "| | |\n",
        "|------|------|\n",
        "| Filename | 07_[NLP]_word2vec.ipynb |\n",
        "| Author(s) | Benjamin (contact.upside830@silomails.com) |\n",
        "| Date | January 26, 2024 |\n",
        "| Aim(s) | build a word embedding space with the skip-gram method |\n",
        "| Dataset(s) | IMDb Movie Reviews dataset [[1]](https://aclanthology.org/P11-1015.pdf)|\n",
        "| Version | Python 3.10.12 - TensorFlow 2.17.1 - final notebook version |\n",
        "\n",
        "\n",
        "<br> **!!Read before running!!** <br>\n",
        "* **Step 1.** Fill in the inputs.\n",
        "* **Step 2.** GPU execution is recommended for training. Yet, a pre-trained model can be used by running this notebook on a CPU. Using a pre-trained model saves time, computer resources and CO2 emissions.\n",
        "* **Step 3.** Run all and read comments.\n",
        "\n",
        "---\n",
        "\n",
        "#### **Motivation**\n",
        "\n",
        "With the IMDb dataset used in code [02_classfication_text.ipynb](https://github.com/Benjamin-morel/TensorFlow/tree/main), the model is trained using a word2vec technique and model's weights are then used to construct a word embedding space.  \n",
        "\n",
        "#### **Outline**\n",
        "\n",
        "*   Input section\n",
        "*   Python librairies & display utilities\n",
        "*   Data retrieval & set generation\n",
        "*   Embedding word space construction\n",
        "*   Classification model & training\n",
        "*   Embedding space exploration\n",
        "*   References\n",
        "\n",
        "---"
      ],
      "metadata": {
        "id": "IKO5J-_-Vj3U"
      }
    },
    {
      "cell_type": "markdown",
      "source": [
        "## **0. Input section**"
      ],
      "metadata": {
        "id": "an7V4rZe30MH"
      }
    },
    {
      "cell_type": "code",
      "source": [
        "max_features = 5000 # number of tokens to be referenced in a dictionary\n",
        "max_length = 20 # number of words to keep in a sentence for the skip-gram method"
      ],
      "metadata": {
        "id": "JvszvjSG37h-"
      },
      "execution_count": 1,
      "outputs": []
    },
    {
      "cell_type": "markdown",
      "source": [
        "\n",
        "---\n",
        "\n",
        "## **1. Python librairies & display utilities**"
      ],
      "metadata": {
        "id": "iOr8jVUqvebl"
      }
    },
    {
      "cell_type": "code",
      "source": [
        "# @title 1.1. Python librairies [RUN ME]\n",
        "\n",
        "\"\"\"math\"\"\"\n",
        "import numpy as np # linear algebra\n",
        "import sklearn.metrics # scores and evaluation metrics\n",
        "\n",
        "\"\"\"file opening and pre-processing\"\"\"\n",
        "import os # miscellaneous operating system interfaces\n",
        "import pandas as pd # data manipulation tool\n",
        "from re import escape # regular expressions\n",
        "import string # string manipulation\n",
        "import shutil # operations on files\n",
        "\n",
        "\"\"\"ML models\"\"\"\n",
        "import tensorflow as tf # framework for ML/DL\n",
        "from tensorflow import keras # API used to build model in TensorFlow\n",
        "\n",
        "\"\"\"display and export\"\"\"\n",
        "import matplotlib.pyplot as plt # graphing package\n",
        "import pickle # serialization\n",
        "\n",
        "\"\"\"performances\"\"\"\n",
        "from time import time # timer\n",
        "start = time()\n",
        "device = tf.config.list_physical_devices(device_type=None)[-1][-1]"
      ],
      "metadata": {
        "cellView": "form",
        "id": "Rc2oQxKkvr-C"
      },
      "execution_count": 2,
      "outputs": []
    },
    {
      "cell_type": "code",
      "source": [
        "# @title 1.2. Import Github files [RUN ME]\n",
        "\n",
        "\"\"\"clone the Github repertory TensorFlow and imports the files required (see section 3.2)\"\"\"\n",
        "def get_github_files():\n",
        "  !git clone https://github.com/Benjamin-morel/TensorFlow.git TensorFlow_duplicata\n",
        "  path_model = 'TensorFlow_duplicata/99_pre_trained_models/07_word2vec/07_word2vec.keras'\n",
        "  path_classifier = 'TensorFlow_duplicata/99_pre_trained_models/07_word2vec/07_classification_text.keras'\n",
        "  path_dictionary = 'TensorFlow_duplicata/99_pre_trained_models/07_word2vec/dictionary_embedding.pkl'\n",
        "  path_vocab = 'TensorFlow_duplicata/99_pre_trained_models/07_word2vec/vocab.pkl'\n",
        "  path_word_list = 'TensorFlow_duplicata/99_pre_trained_models/07_word2vec/word_list'\n",
        "\n",
        "  model = keras.models.load_model(path_model, custom_objects={'Word2Vec': Word2Vec})\n",
        "  classifier = keras.models.load_model(path_classifier)\n",
        "  with open(path_dictionary, 'rb') as f:\n",
        "    dictionary = pickle.load(f)\n",
        "  with open(path_vocab, 'rb') as f:\n",
        "    vocab = pickle.load(f)\n",
        "  with open(path_word_list, 'rb') as fp:\n",
        "    word_list = pickle.load(fp)\n",
        "\n",
        "  !rm -rf TensorFlow_duplicata/\n",
        "  return model, dictionary, vocab, classifier, word_list"
      ],
      "metadata": {
        "id": "hJrHq8awwNgH",
        "cellView": "form"
      },
      "execution_count": 3,
      "outputs": []
    },
    {
      "cell_type": "code",
      "source": [
        "# @title 1.3. Figure plots [RUN ME]\n",
        "\n",
        "\"\"\"plot confusion matrix and ROC curve\"\"\"\n",
        "def plot_evaluation(test_dataset, predictions, labels=[0,1]):\n",
        "  actuals = tf.concat([y for x, y in test_dataset], axis=0)\n",
        "  predicted_labels = np.round(predictions, 0)\n",
        "\n",
        "  plt.figure(figsize=(12,5))\n",
        "\n",
        "  confusion_mat = tf.math.confusion_matrix(actuals,predicted_labels) # columns = prediction labels / rows = real labels\n",
        "\n",
        "  # Subplot 1: Confusion matrix\n",
        "  plt.subplot(1,2,1, xlabel=\"Predictions\", ylabel=\"Actuals\", title=\"Confusion matrix of the test set\", xticks=[0,1], yticks=[0,1])\n",
        "  plt.imshow(confusion_mat)\n",
        "\n",
        "  for i in range(confusion_mat.shape[0]): # annotation in each cnfusion matrix cell\n",
        "      for j in range(confusion_mat.shape[1]):\n",
        "          plt.text(x=j, y=i,s=int(confusion_mat[i, j]), va='center', ha='center', size='large')\n",
        "\n",
        "  # Subplot 2: ROC curve\n",
        "  fpr, tpr, _ = sklearn.metrics.roc_curve(actuals,  predictions.ravel())\n",
        "  plt.subplot(1,2,2, xlabel=\"FPR\", ylabel=\"TPR\", title=\"ROC curve\")\n",
        "  plt.plot(fpr, tpr)\n",
        "\n",
        "  # Metrics info\n",
        "  accuracy = sklearn.metrics.accuracy_score(actuals, predicted_labels)\n",
        "  recall = sklearn.metrics.recall_score(actuals, predicted_labels)\n",
        "  F1_score = sklearn.metrics.f1_score(actuals, predicted_labels)\n",
        "\n",
        "  print(\"############################\")\n",
        "  print(\"Evaluation on the test set: \")\n",
        "  print(\"############################\")\n",
        "  print(\"Accuracy...{:.4f}\" .format(accuracy))\n",
        "  print(\"Recall.....{:.4f}\" .format(recall))\n",
        "  print(\"F1-score...{:.4f}\" .format(F1_score))\n",
        "\n",
        "  plt.show()"
      ],
      "metadata": {
        "cellView": "form",
        "id": "CH0tm36GQlQ3"
      },
      "execution_count": 4,
      "outputs": []
    },
    {
      "cell_type": "markdown",
      "source": [
        "---\n",
        "\n",
        "\n",
        "## **2. Data retrieval and set generation**"
      ],
      "metadata": {
        "id": "vTJzD6Tv4Fca"
      }
    },
    {
      "cell_type": "markdown",
      "source": [
        "The skip-gram method is a word embedding technique used in Word2Vec to learn vector representations of words based on their surrounding context. It works by selecting a target word and predicting its context words within a given window size.\n",
        "\n",
        ">Example: \"This horror movie was so terrifying that I screamed!\"\n",
        "\n",
        ">Window = 1<br>\n",
        ">Target word: \"terrifying\": \"This horror movie was [**so terrifying that**] I screamed!\" <br>\n",
        ">Context words: \"so\" and \"that\"\n",
        "\n",
        "With a larger window to capture more context:\n",
        "\n",
        ">Window = 3 <br>\n",
        ">Target word: \"terrifying\": \"This horror [**movie was so terrifying that I screamed**]!\" <br>\n",
        ">Context words: \"movie\", \"was\", \"so\", \"that\", \"I\" and \"screamed\"\n",
        "\n",
        "Each word is converted to an integer and passed through a neural network with a single hidden layer. The model is trained to maximize the probability of context words given the target word, often using negative sampling to improve efficiency.\n",
        "\n",
        "![CBOW_eta_Skipgram.png](data:image/png;base64,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)\n",
        "*Illustration from Wikipedia article [Word2vec](https://fr.wikipedia.org/wiki/Word2vec) - Aelu013 (February 2018) - CC BY-SA 4.0*\n",
        "\n",
        "After training, the hidden layer weights form a word embeddings space, where words are represented by a 16-dimensional embedding vector. Skip-gram is especially useful for capturing relationships between words.\n"
      ],
      "metadata": {
        "id": "DvEtr1KoFGLk"
      }
    },
    {
      "cell_type": "markdown",
      "source": [
        "### 2.1. Retrieve data"
      ],
      "metadata": {
        "id": "5k2EbRgE203B"
      }
    },
    {
      "cell_type": "markdown",
      "source": [
        "The IMDb Movie Reviews is a database created for sentiment analysis in movie reviews. It contains 50,000 movie reviews. The database is extracted and placed in the folder review_dataset. The architecture of review_dataset is as follows:\n",
        "\n",
        "```markdown\n",
        "**Imdb_dataset/**\n",
        ". . . aclImdb/\n",
        ". . . . . . train/\n",
        ". . . . . . test/\n",
        ". . . . . . README\n",
        ". . . . . . imdb.vocab\n",
        ". . . . . . imdbEr.text\n",
        "```\n",
        "\n",
        "Other files are included in the folder like `README` which provides information about the dataset and how to use it. Files `imdb.vocab` and `imdbEr.txt` contain additional information about errors, URL website and specific annotations.\n",
        "\n",
        "To train the model, the labels used to classify are not required."
      ],
      "metadata": {
        "id": "CCedTxGVU898"
      }
    },
    {
      "cell_type": "code",
      "source": [
        "def get_data(url, batch_size):\n",
        "\n",
        "  dataset_name = \"Imdb_dataset_1\"\n",
        "  path = tf.keras.utils.get_file(dataset_name, url, extract=True)\n",
        "  path = os.path.join(path, 'aclImdb')\n",
        "  train_path = os.path.join(path, 'train')\n",
        "  test_path = os.path.join(path, 'test')\n",
        "  remove_dir = os.path.join(train_path, 'unsup') # remove the folder with unlabeled reviews for unsupervised learning\n",
        "  shutil.rmtree(remove_dir)\n",
        "\n",
        "  # data used to build embedding word space with the skip-gram method\n",
        "  data_skip_gram = tf.keras.utils.text_dataset_from_directory(train_path, labels=None, batch_size=batch_size, validation_split=None, shuffle=True, seed=1, verbose=0)\n",
        "\n",
        "  # data for classification model (same as 02_classification_text.ipynb)\n",
        "  raw_train_ds = keras.utils.text_dataset_from_directory(train_path, batch_size=32, validation_split=0.2, subset='training', shuffle=True, seed=1)\n",
        "  raw_val_ds = keras.utils.text_dataset_from_directory(train_path, batch_size=32, validation_split=0.2, subset='validation', shuffle=True, seed=1)\n",
        "  raw_test_ds = keras.utils.text_dataset_from_directory(test_path, batch_size=32)\n",
        "\n",
        "  return data_skip_gram, raw_train_ds, raw_val_ds, raw_test_ds"
      ],
      "metadata": {
        "id": "6tyDasAh_ZyY"
      },
      "execution_count": 5,
      "outputs": []
    },
    {
      "cell_type": "code",
      "source": [
        "url = \"https://ai.stanford.edu/~amaas/data/sentiment/aclImdb_v1.tar.gz\"\n",
        "\n",
        "batch_size = 1\n",
        "\n",
        "all_texts, raw_train_ds, raw_val_ds, raw_test_ds = get_data(url, batch_size)"
      ],
      "metadata": {
        "id": "sVSYard4_kii",
        "colab": {
          "base_uri": "https://localhost:8080/"
        },
        "outputId": "cb6bf3bb-066f-46e0-c0c8-bfa3110565a7"
      },
      "execution_count": 6,
      "outputs": [
        {
          "output_type": "stream",
          "name": "stdout",
          "text": [
            "Downloading data from https://ai.stanford.edu/~amaas/data/sentiment/aclImdb_v1.tar.gz\n",
            "\u001b[1m84125825/84125825\u001b[0m \u001b[32m━━━━━━━━━━━━━━━━━━━━\u001b[0m\u001b[37m\u001b[0m \u001b[1m16s\u001b[0m 0us/step\n",
            "Found 25000 files belonging to 2 classes.\n",
            "Using 20000 files for training.\n",
            "Found 25000 files belonging to 2 classes.\n",
            "Using 5000 files for validation.\n",
            "Found 25000 files belonging to 2 classes.\n"
          ]
        }
      ]
    },
    {
      "cell_type": "markdown",
      "source": [
        "The batch size is 1 to facilitate pre-processing of texts. The variable `nb_text` is used to control the number of texts to be supplied to the model.\n",
        "\n"
      ],
      "metadata": {
        "id": "d5rIxD1iGh-q"
      }
    },
    {
      "cell_type": "code",
      "source": [
        "for text in all_texts.take(1):\n",
        "  print(\"Here, an example of text data used for the skip-gram method: \\n\", text.numpy())"
      ],
      "metadata": {
        "id": "K9xSdAZOT2JD",
        "colab": {
          "base_uri": "https://localhost:8080/"
        },
        "outputId": "35c01797-b89d-45e2-b28d-b88473d6dd54"
      },
      "execution_count": 7,
      "outputs": [
        {
          "output_type": "stream",
          "name": "stdout",
          "text": [
            "Here, an example of text data used for the skip-gram method: \n",
            " [b'\"Dressed to Kill\" is Brian DePalma\\'s best film, an absolute thrill ride of suspense, humor and style that remains unrivaled today. DePalma has a bum rap in Hollywood, as most people claim that he rips off Alfred Hitchcock. He does not. Hitchcock could only dream of what DePalma shows in his thrillers.<br /><br />Sadly, the original uncut version of \"Dressed to Kill\" is no longer available on video. The current copy released by Goodtimes is the Jack Valenti approved R rated cut. But some copies of DePalma\\'s original cut still exist. It is the one distributed by Warner Home Video, in both a green cardboard box with Angie Dickinson on the cover, or in a black clamshell case with the theatrical poster on silver lining. These are the ones to get, if you can find a copy. I have the green one and it is among my treasured possessions.<br /><br />Anyway, back to the story. Dickinson plays Kate Miller, a sexually frustrated wife who is being treated by Dr. Robert Elliott ( Michael Caine) for her obsessive fantasies. While on a trip to the museum (a real tour-de-force for DePalma in terms of camera work and suspense), <br /><br />Miller is picked up by a stranger. You can pretty much guess what happens to her, since the ads and box art give away the story. But there are a few complications. A hooker (Nancy Allen) is the sole witness to the murder. Kate Miller\\'s son Peter (Keith Gordon) is a teenage genius determined to solve the crime. And Dr. Elliott\\'s answering machine has a certain message on it...about a missing razor...<br /><br />I\\'m not spoiling the film at all for you since what I have described above takes place within the opening half hour and DePalma\\'s biggest surprises are reserved for the last hour. This film is explicit, however, enough for Valenti (head of the MPAA) to demand cuts in the film. What surprises me is what cuts he wanted. Several cuts in the opening shower scene and one or two slashing scenes and some of Nancy Allen\\'s dialogue (Valenti wanted \"cock\" changed to \"bulge\"). This is a film that is very violent and bloody, yet the objections are to sexual content. I\\'d love to hear Valenti\\'s explaination at how seeing two women in a tender love scene in \"Lost and Delirious\" is somehow more damaging to a young mind than Arnold Schwarzenegger blowing away people with a chain gun. It just isn\\'t fair.<br /><br />What makes \"Dressed to Kill\" so good is that not only are the technical credits first rate, but the performances are very good as well. Michael Caine, who was in a lot of crap in this time period, gives one of his best performances as the doctor. Angie Dickinson is better than usual, possibly because she actually has a strong role here. Nancy Allen adds this to her range of performances that has her pegged as one of the most underrated and overlooked actresses in the world. Keith Gordon is wonderful as the genius and i loved all those inventions of his.<br /><br />DePalma is one of our best directors who has never received the recognition he deserved. The recent joke of the AFI 100 Best Thrillers list showed that very few people actually know what a thriller is. If they were to actually open their eyes for once, they would see that DePalma has staked his career in thrillers and is actually the best craftsman. This is even better than \"Psycho\". It\\'s a shame that very few actually know that.<br /><br />**** out of 4 stars']\n"
          ]
        }
      ]
    },
    {
      "cell_type": "markdown",
      "source": [
        "### 2.2. Pre-processing"
      ],
      "metadata": {
        "id": "bmEWej3C24FC"
      }
    },
    {
      "cell_type": "markdown",
      "source": [
        "Input data must be processed:\n",
        "```markdown\n",
        "Tensor(['The film was ....'])\n",
        "Tensor(['I see this movie ...'])\n",
        ". . .\n",
        "```\n",
        "Each tensor is composed of a sentence (and not an entire movie review). So, for one review, several tensors can be generated. It is assumed that each sentence carries a context/meaning. A sentence is defined here as a series of words ending by a `. `, a `? ` or a ' ! `."
      ],
      "metadata": {
        "id": "t7dr6A2lWIJS"
      }
    },
    {
      "cell_type": "code",
      "source": [
        "if device == \"GPU\":\n",
        "  punctuation_to_remove = escape(string.punctuation).replace('.', '').replace('?', '').replace('!', '')"
      ],
      "metadata": {
        "id": "2HK0RxBRxaKr"
      },
      "execution_count": 8,
      "outputs": []
    },
    {
      "cell_type": "markdown",
      "source": [
        "The 50 most frequent words in the dataset are also removed. This list of words comes from the Jupyter Notebook [02_classfication_text.ipynb](https://github.com/Benjamin-morel/TensorFlow/tree/main). These words are removed because they carry a little meaning and increase the size of the model's input vectors:\n",
        "\n",
        "```markdown\n",
        "The dog barked loudly --> dog barked loudly --> ['dog', 'barked', 'loudly']\n",
        "```"
      ],
      "metadata": {
        "id": "Hcbf6V3WQNkC"
      }
    },
    {
      "cell_type": "code",
      "source": [
        "if device == \"GPU\":\n",
        "  token_common = [' the ', ' and ', ' a ', ' of ', ' to ', ' is ', ' in ', ' it ', ' i ', ' this ', ' that ', ' br ', ' was ', ' as ', ' with ', ' for ',\n",
        "                  ' you ', ' on ', ' are ', ' one ', ' be ', ' he ', ' its ', ' have ', ' an ', ' by ', ' at ', ' all ', ' from ', ' who ', ' so ',\n",
        "                  ' they ', ' her ', ' just ', ' some ', ' out ', ' about ', ' or ', ' s ', ' if ', '  c  ', ' there ', ' were ', ' would ', ' had ', ' it ', ' we ']"
      ],
      "metadata": {
        "id": "ZCDiZgqznO3T"
      },
      "execution_count": 9,
      "outputs": []
    },
    {
      "cell_type": "code",
      "source": [
        "def custom_standardization_for_skip_gram(input_text):\n",
        "  text_modified = tf.strings.lower(input_text) # upper cases --> lower cases\n",
        "  text_modified = tf.strings.regex_replace(text_modified, '<br />', ' ') # remove HTML strings\n",
        "  for i in range(len(token_common)):\n",
        "    text_modified = tf.strings.regex_replace(text_modified, token_common[i], ' ') # remove frequent words\n",
        "  text_modified = tf.strings.regex_replace(text_modified, '[%s]' % punctuation_to_remove, '') # remove punctuation\n",
        "  return text_modified"
      ],
      "metadata": {
        "id": "WYbUfk3h31Ow"
      },
      "execution_count": 10,
      "outputs": []
    },
    {
      "cell_type": "markdown",
      "source": [
        "An example of a pre-processed movie review is displayed. Only the punctuation elements `.`, `?` and `!` are retained."
      ],
      "metadata": {
        "id": "mAILGsdpNw5e"
      }
    },
    {
      "cell_type": "code",
      "source": [
        "if device == \"GPU\":\n",
        "  all_texts_processed = all_texts.map(lambda x: custom_standardization_for_skip_gram(x))\n",
        "  for text in all_texts_processed.take(1):\n",
        "    print(\"Here is the result of the transformation: \\n\", text.numpy())"
      ],
      "metadata": {
        "id": "wS7XzSSMxj15"
      },
      "execution_count": 11,
      "outputs": []
    },
    {
      "cell_type": "markdown",
      "source": [
        "From these pre-processed texts, the sentences are separated and isolated into tensors."
      ],
      "metadata": {
        "id": "rQ3DJ4c6SJfA"
      }
    },
    {
      "cell_type": "code",
      "source": [
        "def split_sentences(text):\n",
        "  text =  tf.strings.split(text, '. ')\n",
        "  text =  tf.strings.split(text, '? ')\n",
        "  text =  tf.strings.split(text, '! ')\n",
        "  return text"
      ],
      "metadata": {
        "id": "d-xpMZykxvWQ"
      },
      "execution_count": 12,
      "outputs": []
    },
    {
      "cell_type": "code",
      "source": [
        "if device == \"GPU\":\n",
        "  all_texts_processed_sentences = all_texts_processed.map(lambda x: split_sentences(x))"
      ],
      "metadata": {
        "id": "AvwZTQq5-RCB"
      },
      "execution_count": 13,
      "outputs": []
    },
    {
      "cell_type": "markdown",
      "source": [
        "Finally, the tensors contained in `train_ds` - with variable size - are converted into individual scalar tensors."
      ],
      "metadata": {
        "id": "giPPN4gmULcU"
      }
    },
    {
      "cell_type": "code",
      "source": [
        "def split_ragged_tensor(ragged_tensor):\n",
        "  flat_values = ragged_tensor.flat_values\n",
        "  return tf.data.Dataset.from_tensor_slices(flat_values)"
      ],
      "metadata": {
        "id": "4OqamkAlyKxb"
      },
      "execution_count": 14,
      "outputs": []
    },
    {
      "cell_type": "code",
      "source": [
        "if device == \"GPU\":\n",
        "  all_texts_processed_sentences = all_texts_processed_sentences.flat_map(split_ragged_tensor)\n",
        "  for text in all_texts_processed_sentences.take(5):\n",
        "    print(text.numpy())"
      ],
      "metadata": {
        "id": "cohL_W41-VC1"
      },
      "execution_count": 15,
      "outputs": []
    },
    {
      "cell_type": "markdown",
      "source": [
        "### 2.3. Vectorization"
      ],
      "metadata": {
        "id": "m5yFx-K027PG"
      }
    },
    {
      "cell_type": "markdown",
      "source": [
        "A maximum of n tokens (default: 20) are generated for each sentence and then vectorized."
      ],
      "metadata": {
        "id": "gO0xPfviSlL2"
      }
    },
    {
      "cell_type": "code",
      "source": [
        "vectorize_layer = tf.keras.layers.TextVectorization(standardize=None, # already done\n",
        "                                                    max_tokens=max_features,\n",
        "                                                    output_mode='int',\n",
        "                                                    output_sequence_length=max_length)"
      ],
      "metadata": {
        "id": "JKsOEFqVWFBL"
      },
      "execution_count": 16,
      "outputs": []
    },
    {
      "cell_type": "code",
      "source": [
        "if device == \"GPU\":\n",
        "  vectorize_layer.adapt(all_texts_processed_sentences.batch(batch_size=1024))\n",
        "  skip_gram_data = all_texts_processed_sentences.map(vectorize_layer)"
      ],
      "metadata": {
        "id": "PvXHQq58-fER"
      },
      "execution_count": 17,
      "outputs": []
    },
    {
      "cell_type": "code",
      "source": [
        "if device == \"GPU\":\n",
        "  word_list = vectorize_layer.get_vocabulary()\n",
        "  int_list = list(skip_gram_data.as_numpy_iterator())\n",
        "\n",
        "  with open(\"word_list\", \"wb\") as fp:   #Pickling\n",
        "    pickle.dump(word_list, fp)\n",
        "\n",
        "  for seq in int_list[:5]:\n",
        "    print(f\"{seq} => {[word_list[i] for i in seq]}\")"
      ],
      "metadata": {
        "collapsed": true,
        "id": "mVYcxH6OznQJ"
      },
      "execution_count": 18,
      "outputs": []
    },
    {
      "cell_type": "markdown",
      "source": [
        "---\n",
        "\n",
        "\n",
        "## **3. Embedding word space construction**"
      ],
      "metadata": {
        "id": "shZUw7pEXayn"
      }
    },
    {
      "cell_type": "markdown",
      "source": [
        "### 3.1. Skip-gram pair generation"
      ],
      "metadata": {
        "id": "HPnGyRw02_lC"
      }
    },
    {
      "cell_type": "markdown",
      "source": [
        "Generates skip-gram pairs with negative sampling for a list of sequences (int-encoded sentences) based on window size, number of negative samples and vocabulary size."
      ],
      "metadata": {
        "id": "kbDFjB9AX9nR"
      }
    },
    {
      "cell_type": "code",
      "source": [
        "def generate_training_data(sequences, window_size, num_ns, vocab_size, seed):\n",
        "  targets, contexts, labels = [], [], []\n",
        "\n",
        "  sampling_table = tf.keras.preprocessing.sequence.make_sampling_table(vocab_size) # Build the sampling table for `vocab_size` tokens.\n",
        "\n",
        "  for sequence in sequences: # Iterate over all sequences (sentences) in the dataset\n",
        "\n",
        "    positive_skip_grams, _ = tf.keras.preprocessing.sequence.skipgrams(sequence,\n",
        "                                                                       vocabulary_size=vocab_size,\n",
        "                                                                       sampling_table=sampling_table,\n",
        "                                                                       window_size=window_size,\n",
        "                                                                       negative_samples=0) # Generate positive skip-gram pairs for a sequence (sentence)\n",
        "\n",
        "    for target_word, context_word in positive_skip_grams: # Iterate over each positive skip-gram pair to produce training examples with a positive context word and negative samples.\n",
        "\n",
        "      context_class = tf.expand_dims(tf.constant([context_word], dtype=\"int64\"), 1)\n",
        "\n",
        "      negative_sampling_candidates, _, _ = tf.random.log_uniform_candidate_sampler(true_classes=context_class,\n",
        "                                                                                   num_true=1,\n",
        "                                                                                   num_sampled=num_ns,\n",
        "                                                                                   unique=True,\n",
        "                                                                                   range_max=vocab_size,\n",
        "                                                                                   seed=seed,\n",
        "                                                                                   name=\"negative_sampling\")\n",
        "\n",
        "\n",
        "      context = tf.concat([tf.squeeze(context_class,1), negative_sampling_candidates], 0) # Build context and label vectors (for one target word)\n",
        "      label = tf.constant([1] + [0]*num_ns, dtype=\"int64\")\n",
        "\n",
        "      targets.append(target_word) # Append each element from the training example to global lists.\n",
        "      contexts.append(context)\n",
        "      labels.append(label)\n",
        "\n",
        "  return targets, contexts, labels"
      ],
      "metadata": {
        "id": "QA4gyGLV3qak"
      },
      "execution_count": 19,
      "outputs": []
    },
    {
      "cell_type": "code",
      "source": [
        "if device == \"GPU\":\n",
        "  targets, contexts, labels = generate_training_data(sequences=int_list,\n",
        "                                                     window_size=2,\n",
        "                                                     num_ns=4,\n",
        "                                                     vocab_size=max_features,\n",
        "                                                     seed=1)\n",
        "\n",
        "  targets = np.array(targets)\n",
        "  contexts = np.array(contexts)\n",
        "  labels = np.array(labels)\n",
        "\n",
        "  print(f\"targets.shape: {targets.shape}\")\n",
        "  print(f\"contexts.shape: {contexts.shape}\")\n",
        "  print(f\"labels.shape: {labels.shape}\")"
      ],
      "metadata": {
        "id": "T_fLkogA3-gF"
      },
      "execution_count": 20,
      "outputs": []
    },
    {
      "cell_type": "markdown",
      "source": [
        "### 3.2. Performances and batches"
      ],
      "metadata": {
        "id": "UgY7QoLBYBrf"
      }
    },
    {
      "cell_type": "code",
      "source": [
        "if device == \"GPU\":\n",
        "  batch_size = 1024\n",
        "  AUTOTUNE = tf.data.AUTOTUNE\n",
        "  dataset = tf.data.Dataset.from_tensor_slices(((targets, contexts), labels))\n",
        "  dataset = dataset.shuffle(len(targets)).batch(batch_size).repeat()\n",
        "\n",
        "  dataset = dataset.cache().prefetch(buffer_size=AUTOTUNE)"
      ],
      "metadata": {
        "id": "8NoVgzD-KC-S"
      },
      "execution_count": 21,
      "outputs": []
    },
    {
      "cell_type": "markdown",
      "source": [
        "### 3.3. Model definition"
      ],
      "metadata": {
        "id": "tiVadQe9YHMm"
      }
    },
    {
      "cell_type": "code",
      "source": [
        "@keras.utils.register_keras_serializable()\n",
        "class Word2Vec(tf.keras.Model):\n",
        "  def __init__(self, vocab_size, embedding_dim, **kwargs):\n",
        "    super(Word2Vec, self).__init__()\n",
        "    self.vocab_size = vocab_size\n",
        "    self.embedding_dim = embedding_dim\n",
        "    self.target_embedding = tf.keras.layers.Embedding(vocab_size,\n",
        "                                                      embedding_dim,\n",
        "                                                      name=\"w2v_embedding\")\n",
        "    self.context_embedding = tf.keras.layers.Embedding(vocab_size,\n",
        "                                                       embedding_dim)\n",
        "\n",
        "  def call(self, pair):\n",
        "    target, context = pair\n",
        "\n",
        "    if len(target.shape) == 2:\n",
        "      target = tf.squeeze(target, axis=1)\n",
        "\n",
        "    word_emb = self.target_embedding(target)\n",
        "    context_emb = self.context_embedding(context)\n",
        "    dots = tf.einsum('be,bce->bc', word_emb, context_emb)\n",
        "    return dots\n",
        "\n",
        "  def get_config(self): # define get_config to include vocab_size and embedding_dim\n",
        "    config = super(Word2Vec, self).get_config()\n",
        "    config.update({\"vocab_size\": self.vocab_size, \"embedding_dim\": self.embedding_dim})\n",
        "    return config\n",
        "\n",
        "  @classmethod\n",
        "  def from_config(cls, config): # define from_config to use vocab_size and embedding_dim\n",
        "      return cls(**config)"
      ],
      "metadata": {
        "id": "-Fmo3B7x4Ebi"
      },
      "execution_count": 22,
      "outputs": []
    },
    {
      "cell_type": "code",
      "source": [
        "def create_model(embedding_dim):\n",
        "  model = Word2Vec(max_features, embedding_dim)\n",
        "  model.compile(optimizer='adam',\n",
        "                loss=tf.keras.losses.CategoricalCrossentropy(from_logits=True),\n",
        "                metrics=None)\n",
        "  return model"
      ],
      "metadata": {
        "id": "_AUxMqyq9jq3"
      },
      "execution_count": 23,
      "outputs": []
    },
    {
      "cell_type": "markdown",
      "source": [
        "### 3.4. Training phase"
      ],
      "metadata": {
        "id": "_-D7FGkZYKg0"
      }
    },
    {
      "cell_type": "markdown",
      "source": [
        "This training generates a 16-dimensional embedding space where 2 similar words are close within this space."
      ],
      "metadata": {
        "id": "BArSRVERPh-e"
      }
    },
    {
      "cell_type": "code",
      "source": [
        "def train_model(model, training_data, steps_per_epoch, **kwargs):\n",
        "  kwargs.setdefault(\"epochs\", 15)\n",
        "  kwargs.setdefault(\"verbose\", 1)\n",
        "  log = model.fit(training_data, steps_per_epoch = steps_per_epoch, **kwargs)\n",
        "\n",
        "  return log.history[\"loss\"]"
      ],
      "metadata": {
        "id": "MmaQTLUD8bE0"
      },
      "execution_count": 24,
      "outputs": []
    },
    {
      "cell_type": "code",
      "source": [
        "if device == \"GPU\":\n",
        "  model = create_model(16)\n",
        "  steps_per_epoch = len(targets) // batch_size\n",
        "  history = train_model(model, dataset, steps_per_epoch)\n",
        "  model.save('07_word2vec.keras')\n",
        "else:\n",
        "  model, dictionary_embedding, vocab, classifier_model, word_list = get_github_files()"
      ],
      "metadata": {
        "colab": {
          "base_uri": "https://localhost:8080/"
        },
        "id": "WxdU_xWo-Fpk",
        "outputId": "7e18d21b-bfd3-4fdc-8be1-67b89480c856"
      },
      "execution_count": 25,
      "outputs": [
        {
          "output_type": "stream",
          "name": "stdout",
          "text": [
            "Cloning into 'TensorFlow_duplicata'...\n",
            "remote: Enumerating objects: 891, done.\u001b[K\n",
            "remote: Counting objects: 100% (193/193), done.\u001b[K\n",
            "remote: Compressing objects: 100% (57/57), done.\u001b[K\n",
            "remote: Total 891 (delta 181), reused 136 (delta 136), pack-reused 698 (from 3)\u001b[K\n",
            "Receiving objects: 100% (891/891), 194.54 MiB | 26.61 MiB/s, done.\n",
            "Resolving deltas: 100% (451/451), done.\n"
          ]
        }
      ]
    },
    {
      "cell_type": "markdown",
      "source": [
        "---\n",
        "\n",
        "\n",
        "## **4. Classification model and training**"
      ],
      "metadata": {
        "id": "jQVDTF20a9vD"
      }
    },
    {
      "cell_type": "markdown",
      "source": [
        "### 4.1. Pre-processing layer for classification model"
      ],
      "metadata": {
        "id": "VXKYegYQbEmU"
      }
    },
    {
      "cell_type": "markdown",
      "source": [
        "Now, the representation of words in vectors is used to classify texts."
      ],
      "metadata": {
        "id": "hTR84Vt1QM9b"
      }
    },
    {
      "cell_type": "code",
      "source": [
        "weights = model.get_layer('w2v_embedding').get_weights()[0]"
      ],
      "metadata": {
        "id": "EsQnN_yhbLEs"
      },
      "execution_count": 26,
      "outputs": []
    },
    {
      "cell_type": "code",
      "source": [
        "@keras.utils.register_keras_serializable()\n",
        "def custom_standardization_classification(input_text):\n",
        "  no_uppercase = tf.strings.lower(input_text) # upper case --> lower case letters\n",
        "  no_html_uppercase = tf.strings.regex_replace(no_uppercase, '<br />', ' ') # remove HTML strings\n",
        "  no_punctuation_html_uppercase = tf.strings.regex_replace(no_html_uppercase, '[%s]' % escape(string.punctuation), '') # remove punctuation\n",
        "  return no_punctuation_html_uppercase"
      ],
      "metadata": {
        "id": "L9ysUj4JbPOb"
      },
      "execution_count": 27,
      "outputs": []
    },
    {
      "cell_type": "code",
      "source": [
        "raw_train_ds = raw_train_ds.map(lambda x, y: (custom_standardization_classification(x), y))\n",
        "raw_test_ds = raw_test_ds.map(lambda x, y: (custom_standardization_classification(x), y))\n",
        "raw_val_ds = raw_val_ds.map(lambda x, y: (custom_standardization_classification(x), y))"
      ],
      "metadata": {
        "id": "3tGceeJhbTyd"
      },
      "execution_count": 28,
      "outputs": []
    },
    {
      "cell_type": "code",
      "source": [
        "max_length = 500 # truncate to the 500th word\n",
        "\n",
        "vectorize_layer1 = keras.layers.TextVectorization(standardize=None,\n",
        "                                                 max_tokens=max_features,\n",
        "                                                 output_sequence_length=max_length,\n",
        "                                                 output_mode='int',\n",
        "                                                 vocabulary = word_list\n",
        "                                                 )"
      ],
      "metadata": {
        "id": "gyUkUs0AbXdC"
      },
      "execution_count": 29,
      "outputs": []
    },
    {
      "cell_type": "code",
      "source": [
        "AUTOTUNE = tf.data.AUTOTUNE\n",
        "\n",
        "raw_train_ds = raw_train_ds.cache().prefetch(buffer_size=AUTOTUNE)\n",
        "raw_test_ds = raw_test_ds.cache().prefetch(buffer_size=AUTOTUNE)\n",
        "raw_val_ds = raw_val_ds.cache().prefetch(buffer_size=AUTOTUNE)"
      ],
      "metadata": {
        "id": "7e6_fEX5bdv5"
      },
      "execution_count": 30,
      "outputs": []
    },
    {
      "cell_type": "markdown",
      "source": [
        "### 4.2. Classification model"
      ],
      "metadata": {
        "id": "MpvsmZXcbf-X"
      }
    },
    {
      "cell_type": "code",
      "source": [
        "custom_embedding_layer = keras.Sequential([keras.layers.Embedding(input_dim = max_features, output_dim = 16, embeddings_initializer=keras.initializers.Constant(weights))])"
      ],
      "metadata": {
        "id": "8sPG9_jCbj49"
      },
      "execution_count": 31,
      "outputs": []
    },
    {
      "cell_type": "code",
      "source": [
        "custom_embedding_layer.trainable = False"
      ],
      "metadata": {
        "id": "Pm68bjsObl6v"
      },
      "execution_count": 32,
      "outputs": []
    },
    {
      "cell_type": "code",
      "source": [
        "def create_classifier():\n",
        "  embedding_dim = 16\n",
        "  model = keras.Sequential([vectorize_layer1, # pre-processing layer\n",
        "                            custom_embedding_layer,\n",
        "                            keras.layers.Dropout(0.2),\n",
        "                            keras.layers.Dense(16, activation='relu'),\n",
        "                            keras.layers.GlobalAveragePooling1D(),\n",
        "                            keras.layers.Dropout(0.2),\n",
        "                            keras.layers.Dense(1, activation='sigmoid')\n",
        "                            ], name=\"classification_text_model\")\n",
        "\n",
        "  model.compile(loss=keras.losses.BinaryCrossentropy(from_logits=False),\n",
        "                optimizer=keras.optimizers.Adam(learning_rate=0.001),\n",
        "                metrics=[tf.metrics.BinaryAccuracy(name=\"binary_accuracy\", threshold=0.5)])\n",
        "\n",
        "  return model"
      ],
      "metadata": {
        "id": "o91K6dGRbttb"
      },
      "execution_count": 33,
      "outputs": []
    },
    {
      "cell_type": "code",
      "source": [
        "def train_classifier(model, training_data, validation_data, callbacks, **kwargs):\n",
        "  kwargs.setdefault(\"epochs\", 5)\n",
        "  kwargs.setdefault(\"verbose\", 1)\n",
        "  log = model.fit(training_data, validation_data=validation_data, callbacks=callbacks, **kwargs)\n",
        "\n",
        "  return log.history[\"loss\"], log.history[\"binary_accuracy\"], log.history[\"val_loss\"], log.history[\"val_binary_accuracy\"]"
      ],
      "metadata": {
        "id": "-ShwqBsOb5Dd"
      },
      "execution_count": 34,
      "outputs": []
    },
    {
      "cell_type": "code",
      "source": [
        "if device == \"GPU\":\n",
        "  stop_early = keras.callbacks.EarlyStopping(monitor='val_binary_accuracy',\n",
        "                                            patience=20,\n",
        "                                            restore_best_weights=True,\n",
        "                                            min_delta=0.001)"
      ],
      "metadata": {
        "id": "r03OvT0zuBxZ"
      },
      "execution_count": 35,
      "outputs": []
    },
    {
      "cell_type": "code",
      "source": [
        "if device == \"GPU\":\n",
        "  epochs = 100\n",
        "  classifier_model = create_classifier()\n",
        "  classifier_accuracy = train_classifier(classifier_model, raw_train_ds, raw_val_ds, callbacks=stop_early, epochs=epochs)\n",
        "  print(\"Accuracy max %0.1f %% reached at the epoch %d\" %(100*max(classifier_accuracy[3]), np.argmax(classifier_accuracy[3])+1))\n",
        "  classifier_model.save('07_classification_text.keras')"
      ],
      "metadata": {
        "id": "aI4QvL6avN-T"
      },
      "execution_count": 36,
      "outputs": []
    },
    {
      "cell_type": "markdown",
      "source": [
        "### 4.3. Evaluation and predictions"
      ],
      "metadata": {
        "id": "B_NpeYlfcWR5"
      }
    },
    {
      "cell_type": "code",
      "source": [
        "def get_predictions(dataset):\n",
        "  loss_test, accuracy_test = classifier_model.evaluate(dataset, verbose=0)\n",
        "  predictions = classifier_model.predict(dataset, verbose=0)\n",
        "  print(\"Test loss value %0.1f \\nTest accuracy: %0.1f %%\" %(loss_test, 100*accuracy_test))\n",
        "  return predictions"
      ],
      "metadata": {
        "id": "pWv3x_2tO6L4"
      },
      "execution_count": 37,
      "outputs": []
    },
    {
      "cell_type": "code",
      "source": [
        "predictions = get_predictions(raw_test_ds)"
      ],
      "metadata": {
        "colab": {
          "base_uri": "https://localhost:8080/"
        },
        "id": "YpbdyqG2O_N6",
        "outputId": "dd097169-f878-4f2a-d7b8-fbe8eded5b1a"
      },
      "execution_count": 38,
      "outputs": [
        {
          "output_type": "stream",
          "name": "stdout",
          "text": [
            "Test loss value 0.5 \n",
            "Test accuracy: 80.2 %\n"
          ]
        }
      ]
    },
    {
      "cell_type": "code",
      "source": [
        "plot_evaluation(raw_test_ds, predictions)"
      ],
      "metadata": {
        "colab": {
          "base_uri": "https://localhost:8080/",
          "height": 591
        },
        "id": "eXDOnty4PUxd",
        "outputId": "b9a9fb57-63a0-4a95-e05e-51b99b699335"
      },
      "execution_count": 39,
      "outputs": [
        {
          "output_type": "stream",
          "name": "stdout",
          "text": [
            "############################\n",
            "Evaluation on the test set: \n",
            "############################\n",
            "Accuracy...0.8019\n",
            "Recall.....0.8890\n",
            "F1-score...0.8178\n"
          ]
        },
        {
          "output_type": "display_data",
          "data": {
            "text/plain": [
              "<Figure size 1200x500 with 2 Axes>"
            ],
            "image/png": "[encoded data removed]"
          },
          "metadata": {}
        }
      ]
    },
    {
      "cell_type": "markdown",
      "source": [
        "---\n",
        "\n",
        "\n",
        "## **5. Embedding space exploration**"
      ],
      "metadata": {
        "id": "O2ayOZiwYfeN"
      }
    },
    {
      "cell_type": "markdown",
      "source": [
        "### 5.1. Embedding dictionary"
      ],
      "metadata": {
        "id": "h2ApzsXuYoie"
      }
    },
    {
      "cell_type": "code",
      "source": [
        "if device == \"GPU\":\n",
        "  vocab = vectorize_layer.get_vocabulary()\n",
        "  dictionary_embedding = {vocab[i]:weights[i] for i in range(len(vocab))} # build the embedding dictionary\n",
        "\n",
        "  with open('vocab.pkl', 'wb') as f:\n",
        "    pickle.dump(vocab, f)\n",
        "\n",
        "  with open('dictionary_embedding.pkl', 'wb') as f:\n",
        "    pickle.dump(dictionary_embedding, f)"
      ],
      "metadata": {
        "id": "KEAQX3iF4NDi"
      },
      "execution_count": 40,
      "outputs": []
    },
    {
      "cell_type": "code",
      "source": [
        "dictionary_embedding[\"money\"]"
      ],
      "metadata": {
        "id": "UF-ehK1Lie7m",
        "colab": {
          "base_uri": "https://localhost:8080/"
        },
        "outputId": "aa5a41c7-1afe-4e1b-a1ff-36e8b343a851"
      },
      "execution_count": 41,
      "outputs": [
        {
          "output_type": "execute_result",
          "data": {
            "text/plain": [
              "array([-0.4511153 , -0.1555667 , -0.16605273, -0.06758016,  0.32298324,\n",
              "       -0.34737492, -0.2298189 , -0.04030469, -0.76292896,  0.18483113,\n",
              "        0.1460447 , -0.1714578 , -0.37093538, -0.7198567 , -0.25342757,\n",
              "        0.20178515], dtype=float32)"
            ]
          },
          "metadata": {},
          "execution_count": 41
        }
      ]
    },
    {
      "cell_type": "markdown",
      "source": [
        "### 5.2. Similarities and analogies"
      ],
      "metadata": {
        "id": "jkHFz7FSYv5R"
      }
    },
    {
      "cell_type": "code",
      "source": [
        "# get the distance between two elements in the embedding space\n",
        "\n",
        "def get_distance(token1, token2):\n",
        "  p1 = dictionary_embedding[token1]\n",
        "  p2 = dictionary_embedding[token2]\n",
        "  distance = np.linalg.norm(p2-p1)\n",
        "  return distance\n",
        "\n",
        "# get the cosinus similarity between two elements in the embedding space\n",
        "\n",
        "def get_cosinus_similarity(token1, token2):\n",
        "  p1 = dictionary_embedding[token1]\n",
        "  p2 = dictionary_embedding[token2]\n",
        "  dot_product = np.dot(p1, p2)\n",
        "  magnitude_1 = np.linalg.norm(p1)\n",
        "  magnitude_2 = np.linalg.norm(p2)\n",
        "  cosine_sim = dot_product / (magnitude_1 * magnitude_2)\n",
        "  return cosine_sim"
      ],
      "metadata": {
        "id": "D32RiQSyihOX"
      },
      "execution_count": 42,
      "outputs": []
    },
    {
      "cell_type": "code",
      "source": [
        "# get elements closest to a specific element in the embedding space\n",
        "\n",
        "def get_synomym(token, n, used_distance=True):\n",
        "  p1 = dictionary_embedding[token]\n",
        "  candidate_list = {} # stores n synonyms\n",
        "  for i in range(1, len(vocab)): # only the first 1000 words of the embedding dictionary are searched\n",
        "    token_candidate = vocab[i]\n",
        "    if used_distance == True: candidate_list[token_candidate] = get_distance(token, token_candidate)\n",
        "    else: candidate_list[token_candidate] = get_cosinus_similarity(token, token_candidate)\n",
        "\n",
        "  sorted_items = sorted(candidate_list.items(), key=lambda item: item[1])\n",
        "\n",
        "  if used_distance == True: synonym_list = sorted_items[1:n+1]\n",
        "  else: synonym_list = sorted_items[-(n+1):-1]\n",
        "  words = [(item[0], item[1]) for item in synonym_list]\n",
        "  return print(words)"
      ],
      "metadata": {
        "id": "FNWrbXIUiuI7"
      },
      "execution_count": 43,
      "outputs": []
    },
    {
      "cell_type": "code",
      "source": [
        "word = \"terrible\"\n",
        "nb = 10\n",
        "get_synomym(word, nb, used_distance=False)"
      ],
      "metadata": {
        "id": "8sUp8U2FiwUP",
        "colab": {
          "base_uri": "https://localhost:8080/"
        },
        "outputId": "25864588-dbce-48b8-aca0-760812b8d96c"
      },
      "execution_count": 44,
      "outputs": [
        {
          "output_type": "stream",
          "name": "stdout",
          "text": [
            "[('pointless', 0.8044394), ('ludicrous', 0.8148322), ('totally', 0.8178258), ('laughable', 0.8416559), ('appalling', 0.85137874), ('abysmal', 0.8675813), ('dreadful', 0.8718299), ('horrendous', 0.8805921), ('horrible', 0.90182066), ('awful', 0.9120636)]\n"
          ]
        }
      ]
    },
    {
      "cell_type": "code",
      "source": [
        "def get_analogy(vector, n):\n",
        "  candidate_list = {} # stores n synonyms\n",
        "  for i in range(1, len(vocab)):\n",
        "    token_candidate = vocab[i]\n",
        "    vector_candidate = dictionary_embedding[token_candidate]\n",
        "    candidate_list[token_candidate] = sum(abs(vector - vector_candidate))\n",
        "\n",
        "  sorted_items = sorted(candidate_list.items(), key=lambda item: item[1])\n",
        "  synonym_list = sorted_items[0:n]\n",
        "  words = [item[0] for item in synonym_list]\n",
        "  print(words)"
      ],
      "metadata": {
        "id": "FlzOsPSGRUmY"
      },
      "execution_count": 45,
      "outputs": []
    },
    {
      "cell_type": "code",
      "source": [
        "analogy = dictionary_embedding[\"funny\"] - dictionary_embedding[\"nice\"] + dictionary_embedding[\"terrible\"]\n",
        "get_analogy(analogy, 5)"
      ],
      "metadata": {
        "id": "TvO-QKgeRWPa",
        "colab": {
          "base_uri": "https://localhost:8080/"
        },
        "outputId": "ba54eeb2-d1b6-410e-9c83-cca8f769d07b"
      },
      "execution_count": 46,
      "outputs": [
        {
          "output_type": "stream",
          "name": "stdout",
          "text": [
            "['pointless', 'offensive', 'boring', 'depressing', 'terrible']\n"
          ]
        }
      ]
    },
    {
      "cell_type": "markdown",
      "source": [
        "---\n",
        "\n",
        "\n",
        "## **6. References**\n",
        "\n",
        "| | | | | |\n",
        "|------|------|------|------|------|\n",
        "| Index | Title | Author(s) | Type | Comments |\n",
        "|[[1]](https://aclanthology.org/P11-1015.pdf) | IMDB dataset | Andrew L. Maas & al | dataset & paper | - |\n",
        "|[[2]](https://www.tensorflow.org/tutorials/keras/text_classification) | Basic text classification | TensorFlow | dataset | - |\n",
        "|[[3]](https://www.tensorflow.org/guide/data_performance) | Better performance with the tf.data API | TensorFlow | Tutoriels | - |\n",
        "|[[4]](https://www.cs.toronto.edu/~lczhang/360/lec/w05/w2v.html) | Word2Vec and GloVe Vectors | Toronto university | website | - |"
      ],
      "metadata": {
        "id": "iA4CnxdVY7OH"
      }
    },
    {
      "cell_type": "code",
      "source": [
        "print(\"Notebook run in %.1f seconds on %s\" % ((time() - start), tf.config.list_physical_devices(device_type=None)[-1][-1]))"
      ],
      "metadata": {
        "colab": {
          "base_uri": "https://localhost:8080/"
        },
        "id": "xgIFhnxO4bxT",
        "outputId": "d9e14c9f-e517-4d04-a266-72e49e049651"
      },
      "execution_count": 47,
      "outputs": [
        {
          "output_type": "stream",
          "name": "stdout",
          "text": [
            "Notebook run in 73.2 seconds on CPU\n"
          ]
        }
      ]
    }
  ]
}