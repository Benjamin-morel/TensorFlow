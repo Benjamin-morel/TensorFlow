{
  "nbformat": 4,
  "nbformat_minor": 0,
  "metadata": {
    "colab": {
      "provenance": [],
      "authorship_tag": "ABX9TyOf660TT7sNpWmCtL/ewyS6",
      "include_colab_link": true
    },
    "kernelspec": {
      "name": "python3",
      "display_name": "Python 3"
    },
    "language_info": {
      "name": "python"
    }
  },
  "cells": [
    {
      "cell_type": "markdown",
      "metadata": {
        "id": "view-in-github",
        "colab_type": "text"
      },
      "source": [
        "<a href=\"https://colab.research.google.com/github/Benjamin-morel/TensorFlow/blob/main/07_%5BNLP%5D_word2vec.ipynb\" target=\"_parent\"><img src=\"https://colab.research.google.com/assets/colab-badge.svg\" alt=\"Open In Colab\"/></a>"
      ]
    },
    {
      "cell_type": "markdown",
      "source": [
        "---\n",
        "\n",
        "\n",
        "# **Machine Learning Model: word2vec and skip-gram**\n",
        "\n",
        "| | |\n",
        "|------|------|\n",
        "| Filename | 07_[NLP]_word2vec.ipynb |\n",
        "| Author(s) | Benjamin (contact.upside830@silomails.com) |\n",
        "| Date | January 26, 2024 |\n",
        "| Aim(s) | build a word embedding space with the skip-gram method |\n",
        "| Dataset(s) | IMDb Movie Reviews dataset [[1]](https://aclanthology.org/P11-1015.pdf)|\n",
        "| Version | Python 3.10.12 - TensorFlow 2.17.1 |\n",
        "\n",
        "\n",
        "<br> **!!Read before running!!** <br>\n",
        "* **Step 1.** Fill in the inputs.\n",
        "* **Step 2.** GPU execution is recommended for training. Yet, a pre-trained model can be used by running this notebook on a CPU. Using a pre-trained model saves time, computer resources and CO2 emissions.\n",
        "* **Step 3.** Run all and read comments.\n",
        "\n",
        "---\n",
        "\n",
        "#### **Motivation**\n",
        "\n",
        "With the IMDb dataset used in code [02_classfication_text.ipynb](https://github.com/Benjamin-morel/TensorFlow/tree/main), the model is trained using a word2vec technique and model's weights are then used to construct a word embedding space.  \n",
        "\n",
        "#### **Outline**\n",
        "\n",
        "*   Input section\n",
        "*   Python librairies & display utilities\n",
        "*   Data retrieval & set generation\n",
        "*   Embedding word space construction\n",
        "*   Classification model & training\n",
        "*   Embedding space exploration\n",
        "*   References\n",
        "\n",
        "---"
      ],
      "metadata": {
        "id": "IKO5J-_-Vj3U"
      }
    },
    {
      "cell_type": "markdown",
      "source": [
        "## **0. Input section**"
      ],
      "metadata": {
        "id": "an7V4rZe30MH"
      }
    },
    {
      "cell_type": "code",
      "source": [
        "max_features = 5000\n",
        "max_length = 20"
      ],
      "metadata": {
        "id": "JvszvjSG37h-"
      },
      "execution_count": 1,
      "outputs": []
    },
    {
      "cell_type": "markdown",
      "source": [
        "\n",
        "---\n",
        "\n",
        "## **1. Python librairies & display utilities**"
      ],
      "metadata": {
        "id": "iOr8jVUqvebl"
      }
    },
    {
      "cell_type": "code",
      "source": [
        "# @title 1.1. Python librairies [RUN ME]\n",
        "\n",
        "\"\"\"math\"\"\"\n",
        "import numpy as np # linear algebra\n",
        "import sklearn.metrics # scores and evaluation metrics\n",
        "\n",
        "\"\"\"file opening and pre-processing\"\"\"\n",
        "import os # miscellaneous operating system interfaces\n",
        "import pandas as pd # data manipulation tool\n",
        "from re import escape # regular expressions\n",
        "import string # string manipulation\n",
        "import shutil # operations on files\n",
        "\n",
        "\"\"\"ML models\"\"\"\n",
        "import tensorflow as tf # framework for ML/DL\n",
        "from tensorflow import keras # API used to build model in TensorFlow\n",
        "\n",
        "\"\"\"display and export\"\"\"\n",
        "import matplotlib.pyplot as plt # graphing package\n",
        "import pickle # serialization\n",
        "\n",
        "\"\"\"performances\"\"\"\n",
        "from time import time # timer\n",
        "start = time()\n",
        "device = tf.config.list_physical_devices(device_type=None)[-1][-1]"
      ],
      "metadata": {
        "cellView": "form",
        "id": "Rc2oQxKkvr-C"
      },
      "execution_count": 2,
      "outputs": []
    },
    {
      "cell_type": "code",
      "source": [
        "# @title 1.2. Import Github files [RUN ME]\n",
        "\n",
        "\"\"\"clone the Github repertory TensorFlow and imports the files required (see section 3.2)\"\"\"\n",
        "def get_github_files():\n",
        "  !git clone https://github.com/Benjamin-morel/TensorFlow.git TensorFlow_duplicata\n",
        "  path_model = 'TensorFlow_duplicata/99_pre_trained_models/07_word2vec/07_word2vec.keras'\n",
        "  path_classifier = 'TensorFlow_duplicata/99_pre_trained_models/07_word2vec/07_classification_text.keras'\n",
        "  path_dictionary = 'TensorFlow_duplicata/99_pre_trained_models/07_word2vec/dictionary_embedding.pkl'\n",
        "  path_vocab = 'TensorFlow_duplicata/99_pre_trained_models/07_word2vec/vocab.pkl'\n",
        "  path_word_list = 'TensorFlow_duplicata/99_pre_trained_models/07_word2vec/word_list'\n",
        "\n",
        "  model = keras.models.load_model(path_model, custom_objects={'Word2Vec': Word2Vec})\n",
        "  classifier = keras.models.load_model(path_classifier)\n",
        "  with open(path_dictionary, 'rb') as f:\n",
        "    dictionary = pickle.load(f)\n",
        "  with open(path_vocab, 'rb') as f:\n",
        "    vocab = pickle.load(f)\n",
        "  with open(path_word_list, 'rb') as fp:\n",
        "    word_list = pickle.load(fp)\n",
        "\n",
        "  !rm -rf TensorFlow_duplicata/\n",
        "  return model, dictionary, vocab, classifier, word_list"
      ],
      "metadata": {
        "id": "hJrHq8awwNgH"
      },
      "execution_count": 3,
      "outputs": []
    },
    {
      "cell_type": "code",
      "source": [
        "# @title 1.3. Figure plots [RUN ME]\n",
        "\n",
        "\"\"\"plot confusion matrix and ROC curve\"\"\"\n",
        "def plot_evaluation(test_dataset, predictions, labels=[0,1]):\n",
        "  actuals = tf.concat([y for x, y in test_dataset], axis=0)\n",
        "  predicted_labels = np.round(predictions, 0)\n",
        "\n",
        "  plt.figure(figsize=(12,5))\n",
        "\n",
        "  confusion_mat = tf.math.confusion_matrix(actuals,predicted_labels) # columns = prediction labels / rows = real labels\n",
        "\n",
        "  # Subplot 1: Confusion matrix\n",
        "  plt.subplot(1,2,1, xlabel=\"Predictions\", ylabel=\"Actuals\", title=\"Confusion matrix of the test set\", xticks=[0,1], yticks=[0,1])\n",
        "  plt.imshow(confusion_mat)\n",
        "\n",
        "  for i in range(confusion_mat.shape[0]): # annotation in each cnfusion matrix cell\n",
        "      for j in range(confusion_mat.shape[1]):\n",
        "          plt.text(x=j, y=i,s=int(confusion_mat[i, j]), va='center', ha='center', size='large')\n",
        "\n",
        "  # Subplot 2: ROC curve\n",
        "  fpr, tpr, _ = sklearn.metrics.roc_curve(actuals,  predictions.ravel())\n",
        "  plt.subplot(1,2,2, xlabel=\"FPR\", ylabel=\"TPR\", title=\"ROC curve\")\n",
        "  plt.plot(fpr, tpr)\n",
        "\n",
        "  # Metrics info\n",
        "  accuracy = sklearn.metrics.accuracy_score(actuals, predicted_labels)\n",
        "  recall = sklearn.metrics.recall_score(actuals, predicted_labels)\n",
        "  F1_score = sklearn.metrics.f1_score(actuals, predicted_labels)\n",
        "\n",
        "  print(\"############################\")\n",
        "  print(\"Evaluation on the test set: \")\n",
        "  print(\"############################\")\n",
        "  print(\"Accuracy...{:.4f}\" .format(accuracy))\n",
        "  print(\"Recall.....{:.4f}\" .format(recall))\n",
        "  print(\"F1-score...{:.4f}\" .format(F1_score))\n",
        "\n",
        "  plt.show()"
      ],
      "metadata": {
        "cellView": "form",
        "id": "CH0tm36GQlQ3"
      },
      "execution_count": 4,
      "outputs": []
    },
    {
      "cell_type": "markdown",
      "source": [
        "---\n",
        "\n",
        "\n",
        "## **2. Data retrieval and set generation**"
      ],
      "metadata": {
        "id": "vTJzD6Tv4Fca"
      }
    },
    {
      "cell_type": "markdown",
      "source": [
        "The skip-gram method is a word embedding technique used in Word2Vec to learn vector representations of words based on their surrounding context. It works by selecting a target word and predicting its context words within a given window size.\n",
        "\n",
        ">Example: \"This horror movie was so terrifying that I screamed!\"\n",
        "\n",
        ">Window = 1<br>\n",
        ">Target word: \"terrifying\": \"This horror movie was [**so terrifying that**] I screamed!\" <br>\n",
        ">Context words: \"so\" and \"that\"\n",
        "\n",
        "With a larger window to capture more context:\n",
        "\n",
        ">Window = 3 <br>\n",
        ">Target word: \"terrifying\": \"This horror [**movie was so terrifying that I screamed**]!\" <br>\n",
        ">Context words: \"movie\", \"was\", \"so\", \"that\", \"I\" and \"screamed\"\n",
        "\n",
        "Each word is converted to an integer and passed through a neural network with a single hidden layer. The model is trained to maximize the probability of context words given the target word, often using negative sampling to improve efficiency.\n",
        "\n",
        "After training, the hidden layer weights form a word embeddings space, where words are represented by a 16-dimensional embedding vector. Skip-gram is especially useful for capturing relationships between words.\n"
      ],
      "metadata": {
        "id": "DvEtr1KoFGLk"
      }
    },
    {
      "cell_type": "markdown",
      "source": [
        "### 2.1. Retrieve data"
      ],
      "metadata": {
        "id": "5k2EbRgE203B"
      }
    },
    {
      "cell_type": "markdown",
      "source": [
        "The IMDb Movie Reviews is a database created for sentiment analysis in movie reviews. It contains 50,000 movie reviews. The database is extracted and placed in the folder review_dataset. The architecture of review_dataset is as follows:\n",
        "\n",
        "```markdown\n",
        "**Imdb_dataset/**\n",
        ". . . aclImdb/\n",
        ". . . . . . train/\n",
        ". . . . . . test/\n",
        ". . . . . . README\n",
        ". . . . . . imdb.vocab\n",
        ". . . . . . imdbEr.text\n",
        "```\n",
        "\n",
        "Other files are included in the folder like `README` which provides information about the dataset and how to use it. Files `imdb.vocab` and `imdbEr.txt` contain additional information about errors, URL website and specific annotations.\n",
        "\n",
        "To train the model, the labels used to classify are not required."
      ],
      "metadata": {
        "id": "CCedTxGVU898"
      }
    },
    {
      "cell_type": "code",
      "source": [
        "def get_data(url, batch_size):\n",
        "\n",
        "  dataset_name = \"Imdb_dataset_1\"\n",
        "  path = tf.keras.utils.get_file(dataset_name, url, extract=True)\n",
        "  path = os.path.join(path, 'aclImdb')\n",
        "  train_path = os.path.join(path, 'train')\n",
        "  test_path = os.path.join(path, 'test')\n",
        "  remove_dir = os.path.join(train_path, 'unsup') # remove the folder with unlabeled reviews for unsupervised learning\n",
        "  shutil.rmtree(remove_dir)\n",
        "\n",
        "  # data used to build embedding word space with the skip-gram method\n",
        "  data_skip_gram = tf.keras.utils.text_dataset_from_directory(train_path, labels=None, batch_size=batch_size, validation_split=None, shuffle=True, seed=1, verbose=0)\n",
        "\n",
        "  # data for classification model (same as 02_classification_text.ipynb)\n",
        "  raw_train_ds = keras.utils.text_dataset_from_directory(train_path, batch_size=32, validation_split=0.2, subset='training', shuffle=True, seed=1)\n",
        "  raw_val_ds = keras.utils.text_dataset_from_directory(train_path, batch_size=32, validation_split=0.2, subset='validation', shuffle=True, seed=1)\n",
        "  raw_test_ds = keras.utils.text_dataset_from_directory(test_path, batch_size=32)\n",
        "\n",
        "  return data_skip_gram, raw_train_ds, raw_val_ds, raw_test_ds"
      ],
      "metadata": {
        "id": "6tyDasAh_ZyY"
      },
      "execution_count": 5,
      "outputs": []
    },
    {
      "cell_type": "code",
      "source": [
        "url = \"https://ai.stanford.edu/~amaas/data/sentiment/aclImdb_v1.tar.gz\"\n",
        "\n",
        "batch_size = 1\n",
        "\n",
        "all_texts, raw_train_ds, raw_val_ds, raw_test_ds = get_data(url, batch_size)"
      ],
      "metadata": {
        "id": "sVSYard4_kii",
        "colab": {
          "base_uri": "https://localhost:8080/"
        },
        "outputId": "5f27382b-748b-4fcf-9ff5-241cb1b8e8b0"
      },
      "execution_count": 6,
      "outputs": [
        {
          "output_type": "stream",
          "name": "stdout",
          "text": [
            "Found 25000 files belonging to 2 classes.\n",
            "Using 20000 files for training.\n",
            "Found 25000 files belonging to 2 classes.\n",
            "Using 5000 files for validation.\n",
            "Found 25000 files belonging to 2 classes.\n"
          ]
        }
      ]
    },
    {
      "cell_type": "markdown",
      "source": [
        "The batch size is 1 to facilitate pre-processing of texts. The variable `nb_text` is used to control the number of texts to be supplied to the model.\n",
        "\n"
      ],
      "metadata": {
        "id": "d5rIxD1iGh-q"
      }
    },
    {
      "cell_type": "code",
      "source": [
        "for text in all_texts.take(1):\n",
        "  print(\"Here, an example of text data used for the skip-gram method: \\n\", text.numpy())"
      ],
      "metadata": {
        "id": "K9xSdAZOT2JD",
        "colab": {
          "base_uri": "https://localhost:8080/"
        },
        "outputId": "4ab3299d-96aa-4ba8-a20c-e4416bf471b7"
      },
      "execution_count": 7,
      "outputs": [
        {
          "output_type": "stream",
          "name": "stdout",
          "text": [
            "Here, an example of text data used for the skip-gram method: \n",
            " [b'\"Dressed to Kill\" is Brian DePalma\\'s best film, an absolute thrill ride of suspense, humor and style that remains unrivaled today. DePalma has a bum rap in Hollywood, as most people claim that he rips off Alfred Hitchcock. He does not. Hitchcock could only dream of what DePalma shows in his thrillers.<br /><br />Sadly, the original uncut version of \"Dressed to Kill\" is no longer available on video. The current copy released by Goodtimes is the Jack Valenti approved R rated cut. But some copies of DePalma\\'s original cut still exist. It is the one distributed by Warner Home Video, in both a green cardboard box with Angie Dickinson on the cover, or in a black clamshell case with the theatrical poster on silver lining. These are the ones to get, if you can find a copy. I have the green one and it is among my treasured possessions.<br /><br />Anyway, back to the story. Dickinson plays Kate Miller, a sexually frustrated wife who is being treated by Dr. Robert Elliott ( Michael Caine) for her obsessive fantasies. While on a trip to the museum (a real tour-de-force for DePalma in terms of camera work and suspense), <br /><br />Miller is picked up by a stranger. You can pretty much guess what happens to her, since the ads and box art give away the story. But there are a few complications. A hooker (Nancy Allen) is the sole witness to the murder. Kate Miller\\'s son Peter (Keith Gordon) is a teenage genius determined to solve the crime. And Dr. Elliott\\'s answering machine has a certain message on it...about a missing razor...<br /><br />I\\'m not spoiling the film at all for you since what I have described above takes place within the opening half hour and DePalma\\'s biggest surprises are reserved for the last hour. This film is explicit, however, enough for Valenti (head of the MPAA) to demand cuts in the film. What surprises me is what cuts he wanted. Several cuts in the opening shower scene and one or two slashing scenes and some of Nancy Allen\\'s dialogue (Valenti wanted \"cock\" changed to \"bulge\"). This is a film that is very violent and bloody, yet the objections are to sexual content. I\\'d love to hear Valenti\\'s explaination at how seeing two women in a tender love scene in \"Lost and Delirious\" is somehow more damaging to a young mind than Arnold Schwarzenegger blowing away people with a chain gun. It just isn\\'t fair.<br /><br />What makes \"Dressed to Kill\" so good is that not only are the technical credits first rate, but the performances are very good as well. Michael Caine, who was in a lot of crap in this time period, gives one of his best performances as the doctor. Angie Dickinson is better than usual, possibly because she actually has a strong role here. Nancy Allen adds this to her range of performances that has her pegged as one of the most underrated and overlooked actresses in the world. Keith Gordon is wonderful as the genius and i loved all those inventions of his.<br /><br />DePalma is one of our best directors who has never received the recognition he deserved. The recent joke of the AFI 100 Best Thrillers list showed that very few people actually know what a thriller is. If they were to actually open their eyes for once, they would see that DePalma has staked his career in thrillers and is actually the best craftsman. This is even better than \"Psycho\". It\\'s a shame that very few actually know that.<br /><br />**** out of 4 stars']\n"
          ]
        }
      ]
    },
    {
      "cell_type": "markdown",
      "source": [
        "### 2.2. Pre-processing"
      ],
      "metadata": {
        "id": "bmEWej3C24FC"
      }
    },
    {
      "cell_type": "markdown",
      "source": [
        "Input data must be processed:\n",
        "```markdown\n",
        "Tensor(['The film was ....'])\n",
        "Tensor(['I see this movie ...'])\n",
        ". . .\n",
        "```\n",
        "Each tensor is composed of a sentence (and not an entire movie review). So, for one review, several tensors can be generated. It is assumed that each sentence carries a context/meaning. A sentence is defined here as a series of words ending by a `. `, a `? ` or a ' ! `."
      ],
      "metadata": {
        "id": "t7dr6A2lWIJS"
      }
    },
    {
      "cell_type": "code",
      "source": [
        "if device == \"GPU\":\n",
        "  punctuation_to_remove = escape(string.punctuation).replace('.', '').replace('?', '').replace('!', '')"
      ],
      "metadata": {
        "id": "2HK0RxBRxaKr"
      },
      "execution_count": 8,
      "outputs": []
    },
    {
      "cell_type": "markdown",
      "source": [
        "The 50 most frequent words in the dataset are also removed. This list of words comes from the Jupyter Notebook [02_classfication_text.ipynb](https://github.com/Benjamin-morel/TensorFlow/tree/main). These words are removed because they carry a little meaning and increase the size of the model's input vectors:\n",
        "\n",
        "```markdown\n",
        "The dog barked loudly --> dog barked loudly --> ['dog', 'barked', 'loudly']\n",
        "```"
      ],
      "metadata": {
        "id": "Hcbf6V3WQNkC"
      }
    },
    {
      "cell_type": "code",
      "source": [
        "if device == \"GPU\":\n",
        "  token_common = [' the ', ' and ', ' a ', ' of ', ' to ', ' is ', ' in ', ' it ', ' i ', ' this ', ' that ', ' br ', ' was ', ' as ', ' with ', ' for ',\n",
        "                  ' you ', ' on ', ' are ', ' one ', ' be ', ' he ', ' its ', ' have ', ' an ', ' by ', ' at ', ' all ', ' from ', ' who ', ' so ',\n",
        "                  ' they ', ' her ', ' just ', ' some ', ' out ', ' about ', ' or ', ' s ', ' if ', '  c  ', ' there ', ' were ', ' would ', ' had ', ' it ', ' we ']"
      ],
      "metadata": {
        "id": "ZCDiZgqznO3T"
      },
      "execution_count": 9,
      "outputs": []
    },
    {
      "cell_type": "code",
      "source": [
        "def custom_standardization_for_skip_gram(input_text):\n",
        "  text_modified = tf.strings.lower(input_text) # upper cases --> lower cases\n",
        "  text_modified = tf.strings.regex_replace(text_modified, '<br />', ' ') # remove HTML strings\n",
        "  for i in range(len(token_common)):\n",
        "    text_modified = tf.strings.regex_replace(text_modified, token_common[i], ' ') # remove frequent words\n",
        "  text_modified = tf.strings.regex_replace(text_modified, '[%s]' % punctuation_to_remove, '') # remove punctuation\n",
        "  return text_modified"
      ],
      "metadata": {
        "id": "WYbUfk3h31Ow"
      },
      "execution_count": 10,
      "outputs": []
    },
    {
      "cell_type": "code",
      "source": [
        "if device == \"GPU\":\n",
        "  all_texts_processed = all_texts.map(lambda x: custom_standardization_for_skip_gram(x))\n",
        "  for text in all_texts_processed.take(1):\n",
        "    print(\"Here is the result of the transformation: \\n\", text.numpy())"
      ],
      "metadata": {
        "id": "wS7XzSSMxj15"
      },
      "execution_count": 11,
      "outputs": []
    },
    {
      "cell_type": "markdown",
      "source": [
        "An example of a pre-processed movie review is displayed. Only the punctuation elements `.`, `?` and `!` are retained."
      ],
      "metadata": {
        "id": "87oEZsURRan_"
      }
    },
    {
      "cell_type": "markdown",
      "source": [
        "From these pre-processed texts, the sentences are separated and isolated into tensors."
      ],
      "metadata": {
        "id": "rQ3DJ4c6SJfA"
      }
    },
    {
      "cell_type": "code",
      "source": [
        "def split_sentences(text):\n",
        "  text =  tf.strings.split(text, '. ')\n",
        "  text =  tf.strings.split(text, '? ')\n",
        "  text =  tf.strings.split(text, '! ')\n",
        "  return text"
      ],
      "metadata": {
        "id": "d-xpMZykxvWQ"
      },
      "execution_count": 12,
      "outputs": []
    },
    {
      "cell_type": "code",
      "source": [
        "if device == \"GPU\":\n",
        "  all_texts_processed_sentences = all_texts_processed.map(lambda x: split_sentences(x))"
      ],
      "metadata": {
        "id": "AvwZTQq5-RCB"
      },
      "execution_count": 13,
      "outputs": []
    },
    {
      "cell_type": "markdown",
      "source": [
        "Finally, the tensors contained in `train_ds` - with variable size - are converted into individual scalar tensors."
      ],
      "metadata": {
        "id": "giPPN4gmULcU"
      }
    },
    {
      "cell_type": "code",
      "source": [
        "def split_ragged_tensor(ragged_tensor):\n",
        "  flat_values = ragged_tensor.flat_values\n",
        "  return tf.data.Dataset.from_tensor_slices(flat_values)"
      ],
      "metadata": {
        "id": "4OqamkAlyKxb"
      },
      "execution_count": 14,
      "outputs": []
    },
    {
      "cell_type": "code",
      "source": [
        "if device == \"GPU\":\n",
        "  all_texts_processed_sentences = all_texts_processed_sentences.flat_map(split_ragged_tensor)\n",
        "  for text in all_texts_processed_sentences.take(5):\n",
        "    print(text.numpy())"
      ],
      "metadata": {
        "id": "cohL_W41-VC1"
      },
      "execution_count": 15,
      "outputs": []
    },
    {
      "cell_type": "markdown",
      "source": [
        "### 2.3. Vectorization"
      ],
      "metadata": {
        "id": "m5yFx-K027PG"
      }
    },
    {
      "cell_type": "markdown",
      "source": [
        "A maximum of n tokens (default: 20) are generated for each sentence and then vectorized."
      ],
      "metadata": {
        "id": "gO0xPfviSlL2"
      }
    },
    {
      "cell_type": "code",
      "source": [
        "vectorize_layer = tf.keras.layers.TextVectorization(standardize=None, # already done\n",
        "                                                    max_tokens=max_features,\n",
        "                                                    output_mode='int',\n",
        "                                                    output_sequence_length=max_length)"
      ],
      "metadata": {
        "id": "JKsOEFqVWFBL"
      },
      "execution_count": 16,
      "outputs": []
    },
    {
      "cell_type": "code",
      "source": [
        "if device == \"GPU\":\n",
        "  vectorize_layer.adapt(all_texts_processed_sentences.batch(batch_size=1024))\n",
        "  skip_gram_data = all_texts_processed_sentences.map(vectorize_layer)"
      ],
      "metadata": {
        "id": "PvXHQq58-fER"
      },
      "execution_count": 17,
      "outputs": []
    },
    {
      "cell_type": "code",
      "source": [
        "if device == \"GPU\":\n",
        "  word_list = vectorize_layer.get_vocabulary()\n",
        "  int_list = list(skip_gram_data.as_numpy_iterator())\n",
        "\n",
        "  with open(\"word_list\", \"wb\") as fp:   #Pickling\n",
        "    pickle.dump(word_list, fp)\n",
        "\n",
        "  for seq in int_list[:5]:\n",
        "    print(f\"{seq} => {[word_list[i] for i in seq]}\")"
      ],
      "metadata": {
        "collapsed": true,
        "id": "mVYcxH6OznQJ"
      },
      "execution_count": 18,
      "outputs": []
    },
    {
      "cell_type": "markdown",
      "source": [
        "---\n",
        "\n",
        "\n",
        "## **3. Embedding word space construction**"
      ],
      "metadata": {
        "id": "shZUw7pEXayn"
      }
    },
    {
      "cell_type": "markdown",
      "source": [
        "### 3.1. Skip-gram pair generation"
      ],
      "metadata": {
        "id": "HPnGyRw02_lC"
      }
    },
    {
      "cell_type": "markdown",
      "source": [
        "Generates skip-gram pairs with negative sampling for a list of sequences (int-encoded sentences) based on window size, number of negative samples and vocabulary size."
      ],
      "metadata": {
        "id": "kbDFjB9AX9nR"
      }
    },
    {
      "cell_type": "code",
      "source": [
        "def generate_training_data(sequences, window_size, num_ns, vocab_size, seed):\n",
        "  targets, contexts, labels = [], [], []\n",
        "\n",
        "  sampling_table = tf.keras.preprocessing.sequence.make_sampling_table(vocab_size) # Build the sampling table for `vocab_size` tokens.\n",
        "\n",
        "  for sequence in sequences: # Iterate over all sequences (sentences) in the dataset\n",
        "\n",
        "    positive_skip_grams, _ = tf.keras.preprocessing.sequence.skipgrams(sequence,\n",
        "                                                                       vocabulary_size=vocab_size,\n",
        "                                                                       sampling_table=sampling_table,\n",
        "                                                                       window_size=window_size,\n",
        "                                                                       negative_samples=0) # Generate positive skip-gram pairs for a sequence (sentence)\n",
        "\n",
        "    for target_word, context_word in positive_skip_grams: # Iterate over each positive skip-gram pair to produce training examples with a positive context word and negative samples.\n",
        "\n",
        "      context_class = tf.expand_dims(tf.constant([context_word], dtype=\"int64\"), 1)\n",
        "\n",
        "      negative_sampling_candidates, _, _ = tf.random.log_uniform_candidate_sampler(true_classes=context_class,\n",
        "                                                                                   num_true=1,\n",
        "                                                                                   num_sampled=num_ns,\n",
        "                                                                                   unique=True,\n",
        "                                                                                   range_max=vocab_size,\n",
        "                                                                                   seed=seed,\n",
        "                                                                                   name=\"negative_sampling\")\n",
        "\n",
        "\n",
        "      context = tf.concat([tf.squeeze(context_class,1), negative_sampling_candidates], 0) # Build context and label vectors (for one target word)\n",
        "      label = tf.constant([1] + [0]*num_ns, dtype=\"int64\")\n",
        "\n",
        "      targets.append(target_word) # Append each element from the training example to global lists.\n",
        "      contexts.append(context)\n",
        "      labels.append(label)\n",
        "\n",
        "  return targets, contexts, labels"
      ],
      "metadata": {
        "id": "QA4gyGLV3qak"
      },
      "execution_count": 19,
      "outputs": []
    },
    {
      "cell_type": "code",
      "source": [
        "if device == \"GPU\":\n",
        "  targets, contexts, labels = generate_training_data(sequences=int_list,\n",
        "                                                     window_size=2,\n",
        "                                                     num_ns=4,\n",
        "                                                     vocab_size=max_features,\n",
        "                                                     seed=1)\n",
        "\n",
        "  targets = np.array(targets)\n",
        "  contexts = np.array(contexts)\n",
        "  labels = np.array(labels)\n",
        "\n",
        "  print(f\"targets.shape: {targets.shape}\")\n",
        "  print(f\"contexts.shape: {contexts.shape}\")\n",
        "  print(f\"labels.shape: {labels.shape}\")"
      ],
      "metadata": {
        "id": "T_fLkogA3-gF"
      },
      "execution_count": 20,
      "outputs": []
    },
    {
      "cell_type": "markdown",
      "source": [
        "### 3.2. Performances and batches"
      ],
      "metadata": {
        "id": "UgY7QoLBYBrf"
      }
    },
    {
      "cell_type": "code",
      "source": [
        "if device == \"GPU\":\n",
        "  batch_size = 1024\n",
        "  AUTOTUNE = tf.data.AUTOTUNE\n",
        "  dataset = tf.data.Dataset.from_tensor_slices(((targets, contexts), labels))\n",
        "  dataset = dataset.shuffle(len(targets)).batch(batch_size).repeat()\n",
        "\n",
        "  dataset = dataset.cache().prefetch(buffer_size=AUTOTUNE)"
      ],
      "metadata": {
        "id": "8NoVgzD-KC-S"
      },
      "execution_count": 21,
      "outputs": []
    },
    {
      "cell_type": "markdown",
      "source": [
        "### 3.3. Model definition"
      ],
      "metadata": {
        "id": "tiVadQe9YHMm"
      }
    },
    {
      "cell_type": "code",
      "source": [
        "@keras.utils.register_keras_serializable()\n",
        "class Word2Vec(tf.keras.Model):\n",
        "  def __init__(self, vocab_size, embedding_dim, **kwargs):\n",
        "    super(Word2Vec, self).__init__()\n",
        "    self.vocab_size = vocab_size # Store vocab_size as an attribute\n",
        "    self.embedding_dim = embedding_dim # Store embedding_dim as an attribute\n",
        "    self.target_embedding = tf.keras.layers.Embedding(vocab_size,\n",
        "                                      embedding_dim,\n",
        "                                      name=\"w2v_embedding\")\n",
        "    self.context_embedding = tf.keras.layers.Embedding(vocab_size,\n",
        "                                       embedding_dim)\n",
        "\n",
        "  def call(self, pair):\n",
        "    target, context = pair\n",
        "    # target: (batch, dummy?)  # The dummy axis doesn't exist in TF2.7+\n",
        "    # context: (batch, context)\n",
        "    if len(target.shape) == 2:\n",
        "      target = tf.squeeze(target, axis=1)\n",
        "    # target: (batch,)\n",
        "    word_emb = self.target_embedding(target)\n",
        "    # word_emb: (batch, embed)\n",
        "    context_emb = self.context_embedding(context)\n",
        "    # context_emb: (batch, context, embed)\n",
        "    dots = tf.einsum('be,bce->bc', word_emb, context_emb)\n",
        "    # dots: (batch, context)\n",
        "    return dots\n",
        "\n",
        "  def get_config(self): # Define get_config to include vocab_size and embedding_dim\n",
        "    config = super(Word2Vec, self).get_config()\n",
        "    config.update({\"vocab_size\": self.vocab_size, \"embedding_dim\": self.embedding_dim})\n",
        "    return config\n",
        "\n",
        "  @classmethod\n",
        "  def from_config(cls, config): # Define from_config to use vocab_size and embedding_dim\n",
        "      return cls(**config)"
      ],
      "metadata": {
        "id": "-Fmo3B7x4Ebi"
      },
      "execution_count": 22,
      "outputs": []
    },
    {
      "cell_type": "code",
      "source": [
        "def create_model(embedding_dim):\n",
        "  model = Word2Vec(max_features, embedding_dim)\n",
        "  model.compile(optimizer='adam',\n",
        "                loss=tf.keras.losses.CategoricalCrossentropy(from_logits=True),\n",
        "                metrics=None)\n",
        "  return model"
      ],
      "metadata": {
        "id": "_AUxMqyq9jq3"
      },
      "execution_count": 23,
      "outputs": []
    },
    {
      "cell_type": "markdown",
      "source": [
        "### 3.4. Training phase"
      ],
      "metadata": {
        "id": "_-D7FGkZYKg0"
      }
    },
    {
      "cell_type": "code",
      "source": [
        "def train_model(model, training_data, steps_per_epoch, **kwargs):\n",
        "  kwargs.setdefault(\"epochs\", 15)\n",
        "  kwargs.setdefault(\"verbose\", 1)\n",
        "  log = model.fit(training_data, steps_per_epoch = steps_per_epoch, **kwargs)\n",
        "\n",
        "  return log.history[\"loss\"]"
      ],
      "metadata": {
        "id": "MmaQTLUD8bE0"
      },
      "execution_count": 24,
      "outputs": []
    },
    {
      "cell_type": "code",
      "source": [
        "if device == \"GPU\":\n",
        "  model = create_model(16)\n",
        "  steps_per_epoch = len(targets) // batch_size\n",
        "  history = train_model(model, dataset, steps_per_epoch)\n",
        "  model.save('07_word2vec.keras')\n",
        "else:\n",
        "  model, dictionary_embedding, vocab, classifier_model, word_list = get_github_files()"
      ],
      "metadata": {
        "colab": {
          "base_uri": "https://localhost:8080/"
        },
        "id": "WxdU_xWo-Fpk",
        "outputId": "d61007c6-86c7-4fde-d82d-53d8b1815c6b"
      },
      "execution_count": 25,
      "outputs": [
        {
          "output_type": "stream",
          "name": "stdout",
          "text": [
            "Cloning into 'TensorFlow_duplicata'...\n",
            "remote: Enumerating objects: 888, done.\u001b[K\n",
            "remote: Counting objects: 100% (190/190), done.\u001b[K\n",
            "remote: Compressing objects: 100% (54/54), done.\u001b[K\n",
            "remote: Total 888 (delta 180), reused 136 (delta 136), pack-reused 698 (from 3)\u001b[K\n",
            "Receiving objects: 100% (888/888), 194.49 MiB | 31.92 MiB/s, done.\n",
            "Resolving deltas: 100% (450/450), done.\n"
          ]
        }
      ]
    },
    {
      "cell_type": "markdown",
      "source": [
        "---\n",
        "\n",
        "\n",
        "## **4. Classification model and training**"
      ],
      "metadata": {
        "id": "jQVDTF20a9vD"
      }
    },
    {
      "cell_type": "markdown",
      "source": [
        "### 4.1. Pre-processing layer for classification model"
      ],
      "metadata": {
        "id": "VXKYegYQbEmU"
      }
    },
    {
      "cell_type": "code",
      "source": [
        "weights = model.get_layer('w2v_embedding').get_weights()[0]"
      ],
      "metadata": {
        "id": "EsQnN_yhbLEs"
      },
      "execution_count": 26,
      "outputs": []
    },
    {
      "cell_type": "code",
      "source": [
        "@keras.utils.register_keras_serializable()\n",
        "def custom_standardization_classification(input_text):\n",
        "  no_uppercase = tf.strings.lower(input_text) # upper case --> lower case letters\n",
        "  no_html_uppercase = tf.strings.regex_replace(no_uppercase, '<br />', ' ') # remove HTML strings\n",
        "  no_punctuation_html_uppercase = tf.strings.regex_replace(no_html_uppercase, '[%s]' % escape(string.punctuation), '') # remove punctuation\n",
        "  return no_punctuation_html_uppercase"
      ],
      "metadata": {
        "id": "L9ysUj4JbPOb"
      },
      "execution_count": 27,
      "outputs": []
    },
    {
      "cell_type": "code",
      "source": [
        "raw_train_ds = raw_train_ds.map(lambda x, y: (custom_standardization_classification(x), y))\n",
        "raw_test_ds = raw_test_ds.map(lambda x, y: (custom_standardization_classification(x), y))\n",
        "raw_val_ds = raw_val_ds.map(lambda x, y: (custom_standardization_classification(x), y))"
      ],
      "metadata": {
        "id": "3tGceeJhbTyd"
      },
      "execution_count": 28,
      "outputs": []
    },
    {
      "cell_type": "code",
      "source": [
        "max_length = 500 # truncate to the 500th word\n",
        "\n",
        "vectorize_layer1 = keras.layers.TextVectorization(standardize=None,\n",
        "                                                 max_tokens=max_features,\n",
        "                                                 output_sequence_length=max_length,\n",
        "                                                 output_mode='int',\n",
        "                                                 vocabulary = word_list\n",
        "                                                 )"
      ],
      "metadata": {
        "id": "gyUkUs0AbXdC"
      },
      "execution_count": 29,
      "outputs": []
    },
    {
      "cell_type": "code",
      "source": [
        "AUTOTUNE = tf.data.AUTOTUNE\n",
        "\n",
        "raw_train_ds = raw_train_ds.cache().prefetch(buffer_size=AUTOTUNE)\n",
        "raw_test_ds = raw_test_ds.cache().prefetch(buffer_size=AUTOTUNE)\n",
        "raw_val_ds = raw_val_ds.cache().prefetch(buffer_size=AUTOTUNE)"
      ],
      "metadata": {
        "id": "7e6_fEX5bdv5"
      },
      "execution_count": 30,
      "outputs": []
    },
    {
      "cell_type": "markdown",
      "source": [
        "### 4.2. Classification model"
      ],
      "metadata": {
        "id": "MpvsmZXcbf-X"
      }
    },
    {
      "cell_type": "code",
      "source": [
        "custom_embedding_layer = keras.Sequential([keras.layers.Embedding(input_dim = max_features, output_dim = 16, embeddings_initializer=keras.initializers.Constant(weights))])"
      ],
      "metadata": {
        "id": "8sPG9_jCbj49"
      },
      "execution_count": 31,
      "outputs": []
    },
    {
      "cell_type": "code",
      "source": [
        "custom_embedding_layer.trainable = False"
      ],
      "metadata": {
        "id": "Pm68bjsObl6v"
      },
      "execution_count": 32,
      "outputs": []
    },
    {
      "cell_type": "code",
      "source": [
        "def create_classifier():\n",
        "  embedding_dim = 16\n",
        "  model = keras.Sequential([vectorize_layer1, # pre-processing layer\n",
        "                            custom_embedding_layer,\n",
        "                            keras.layers.Dropout(0.2),\n",
        "                            keras.layers.Dense(16, activation='relu'),\n",
        "                            keras.layers.GlobalAveragePooling1D(),\n",
        "                            keras.layers.Dropout(0.2),\n",
        "                            keras.layers.Dense(1, activation='sigmoid')\n",
        "                            ], name=\"classification_text_model\")\n",
        "\n",
        "  model.compile(loss=keras.losses.BinaryCrossentropy(from_logits=False),\n",
        "                optimizer=keras.optimizers.Adam(learning_rate=0.001),\n",
        "                metrics=[tf.metrics.BinaryAccuracy(name=\"binary_accuracy\", threshold=0.5)])\n",
        "\n",
        "  return model"
      ],
      "metadata": {
        "id": "o91K6dGRbttb"
      },
      "execution_count": 33,
      "outputs": []
    },
    {
      "cell_type": "code",
      "source": [
        "def train_classifier(model, training_data, validation_data, callbacks, **kwargs):\n",
        "  kwargs.setdefault(\"epochs\", 5)\n",
        "  kwargs.setdefault(\"verbose\", 1)\n",
        "  log = model.fit(training_data, validation_data=validation_data, callbacks=callbacks, **kwargs)\n",
        "\n",
        "  return log.history[\"loss\"], log.history[\"binary_accuracy\"], log.history[\"val_loss\"], log.history[\"val_binary_accuracy\"]"
      ],
      "metadata": {
        "id": "-ShwqBsOb5Dd"
      },
      "execution_count": 34,
      "outputs": []
    },
    {
      "cell_type": "code",
      "source": [
        "if device == \"GPU\":\n",
        "  stop_early = keras.callbacks.EarlyStopping(monitor='val_binary_accuracy',\n",
        "                                            patience=20,\n",
        "                                            restore_best_weights=True,\n",
        "                                            min_delta=0.001)"
      ],
      "metadata": {
        "id": "r03OvT0zuBxZ"
      },
      "execution_count": 35,
      "outputs": []
    },
    {
      "cell_type": "code",
      "source": [
        "if device == \"GPU\":\n",
        "  epochs = 100\n",
        "  classifier_model = create_classifier()\n",
        "  classifier_accuracy = train_classifier(classifier_model, raw_train_ds, raw_val_ds, callbacks=stop_early, epochs=epochs)\n",
        "  print(\"Accuracy max %0.1f %% reached at the epoch %d\" %(100*max(classifier_accuracy[3]), np.argmax(classifier_accuracy[3])+1))\n",
        "  classifier_model.save('07_classification_text.keras')"
      ],
      "metadata": {
        "id": "aI4QvL6avN-T"
      },
      "execution_count": 36,
      "outputs": []
    },
    {
      "cell_type": "markdown",
      "source": [
        "### 4.3. Evaluation and predictions"
      ],
      "metadata": {
        "id": "B_NpeYlfcWR5"
      }
    },
    {
      "cell_type": "code",
      "source": [
        "def get_predictions(dataset):\n",
        "  loss_test, accuracy_test = classifier_model.evaluate(dataset, verbose=0)\n",
        "  predictions = classifier_model.predict(dataset, verbose=0)\n",
        "  print(\"Test loss value %0.1f \\nTest accuracy: %0.1f %%\" %(loss_test, 100*accuracy_test))\n",
        "  return predictions"
      ],
      "metadata": {
        "id": "pWv3x_2tO6L4"
      },
      "execution_count": 37,
      "outputs": []
    },
    {
      "cell_type": "code",
      "source": [
        "predictions = get_predictions(raw_test_ds)"
      ],
      "metadata": {
        "colab": {
          "base_uri": "https://localhost:8080/"
        },
        "id": "YpbdyqG2O_N6",
        "outputId": "83b16a3e-dda1-452c-e2f4-f627610633e9"
      },
      "execution_count": 38,
      "outputs": [
        {
          "output_type": "stream",
          "name": "stdout",
          "text": [
            "Test loss value 0.5 \n",
            "Test accuracy: 80.2 %\n"
          ]
        }
      ]
    },
    {
      "cell_type": "code",
      "source": [
        "plot_evaluation(raw_test_ds, predictions)"
      ],
      "metadata": {
        "colab": {
          "base_uri": "https://localhost:8080/",
          "height": 591
        },
        "id": "eXDOnty4PUxd",
        "outputId": "17e7dc6a-88e3-4659-8abb-9bf4b2ac7b9b"
      },
      "execution_count": 39,
      "outputs": [
        {
          "output_type": "stream",
          "name": "stdout",
          "text": [
            "############################\n",
            "Evaluation on the test set: \n",
            "############################\n",
            "Accuracy...0.8019\n",
            "Recall.....0.8890\n",
            "F1-score...0.8178\n"
          ]
        },
        {
          "output_type": "display_data",
          "data": {
            "text/plain": [
              "<Figure size 1200x500 with 2 Axes>"
            ],
            "image/png": "[encoded data removed]"
          },
          "metadata": {}
        }
      ]
    },
    {
      "cell_type": "markdown",
      "source": [
        "---\n",
        "\n",
        "\n",
        "## **5. Embedding space exploration**"
      ],
      "metadata": {
        "id": "O2ayOZiwYfeN"
      }
    },
    {
      "cell_type": "markdown",
      "source": [
        "### 5.1. Embedding dictionary"
      ],
      "metadata": {
        "id": "h2ApzsXuYoie"
      }
    },
    {
      "cell_type": "code",
      "source": [
        "if device == \"GPU\":\n",
        "  vocab = vectorize_layer.get_vocabulary()\n",
        "  dictionary_embedding = {vocab[i]:weights[i] for i in range(len(vocab))} # build the embedding dictionary\n",
        "\n",
        "  with open('vocab.pkl', 'wb') as f:\n",
        "    pickle.dump(vocab, f)\n",
        "\n",
        "  with open('dictionary_embedding.pkl', 'wb') as f:\n",
        "    pickle.dump(dictionary_embedding, f)"
      ],
      "metadata": {
        "id": "KEAQX3iF4NDi"
      },
      "execution_count": 40,
      "outputs": []
    },
    {
      "cell_type": "code",
      "source": [
        "dictionary_embedding[\"money\"]"
      ],
      "metadata": {
        "id": "UF-ehK1Lie7m",
        "colab": {
          "base_uri": "https://localhost:8080/"
        },
        "outputId": "4bfdf8bc-bfb1-4c62-f2a1-11edd8f06279"
      },
      "execution_count": 41,
      "outputs": [
        {
          "output_type": "execute_result",
          "data": {
            "text/plain": [
              "array([-0.4511153 , -0.1555667 , -0.16605273, -0.06758016,  0.32298324,\n",
              "       -0.34737492, -0.2298189 , -0.04030469, -0.76292896,  0.18483113,\n",
              "        0.1460447 , -0.1714578 , -0.37093538, -0.7198567 , -0.25342757,\n",
              "        0.20178515], dtype=float32)"
            ]
          },
          "metadata": {},
          "execution_count": 41
        }
      ]
    },
    {
      "cell_type": "markdown",
      "source": [
        "### 5.2. Similarities and analogies"
      ],
      "metadata": {
        "id": "jkHFz7FSYv5R"
      }
    },
    {
      "cell_type": "code",
      "source": [
        "# get the distance between two elements in the embedding space\n",
        "\n",
        "def get_distance(token1, token2):\n",
        "  p1 = dictionary_embedding[token1]\n",
        "  p2 = dictionary_embedding[token2]\n",
        "  distance = np.linalg.norm(p2-p1)\n",
        "  return distance\n",
        "\n",
        "# get the cosinus similarity between two elements in the embedding space\n",
        "\n",
        "def get_cosinus_similarity(token1, token2):\n",
        "  p1 = dictionary_embedding[token1]\n",
        "  p2 = dictionary_embedding[token2]\n",
        "  dot_product = np.dot(p1, p2)\n",
        "  magnitude_1 = np.linalg.norm(p1)\n",
        "  magnitude_2 = np.linalg.norm(p2)\n",
        "  cosine_sim = dot_product / (magnitude_1 * magnitude_2)\n",
        "  return cosine_sim"
      ],
      "metadata": {
        "id": "D32RiQSyihOX"
      },
      "execution_count": 42,
      "outputs": []
    },
    {
      "cell_type": "code",
      "source": [
        "# get elements closest to a specific element in the embedding space\n",
        "\n",
        "def get_synomym(token, n, used_distance=True):\n",
        "  p1 = dictionary_embedding[token]\n",
        "  candidate_list = {} # stores n synonyms\n",
        "  for i in range(1, len(vocab)): # only the first 1000 words of the embedding dictionary are searched\n",
        "    token_candidate = vocab[i]\n",
        "    if used_distance == True: candidate_list[token_candidate] = get_distance(token, token_candidate)\n",
        "    else: candidate_list[token_candidate] = get_cosinus_similarity(token, token_candidate)\n",
        "\n",
        "  sorted_items = sorted(candidate_list.items(), key=lambda item: item[1])\n",
        "\n",
        "  if used_distance == True: synonym_list = sorted_items[1:n+1]\n",
        "  else: synonym_list = sorted_items[-(n+1):-1]\n",
        "  words = [(item[0], item[1]) for item in synonym_list]\n",
        "  return print(words)"
      ],
      "metadata": {
        "id": "FNWrbXIUiuI7"
      },
      "execution_count": 43,
      "outputs": []
    },
    {
      "cell_type": "code",
      "source": [
        "word = \"terrible\"\n",
        "nb = 10\n",
        "get_synomym(word, nb, used_distance=False)"
      ],
      "metadata": {
        "id": "8sUp8U2FiwUP",
        "colab": {
          "base_uri": "https://localhost:8080/"
        },
        "outputId": "af022c97-9026-42e5-8d2a-abcf1aac81e1"
      },
      "execution_count": 44,
      "outputs": [
        {
          "output_type": "stream",
          "name": "stdout",
          "text": [
            "[('pointless', 0.8044394), ('ludicrous', 0.8148322), ('totally', 0.8178258), ('laughable', 0.8416559), ('appalling', 0.85137874), ('abysmal', 0.8675813), ('dreadful', 0.8718299), ('horrendous', 0.8805921), ('horrible', 0.90182066), ('awful', 0.9120636)]\n"
          ]
        }
      ]
    },
    {
      "cell_type": "code",
      "source": [
        "def get_analogy(vector, n):\n",
        "  candidate_list = {} # stores n synonyms\n",
        "  for i in range(1, len(vocab)):\n",
        "    token_candidate = vocab[i]\n",
        "    vector_candidate = dictionary_embedding[token_candidate]\n",
        "    candidate_list[token_candidate] = sum(abs(vector - vector_candidate))\n",
        "\n",
        "  sorted_items = sorted(candidate_list.items(), key=lambda item: item[1])\n",
        "  synonym_list = sorted_items[0:n]\n",
        "  words = [item[0] for item in synonym_list]\n",
        "  print(words)"
      ],
      "metadata": {
        "id": "FlzOsPSGRUmY"
      },
      "execution_count": 45,
      "outputs": []
    },
    {
      "cell_type": "code",
      "source": [
        "analogy = dictionary_embedding[\"funny\"] - dictionary_embedding[\"nice\"] + dictionary_embedding[\"terrible\"]\n",
        "get_analogy(analogy, 5)"
      ],
      "metadata": {
        "id": "TvO-QKgeRWPa",
        "colab": {
          "base_uri": "https://localhost:8080/"
        },
        "outputId": "c3d8cb86-de76-4474-e511-9544fbdca223"
      },
      "execution_count": 46,
      "outputs": [
        {
          "output_type": "stream",
          "name": "stdout",
          "text": [
            "['pointless', 'offensive', 'boring', 'depressing', 'terrible']\n"
          ]
        }
      ]
    },
    {
      "cell_type": "markdown",
      "source": [
        "---\n",
        "\n",
        "\n",
        "## **6. References**\n",
        "\n",
        "| | | | | |\n",
        "|------|------|------|------|------|\n",
        "| Index | Title | Author(s) | Type | Comments |\n",
        "|[[1]](https://aclanthology.org/P11-1015.pdf) | IMDB dataset | Andrew L. Maas & al | dataset & paper | - |\n",
        "|[[2]](https://www.tensorflow.org/tutorials/keras/text_classification) | Basic text classification | TensorFlow | dataset | - |\n",
        "|[[3]](https://www.tensorflow.org/guide/data_performance) | Better performance with the tf.data API | TensorFlow | Tutoriels | - |\n",
        "|[[4]](https://www.cs.toronto.edu/~lczhang/360/lec/w05/w2v.html) | Word2Vec and GloVe Vectors | Toronto university | website | - |"
      ],
      "metadata": {
        "id": "iA4CnxdVY7OH"
      }
    },
    {
      "cell_type": "code",
      "source": [
        "print(\"Notebook run in %.1f seconds on %s\" % ((time() - start), tf.config.list_physical_devices(device_type=None)[-1][-1]))"
      ],
      "metadata": {
        "colab": {
          "base_uri": "https://localhost:8080/"
        },
        "id": "xgIFhnxO4bxT",
        "outputId": "b8a0e409-f3db-42f9-c85f-eb3e0f499b5b"
      },
      "execution_count": 47,
      "outputs": [
        {
          "output_type": "stream",
          "name": "stdout",
          "text": [
            "Notebook run in 64.0 seconds on CPU\n"
          ]
        }
      ]
    }
  ]
}