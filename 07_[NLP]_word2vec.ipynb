{
  "nbformat": 4,
  "nbformat_minor": 0,
  "metadata": {
    "colab": {
      "provenance": [],
      "authorship_tag": "ABX9TyMuhu6tW7d8HhO+/dVQbnTh",
      "include_colab_link": true
    },
    "kernelspec": {
      "name": "python3",
      "display_name": "Python 3"
    },
    "language_info": {
      "name": "python"
    }
  },
  "cells": [
    {
      "cell_type": "markdown",
      "metadata": {
        "id": "view-in-github",
        "colab_type": "text"
      },
      "source": [
        "<a href=\"https://colab.research.google.com/github/Benjamin-morel/TensorFlow/blob/main/07_%5BNLP%5D_word2vec.ipynb\" target=\"_parent\"><img src=\"https://colab.research.google.com/assets/colab-badge.svg\" alt=\"Open In Colab\"/></a>"
      ]
    },
    {
      "cell_type": "markdown",
      "source": [
        "---\n",
        "\n",
        "\n",
        "# **Machine Learning Model: word2vec and skip-gram**\n",
        "\n",
        "| | |\n",
        "|------|------|\n",
        "| Filename | 07_[NLP]_word2vec.ipynb |\n",
        "| Author(s) | Benjamin (contact.upside830@silomails.com) |\n",
        "| Date | January 26, 2024 |\n",
        "| Aim(s) | build a word embedding space with the skip-gram method |\n",
        "| Dataset(s) | IMDb Movie Reviews dataset [[1]](https://aclanthology.org/P11-1015.pdf)|\n",
        "| Version | Python 3.10.12 - TensorFlow 2.17.1 |\n",
        "\n",
        "\n",
        "<br> **!!Read before running!!** <br>\n",
        "* **Step 1.** Fill in the inputs.\n",
        "* **Step 2.** GPU execution is recommended for training. Yet, a pre-trained model can be used by running this notebook on a CPU. Using a pre-trained model saves time, computer resources and CO2 emissions.\n",
        "* **Step 3.** Run all and read comments.\n",
        "\n",
        "---\n",
        "\n",
        "#### **Motivation**\n",
        "\n",
        "With the IMDb dataset used in code [02_classfication_text.ipynb](https://github.com/Benjamin-morel/TensorFlow/tree/main), the model is trained using a word2vec technique and model's weights are then used to construct a word embedding space.  \n",
        "\n",
        "#### **Outline**\n",
        "\n",
        "*   Input section\n",
        "*   Python librairies & display utilities\n",
        "*   Data retrieval & set generation\n",
        "*   Embedding word space construction\n",
        "*   Classification model & training\n",
        "*   Embedding space exploration\n",
        "*   References\n",
        "\n",
        "---"
      ],
      "metadata": {
        "id": "IKO5J-_-Vj3U"
      }
    },
    {
      "cell_type": "markdown",
      "source": [
        "## **0. Input section**"
      ],
      "metadata": {
        "id": "an7V4rZe30MH"
      }
    },
    {
      "cell_type": "code",
      "source": [
        "text_nb = 25000\n",
        "max_features = 5000\n",
        "max_length = 20"
      ],
      "metadata": {
        "id": "JvszvjSG37h-"
      },
      "execution_count": null,
      "outputs": []
    },
    {
      "cell_type": "markdown",
      "source": [
        "\n",
        "---\n",
        "\n",
        "## **1. Python librairies & display utilities**"
      ],
      "metadata": {
        "id": "iOr8jVUqvebl"
      }
    },
    {
      "cell_type": "code",
      "source": [
        "# @title 1.1. Python librairies [RUN ME]\n",
        "\n",
        "\"\"\"math\"\"\"\n",
        "import numpy as np # linear algebra\n",
        "import sklearn.metrics # scores and evaluation metrics\n",
        "\n",
        "\"\"\"file opening and pre-processing\"\"\"\n",
        "import os # miscellaneous operating system interfaces\n",
        "import pandas as pd # data manipulation tool\n",
        "from re import escape # regular expressions\n",
        "import string # string manipulation\n",
        "import shutil # operations on files\n",
        "\n",
        "\"\"\"ML models\"\"\"\n",
        "import tensorflow as tf # framework for ML/DL\n",
        "from tensorflow import keras # API used to build model in TensorFlow\n",
        "\n",
        "\"\"\"display and export\"\"\"\n",
        "import matplotlib.pyplot as plt # graphing package\n",
        "import pickle # serialization\n",
        "\n",
        "\"\"\"performances\"\"\"\n",
        "from time import time # timer\n",
        "start = time()\n",
        "device = tf.config.list_physical_devices(device_type=None)[-1][-1]"
      ],
      "metadata": {
        "cellView": "form",
        "id": "Rc2oQxKkvr-C"
      },
      "execution_count": null,
      "outputs": []
    },
    {
      "cell_type": "code",
      "source": [
        "# @title 1.2. Import Github files [RUN ME]\n",
        "\n",
        "\"\"\"clone the Github repertory TensorFlow and imports the files required (see section 3.2)\"\"\"\n",
        "def get_github_files():\n",
        "  !git clone https://github.com/Benjamin-morel/TensorFlow.git TensorFlow_duplicata\n",
        "  path_model = 'TensorFlow_duplicata/99_pre_trained_models/07_word2vec/07_word2vec.keras'\n",
        "  path_classifier = 'TensorFlow_duplicata/99_pre_trained_models/07_word2vec/07_classification_text.keras'\n",
        "  path_dictionary = 'TensorFlow_duplicata/99_pre_trained_models/07_word2vec/dictionary_embedding.pkl'\n",
        "  path_vocab = 'TensorFlow_duplicata/99_pre_trained_models/07_word2vec/vocab.pkl'\n",
        "  model = keras.models.load_model(path_model, custom_objects={'Word2Vec': Word2Vec})\n",
        "  classifier = keras.models.load_model(path_classifier)\n",
        "  with open(path_dictionary, 'rb') as f:\n",
        "    dictionary = pickle.load(f)\n",
        "  with open(path_vocab, 'rb') as f:\n",
        "    vocab = pickle.load(f)\n",
        "  !rm -rf TensorFlow_duplicata/\n",
        "  return model, dictionary, vocab, classifier"
      ],
      "metadata": {
        "cellView": "form",
        "id": "hJrHq8awwNgH"
      },
      "execution_count": null,
      "outputs": []
    },
    {
      "cell_type": "code",
      "source": [
        "# @title 1.3. Figure plots [RUN ME]\n",
        "\n",
        "\"\"\"plot confusion matrix and ROC curve\"\"\"\n",
        "def plot_evaluation(test_dataset, predictions, labels=[0,1]):\n",
        "  actuals = tf.concat([y for x, y in test_dataset], axis=0)\n",
        "  predicted_labels = np.round(predictions, 0)\n",
        "\n",
        "  plt.figure(figsize=(12,5))\n",
        "\n",
        "  confusion_mat = tf.math.confusion_matrix(actuals,predicted_labels) # columns = prediction labels / rows = real labels\n",
        "\n",
        "  # Subplot 1: Confusion matrix\n",
        "  plt.subplot(1,2,1, xlabel=\"Predictions\", ylabel=\"Actuals\", title=\"Confusion matrix of the test set\", xticks=[0,1], yticks=[0,1])\n",
        "  plt.imshow(confusion_mat)\n",
        "\n",
        "  for i in range(confusion_mat.shape[0]): # annotation in each cnfusion matrix cell\n",
        "      for j in range(confusion_mat.shape[1]):\n",
        "          plt.text(x=j, y=i,s=int(confusion_mat[i, j]), va='center', ha='center', size='large')\n",
        "\n",
        "  # Subplot 2: ROC curve\n",
        "  fpr, tpr, _ = sklearn.metrics.roc_curve(actuals,  predictions.ravel())\n",
        "  plt.subplot(1,2,2, xlabel=\"FPR\", ylabel=\"TPR\", title=\"ROC curve\")\n",
        "  plt.plot(fpr, tpr)\n",
        "\n",
        "  # Metrics info\n",
        "  accuracy = sklearn.metrics.accuracy_score(actuals, predicted_labels)\n",
        "  recall = sklearn.metrics.recall_score(actuals, predicted_labels)\n",
        "  F1_score = sklearn.metrics.f1_score(actuals, predicted_labels)\n",
        "\n",
        "  print(\"############################\")\n",
        "  print(\"Evaluation on the test set: \")\n",
        "  print(\"############################\")\n",
        "  print(\"Accuracy...{:.4f}\" .format(accuracy))\n",
        "  print(\"Recall.....{:.4f}\" .format(recall))\n",
        "  print(\"F1-score...{:.4f}\" .format(F1_score))\n",
        "\n",
        "  plt.show()"
      ],
      "metadata": {
        "cellView": "form",
        "id": "CH0tm36GQlQ3"
      },
      "execution_count": null,
      "outputs": []
    },
    {
      "cell_type": "markdown",
      "source": [
        "---\n",
        "\n",
        "\n",
        "## **2. Data retrieval and set generation**"
      ],
      "metadata": {
        "id": "vTJzD6Tv4Fca"
      }
    },
    {
      "cell_type": "markdown",
      "source": [
        "The skip-gram method is a word embedding technique used in Word2Vec to learn vector representations of words based on their surrounding context. It works by selecting a target word and predicting its context words within a given window size.\n",
        "\n",
        ">Example: \"This horror movie was so terrifying that I screamed!\"\n",
        "\n",
        ">Window = 1<br>\n",
        ">Target word: \"terrifying\": \"This horror movie was [**so terrifying that**] I screamed!\" <br>\n",
        ">Context words: \"so\" and \"that\"\n",
        "\n",
        "With a larger window to capture more context:\n",
        "\n",
        ">Window = 3 <br>\n",
        ">Target word: \"terrifying\": \"This horror [**movie was so terrifying that I screamed**]!\" <br>\n",
        ">Context words: \"movie\", \"was\", \"so\", \"that\", \"I\" and \"screamed\"\n",
        "\n",
        "Each word is converted to an integer and passed through a neural network with a single hidden layer. The model is trained to maximize the probability of context words given the target word, often using negative sampling to improve efficiency.\n",
        "\n",
        "After training, the hidden layer weights form a word embeddings space, where words are represented by a 16-dimensional embedding vector. Skip-gram is especially useful for capturing relationships between words.\n"
      ],
      "metadata": {
        "id": "DvEtr1KoFGLk"
      }
    },
    {
      "cell_type": "markdown",
      "source": [
        "### 2.1. Retrieve data"
      ],
      "metadata": {
        "id": "5k2EbRgE203B"
      }
    },
    {
      "cell_type": "markdown",
      "source": [
        "The IMDb Movie Reviews is a database created for sentiment analysis in movie reviews. It contains 50,000 movie reviews. The database is extracted and placed in the folder review_dataset. The architecture of review_dataset is as follows:\n",
        "\n",
        "```markdown\n",
        "**Imdb_dataset/**\n",
        ". . . aclImdb/\n",
        ". . . . . . train/\n",
        ". . . . . . test/\n",
        ". . . . . . README\n",
        ". . . . . . imdb.vocab\n",
        ". . . . . . imdbEr.text\n",
        "```\n",
        "\n",
        "Other files are included in the folder like `README` which provides information about the dataset and how to use it. Files `imdb.vocab` and `imdbEr.txt` contain additional information about errors, URL website and specific annotations.\n",
        "\n",
        "To train the model, the labels used to classify are not required."
      ],
      "metadata": {
        "id": "CCedTxGVU898"
      }
    },
    {
      "cell_type": "code",
      "source": [
        "def get_data(url, batch_size):\n",
        "\n",
        "  dataset_name = \"Imdb_dataset_1\"\n",
        "  path = tf.keras.utils.get_file(dataset_name, url, extract=True)\n",
        "  path = os.path.join(path, 'aclImdb')\n",
        "  train_path = os.path.join(path, 'train')\n",
        "  test_path = os.path.join(path, 'test')\n",
        "  remove_dir = os.path.join(train_path, 'unsup') # remove the folder with unlabeled reviews for unsupervised learning\n",
        "  shutil.rmtree(remove_dir)\n",
        "\n",
        "  # data used to build embedding word space with the skip-gram method\n",
        "  data_skip_gram = tf.keras.utils.text_dataset_from_directory(train_path, labels=None, batch_size=batch_size, validation_split=None, shuffle=True, seed=1, verbose=0)\n",
        "\n",
        "  # data for classification model (same as 02_classification_text.ipynb)\n",
        "  raw_train_ds = keras.utils.text_dataset_from_directory(train_path, batch_size=32, validation_split=0.2, subset='training', shuffle=True, seed=1)\n",
        "  raw_val_ds = keras.utils.text_dataset_from_directory(train_path, batch_size=32, validation_split=0.2, subset='validation', shuffle=True, seed=1)\n",
        "  raw_test_ds = keras.utils.text_dataset_from_directory(test_path, batch_size=32)\n",
        "\n",
        "  return data_skip_gram, raw_train_ds, raw_val_ds, raw_test_ds"
      ],
      "metadata": {
        "id": "6tyDasAh_ZyY"
      },
      "execution_count": null,
      "outputs": []
    },
    {
      "cell_type": "code",
      "source": [
        "url = \"https://ai.stanford.edu/~amaas/data/sentiment/aclImdb_v1.tar.gz\"\n",
        "\n",
        "batch_size = 1\n",
        "\n",
        "data_skip_gram, raw_train_ds, raw_val_ds, raw_test_ds = get_data(url, batch_size)"
      ],
      "metadata": {
        "id": "sVSYard4_kii",
        "colab": {
          "base_uri": "https://localhost:8080/"
        },
        "outputId": "d89053cd-1681-41b3-ae1d-aaa531d9b253"
      },
      "execution_count": null,
      "outputs": [
        {
          "output_type": "stream",
          "name": "stdout",
          "text": [
            "Downloading data from https://ai.stanford.edu/~amaas/data/sentiment/aclImdb_v1.tar.gz\n",
            "\u001b[1m84125825/84125825\u001b[0m \u001b[32m━━━━━━━━━━━━━━━━━━━━\u001b[0m\u001b[37m\u001b[0m \u001b[1m49s\u001b[0m 1us/step\n",
            "Found 25000 files belonging to 2 classes.\n",
            "Using 20000 files for training.\n",
            "Found 25000 files belonging to 2 classes.\n",
            "Using 5000 files for validation.\n",
            "Found 25000 files belonging to 2 classes.\n"
          ]
        }
      ]
    },
    {
      "cell_type": "markdown",
      "source": [
        "The batch size is 1 to facilitate pre-processing of texts. The variable `nb_text` is used to control the number of texts to be supplied to the model.\n",
        "\n"
      ],
      "metadata": {
        "id": "d5rIxD1iGh-q"
      }
    },
    {
      "cell_type": "code",
      "source": [
        "data_skip_gram = data_skip_gram.take(text_nb)\n",
        "\n",
        "for text in data_skip_gram.take(1):\n",
        "  print(\"Here, an example of text data used for the skip-gram method: \\n\", text.numpy())"
      ],
      "metadata": {
        "id": "K9xSdAZOT2JD",
        "colab": {
          "base_uri": "https://localhost:8080/"
        },
        "outputId": "c3e380ac-0e8b-410c-ef1c-023bcb98263c"
      },
      "execution_count": null,
      "outputs": [
        {
          "output_type": "stream",
          "name": "stdout",
          "text": [
            "Here, an example of text data used for the skip-gram method: \n",
            " [b'\"Dressed to Kill\" is Brian DePalma\\'s best film, an absolute thrill ride of suspense, humor and style that remains unrivaled today. DePalma has a bum rap in Hollywood, as most people claim that he rips off Alfred Hitchcock. He does not. Hitchcock could only dream of what DePalma shows in his thrillers.<br /><br />Sadly, the original uncut version of \"Dressed to Kill\" is no longer available on video. The current copy released by Goodtimes is the Jack Valenti approved R rated cut. But some copies of DePalma\\'s original cut still exist. It is the one distributed by Warner Home Video, in both a green cardboard box with Angie Dickinson on the cover, or in a black clamshell case with the theatrical poster on silver lining. These are the ones to get, if you can find a copy. I have the green one and it is among my treasured possessions.<br /><br />Anyway, back to the story. Dickinson plays Kate Miller, a sexually frustrated wife who is being treated by Dr. Robert Elliott ( Michael Caine) for her obsessive fantasies. While on a trip to the museum (a real tour-de-force for DePalma in terms of camera work and suspense), <br /><br />Miller is picked up by a stranger. You can pretty much guess what happens to her, since the ads and box art give away the story. But there are a few complications. A hooker (Nancy Allen) is the sole witness to the murder. Kate Miller\\'s son Peter (Keith Gordon) is a teenage genius determined to solve the crime. And Dr. Elliott\\'s answering machine has a certain message on it...about a missing razor...<br /><br />I\\'m not spoiling the film at all for you since what I have described above takes place within the opening half hour and DePalma\\'s biggest surprises are reserved for the last hour. This film is explicit, however, enough for Valenti (head of the MPAA) to demand cuts in the film. What surprises me is what cuts he wanted. Several cuts in the opening shower scene and one or two slashing scenes and some of Nancy Allen\\'s dialogue (Valenti wanted \"cock\" changed to \"bulge\"). This is a film that is very violent and bloody, yet the objections are to sexual content. I\\'d love to hear Valenti\\'s explaination at how seeing two women in a tender love scene in \"Lost and Delirious\" is somehow more damaging to a young mind than Arnold Schwarzenegger blowing away people with a chain gun. It just isn\\'t fair.<br /><br />What makes \"Dressed to Kill\" so good is that not only are the technical credits first rate, but the performances are very good as well. Michael Caine, who was in a lot of crap in this time period, gives one of his best performances as the doctor. Angie Dickinson is better than usual, possibly because she actually has a strong role here. Nancy Allen adds this to her range of performances that has her pegged as one of the most underrated and overlooked actresses in the world. Keith Gordon is wonderful as the genius and i loved all those inventions of his.<br /><br />DePalma is one of our best directors who has never received the recognition he deserved. The recent joke of the AFI 100 Best Thrillers list showed that very few people actually know what a thriller is. If they were to actually open their eyes for once, they would see that DePalma has staked his career in thrillers and is actually the best craftsman. This is even better than \"Psycho\". It\\'s a shame that very few actually know that.<br /><br />**** out of 4 stars']\n"
          ]
        }
      ]
    },
    {
      "cell_type": "markdown",
      "source": [
        "### 2.2. Pre-processing"
      ],
      "metadata": {
        "id": "bmEWej3C24FC"
      }
    },
    {
      "cell_type": "markdown",
      "source": [
        "Input data must be processed:\n",
        "```markdown\n",
        "Tensor(['The film was ....'])\n",
        "Tensor(['I see this movie ...'])\n",
        ". . .\n",
        "```\n",
        "Each tensor is composed of a sentence (and not an entire movie review). So, for one review, several tensors can be generated. It is assumed that each sentence carries a context/meaning. A sentence is defined here as a series of words ending by a `. `, a `? ` or a ' ! `."
      ],
      "metadata": {
        "id": "t7dr6A2lWIJS"
      }
    },
    {
      "cell_type": "code",
      "source": [
        "if device == \"GPU\":\n",
        "  punctuation_to_remove = escape(string.punctuation).replace('.', '').replace('?', '').replace('!', '')"
      ],
      "metadata": {
        "id": "2HK0RxBRxaKr"
      },
      "execution_count": null,
      "outputs": []
    },
    {
      "cell_type": "markdown",
      "source": [
        "The 50 most frequent words in the dataset are also removed. This list of words comes from the Jupyter Notebook [02_classfication_text.ipynb](https://github.com/Benjamin-morel/TensorFlow/tree/main). These words are removed because they carry a little meaning and increase the size of the model's input vectors:\n",
        "\n",
        "```markdown\n",
        "The dog barked loudly --> dog barked loudly --> ['dog', 'barked', 'loudly']\n",
        "```"
      ],
      "metadata": {
        "id": "Hcbf6V3WQNkC"
      }
    },
    {
      "cell_type": "code",
      "source": [
        "if device == \"GPU\":\n",
        "  token_common = [' the ', ' and ', ' a ', ' of ', ' to ', ' is ', ' in ', ' it ', ' i ', ' this ', ' that ', ' br ', ' was ', ' as ', ' with ', ' for ',\n",
        "                  ' you ', ' on ', ' are ', ' one ', ' be ', ' he ', ' its ', ' have ', ' an ', ' by ', ' at ', ' all ', ' from ', ' who ', ' so ',\n",
        "                  ' they ', ' her ', ' just ', ' some ', ' out ', ' about ', ' or ', ' s ', ' if ', '  c  ', ' there ', ' were ', ' would ', ' had ', ' it ', ' we ']"
      ],
      "metadata": {
        "id": "ZCDiZgqznO3T"
      },
      "execution_count": null,
      "outputs": []
    },
    {
      "cell_type": "code",
      "source": [
        "def custom_standardization_for_skip_gram(input_text):\n",
        "  text_modified = tf.strings.lower(input_text) # upper cases --> lower cases\n",
        "  text_modified = tf.strings.regex_replace(text_modified, '<br />', ' ') # remove HTML strings\n",
        "  for i in range(len(token_common)):\n",
        "    text_modified = tf.strings.regex_replace(text_modified, token_common[i], ' ') # remove frequent words\n",
        "  text_modified = tf.strings.regex_replace(text_modified, '[%s]' % punctuation_to_remove, '') # remove punctuation\n",
        "  return text_modified"
      ],
      "metadata": {
        "id": "WYbUfk3h31Ow"
      },
      "execution_count": null,
      "outputs": []
    },
    {
      "cell_type": "code",
      "source": [
        "if device == \"GPU\":\n",
        "  data_skip_gram = data_skip_gram.map(lambda x: custom_standardization_for_skip_gram(x))\n",
        "  for text in data_skip_gram.take(1):\n",
        "    print(\"Here is the result of the transformation: \\n\", text.numpy())"
      ],
      "metadata": {
        "id": "wS7XzSSMxj15",
        "colab": {
          "base_uri": "https://localhost:8080/"
        },
        "outputId": "5686d683-a624-434a-9ab9-a14bcf6f72d4"
      },
      "execution_count": null,
      "outputs": [
        {
          "output_type": "stream",
          "name": "stdout",
          "text": [
            "Here is the result of the transformation: \n",
            " [b'after watching film left two very annoyances film why did make chens character mcguyver hitman lees character such incompetent idiot? chens characters background raised underground cambodian orphanage blood thirsty fighter where learn brawl death like wild dogs. detail pushed early during scene where gets into cab starts drive shows how unfamiliar seat belt. soon after scene has similar situation dim sum restaurant. not only uneducated starving. not reference chens scrawny physique but two early scenes film where scarfing down food which being rice porridge off floor lower deck old ship. si first ten minutes film established chen malnutritioned unmodernizedand has only thing going him his dog brawling fighting style sort. despite situation chen manages outshoot every policeman even managing ricochet bullet off metal pipe hit guy head whom holding chens girlfriend hostage has somehow attained super human strength swings 50 lb block concrete plastered end metal pipe head police chief getting shot chest said chief.  now lees character...okay get it hes depressed hes got baggage but wow can do anything right? moment try make him cool composed ready take care business next moment got beat again. first scene runs into chen manages misses him approx 15 ft multiple times. toward end scene lee watches chen his close friend coworker gets slowly stabbed neck long knife good full 5 seconds while holding gun chen face 10 ft distance. even end movie lee manages get stabbed death fails once again.  my biggest problem movie presented manner film makers trying get audience sympathize chens character killing survive. lot easier didnt watch chen kill innocent people throughout whole awful movie. numerous people killed only two people intention trying kill him police chief lee. others people eating boat owners taxi drivers policemen trying arrest him not kill. overall chens character cold blooded killer kills what wants even free ride. did mention carrying wad hundred dollar bills throughout most film? my 3 stars go interesting directorcamera work got nice shots.  bottomline made nuthugging chen fans. me dog bite dvd']\n"
          ]
        }
      ]
    },
    {
      "cell_type": "markdown",
      "source": [
        "An example of a pre-processed movie review is displayed. Only the punctuation elements `.`, `?` and `!` are retained."
      ],
      "metadata": {
        "id": "87oEZsURRan_"
      }
    },
    {
      "cell_type": "markdown",
      "source": [
        "From these pre-processed texts, the sentences are separated and isolated into tensors."
      ],
      "metadata": {
        "id": "rQ3DJ4c6SJfA"
      }
    },
    {
      "cell_type": "code",
      "source": [
        "def split_sentences(text):\n",
        "  text =  tf.strings.split(text, '. ')\n",
        "  text =  tf.strings.split(text, '? ')\n",
        "  text =  tf.strings.split(text, '! ')\n",
        "  return text"
      ],
      "metadata": {
        "id": "d-xpMZykxvWQ"
      },
      "execution_count": null,
      "outputs": []
    },
    {
      "cell_type": "code",
      "source": [
        "if device == \"GPU\":\n",
        "  data_skip_gram = data_skip_gram.map(lambda x: split_sentences(x))"
      ],
      "metadata": {
        "id": "pkgs2qz-xx-2"
      },
      "execution_count": null,
      "outputs": []
    },
    {
      "cell_type": "markdown",
      "source": [
        "Finally, the tensors contained in `train_ds` - with variable size - are converted into individual scalar tensors."
      ],
      "metadata": {
        "id": "giPPN4gmULcU"
      }
    },
    {
      "cell_type": "code",
      "source": [
        "def split_ragged_tensor(ragged_tensor):\n",
        "  flat_values = ragged_tensor.flat_values\n",
        "  return tf.data.Dataset.from_tensor_slices(flat_values)"
      ],
      "metadata": {
        "id": "4OqamkAlyKxb"
      },
      "execution_count": null,
      "outputs": []
    },
    {
      "cell_type": "code",
      "source": [
        "if device == \"GPU\":\n",
        "  data_skip_gram = data_skip_gram.flat_map(split_ragged_tensor)\n",
        "  for text in data_skip_gram.take(5):\n",
        "    print(\"The skip-gram data are finally a series of sentences: \\n\", text.numpy())"
      ],
      "metadata": {
        "id": "sGE9NNatyMbM",
        "colab": {
          "base_uri": "https://localhost:8080/"
        },
        "outputId": "a59b00f2-4b5c-4945-a0cb-e1e3d82612d9"
      },
      "execution_count": null,
      "outputs": [
        {
          "output_type": "stream",
          "name": "stdout",
          "text": [
            "The skip-gram data are finally a series of sentences: \n",
            " b'i dont words describe how good movie is'\n",
            "The skip-gram data are finally a series of sentences: \n",
            " b'only genius like amrita pritam could written such real depiction days partition'\n",
            "The skip-gram data are finally a series of sentences: \n",
            " b'movie kept haunting me many days'\n",
            "The skip-gram data are finally a series of sentences: \n",
            " b' urmila did role life movie'\n",
            "The skip-gram data are finally a series of sentences: \n",
            " b'she put life role puroo manoj vajpai did no less his role rashid'\n"
          ]
        }
      ]
    },
    {
      "cell_type": "markdown",
      "source": [
        "### 2.3. Vectorization"
      ],
      "metadata": {
        "id": "m5yFx-K027PG"
      }
    },
    {
      "cell_type": "markdown",
      "source": [
        "A maximum of n tokens (default: 20) are generated for each sentence and then vectorized."
      ],
      "metadata": {
        "id": "gO0xPfviSlL2"
      }
    },
    {
      "cell_type": "code",
      "source": [
        "vectorize_layer = tf.keras.layers.TextVectorization(standardize=None, # already done\n",
        "                                                    max_tokens=max_features,\n",
        "                                                    output_mode='int',\n",
        "                                                    output_sequence_length=max_length)"
      ],
      "metadata": {
        "id": "JKsOEFqVWFBL"
      },
      "execution_count": null,
      "outputs": []
    },
    {
      "cell_type": "code",
      "source": [
        "if device == \"GPU\":\n",
        "  vectorize_layer.adapt(data_skip_gram)\n",
        "  data_skip_gram = data_skip_gram.map(vectorize_layer)"
      ],
      "metadata": {
        "id": "0mNNDtBL32_P"
      },
      "execution_count": null,
      "outputs": []
    },
    {
      "cell_type": "code",
      "source": [
        "if device == \"GPU\":\n",
        "  word_list = vectorize_layer.get_vocabulary()\n",
        "  int_list = list(data_skip_gram.as_numpy_iterator())\n",
        "\n",
        "  for seq in int_list[:5]:\n",
        "    print(f\"{seq} => {[word_list[i] for i in seq]}\")"
      ],
      "metadata": {
        "collapsed": true,
        "id": "mVYcxH6OznQJ",
        "colab": {
          "base_uri": "https://localhost:8080/"
        },
        "outputId": "13e7537b-20f6-4fa2-bb92-871e6ff0bb32"
      },
      "execution_count": null,
      "outputs": [
        {
          "output_type": "stream",
          "name": "stdout",
          "text": [
            "[ 79 250   2 297  22 469  31  44  22   0   0   0   0   0   0   0   0   0\n",
            "   0   0] => ['i', 'watched', 'movie', 'second', 'time', 'enjoyed', 'much', 'first', 'time', '', '', '', '', '', '', '', '', '', '', '']\n",
            "[  14  880  266    2   11   72   43  182 1191    0    0    0    0    0\n",
            "    0    0    0    0    0    0] => ['very', 'emotional', 'beautiful', 'movie', 'good', 'acting', 'great', 'family', 'values', '', '', '', '', '', '', '', '', '', '', '']\n",
            "[3566    1    0    0    0    0    0    0    0    0    0    0    0    0\n",
            "    0    0    0    0    0    0] => ['inspiring', '[UNK]', '', '', '', '', '', '', '', '', '', '', '', '', '', '', '', '', '', '']\n",
            "[1805  478 1582    1   75    4 1493 4063 1351  842  458  402 1230    1\n",
            "  636    0    0    0    0    0] => ['dressed', 'kill', 'brian', '[UNK]', 'best', 'film', 'absolute', 'thrill', 'ride', 'suspense', 'humor', 'style', 'remains', '[UNK]', 'today', '', '', '', '', '']\n",
            "[   1    9    1 3747  329   46   39 2221    1   88 4974 2942    0    0\n",
            "    0    0    0    0    0    0] => ['[UNK]', 'has', '[UNK]', 'rap', 'hollywood', 'most', 'people', 'claim', '[UNK]', 'off', 'alfred', 'hitchcock', '', '', '', '', '', '', '', '']\n"
          ]
        }
      ]
    },
    {
      "cell_type": "markdown",
      "source": [
        "---\n",
        "\n",
        "\n",
        "## **3. Embedding word space construction**"
      ],
      "metadata": {
        "id": "shZUw7pEXayn"
      }
    },
    {
      "cell_type": "markdown",
      "source": [
        "### 3.1. Skip-gram pair generation"
      ],
      "metadata": {
        "id": "HPnGyRw02_lC"
      }
    },
    {
      "cell_type": "markdown",
      "source": [
        "Generates skip-gram pairs with negative sampling for a list of sequences (int-encoded sentences) based on window size, number of negative samples and vocabulary size."
      ],
      "metadata": {
        "id": "kbDFjB9AX9nR"
      }
    },
    {
      "cell_type": "code",
      "source": [
        "def generate_training_data(sequences, window_size, num_ns, vocab_size, seed):\n",
        "  targets, contexts, labels = [], [], []\n",
        "\n",
        "  sampling_table = tf.keras.preprocessing.sequence.make_sampling_table(vocab_size) # Build the sampling table for `vocab_size` tokens.\n",
        "\n",
        "  for sequence in sequences: # Iterate over all sequences (sentences) in the dataset\n",
        "\n",
        "    positive_skip_grams, _ = tf.keras.preprocessing.sequence.skipgrams(sequence,\n",
        "                                                                       vocabulary_size=vocab_size,\n",
        "                                                                       sampling_table=sampling_table,\n",
        "                                                                       window_size=window_size,\n",
        "                                                                       negative_samples=0) # Generate positive skip-gram pairs for a sequence (sentence)\n",
        "\n",
        "    for target_word, context_word in positive_skip_grams: # Iterate over each positive skip-gram pair to produce training examples with a positive context word and negative samples.\n",
        "\n",
        "      context_class = tf.expand_dims(tf.constant([context_word], dtype=\"int64\"), 1)\n",
        "\n",
        "      negative_sampling_candidates, _, _ = tf.random.log_uniform_candidate_sampler(true_classes=context_class,\n",
        "                                                                                   num_true=1,\n",
        "                                                                                   num_sampled=num_ns,\n",
        "                                                                                   unique=True,\n",
        "                                                                                   range_max=vocab_size,\n",
        "                                                                                   seed=seed,\n",
        "                                                                                   name=\"negative_sampling\")\n",
        "\n",
        "\n",
        "      context = tf.concat([tf.squeeze(context_class,1), negative_sampling_candidates], 0) # Build context and label vectors (for one target word)\n",
        "      label = tf.constant([1] + [0]*num_ns, dtype=\"int64\")\n",
        "\n",
        "      targets.append(target_word) # Append each element from the training example to global lists.\n",
        "      contexts.append(context)\n",
        "      labels.append(label)\n",
        "\n",
        "  return targets, contexts, labels"
      ],
      "metadata": {
        "id": "QA4gyGLV3qak"
      },
      "execution_count": null,
      "outputs": []
    },
    {
      "cell_type": "code",
      "source": [
        "if device == \"GPU\":\n",
        "  targets, contexts, labels = generate_training_data(sequences=int_list,\n",
        "                                                    window_size=2,\n",
        "                                                    num_ns=4,\n",
        "                                                    vocab_size=max_features,\n",
        "                                                    seed=1)\n",
        "\n",
        "  targets = np.array(targets)\n",
        "  contexts = np.array(contexts)\n",
        "  labels = np.array(labels)\n",
        "\n",
        "  print(f\"targets.shape: {targets.shape}\")\n",
        "  print(f\"contexts.shape: {contexts.shape}\")\n",
        "  print(f\"labels.shape: {labels.shape}\")"
      ],
      "metadata": {
        "id": "T_fLkogA3-gF",
        "colab": {
          "base_uri": "https://localhost:8080/"
        },
        "outputId": "2cab1819-fd31-45d6-8ff3-ae402ea413ea"
      },
      "execution_count": null,
      "outputs": [
        {
          "output_type": "stream",
          "name": "stdout",
          "text": [
            "targets.shape: (1808313,)\n",
            "contexts.shape: (1808313, 5)\n",
            "labels.shape: (1808313, 5)\n"
          ]
        }
      ]
    },
    {
      "cell_type": "markdown",
      "source": [
        "### 3.2. Performances and batches"
      ],
      "metadata": {
        "id": "UgY7QoLBYBrf"
      }
    },
    {
      "cell_type": "code",
      "source": [
        "if device == \"GPU\":\n",
        "  batch_size = 1024\n",
        "  AUTOTUNE = tf.data.AUTOTUNE\n",
        "  dataset = tf.data.Dataset.from_tensor_slices(((targets, contexts), labels))\n",
        "  dataset = dataset.shuffle(len(targets)).batch(batch_size).repeat()\n",
        "\n",
        "  dataset = dataset.cache().prefetch(buffer_size=AUTOTUNE)"
      ],
      "metadata": {
        "id": "8NoVgzD-KC-S"
      },
      "execution_count": null,
      "outputs": []
    },
    {
      "cell_type": "markdown",
      "source": [
        "### 3.3. Model definition"
      ],
      "metadata": {
        "id": "tiVadQe9YHMm"
      }
    },
    {
      "cell_type": "code",
      "source": [
        "@keras.utils.register_keras_serializable()\n",
        "class Word2Vec(tf.keras.Model):\n",
        "  def __init__(self, vocab_size, embedding_dim, **kwargs):\n",
        "    super(Word2Vec, self).__init__()\n",
        "    self.vocab_size = vocab_size # Store vocab_size as an attribute\n",
        "    self.embedding_dim = embedding_dim # Store embedding_dim as an attribute\n",
        "    self.target_embedding = tf.keras.layers.Embedding(vocab_size,\n",
        "                                      embedding_dim,\n",
        "                                      name=\"w2v_embedding\")\n",
        "    self.context_embedding = tf.keras.layers.Embedding(vocab_size,\n",
        "                                       embedding_dim)\n",
        "\n",
        "  def call(self, pair):\n",
        "    target, context = pair\n",
        "    # target: (batch, dummy?)  # The dummy axis doesn't exist in TF2.7+\n",
        "    # context: (batch, context)\n",
        "    if len(target.shape) == 2:\n",
        "      target = tf.squeeze(target, axis=1)\n",
        "    # target: (batch,)\n",
        "    word_emb = self.target_embedding(target)\n",
        "    # word_emb: (batch, embed)\n",
        "    context_emb = self.context_embedding(context)\n",
        "    # context_emb: (batch, context, embed)\n",
        "    dots = tf.einsum('be,bce->bc', word_emb, context_emb)\n",
        "    # dots: (batch, context)\n",
        "    return dots\n",
        "\n",
        "  def get_config(self): # Define get_config to include vocab_size and embedding_dim\n",
        "    config = super(Word2Vec, self).get_config()\n",
        "    config.update({\"vocab_size\": self.vocab_size, \"embedding_dim\": self.embedding_dim})\n",
        "    return config\n",
        "\n",
        "  @classmethod\n",
        "  def from_config(cls, config): # Define from_config to use vocab_size and embedding_dim\n",
        "      return cls(**config)"
      ],
      "metadata": {
        "id": "-Fmo3B7x4Ebi"
      },
      "execution_count": null,
      "outputs": []
    },
    {
      "cell_type": "code",
      "source": [
        "def create_model(embedding_dim):\n",
        "  model = Word2Vec(max_features, embedding_dim)\n",
        "  model.compile(optimizer='adam',\n",
        "                loss=tf.keras.losses.CategoricalCrossentropy(from_logits=True),\n",
        "                metrics=None)\n",
        "  return model"
      ],
      "metadata": {
        "id": "_AUxMqyq9jq3"
      },
      "execution_count": null,
      "outputs": []
    },
    {
      "cell_type": "markdown",
      "source": [
        "### 3.4. Training phase"
      ],
      "metadata": {
        "id": "_-D7FGkZYKg0"
      }
    },
    {
      "cell_type": "code",
      "source": [
        "def train_model(model, training_data, steps_per_epoch, **kwargs):\n",
        "  kwargs.setdefault(\"epochs\", 3)\n",
        "  kwargs.setdefault(\"verbose\", 2)\n",
        "  log = model.fit(training_data, steps_per_epoch = steps_per_epoch, **kwargs)\n",
        "\n",
        "  return log.history[\"loss\"]"
      ],
      "metadata": {
        "id": "MmaQTLUD8bE0"
      },
      "execution_count": null,
      "outputs": []
    },
    {
      "cell_type": "code",
      "source": [
        "if device == \"GPU\":\n",
        "  steps_per_epoch = len(targets) // batch_size\n",
        "  history = train_model(model, dataset, steps_per_epoch)\n",
        "  model.save('07_word2vec.keras')\n",
        "else:\n",
        "  model, dictionary_embedding, vocab, classifier_model = get_github_files()"
      ],
      "metadata": {
        "colab": {
          "base_uri": "https://localhost:8080/"
        },
        "id": "WxdU_xWo-Fpk",
        "outputId": "c7d8faf0-5475-4228-820a-b0ee4b3e96dd"
      },
      "execution_count": null,
      "outputs": [
        {
          "output_type": "stream",
          "name": "stdout",
          "text": [
            "Epoch 1/3\n",
            "1765/1765 - 21s - 12ms/step - loss: 1.1974\n",
            "Epoch 2/3\n",
            "1765/1765 - 21s - 12ms/step - loss: 1.1973\n",
            "Epoch 3/3\n",
            "1765/1765 - 21s - 12ms/step - loss: 1.1971\n"
          ]
        }
      ]
    },
    {
      "cell_type": "markdown",
      "source": [
        "---\n",
        "\n",
        "\n",
        "## **4. Classification model and training**"
      ],
      "metadata": {
        "id": "jQVDTF20a9vD"
      }
    },
    {
      "cell_type": "markdown",
      "source": [
        "### 4.1. Pre-processing layer for classification model"
      ],
      "metadata": {
        "id": "VXKYegYQbEmU"
      }
    },
    {
      "cell_type": "code",
      "source": [
        "weights = model.get_layer('w2v_embedding').get_weights()[0]"
      ],
      "metadata": {
        "id": "EsQnN_yhbLEs"
      },
      "execution_count": null,
      "outputs": []
    },
    {
      "cell_type": "code",
      "source": [
        "@keras.utils.register_keras_serializable()\n",
        "def custom_standardization_classification(input_text):\n",
        "  no_uppercase = tf.strings.lower(input_text) # upper case --> lower case letters\n",
        "  no_html_uppercase = tf.strings.regex_replace(no_uppercase, '<br />', ' ') # remove HTML strings\n",
        "  no_punctuation_html_uppercase = tf.strings.regex_replace(no_html_uppercase, '[%s]' % escape(string.punctuation), '') # remove punctuation\n",
        "  return no_punctuation_html_uppercase"
      ],
      "metadata": {
        "id": "L9ysUj4JbPOb"
      },
      "execution_count": null,
      "outputs": []
    },
    {
      "cell_type": "code",
      "source": [
        "raw_train_ds = raw_train_ds.map(lambda x, y: (custom_standardization_classification(x), y))\n",
        "raw_test_ds = raw_test_ds.map(lambda x, y: (custom_standardization_classification(x), y))\n",
        "raw_val_ds = raw_val_ds.map(lambda x, y: (custom_standardization_classification(x), y))"
      ],
      "metadata": {
        "id": "3tGceeJhbTyd"
      },
      "execution_count": null,
      "outputs": []
    },
    {
      "cell_type": "code",
      "source": [
        "max_length = 500 # truncate to the 500th word\n",
        "\n",
        "vectorize_layer1 = keras.layers.TextVectorization(standardize=None,\n",
        "                                                 max_tokens=max_features,\n",
        "                                                 output_sequence_length=max_length,\n",
        "                                                 output_mode='int',\n",
        "                                                 vocabulary = word_list\n",
        "                                                 )"
      ],
      "metadata": {
        "id": "gyUkUs0AbXdC"
      },
      "execution_count": null,
      "outputs": []
    },
    {
      "cell_type": "code",
      "source": [
        "AUTOTUNE = tf.data.AUTOTUNE\n",
        "\n",
        "raw_train_ds = raw_train_ds.cache().prefetch(buffer_size=AUTOTUNE)\n",
        "raw_test_ds = raw_test_ds.cache().prefetch(buffer_size=AUTOTUNE)\n",
        "raw_val_ds = raw_val_ds.cache().prefetch(buffer_size=AUTOTUNE)"
      ],
      "metadata": {
        "id": "7e6_fEX5bdv5"
      },
      "execution_count": null,
      "outputs": []
    },
    {
      "cell_type": "markdown",
      "source": [
        "### 4.2. Classification model"
      ],
      "metadata": {
        "id": "MpvsmZXcbf-X"
      }
    },
    {
      "cell_type": "code",
      "source": [
        "custom_embedding_layer = keras.Sequential([keras.layers.Embedding(input_dim = max_features, output_dim = 16, embeddings_initializer=keras.initializers.Constant(weights))])"
      ],
      "metadata": {
        "id": "8sPG9_jCbj49"
      },
      "execution_count": null,
      "outputs": []
    },
    {
      "cell_type": "code",
      "source": [
        "custom_embedding_layer.trainable = False"
      ],
      "metadata": {
        "id": "Pm68bjsObl6v"
      },
      "execution_count": null,
      "outputs": []
    },
    {
      "cell_type": "code",
      "source": [
        "def create_classifier():\n",
        "  embedding_dim = 16\n",
        "  model = keras.Sequential([vectorize_layer1, # pre-processing layer\n",
        "                            custom_embedding_layer,\n",
        "                            keras.layers.Dropout(0.2),\n",
        "                            keras.layers.Dense(16, activation='relu'),\n",
        "                            keras.layers.GlobalAveragePooling1D(),\n",
        "                            keras.layers.Dropout(0.2),\n",
        "                            keras.layers.Dense(1, activation='sigmoid')\n",
        "                            ], name=\"classification_text_model\")\n",
        "\n",
        "  model.compile(loss=keras.losses.BinaryCrossentropy(from_logits=False),\n",
        "                optimizer=keras.optimizers.Adam(learning_rate=0.001),\n",
        "                metrics=[tf.metrics.BinaryAccuracy(name=\"binary_accuracy\", threshold=0.5)])\n",
        "\n",
        "  return model"
      ],
      "metadata": {
        "id": "o91K6dGRbttb"
      },
      "execution_count": null,
      "outputs": []
    },
    {
      "cell_type": "code",
      "source": [
        "def train_classifier(model, training_data, validation_data, callbacks, **kwargs):\n",
        "  kwargs.setdefault(\"epochs\", 5)\n",
        "  kwargs.setdefault(\"verbose\", 1)\n",
        "  log = model.fit(training_data, validation_data=validation_data, callbacks=callbacks, **kwargs)\n",
        "\n",
        "  return log.history[\"loss\"], log.history[\"binary_accuracy\"], log.history[\"val_loss\"], log.history[\"val_binary_accuracy\"]"
      ],
      "metadata": {
        "id": "-ShwqBsOb5Dd"
      },
      "execution_count": null,
      "outputs": []
    },
    {
      "cell_type": "code",
      "source": [
        "if device == \"GPU\":\n",
        "  stop_early = keras.callbacks.EarlyStopping(monitor='val_binary_accuracy',\n",
        "                                            patience=20,\n",
        "                                            restore_best_weights=True,\n",
        "                                            min_delta=0.001)"
      ],
      "metadata": {
        "id": "r03OvT0zuBxZ"
      },
      "execution_count": null,
      "outputs": []
    },
    {
      "cell_type": "code",
      "source": [
        "if device == \"GPU\":\n",
        "  epochs = 100\n",
        "  classifier_model = create_classifier()\n",
        "  classifier_accuracy = train_classifier(classifier_model, raw_train_ds, raw_val_ds, callbacks=stop_early, epochs=epochs)\n",
        "  print(\"Accuracy max %0.1f %% reached at the epoch %d\" %(100*max(classifier_accuracy[3]), np.argmax(classifier_accuracy[3])+1))\n",
        "  classifier_model.save('07_classification_text.keras')"
      ],
      "metadata": {
        "id": "aI4QvL6avN-T",
        "colab": {
          "base_uri": "https://localhost:8080/"
        },
        "outputId": "c95f9b6f-5e13-4295-c025-520bad34cea6"
      },
      "execution_count": null,
      "outputs": [
        {
          "output_type": "stream",
          "name": "stdout",
          "text": [
            "Epoch 1/100\n",
            "\u001b[1m625/625\u001b[0m \u001b[32m━━━━━━━━━━━━━━━━━━━━\u001b[0m\u001b[37m\u001b[0m \u001b[1m10s\u001b[0m 13ms/step - binary_accuracy: 0.5534 - loss: 0.6886 - val_binary_accuracy: 0.6126 - val_loss: 0.6760\n",
            "Epoch 2/100\n",
            "\u001b[1m625/625\u001b[0m \u001b[32m━━━━━━━━━━━━━━━━━━━━\u001b[0m\u001b[37m\u001b[0m \u001b[1m7s\u001b[0m 11ms/step - binary_accuracy: 0.5956 - loss: 0.6743 - val_binary_accuracy: 0.6394 - val_loss: 0.6592\n",
            "Epoch 3/100\n",
            "\u001b[1m625/625\u001b[0m \u001b[32m━━━━━━━━━━━━━━━━━━━━\u001b[0m\u001b[37m\u001b[0m \u001b[1m8s\u001b[0m 12ms/step - binary_accuracy: 0.6234 - loss: 0.6600 - val_binary_accuracy: 0.6574 - val_loss: 0.6460\n",
            "Epoch 4/100\n",
            "\u001b[1m625/625\u001b[0m \u001b[32m━━━━━━━━━━━━━━━━━━━━\u001b[0m\u001b[37m\u001b[0m \u001b[1m7s\u001b[0m 12ms/step - binary_accuracy: 0.6334 - loss: 0.6500 - val_binary_accuracy: 0.6716 - val_loss: 0.6364\n",
            "Epoch 5/100\n",
            "\u001b[1m625/625\u001b[0m \u001b[32m━━━━━━━━━━━━━━━━━━━━\u001b[0m\u001b[37m\u001b[0m \u001b[1m7s\u001b[0m 11ms/step - binary_accuracy: 0.6427 - loss: 0.6443 - val_binary_accuracy: 0.6820 - val_loss: 0.6284\n",
            "Epoch 6/100\n",
            "\u001b[1m625/625\u001b[0m \u001b[32m━━━━━━━━━━━━━━━━━━━━\u001b[0m\u001b[37m\u001b[0m \u001b[1m11s\u001b[0m 13ms/step - binary_accuracy: 0.6487 - loss: 0.6387 - val_binary_accuracy: 0.6906 - val_loss: 0.6230\n",
            "Epoch 7/100\n",
            "\u001b[1m625/625\u001b[0m \u001b[32m━━━━━━━━━━━━━━━━━━━━\u001b[0m\u001b[37m\u001b[0m \u001b[1m6s\u001b[0m 10ms/step - binary_accuracy: 0.6552 - loss: 0.6340 - val_binary_accuracy: 0.6990 - val_loss: 0.6170\n",
            "Epoch 8/100\n",
            "\u001b[1m625/625\u001b[0m \u001b[32m━━━━━━━━━━━━━━━━━━━━\u001b[0m\u001b[37m\u001b[0m \u001b[1m11s\u001b[0m 12ms/step - binary_accuracy: 0.6604 - loss: 0.6310 - val_binary_accuracy: 0.7050 - val_loss: 0.6120\n",
            "Epoch 9/100\n",
            "\u001b[1m625/625\u001b[0m \u001b[32m━━━━━━━━━━━━━━━━━━━━\u001b[0m\u001b[37m\u001b[0m \u001b[1m8s\u001b[0m 13ms/step - binary_accuracy: 0.6668 - loss: 0.6250 - val_binary_accuracy: 0.7124 - val_loss: 0.6066\n",
            "Epoch 10/100\n",
            "\u001b[1m625/625\u001b[0m \u001b[32m━━━━━━━━━━━━━━━━━━━━\u001b[0m\u001b[37m\u001b[0m \u001b[1m14s\u001b[0m 19ms/step - binary_accuracy: 0.6768 - loss: 0.6199 - val_binary_accuracy: 0.7184 - val_loss: 0.6017\n",
            "Epoch 11/100\n",
            "\u001b[1m625/625\u001b[0m \u001b[32m━━━━━━━━━━━━━━━━━━━━\u001b[0m\u001b[37m\u001b[0m \u001b[1m7s\u001b[0m 10ms/step - binary_accuracy: 0.6723 - loss: 0.6174 - val_binary_accuracy: 0.7206 - val_loss: 0.5972\n",
            "Epoch 12/100\n",
            "\u001b[1m625/625\u001b[0m \u001b[32m━━━━━━━━━━━━━━━━━━━━\u001b[0m\u001b[37m\u001b[0m \u001b[1m8s\u001b[0m 13ms/step - binary_accuracy: 0.6794 - loss: 0.6120 - val_binary_accuracy: 0.7216 - val_loss: 0.5927\n",
            "Epoch 13/100\n",
            "\u001b[1m625/625\u001b[0m \u001b[32m━━━━━━━━━━━━━━━━━━━━\u001b[0m\u001b[37m\u001b[0m \u001b[1m7s\u001b[0m 10ms/step - binary_accuracy: 0.6825 - loss: 0.6074 - val_binary_accuracy: 0.7184 - val_loss: 0.5907\n",
            "Epoch 14/100\n",
            "\u001b[1m625/625\u001b[0m \u001b[32m━━━━━━━━━━━━━━━━━━━━\u001b[0m\u001b[37m\u001b[0m \u001b[1m8s\u001b[0m 13ms/step - binary_accuracy: 0.6893 - loss: 0.6033 - val_binary_accuracy: 0.7292 - val_loss: 0.5846\n",
            "Epoch 15/100\n",
            "\u001b[1m625/625\u001b[0m \u001b[32m━━━━━━━━━━━━━━━━━━━━\u001b[0m\u001b[37m\u001b[0m \u001b[1m7s\u001b[0m 10ms/step - binary_accuracy: 0.6926 - loss: 0.6022 - val_binary_accuracy: 0.7280 - val_loss: 0.5824\n",
            "Epoch 16/100\n",
            "\u001b[1m625/625\u001b[0m \u001b[32m━━━━━━━━━━━━━━━━━━━━\u001b[0m\u001b[37m\u001b[0m \u001b[1m8s\u001b[0m 13ms/step - binary_accuracy: 0.6940 - loss: 0.5993 - val_binary_accuracy: 0.7284 - val_loss: 0.5800\n",
            "Epoch 17/100\n",
            "\u001b[1m625/625\u001b[0m \u001b[32m━━━━━━━━━━━━━━━━━━━━\u001b[0m\u001b[37m\u001b[0m \u001b[1m7s\u001b[0m 11ms/step - binary_accuracy: 0.7042 - loss: 0.5945 - val_binary_accuracy: 0.7322 - val_loss: 0.5743\n",
            "Epoch 18/100\n",
            "\u001b[1m625/625\u001b[0m \u001b[32m━━━━━━━━━━━━━━━━━━━━\u001b[0m\u001b[37m\u001b[0m \u001b[1m10s\u001b[0m 11ms/step - binary_accuracy: 0.6998 - loss: 0.5937 - val_binary_accuracy: 0.7330 - val_loss: 0.5726\n",
            "Epoch 19/100\n",
            "\u001b[1m625/625\u001b[0m \u001b[32m━━━━━━━━━━━━━━━━━━━━\u001b[0m\u001b[37m\u001b[0m \u001b[1m9s\u001b[0m 14ms/step - binary_accuracy: 0.7061 - loss: 0.5879 - val_binary_accuracy: 0.7360 - val_loss: 0.5688\n",
            "Epoch 20/100\n",
            "\u001b[1m625/625\u001b[0m \u001b[32m━━━━━━━━━━━━━━━━━━━━\u001b[0m\u001b[37m\u001b[0m \u001b[1m7s\u001b[0m 11ms/step - binary_accuracy: 0.7114 - loss: 0.5846 - val_binary_accuracy: 0.7382 - val_loss: 0.5660\n",
            "Epoch 21/100\n",
            "\u001b[1m625/625\u001b[0m \u001b[32m━━━━━━━━━━━━━━━━━━━━\u001b[0m\u001b[37m\u001b[0m \u001b[1m8s\u001b[0m 13ms/step - binary_accuracy: 0.7061 - loss: 0.5863 - val_binary_accuracy: 0.7438 - val_loss: 0.5630\n",
            "Epoch 22/100\n",
            "\u001b[1m625/625\u001b[0m \u001b[32m━━━━━━━━━━━━━━━━━━━━\u001b[0m\u001b[37m\u001b[0m \u001b[1m7s\u001b[0m 11ms/step - binary_accuracy: 0.7125 - loss: 0.5806 - val_binary_accuracy: 0.7452 - val_loss: 0.5602\n",
            "Epoch 23/100\n",
            "\u001b[1m625/625\u001b[0m \u001b[32m━━━━━━━━━━━━━━━━━━━━\u001b[0m\u001b[37m\u001b[0m \u001b[1m9s\u001b[0m 14ms/step - binary_accuracy: 0.7152 - loss: 0.5765 - val_binary_accuracy: 0.7472 - val_loss: 0.5576\n",
            "Epoch 24/100\n",
            "\u001b[1m625/625\u001b[0m \u001b[32m━━━━━━━━━━━━━━━━━━━━\u001b[0m\u001b[37m\u001b[0m \u001b[1m7s\u001b[0m 11ms/step - binary_accuracy: 0.7144 - loss: 0.5750 - val_binary_accuracy: 0.7514 - val_loss: 0.5538\n",
            "Epoch 25/100\n",
            "\u001b[1m625/625\u001b[0m \u001b[32m━━━━━━━━━━━━━━━━━━━━\u001b[0m\u001b[37m\u001b[0m \u001b[1m8s\u001b[0m 13ms/step - binary_accuracy: 0.7202 - loss: 0.5723 - val_binary_accuracy: 0.7498 - val_loss: 0.5525\n",
            "Epoch 26/100\n",
            "\u001b[1m625/625\u001b[0m \u001b[32m━━━━━━━━━━━━━━━━━━━━\u001b[0m\u001b[37m\u001b[0m \u001b[1m10s\u001b[0m 13ms/step - binary_accuracy: 0.7166 - loss: 0.5705 - val_binary_accuracy: 0.7508 - val_loss: 0.5500\n",
            "Epoch 27/100\n",
            "\u001b[1m625/625\u001b[0m \u001b[32m━━━━━━━━━━━━━━━━━━━━\u001b[0m\u001b[37m\u001b[0m \u001b[1m9s\u001b[0m 11ms/step - binary_accuracy: 0.7280 - loss: 0.5676 - val_binary_accuracy: 0.7554 - val_loss: 0.5466\n",
            "Epoch 28/100\n",
            "\u001b[1m625/625\u001b[0m \u001b[32m━━━━━━━━━━━━━━━━━━━━\u001b[0m\u001b[37m\u001b[0m \u001b[1m10s\u001b[0m 11ms/step - binary_accuracy: 0.7156 - loss: 0.5682 - val_binary_accuracy: 0.7544 - val_loss: 0.5447\n",
            "Epoch 29/100\n",
            "\u001b[1m625/625\u001b[0m \u001b[32m━━━━━━━━━━━━━━━━━━━━\u001b[0m\u001b[37m\u001b[0m \u001b[1m8s\u001b[0m 13ms/step - binary_accuracy: 0.7259 - loss: 0.5647 - val_binary_accuracy: 0.7564 - val_loss: 0.5428\n",
            "Epoch 30/100\n",
            "\u001b[1m625/625\u001b[0m \u001b[32m━━━━━━━━━━━━━━━━━━━━\u001b[0m\u001b[37m\u001b[0m \u001b[1m7s\u001b[0m 10ms/step - binary_accuracy: 0.7262 - loss: 0.5620 - val_binary_accuracy: 0.7602 - val_loss: 0.5406\n",
            "Epoch 31/100\n",
            "\u001b[1m625/625\u001b[0m \u001b[32m━━━━━━━━━━━━━━━━━━━━\u001b[0m\u001b[37m\u001b[0m \u001b[1m11s\u001b[0m 11ms/step - binary_accuracy: 0.7252 - loss: 0.5620 - val_binary_accuracy: 0.7624 - val_loss: 0.5373\n",
            "Epoch 32/100\n",
            "\u001b[1m625/625\u001b[0m \u001b[32m━━━━━━━━━━━━━━━━━━━━\u001b[0m\u001b[37m\u001b[0m \u001b[1m8s\u001b[0m 13ms/step - binary_accuracy: 0.7393 - loss: 0.5517 - val_binary_accuracy: 0.7622 - val_loss: 0.5354\n",
            "Epoch 33/100\n",
            "\u001b[1m625/625\u001b[0m \u001b[32m━━━━━━━━━━━━━━━━━━━━\u001b[0m\u001b[37m\u001b[0m \u001b[1m7s\u001b[0m 10ms/step - binary_accuracy: 0.7337 - loss: 0.5521 - val_binary_accuracy: 0.7652 - val_loss: 0.5324\n",
            "Epoch 34/100\n",
            "\u001b[1m625/625\u001b[0m \u001b[32m━━━━━━━━━━━━━━━━━━━━\u001b[0m\u001b[37m\u001b[0m \u001b[1m8s\u001b[0m 13ms/step - binary_accuracy: 0.7290 - loss: 0.5566 - val_binary_accuracy: 0.7648 - val_loss: 0.5310\n",
            "Epoch 35/100\n",
            "\u001b[1m625/625\u001b[0m \u001b[32m━━━━━━━━━━━━━━━━━━━━\u001b[0m\u001b[37m\u001b[0m \u001b[1m9s\u001b[0m 10ms/step - binary_accuracy: 0.7291 - loss: 0.5506 - val_binary_accuracy: 0.7662 - val_loss: 0.5290\n",
            "Epoch 36/100\n",
            "\u001b[1m625/625\u001b[0m \u001b[32m━━━━━━━━━━━━━━━━━━━━\u001b[0m\u001b[37m\u001b[0m \u001b[1m8s\u001b[0m 13ms/step - binary_accuracy: 0.7366 - loss: 0.5457 - val_binary_accuracy: 0.7682 - val_loss: 0.5268\n",
            "Epoch 37/100\n",
            "\u001b[1m625/625\u001b[0m \u001b[32m━━━━━━━━━━━━━━━━━━━━\u001b[0m\u001b[37m\u001b[0m \u001b[1m10s\u001b[0m 12ms/step - binary_accuracy: 0.7316 - loss: 0.5496 - val_binary_accuracy: 0.7682 - val_loss: 0.5264\n",
            "Epoch 38/100\n",
            "\u001b[1m625/625\u001b[0m \u001b[32m━━━━━━━━━━━━━━━━━━━━\u001b[0m\u001b[37m\u001b[0m \u001b[1m7s\u001b[0m 11ms/step - binary_accuracy: 0.7371 - loss: 0.5454 - val_binary_accuracy: 0.7686 - val_loss: 0.5234\n",
            "Epoch 39/100\n",
            "\u001b[1m625/625\u001b[0m \u001b[32m━━━━━━━━━━━━━━━━━━━━\u001b[0m\u001b[37m\u001b[0m \u001b[1m11s\u001b[0m 13ms/step - binary_accuracy: 0.7373 - loss: 0.5443 - val_binary_accuracy: 0.7704 - val_loss: 0.5219\n",
            "Epoch 40/100\n",
            "\u001b[1m625/625\u001b[0m \u001b[32m━━━━━━━━━━━━━━━━━━━━\u001b[0m\u001b[37m\u001b[0m \u001b[1m10s\u001b[0m 12ms/step - binary_accuracy: 0.7381 - loss: 0.5422 - val_binary_accuracy: 0.7734 - val_loss: 0.5200\n",
            "Epoch 41/100\n",
            "\u001b[1m625/625\u001b[0m \u001b[32m━━━━━━━━━━━━━━━━━━━━\u001b[0m\u001b[37m\u001b[0m \u001b[1m8s\u001b[0m 12ms/step - binary_accuracy: 0.7472 - loss: 0.5376 - val_binary_accuracy: 0.7730 - val_loss: 0.5182\n",
            "Epoch 42/100\n",
            "\u001b[1m625/625\u001b[0m \u001b[32m━━━━━━━━━━━━━━━━━━━━\u001b[0m\u001b[37m\u001b[0m \u001b[1m11s\u001b[0m 13ms/step - binary_accuracy: 0.7399 - loss: 0.5406 - val_binary_accuracy: 0.7740 - val_loss: 0.5165\n",
            "Epoch 43/100\n",
            "\u001b[1m625/625\u001b[0m \u001b[32m━━━━━━━━━━━━━━━━━━━━\u001b[0m\u001b[37m\u001b[0m \u001b[1m12s\u001b[0m 15ms/step - binary_accuracy: 0.7410 - loss: 0.5398 - val_binary_accuracy: 0.7746 - val_loss: 0.5150\n",
            "Epoch 44/100\n",
            "\u001b[1m625/625\u001b[0m \u001b[32m━━━━━━━━━━━━━━━━━━━━\u001b[0m\u001b[37m\u001b[0m \u001b[1m6s\u001b[0m 10ms/step - binary_accuracy: 0.7374 - loss: 0.5408 - val_binary_accuracy: 0.7748 - val_loss: 0.5142\n",
            "Epoch 45/100\n",
            "\u001b[1m625/625\u001b[0m \u001b[32m━━━━━━━━━━━━━━━━━━━━\u001b[0m\u001b[37m\u001b[0m \u001b[1m8s\u001b[0m 13ms/step - binary_accuracy: 0.7371 - loss: 0.5369 - val_binary_accuracy: 0.7766 - val_loss: 0.5128\n",
            "Epoch 46/100\n",
            "\u001b[1m625/625\u001b[0m \u001b[32m━━━━━━━━━━━━━━━━━━━━\u001b[0m\u001b[37m\u001b[0m \u001b[1m9s\u001b[0m 11ms/step - binary_accuracy: 0.7421 - loss: 0.5357 - val_binary_accuracy: 0.7772 - val_loss: 0.5114\n",
            "Epoch 47/100\n",
            "\u001b[1m625/625\u001b[0m \u001b[32m━━━━━━━━━━━━━━━━━━━━\u001b[0m\u001b[37m\u001b[0m \u001b[1m8s\u001b[0m 13ms/step - binary_accuracy: 0.7423 - loss: 0.5298 - val_binary_accuracy: 0.7760 - val_loss: 0.5105\n",
            "Epoch 48/100\n",
            "\u001b[1m625/625\u001b[0m \u001b[32m━━━━━━━━━━━━━━━━━━━━\u001b[0m\u001b[37m\u001b[0m \u001b[1m7s\u001b[0m 11ms/step - binary_accuracy: 0.7462 - loss: 0.5318 - val_binary_accuracy: 0.7788 - val_loss: 0.5088\n",
            "Epoch 49/100\n",
            "\u001b[1m625/625\u001b[0m \u001b[32m━━━━━━━━━━━━━━━━━━━━\u001b[0m\u001b[37m\u001b[0m \u001b[1m10s\u001b[0m 11ms/step - binary_accuracy: 0.7467 - loss: 0.5300 - val_binary_accuracy: 0.7788 - val_loss: 0.5077\n",
            "Epoch 50/100\n",
            "\u001b[1m625/625\u001b[0m \u001b[32m━━━━━━━━━━━━━━━━━━━━\u001b[0m\u001b[37m\u001b[0m \u001b[1m8s\u001b[0m 13ms/step - binary_accuracy: 0.7451 - loss: 0.5267 - val_binary_accuracy: 0.7792 - val_loss: 0.5063\n",
            "Epoch 51/100\n",
            "\u001b[1m625/625\u001b[0m \u001b[32m━━━━━━━━━━━━━━━━━━━━\u001b[0m\u001b[37m\u001b[0m \u001b[1m10s\u001b[0m 12ms/step - binary_accuracy: 0.7487 - loss: 0.5264 - val_binary_accuracy: 0.7820 - val_loss: 0.5048\n",
            "Epoch 52/100\n",
            "\u001b[1m625/625\u001b[0m \u001b[32m━━━━━━━━━━━━━━━━━━━━\u001b[0m\u001b[37m\u001b[0m \u001b[1m7s\u001b[0m 12ms/step - binary_accuracy: 0.7468 - loss: 0.5260 - val_binary_accuracy: 0.7814 - val_loss: 0.5039\n",
            "Epoch 53/100\n",
            "\u001b[1m625/625\u001b[0m \u001b[32m━━━━━━━━━━━━━━━━━━━━\u001b[0m\u001b[37m\u001b[0m \u001b[1m8s\u001b[0m 13ms/step - binary_accuracy: 0.7482 - loss: 0.5271 - val_binary_accuracy: 0.7822 - val_loss: 0.5031\n",
            "Epoch 54/100\n",
            "\u001b[1m625/625\u001b[0m \u001b[32m━━━━━━━━━━━━━━━━━━━━\u001b[0m\u001b[37m\u001b[0m \u001b[1m7s\u001b[0m 11ms/step - binary_accuracy: 0.7486 - loss: 0.5256 - val_binary_accuracy: 0.7816 - val_loss: 0.5024\n",
            "Epoch 55/100\n",
            "\u001b[1m625/625\u001b[0m \u001b[32m━━━━━━━━━━━━━━━━━━━━\u001b[0m\u001b[37m\u001b[0m \u001b[1m9s\u001b[0m 14ms/step - binary_accuracy: 0.7519 - loss: 0.5237 - val_binary_accuracy: 0.7830 - val_loss: 0.5013\n",
            "Epoch 56/100\n",
            "\u001b[1m625/625\u001b[0m \u001b[32m━━━━━━━━━━━━━━━━━━━━\u001b[0m\u001b[37m\u001b[0m \u001b[1m9s\u001b[0m 11ms/step - binary_accuracy: 0.7508 - loss: 0.5281 - val_binary_accuracy: 0.7828 - val_loss: 0.5015\n",
            "Epoch 57/100\n",
            "\u001b[1m625/625\u001b[0m \u001b[32m━━━━━━━━━━━━━━━━━━━━\u001b[0m\u001b[37m\u001b[0m \u001b[1m8s\u001b[0m 13ms/step - binary_accuracy: 0.7425 - loss: 0.5304 - val_binary_accuracy: 0.7846 - val_loss: 0.5003\n",
            "Epoch 58/100\n",
            "\u001b[1m625/625\u001b[0m \u001b[32m━━━━━━━━━━━━━━━━━━━━\u001b[0m\u001b[37m\u001b[0m \u001b[1m10s\u001b[0m 13ms/step - binary_accuracy: 0.7501 - loss: 0.5241 - val_binary_accuracy: 0.7844 - val_loss: 0.4992\n",
            "Epoch 59/100\n",
            "\u001b[1m625/625\u001b[0m \u001b[32m━━━━━━━━━━━━━━━━━━━━\u001b[0m\u001b[37m\u001b[0m \u001b[1m9s\u001b[0m 11ms/step - binary_accuracy: 0.7459 - loss: 0.5277 - val_binary_accuracy: 0.7850 - val_loss: 0.4993\n",
            "Epoch 60/100\n",
            "\u001b[1m625/625\u001b[0m \u001b[32m━━━━━━━━━━━━━━━━━━━━\u001b[0m\u001b[37m\u001b[0m \u001b[1m8s\u001b[0m 13ms/step - binary_accuracy: 0.7540 - loss: 0.5244 - val_binary_accuracy: 0.7876 - val_loss: 0.4977\n",
            "Epoch 61/100\n",
            "\u001b[1m625/625\u001b[0m \u001b[32m━━━━━━━━━━━━━━━━━━━━\u001b[0m\u001b[37m\u001b[0m \u001b[1m7s\u001b[0m 11ms/step - binary_accuracy: 0.7567 - loss: 0.5182 - val_binary_accuracy: 0.7884 - val_loss: 0.4964\n",
            "Epoch 62/100\n",
            "\u001b[1m625/625\u001b[0m \u001b[32m━━━━━━━━━━━━━━━━━━━━\u001b[0m\u001b[37m\u001b[0m \u001b[1m8s\u001b[0m 13ms/step - binary_accuracy: 0.7485 - loss: 0.5224 - val_binary_accuracy: 0.7860 - val_loss: 0.4964\n",
            "Epoch 63/100\n",
            "\u001b[1m625/625\u001b[0m \u001b[32m━━━━━━━━━━━━━━━━━━━━\u001b[0m\u001b[37m\u001b[0m \u001b[1m7s\u001b[0m 11ms/step - binary_accuracy: 0.7466 - loss: 0.5197 - val_binary_accuracy: 0.7894 - val_loss: 0.4943\n",
            "Epoch 64/100\n",
            "\u001b[1m625/625\u001b[0m \u001b[32m━━━━━━━━━━━━━━━━━━━━\u001b[0m\u001b[37m\u001b[0m \u001b[1m9s\u001b[0m 14ms/step - binary_accuracy: 0.7470 - loss: 0.5229 - val_binary_accuracy: 0.7886 - val_loss: 0.4950\n",
            "Epoch 65/100\n",
            "\u001b[1m625/625\u001b[0m \u001b[32m━━━━━━━━━━━━━━━━━━━━\u001b[0m\u001b[37m\u001b[0m \u001b[1m8s\u001b[0m 13ms/step - binary_accuracy: 0.7556 - loss: 0.5146 - val_binary_accuracy: 0.7894 - val_loss: 0.4932\n",
            "Epoch 66/100\n",
            "\u001b[1m625/625\u001b[0m \u001b[32m━━━━━━━━━━━━━━━━━━━━\u001b[0m\u001b[37m\u001b[0m \u001b[1m7s\u001b[0m 11ms/step - binary_accuracy: 0.7565 - loss: 0.5177 - val_binary_accuracy: 0.7904 - val_loss: 0.4931\n",
            "Epoch 67/100\n",
            "\u001b[1m625/625\u001b[0m \u001b[32m━━━━━━━━━━━━━━━━━━━━\u001b[0m\u001b[37m\u001b[0m \u001b[1m8s\u001b[0m 13ms/step - binary_accuracy: 0.7552 - loss: 0.5164 - val_binary_accuracy: 0.7898 - val_loss: 0.4932\n",
            "Epoch 68/100\n",
            "\u001b[1m625/625\u001b[0m \u001b[32m━━━━━━━━━━━━━━━━━━━━\u001b[0m\u001b[37m\u001b[0m \u001b[1m8s\u001b[0m 11ms/step - binary_accuracy: 0.7529 - loss: 0.5200 - val_binary_accuracy: 0.7896 - val_loss: 0.4934\n",
            "Epoch 69/100\n",
            "\u001b[1m625/625\u001b[0m \u001b[32m━━━━━━━━━━━━━━━━━━━━\u001b[0m\u001b[37m\u001b[0m \u001b[1m8s\u001b[0m 13ms/step - binary_accuracy: 0.7525 - loss: 0.5163 - val_binary_accuracy: 0.7892 - val_loss: 0.4916\n",
            "Epoch 70/100\n",
            "\u001b[1m625/625\u001b[0m \u001b[32m━━━━━━━━━━━━━━━━━━━━\u001b[0m\u001b[37m\u001b[0m \u001b[1m7s\u001b[0m 11ms/step - binary_accuracy: 0.7523 - loss: 0.5151 - val_binary_accuracy: 0.7908 - val_loss: 0.4904\n",
            "Epoch 71/100\n",
            "\u001b[1m625/625\u001b[0m \u001b[32m━━━━━━━━━━━━━━━━━━━━\u001b[0m\u001b[37m\u001b[0m \u001b[1m10s\u001b[0m 11ms/step - binary_accuracy: 0.7562 - loss: 0.5124 - val_binary_accuracy: 0.7916 - val_loss: 0.4898\n",
            "Epoch 72/100\n",
            "\u001b[1m625/625\u001b[0m \u001b[32m━━━━━━━━━━━━━━━━━━━━\u001b[0m\u001b[37m\u001b[0m \u001b[1m11s\u001b[0m 12ms/step - binary_accuracy: 0.7552 - loss: 0.5163 - val_binary_accuracy: 0.7914 - val_loss: 0.4897\n",
            "Epoch 73/100\n",
            "\u001b[1m625/625\u001b[0m \u001b[32m━━━━━━━━━━━━━━━━━━━━\u001b[0m\u001b[37m\u001b[0m \u001b[1m8s\u001b[0m 13ms/step - binary_accuracy: 0.7589 - loss: 0.5126 - val_binary_accuracy: 0.7920 - val_loss: 0.4890\n",
            "Epoch 74/100\n",
            "\u001b[1m625/625\u001b[0m \u001b[32m━━━━━━━━━━━━━━━━━━━━\u001b[0m\u001b[37m\u001b[0m \u001b[1m7s\u001b[0m 11ms/step - binary_accuracy: 0.7599 - loss: 0.5074 - val_binary_accuracy: 0.7916 - val_loss: 0.4881\n",
            "Epoch 75/100\n",
            "\u001b[1m625/625\u001b[0m \u001b[32m━━━━━━━━━━━━━━━━━━━━\u001b[0m\u001b[37m\u001b[0m \u001b[1m8s\u001b[0m 13ms/step - binary_accuracy: 0.7577 - loss: 0.5152 - val_binary_accuracy: 0.7908 - val_loss: 0.4886\n",
            "Epoch 76/100\n",
            "\u001b[1m625/625\u001b[0m \u001b[32m━━━━━━━━━━━━━━━━━━━━\u001b[0m\u001b[37m\u001b[0m \u001b[1m9s\u001b[0m 12ms/step - binary_accuracy: 0.7607 - loss: 0.5140 - val_binary_accuracy: 0.7904 - val_loss: 0.4883\n",
            "Epoch 77/100\n",
            "\u001b[1m625/625\u001b[0m \u001b[32m━━━━━━━━━━━━━━━━━━━━\u001b[0m\u001b[37m\u001b[0m \u001b[1m8s\u001b[0m 13ms/step - binary_accuracy: 0.7538 - loss: 0.5136 - val_binary_accuracy: 0.7912 - val_loss: 0.4875\n",
            "Epoch 78/100\n",
            "\u001b[1m625/625\u001b[0m \u001b[32m━━━━━━━━━━━━━━━━━━━━\u001b[0m\u001b[37m\u001b[0m \u001b[1m7s\u001b[0m 12ms/step - binary_accuracy: 0.7514 - loss: 0.5154 - val_binary_accuracy: 0.7912 - val_loss: 0.4868\n",
            "Epoch 79/100\n",
            "\u001b[1m625/625\u001b[0m \u001b[32m━━━━━━━━━━━━━━━━━━━━\u001b[0m\u001b[37m\u001b[0m \u001b[1m11s\u001b[0m 13ms/step - binary_accuracy: 0.7548 - loss: 0.5133 - val_binary_accuracy: 0.7902 - val_loss: 0.4871\n",
            "Epoch 80/100\n",
            "\u001b[1m625/625\u001b[0m \u001b[32m━━━━━━━━━━━━━━━━━━━━\u001b[0m\u001b[37m\u001b[0m \u001b[1m9s\u001b[0m 11ms/step - binary_accuracy: 0.7537 - loss: 0.5166 - val_binary_accuracy: 0.7900 - val_loss: 0.4874\n",
            "Epoch 81/100\n",
            "\u001b[1m625/625\u001b[0m \u001b[32m━━━━━━━━━━━━━━━━━━━━\u001b[0m\u001b[37m\u001b[0m \u001b[1m9s\u001b[0m 14ms/step - binary_accuracy: 0.7573 - loss: 0.5112 - val_binary_accuracy: 0.7896 - val_loss: 0.4871\n",
            "Epoch 82/100\n",
            "\u001b[1m625/625\u001b[0m \u001b[32m━━━━━━━━━━━━━━━━━━━━\u001b[0m\u001b[37m\u001b[0m \u001b[1m8s\u001b[0m 11ms/step - binary_accuracy: 0.7606 - loss: 0.5111 - val_binary_accuracy: 0.7904 - val_loss: 0.4856\n",
            "Epoch 83/100\n",
            "\u001b[1m625/625\u001b[0m \u001b[32m━━━━━━━━━━━━━━━━━━━━\u001b[0m\u001b[37m\u001b[0m \u001b[1m16s\u001b[0m 26ms/step - binary_accuracy: 0.7602 - loss: 0.5087 - val_binary_accuracy: 0.7908 - val_loss: 0.4846\n",
            "Epoch 84/100\n",
            "\u001b[1m625/625\u001b[0m \u001b[32m━━━━━━━━━━━━━━━━━━━━\u001b[0m\u001b[37m\u001b[0m \u001b[1m9s\u001b[0m 15ms/step - binary_accuracy: 0.7562 - loss: 0.5145 - val_binary_accuracy: 0.7900 - val_loss: 0.4847\n",
            "Epoch 85/100\n",
            "\u001b[1m625/625\u001b[0m \u001b[32m━━━━━━━━━━━━━━━━━━━━\u001b[0m\u001b[37m\u001b[0m \u001b[1m8s\u001b[0m 12ms/step - binary_accuracy: 0.7640 - loss: 0.5087 - val_binary_accuracy: 0.7914 - val_loss: 0.4842\n",
            "Epoch 86/100\n",
            "\u001b[1m625/625\u001b[0m \u001b[32m━━━━━━━━━━━━━━━━━━━━\u001b[0m\u001b[37m\u001b[0m \u001b[1m7s\u001b[0m 11ms/step - binary_accuracy: 0.7570 - loss: 0.5101 - val_binary_accuracy: 0.7918 - val_loss: 0.4839\n",
            "Epoch 87/100\n",
            "\u001b[1m625/625\u001b[0m \u001b[32m━━━━━━━━━━━━━━━━━━━━\u001b[0m\u001b[37m\u001b[0m \u001b[1m11s\u001b[0m 13ms/step - binary_accuracy: 0.7581 - loss: 0.5063 - val_binary_accuracy: 0.7908 - val_loss: 0.4837\n",
            "Epoch 88/100\n",
            "\u001b[1m625/625\u001b[0m \u001b[32m━━━━━━━━━━━━━━━━━━━━\u001b[0m\u001b[37m\u001b[0m \u001b[1m10s\u001b[0m 13ms/step - binary_accuracy: 0.7605 - loss: 0.5098 - val_binary_accuracy: 0.7916 - val_loss: 0.4829\n",
            "Epoch 89/100\n",
            "\u001b[1m625/625\u001b[0m \u001b[32m━━━━━━━━━━━━━━━━━━━━\u001b[0m\u001b[37m\u001b[0m \u001b[1m9s\u001b[0m 11ms/step - binary_accuracy: 0.7563 - loss: 0.5113 - val_binary_accuracy: 0.7918 - val_loss: 0.4831\n",
            "Epoch 90/100\n",
            "\u001b[1m625/625\u001b[0m \u001b[32m━━━━━━━━━━━━━━━━━━━━\u001b[0m\u001b[37m\u001b[0m \u001b[1m8s\u001b[0m 14ms/step - binary_accuracy: 0.7578 - loss: 0.5122 - val_binary_accuracy: 0.7924 - val_loss: 0.4823\n",
            "Epoch 91/100\n",
            "\u001b[1m625/625\u001b[0m \u001b[32m━━━━━━━━━━━━━━━━━━━━\u001b[0m\u001b[37m\u001b[0m \u001b[1m7s\u001b[0m 11ms/step - binary_accuracy: 0.7623 - loss: 0.5069 - val_binary_accuracy: 0.7930 - val_loss: 0.4815\n",
            "Epoch 92/100\n",
            "\u001b[1m625/625\u001b[0m \u001b[32m━━━━━━━━━━━━━━━━━━━━\u001b[0m\u001b[37m\u001b[0m \u001b[1m8s\u001b[0m 13ms/step - binary_accuracy: 0.7638 - loss: 0.5075 - val_binary_accuracy: 0.7944 - val_loss: 0.4814\n",
            "Epoch 93/100\n",
            "\u001b[1m625/625\u001b[0m \u001b[32m━━━━━━━━━━━━━━━━━━━━\u001b[0m\u001b[37m\u001b[0m \u001b[1m7s\u001b[0m 11ms/step - binary_accuracy: 0.7590 - loss: 0.5106 - val_binary_accuracy: 0.7932 - val_loss: 0.4819\n",
            "Epoch 94/100\n",
            "\u001b[1m625/625\u001b[0m \u001b[32m━━━━━━━━━━━━━━━━━━━━\u001b[0m\u001b[37m\u001b[0m \u001b[1m8s\u001b[0m 13ms/step - binary_accuracy: 0.7637 - loss: 0.5051 - val_binary_accuracy: 0.7936 - val_loss: 0.4813\n",
            "Epoch 95/100\n",
            "\u001b[1m625/625\u001b[0m \u001b[32m━━━━━━━━━━━━━━━━━━━━\u001b[0m\u001b[37m\u001b[0m \u001b[1m8s\u001b[0m 13ms/step - binary_accuracy: 0.7570 - loss: 0.5104 - val_binary_accuracy: 0.7946 - val_loss: 0.4808\n",
            "Epoch 96/100\n",
            "\u001b[1m625/625\u001b[0m \u001b[32m━━━━━━━━━━━━━━━━━━━━\u001b[0m\u001b[37m\u001b[0m \u001b[1m7s\u001b[0m 12ms/step - binary_accuracy: 0.7657 - loss: 0.5029 - val_binary_accuracy: 0.7964 - val_loss: 0.4801\n",
            "Epoch 97/100\n",
            "\u001b[1m625/625\u001b[0m \u001b[32m━━━━━━━━━━━━━━━━━━━━\u001b[0m\u001b[37m\u001b[0m \u001b[1m8s\u001b[0m 13ms/step - binary_accuracy: 0.7588 - loss: 0.5085 - val_binary_accuracy: 0.7956 - val_loss: 0.4798\n",
            "Epoch 98/100\n",
            "\u001b[1m625/625\u001b[0m \u001b[32m━━━━━━━━━━━━━━━━━━━━\u001b[0m\u001b[37m\u001b[0m \u001b[1m7s\u001b[0m 11ms/step - binary_accuracy: 0.7626 - loss: 0.5038 - val_binary_accuracy: 0.7950 - val_loss: 0.4795\n",
            "Epoch 99/100\n",
            "\u001b[1m625/625\u001b[0m \u001b[32m━━━━━━━━━━━━━━━━━━━━\u001b[0m\u001b[37m\u001b[0m \u001b[1m12s\u001b[0m 13ms/step - binary_accuracy: 0.7567 - loss: 0.5066 - val_binary_accuracy: 0.7972 - val_loss: 0.4790\n",
            "Epoch 100/100\n",
            "\u001b[1m625/625\u001b[0m \u001b[32m━━━━━━━━━━━━━━━━━━━━\u001b[0m\u001b[37m\u001b[0m \u001b[1m8s\u001b[0m 12ms/step - binary_accuracy: 0.7619 - loss: 0.5078 - val_binary_accuracy: 0.7968 - val_loss: 0.4791\n",
            "Accuracy max 79.7 % reached at the epoch 99\n"
          ]
        }
      ]
    },
    {
      "cell_type": "markdown",
      "source": [
        "### 4.3. Evaluation and predictions"
      ],
      "metadata": {
        "id": "B_NpeYlfcWR5"
      }
    },
    {
      "cell_type": "code",
      "source": [
        "def get_predictions(dataset):\n",
        "  loss_test, accuracy_test = classifier_model.evaluate(dataset, verbose=0)\n",
        "  predictions = classifier_model.predict(dataset, verbose=0)\n",
        "  print(\"Test loss value %0.1f \\nTest accuracy: %0.1f %%\" %(loss_test, 100*accuracy_test))\n",
        "  return predictions"
      ],
      "metadata": {
        "id": "pWv3x_2tO6L4"
      },
      "execution_count": null,
      "outputs": []
    },
    {
      "cell_type": "code",
      "source": [
        "predictions = get_predictions(raw_test_ds)"
      ],
      "metadata": {
        "colab": {
          "base_uri": "https://localhost:8080/"
        },
        "id": "YpbdyqG2O_N6",
        "outputId": "5376a2cf-4be2-454c-cacd-28971ed42b96"
      },
      "execution_count": null,
      "outputs": [
        {
          "output_type": "stream",
          "name": "stdout",
          "text": [
            "Test loss value 0.5 \n",
            "Test accuracy: 80.0 %\n"
          ]
        }
      ]
    },
    {
      "cell_type": "code",
      "source": [
        "plot_evaluation(raw_test_ds, predictions)"
      ],
      "metadata": {
        "colab": {
          "base_uri": "https://localhost:8080/",
          "height": 591
        },
        "id": "eXDOnty4PUxd",
        "outputId": "f31deff7-8666-4a27-f874-93021dff1ecf"
      },
      "execution_count": null,
      "outputs": [
        {
          "output_type": "stream",
          "name": "stdout",
          "text": [
            "############################\n",
            "Evaluation on the test set: \n",
            "############################\n",
            "Accuracy...0.8002\n",
            "Recall.....0.8268\n",
            "F1-score...0.8054\n"
          ]
        },
        {
          "output_type": "display_data",
          "data": {
            "text/plain": [
              "<Figure size 1200x500 with 2 Axes>"
            ],
            "image/png": "[encoded data removed]"
          },
          "metadata": {}
        }
      ]
    },
    {
      "cell_type": "markdown",
      "source": [
        "---\n",
        "\n",
        "\n",
        "## **5. Embedding space exploration**"
      ],
      "metadata": {
        "id": "O2ayOZiwYfeN"
      }
    },
    {
      "cell_type": "markdown",
      "source": [
        "### 5.1. Embedding dictionary"
      ],
      "metadata": {
        "id": "h2ApzsXuYoie"
      }
    },
    {
      "cell_type": "code",
      "source": [
        "if device == \"GPU\":\n",
        "  vocab = vectorize_layer.get_vocabulary()\n",
        "  dictionary_embedding = {vocab[i]:weights[i] for i in range(len(vocab))} # build the embedding dictionary\n",
        "\n",
        "  with open('vocab.pkl', 'wb') as f:\n",
        "    pickle.dump(vocab, f)\n",
        "\n",
        "  with open('dictionary_embedding.pkl', 'wb') as f:\n",
        "    pickle.dump(dictionary_embedding, f)"
      ],
      "metadata": {
        "id": "KEAQX3iF4NDi"
      },
      "execution_count": null,
      "outputs": []
    },
    {
      "cell_type": "code",
      "source": [
        "dictionary_embedding[\"money\"]"
      ],
      "metadata": {
        "id": "UF-ehK1Lie7m",
        "colab": {
          "base_uri": "https://localhost:8080/"
        },
        "outputId": "0f24c975-14bd-4287-f1f4-89e1c9b4cd10"
      },
      "execution_count": null,
      "outputs": [
        {
          "output_type": "execute_result",
          "data": {
            "text/plain": [
              "array([-0.49468917, -0.24695764, -0.35080495,  0.17630659,  0.40587196,\n",
              "        0.45379823,  0.42825904, -0.16315092,  0.661346  ,  0.2372665 ,\n",
              "        0.7107482 , -0.30229184,  0.40659153,  0.7007456 ,  0.20098907,\n",
              "        0.7558826 ], dtype=float32)"
            ]
          },
          "metadata": {},
          "execution_count": 63
        }
      ]
    },
    {
      "cell_type": "markdown",
      "source": [
        "### 5.2. Similarities and analogies"
      ],
      "metadata": {
        "id": "jkHFz7FSYv5R"
      }
    },
    {
      "cell_type": "code",
      "source": [
        "# get the distance between two elements in the embedding space\n",
        "\n",
        "def get_distance(token1, token2):\n",
        "  p1 = dictionary_embedding[token1]\n",
        "  p2 = dictionary_embedding[token2]\n",
        "  distance = np.linalg.norm(p2-p1)\n",
        "  return distance\n",
        "\n",
        "# get the cosinus similarity between two elements in the embedding space\n",
        "\n",
        "def get_cosinus_similarity(token1, token2):\n",
        "  p1 = dictionary_embedding[token1]\n",
        "  p2 = dictionary_embedding[token2]\n",
        "  dot_product = np.dot(p1, p2)\n",
        "  magnitude_1 = np.linalg.norm(p1)\n",
        "  magnitude_2 = np.linalg.norm(p2)\n",
        "  cosine_sim = dot_product / (magnitude_1 * magnitude_2)\n",
        "  return cosine_sim"
      ],
      "metadata": {
        "id": "D32RiQSyihOX"
      },
      "execution_count": null,
      "outputs": []
    },
    {
      "cell_type": "code",
      "source": [
        "# get elements closest to a specific element in the embedding space\n",
        "\n",
        "def get_synomym(token, n, used_distance=True):\n",
        "  p1 = dictionary_embedding[token]\n",
        "  candidate_list = {} # stores n synonyms\n",
        "  for i in range(1, len(vocab)): # only the first 1000 words of the embedding dictionary are searched\n",
        "    token_candidate = vocab[i]\n",
        "    if used_distance == True: candidate_list[token_candidate] = get_distance(token, token_candidate)\n",
        "    else: candidate_list[token_candidate] = get_cosinus_similarity(token, token_candidate)\n",
        "\n",
        "  sorted_items = sorted(candidate_list.items(), key=lambda item: item[1])\n",
        "\n",
        "  if used_distance == True: synonym_list = sorted_items[1:n+1]\n",
        "  else: synonym_list = sorted_items[-(n+1):-1]\n",
        "  words = [(item[0], item[1]) for item in synonym_list]\n",
        "  return print(words)"
      ],
      "metadata": {
        "id": "FNWrbXIUiuI7"
      },
      "execution_count": null,
      "outputs": []
    },
    {
      "cell_type": "code",
      "source": [
        "word = \"terrible\"\n",
        "nb = 10\n",
        "get_synomym(word, nb, used_distance=False)"
      ],
      "metadata": {
        "id": "8sUp8U2FiwUP",
        "colab": {
          "base_uri": "https://localhost:8080/"
        },
        "outputId": "a6611861-9029-4faa-e217-603f76dad06c"
      },
      "execution_count": null,
      "outputs": [
        {
          "output_type": "stream",
          "name": "stdout",
          "text": [
            "[('ridiculous', 0.8171861), ('poor', 0.81820154), ('pathetic', 0.81890875), ('minimal', 0.8197048), ('atrocious', 0.826706), ('uninspired', 0.8299742), ('appalling', 0.8299839), ('laughable', 0.83978975), ('unfunny', 0.8417924), ('horrible', 0.9106703)]\n"
          ]
        }
      ]
    },
    {
      "cell_type": "code",
      "source": [
        "def get_analogy(vector, n):\n",
        "  candidate_list = {} # stores n synonyms\n",
        "  for i in range(1, len(vocab)):\n",
        "    token_candidate = vocab[i]\n",
        "    vector_candidate = dictionary_embedding[token_candidate]\n",
        "    candidate_list[token_candidate] = sum(abs(vector - vector_candidate))\n",
        "\n",
        "  sorted_items = sorted(candidate_list.items(), key=lambda item: item[1])\n",
        "  synonym_list = sorted_items[0:n]\n",
        "  words = [item[0] for item in synonym_list]\n",
        "  print(words)"
      ],
      "metadata": {
        "id": "FlzOsPSGRUmY"
      },
      "execution_count": null,
      "outputs": []
    },
    {
      "cell_type": "code",
      "source": [
        "analogy = dictionary_embedding[\"funny\"] - dictionary_embedding[\"nice\"] + dictionary_embedding[\"terrible\"]\n",
        "get_analogy(analogy, 5)"
      ],
      "metadata": {
        "id": "TvO-QKgeRWPa",
        "colab": {
          "base_uri": "https://localhost:8080/"
        },
        "outputId": "fcd1e3f2-4048-47b0-f879-7fa7bcb8a91b"
      },
      "execution_count": null,
      "outputs": [
        {
          "output_type": "stream",
          "name": "stdout",
          "text": [
            "['boring', 'unbearable', 'unwatchable', 'unrealistic', 'dull']\n"
          ]
        }
      ]
    },
    {
      "cell_type": "markdown",
      "source": [
        "---\n",
        "\n",
        "\n",
        "## **6. References**\n",
        "\n",
        "| | | | | |\n",
        "|------|------|------|------|------|\n",
        "| Index | Title | Author(s) | Type | Comments |\n",
        "|[[1]](https://aclanthology.org/P11-1015.pdf) | IMDB dataset | Andrew L. Maas & al | dataset & paper | - |\n",
        "|[[2]](https://www.tensorflow.org/tutorials/keras/text_classification) | Basic text classification | TensorFlow | dataset | - |\n",
        "|[[3]](https://www.tensorflow.org/guide/data_performance) | Better performance with the tf.data API | TensorFlow | Tutoriels | - |\n",
        "|[[4]](https://www.cs.toronto.edu/~lczhang/360/lec/w05/w2v.html) | Word2Vec and GloVe Vectors | Toronto university | website | - |"
      ],
      "metadata": {
        "id": "iA4CnxdVY7OH"
      }
    }
  ]
}